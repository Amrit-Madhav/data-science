{
  "nbformat": 4,
  "nbformat_minor": 0,
  "metadata": {
    "colab": {
      "name": "Group 8:Speech_Recognition_using_Transformers.ipynb",
      "provenance": [],
      "collapsed_sections": []
    },
    "kernelspec": {
      "name": "python3",
      "display_name": "Python 3"
    },
    "language_info": {
      "name": "python"
    },
    "widgets": {
      "application/vnd.jupyter.widget-state+json": {
        "d6e9b6aedaad48c4a9c67784f674fd71": {
          "model_module": "@jupyter-widgets/controls",
          "model_name": "HBoxModel",
          "model_module_version": "1.5.0",
          "state": {
            "_dom_classes": [],
            "_model_module": "@jupyter-widgets/controls",
            "_model_module_version": "1.5.0",
            "_model_name": "HBoxModel",
            "_view_count": null,
            "_view_module": "@jupyter-widgets/controls",
            "_view_module_version": "1.5.0",
            "_view_name": "HBoxView",
            "box_style": "",
            "children": [
              "IPY_MODEL_ad374cd673894c2fb5a0e8e920508778",
              "IPY_MODEL_c68457482aa34a3e80924c953819456b",
              "IPY_MODEL_1f54638134094c14bbd7386c57fd1a85"
            ],
            "layout": "IPY_MODEL_d8fee38a9dc347a29ab11f7518b054b3"
          }
        },
        "ad374cd673894c2fb5a0e8e920508778": {
          "model_module": "@jupyter-widgets/controls",
          "model_name": "HTMLModel",
          "model_module_version": "1.5.0",
          "state": {
            "_dom_classes": [],
            "_model_module": "@jupyter-widgets/controls",
            "_model_module_version": "1.5.0",
            "_model_name": "HTMLModel",
            "_view_count": null,
            "_view_module": "@jupyter-widgets/controls",
            "_view_module_version": "1.5.0",
            "_view_name": "HTMLView",
            "description": "",
            "description_tooltip": null,
            "layout": "IPY_MODEL_6ab1127c077f4d29b01e7e7716e49f70",
            "placeholder": "​",
            "style": "IPY_MODEL_1d41846c943e4635a050b0cc99b2b370",
            "value": "Downloading: 100%"
          }
        },
        "c68457482aa34a3e80924c953819456b": {
          "model_module": "@jupyter-widgets/controls",
          "model_name": "FloatProgressModel",
          "model_module_version": "1.5.0",
          "state": {
            "_dom_classes": [],
            "_model_module": "@jupyter-widgets/controls",
            "_model_module_version": "1.5.0",
            "_model_name": "FloatProgressModel",
            "_view_count": null,
            "_view_module": "@jupyter-widgets/controls",
            "_view_module_version": "1.5.0",
            "_view_name": "ProgressView",
            "bar_style": "success",
            "description": "",
            "description_tooltip": null,
            "layout": "IPY_MODEL_b0951223206a46da8b967b1007854420",
            "max": 158,
            "min": 0,
            "orientation": "horizontal",
            "style": "IPY_MODEL_75f57bf6d6d14b03a6ed03c909fd3751",
            "value": 158
          }
        },
        "1f54638134094c14bbd7386c57fd1a85": {
          "model_module": "@jupyter-widgets/controls",
          "model_name": "HTMLModel",
          "model_module_version": "1.5.0",
          "state": {
            "_dom_classes": [],
            "_model_module": "@jupyter-widgets/controls",
            "_model_module_version": "1.5.0",
            "_model_name": "HTMLModel",
            "_view_count": null,
            "_view_module": "@jupyter-widgets/controls",
            "_view_module_version": "1.5.0",
            "_view_name": "HTMLView",
            "description": "",
            "description_tooltip": null,
            "layout": "IPY_MODEL_9febb857df624f6b9a8f8b2ed9e869ed",
            "placeholder": "​",
            "style": "IPY_MODEL_e0faea8408d14b93813d4049455b1ba9",
            "value": " 158/158 [00:00&lt;00:00, 2.71kB/s]"
          }
        },
        "d8fee38a9dc347a29ab11f7518b054b3": {
          "model_module": "@jupyter-widgets/base",
          "model_name": "LayoutModel",
          "model_module_version": "1.2.0",
          "state": {
            "_model_module": "@jupyter-widgets/base",
            "_model_module_version": "1.2.0",
            "_model_name": "LayoutModel",
            "_view_count": null,
            "_view_module": "@jupyter-widgets/base",
            "_view_module_version": "1.2.0",
            "_view_name": "LayoutView",
            "align_content": null,
            "align_items": null,
            "align_self": null,
            "border": null,
            "bottom": null,
            "display": null,
            "flex": null,
            "flex_flow": null,
            "grid_area": null,
            "grid_auto_columns": null,
            "grid_auto_flow": null,
            "grid_auto_rows": null,
            "grid_column": null,
            "grid_gap": null,
            "grid_row": null,
            "grid_template_areas": null,
            "grid_template_columns": null,
            "grid_template_rows": null,
            "height": null,
            "justify_content": null,
            "justify_items": null,
            "left": null,
            "margin": null,
            "max_height": null,
            "max_width": null,
            "min_height": null,
            "min_width": null,
            "object_fit": null,
            "object_position": null,
            "order": null,
            "overflow": null,
            "overflow_x": null,
            "overflow_y": null,
            "padding": null,
            "right": null,
            "top": null,
            "visibility": null,
            "width": null
          }
        },
        "6ab1127c077f4d29b01e7e7716e49f70": {
          "model_module": "@jupyter-widgets/base",
          "model_name": "LayoutModel",
          "model_module_version": "1.2.0",
          "state": {
            "_model_module": "@jupyter-widgets/base",
            "_model_module_version": "1.2.0",
            "_model_name": "LayoutModel",
            "_view_count": null,
            "_view_module": "@jupyter-widgets/base",
            "_view_module_version": "1.2.0",
            "_view_name": "LayoutView",
            "align_content": null,
            "align_items": null,
            "align_self": null,
            "border": null,
            "bottom": null,
            "display": null,
            "flex": null,
            "flex_flow": null,
            "grid_area": null,
            "grid_auto_columns": null,
            "grid_auto_flow": null,
            "grid_auto_rows": null,
            "grid_column": null,
            "grid_gap": null,
            "grid_row": null,
            "grid_template_areas": null,
            "grid_template_columns": null,
            "grid_template_rows": null,
            "height": null,
            "justify_content": null,
            "justify_items": null,
            "left": null,
            "margin": null,
            "max_height": null,
            "max_width": null,
            "min_height": null,
            "min_width": null,
            "object_fit": null,
            "object_position": null,
            "order": null,
            "overflow": null,
            "overflow_x": null,
            "overflow_y": null,
            "padding": null,
            "right": null,
            "top": null,
            "visibility": null,
            "width": null
          }
        },
        "1d41846c943e4635a050b0cc99b2b370": {
          "model_module": "@jupyter-widgets/controls",
          "model_name": "DescriptionStyleModel",
          "model_module_version": "1.5.0",
          "state": {
            "_model_module": "@jupyter-widgets/controls",
            "_model_module_version": "1.5.0",
            "_model_name": "DescriptionStyleModel",
            "_view_count": null,
            "_view_module": "@jupyter-widgets/base",
            "_view_module_version": "1.2.0",
            "_view_name": "StyleView",
            "description_width": ""
          }
        },
        "b0951223206a46da8b967b1007854420": {
          "model_module": "@jupyter-widgets/base",
          "model_name": "LayoutModel",
          "model_module_version": "1.2.0",
          "state": {
            "_model_module": "@jupyter-widgets/base",
            "_model_module_version": "1.2.0",
            "_model_name": "LayoutModel",
            "_view_count": null,
            "_view_module": "@jupyter-widgets/base",
            "_view_module_version": "1.2.0",
            "_view_name": "LayoutView",
            "align_content": null,
            "align_items": null,
            "align_self": null,
            "border": null,
            "bottom": null,
            "display": null,
            "flex": null,
            "flex_flow": null,
            "grid_area": null,
            "grid_auto_columns": null,
            "grid_auto_flow": null,
            "grid_auto_rows": null,
            "grid_column": null,
            "grid_gap": null,
            "grid_row": null,
            "grid_template_areas": null,
            "grid_template_columns": null,
            "grid_template_rows": null,
            "height": null,
            "justify_content": null,
            "justify_items": null,
            "left": null,
            "margin": null,
            "max_height": null,
            "max_width": null,
            "min_height": null,
            "min_width": null,
            "object_fit": null,
            "object_position": null,
            "order": null,
            "overflow": null,
            "overflow_x": null,
            "overflow_y": null,
            "padding": null,
            "right": null,
            "top": null,
            "visibility": null,
            "width": null
          }
        },
        "75f57bf6d6d14b03a6ed03c909fd3751": {
          "model_module": "@jupyter-widgets/controls",
          "model_name": "ProgressStyleModel",
          "model_module_version": "1.5.0",
          "state": {
            "_model_module": "@jupyter-widgets/controls",
            "_model_module_version": "1.5.0",
            "_model_name": "ProgressStyleModel",
            "_view_count": null,
            "_view_module": "@jupyter-widgets/base",
            "_view_module_version": "1.2.0",
            "_view_name": "StyleView",
            "bar_color": null,
            "description_width": ""
          }
        },
        "9febb857df624f6b9a8f8b2ed9e869ed": {
          "model_module": "@jupyter-widgets/base",
          "model_name": "LayoutModel",
          "model_module_version": "1.2.0",
          "state": {
            "_model_module": "@jupyter-widgets/base",
            "_model_module_version": "1.2.0",
            "_model_name": "LayoutModel",
            "_view_count": null,
            "_view_module": "@jupyter-widgets/base",
            "_view_module_version": "1.2.0",
            "_view_name": "LayoutView",
            "align_content": null,
            "align_items": null,
            "align_self": null,
            "border": null,
            "bottom": null,
            "display": null,
            "flex": null,
            "flex_flow": null,
            "grid_area": null,
            "grid_auto_columns": null,
            "grid_auto_flow": null,
            "grid_auto_rows": null,
            "grid_column": null,
            "grid_gap": null,
            "grid_row": null,
            "grid_template_areas": null,
            "grid_template_columns": null,
            "grid_template_rows": null,
            "height": null,
            "justify_content": null,
            "justify_items": null,
            "left": null,
            "margin": null,
            "max_height": null,
            "max_width": null,
            "min_height": null,
            "min_width": null,
            "object_fit": null,
            "object_position": null,
            "order": null,
            "overflow": null,
            "overflow_x": null,
            "overflow_y": null,
            "padding": null,
            "right": null,
            "top": null,
            "visibility": null,
            "width": null
          }
        },
        "e0faea8408d14b93813d4049455b1ba9": {
          "model_module": "@jupyter-widgets/controls",
          "model_name": "DescriptionStyleModel",
          "model_module_version": "1.5.0",
          "state": {
            "_model_module": "@jupyter-widgets/controls",
            "_model_module_version": "1.5.0",
            "_model_name": "DescriptionStyleModel",
            "_view_count": null,
            "_view_module": "@jupyter-widgets/base",
            "_view_module_version": "1.2.0",
            "_view_name": "StyleView",
            "description_width": ""
          }
        },
        "d73461ececc841b88725b6566b57fe9c": {
          "model_module": "@jupyter-widgets/controls",
          "model_name": "HBoxModel",
          "model_module_version": "1.5.0",
          "state": {
            "_dom_classes": [],
            "_model_module": "@jupyter-widgets/controls",
            "_model_module_version": "1.5.0",
            "_model_name": "HBoxModel",
            "_view_count": null,
            "_view_module": "@jupyter-widgets/controls",
            "_view_module_version": "1.5.0",
            "_view_name": "HBoxView",
            "box_style": "",
            "children": [
              "IPY_MODEL_4261a46c648d4fbf82bd8f403cc88dba",
              "IPY_MODEL_cbdcf2b244ce4e05aad7522bde18aa84",
              "IPY_MODEL_4349bdbe1e2742e5817e8c9acd143217"
            ],
            "layout": "IPY_MODEL_314d9275e1e74c579c55724213aa5693"
          }
        },
        "4261a46c648d4fbf82bd8f403cc88dba": {
          "model_module": "@jupyter-widgets/controls",
          "model_name": "HTMLModel",
          "model_module_version": "1.5.0",
          "state": {
            "_dom_classes": [],
            "_model_module": "@jupyter-widgets/controls",
            "_model_module_version": "1.5.0",
            "_model_name": "HTMLModel",
            "_view_count": null,
            "_view_module": "@jupyter-widgets/controls",
            "_view_module_version": "1.5.0",
            "_view_name": "HTMLView",
            "description": "",
            "description_tooltip": null,
            "layout": "IPY_MODEL_2aa452903ad84772b3b748854566f717",
            "placeholder": "​",
            "style": "IPY_MODEL_8fdeff5ee9dc42e79af3d4d4ff8acb9e",
            "value": "Downloading: 100%"
          }
        },
        "cbdcf2b244ce4e05aad7522bde18aa84": {
          "model_module": "@jupyter-widgets/controls",
          "model_name": "FloatProgressModel",
          "model_module_version": "1.5.0",
          "state": {
            "_dom_classes": [],
            "_model_module": "@jupyter-widgets/controls",
            "_model_module_version": "1.5.0",
            "_model_name": "FloatProgressModel",
            "_view_count": null,
            "_view_module": "@jupyter-widgets/controls",
            "_view_module_version": "1.5.0",
            "_view_name": "ProgressView",
            "bar_style": "success",
            "description": "",
            "description_tooltip": null,
            "layout": "IPY_MODEL_7dba78ae82d142a5962328f670c6d970",
            "max": 291,
            "min": 0,
            "orientation": "horizontal",
            "style": "IPY_MODEL_69ba891836cb413ba7e948071eadaf70",
            "value": 291
          }
        },
        "4349bdbe1e2742e5817e8c9acd143217": {
          "model_module": "@jupyter-widgets/controls",
          "model_name": "HTMLModel",
          "model_module_version": "1.5.0",
          "state": {
            "_dom_classes": [],
            "_model_module": "@jupyter-widgets/controls",
            "_model_module_version": "1.5.0",
            "_model_name": "HTMLModel",
            "_view_count": null,
            "_view_module": "@jupyter-widgets/controls",
            "_view_module_version": "1.5.0",
            "_view_name": "HTMLView",
            "description": "",
            "description_tooltip": null,
            "layout": "IPY_MODEL_9c2e79c807624e73b192e428647214a5",
            "placeholder": "​",
            "style": "IPY_MODEL_88b20d47b84240adbae42de997e61441",
            "value": " 291/291 [00:00&lt;00:00, 6.40kB/s]"
          }
        },
        "314d9275e1e74c579c55724213aa5693": {
          "model_module": "@jupyter-widgets/base",
          "model_name": "LayoutModel",
          "model_module_version": "1.2.0",
          "state": {
            "_model_module": "@jupyter-widgets/base",
            "_model_module_version": "1.2.0",
            "_model_name": "LayoutModel",
            "_view_count": null,
            "_view_module": "@jupyter-widgets/base",
            "_view_module_version": "1.2.0",
            "_view_name": "LayoutView",
            "align_content": null,
            "align_items": null,
            "align_self": null,
            "border": null,
            "bottom": null,
            "display": null,
            "flex": null,
            "flex_flow": null,
            "grid_area": null,
            "grid_auto_columns": null,
            "grid_auto_flow": null,
            "grid_auto_rows": null,
            "grid_column": null,
            "grid_gap": null,
            "grid_row": null,
            "grid_template_areas": null,
            "grid_template_columns": null,
            "grid_template_rows": null,
            "height": null,
            "justify_content": null,
            "justify_items": null,
            "left": null,
            "margin": null,
            "max_height": null,
            "max_width": null,
            "min_height": null,
            "min_width": null,
            "object_fit": null,
            "object_position": null,
            "order": null,
            "overflow": null,
            "overflow_x": null,
            "overflow_y": null,
            "padding": null,
            "right": null,
            "top": null,
            "visibility": null,
            "width": null
          }
        },
        "2aa452903ad84772b3b748854566f717": {
          "model_module": "@jupyter-widgets/base",
          "model_name": "LayoutModel",
          "model_module_version": "1.2.0",
          "state": {
            "_model_module": "@jupyter-widgets/base",
            "_model_module_version": "1.2.0",
            "_model_name": "LayoutModel",
            "_view_count": null,
            "_view_module": "@jupyter-widgets/base",
            "_view_module_version": "1.2.0",
            "_view_name": "LayoutView",
            "align_content": null,
            "align_items": null,
            "align_self": null,
            "border": null,
            "bottom": null,
            "display": null,
            "flex": null,
            "flex_flow": null,
            "grid_area": null,
            "grid_auto_columns": null,
            "grid_auto_flow": null,
            "grid_auto_rows": null,
            "grid_column": null,
            "grid_gap": null,
            "grid_row": null,
            "grid_template_areas": null,
            "grid_template_columns": null,
            "grid_template_rows": null,
            "height": null,
            "justify_content": null,
            "justify_items": null,
            "left": null,
            "margin": null,
            "max_height": null,
            "max_width": null,
            "min_height": null,
            "min_width": null,
            "object_fit": null,
            "object_position": null,
            "order": null,
            "overflow": null,
            "overflow_x": null,
            "overflow_y": null,
            "padding": null,
            "right": null,
            "top": null,
            "visibility": null,
            "width": null
          }
        },
        "8fdeff5ee9dc42e79af3d4d4ff8acb9e": {
          "model_module": "@jupyter-widgets/controls",
          "model_name": "DescriptionStyleModel",
          "model_module_version": "1.5.0",
          "state": {
            "_model_module": "@jupyter-widgets/controls",
            "_model_module_version": "1.5.0",
            "_model_name": "DescriptionStyleModel",
            "_view_count": null,
            "_view_module": "@jupyter-widgets/base",
            "_view_module_version": "1.2.0",
            "_view_name": "StyleView",
            "description_width": ""
          }
        },
        "7dba78ae82d142a5962328f670c6d970": {
          "model_module": "@jupyter-widgets/base",
          "model_name": "LayoutModel",
          "model_module_version": "1.2.0",
          "state": {
            "_model_module": "@jupyter-widgets/base",
            "_model_module_version": "1.2.0",
            "_model_name": "LayoutModel",
            "_view_count": null,
            "_view_module": "@jupyter-widgets/base",
            "_view_module_version": "1.2.0",
            "_view_name": "LayoutView",
            "align_content": null,
            "align_items": null,
            "align_self": null,
            "border": null,
            "bottom": null,
            "display": null,
            "flex": null,
            "flex_flow": null,
            "grid_area": null,
            "grid_auto_columns": null,
            "grid_auto_flow": null,
            "grid_auto_rows": null,
            "grid_column": null,
            "grid_gap": null,
            "grid_row": null,
            "grid_template_areas": null,
            "grid_template_columns": null,
            "grid_template_rows": null,
            "height": null,
            "justify_content": null,
            "justify_items": null,
            "left": null,
            "margin": null,
            "max_height": null,
            "max_width": null,
            "min_height": null,
            "min_width": null,
            "object_fit": null,
            "object_position": null,
            "order": null,
            "overflow": null,
            "overflow_x": null,
            "overflow_y": null,
            "padding": null,
            "right": null,
            "top": null,
            "visibility": null,
            "width": null
          }
        },
        "69ba891836cb413ba7e948071eadaf70": {
          "model_module": "@jupyter-widgets/controls",
          "model_name": "ProgressStyleModel",
          "model_module_version": "1.5.0",
          "state": {
            "_model_module": "@jupyter-widgets/controls",
            "_model_module_version": "1.5.0",
            "_model_name": "ProgressStyleModel",
            "_view_count": null,
            "_view_module": "@jupyter-widgets/base",
            "_view_module_version": "1.2.0",
            "_view_name": "StyleView",
            "bar_color": null,
            "description_width": ""
          }
        },
        "9c2e79c807624e73b192e428647214a5": {
          "model_module": "@jupyter-widgets/base",
          "model_name": "LayoutModel",
          "model_module_version": "1.2.0",
          "state": {
            "_model_module": "@jupyter-widgets/base",
            "_model_module_version": "1.2.0",
            "_model_name": "LayoutModel",
            "_view_count": null,
            "_view_module": "@jupyter-widgets/base",
            "_view_module_version": "1.2.0",
            "_view_name": "LayoutView",
            "align_content": null,
            "align_items": null,
            "align_self": null,
            "border": null,
            "bottom": null,
            "display": null,
            "flex": null,
            "flex_flow": null,
            "grid_area": null,
            "grid_auto_columns": null,
            "grid_auto_flow": null,
            "grid_auto_rows": null,
            "grid_column": null,
            "grid_gap": null,
            "grid_row": null,
            "grid_template_areas": null,
            "grid_template_columns": null,
            "grid_template_rows": null,
            "height": null,
            "justify_content": null,
            "justify_items": null,
            "left": null,
            "margin": null,
            "max_height": null,
            "max_width": null,
            "min_height": null,
            "min_width": null,
            "object_fit": null,
            "object_position": null,
            "order": null,
            "overflow": null,
            "overflow_x": null,
            "overflow_y": null,
            "padding": null,
            "right": null,
            "top": null,
            "visibility": null,
            "width": null
          }
        },
        "88b20d47b84240adbae42de997e61441": {
          "model_module": "@jupyter-widgets/controls",
          "model_name": "DescriptionStyleModel",
          "model_module_version": "1.5.0",
          "state": {
            "_model_module": "@jupyter-widgets/controls",
            "_model_module_version": "1.5.0",
            "_model_name": "DescriptionStyleModel",
            "_view_count": null,
            "_view_module": "@jupyter-widgets/base",
            "_view_module_version": "1.2.0",
            "_view_name": "StyleView",
            "description_width": ""
          }
        },
        "d789bb5ddfb34c73a0dee0124cf9e6ce": {
          "model_module": "@jupyter-widgets/controls",
          "model_name": "HBoxModel",
          "model_module_version": "1.5.0",
          "state": {
            "_dom_classes": [],
            "_model_module": "@jupyter-widgets/controls",
            "_model_module_version": "1.5.0",
            "_model_name": "HBoxModel",
            "_view_count": null,
            "_view_module": "@jupyter-widgets/controls",
            "_view_module_version": "1.5.0",
            "_view_name": "HBoxView",
            "box_style": "",
            "children": [
              "IPY_MODEL_fb04ff93fddd41a8a4121097308f8ba9",
              "IPY_MODEL_ff25254655294f3ebe079e8964951539",
              "IPY_MODEL_d592d97b79fc4496afb6ea489139fc4f"
            ],
            "layout": "IPY_MODEL_07a4dbe0af34496a9831dee9f01f5c08"
          }
        },
        "fb04ff93fddd41a8a4121097308f8ba9": {
          "model_module": "@jupyter-widgets/controls",
          "model_name": "HTMLModel",
          "model_module_version": "1.5.0",
          "state": {
            "_dom_classes": [],
            "_model_module": "@jupyter-widgets/controls",
            "_model_module_version": "1.5.0",
            "_model_name": "HTMLModel",
            "_view_count": null,
            "_view_module": "@jupyter-widgets/controls",
            "_view_module_version": "1.5.0",
            "_view_name": "HTMLView",
            "description": "",
            "description_tooltip": null,
            "layout": "IPY_MODEL_8c8c6c19842444ef9e9d46c8360a28f6",
            "placeholder": "​",
            "style": "IPY_MODEL_ef2ac0d280b6416fb6a2d83cf74ae117",
            "value": "Downloading: 100%"
          }
        },
        "ff25254655294f3ebe079e8964951539": {
          "model_module": "@jupyter-widgets/controls",
          "model_name": "FloatProgressModel",
          "model_module_version": "1.5.0",
          "state": {
            "_dom_classes": [],
            "_model_module": "@jupyter-widgets/controls",
            "_model_module_version": "1.5.0",
            "_model_name": "FloatProgressModel",
            "_view_count": null,
            "_view_module": "@jupyter-widgets/controls",
            "_view_module_version": "1.5.0",
            "_view_name": "ProgressView",
            "bar_style": "success",
            "description": "",
            "description_tooltip": null,
            "layout": "IPY_MODEL_33d7f606dddd43f2862d008b81533a15",
            "max": 162,
            "min": 0,
            "orientation": "horizontal",
            "style": "IPY_MODEL_a8e43404359b4623b4eb584a77d8f64c",
            "value": 162
          }
        },
        "d592d97b79fc4496afb6ea489139fc4f": {
          "model_module": "@jupyter-widgets/controls",
          "model_name": "HTMLModel",
          "model_module_version": "1.5.0",
          "state": {
            "_dom_classes": [],
            "_model_module": "@jupyter-widgets/controls",
            "_model_module_version": "1.5.0",
            "_model_name": "HTMLModel",
            "_view_count": null,
            "_view_module": "@jupyter-widgets/controls",
            "_view_module_version": "1.5.0",
            "_view_name": "HTMLView",
            "description": "",
            "description_tooltip": null,
            "layout": "IPY_MODEL_4a838039378b43d88cc384eed1d0c6ef",
            "placeholder": "​",
            "style": "IPY_MODEL_f39107fbf45a438a9b09aed1a774b7ac",
            "value": " 162/162 [00:00&lt;00:00, 2.22kB/s]"
          }
        },
        "07a4dbe0af34496a9831dee9f01f5c08": {
          "model_module": "@jupyter-widgets/base",
          "model_name": "LayoutModel",
          "model_module_version": "1.2.0",
          "state": {
            "_model_module": "@jupyter-widgets/base",
            "_model_module_version": "1.2.0",
            "_model_name": "LayoutModel",
            "_view_count": null,
            "_view_module": "@jupyter-widgets/base",
            "_view_module_version": "1.2.0",
            "_view_name": "LayoutView",
            "align_content": null,
            "align_items": null,
            "align_self": null,
            "border": null,
            "bottom": null,
            "display": null,
            "flex": null,
            "flex_flow": null,
            "grid_area": null,
            "grid_auto_columns": null,
            "grid_auto_flow": null,
            "grid_auto_rows": null,
            "grid_column": null,
            "grid_gap": null,
            "grid_row": null,
            "grid_template_areas": null,
            "grid_template_columns": null,
            "grid_template_rows": null,
            "height": null,
            "justify_content": null,
            "justify_items": null,
            "left": null,
            "margin": null,
            "max_height": null,
            "max_width": null,
            "min_height": null,
            "min_width": null,
            "object_fit": null,
            "object_position": null,
            "order": null,
            "overflow": null,
            "overflow_x": null,
            "overflow_y": null,
            "padding": null,
            "right": null,
            "top": null,
            "visibility": null,
            "width": null
          }
        },
        "8c8c6c19842444ef9e9d46c8360a28f6": {
          "model_module": "@jupyter-widgets/base",
          "model_name": "LayoutModel",
          "model_module_version": "1.2.0",
          "state": {
            "_model_module": "@jupyter-widgets/base",
            "_model_module_version": "1.2.0",
            "_model_name": "LayoutModel",
            "_view_count": null,
            "_view_module": "@jupyter-widgets/base",
            "_view_module_version": "1.2.0",
            "_view_name": "LayoutView",
            "align_content": null,
            "align_items": null,
            "align_self": null,
            "border": null,
            "bottom": null,
            "display": null,
            "flex": null,
            "flex_flow": null,
            "grid_area": null,
            "grid_auto_columns": null,
            "grid_auto_flow": null,
            "grid_auto_rows": null,
            "grid_column": null,
            "grid_gap": null,
            "grid_row": null,
            "grid_template_areas": null,
            "grid_template_columns": null,
            "grid_template_rows": null,
            "height": null,
            "justify_content": null,
            "justify_items": null,
            "left": null,
            "margin": null,
            "max_height": null,
            "max_width": null,
            "min_height": null,
            "min_width": null,
            "object_fit": null,
            "object_position": null,
            "order": null,
            "overflow": null,
            "overflow_x": null,
            "overflow_y": null,
            "padding": null,
            "right": null,
            "top": null,
            "visibility": null,
            "width": null
          }
        },
        "ef2ac0d280b6416fb6a2d83cf74ae117": {
          "model_module": "@jupyter-widgets/controls",
          "model_name": "DescriptionStyleModel",
          "model_module_version": "1.5.0",
          "state": {
            "_model_module": "@jupyter-widgets/controls",
            "_model_module_version": "1.5.0",
            "_model_name": "DescriptionStyleModel",
            "_view_count": null,
            "_view_module": "@jupyter-widgets/base",
            "_view_module_version": "1.2.0",
            "_view_name": "StyleView",
            "description_width": ""
          }
        },
        "33d7f606dddd43f2862d008b81533a15": {
          "model_module": "@jupyter-widgets/base",
          "model_name": "LayoutModel",
          "model_module_version": "1.2.0",
          "state": {
            "_model_module": "@jupyter-widgets/base",
            "_model_module_version": "1.2.0",
            "_model_name": "LayoutModel",
            "_view_count": null,
            "_view_module": "@jupyter-widgets/base",
            "_view_module_version": "1.2.0",
            "_view_name": "LayoutView",
            "align_content": null,
            "align_items": null,
            "align_self": null,
            "border": null,
            "bottom": null,
            "display": null,
            "flex": null,
            "flex_flow": null,
            "grid_area": null,
            "grid_auto_columns": null,
            "grid_auto_flow": null,
            "grid_auto_rows": null,
            "grid_column": null,
            "grid_gap": null,
            "grid_row": null,
            "grid_template_areas": null,
            "grid_template_columns": null,
            "grid_template_rows": null,
            "height": null,
            "justify_content": null,
            "justify_items": null,
            "left": null,
            "margin": null,
            "max_height": null,
            "max_width": null,
            "min_height": null,
            "min_width": null,
            "object_fit": null,
            "object_position": null,
            "order": null,
            "overflow": null,
            "overflow_x": null,
            "overflow_y": null,
            "padding": null,
            "right": null,
            "top": null,
            "visibility": null,
            "width": null
          }
        },
        "a8e43404359b4623b4eb584a77d8f64c": {
          "model_module": "@jupyter-widgets/controls",
          "model_name": "ProgressStyleModel",
          "model_module_version": "1.5.0",
          "state": {
            "_model_module": "@jupyter-widgets/controls",
            "_model_module_version": "1.5.0",
            "_model_name": "ProgressStyleModel",
            "_view_count": null,
            "_view_module": "@jupyter-widgets/base",
            "_view_module_version": "1.2.0",
            "_view_name": "StyleView",
            "bar_color": null,
            "description_width": ""
          }
        },
        "4a838039378b43d88cc384eed1d0c6ef": {
          "model_module": "@jupyter-widgets/base",
          "model_name": "LayoutModel",
          "model_module_version": "1.2.0",
          "state": {
            "_model_module": "@jupyter-widgets/base",
            "_model_module_version": "1.2.0",
            "_model_name": "LayoutModel",
            "_view_count": null,
            "_view_module": "@jupyter-widgets/base",
            "_view_module_version": "1.2.0",
            "_view_name": "LayoutView",
            "align_content": null,
            "align_items": null,
            "align_self": null,
            "border": null,
            "bottom": null,
            "display": null,
            "flex": null,
            "flex_flow": null,
            "grid_area": null,
            "grid_auto_columns": null,
            "grid_auto_flow": null,
            "grid_auto_rows": null,
            "grid_column": null,
            "grid_gap": null,
            "grid_row": null,
            "grid_template_areas": null,
            "grid_template_columns": null,
            "grid_template_rows": null,
            "height": null,
            "justify_content": null,
            "justify_items": null,
            "left": null,
            "margin": null,
            "max_height": null,
            "max_width": null,
            "min_height": null,
            "min_width": null,
            "object_fit": null,
            "object_position": null,
            "order": null,
            "overflow": null,
            "overflow_x": null,
            "overflow_y": null,
            "padding": null,
            "right": null,
            "top": null,
            "visibility": null,
            "width": null
          }
        },
        "f39107fbf45a438a9b09aed1a774b7ac": {
          "model_module": "@jupyter-widgets/controls",
          "model_name": "DescriptionStyleModel",
          "model_module_version": "1.5.0",
          "state": {
            "_model_module": "@jupyter-widgets/controls",
            "_model_module_version": "1.5.0",
            "_model_name": "DescriptionStyleModel",
            "_view_count": null,
            "_view_module": "@jupyter-widgets/base",
            "_view_module_version": "1.2.0",
            "_view_name": "StyleView",
            "description_width": ""
          }
        },
        "cac9be0503a547769ab7d3564e6a9def": {
          "model_module": "@jupyter-widgets/controls",
          "model_name": "HBoxModel",
          "model_module_version": "1.5.0",
          "state": {
            "_dom_classes": [],
            "_model_module": "@jupyter-widgets/controls",
            "_model_module_version": "1.5.0",
            "_model_name": "HBoxModel",
            "_view_count": null,
            "_view_module": "@jupyter-widgets/controls",
            "_view_module_version": "1.5.0",
            "_view_name": "HBoxView",
            "box_style": "",
            "children": [
              "IPY_MODEL_19c441f367064e1484d807fe577b8956",
              "IPY_MODEL_e770c48f129f4400b6f24d3e0bc9b8e8",
              "IPY_MODEL_1ae77e3bd9e64aacb4de18c7db4450c4"
            ],
            "layout": "IPY_MODEL_f9cba12979fd48649eb663ba5f9a8985"
          }
        },
        "19c441f367064e1484d807fe577b8956": {
          "model_module": "@jupyter-widgets/controls",
          "model_name": "HTMLModel",
          "model_module_version": "1.5.0",
          "state": {
            "_dom_classes": [],
            "_model_module": "@jupyter-widgets/controls",
            "_model_module_version": "1.5.0",
            "_model_name": "HTMLModel",
            "_view_count": null,
            "_view_module": "@jupyter-widgets/controls",
            "_view_module_version": "1.5.0",
            "_view_name": "HTMLView",
            "description": "",
            "description_tooltip": null,
            "layout": "IPY_MODEL_e2ee17f1107546e398374cc09547021b",
            "placeholder": "​",
            "style": "IPY_MODEL_a516a03ce094495bac67bf016b0f9928",
            "value": "Downloading: 100%"
          }
        },
        "e770c48f129f4400b6f24d3e0bc9b8e8": {
          "model_module": "@jupyter-widgets/controls",
          "model_name": "FloatProgressModel",
          "model_module_version": "1.5.0",
          "state": {
            "_dom_classes": [],
            "_model_module": "@jupyter-widgets/controls",
            "_model_module_version": "1.5.0",
            "_model_name": "FloatProgressModel",
            "_view_count": null,
            "_view_module": "@jupyter-widgets/controls",
            "_view_module_version": "1.5.0",
            "_view_name": "ProgressView",
            "bar_style": "success",
            "description": "",
            "description_tooltip": null,
            "layout": "IPY_MODEL_f5c257e6a36c44a9b3a6a2b428957ec5",
            "max": 85,
            "min": 0,
            "orientation": "horizontal",
            "style": "IPY_MODEL_4b266201ad8047ccb81ac5946864c47f",
            "value": 85
          }
        },
        "1ae77e3bd9e64aacb4de18c7db4450c4": {
          "model_module": "@jupyter-widgets/controls",
          "model_name": "HTMLModel",
          "model_module_version": "1.5.0",
          "state": {
            "_dom_classes": [],
            "_model_module": "@jupyter-widgets/controls",
            "_model_module_version": "1.5.0",
            "_model_name": "HTMLModel",
            "_view_count": null,
            "_view_module": "@jupyter-widgets/controls",
            "_view_module_version": "1.5.0",
            "_view_name": "HTMLView",
            "description": "",
            "description_tooltip": null,
            "layout": "IPY_MODEL_c1dad49b8117493fa503166ade46a767",
            "placeholder": "​",
            "style": "IPY_MODEL_340954b5a6674885bec42b4d4d645703",
            "value": " 85.0/85.0 [00:00&lt;00:00, 659B/s]"
          }
        },
        "f9cba12979fd48649eb663ba5f9a8985": {
          "model_module": "@jupyter-widgets/base",
          "model_name": "LayoutModel",
          "model_module_version": "1.2.0",
          "state": {
            "_model_module": "@jupyter-widgets/base",
            "_model_module_version": "1.2.0",
            "_model_name": "LayoutModel",
            "_view_count": null,
            "_view_module": "@jupyter-widgets/base",
            "_view_module_version": "1.2.0",
            "_view_name": "LayoutView",
            "align_content": null,
            "align_items": null,
            "align_self": null,
            "border": null,
            "bottom": null,
            "display": null,
            "flex": null,
            "flex_flow": null,
            "grid_area": null,
            "grid_auto_columns": null,
            "grid_auto_flow": null,
            "grid_auto_rows": null,
            "grid_column": null,
            "grid_gap": null,
            "grid_row": null,
            "grid_template_areas": null,
            "grid_template_columns": null,
            "grid_template_rows": null,
            "height": null,
            "justify_content": null,
            "justify_items": null,
            "left": null,
            "margin": null,
            "max_height": null,
            "max_width": null,
            "min_height": null,
            "min_width": null,
            "object_fit": null,
            "object_position": null,
            "order": null,
            "overflow": null,
            "overflow_x": null,
            "overflow_y": null,
            "padding": null,
            "right": null,
            "top": null,
            "visibility": null,
            "width": null
          }
        },
        "e2ee17f1107546e398374cc09547021b": {
          "model_module": "@jupyter-widgets/base",
          "model_name": "LayoutModel",
          "model_module_version": "1.2.0",
          "state": {
            "_model_module": "@jupyter-widgets/base",
            "_model_module_version": "1.2.0",
            "_model_name": "LayoutModel",
            "_view_count": null,
            "_view_module": "@jupyter-widgets/base",
            "_view_module_version": "1.2.0",
            "_view_name": "LayoutView",
            "align_content": null,
            "align_items": null,
            "align_self": null,
            "border": null,
            "bottom": null,
            "display": null,
            "flex": null,
            "flex_flow": null,
            "grid_area": null,
            "grid_auto_columns": null,
            "grid_auto_flow": null,
            "grid_auto_rows": null,
            "grid_column": null,
            "grid_gap": null,
            "grid_row": null,
            "grid_template_areas": null,
            "grid_template_columns": null,
            "grid_template_rows": null,
            "height": null,
            "justify_content": null,
            "justify_items": null,
            "left": null,
            "margin": null,
            "max_height": null,
            "max_width": null,
            "min_height": null,
            "min_width": null,
            "object_fit": null,
            "object_position": null,
            "order": null,
            "overflow": null,
            "overflow_x": null,
            "overflow_y": null,
            "padding": null,
            "right": null,
            "top": null,
            "visibility": null,
            "width": null
          }
        },
        "a516a03ce094495bac67bf016b0f9928": {
          "model_module": "@jupyter-widgets/controls",
          "model_name": "DescriptionStyleModel",
          "model_module_version": "1.5.0",
          "state": {
            "_model_module": "@jupyter-widgets/controls",
            "_model_module_version": "1.5.0",
            "_model_name": "DescriptionStyleModel",
            "_view_count": null,
            "_view_module": "@jupyter-widgets/base",
            "_view_module_version": "1.2.0",
            "_view_name": "StyleView",
            "description_width": ""
          }
        },
        "f5c257e6a36c44a9b3a6a2b428957ec5": {
          "model_module": "@jupyter-widgets/base",
          "model_name": "LayoutModel",
          "model_module_version": "1.2.0",
          "state": {
            "_model_module": "@jupyter-widgets/base",
            "_model_module_version": "1.2.0",
            "_model_name": "LayoutModel",
            "_view_count": null,
            "_view_module": "@jupyter-widgets/base",
            "_view_module_version": "1.2.0",
            "_view_name": "LayoutView",
            "align_content": null,
            "align_items": null,
            "align_self": null,
            "border": null,
            "bottom": null,
            "display": null,
            "flex": null,
            "flex_flow": null,
            "grid_area": null,
            "grid_auto_columns": null,
            "grid_auto_flow": null,
            "grid_auto_rows": null,
            "grid_column": null,
            "grid_gap": null,
            "grid_row": null,
            "grid_template_areas": null,
            "grid_template_columns": null,
            "grid_template_rows": null,
            "height": null,
            "justify_content": null,
            "justify_items": null,
            "left": null,
            "margin": null,
            "max_height": null,
            "max_width": null,
            "min_height": null,
            "min_width": null,
            "object_fit": null,
            "object_position": null,
            "order": null,
            "overflow": null,
            "overflow_x": null,
            "overflow_y": null,
            "padding": null,
            "right": null,
            "top": null,
            "visibility": null,
            "width": null
          }
        },
        "4b266201ad8047ccb81ac5946864c47f": {
          "model_module": "@jupyter-widgets/controls",
          "model_name": "ProgressStyleModel",
          "model_module_version": "1.5.0",
          "state": {
            "_model_module": "@jupyter-widgets/controls",
            "_model_module_version": "1.5.0",
            "_model_name": "ProgressStyleModel",
            "_view_count": null,
            "_view_module": "@jupyter-widgets/base",
            "_view_module_version": "1.2.0",
            "_view_name": "StyleView",
            "bar_color": null,
            "description_width": ""
          }
        },
        "c1dad49b8117493fa503166ade46a767": {
          "model_module": "@jupyter-widgets/base",
          "model_name": "LayoutModel",
          "model_module_version": "1.2.0",
          "state": {
            "_model_module": "@jupyter-widgets/base",
            "_model_module_version": "1.2.0",
            "_model_name": "LayoutModel",
            "_view_count": null,
            "_view_module": "@jupyter-widgets/base",
            "_view_module_version": "1.2.0",
            "_view_name": "LayoutView",
            "align_content": null,
            "align_items": null,
            "align_self": null,
            "border": null,
            "bottom": null,
            "display": null,
            "flex": null,
            "flex_flow": null,
            "grid_area": null,
            "grid_auto_columns": null,
            "grid_auto_flow": null,
            "grid_auto_rows": null,
            "grid_column": null,
            "grid_gap": null,
            "grid_row": null,
            "grid_template_areas": null,
            "grid_template_columns": null,
            "grid_template_rows": null,
            "height": null,
            "justify_content": null,
            "justify_items": null,
            "left": null,
            "margin": null,
            "max_height": null,
            "max_width": null,
            "min_height": null,
            "min_width": null,
            "object_fit": null,
            "object_position": null,
            "order": null,
            "overflow": null,
            "overflow_x": null,
            "overflow_y": null,
            "padding": null,
            "right": null,
            "top": null,
            "visibility": null,
            "width": null
          }
        },
        "340954b5a6674885bec42b4d4d645703": {
          "model_module": "@jupyter-widgets/controls",
          "model_name": "DescriptionStyleModel",
          "model_module_version": "1.5.0",
          "state": {
            "_model_module": "@jupyter-widgets/controls",
            "_model_module_version": "1.5.0",
            "_model_name": "DescriptionStyleModel",
            "_view_count": null,
            "_view_module": "@jupyter-widgets/base",
            "_view_module_version": "1.2.0",
            "_view_name": "StyleView",
            "description_width": ""
          }
        },
        "3ebd583d23ce4c07a8c88b0f76b44dc3": {
          "model_module": "@jupyter-widgets/controls",
          "model_name": "HBoxModel",
          "model_module_version": "1.5.0",
          "state": {
            "_dom_classes": [],
            "_model_module": "@jupyter-widgets/controls",
            "_model_module_version": "1.5.0",
            "_model_name": "HBoxModel",
            "_view_count": null,
            "_view_module": "@jupyter-widgets/controls",
            "_view_module_version": "1.5.0",
            "_view_name": "HBoxView",
            "box_style": "",
            "children": [
              "IPY_MODEL_04e27a914803466a9500d417995aff03",
              "IPY_MODEL_eb6fdd03c613482b90f8c999a04ea062",
              "IPY_MODEL_78bc1dca57ed4cfeaf5c12d122a0d5f9"
            ],
            "layout": "IPY_MODEL_3484daa9e4ba4ca8bac65c12f2c63d1c"
          }
        },
        "04e27a914803466a9500d417995aff03": {
          "model_module": "@jupyter-widgets/controls",
          "model_name": "HTMLModel",
          "model_module_version": "1.5.0",
          "state": {
            "_dom_classes": [],
            "_model_module": "@jupyter-widgets/controls",
            "_model_module_version": "1.5.0",
            "_model_name": "HTMLModel",
            "_view_count": null,
            "_view_module": "@jupyter-widgets/controls",
            "_view_module_version": "1.5.0",
            "_view_name": "HTMLView",
            "description": "",
            "description_tooltip": null,
            "layout": "IPY_MODEL_9a04c194c57e4f04a23bce6d2aff9879",
            "placeholder": "​",
            "style": "IPY_MODEL_742237935e0c4e37a3f803ae5f61bfde",
            "value": "Downloading: 100%"
          }
        },
        "eb6fdd03c613482b90f8c999a04ea062": {
          "model_module": "@jupyter-widgets/controls",
          "model_name": "FloatProgressModel",
          "model_module_version": "1.5.0",
          "state": {
            "_dom_classes": [],
            "_model_module": "@jupyter-widgets/controls",
            "_model_module_version": "1.5.0",
            "_model_name": "FloatProgressModel",
            "_view_count": null,
            "_view_module": "@jupyter-widgets/controls",
            "_view_module_version": "1.5.0",
            "_view_name": "ProgressView",
            "bar_style": "success",
            "description": "",
            "description_tooltip": null,
            "layout": "IPY_MODEL_0c048f0f31b642769a20b193c5abf9f7",
            "max": 1606,
            "min": 0,
            "orientation": "horizontal",
            "style": "IPY_MODEL_262ae83a89984340b03fa21711fa5666",
            "value": 1606
          }
        },
        "78bc1dca57ed4cfeaf5c12d122a0d5f9": {
          "model_module": "@jupyter-widgets/controls",
          "model_name": "HTMLModel",
          "model_module_version": "1.5.0",
          "state": {
            "_dom_classes": [],
            "_model_module": "@jupyter-widgets/controls",
            "_model_module_version": "1.5.0",
            "_model_name": "HTMLModel",
            "_view_count": null,
            "_view_module": "@jupyter-widgets/controls",
            "_view_module_version": "1.5.0",
            "_view_name": "HTMLView",
            "description": "",
            "description_tooltip": null,
            "layout": "IPY_MODEL_3c3c1c3d654e4699ac74bf576607927a",
            "placeholder": "​",
            "style": "IPY_MODEL_c9635f8bb95e415bbe91a6b0548e3659",
            "value": " 1.57k/1.57k [00:00&lt;00:00, 6.69kB/s]"
          }
        },
        "3484daa9e4ba4ca8bac65c12f2c63d1c": {
          "model_module": "@jupyter-widgets/base",
          "model_name": "LayoutModel",
          "model_module_version": "1.2.0",
          "state": {
            "_model_module": "@jupyter-widgets/base",
            "_model_module_version": "1.2.0",
            "_model_name": "LayoutModel",
            "_view_count": null,
            "_view_module": "@jupyter-widgets/base",
            "_view_module_version": "1.2.0",
            "_view_name": "LayoutView",
            "align_content": null,
            "align_items": null,
            "align_self": null,
            "border": null,
            "bottom": null,
            "display": null,
            "flex": null,
            "flex_flow": null,
            "grid_area": null,
            "grid_auto_columns": null,
            "grid_auto_flow": null,
            "grid_auto_rows": null,
            "grid_column": null,
            "grid_gap": null,
            "grid_row": null,
            "grid_template_areas": null,
            "grid_template_columns": null,
            "grid_template_rows": null,
            "height": null,
            "justify_content": null,
            "justify_items": null,
            "left": null,
            "margin": null,
            "max_height": null,
            "max_width": null,
            "min_height": null,
            "min_width": null,
            "object_fit": null,
            "object_position": null,
            "order": null,
            "overflow": null,
            "overflow_x": null,
            "overflow_y": null,
            "padding": null,
            "right": null,
            "top": null,
            "visibility": null,
            "width": null
          }
        },
        "9a04c194c57e4f04a23bce6d2aff9879": {
          "model_module": "@jupyter-widgets/base",
          "model_name": "LayoutModel",
          "model_module_version": "1.2.0",
          "state": {
            "_model_module": "@jupyter-widgets/base",
            "_model_module_version": "1.2.0",
            "_model_name": "LayoutModel",
            "_view_count": null,
            "_view_module": "@jupyter-widgets/base",
            "_view_module_version": "1.2.0",
            "_view_name": "LayoutView",
            "align_content": null,
            "align_items": null,
            "align_self": null,
            "border": null,
            "bottom": null,
            "display": null,
            "flex": null,
            "flex_flow": null,
            "grid_area": null,
            "grid_auto_columns": null,
            "grid_auto_flow": null,
            "grid_auto_rows": null,
            "grid_column": null,
            "grid_gap": null,
            "grid_row": null,
            "grid_template_areas": null,
            "grid_template_columns": null,
            "grid_template_rows": null,
            "height": null,
            "justify_content": null,
            "justify_items": null,
            "left": null,
            "margin": null,
            "max_height": null,
            "max_width": null,
            "min_height": null,
            "min_width": null,
            "object_fit": null,
            "object_position": null,
            "order": null,
            "overflow": null,
            "overflow_x": null,
            "overflow_y": null,
            "padding": null,
            "right": null,
            "top": null,
            "visibility": null,
            "width": null
          }
        },
        "742237935e0c4e37a3f803ae5f61bfde": {
          "model_module": "@jupyter-widgets/controls",
          "model_name": "DescriptionStyleModel",
          "model_module_version": "1.5.0",
          "state": {
            "_model_module": "@jupyter-widgets/controls",
            "_model_module_version": "1.5.0",
            "_model_name": "DescriptionStyleModel",
            "_view_count": null,
            "_view_module": "@jupyter-widgets/base",
            "_view_module_version": "1.2.0",
            "_view_name": "StyleView",
            "description_width": ""
          }
        },
        "0c048f0f31b642769a20b193c5abf9f7": {
          "model_module": "@jupyter-widgets/base",
          "model_name": "LayoutModel",
          "model_module_version": "1.2.0",
          "state": {
            "_model_module": "@jupyter-widgets/base",
            "_model_module_version": "1.2.0",
            "_model_name": "LayoutModel",
            "_view_count": null,
            "_view_module": "@jupyter-widgets/base",
            "_view_module_version": "1.2.0",
            "_view_name": "LayoutView",
            "align_content": null,
            "align_items": null,
            "align_self": null,
            "border": null,
            "bottom": null,
            "display": null,
            "flex": null,
            "flex_flow": null,
            "grid_area": null,
            "grid_auto_columns": null,
            "grid_auto_flow": null,
            "grid_auto_rows": null,
            "grid_column": null,
            "grid_gap": null,
            "grid_row": null,
            "grid_template_areas": null,
            "grid_template_columns": null,
            "grid_template_rows": null,
            "height": null,
            "justify_content": null,
            "justify_items": null,
            "left": null,
            "margin": null,
            "max_height": null,
            "max_width": null,
            "min_height": null,
            "min_width": null,
            "object_fit": null,
            "object_position": null,
            "order": null,
            "overflow": null,
            "overflow_x": null,
            "overflow_y": null,
            "padding": null,
            "right": null,
            "top": null,
            "visibility": null,
            "width": null
          }
        },
        "262ae83a89984340b03fa21711fa5666": {
          "model_module": "@jupyter-widgets/controls",
          "model_name": "ProgressStyleModel",
          "model_module_version": "1.5.0",
          "state": {
            "_model_module": "@jupyter-widgets/controls",
            "_model_module_version": "1.5.0",
            "_model_name": "ProgressStyleModel",
            "_view_count": null,
            "_view_module": "@jupyter-widgets/base",
            "_view_module_version": "1.2.0",
            "_view_name": "StyleView",
            "bar_color": null,
            "description_width": ""
          }
        },
        "3c3c1c3d654e4699ac74bf576607927a": {
          "model_module": "@jupyter-widgets/base",
          "model_name": "LayoutModel",
          "model_module_version": "1.2.0",
          "state": {
            "_model_module": "@jupyter-widgets/base",
            "_model_module_version": "1.2.0",
            "_model_name": "LayoutModel",
            "_view_count": null,
            "_view_module": "@jupyter-widgets/base",
            "_view_module_version": "1.2.0",
            "_view_name": "LayoutView",
            "align_content": null,
            "align_items": null,
            "align_self": null,
            "border": null,
            "bottom": null,
            "display": null,
            "flex": null,
            "flex_flow": null,
            "grid_area": null,
            "grid_auto_columns": null,
            "grid_auto_flow": null,
            "grid_auto_rows": null,
            "grid_column": null,
            "grid_gap": null,
            "grid_row": null,
            "grid_template_areas": null,
            "grid_template_columns": null,
            "grid_template_rows": null,
            "height": null,
            "justify_content": null,
            "justify_items": null,
            "left": null,
            "margin": null,
            "max_height": null,
            "max_width": null,
            "min_height": null,
            "min_width": null,
            "object_fit": null,
            "object_position": null,
            "order": null,
            "overflow": null,
            "overflow_x": null,
            "overflow_y": null,
            "padding": null,
            "right": null,
            "top": null,
            "visibility": null,
            "width": null
          }
        },
        "c9635f8bb95e415bbe91a6b0548e3659": {
          "model_module": "@jupyter-widgets/controls",
          "model_name": "DescriptionStyleModel",
          "model_module_version": "1.5.0",
          "state": {
            "_model_module": "@jupyter-widgets/controls",
            "_model_module_version": "1.5.0",
            "_model_name": "DescriptionStyleModel",
            "_view_count": null,
            "_view_module": "@jupyter-widgets/base",
            "_view_module_version": "1.2.0",
            "_view_name": "StyleView",
            "description_width": ""
          }
        },
        "2642fdf9b422414c900619db9aa3a2c3": {
          "model_module": "@jupyter-widgets/controls",
          "model_name": "HBoxModel",
          "model_module_version": "1.5.0",
          "state": {
            "_dom_classes": [],
            "_model_module": "@jupyter-widgets/controls",
            "_model_module_version": "1.5.0",
            "_model_name": "HBoxModel",
            "_view_count": null,
            "_view_module": "@jupyter-widgets/controls",
            "_view_module_version": "1.5.0",
            "_view_name": "HBoxView",
            "box_style": "",
            "children": [
              "IPY_MODEL_a7d3e0ac9dda43a892de392dc59a9ed5",
              "IPY_MODEL_5f4b8ae91de741bfad8383199fe654d5",
              "IPY_MODEL_c378a840913d49fe8c62d9367e0c9081"
            ],
            "layout": "IPY_MODEL_49bc215b182b41fe840d99159d2adee6"
          }
        },
        "a7d3e0ac9dda43a892de392dc59a9ed5": {
          "model_module": "@jupyter-widgets/controls",
          "model_name": "HTMLModel",
          "model_module_version": "1.5.0",
          "state": {
            "_dom_classes": [],
            "_model_module": "@jupyter-widgets/controls",
            "_model_module_version": "1.5.0",
            "_model_name": "HTMLModel",
            "_view_count": null,
            "_view_module": "@jupyter-widgets/controls",
            "_view_module_version": "1.5.0",
            "_view_name": "HTMLView",
            "description": "",
            "description_tooltip": null,
            "layout": "IPY_MODEL_780f70cd7b6048c9a38b94e94d7247da",
            "placeholder": "​",
            "style": "IPY_MODEL_40ea9b8eff4b45a4b4f549a01d4886cd",
            "value": "Downloading: 100%"
          }
        },
        "5f4b8ae91de741bfad8383199fe654d5": {
          "model_module": "@jupyter-widgets/controls",
          "model_name": "FloatProgressModel",
          "model_module_version": "1.5.0",
          "state": {
            "_dom_classes": [],
            "_model_module": "@jupyter-widgets/controls",
            "_model_module_version": "1.5.0",
            "_model_name": "FloatProgressModel",
            "_view_count": null,
            "_view_module": "@jupyter-widgets/controls",
            "_view_module_version": "1.5.0",
            "_view_name": "ProgressView",
            "bar_style": "success",
            "description": "",
            "description_tooltip": null,
            "layout": "IPY_MODEL_603afcb02d1b4c2eada10d46266c3dc0",
            "max": 1262055246,
            "min": 0,
            "orientation": "horizontal",
            "style": "IPY_MODEL_05db7993986044e39dca53fe1fb8335e",
            "value": 1262055246
          }
        },
        "c378a840913d49fe8c62d9367e0c9081": {
          "model_module": "@jupyter-widgets/controls",
          "model_name": "HTMLModel",
          "model_module_version": "1.5.0",
          "state": {
            "_dom_classes": [],
            "_model_module": "@jupyter-widgets/controls",
            "_model_module_version": "1.5.0",
            "_model_name": "HTMLModel",
            "_view_count": null,
            "_view_module": "@jupyter-widgets/controls",
            "_view_module_version": "1.5.0",
            "_view_name": "HTMLView",
            "description": "",
            "description_tooltip": null,
            "layout": "IPY_MODEL_b039239e8a6149e5a66880ca5be72e3b",
            "placeholder": "​",
            "style": "IPY_MODEL_23e7932f20a741b7b6ec30b20fe69519",
            "value": " 1.18G/1.18G [00:32&lt;00:00, 45.7MB/s]"
          }
        },
        "49bc215b182b41fe840d99159d2adee6": {
          "model_module": "@jupyter-widgets/base",
          "model_name": "LayoutModel",
          "model_module_version": "1.2.0",
          "state": {
            "_model_module": "@jupyter-widgets/base",
            "_model_module_version": "1.2.0",
            "_model_name": "LayoutModel",
            "_view_count": null,
            "_view_module": "@jupyter-widgets/base",
            "_view_module_version": "1.2.0",
            "_view_name": "LayoutView",
            "align_content": null,
            "align_items": null,
            "align_self": null,
            "border": null,
            "bottom": null,
            "display": null,
            "flex": null,
            "flex_flow": null,
            "grid_area": null,
            "grid_auto_columns": null,
            "grid_auto_flow": null,
            "grid_auto_rows": null,
            "grid_column": null,
            "grid_gap": null,
            "grid_row": null,
            "grid_template_areas": null,
            "grid_template_columns": null,
            "grid_template_rows": null,
            "height": null,
            "justify_content": null,
            "justify_items": null,
            "left": null,
            "margin": null,
            "max_height": null,
            "max_width": null,
            "min_height": null,
            "min_width": null,
            "object_fit": null,
            "object_position": null,
            "order": null,
            "overflow": null,
            "overflow_x": null,
            "overflow_y": null,
            "padding": null,
            "right": null,
            "top": null,
            "visibility": null,
            "width": null
          }
        },
        "780f70cd7b6048c9a38b94e94d7247da": {
          "model_module": "@jupyter-widgets/base",
          "model_name": "LayoutModel",
          "model_module_version": "1.2.0",
          "state": {
            "_model_module": "@jupyter-widgets/base",
            "_model_module_version": "1.2.0",
            "_model_name": "LayoutModel",
            "_view_count": null,
            "_view_module": "@jupyter-widgets/base",
            "_view_module_version": "1.2.0",
            "_view_name": "LayoutView",
            "align_content": null,
            "align_items": null,
            "align_self": null,
            "border": null,
            "bottom": null,
            "display": null,
            "flex": null,
            "flex_flow": null,
            "grid_area": null,
            "grid_auto_columns": null,
            "grid_auto_flow": null,
            "grid_auto_rows": null,
            "grid_column": null,
            "grid_gap": null,
            "grid_row": null,
            "grid_template_areas": null,
            "grid_template_columns": null,
            "grid_template_rows": null,
            "height": null,
            "justify_content": null,
            "justify_items": null,
            "left": null,
            "margin": null,
            "max_height": null,
            "max_width": null,
            "min_height": null,
            "min_width": null,
            "object_fit": null,
            "object_position": null,
            "order": null,
            "overflow": null,
            "overflow_x": null,
            "overflow_y": null,
            "padding": null,
            "right": null,
            "top": null,
            "visibility": null,
            "width": null
          }
        },
        "40ea9b8eff4b45a4b4f549a01d4886cd": {
          "model_module": "@jupyter-widgets/controls",
          "model_name": "DescriptionStyleModel",
          "model_module_version": "1.5.0",
          "state": {
            "_model_module": "@jupyter-widgets/controls",
            "_model_module_version": "1.5.0",
            "_model_name": "DescriptionStyleModel",
            "_view_count": null,
            "_view_module": "@jupyter-widgets/base",
            "_view_module_version": "1.2.0",
            "_view_name": "StyleView",
            "description_width": ""
          }
        },
        "603afcb02d1b4c2eada10d46266c3dc0": {
          "model_module": "@jupyter-widgets/base",
          "model_name": "LayoutModel",
          "model_module_version": "1.2.0",
          "state": {
            "_model_module": "@jupyter-widgets/base",
            "_model_module_version": "1.2.0",
            "_model_name": "LayoutModel",
            "_view_count": null,
            "_view_module": "@jupyter-widgets/base",
            "_view_module_version": "1.2.0",
            "_view_name": "LayoutView",
            "align_content": null,
            "align_items": null,
            "align_self": null,
            "border": null,
            "bottom": null,
            "display": null,
            "flex": null,
            "flex_flow": null,
            "grid_area": null,
            "grid_auto_columns": null,
            "grid_auto_flow": null,
            "grid_auto_rows": null,
            "grid_column": null,
            "grid_gap": null,
            "grid_row": null,
            "grid_template_areas": null,
            "grid_template_columns": null,
            "grid_template_rows": null,
            "height": null,
            "justify_content": null,
            "justify_items": null,
            "left": null,
            "margin": null,
            "max_height": null,
            "max_width": null,
            "min_height": null,
            "min_width": null,
            "object_fit": null,
            "object_position": null,
            "order": null,
            "overflow": null,
            "overflow_x": null,
            "overflow_y": null,
            "padding": null,
            "right": null,
            "top": null,
            "visibility": null,
            "width": null
          }
        },
        "05db7993986044e39dca53fe1fb8335e": {
          "model_module": "@jupyter-widgets/controls",
          "model_name": "ProgressStyleModel",
          "model_module_version": "1.5.0",
          "state": {
            "_model_module": "@jupyter-widgets/controls",
            "_model_module_version": "1.5.0",
            "_model_name": "ProgressStyleModel",
            "_view_count": null,
            "_view_module": "@jupyter-widgets/base",
            "_view_module_version": "1.2.0",
            "_view_name": "StyleView",
            "bar_color": null,
            "description_width": ""
          }
        },
        "b039239e8a6149e5a66880ca5be72e3b": {
          "model_module": "@jupyter-widgets/base",
          "model_name": "LayoutModel",
          "model_module_version": "1.2.0",
          "state": {
            "_model_module": "@jupyter-widgets/base",
            "_model_module_version": "1.2.0",
            "_model_name": "LayoutModel",
            "_view_count": null,
            "_view_module": "@jupyter-widgets/base",
            "_view_module_version": "1.2.0",
            "_view_name": "LayoutView",
            "align_content": null,
            "align_items": null,
            "align_self": null,
            "border": null,
            "bottom": null,
            "display": null,
            "flex": null,
            "flex_flow": null,
            "grid_area": null,
            "grid_auto_columns": null,
            "grid_auto_flow": null,
            "grid_auto_rows": null,
            "grid_column": null,
            "grid_gap": null,
            "grid_row": null,
            "grid_template_areas": null,
            "grid_template_columns": null,
            "grid_template_rows": null,
            "height": null,
            "justify_content": null,
            "justify_items": null,
            "left": null,
            "margin": null,
            "max_height": null,
            "max_width": null,
            "min_height": null,
            "min_width": null,
            "object_fit": null,
            "object_position": null,
            "order": null,
            "overflow": null,
            "overflow_x": null,
            "overflow_y": null,
            "padding": null,
            "right": null,
            "top": null,
            "visibility": null,
            "width": null
          }
        },
        "23e7932f20a741b7b6ec30b20fe69519": {
          "model_module": "@jupyter-widgets/controls",
          "model_name": "DescriptionStyleModel",
          "model_module_version": "1.5.0",
          "state": {
            "_model_module": "@jupyter-widgets/controls",
            "_model_module_version": "1.5.0",
            "_model_name": "DescriptionStyleModel",
            "_view_count": null,
            "_view_module": "@jupyter-widgets/base",
            "_view_module_version": "1.2.0",
            "_view_name": "StyleView",
            "description_width": ""
          }
        },
        "c7373a2a085e4196acaea04613dc39a5": {
          "model_module": "@jupyter-widgets/controls",
          "model_name": "ButtonModel",
          "model_module_version": "1.5.0",
          "state": {
            "_dom_classes": [],
            "_model_module": "@jupyter-widgets/controls",
            "_model_module_version": "1.5.0",
            "_model_name": "ButtonModel",
            "_view_count": null,
            "_view_module": "@jupyter-widgets/controls",
            "_view_module_version": "1.5.0",
            "_view_name": "ButtonView",
            "button_style": "",
            "description": "Record Speech",
            "disabled": false,
            "icon": "",
            "layout": "IPY_MODEL_a708f0dbc81f484ead42692cba269b8c",
            "style": "IPY_MODEL_f55411736f214cbbb8969d1aeb7b1b68",
            "tooltip": ""
          }
        },
        "a708f0dbc81f484ead42692cba269b8c": {
          "model_module": "@jupyter-widgets/base",
          "model_name": "LayoutModel",
          "model_module_version": "1.2.0",
          "state": {
            "_model_module": "@jupyter-widgets/base",
            "_model_module_version": "1.2.0",
            "_model_name": "LayoutModel",
            "_view_count": null,
            "_view_module": "@jupyter-widgets/base",
            "_view_module_version": "1.2.0",
            "_view_name": "LayoutView",
            "align_content": null,
            "align_items": null,
            "align_self": null,
            "border": null,
            "bottom": null,
            "display": null,
            "flex": null,
            "flex_flow": null,
            "grid_area": null,
            "grid_auto_columns": null,
            "grid_auto_flow": null,
            "grid_auto_rows": null,
            "grid_column": null,
            "grid_gap": null,
            "grid_row": null,
            "grid_template_areas": null,
            "grid_template_columns": null,
            "grid_template_rows": null,
            "height": null,
            "justify_content": null,
            "justify_items": null,
            "left": null,
            "margin": null,
            "max_height": null,
            "max_width": null,
            "min_height": null,
            "min_width": null,
            "object_fit": null,
            "object_position": null,
            "order": null,
            "overflow": null,
            "overflow_x": null,
            "overflow_y": null,
            "padding": null,
            "right": null,
            "top": null,
            "visibility": null,
            "width": null
          }
        },
        "f55411736f214cbbb8969d1aeb7b1b68": {
          "model_module": "@jupyter-widgets/controls",
          "model_name": "ButtonStyleModel",
          "model_module_version": "1.5.0",
          "state": {
            "_model_module": "@jupyter-widgets/controls",
            "_model_module_version": "1.5.0",
            "_model_name": "ButtonStyleModel",
            "_view_count": null,
            "_view_module": "@jupyter-widgets/base",
            "_view_module_version": "1.2.0",
            "_view_name": "StyleView",
            "button_color": null,
            "font_weight": ""
          }
        }
      }
    }
  },
  "cells": [
    {
      "cell_type": "markdown",
      "source": [
        "# Speech Recognition using Transformers in Python"
      ],
      "metadata": {
        "id": "ty6EaqjSktaB"
      }
    },
    {
      "cell_type": "markdown",
      "source": [
        "### Automatic Speech Recognition (ASR) is the technology that allows us to convert human speech into digital text.\n",
        "\n",
        "### We used current state-of-the-art model called Wav2vec2 using the Huggingface transformers library in Python."
      ],
      "metadata": {
        "id": "jayk37YQlN9Z"
      }
    },
    {
      "cell_type": "markdown",
      "source": [
        "#### Wav2Vec2 is a pre-trained model that was trained on speech audio alone (self-supervised) and then followed by fine-tuning on transcribed speech data (LibriSpeech dataset). It has outperformed previous semi-supervised models."
      ],
      "metadata": {
        "id": "1n9P3oE9l2vS"
      }
    },
    {
      "cell_type": "markdown",
      "source": [
        "#### Paper for Wav2Vec2:\n",
        "wav2vec 2.0: A Framework for Self-Supervised Learning of Speech Representations \n",
        "\n",
        "https://arxiv.org/abs/2006.11477"
      ],
      "metadata": {
        "id": "AeXdLCHgmLS-"
      }
    },
    {
      "cell_type": "markdown",
      "source": [
        "#### Abstract from paper:\n",
        "The abstract from the paper is the following:\n",
        "\n",
        "We show for the first time that learning powerful representations from speech audio alone followed by fine-tuning on transcribed speech can outperform the best semi-supervised methods while being conceptually simpler. wav2vec 2.0 masks the speech input in the latent space and solves a contrastive task defined over a quantization of the latent representations which are jointly learned."
      ],
      "metadata": {
        "id": "NaASN0zUm9WS"
      }
    },
    {
      "cell_type": "markdown",
      "source": [
        "As in Masked Language Modeling, Wav2Vec2 encodes speech audio via a multi-layer convolutional neural network and then masks spans of the resulting latent speech representations. These representations are then fed to a Transformer network to build contextualized representations"
      ],
      "metadata": {
        "id": "I8rSncM8nYVs"
      }
    },
    {
      "cell_type": "markdown",
      "source": [
        "Flow\n",
        "Getting Started"
      ],
      "metadata": {
        "id": "_q1W0zgKnfEq"
      }
    },
    {
      "cell_type": "markdown",
      "source": [
        "we have used torchaudio for loading audio files"
      ],
      "metadata": {
        "id": "PE5ktqc_nqZB"
      }
    },
    {
      "cell_type": "code",
      "source": [
        "!pip3 install transformers==4.11.2 soundfile sentencepiece torchaudio pydub pyaudio"
      ],
      "metadata": {
        "colab": {
          "base_uri": "https://localhost:8080/"
        },
        "id": "QZSOsk9TkudZ",
        "outputId": "c4f3d205-925c-405b-f503-15a1fba39c0f"
      },
      "execution_count": 1,
      "outputs": [
        {
          "output_type": "stream",
          "name": "stdout",
          "text": [
            "Looking in indexes: https://pypi.org/simple, https://us-python.pkg.dev/colab-wheels/public/simple/\n",
            "Collecting transformers==4.11.2\n",
            "  Downloading transformers-4.11.2-py3-none-any.whl (2.9 MB)\n",
            "\u001b[K     |████████████████████████████████| 2.9 MB 6.9 MB/s \n",
            "\u001b[?25hRequirement already satisfied: soundfile in /usr/local/lib/python3.7/dist-packages (0.10.3.post1)\n",
            "Collecting sentencepiece\n",
            "  Downloading sentencepiece-0.1.96-cp37-cp37m-manylinux_2_17_x86_64.manylinux2014_x86_64.whl (1.2 MB)\n",
            "\u001b[K     |████████████████████████████████| 1.2 MB 42.9 MB/s \n",
            "\u001b[?25hRequirement already satisfied: torchaudio in /usr/local/lib/python3.7/dist-packages (0.12.0+cu113)\n",
            "Collecting pydub\n",
            "  Downloading pydub-0.25.1-py2.py3-none-any.whl (32 kB)\n",
            "Collecting pyaudio\n",
            "  Downloading PyAudio-0.2.11.tar.gz (37 kB)\n",
            "Requirement already satisfied: regex!=2019.12.17 in /usr/local/lib/python3.7/dist-packages (from transformers==4.11.2) (2022.6.2)\n",
            "Requirement already satisfied: packaging>=20.0 in /usr/local/lib/python3.7/dist-packages (from transformers==4.11.2) (21.3)\n",
            "Requirement already satisfied: requests in /usr/local/lib/python3.7/dist-packages (from transformers==4.11.2) (2.23.0)\n",
            "Collecting tokenizers<0.11,>=0.10.1\n",
            "  Downloading tokenizers-0.10.3-cp37-cp37m-manylinux_2_5_x86_64.manylinux1_x86_64.manylinux_2_12_x86_64.manylinux2010_x86_64.whl (3.3 MB)\n",
            "\u001b[K     |████████████████████████████████| 3.3 MB 51.4 MB/s \n",
            "\u001b[?25hRequirement already satisfied: filelock in /usr/local/lib/python3.7/dist-packages (from transformers==4.11.2) (3.7.1)\n",
            "Collecting sacremoses\n",
            "  Downloading sacremoses-0.0.53.tar.gz (880 kB)\n",
            "\u001b[K     |████████████████████████████████| 880 kB 22.9 MB/s \n",
            "\u001b[?25hCollecting huggingface-hub>=0.0.17\n",
            "  Downloading huggingface_hub-0.8.1-py3-none-any.whl (101 kB)\n",
            "\u001b[K     |████████████████████████████████| 101 kB 8.4 MB/s \n",
            "\u001b[?25hCollecting pyyaml>=5.1\n",
            "  Downloading PyYAML-6.0-cp37-cp37m-manylinux_2_5_x86_64.manylinux1_x86_64.manylinux_2_12_x86_64.manylinux2010_x86_64.whl (596 kB)\n",
            "\u001b[K     |████████████████████████████████| 596 kB 40.3 MB/s \n",
            "\u001b[?25hRequirement already satisfied: importlib-metadata in /usr/local/lib/python3.7/dist-packages (from transformers==4.11.2) (4.12.0)\n",
            "Requirement already satisfied: numpy>=1.17 in /usr/local/lib/python3.7/dist-packages (from transformers==4.11.2) (1.21.6)\n",
            "Requirement already satisfied: tqdm>=4.27 in /usr/local/lib/python3.7/dist-packages (from transformers==4.11.2) (4.64.0)\n",
            "Requirement already satisfied: typing-extensions>=3.7.4.3 in /usr/local/lib/python3.7/dist-packages (from huggingface-hub>=0.0.17->transformers==4.11.2) (4.1.1)\n",
            "Requirement already satisfied: pyparsing!=3.0.5,>=2.0.2 in /usr/local/lib/python3.7/dist-packages (from packaging>=20.0->transformers==4.11.2) (3.0.9)\n",
            "Requirement already satisfied: cffi>=1.0 in /usr/local/lib/python3.7/dist-packages (from soundfile) (1.15.1)\n",
            "Requirement already satisfied: pycparser in /usr/local/lib/python3.7/dist-packages (from cffi>=1.0->soundfile) (2.21)\n",
            "Requirement already satisfied: torch==1.12.0 in /usr/local/lib/python3.7/dist-packages (from torchaudio) (1.12.0+cu113)\n",
            "Requirement already satisfied: zipp>=0.5 in /usr/local/lib/python3.7/dist-packages (from importlib-metadata->transformers==4.11.2) (3.8.0)\n",
            "Requirement already satisfied: certifi>=2017.4.17 in /usr/local/lib/python3.7/dist-packages (from requests->transformers==4.11.2) (2022.6.15)\n",
            "Requirement already satisfied: urllib3!=1.25.0,!=1.25.1,<1.26,>=1.21.1 in /usr/local/lib/python3.7/dist-packages (from requests->transformers==4.11.2) (1.24.3)\n",
            "Requirement already satisfied: idna<3,>=2.5 in /usr/local/lib/python3.7/dist-packages (from requests->transformers==4.11.2) (2.10)\n",
            "Requirement already satisfied: chardet<4,>=3.0.2 in /usr/local/lib/python3.7/dist-packages (from requests->transformers==4.11.2) (3.0.4)\n",
            "Requirement already satisfied: six in /usr/local/lib/python3.7/dist-packages (from sacremoses->transformers==4.11.2) (1.15.0)\n",
            "Requirement already satisfied: click in /usr/local/lib/python3.7/dist-packages (from sacremoses->transformers==4.11.2) (7.1.2)\n",
            "Requirement already satisfied: joblib in /usr/local/lib/python3.7/dist-packages (from sacremoses->transformers==4.11.2) (1.1.0)\n",
            "Building wheels for collected packages: pyaudio, sacremoses\n",
            "  Building wheel for pyaudio (setup.py) ... \u001b[?25lerror\n",
            "\u001b[31m  ERROR: Failed building wheel for pyaudio\u001b[0m\n",
            "\u001b[?25h  Running setup.py clean for pyaudio\n",
            "  Building wheel for sacremoses (setup.py) ... \u001b[?25l\u001b[?25hdone\n",
            "  Created wheel for sacremoses: filename=sacremoses-0.0.53-py3-none-any.whl size=895260 sha256=f27aff4731a2440deb70a488338762cf8260b9a775e0de7cfcffa2c0403e27a8\n",
            "  Stored in directory: /root/.cache/pip/wheels/87/39/dd/a83eeef36d0bf98e7a4d1933a4ad2d660295a40613079bafc9\n",
            "Successfully built sacremoses\n",
            "Failed to build pyaudio\n",
            "Installing collected packages: pyyaml, tokenizers, sacremoses, huggingface-hub, transformers, sentencepiece, pydub, pyaudio\n",
            "  Attempting uninstall: pyyaml\n",
            "    Found existing installation: PyYAML 3.13\n",
            "    Uninstalling PyYAML-3.13:\n",
            "      Successfully uninstalled PyYAML-3.13\n",
            "    Running setup.py install for pyaudio ... \u001b[?25l\u001b[?25herror\n",
            "\u001b[31mERROR: Command errored out with exit status 1: /usr/bin/python3 -u -c 'import io, os, sys, setuptools, tokenize; sys.argv[0] = '\"'\"'/tmp/pip-install-bdrg7xw8/pyaudio_a40c19a7c110495f83b75fc336516ab9/setup.py'\"'\"'; __file__='\"'\"'/tmp/pip-install-bdrg7xw8/pyaudio_a40c19a7c110495f83b75fc336516ab9/setup.py'\"'\"';f = getattr(tokenize, '\"'\"'open'\"'\"', open)(__file__) if os.path.exists(__file__) else io.StringIO('\"'\"'from setuptools import setup; setup()'\"'\"');code = f.read().replace('\"'\"'\\r\\n'\"'\"', '\"'\"'\\n'\"'\"');f.close();exec(compile(code, __file__, '\"'\"'exec'\"'\"'))' install --record /tmp/pip-record-py96eexu/install-record.txt --single-version-externally-managed --compile --install-headers /usr/local/include/python3.7/pyaudio Check the logs for full command output.\u001b[0m\n"
          ]
        }
      ]
    },
    {
      "cell_type": "code",
      "source": [
        "!pip install pipwin\n",
        "#pipwin install pyaudio"
      ],
      "metadata": {
        "colab": {
          "base_uri": "https://localhost:8080/"
        },
        "id": "lLOBjspqokZ_",
        "outputId": "49504664-ae6d-413d-a70e-eb4f7aba6ab1"
      },
      "execution_count": 2,
      "outputs": [
        {
          "output_type": "stream",
          "name": "stdout",
          "text": [
            "Looking in indexes: https://pypi.org/simple, https://us-python.pkg.dev/colab-wheels/public/simple/\n",
            "Collecting pipwin\n",
            "  Downloading pipwin-0.5.2.tar.gz (7.9 kB)\n",
            "Requirement already satisfied: docopt in /usr/local/lib/python3.7/dist-packages (from pipwin) (0.6.2)\n",
            "Requirement already satisfied: requests in /usr/local/lib/python3.7/dist-packages (from pipwin) (2.23.0)\n",
            "Collecting pyprind\n",
            "  Downloading PyPrind-2.11.3-py2.py3-none-any.whl (8.4 kB)\n",
            "Requirement already satisfied: six in /usr/local/lib/python3.7/dist-packages (from pipwin) (1.15.0)\n",
            "Collecting beautifulsoup4>=4.9.0\n",
            "  Downloading beautifulsoup4-4.11.1-py3-none-any.whl (128 kB)\n",
            "\u001b[K     |████████████████████████████████| 128 kB 6.6 MB/s \n",
            "\u001b[?25hCollecting js2py\n",
            "  Downloading Js2Py-0.71-py3-none-any.whl (1.0 MB)\n",
            "\u001b[K     |████████████████████████████████| 1.0 MB 57.9 MB/s \n",
            "\u001b[?25hRequirement already satisfied: packaging in /usr/local/lib/python3.7/dist-packages (from pipwin) (21.3)\n",
            "Collecting pySmartDL>=1.3.1\n",
            "  Downloading pySmartDL-1.3.4-py3-none-any.whl (20 kB)\n",
            "Requirement already satisfied: soupsieve>1.2 in /usr/local/lib/python3.7/dist-packages (from beautifulsoup4>=4.9.0->pipwin) (2.3.2.post1)\n",
            "Collecting pyjsparser>=2.5.1\n",
            "  Downloading pyjsparser-2.7.1.tar.gz (24 kB)\n",
            "Requirement already satisfied: tzlocal>=1.2 in /usr/local/lib/python3.7/dist-packages (from js2py->pipwin) (1.5.1)\n",
            "Requirement already satisfied: pytz in /usr/local/lib/python3.7/dist-packages (from tzlocal>=1.2->js2py->pipwin) (2022.1)\n",
            "Requirement already satisfied: pyparsing!=3.0.5,>=2.0.2 in /usr/local/lib/python3.7/dist-packages (from packaging->pipwin) (3.0.9)\n",
            "Requirement already satisfied: chardet<4,>=3.0.2 in /usr/local/lib/python3.7/dist-packages (from requests->pipwin) (3.0.4)\n",
            "Requirement already satisfied: certifi>=2017.4.17 in /usr/local/lib/python3.7/dist-packages (from requests->pipwin) (2022.6.15)\n",
            "Requirement already satisfied: urllib3!=1.25.0,!=1.25.1,<1.26,>=1.21.1 in /usr/local/lib/python3.7/dist-packages (from requests->pipwin) (1.24.3)\n",
            "Requirement already satisfied: idna<3,>=2.5 in /usr/local/lib/python3.7/dist-packages (from requests->pipwin) (2.10)\n",
            "Building wheels for collected packages: pipwin, pyjsparser\n",
            "  Building wheel for pipwin (setup.py) ... \u001b[?25l\u001b[?25hdone\n",
            "  Created wheel for pipwin: filename=pipwin-0.5.2-py2.py3-none-any.whl size=8791 sha256=9ce0ebc32bc50795bd71d6c0f0fde3689bf925e47d792360bd882344e3847d23\n",
            "  Stored in directory: /root/.cache/pip/wheels/07/df/15/51b9c5d152e27b7fad998993eba50e15dfa709cc7438557f7e\n",
            "  Building wheel for pyjsparser (setup.py) ... \u001b[?25l\u001b[?25hdone\n",
            "  Created wheel for pyjsparser: filename=pyjsparser-2.7.1-py3-none-any.whl size=26000 sha256=77ba3856651944154fb02de0470f172a7546469418e052f7bb9c12e5bb8a258f\n",
            "  Stored in directory: /root/.cache/pip/wheels/2a/80/ac/dcd2bdbd03dd2b7b7e2bf3e5afbda6a1ab7935bbce314969da\n",
            "Successfully built pipwin pyjsparser\n",
            "Installing collected packages: pyjsparser, pySmartDL, pyprind, js2py, beautifulsoup4, pipwin\n",
            "  Attempting uninstall: beautifulsoup4\n",
            "    Found existing installation: beautifulsoup4 4.6.3\n",
            "    Uninstalling beautifulsoup4-4.6.3:\n",
            "      Successfully uninstalled beautifulsoup4-4.6.3\n",
            "Successfully installed beautifulsoup4-4.11.1 js2py-0.71 pipwin-0.5.2 pySmartDL-1.3.4 pyjsparser-2.7.1 pyprind-2.11.3\n"
          ]
        }
      ]
    },
    {
      "cell_type": "code",
      "source": [
        "!pipwin install pyaudio"
      ],
      "metadata": {
        "colab": {
          "base_uri": "https://localhost:8080/"
        },
        "id": "gMw5_Xi6ll-V",
        "outputId": "58174802-f622-4afc-b969-e2aed1c89c32"
      },
      "execution_count": 3,
      "outputs": [
        {
          "output_type": "stream",
          "name": "stdout",
          "text": [
            "/usr/local/lib/python3.7/dist-packages/pipwin/command.py:66: UserWarning: Found a non Windows system. Package installation might not work.\n",
            "  warn(\"Found a non Windows system. Package installation might not work.\")\n",
            "Building cache. Hang on . . .\n",
            "Done\n",
            "Package `pyaudio` found in cache\n",
            "Downloading package . . .\n",
            "https://download.lfd.uci.edu/pythonlibs/archived/cp37/PyAudio-0.2.11-cp37-cp37m-win_amd64.whl\n",
            "PyAudio-0.2.11-cp37-cp37m-win_amd64.whl\n",
            "[*] 0 bytes / 111 kB @ 0 bytes/s [------------------] [0.0%, 0s left]   \b\b\b\b\b\b\b\b\b\b\b\b\b\b\b\b\b\b\b\b\b\b\b\b\b\b\b\b\b\b\b\b\b\b\b\b\b\b\b\b\b\b\b\b\b\b\b\b\b\b\b\b\b\b\b\b\b\b\b\b\b\b\b\b\b\b\b\b\b\b\b\b\b [*] 88 kB / 111 kB @ 440 kB/s [##############----] [79.3%, 0s left]   \b\b\b\b\b\b\b\b\b\b\b\b\b\b\b\b\b\b\b\b\b\b\b\b\b\b\b\b\b\b\b\b\b\b\b\b\b\b\b\b\b\b\b\b\b\b\b\b\b\b\b\b\b\b\b\b\b\b\b\b\b\b\b\b\b\b\b\b\b\b\b [*] 111 kB / 111 kB @ 440 kB/s [##################] [100%, 0s left]    \n",
            "Looking in indexes: https://pypi.org/simple, https://us-python.pkg.dev/colab-wheels/public/simple/\n",
            "\u001b[31mERROR: PyAudio-0.2.11-cp37-cp37m-win_amd64.whl is not a supported wheel on this platform.\u001b[0m\n",
            "Traceback (most recent call last):\n",
            "  File \"/usr/local/bin/pipwin\", line 8, in <module>\n",
            "    sys.exit(main())\n",
            "  File \"/usr/local/lib/python3.7/dist-packages/pipwin/command.py\", line 103, in main\n",
            "    cache.install(package)\n",
            "  File \"/usr/local/lib/python3.7/dist-packages/pipwin/pipwin.py\", line 301, in install\n",
            "    subprocess.check_call([executable, \"-m\", \"pip\", \"install\", wheel_file])\n",
            "  File \"/usr/lib/python3.7/subprocess.py\", line 363, in check_call\n",
            "    raise CalledProcessError(retcode, cmd)\n",
            "subprocess.CalledProcessError: Command '['/usr/bin/python3', '-m', 'pip', 'install', '/root/pipwin/PyAudio-0.2.11-cp37-cp37m-win_amd64.whl']' returned non-zero exit status 1.\n"
          ]
        }
      ]
    },
    {
      "cell_type": "code",
      "source": [
        "!python --version"
      ],
      "metadata": {
        "colab": {
          "base_uri": "https://localhost:8080/"
        },
        "id": "Xss9itftpRFk",
        "outputId": "6a5c07ee-bd67-4c67-e77b-29f48deabd07"
      },
      "execution_count": 4,
      "outputs": [
        {
          "output_type": "stream",
          "name": "stdout",
          "text": [
            "Python 3.7.13\n"
          ]
        }
      ]
    },
    {
      "cell_type": "code",
      "source": [
        "!apt install libasound2-dev portaudio19-dev libportaudio2 libportaudiocpp0 ffmpeg"
      ],
      "metadata": {
        "colab": {
          "base_uri": "https://localhost:8080/"
        },
        "id": "NCRaaL46o1UV",
        "outputId": "57a80d4e-9500-4b0f-86a4-a994a3c9faba"
      },
      "execution_count": 5,
      "outputs": [
        {
          "output_type": "stream",
          "name": "stdout",
          "text": [
            "Reading package lists... Done\n",
            "Building dependency tree       \n",
            "Reading state information... Done\n",
            "libasound2-dev is already the newest version (1.1.3-5ubuntu0.6).\n",
            "ffmpeg is already the newest version (7:3.4.11-0ubuntu0.1).\n",
            "The following package was automatically installed and is no longer required:\n",
            "  libnvidia-common-460\n",
            "Use 'apt autoremove' to remove it.\n",
            "Suggested packages:\n",
            "  portaudio19-doc\n",
            "The following NEW packages will be installed:\n",
            "  libportaudio2 libportaudiocpp0 portaudio19-dev\n",
            "0 upgraded, 3 newly installed, 0 to remove and 49 not upgraded.\n",
            "Need to get 184 kB of archives.\n",
            "After this operation, 891 kB of additional disk space will be used.\n",
            "Get:1 http://archive.ubuntu.com/ubuntu bionic/universe amd64 libportaudio2 amd64 19.6.0-1 [64.6 kB]\n",
            "Get:2 http://archive.ubuntu.com/ubuntu bionic/universe amd64 libportaudiocpp0 amd64 19.6.0-1 [15.1 kB]\n",
            "Get:3 http://archive.ubuntu.com/ubuntu bionic/universe amd64 portaudio19-dev amd64 19.6.0-1 [104 kB]\n",
            "Fetched 184 kB in 1s (326 kB/s)\n",
            "Selecting previously unselected package libportaudio2:amd64.\n",
            "(Reading database ... 155653 files and directories currently installed.)\n",
            "Preparing to unpack .../libportaudio2_19.6.0-1_amd64.deb ...\n",
            "Unpacking libportaudio2:amd64 (19.6.0-1) ...\n",
            "Selecting previously unselected package libportaudiocpp0:amd64.\n",
            "Preparing to unpack .../libportaudiocpp0_19.6.0-1_amd64.deb ...\n",
            "Unpacking libportaudiocpp0:amd64 (19.6.0-1) ...\n",
            "Selecting previously unselected package portaudio19-dev:amd64.\n",
            "Preparing to unpack .../portaudio19-dev_19.6.0-1_amd64.deb ...\n",
            "Unpacking portaudio19-dev:amd64 (19.6.0-1) ...\n",
            "Setting up libportaudio2:amd64 (19.6.0-1) ...\n",
            "Setting up libportaudiocpp0:amd64 (19.6.0-1) ...\n",
            "Setting up portaudio19-dev:amd64 (19.6.0-1) ...\n",
            "Processing triggers for libc-bin (2.27-3ubuntu1.3) ...\n",
            "/sbin/ldconfig.real: /usr/local/lib/python3.7/dist-packages/ideep4py/lib/libmkldnn.so.0 is not a symbolic link\n",
            "\n"
          ]
        }
      ]
    },
    {
      "cell_type": "code",
      "source": [
        "!pip install pyaudio\n"
      ],
      "metadata": {
        "colab": {
          "base_uri": "https://localhost:8080/"
        },
        "id": "8Puw_Mb0qW7P",
        "outputId": "edb785c1-0c4f-41e2-a600-757609e26989"
      },
      "execution_count": 6,
      "outputs": [
        {
          "output_type": "stream",
          "name": "stdout",
          "text": [
            "Looking in indexes: https://pypi.org/simple, https://us-python.pkg.dev/colab-wheels/public/simple/\n",
            "Collecting pyaudio\n",
            "  Using cached PyAudio-0.2.11.tar.gz (37 kB)\n",
            "Building wheels for collected packages: pyaudio\n",
            "  Building wheel for pyaudio (setup.py) ... \u001b[?25l\u001b[?25hdone\n",
            "  Created wheel for pyaudio: filename=PyAudio-0.2.11-cp37-cp37m-linux_x86_64.whl size=52608 sha256=a2c6fa337663d0263f7f83bc7fe88d45b773a6d12a5b5ea4f897c22690b37ac6\n",
            "  Stored in directory: /root/.cache/pip/wheels/40/2e/4c/b71e7e96c861a46e6213bc6bb482b94dcf293a92c5e736c1ec\n",
            "Successfully built pyaudio\n",
            "Installing collected packages: pyaudio\n",
            "Successfully installed pyaudio-0.2.11\n"
          ]
        }
      ]
    },
    {
      "cell_type": "code",
      "source": [
        "!pip3 install transformers==4.11.2 soundfile sentencepiece torchaudio pydub"
      ],
      "metadata": {
        "colab": {
          "base_uri": "https://localhost:8080/"
        },
        "id": "ED2WOr9SqhV8",
        "outputId": "495ce846-639f-4b8b-df98-92d92681a20b"
      },
      "execution_count": 7,
      "outputs": [
        {
          "output_type": "stream",
          "name": "stdout",
          "text": [
            "Looking in indexes: https://pypi.org/simple, https://us-python.pkg.dev/colab-wheels/public/simple/\n",
            "Requirement already satisfied: transformers==4.11.2 in /usr/local/lib/python3.7/dist-packages (4.11.2)\n",
            "Requirement already satisfied: soundfile in /usr/local/lib/python3.7/dist-packages (0.10.3.post1)\n",
            "Requirement already satisfied: sentencepiece in /usr/local/lib/python3.7/dist-packages (0.1.96)\n",
            "Requirement already satisfied: torchaudio in /usr/local/lib/python3.7/dist-packages (0.12.0+cu113)\n",
            "Requirement already satisfied: pydub in /usr/local/lib/python3.7/dist-packages (0.25.1)\n",
            "Requirement already satisfied: tqdm>=4.27 in /usr/local/lib/python3.7/dist-packages (from transformers==4.11.2) (4.64.0)\n",
            "Requirement already satisfied: pyyaml>=5.1 in /usr/local/lib/python3.7/dist-packages (from transformers==4.11.2) (6.0)\n",
            "Requirement already satisfied: sacremoses in /usr/local/lib/python3.7/dist-packages (from transformers==4.11.2) (0.0.53)\n",
            "Requirement already satisfied: filelock in /usr/local/lib/python3.7/dist-packages (from transformers==4.11.2) (3.7.1)\n",
            "Requirement already satisfied: regex!=2019.12.17 in /usr/local/lib/python3.7/dist-packages (from transformers==4.11.2) (2022.6.2)\n",
            "Requirement already satisfied: importlib-metadata in /usr/local/lib/python3.7/dist-packages (from transformers==4.11.2) (4.12.0)\n",
            "Requirement already satisfied: requests in /usr/local/lib/python3.7/dist-packages (from transformers==4.11.2) (2.23.0)\n",
            "Requirement already satisfied: packaging>=20.0 in /usr/local/lib/python3.7/dist-packages (from transformers==4.11.2) (21.3)\n",
            "Requirement already satisfied: numpy>=1.17 in /usr/local/lib/python3.7/dist-packages (from transformers==4.11.2) (1.21.6)\n",
            "Requirement already satisfied: tokenizers<0.11,>=0.10.1 in /usr/local/lib/python3.7/dist-packages (from transformers==4.11.2) (0.10.3)\n",
            "Requirement already satisfied: huggingface-hub>=0.0.17 in /usr/local/lib/python3.7/dist-packages (from transformers==4.11.2) (0.8.1)\n",
            "Requirement already satisfied: typing-extensions>=3.7.4.3 in /usr/local/lib/python3.7/dist-packages (from huggingface-hub>=0.0.17->transformers==4.11.2) (4.1.1)\n",
            "Requirement already satisfied: pyparsing!=3.0.5,>=2.0.2 in /usr/local/lib/python3.7/dist-packages (from packaging>=20.0->transformers==4.11.2) (3.0.9)\n",
            "Requirement already satisfied: cffi>=1.0 in /usr/local/lib/python3.7/dist-packages (from soundfile) (1.15.1)\n",
            "Requirement already satisfied: pycparser in /usr/local/lib/python3.7/dist-packages (from cffi>=1.0->soundfile) (2.21)\n",
            "Requirement already satisfied: torch==1.12.0 in /usr/local/lib/python3.7/dist-packages (from torchaudio) (1.12.0+cu113)\n",
            "Requirement already satisfied: zipp>=0.5 in /usr/local/lib/python3.7/dist-packages (from importlib-metadata->transformers==4.11.2) (3.8.0)\n",
            "Requirement already satisfied: certifi>=2017.4.17 in /usr/local/lib/python3.7/dist-packages (from requests->transformers==4.11.2) (2022.6.15)\n",
            "Requirement already satisfied: idna<3,>=2.5 in /usr/local/lib/python3.7/dist-packages (from requests->transformers==4.11.2) (2.10)\n",
            "Requirement already satisfied: chardet<4,>=3.0.2 in /usr/local/lib/python3.7/dist-packages (from requests->transformers==4.11.2) (3.0.4)\n",
            "Requirement already satisfied: urllib3!=1.25.0,!=1.25.1,<1.26,>=1.21.1 in /usr/local/lib/python3.7/dist-packages (from requests->transformers==4.11.2) (1.24.3)\n",
            "Requirement already satisfied: joblib in /usr/local/lib/python3.7/dist-packages (from sacremoses->transformers==4.11.2) (1.1.0)\n",
            "Requirement already satisfied: click in /usr/local/lib/python3.7/dist-packages (from sacremoses->transformers==4.11.2) (7.1.2)\n",
            "Requirement already satisfied: six in /usr/local/lib/python3.7/dist-packages (from sacremoses->transformers==4.11.2) (1.15.0)\n"
          ]
        }
      ]
    },
    {
      "cell_type": "code",
      "source": [
        "from transformers import *\n",
        "import torch\n",
        "import soundfile as sf\n",
        "# import librosa\n",
        "import os\n",
        "import torchaudio"
      ],
      "metadata": {
        "id": "BZ34xdIMqou2"
      },
      "execution_count": 8,
      "outputs": []
    },
    {
      "cell_type": "markdown",
      "source": [
        "Next, loading the processor and the model weights of wav2vec2:"
      ],
      "metadata": {
        "id": "-99BU1K2q3jw"
      }
    },
    {
      "cell_type": "code",
      "source": [
        "# model_name = \"facebook/wav2vec2-base-960h\" # 360MB\n",
        "model_name = \"facebook/wav2vec2-large-960h-lv60-self\" # 1.18GB\n",
        "\n",
        "processor = Wav2Vec2Processor.from_pretrained(model_name)\n",
        "model = Wav2Vec2ForCTC.from_pretrained(model_name)"
      ],
      "metadata": {
        "colab": {
          "base_uri": "https://localhost:8080/",
          "height": 244,
          "referenced_widgets": [
            "d6e9b6aedaad48c4a9c67784f674fd71",
            "ad374cd673894c2fb5a0e8e920508778",
            "c68457482aa34a3e80924c953819456b",
            "1f54638134094c14bbd7386c57fd1a85",
            "d8fee38a9dc347a29ab11f7518b054b3",
            "6ab1127c077f4d29b01e7e7716e49f70",
            "1d41846c943e4635a050b0cc99b2b370",
            "b0951223206a46da8b967b1007854420",
            "75f57bf6d6d14b03a6ed03c909fd3751",
            "9febb857df624f6b9a8f8b2ed9e869ed",
            "e0faea8408d14b93813d4049455b1ba9",
            "d73461ececc841b88725b6566b57fe9c",
            "4261a46c648d4fbf82bd8f403cc88dba",
            "cbdcf2b244ce4e05aad7522bde18aa84",
            "4349bdbe1e2742e5817e8c9acd143217",
            "314d9275e1e74c579c55724213aa5693",
            "2aa452903ad84772b3b748854566f717",
            "8fdeff5ee9dc42e79af3d4d4ff8acb9e",
            "7dba78ae82d142a5962328f670c6d970",
            "69ba891836cb413ba7e948071eadaf70",
            "9c2e79c807624e73b192e428647214a5",
            "88b20d47b84240adbae42de997e61441",
            "d789bb5ddfb34c73a0dee0124cf9e6ce",
            "fb04ff93fddd41a8a4121097308f8ba9",
            "ff25254655294f3ebe079e8964951539",
            "d592d97b79fc4496afb6ea489139fc4f",
            "07a4dbe0af34496a9831dee9f01f5c08",
            "8c8c6c19842444ef9e9d46c8360a28f6",
            "ef2ac0d280b6416fb6a2d83cf74ae117",
            "33d7f606dddd43f2862d008b81533a15",
            "a8e43404359b4623b4eb584a77d8f64c",
            "4a838039378b43d88cc384eed1d0c6ef",
            "f39107fbf45a438a9b09aed1a774b7ac",
            "cac9be0503a547769ab7d3564e6a9def",
            "19c441f367064e1484d807fe577b8956",
            "e770c48f129f4400b6f24d3e0bc9b8e8",
            "1ae77e3bd9e64aacb4de18c7db4450c4",
            "f9cba12979fd48649eb663ba5f9a8985",
            "e2ee17f1107546e398374cc09547021b",
            "a516a03ce094495bac67bf016b0f9928",
            "f5c257e6a36c44a9b3a6a2b428957ec5",
            "4b266201ad8047ccb81ac5946864c47f",
            "c1dad49b8117493fa503166ade46a767",
            "340954b5a6674885bec42b4d4d645703",
            "3ebd583d23ce4c07a8c88b0f76b44dc3",
            "04e27a914803466a9500d417995aff03",
            "eb6fdd03c613482b90f8c999a04ea062",
            "78bc1dca57ed4cfeaf5c12d122a0d5f9",
            "3484daa9e4ba4ca8bac65c12f2c63d1c",
            "9a04c194c57e4f04a23bce6d2aff9879",
            "742237935e0c4e37a3f803ae5f61bfde",
            "0c048f0f31b642769a20b193c5abf9f7",
            "262ae83a89984340b03fa21711fa5666",
            "3c3c1c3d654e4699ac74bf576607927a",
            "c9635f8bb95e415bbe91a6b0548e3659",
            "2642fdf9b422414c900619db9aa3a2c3",
            "a7d3e0ac9dda43a892de392dc59a9ed5",
            "5f4b8ae91de741bfad8383199fe654d5",
            "c378a840913d49fe8c62d9367e0c9081",
            "49bc215b182b41fe840d99159d2adee6",
            "780f70cd7b6048c9a38b94e94d7247da",
            "40ea9b8eff4b45a4b4f549a01d4886cd",
            "603afcb02d1b4c2eada10d46266c3dc0",
            "05db7993986044e39dca53fe1fb8335e",
            "b039239e8a6149e5a66880ca5be72e3b",
            "23e7932f20a741b7b6ec30b20fe69519"
          ]
        },
        "id": "vMaMeYCnqyM8",
        "outputId": "ae3dc860-b94f-43ed-c6b3-2b1e67d039fc"
      },
      "execution_count": 9,
      "outputs": [
        {
          "output_type": "display_data",
          "data": {
            "text/plain": [
              "Downloading:   0%|          | 0.00/158 [00:00<?, ?B/s]"
            ],
            "application/vnd.jupyter.widget-view+json": {
              "version_major": 2,
              "version_minor": 0,
              "model_id": "d6e9b6aedaad48c4a9c67784f674fd71"
            }
          },
          "metadata": {}
        },
        {
          "output_type": "display_data",
          "data": {
            "text/plain": [
              "Downloading:   0%|          | 0.00/291 [00:00<?, ?B/s]"
            ],
            "application/vnd.jupyter.widget-view+json": {
              "version_major": 2,
              "version_minor": 0,
              "model_id": "d73461ececc841b88725b6566b57fe9c"
            }
          },
          "metadata": {}
        },
        {
          "output_type": "display_data",
          "data": {
            "text/plain": [
              "Downloading:   0%|          | 0.00/162 [00:00<?, ?B/s]"
            ],
            "application/vnd.jupyter.widget-view+json": {
              "version_major": 2,
              "version_minor": 0,
              "model_id": "d789bb5ddfb34c73a0dee0124cf9e6ce"
            }
          },
          "metadata": {}
        },
        {
          "output_type": "display_data",
          "data": {
            "text/plain": [
              "Downloading:   0%|          | 0.00/85.0 [00:00<?, ?B/s]"
            ],
            "application/vnd.jupyter.widget-view+json": {
              "version_major": 2,
              "version_minor": 0,
              "model_id": "cac9be0503a547769ab7d3564e6a9def"
            }
          },
          "metadata": {}
        },
        {
          "output_type": "display_data",
          "data": {
            "text/plain": [
              "Downloading:   0%|          | 0.00/1.57k [00:00<?, ?B/s]"
            ],
            "application/vnd.jupyter.widget-view+json": {
              "version_major": 2,
              "version_minor": 0,
              "model_id": "3ebd583d23ce4c07a8c88b0f76b44dc3"
            }
          },
          "metadata": {}
        },
        {
          "output_type": "display_data",
          "data": {
            "text/plain": [
              "Downloading:   0%|          | 0.00/1.18G [00:00<?, ?B/s]"
            ],
            "application/vnd.jupyter.widget-view+json": {
              "version_major": 2,
              "version_minor": 0,
              "model_id": "2642fdf9b422414c900619db9aa3a2c3"
            }
          },
          "metadata": {}
        },
        {
          "output_type": "stream",
          "name": "stderr",
          "text": [
            "Some weights of Wav2Vec2ForCTC were not initialized from the model checkpoint at facebook/wav2vec2-large-960h-lv60-self and are newly initialized: ['wav2vec2.masked_spec_embed']\n",
            "You should probably TRAIN this model on a down-stream task to be able to use it for predictions and inference.\n"
          ]
        }
      ]
    },
    {
      "cell_type": "markdown",
      "source": [
        "There are two most used model architectures and weights for wav2vec. wav2vec2-base-960h is a base architecture with about 360MB of size, it achieved a 3.4% Word Error Rate (WER).\n",
        "On the other hand, wav2vec2-large-960h-lv60-self is a larger model with about 1.18GB in size  but achieved 1.9% WER (the lower, the better) on the clean test set."
      ],
      "metadata": {
        "id": "KKA7Ozt4rvLo"
      }
    },
    {
      "cell_type": "markdown",
      "source": [
        "Wav2Vec2 was trained using Connectionist Temporal Classification (CTC), so that's why we're using the Wav2Vec2ForCTC class for loading the model"
      ],
      "metadata": {
        "id": "M0PThWYfsQPh"
      }
    },
    {
      "cell_type": "markdown",
      "source": [
        "##pick audio samples:\n",
        "\n",
        "audio_url = \"https://github.com/x4nth055/pythoncode-tutorials/raw/master/machine-learning/speech-recognition/30-4447-0004.wav\"\n"
      ],
      "metadata": {
        "id": "rvuiZTlisXyF"
      }
    },
    {
      "cell_type": "code",
      "source": [
        "audio_url = \"https://github.com/x4nth055/pythoncode-tutorials/raw/master/machine-learning/speech-recognition/30-4447-0004.wav\""
      ],
      "metadata": {
        "id": "Pp33g9XLrNNR"
      },
      "execution_count": 10,
      "outputs": []
    },
    {
      "cell_type": "markdown",
      "source": [
        "Preparing the Audio File\n",
        "Below cell loads the audio file"
      ],
      "metadata": {
        "id": "8xQGrbujsrwX"
      }
    },
    {
      "cell_type": "code",
      "source": [
        "# load our wav file\n",
        "speech, sr = torchaudio.load(audio_url)\n",
        "speech = speech.squeeze()\n",
        "# or using librosa\n",
        "# speech, sr = librosa.load(audio_file, sr=16000)\n",
        "sr, speech.shape"
      ],
      "metadata": {
        "colab": {
          "base_uri": "https://localhost:8080/"
        },
        "id": "oirM1k_ZsnRu",
        "outputId": "2d0aae30-546e-4d76-ba43-962a5a76143e"
      },
      "execution_count": 11,
      "outputs": [
        {
          "output_type": "execute_result",
          "data": {
            "text/plain": [
              "(16000, torch.Size([274000]))"
            ]
          },
          "metadata": {},
          "execution_count": 11
        }
      ]
    },
    {
      "cell_type": "markdown",
      "source": [
        "The torchaudio.load() function loads the audio file and returns the audio as a vector and the sample rate. It also automatically downloads the file if it's a URL. If it's a path in the disk, it will also load it"
      ],
      "metadata": {
        "id": "HF1rlfRzs69d"
      }
    },
    {
      "cell_type": "markdown",
      "source": [
        "we used the squeeze() method as well, it is to remove the dimensions with the size of 1. i.e., converting tensor from (1, 274000) to (274000,).\n",
        "\n",
        "Next, we need to make sure the input audio file to the model has the sample rate of 16000Hz because wav2vec2 is trained on that:"
      ],
      "metadata": {
        "id": "--rK3cOltEju"
      }
    },
    {
      "cell_type": "code",
      "source": [
        "# resample from whatever the audio sampling rate to 16000\n",
        "resampler = torchaudio.transforms.Resample(sr, 16000)\n",
        "speech = resampler(speech)\n",
        "speech.shape"
      ],
      "metadata": {
        "colab": {
          "base_uri": "https://localhost:8080/"
        },
        "id": "SVMOoY0_sw6t",
        "outputId": "b673dbba-73f2-48ab-d3cc-3e485f15ea58"
      },
      "execution_count": 12,
      "outputs": [
        {
          "output_type": "execute_result",
          "data": {
            "text/plain": [
              "torch.Size([274000])"
            ]
          },
          "metadata": {},
          "execution_count": 12
        }
      ]
    },
    {
      "cell_type": "markdown",
      "source": [
        "We used Resample from torchaudio.transforms, which helps us to convert the loaded audio file in the fly from one sampling rate to another."
      ],
      "metadata": {
        "id": "6om0fZ5utTP3"
      }
    },
    {
      "cell_type": "markdown",
      "source": [
        "we pass the audio vector to the wav2vec2 processor:"
      ],
      "metadata": {
        "id": "AQ523KKztcE9"
      }
    },
    {
      "cell_type": "code",
      "source": [
        "# tokenize our wav\n",
        "input_values = processor(speech, return_tensors=\"pt\", sampling_rate=16000)[\"input_values\"]\n",
        "input_values.shape"
      ],
      "metadata": {
        "colab": {
          "base_uri": "https://localhost:8080/"
        },
        "id": "H59u48cQtOpq",
        "outputId": "0dd323aa-bcc1-466a-bd23-e70157d6efbf"
      },
      "execution_count": 13,
      "outputs": [
        {
          "output_type": "stream",
          "name": "stderr",
          "text": [
            "/usr/local/lib/python3.7/dist-packages/transformers/feature_extraction_utils.py:158: UserWarning: Creating a tensor from a list of numpy.ndarrays is extremely slow. Please consider converting the list to a single numpy.ndarray with numpy.array() before converting to a tensor. (Triggered internally at  ../torch/csrc/utils/tensor_new.cpp:201.)\n",
            "  tensor = as_tensor(value)\n"
          ]
        },
        {
          "output_type": "execute_result",
          "data": {
            "text/plain": [
              "torch.Size([1, 274000])"
            ]
          },
          "metadata": {},
          "execution_count": 13
        }
      ]
    },
    {
      "cell_type": "markdown",
      "source": [
        "We specify the sampling_rate and pass \"pt\" to return_tensors argument to get PyTorch tensors in the results."
      ],
      "metadata": {
        "id": "jEJEs5nutn9d"
      }
    },
    {
      "cell_type": "markdown",
      "source": [
        "## Performing Inference"
      ],
      "metadata": {
        "id": "-FQL4f2utwEf"
      }
    },
    {
      "cell_type": "markdown",
      "source": [
        "Let's pass the vector into our model now:"
      ],
      "metadata": {
        "id": "-nOjrYoSt0zX"
      }
    },
    {
      "cell_type": "code",
      "source": [
        "# perform inference\n",
        "logits = model(input_values)[\"logits\"]\n",
        "logits.shape"
      ],
      "metadata": {
        "colab": {
          "base_uri": "https://localhost:8080/"
        },
        "id": "JWi4tQc5th9p",
        "outputId": "a4ff400c-bece-4fd9-9d0f-f89416f0926c"
      },
      "execution_count": 14,
      "outputs": [
        {
          "output_type": "execute_result",
          "data": {
            "text/plain": [
              "torch.Size([1, 856, 32])"
            ]
          },
          "metadata": {},
          "execution_count": 14
        }
      ]
    },
    {
      "cell_type": "markdown",
      "source": [
        "Passing the logits to torch.argmax() to get the likely prediction:"
      ],
      "metadata": {
        "id": "Pcd05crpuAdn"
      }
    },
    {
      "cell_type": "code",
      "source": [
        "# use argmax to get the predicted IDs\n",
        "predicted_ids = torch.argmax(logits, dim=-1)\n",
        "predicted_ids.shape"
      ],
      "metadata": {
        "colab": {
          "base_uri": "https://localhost:8080/"
        },
        "id": "Js2g2Mtdt3P9",
        "outputId": "e4787c28-db41-4b33-b359-b51fcd6b5de2"
      },
      "execution_count": 15,
      "outputs": [
        {
          "output_type": "execute_result",
          "data": {
            "text/plain": [
              "torch.Size([1, 856])"
            ]
          },
          "metadata": {},
          "execution_count": 15
        }
      ]
    },
    {
      "cell_type": "markdown",
      "source": [
        "Decoding them back to text, we also lower the text, as it's in all caps."
      ],
      "metadata": {
        "id": "4KQo-HPOuIfx"
      }
    },
    {
      "cell_type": "code",
      "source": [
        "# decode the IDs to text\n",
        "transcription = processor.decode(predicted_ids[0])\n",
        "transcription.lower()"
      ],
      "metadata": {
        "colab": {
          "base_uri": "https://localhost:8080/",
          "height": 53
        },
        "id": "ceVcLVKWuFex",
        "outputId": "2351fd49-d590-4506-f1ff-60a7953fbf20"
      },
      "execution_count": 16,
      "outputs": [
        {
          "output_type": "execute_result",
          "data": {
            "text/plain": [
              "'and missus goddard three ladies almost always at the service of an invitation from hartfield and who were fetched and carried home so often that mister woodhouse thought it no hardship for either james or the horses had it taken place only once a year it would have been a grievance'"
            ],
            "application/vnd.google.colaboratory.intrinsic+json": {
              "type": "string"
            }
          },
          "metadata": {},
          "execution_count": 16
        }
      ]
    },
    {
      "cell_type": "markdown",
      "source": [
        "## Use your voice"
      ],
      "metadata": {
        "id": "X5BVSXzJuwHC"
      }
    },
    {
      "cell_type": "code",
      "source": [
        "!git clone -q --depth 1 https://github.com/snakers4/silero-models"
      ],
      "metadata": {
        "id": "m7Vz1OB_uNmu"
      },
      "execution_count": 17,
      "outputs": []
    },
    {
      "cell_type": "code",
      "source": [
        "%cd silero-models"
      ],
      "metadata": {
        "colab": {
          "base_uri": "https://localhost:8080/"
        },
        "id": "9jDhe4N2u2RQ",
        "outputId": "25675e13-1aeb-46af-e8ce-2c74d7d5f642"
      },
      "execution_count": 18,
      "outputs": [
        {
          "output_type": "stream",
          "name": "stdout",
          "text": [
            "/content/silero-models\n"
          ]
        }
      ]
    },
    {
      "cell_type": "code",
      "source": [
        "from IPython.display import Audio, display, clear_output\n",
        "from colab_utils import record_audio\n",
        "import ipywidgets as widgets\n",
        "from scipy.io import wavfile\n",
        "import numpy as np\n",
        "\n",
        "\n",
        "record_seconds =   10#@param {type:\"number\", min:1, max:10, step:1}\n",
        "sample_rate = 16000\n",
        "\n",
        "def _record_audio(b):\n",
        "  clear_output()\n",
        "  audio = record_audio(record_seconds)\n",
        "  display(Audio(audio, rate=sample_rate, autoplay=True))\n",
        "  wavfile.write('recorded.wav', sample_rate, (32767*audio).numpy().astype(np.int16))\n",
        "\n",
        "button = widgets.Button(description=\"Record Speech\")\n",
        "button.on_click(_record_audio)\n",
        "display(button)"
      ],
      "metadata": {
        "colab": {
          "base_uri": "https://localhost:8080/",
          "height": 110,
          "referenced_widgets": [
            "c7373a2a085e4196acaea04613dc39a5",
            "a708f0dbc81f484ead42692cba269b8c",
            "f55411736f214cbbb8969d1aeb7b1b68"
          ]
        },
        "id": "xJcz4iLau6vM",
        "outputId": "1152a957-a04c-45c9-c665-fb4cc3be8144"
      },
      "execution_count": 19,
      "outputs": [
        {
          "output_type": "stream",
          "name": "stdout",
          "text": [
            "Starting recording for 10 seconds...\n"
          ]
        },
        {
          "output_type": "display_data",
          "data": {
            "text/plain": [
              "<IPython.core.display.Javascript object>"
            ],
            "application/javascript": [
              "\n",
              "      const sleep  = time => new Promise(resolve => setTimeout(resolve, time))\n",
              "      const b2text = blob => new Promise(resolve => {\n",
              "        const reader = new FileReader()\n",
              "        reader.onloadend = e => resolve(e.srcElement.result)\n",
              "        reader.readAsDataURL(blob)\n",
              "      })\n",
              "      var record = time => new Promise(async resolve => {\n",
              "        stream = await navigator.mediaDevices.getUserMedia({ audio: true })\n",
              "        recorder = new MediaRecorder(stream)\n",
              "        chunks = []\n",
              "        recorder.ondataavailable = e => chunks.push(e.data)\n",
              "        recorder.start()\n",
              "        await sleep(time)\n",
              "        recorder.onstop = async ()=>{\n",
              "          blob = new Blob(chunks)\n",
              "          text = await b2text(blob)\n",
              "          resolve(text)\n",
              "        }\n",
              "        recorder.stop()\n",
              "      })\n",
              "      "
            ]
          },
          "metadata": {}
        },
        {
          "output_type": "stream",
          "name": "stdout",
          "text": [
            "Finished recording!\n"
          ]
        },
        {
          "output_type": "display_data",
          "data": {
            "text/plain": [
              "<IPython.lib.display.Audio object>"
            ],
            "text/html": [
              "\n",
              "                <audio controls=\"controls\" autoplay=\"autoplay\">\n",
              "                    <source src=\"data:audio/wav;base64,UklGRiTdBABXQVZFZm10IBAAAAABAAEAgD4AAAB9AAACABAAZGF0YQDdBAAAAAAAAAAAAAAAAAAAAAAAAAAAAAAAAAAAAAAAAQAAAAAAAAAAAAAAAAAAAAEA/////wAAAAD///////8AAAAAAAABAAEAAAD//wAAAAAAAAAAAQABAAEAAAD//wAAAAD//////////wAA/////wAAAQABAAAAAQAAAP//AAD//wEAAAD+/wAAAQAAAAAAAAAAAAEAAQABAAAAAQAAAP//AAAAAAEAAAABAAEAAAAAAP////8AAP//AAAAAAAAAAAAAAAAAAAAAAAAAAAAAAAAAAAAAAAAAAAAAAAAAAAAAAAAAAAAAAAAAAAAAP//AAAAAAAAAAAAAAAAAAAAAAAAAAAAAAAAAAAAAAAAAAAAAAAAAAAAAAAAAAAAAAAAAAAAAAAAAAAAAAAAAAAAAAAAAAAAAAAAAAAAAAAAAAAAAAAAAAAAAAAAAAAAAAAAAAAAAAAAAAAAAAAAAAAAAAAAAAAAAAAAAAAAAAAAAAAAAAAAAAAAAAAAAAAAAAAAAAAAAAAAAAAAAAAAAAAAAAAAAAAAAAAAAAAAAAAAAAAAAAAAAAAAAAAAAAAAAAAAAAAAAAAAAAAAAAAAAAAAAAAAAAAAAAAAAAAAAAAAAAAAAAAAAAAAAAAAAAAAAAAAAAAAAAAAAAAAAAAAAAAAAAAAAAAAAAAAAAAAAAAAAAAAAAAAAAAAAAAAAAAAAAAAAAAAAAAAAAAAAAAAAAAAAAAAAAAAAAAAAAAAAAAAAAAAAAAAAAAAAAAAAAAAAAAAAAAAAAAAAAAAAAAAAAAAAAAAAAAAAAAAAAAAAAAAAAAAAAAAAAAAAAAAAAAAAAAAAAAAAAAAAAAAAAAAAAAAAAAAAAAAAAAAAAAAAAAAAAAAAAAAAAAAAAAAAAACAAgADAALAA0ADAAMAAsADQAUABEADQARABYAEwAPAAwADQASABAAEwAZABYAEAAMAA0ACgAMABMAFwAcABsAFQAPABEADQAHAAMA//8AAP//+f/8/wAAAgAAAAAA/v/1//D/6f/q/+//9f/y/+3/DAASAAcAEAALAAkACAAFAAcABwAMAA0ABwAFAAcADQARABAAEgAQAAkADQAJAAsAGQARAAQA+v/r/+///f/1//3/DQACAPP/+//x//H/AgD8/+v/4//T/9j/4//f/+P/4v/O/9f/3//Y/8T/1f/F/7r/BgAlABAALQAgACQAFAAqAAgAHgA1AIkAZABpAR4A0ftI+xX7/vot+z/7R/tf++r7+/v9+zX8gvyj/J784fwG/WD9f/3C/er9Hv5P/oD++/4w/0D/ev+U//3/NwBbAIcArwDIAO8ATQF+AZYB1QHgAf8BYQKjAucCMgM3A1YDtAPnA+kDEAQkBC8ETwRsBHQEdgSSBJEEmATvBAQF7gQEBQYF8ATvBOoE4gTmBO4E7QSmBH0EfQRnBFMEOwQhBP0D7gPeA3YDOQMwA/8C1wK7ApQCZwJDAigC/QHfAc8BpQF6AWUBPwEVAfMA0QC4AJ0AiAA4AAAA+f/R/7//rf+Q/3b/Xf9D/yX/Ff8K//X+4f6y/nf+W/5M/lr+Z/5X/jb+GP7A/ZL9k/12/XL9bv1C/Sb9IP0W/RD9FP0x/TT9Jf0v/Uv9UP1U/Wf9Sv1A/VT9Xf1l/XH9MP1G/Yz9bv1v/av9vf3C/dj9lv2D/Zz9of2k/cD9zv3c/e39Kv46/iX+TP5i/lb+b/5h/ln+df5+/pT+pf6T/pL+ff51/oL+gv6S/pj+rv6r/nb+b/6x/s/+4f7G/pz+j/5d/kv+Y/5h/oX+cP5E/kb+WP5M/kn+Qf5L/mD+Yv5j/nL+dP5i/mP+RP5K/jP+Ov5q/lz+Zf5o/lf+Vv5X/kn+Q/5L/k7+TP5s/nT+Z/5//oP+fv6G/nj+c/5P/jH+Uf5M/kb+e/6O/mT+Vv5S/j3+Uv4g/gL+Ef4d/jH+M/5L/mL+cv5S/i3+L/4p/iH+FP4J/vX9BP4E/vD9Cv4N/hf+Iv4L/gf++f3+/fH96v3k/eL94/3f/ez9CP4Z/iH+If7i/c391P3G/b39yf2//dH98/32/Qn+Bv79/R3+Gv4u/kX+O/5N/jr+Jf5N/nL+OP5O/nz+hP7K/rP+nf6u/pv+i/6Y/rH+tf7I/uH+9/7v/gr/Fv8M/wz/DP/8/rf+x/7X/p7+f/6j/qH+rv7a/tj+s/6D/ov+m/6V/rP+rv6w/sv+y/7B/tT+//4P//P+0/7V/tr+4f7P/rX+of6z/s7+yf7s/t3+1v7P/rT+oP6A/pz+qP7L/sn+h/6e/qf+lP6m/rb+w/65/oP+cP6S/oX+W/6U/sz+xv7E/sH+vf62/qX+pP6D/oj+lf6Z/vX++/7S/qX+lf6T/nP+VP5L/nX+jv59/nb+af5x/o3+lv6y/tD+AP8i//j+9v71/uv+If8q/zD/Of8j/w7/BP8S/yP/Mv8m//7+AP/2/u7+Df8o/yX/Hf8Y//r+Bf8L/wj/Iv8E/+3+8f7j/vL+Gf9A/xb/6f4C/+n+1v7l/vL+Ef8U/yH/F/8I/xX/Bv8P/wn/+v7l/sz+0v72/iD/L/88/wD/7/7x/tj+/P4K/wf/Ff8E/wb/Cf8D/xL/Kf83/0z/Sv9G/zn/JP8t/yj/Pf9P/0H/Rv83/wr/Cv8L/wP/+f75/gr/+/7q/un+5v66/p/+lf6L/pr+nv6a/pj+jv6m/rv+pf68/tr+0/7b/qn+kP6Q/pf+tv67/qn+qP6y/sL+zv7Q/s/+2f7Z/tn+2f7g/uv+0f7E/sP+4P76/gX/FP8n/0P/Pf83/z//Q/9F/0n/Xv9M/yj/Pv9q/3r/cP9y/2b/WP+R/6v/nf+1/6//y//l/9j/xP++/8D/lf+n/67/n/+5/8//2f/W/7f/o/+f/5f/qv+w/7z/x/+x/6z/nf+k/6L/Y/81/+L+1/7w/vH+EP/m/un+0v68/r/+vP62/rv+kP54/pP+mv6o/rn+3/7k/uH+yf6n/p/+hP6b/rn+tP6h/o7+pP65/sH+w/7p/vv+2/7B/v7+G//t/gP/FP8s/zT/TP9k/03/Hv/0/vD+C/8g/yz/M/9G/1n/af+I/5f/of+Q/3b/g/+Y/57/m/+H/4f/l/+Q/4f/ff99/4H/lP+d/5z/p/+y/63/of+w/53/iv91/2r/av9k/3n/if9o/0X/Kv83/6j/vP+w/6X/nf/U/8H/rv/k/w0AFQALAPX/7v/q/9//1//r/xYAGwA5AEgAPwA1ADUASgBjAH0AfwBgABgA/v/d/7z/x/+6/9n/9f/9//T/1f+//3//fP+I/1//SP8p/yz/SP9D/zD/Jv81/1D/RP8s/xH/Ff9I//f+3/73/iP/U/8+/zL/IP8P/w//+P7r/gX/F/8s/1n/ZP9x/2n/cf9o/2b/if9q/13/ef+a/6H/h/+E/5//qP+Y/4z/qP/G/9P/xv+e/47/pv+s/5z/k/+H/4//af9Q/2D/Z/91/37/fP9Q/1P/Yv9h/3n/ef9q/3f/hP93/4X/kf94/3D/cv+D/8n/2v/X/8b/xv/H/83/4P8bACgAIgAtACcAOQBZAD8A/v///xwAKAAsAD8AMwA5AHEAbwBFAEsAQQBBAEAAQwBzAHkAbAAzABsAEQANACwAOwAgAPn/1f+z/7P/tP+t/5L/jv+U/5r/gv9P/0n/dP+K/2X/Uf8s/xL/Mv9D/13/dv9p/2j/Qv8q/0L/NP8r/zb/Q/9V/0//VP9m/1X/MP8e/y3/Kf8+/yf//v4S/y3/WP9n/2n/V/9o/3z/Wv9m/2b/av9p/03/Zv93/3T/eP+C/63/wv/H/+H/6//4/wIABwAwACQAKwAzADoAYQBKAEUATABJAC0AKQAlABIAJQAlABEAHABKAE0APgBXAEUASgBdAEAAPAA8ADkAHgD//xEAFAD7/7D/iP+L/47/lf+K/4X/s/+9/5//cv9c/1b/Sv9U/23/fv+g/6f/of/G/+P/1//c/+b/8v8FAAkAEAAcACcALwAyADIAIwAkACoAVwBHACoAJwAIAAoACgAAAP7//P/m/8r/yP+0/7b/uf+0/7b/tP+8/6H/oP+k/73/zP/J/73/vP/K/7j/wf/J/8v/wP++/8P/tf/U/9r/2P/z//T/8//4/xEALgAxADEAFAADAAcAEQATAAAAAAAVAC0AKQAiADAALwAvACkAIQAmACUAJAAiACQAPQA5ABwAAwD+/wEAAQAPAA8AOAA9AEcAQgA4AGgAZABYAFQAOAAiACAATABNAF4AaQBbAGsAPAAZABcAQwB3AGwAYwByAEMAJQCGAIEAlQDCAKwAegBSAHwAjACCAGQAXgBrAGoAUAAtACwALwBSAFcASgBBACkAIQAXAP3//P8KAA8ADQAIAAQA///e/8n/t/+w/6z/df9i/2v/df9d/0H/Pv9K/0n/Rf9O/zb/OP9P/13/Rf8i/xT/HP8x/wT//P4Z/zL/Rv9L/0f/Vv9Y/1r/df+6/8X/mf+b/5n/lv+q/7P/4f/8/xMAIwD9/+L/1//Q/8r/1f/x//3/AgAMAOj/1f/b/9n/4P/x//r/CQBEAE0APwApAE0AYABiAIIAhACPAJsAxQDgAL8AtwCrAJ8AugDUANcA1wDiAOAA2QDdAMAAmACVAJkAjQCMAIsAfgCPAJQAXwBPAFAAagB/AIoAbQBVAFAANgA8ADgAKQAgABcACgABAP//3//W/+T/2v/R/9P/3P/U/8f/2v/k/8//z//c////DgAEAPr/8v/q/8r/zv/u/wAAJQA1ACgA7v/Z/+D/yP+6/9P/7f/4/wAAyv+o/7T/sP+5/8n/4f/l/9j/xP+0/7H/qv+e/6j/r/+5/7z/sv+U/5//qP/H/9////8rADMAMwBRAHQAfgB/AG0AfACNAJUAngCmALgAvgC+AMoA2ADlAPEA/gDrAMkAvwDDAKcAlQCHAJgA0wDrANsAtQCrAKkAugCiAF4AYgByAFgAYwBlAFcATQBAABsACQAUABEAEQAjACkAKAAoACUAFwAiACoAIQAjABAAHgArAD0ARQArABoAHgAzAC4ASgChAL4AuACuAKkAlQCFAHoAdABxAHkAeACFAIsAdgBxAF4AQAA4AEIAQgAFAPT/7P/0/wIADwAWACEAMAAvACwAGwAOABEA9v/1//r/8//x//b/AAADAPz/3//v/xQAEwD4/+3/2P/R/9r/zv/E/7f/yf/B/7P/u/+3/6P/jP+U/5f/oP+x/7r/yP/a/7//nf+O/3n/jP+7/9f/4f/f/9T/vf+X/4r/rv+n/8b/LQBQADgAJgAHAAUAAgD//xEACAAkADUAFwAMAAoAFgBBAHIAcwCUALwAxQDDAKwAqwCtAKkAqwDSAOoA3wDXANMAzADUANIAwgC7AKIApQCuAJkAhwCBAFcAMQAtACYABwAJAP7/2P/O/7r/t//Y/+P/7/8QACwAIwD8/+7/4P/h//f/AAAWADMAMAAfABIAEQAZAC8AOgAbABgAJgAeACQANgBPAG4AagBTAFQAcABtAGoAfgBqAGkAbwBmAIAAmACZANAAzACuAJoAhgCHAIkAdwBlAGIAegCWAI4AfgBvAHAAaABoAFkAWQBOAFsAaQBsAGUAQQA2ABcAEQAYACwAVwBiAJgArACdAKcAmACDAIEAiACbAJsAdwB2AHgAewBqAF8AYwBrAHsAbABFACwAPQBVAHkAjACTAI4AkwCMAHwAcwBuAG0AXwBoAGcAWABjAFkAVABSAEYAQgA5ADYAIgAqAD4ANQAyABwAFwAcACkAJAAtADUAHQD7//b/DAAHAA0AEgAaABoAHwAdAAAA7P/g/+T/5v/i/wAAEAADAPr/GwBAADUASgBdAEkAOgBVAGQATwAuACQALwBDAFcARgBCAFAAOwA1AGgAaABWAGEAWgBMAD8AQQBHAFcAaQBsAHcAgAB0AGsAYQBcAHoAgQBsAFsAUAB1AKMAmwB4AGUAVwA9ADEAMwAzAD8ASgBIADsAJgAXAAgAFwAmACUALAA7ADoAKAAiAB0A8f/i/+j/5v/T/9f/7f8ZAEQARABDADwAOgA1AFwAVQAiACMANAA1ADEAIwAsACQA/v/q/wcAQABOADoANAAiACYAPABJAFEATwA/AFkAXgBOAEwAWQBiAGwAcgBiAEoAOQAoAAcAAQAmAC8ANgBJAFAAWwBEADIAMgAuADkAPQA7ADsATQBGAC4ABgDx/+3/5v/6/x0ASABPAE4APgAsABwAHQBiAIMAdABvAIEAgwBqAFoAYQBgADwAPgBJAEMARwBCAEgAYwBjAF0AbgB5AHAAXgBHADgAMgA4AEMASwBTAGMAcwB2AHoAcgBoAGEAXQBjAFoAOQAsADUAJwAgAE0AYABiAG4AlgCWAI8AjwCGAIUAjACdAKcAtQDHAL4ArwDHAMIAtgC2AJ0ApACrAKsArQChAKAAlgCLAH4AggCSAJEAggCHAHsAfgCkALsAuACcAJ8AuACuAKUAggBaAE0ATgBUAGQAdQBgAEIAOwBKAF8AZwCBAIwAhwB5AH0AfQB7AHsAZwBlAGsAbwBmAEQAHwAAAP7/GAA4AEQATwBQACMAAAADAAEAFgAbACQARABBADwAIwAUABUA///9/xAAFgABAAcAGQAPAB8APQBSAFMAZgBpAEsAQgBDAC8ALwA4AEAAXgBnAFoASwA9AD4ANwAvADUAMwA4AFcASQASAPf//v8YADEASQBbAGEAWwBCACAAEwD1//H/9f8DAAUADwAWABMAEgDq/9j/5f///yIADgD8/wIA+//+/w8AFwAeAC0AKgAaAA0ADgD+/wIAFgAwAEAAPAA1AC0APgBJADkAPQA+AFAAUwBVAGsAZQBTAFEAVQBWAFsAgAClAIsAXwA7ACcAMgBDAEwATABRAEwAQQAzACoALQA5AEwAYgBxAHMAeQBsAHwAfwCIAJ8AmACkAJ4AhgB4AHQAegB9AI8AnwCkAMQA1QDXANsAyAC7ANIAxAC2ANMAyQC8AKgAoAC9ALcAtACrAMIAxgCuAKQAnQCZAH0AbACBAIsAkQCsALIAsACpAKgAogCXAJIAjAB0AFMAOwBFAEUARABAADMATwBdAEkARQBNAFoAWABfAGcAcABSADwANQA4AFgAZABoAFIARAAsACIAPQBCADgANAA5ADQAKQAgABgARQB4AIQAewBVAEYAYABaAFYAXQBVAB0ACQAVACAAHwApAEwAWQBiAFgAOQApADYASwBKADAAKQArADYAXABqAHIAaQBXAFUAPQA7AEAANAApAAQAJQBKAFoAXwBUAFAAUgBoAG4AXwBdAGAAYwBkAE0ASwA6ADAAKgAoABYABwA+AFcASgBWAFkAHAAPAA0ACgApAD0ATQBYAFMAMAAYABIAIAAwAEMAWQBeAFAAVwBXAFcAbACAAKQAzwDiAMEAqwCWAHcAcgBuAGgAZABiAFoASgBJAFUAZgBxAH4AjwCCAIgAhwBuAE4ALgAXACQAPQBlAFoATABNAFAAUABGAEcANwA5AFgAZABtAGYALgATABMAJQA0ADIALgAnAC4AIwAHAPT/8f/k/9z/7f/5/wYACwD+/+L/0v/S/9r/9f8AAOn/2f/N/83/z//g//H/+f8lACQAEgAMAA8AQABPAFQAbgBtAFsARQBDAE0ASgBfAG4AkQCZAHgAYgBSAGkAfgB5AJsAsgC5ALQAqwDSANcAzADGAMUA3gDTAMUAngCRAKMAjACKAI8AkgCoAKsAiwCCAIQAnACnAKQAoACcAJoAggCKAH8AbgB2AHgAfwCXAKIAmwCbAJIAkQCQAJQAqQCaAI0AfQBtAHkAdgB2AHMAdwB1AHQAdQBwAGoAawBSAEsAZwBsAGkAbgBnAGMAYABkAF8AMQAjADAASgBWAGMAbQBPACkAIgAkADkARgBFAHIAgQBwAFQALAAQAAoAGAAkACoARgBUAEYAQQA7AAQA8f8EABsAKgAiACgAKAAiADQAVABuAGwAeAB7AEQANQA+AD8ASQBTAHEAgACKAIsAfwBjAFYAdQB6AJAArwC1AJYAnACiAJgAlACYAJ8ApgClAKYApQCeAJsArQC0AKoArQCvAKwArACpAJQAigB7AIkAmwBqAFsAUwBGAFAATQA5AC4AMAAbABcALwAzABoAFQAZABkAFQABAP3/AADp/+b/6v/7/wQA/v8MAA4AAgABAP////8DABUAIQAeAB4AFgAUABQA7//k//T/9v/7/wAA6v/k/+n/1f/M/8z/5P8VABwAEQAMAAUABgAFAPH/7v/2//z/EgAYABIAEgANAAwAGQAfABwAIQAgADEANQBBAEoAVgCIAI4AfwB9AHkAeQB7AHkAfQCCAIUAlwDGAN8AxwC1ALIArACqAK4AswC4AMAArgCqAK4ArgCsAKgAqgCtAL4ArgCdAI8AiQCRAJQAmACcAJgAmACUAI0AeQBzAGMAXgBkAGMAdQB6AHAAbABTAEkAYABrAH0AiQBvAFIANwA3ADsAPgBHAFwAegB3AG8AZQBhAFwARQApAC0AOQBDAEcAOABCAFAAQgA+ADsAPQBDADUANQA/AEMASQBNAD0AJwAqACkAGAASABsADwD0//X/CQAYAAwABwD8/+3/9P/t//P/+v8BAAQAFgA3ACQACgABAAUAIQAwADwASABJADkANAA8AD4AUQBaAFgAYwBuAGwAVQBDAFkAdAB6AIAAhACQAIwAnACxAKYAsQCwAJwAfwB4AJUAnACTAJoAoACNAJUApQCoAKoArQCmAJ0AlgChAKEArADBAMQAxgCzAJsAmwCuAKsArwCuALgAzACiAI8AlQBxAGEAcgCBAI8AcQBFAD4AQABRAGAAVwBYAFMAWQBOADkALQArAEQASwBQAEoAPwAOAPD/8v/4//L/4//r/wcAGQAPAP/////+/w0AEgAPABgACQAAAP//+P/0//v/AwALABkANwBOAEoASgA/AD8AJwAnAD8ATgBTAFQARQAqABQAGAAbABgAEwD8/+r/0//c/+T/3P/h/+f/5v/g/+D/AQD7//L/+v/p/+z/5f/w/xAAFgD+//j/CgARACMASABVAEgAUABLAEwAUQBUAGsAdQB9AHUAfgCHAIMAgwB6AGsAZgBlAGgAcAB9AIsAgAB4AHMAbQBpAH0AegCCAJYAhgB+AIkAdABdAGsAaABkAH8AewBmAGsAbABaAFsAUAA+ADEAKQAaAAQADgAbACMAMQAhABIAJgAjAB4AGwAQABIAJQAxACYALAAsACAALwAoABEAGgArACgARgBQAFYAYABOAEMASwBAAEAATABgAGQAdwB7AGMAVABYAFgAWQBWAEgAYwB2AF8ATwBKAEgAVwBhAHMAkACFAHsAcABfAFoAXgBWAGMAcQBkAGEAYgBPAEwAWgBIAEoAYABlAF8AWwBMAEUAPgBHAFQAXwBtAE8AQwBHADYAPwBHAEgAUgBbAFYATAA+ACcAJAAmAC0APQA7AEcARQAoACoANQA5ADoAPQA+ADwAXwBsAGUAXgBNAFYAXgBiAGkAWABbAFEAVwB/AIYAhgCDAIUAiQCQAJUAegBrAGsAXwBqAG4AZgBeAFEASwA5AE8AYgBhAHIAdQBkAFoAQgA/AEQAUgBXAFQATQA8ADEAKwAfABoAFgARACMAKQAwAEQAOAA2ACMA+v8FAAoA/v8JAAMA/f8DAPr/9P/5/+b/zv/Q/9r/1P/K/83/zv/K/9v/3P/N/8r/yP/B/8T/xP/J/+7//f8BAO7/7f/s/+n/BQAFAAIACAAGAA0AFwASAAoAHgAiAB8AKAAfACYAJgAZAB0ALgA9AEMARABbAFkAXwCSAJ4AmACGAHIAdwCFAJoApAClAJ4AoACaAJYAlQCQAIwAjQCWAJEAmQCNAHsAcABhAG8AhAB+AHIAYQBZAFEARwBCAD8ANwA0ACsAIgAcABgAHwAdADMAQgBDADsALwA4AD4ARgBNAEYAVABWAFEAVgBbAFIATQBNAEsASQBkAG4AYABiAF8AVQBVAE4AQABFAEQAMgAVABYAHwAhABsAIAAZABoAFQADAAwAGAAbADAAMwA4AD8ANgAtABoAFAALAAIABQAXACwAOwAwABwAKAAfAC8AUABLAEkAPwArACsANAArACAAIQAdACIAIwAmACIAHQAIAP7/BwAXACkAPAA8ADsAUgBaAF0AYQBgAGAAZwB0AH8AgQB2AHAAawBvAHAAYQBvAG8AdAB4AHEAcgBzAIQAhgBxAGwAagBlAFsAXABjAFkAVQBXADoAOwBPAD4ASgBBACoAGwACAAcAHwAdACUALAAhABYAEwAVAAIA/f8YABEAFwAgABQADAAHAOf/2P/u/+z/6P/t/9z/x//J/9P/1v/c/97/3v/Y/9z/5P/k/+H/4//o/+v/DQAfAAsA/f/4//D/8/8FABgAHgAhADgAOgAtADQAOQA6ADgANgA3ADIAJwAlACwAMAA6AEYARQA0ACQAGAAGAAAABAABAAsAHgAyACsAGgAPAPf/4//7/wUALgA7ACoAPABSAEgAOgA/AEIASwBuAG0AXQBRAEwASQBPAF0AbQB+AHEAaQB2AGsAbQByAHQAbwBqAHAAdAB+AH8AZABnAHUAYQBiAFEAQQBRAEsAWQBhAGMAWgBNAEoARABKAD0AOwBBADMALwA4ACcAGwAeABMAFQAQAAYAEgAXAAIAFgAcAB4ANgAyACIADAAHABkAHgAoACwALQAxACUAJQAwAD0APwA3ADUAIAAkAB0AIQAsACsASQBJADQAKgAgAAwAEgAiACMALgA8ADQAMgA1ACsAPQA6ADAALAAjACcAJwBOAFsAWgB3AHYAYABkAGAAVwBcAFcAZACjAJsAoACXAHwAjACAAHsAkACSAI8AhwCPAI8AjgCVAI4AhgBcAEwATgA/AEcAUwBgAFEAQgBAACsAKQAdAAoAFAATAB8AOAAsACEAIAANAAgAFQAgAB8AHwAMAPX////8//j/8v/0//H/8v/8//X/EQAHAPr/BAAEAAgABQD6//r/4//a/87/0P+//77/1//a/9L/zv/F/7X/u//V/9r/7f8BAPn/9P/t//P//f8MACAAJAAsACcAJQAZABAAKAArACYAKgA5AE4ASwBEAFAATwBKAEUAPABbAG0AbgCGAIIAdwCSAKMAlACWAKkAoQCeAJkAmwCeAHYAZQBtAGEAUABCADMALAAvADwAUABLAEYAPgAqABcA///z//T/AAACAPr//f/8//X/6P/h/+H/1//Z/9n/3////wsACAADAPj/8//9/wAAAQAOADYARgBLAFUAVQBKAEEAOQA4ADsAPwA4AC4AKwApADAANAAqACAABgDz/+3/+v8CAA8ACwAJAAoAAQAHAAsABAAHACgAMgAqACkALAAcAAIA+//p/+//AQD9/+z/5v/w/+b/0f/K/9j/6f/h/+j/6f/p/+7/6v/s/+v/7v/w//P/9P///xoAKQAuAC0AMAAxAC0ALgA2ADMAOABhAHYAcwB6AG8AYwBWAE8AYgB0AHkAigCOAKkArACgAKEAngCaAJAAjgCPAJAAlgCHAJYAnACQAIwAngChAJ4ArQCxAKwAqwCxAKoAngCUAI0AhQB+AIcAjQCMAIsAeABpAGgAXwBqAGwAYABZAFEAQAAuAB4ABwACAAoADAAPAAUA+/8AAAIA///x/+3/5P/S/8f/wf/L/9L/0v/M/8f/uP+7/7n/r/+z/8D/x//A/8L/zP/S/9n/zv/K/9H/zP+//7D/o/+x/7P/nP+l/67/qf+z/8H/w/+8/8P/wv/K/9P/3f/m//f/CAAHAAoABwAUABUAEQAYACEAVgBuAHUAfQB8AHkAeACBAHUAawBpAGQAXgBYAE4AUABOAEcASQBMAE8AUABLAEoARgA1AC8ARABQAEIAMgArABcAFwAaAB4AGAAZACQALwAuACwAKwArACwALQAxADIALwAcAPT/9v/8////BQACAPr//f8EAAAABQD6//D/7P/o//X/BgANAA8A8f/Z/+b/6P/s/+3/8f8CABgAFgATAAsABAAFAP//9v/6/wUACwADAPf/9/8qAEgASAA9ADoAOwA0ACQAHgAdACUANgBGAEkANgAgABQA9P/v//v/+v/w/+H/2//m/wUAEwAbABoADwAOABgAHgAiADEAMAApAD4ATQBIAEUAUABVAGYAbAByAHUAagBhAFYASAA8ADoAVgBSAEkAVABRAE8ASQA2ADEAPAA4AC4AMABBAEgAQwAyABAADgAjACwALQBBAE0ATQBZAFoAUwBLAGIAZQBhAFwAUwBLAEwAXgB3AHYAdABdAD8ALgAYAAwADgArADoASABBAC0AJgAaAA0AFwAmAC4AMAArAB8AFwALAP//DgASABsAIgAUACoAKwAcABsAFwAWAAUA+v/z/+P/6v/p/93/1v/a/9f/x/+4/7v/s/+t/7X/v//N/87/zv/O/9b/2P/R/8D/uv+2/7//3v/0/xYAKAAgABQAAgADAAsADgAfACUAKwAgABgAIgAgABcAGwApADAAOgA/AD8ARwBJAD8ASABLAE4ASABAAEoATgBQAFAAUQBRAFAAPwAqACAANQA8AC4AOgBDAD0ANQAmABUACQAOAAsADwACAAMA/////wgAHQAhAA4AAgD8////AwAKABcADwAVAAwAAAD7//b/+v/7/+T/1v/i/+//8v/u/+//6//s/xMAKAAoACkAOwBCADgAOAA1ACAAGQAjACIAKQA1AEUAYABcAEkAPQAqAB8AHAAgACIAJQAiABkAEAAFAA4ACQAKABAAFAAVABoAKwAkABYACgAIAAAA9//9/wMABgD5//3/9//5//r/AAD1//P//v8CABQAFAAUABIADQACAPj/9v8AABIAFQAFAAUA9f/u//f/8v/1//z/AgAEAP//AQAfABgADwATABYAHgAiACYALQAuADcAQgBMAE4ASwA9ADUANgBVAGoAawBeAE4ARwBAAEsAVQBCAD4ALQAgACAALAA7ADUANAAzACgAHgAcADIAPwBCAEoAPwAuACMAFwAdACMAIgArAC8AMAAvACsAKQAlAB8AFgAVABcAGQAgABsAJQAmACgAFQAIAAAABAAIAAoABQAGABwAGgAEAPj/5f/l//H/AQAHAAgACwANAAIA//8HAAUAAwD8/+3/7//q/+v/8//y//n/BgAVABkAGQAcABEAEwAZABkAHAAXAPX/8P/2/wgACwAPABoADAAGAAcA/v8DAAoACgANABQAHAAkAB8AKAAhACcAKQAnACIAGQAcACoAJQApACwAKgA0ADoALQBKAEkASABEADQAMwAwACwALwAqADsARAA+ADcALgAtADUAOAAzAC4ALQAYABIAEwAVACUAJAAiABsA/P/r/97/1v/S/9P/5P/m/+b/7v/v/+3/+//w/+7/8P/U/9L/zv/D/8r/0v/d/+P/3//Z/8L/xP/F/7X/tv+1/7f/xv/P/97/5f/q//7/EwALAAYABAD5//r//f/w//f/8//z//7/DwAgACgAKQAhABwAGgARABUALQAwADoAQwBKAEgARwA1ACcAIwAZADcARQBKAFQAWQBRAGAAYABaAF0AVgBWAE8ARwA9AEEARQBbAFEAOQAuAB8AFQAPABQAIwAkADUAMgA3ADEAJwAtACsAIQATAA4AFQAWAAgABQAKAAoADQAGAAAAAAAKAAYABwALAAsAEQAHAPH/9f8DAA8AFQAQAAoAEwAVAAkA+//y/+z/9/8AAAIABAAAAOz/5P/g/83/zf/Z/93/4f/n/+n/AgALAA0ABgAAAP3/DgAYAB0AHAAoADIAGQAPAAsADwAeACkAMAA3ADEAKgA9ADMAPgBDAEIAQAA1AC0AIgAhACgALgA3ADcAOAA2ACwAKwAxADMAOwA2AC8AKAAhABsAFAAQAAoAAAD0/+//6//m//D/9P/2/wUABQAHAAwADgAIAAQA///4//T/1//T/9z/zf/V/9//4f/a/83/yP/K/+D/7P/s////DwAVADMALgApAC8AIAAbACIAKQAsAC8ANgA9AEIAPgBGAEwATQBNADgALwAxADwAQABIAEoAUABVAEUAPwA4ADwANAApACgALQA7ADgAOQAuACwAJAAiAB0ADwASAA0AAgD9//7/CAACAAsAEgAUABMAEwAcAA8AEAAUABAAJAAtACwAKgAkACUAJgAbAA0AEgAPAPf/8f/X/9T/2v/l/+3/5f/p/9j/zP/E/8H/wv/I/+D/5//z/+//6P/r/93/z//M/8//4f/y/wkADQAQAA8ADwAgACoAKAA0ADEANwBHAD8AMQAkABgAHQATABIAEwAMAAQAAAAAAAIA+/////3/7f/r//H/7P/p//r/BwABAP7/AwAPAAkADQAdACsAOwA5ADAAMwA5ADkAOAA+ADgAPgA9ADQAQABEAEMALwAkAB8AHwAdABwAIgApACoAKgAuAC0AJQAjAC0ANAA6AEUAQwA/ADkANQA3ACoAJwAiACIAKQA6ADoAOgA/AEMAQgA9ADUALwAoACEALwAzACoAJgAgAB4ACgAAAPz/+P/6//j/8f/t/+7/7P/v//b/AgARABIAEwAhAB8AEwAiACYAJgAwACYAEwAEABgAGwAQABEADQAMAAgAAAD7/wUAEgARAAQA5//d/+P/4v/m/+X/4v/e/+L/4P/d/+H/5P/j/+v/+P8AAAkAHAApACcALwAtABYACwAQABkAHQAVABQADAD5//T/+f8AAAEAAgD8//X//f/9//f/8f/y/+//7//8//r/7//r/+7/8P/9//X/7P/t/+n/6P/k/9z/2f/Y/9H/0//U/+P/+v/7//L/7//6//3/+v/0//D//P8HAAUABQABAAgAKAAqAB0AFgAGAPr/9v/5/wEAAAD5/wEAAgD5/wEAEgAQAA4AFwAYABEADgAUACcAMQA0ADkAPQA7ADUALQAoACgAPQBCADIAJgASAAwACgAIABkAHAAYACIAJwAfAB8AIgAhAB0AGgAUAAkABgADAAMABQAAAAIA+P/u/+f/1P/X/+P/2v/d/+r/9f/8/woAFAAdAB8AIgA1ADwAPQAyACQAFgAVABsAIwAjABUADAAKAAYA/v/7//z/AgDz/+D/4P/l/+T/5//i/97/4//q//X/AgATAB0AIAAlACIAJAAiAAoACAANAAgABwABAPr/AAAWAAkABQADAPv/AgAEAAsABQD//wgAGgAeABkAEwAKAAQABwALAAgAAgAEAA0ACgAIAAUABgAFAA0AFAAWAB8AIgAlACwAKgA1AEIAPAA2ADQAQgA+ADoAQABAADkALwATAAEABQALAAoA+//w/+X/z//S/9H/0//o//D/9//+//z/AAAAAAIABQAKAA4AAAASACQAIwAjABUAHgAiACAAHgAQAA4AEgAKAAcAIAAzADYANgAmABIAEQAPAA0ADgAQABYAIQAqACYAKgAoABgADQD6/+r/7//x/+7/7P/s/+b/5P/j/+b/AAAOABYAFQAMABYAGwAbABYAGgApACcAJwAjAAwA/v/4/+7/8v/8/wUABQDx/8v/yP/W/97/5P/X/9T/4//l/+v/8P/2//H/7//6/wgADwARAAAA7//u/+r/9v/6//7/CgAVABgAGQAQAAIA+//y/+z/7v/t//T/AAABAPf/7P/q//D/+P8AAAcAEAAMAO//5//s/+v/6v/o/+X/6P/l/+b/3//m//P/6f/g/9r/+/8OAA4AEQAGAAEAEwAuADMANgA0AB8AHAAcACoAKwAlACAAHQAeADEAMQApABIA+P/i/+T/5f/l//b/EAASAP3//P/x//D/8v/z//3/EgAQAP7/9v/p/9f/3v/m/+f/+/8CAP7/BwAGAAAAAwANAA4AIgAuACwAMQAsABsAFQAYABMAGgAaABsAOwBFADsAMwAgAAcABQATAAkACQAAAOj/9/8AAPr/BQAEAPv//P/3/+//9f8KAA0AFAAXACEAOwA5ACUAHgAgABUACgANAAgACwAJAPr/5v/j/+b/7P/4/wEABwASABUAEwAZABUAGAAdABYAFgASAA8ABwD///X/9P/2//P/5f/h//H//P/9//v/+f/4/+P/1v/e//D/EAAjAB0AFgAZABEAEAAYACQAHgAaABYADQAJAAQA+//z//D/5//k/+z/5f/e/+T/6P/w/wAACgAOAB0AFQALAAcA+/8AAAQA+f/8//D/4P/e/9X/zv/D/73/xf/I/9X/3f/a/9f/2f/o/+7//P8IAAQAAAADAAYAAQD1/+T/1//R/9T/1//q//L/9P/w//D/7v/o/+X/4f/e/+X/4//j/9P/1P/V/9L/3f/q//D/8v/l/+j/6//x//7/CQARAAYAAwAHAAUACQAJAAoADAAHAAoADAACAAIA8//q/+7/9P/6//3/DQAfABkAEAD+//H/AQACAP//EgAaABQABgAGAAUAAQAGAAEA+////wIABAADAAIA/P/u/+r/7/8NABgAGgAdABYADQACAAgAAAD7//T/5P/e/9n/5P/z//X/9v/6//v/6//p/+7/6//9/xUAIgAuACYAGgAMAAgADgAgACAAHgAYAA0AAwAEAAsACQAJAAoABwAFABIAJgAxADcALwAxADAALwAuAC8AKwAvADoANQAsADYAMQAjACkAPQA7ADgAPAA7ACwAIwAcAAgA+//x/+r/8//3//7/BwALAA0AAQD8/wIA//8HAAsACAAWABsAGgAXABcAEwATAAcA8v/o/9//0//Q/8v/zv/Z/+D/5v/m/+3/6v/i/83/xv/E/7v/xP/S/97/6P/5/+3/4P/r/+7/6//3//z/9//6/wIABAANAAcAAAAMAA8ADQAWABUABgD///v/8//9/wQACgANABEAEgAEAPn/+v/0/+j/7f/q/+r/7v/m/+v/+v/+//L/9v/5//T/+P8CAAAA/P/7//b/8f/v/+r/6//x/+z/6v/k/+j/7P/s/+3/2//U/9r/1P/J/8//0P/V/+D/5//u//T/+v/4//v/AAALABsAEQAJAAYAAgANABwAGAAQAAwADAAGAAUADwAQABEADQAPACMAJwAhADkANAAmACwAOgAwACsAKQAbABwAGQAaACcAIAAZACAAHAASAAoABgAAAPj//f/9//P/6P/m/+//7P/q/+3/3P/b/97/0v/X/9r/4P/z//v//P8BAPz/6//s/9v/zf/O/8n/y//Z/93/0f/H/9L/5P/l/97/7P/0/+//9P/i/9T/2P/W/9f/4v/x/+7/7f/c/9f/2v/Z/+D/7//t/+r/9//9//z/AwAJAAkACAAMAAsA+//3//b/7P/x//X/9//3//3/DAAcABwAHAATABEACQASABkADwAGAAEA///7//j/+v/1/wAAAAABAAAA/v8KAP3/9f/x/+z/9v///wAAAAABAAAA+v/6//D/4P/l/+j/1//d/+D/5f/y//z//P8AAP//8//0//X/5//h/+v/8v/3//z/+f/8/wgAAAAAAAcA+//z/wIAAQD6/w0ACADu//b/+v/3/wAA8//p/+//7v/n/+v/6f/o/+3/8v/x//j////5//P/+v/z//L/9v/o/+X/7v/q/+X/5P/q/+//6v/o/+P/5P/l/+3//P/2//P/+//6/+3/8f/y/+v/8v/r/+f/8v/y//P/+v/3//X//v/y/+T/7P/v/+z/8f/t//D/7//t/+z/8/8AAP7//f/7//D/8P8CAAYABwAOAAsACwAPAA8AEQAUABQADgAJAAkACgAQABsAHwAbABIAEgATABwAIwAWABYAFAAOABMAHQAaABkAIQAkACEAHQAXAAgA+P/6/+z/8/8JAAkAEwAaAB8AIAAUABAACwAEAAAABgAKAAYACwANAAMAAAAGAAMA8//t/+n/3v/j/9H/zf/Y/+D/3f/m/+T/3P/j/9X/1//d/9//1v/Q/9X/1P/h/+r/6v/u//P/7P/l/97/3P/g/97/4//j/+b/4//p//f/9P/s/+n/5v/f/+H/5//g//P/9//0//j/8f/0//f/8f/u/+7/7f/u//P//P8AAAoABQAAAP//BQAHAAkADQARABoAHAAjAB4AFQAZABYAGQAXACEALgAmACQAJQAwAC8AKAAiACUAJQAsADYAOAAsACcAGQAFAAcACwAMAA4ACAANAA4ABwACAAAA9v/y//P/9v/z//f/CAAEAPP/8v/t/+r/7P/m/+v/4v/j/+b/6f/2/+7/+f/8//X/+f8AAPL/7v/x//P/9P/t//X/+//3//H/9v/y//D/9P/3//T/9P/z//T/AAABAPj/6P/v/+r/4P/q/+r/6v/p/+n/1/+//7//w//H/8P/yf/L/8j/zv/O/8X/vf++/7//wf/L/9j/3f/X/9n/2f/k/+b/8f/z/9r/4v/w//X/AgAEAAUADQAMAAoAFgAVABoAIQAgACQAKwAsACoAIgAhACUAIgArACwAMgBBADwALwAlACcAJQAmACAAJQAkACEAJgAlACoAJQAgAB0AFgARABQAEwAWAAQABgAVABMAIwAeABcAEgAPABEADwAMAAMA/P/x//b/AwADAAEACwAKAAIABgAKAAYABwD+//v/AAD7/wEAAAD4//3////5//P/6v/c/9z/w//J/9P/1f/Z/9z/1v/C/8L/wP/C/8L/wf/F/8f/yv/L/8b/xv/A/7//wP/B/87/0f/h/9X/yP/T/9n/3f/k/+n/8f/1/wEACQAIAAoAEAAJAAYACAAJAAYABAAEAAUABAAHABYACgAFAAQA/v8CAAkAFwAmACMAJAAhABsAHgAhACgAMgAtACUAIAAqACUAKgA5ADAAMQAxADAANAAzADQAOAA7AD4AOgAyACsAIAAgABoAEwATABUAEAAJAAUABgAHAAwAEgAKAAYAAAD+//n//P8AAAMAAwACAP3/9v/x/+3/7f/t//L/8v/4//b/7v/o/+r/6f/t//L/7v/o/+D/1//V/8X/z//P/8P/rv+u/8H/vf+8/7j/vf++/8P/x//E/8T/zv/M/9D/zv/T/+P/4//U/9j/2v/a/97/5v/o/+r/9v/4//v//P8EABEAEwAVABgAGwAZAB8ADAAAAP//AAAAAAMABQD///7///8BABEAEwAlACYAIAAdAB4AGgAZABsAHQAdACUANgA7ADsAPAA1ACsAGwAeACAAIgAiACcAKQAoACoAMgArACUAIAAjACIAIgAdAAwADAALAA4AGAASABYAFQAQAAYA8//t//T/9f/1//r/+f////7/+//3//L/9v/5//z/+P/8//n/8//y//b/9//3/+//5P/l/+T/5P/k/9v/1P/U/9j/3f/c/9X/1f/O/7//wP+//7//wv/C/8L/w//E/8z/zP/O/8r/wf++/8X/0v/a/9z/3v/Z/8v/z//V/9f/4//r//T/9v////3/AAD9//z/AwAFAAcADwAPAAwADQAEAAQABgAPABAACgAAAPr/DwATABoAIwAuACcAJAAnAC8AOwA4AEYARwBHAE0ARAA9ADcAMgAtADIAOAA4ADoAOgA/ADQAKwAmACUAJgAkABQAEAAJAAkABQD7//T/8//u/+v/6//w/+//6f/w//L/6v/t//X/+//8//X/8P/v/+3/8f/x//D/7//i/9r/1//Y/+H/5P/r/+z/5//Z/8//0v/U/9T/2v/d/9D/yP/G/7b/sf/A/8T/xf/J/9D/2P/Z/9n/2f/c/97/3v/e/+D/4P/o/+3/7//x//j/+//l/9j/2f/b/9z/4//l/+T/4v/k/+j/5v/i/+H/4P/g/9r/2f/e/+X/6v/0//P/6v/m/+//9f///////f8AAAkADQALABEAFwAZACIAJQAnACgAJgAgAB4AGQAdACUAJQAqAC0ALAAmACoAKwAxADIAKQAgAB4AHAAWABQAEwAOABQAHQAdABcADgAPAAoABQALAAsABgAIAAsADAANAA4ABQADAAIADQAPABgAEwABAPf/6P/k/+X/4P/k/+X/4//f/+D/3P/Z/9T/yv/J/87/0f/D/7L/qP+t/6b/qv+5/8b/zP/L/8f/xP/I/8//0P/S/9P/1v/i/+X/5P/j/+P/5//q/+7/8P/0//D/6P/m/+v/8v/9/wIAAAD9//r//P/7//j//f/9/wAABQANABEAEgATABYADAAIABoAJAAkACcAKAAqAB8AGQAaAA8ACAAOABEAFgAQAAcAAAD9/wUABwD7/+f/5f/c/9z/3f/R/9L/2P/c/9n/1f/W/9b/1//S/9T/2//h/+H/5f/p/+n/6//n/+7/9v/w/+j/5//s/+7/7P/n/+n/8P/v//L/+/8AAAEAAAD8/+//6v/r/+b/5f/s//H/8f/y//v//v///wUAAwAAAP3/9v/u/93/2f/n//r/AAD9//7////1//P/8v/7/wAAAQADAP7//v/9/+//5v/u//H/8v/5//f/4//e/9//2//f/+L/5//n/+H/3v/W/93/3//h/+T/5v/p/+r/7v/k/9z/2//e/93/4v/u//L/8//1//P/8f/y//X/9v/7//n/+/8CAAcABQAHAAcABgARABUAFQAYAA4AAwAAAAoACwAOAAgABwAHAAYACAAHAAoACAAJAAkABwAQABIAFAAUABQAGgAnADMANAA0ADIAMAAsACkAJgAZAAIAAAAdABcADgATABAAFwAOAAMA/f/8//D/5P/l/9f/v/++/83/zP/Q/9T/1P/d/97/3f/e/97/3f/d/97/1v/V/87/zv/O/8j/yP/K/9f/2v/n/+r/7P/u//D/8P/l/97/0//V/+D/4//n/+j/4//g/+T/5P/a/9r/2//c/+j/5f/v//P/8//y//L/+v/8/wQACAD//wAA///1//X/9v/3/wEABQAFABMAHQAeABIAEgANAAMAAQD6//b/+f/3/+3/7f/s//T/AQAOACQAJgAaABgAFQASABIACwAIAAgACQABAP//AAD0//P/9P/6//3///8AAPT/8v/v/+z/7f/j/+L/1//a/+H/5f/u/+v/6P/g/9v/2v/Q/9D/0//X/9f/5//0/+z/8P/v/+3/7P/u/+//8P/x//T/9P/s/+v/4P/o/+z/4f/k/+T/5f/a/8//xf/D/8f/1P/a/9r/4P/e/97/3f/c/+b//v8FAAYACwAIAP//+/////3/AAD5//j/AwAPABMACwAMABMAEQASABEAEQAPAA8ADQALAAsACwAJABUAFgANAAoACQAFAAcACAAHAAQABQAEAAMA9v/1//H/3f/t//T/8P/1/wgACgD//wAA/f/9//r/9//3//H/7v/t//L/7f/o/+3/8//6//z/+f/5/+3/3f/g/97/2P/b/+j/7P/x//P/8f/z/+X/5v/1//T/9//x/+j/6f/n/+H/4v/f/+P/8v/w/+7/7v/r/+r/6P/x//f/+f/3//j/+f/x//L/9f/7//f//P8DAAoAEQAQABQACQD9//f/7P/w//T/+/8AAP7/AwAEAP///P/+//v/+//7//r/+f/4//r//f/9/wAABAACAAgADgADAPr/+//4//L/+f/4//v/AAD9/wAAAAABAP7//f/z//X/+P/6/wAA9P/2//v/8v/y//T/9//x//f////7//n//P8CAAAA+//5//X/8//z/+//8f/4//f/+f/+//3//P8AAAIAAQAAAAEAAAD5//T/+P/5//v//f8AAPr///8AAPj/+//6//f/+P////z/+v/6//f/9v/5//v/+P8AAAsAAAD8//z/9P/z//X/9P/3//z///8AAP7/+//5/+3/6//v/+r/5v/l/93/4f/l/9//5P/h/+f/8P/t/+v/9v/r/+X/3//Z/+H/5f/r/+f/7P/t/+n/7P/u/+r/6//v/+r/7f/x/+z/7f/r/+b/6v/t/+b/4//g/+L/5f/t//L/8f/4//3/9v/2//b/9P/1//X///8EAAcACAAAAPb/8P/v//H/8//3//v/BAANAAcABgAEAAMAAQD///3/AAACAAAA/v/v/+v/8f/j/+j/5//m//X/8//2//X/7//0/+3/7P/w/+r/7//s/+X/8f/4//X/9//3//T/9P/1//P/8P/w//D/9P/2/+7/8/////n/+P/7//n/+v/5//H/9//4//v//P/7/wUACQAHAAAA9v/3//T/9P/y//n/+f/6//v/9v/3//T/7//s/+3/7P/g/+f/8P/7/wEABQAKAA4ACQACAAAAAAAAAAoADgAJAAYABwALAAEAAAACAAQACgAJAAcADwATABMADAACAAMAAQD6//H/9/8CAAcABQAHAAoABwAJAAIA/v/6/wMABgAAAPr/9//7//v/9P/v//X/9f/m/+n/7v/4/wAA/v/9/wIA//8CAP//9//z//P/7//2//z/AAD8//L/7v/1//j//v/4/+3/8v/r/+7/8//y//b/9P/z//T/9P/u/+j/6f/u/+7/7//u/+P/4f/g/+P/6v/k/+X/4v/c/+D/5//n/+L/5v/s/+j/6P/r/+z/8P/x/+z/8f/+//v//f/4//f/+/8AAP3/9//w//H/+f/0//j/9//v/+//9f/2/+z/6v/r/+T/6//u//L/AgADAAIAAAALABEAAQD8//r/AQABAAAADAAJAAkADQAMAAsABwACAAAA/f8EABUAJQAkABQAEgAUAA4ABgD7//r//P8BAAgA/f/6/wAA9//2//L/7P/t//D/7P/r/+z/7//5//L/7//z//L/6//m/+X/6v/p/+v/9f8AAAQABQAMAAcAAAD///3//P/3//P/8f/7/wAABQAIAAAA9f/z//L/9v/u//H/AAAAAAMACgD+/wAA/v8AAP//+//3//7//f/+/wEABQAGAAcAAQD3//X/+P/4//v//v8KABcAFAAYABQADwAJAPz/+v/3//b/AgAHAA4AFQAbAB0AEAABAP3//f////v/+//+//T/+f/8//j/9//2//H/7//0//b/9P/s//L/AAADAAkABAADAP3/+//3//T/+f/8//P/9/8CAPn/+//8//H/8P/z//X/9v/v//H/AAD+/wAA/v/3/+7/9P/9/wEAAAAAAAUABAD+//3//f/7//z/8//x//H/9f/4//D/6f/n//T/8v/s/+r/3//i/+v/8P/y/+v/7//y//b//P/5//T/+P/1//T/8//x//T/9P/v//j/+f/y/+r/5f/i/+n/7P/r/+L/5//s//H/8P/z//P/7v/t//z/+f/1//b/+f8BAAAA/P/0//H/7v/s/+j/6f/p/+z/9f/4//n/9v/4//b/9f/z/+3/6f/v//f/AwACAAwAEQAFAAIAAAAAAP///v/9////BAD///j/8//2//j/+P/9//j/8//z//P/8v/z//b/+v8AAPr/+v/9//j/+f/8//n/8//3/////P///wAAAAD+//T/6v/r//D/+P/7//j/+f/3//v/+f/3//X/9P/9////CAAHAAYABwACAPz/+//5//3/AAD7//j//P/9/wIABwD///z////9/wAA+v/4//z//v/1//r/+v/0//r/+f/2//b/+v/8//v/BAABAAUAAwD+//3/9f/t//T/8//v/+f/5P/q/+z/8v/y//P/8v/1//T/+//7/wYABAD0//r/9//1//j/8f/1//j/9//3//T/9//7//n//f/9/wIAAwAAAP3/9v/0//v//P8FAAMAAgAYABMADwAEAPz/AgAEAP3/8v/6/wEACgAAAPf/9f/4//z/AAAFAAcABAABAPb/9P/0////AQAAAPz/8P/5/wEAAwABAP3/+v/9//T/8P/4//r///8CAAEA/f///wIA+/////v/+//9//j/+v/5//f/+P/y//v/+f/3//f/9P/s//D/8v/w/+z/7P/7//z/+//8//X/8v/r/+z/3v/c/+T/5v/n/+j/7P/r/+v/6P/s/+v/6//j/+T/5P/l/+f/6//w//f/+v8AAPz/+f////3/EAAQAAQAAQD+//3/AAD7//7////1//r//f////3/AAAGAAYACAAIAAAABQAJAAQAAwD+//H/7//z////AgACAAAA/f8AAP7/+P/8//n/+f/8////AAD+/wkACQAFAAsADwAKABAADwAPAAoABwANAAAA/P/6/+z/6P/t//H/8//2//v//P/2//D/8f/w//D/7f/o/+j/5f/e/9z/3v/h//D/9f/x/+v/5v/r/+z/8f/r/+7/8v/t/+7/4//g/+H/3f/e/+L/5f/j/+f/6f/r//H/8//3//f//P8DAAYADAANAA4AAwAAABMAFAANAAQABAAAAAIADAAOAA8ADQAHAAYADgANAA0AEAAPAAYACgASABkAGAARAA0ADQAOAA0ACAAEAPz/+f8EAAoACQAHAAsACwAHAAwADgAJAAUAAQAJAA0ADgAVABcAFAAQABAADQAQABAACwABAP///P/+////+P/1//f//f/3//f//v/+//n/9v/z/+z/7v/o/+v/8f/s//D/9f/3//n/AgABAP//+v/7//n/7//r//D/8f/v/+//+f8PABAAEAAMAA0ACAAGAAgACgAKAAYACwANAAgA/P8CAAEA/v/5//X/9//6//3//v/4//b/7f/o/+X/5v/r/+//6//v//H/6f/o/+z/6f/t//T/9f/3//n/+f/4//n//f8AAPv/9f/1//b/9f/v//T/9P/q/+X/6P/l/+X/6//m/+r/8P/1////CAAEAAIA+P/7/wYAAAD7//3//P8AAP7/6//m/+f/6v/0//T/7f/k/+L/6P/v/+//6P/q//L/7//w//v/BQAEAAAAAgADAAQA/f/y//T/+v/9//z/9P/z//f/8f/0//X/9//6//v//v/+//7//v/+/wEACQAEAP//AgAUABQADAAaABsAFAAQAAQABAD7//L/8//x//L/+P/5//n/7v/k/+f/8P/x/+3/9f/+//r//f/7//7//v////7/AAAJAAEA///v/+X/7v/0//b/9P/3//D/8v/1//j/+f/6//v//v8BAAgAEgAYABUADwAMAAsADAALAAkAAAAAAAEA+v/4//j/+f/7//z/9v/0//n/+P/8/wUABQACAAIA/P/6////CAAIAA4ACwABACUALAASAAYADQASABEADAAGAAIAAQADAAsAFAANAAgABwAAAAgACAADAAAAAgAEAAYAFgAVAAsABQAFAAcACAAOABQAEQAOAAsACgASAA8ACQD///7/AwACAPH/6//z/wAABgAAAP3/+/8AAAIA/P/u/93/2P/n//n//f/2//T/7v/z/+X/4//q//D/8//v//D/9P/z/+3/7v/6//7/6//i/+v/+/////P/6f/t//T/+P/5//j/7//w//f/9P/r/+H/5P/w/+3/7//l/+f////9//j/AAABAAsADgAMAAYABQAFAP///P8AAAYAAAD7/////v/+//3//v/8//z//P/9//////////7/AAD9////DgATAAsACQAaABwAEQAFAPn/6//u//v//P/r/+b/5//s//H/6f/o/+///P8DAAoACgADAAQABAAHABUADgAGAAgADgAOABAADAALAAwADAALAPj/7P/t/+z/5f/v//L/7v/u/9j/yP/R/9f/3P/g/97/2//l/+//9P/x/+3/+P/0/wAAHAAIAPf/8//u//H/8P/p/+z/5f/o/+z/7f/x/+X/5P/r/+f/+v////j/AAAKAAgABAAQAAoABQAOACAAIgALAAcAAgD3//7/BgABAAEABQD2/+v/CgAiAB0AHwAYABcAJwAnACAAJwAgACEAOAA6ADMALAAeABkAGwAaAA4AEAAPAA4AEAAJAP7/BQAJAAwADQALABcAFwAQACAAHwAVAAwADQAQAAcACgALAAAA///z//j/BgAGAAUABwAEAPr/+v/6//X/9//v//H/+//8//v//v/6//z/CAALAAYA+v/p//T//v/t//P/9v/h/9r/2P/d/+T/5f/q//H/+P8AAAUAAADx/+3/9f8AAAcAAAD///b/4//t/+//8v/4/+//7f/l/+H/8v/o/+r/9P/y//P/9v/m/+v/6v/n/+//6v/n//P//v8RABsAHQAYAA0AEAANAAIABwADAAcADQAIAAUABwAGAA4AEAANAP//AAAAAAIAAgABABgADwAEAA4ADAAAAAAADQANAAQAAgAFAAYA7//h/+j/8P/0/+7/6P/w//T/+v/+/wkAFQAOAAoADAD+//v////8//b/+v/5//v/+//4//D/6v/v//H/6v/z//L/+f/+//r/+P/1/+v/8f/7/wAABgD+//f/+//s//H/9P/v//X/9P/x/+j/5f/o/+X/5//u/+3/8f/r/+7/7v/q/+r/6v/u/+7/8P/2//L/6f/e/+L/6//4//////8EAAMA/P8BAAUABwAOAA8ADwAHAAAACQAKAAMAAQD//wEADQASABAAEgAMAAkACwAGAAcADgASABEAGwAfACIAJQAjABwAEAARABUAEwAVABAADQAUABEAEQAKAAYABgD5//r/+v/+/wUABQALAAgAAgD+/wQABwALAA0AAQAGAAIA+/8IAAoADAAKAAAAAAD9/wAAAQD5//v/9f/z//P/9//5//P/AAAKAA0AFQAUABsAGwAaABsACgAIAAkAAAD7/+v/7P/v/+j/5f/k/+v/5P/l/+3/8f/x/+v/9P/9/wYABwALABMABAD+/wQA/f/v//H/8P/v/+z/6P/3//3/+//u//D/8f/r//b/9v/y//D//v8VAA4ACQAKAAcACQACAAMACAAGAAkACgAQABAACgAIAAQAAQD5//f/9f/4//X/8//9/wMABAAAAAUABwAAAAEA/f/9/wMABwAVACMAGwAVAA4ACgAMAAYABwAIAP7/+//6/wUACwAJABAADAAGAAUAEAAMAAAA+//4//3//v/6//7/AAD9//X/8f/v//D/+P/3//T/9P/5//L/9//3//r/+v/t/+r/5//c/9v/4//e/+//8P/t//b/8f/x/+//7v/s/+v/9P/3//f/9v/x//P/+P/z/+v/6v/v//D/8//0//P/+f/9//H/8v/5/wAACAD//wMAEgARABIAFAAQABAADQARABkAHwAZABIAFAAeACAAFwAhAB8ACwANAA8ABgAIABcAFQARABIADAANABMAEQALAAsAFwAaABEAEgANAAgACQAEAAAA/v/5//j/9P/z//b/+f/8/wIAAAD9/wIA///+/wAA///7//v//f/8/wgADAAHAAIAAgABAOj/4P/e/9f/3P/n/+n/6P/o/+z/6//u//L/4v/r//v/+P/8//7/AAAAAP//+v/6/wAA/f/5//X/9P/0//v/BAAFAAgACQAGAAQAAAADAP//9v/4//b/+v/9//7/AAD1//P/8//2//X/9//5////+//8/wQACQACAAcAAwD8//n/+//x/+r/6f/u//f/AAAJAAwACwAIAAMAAwAKAAwADQALAAcAEQARAAsADAAEAP///f8AAAEABAACAAAACQAHAAYACQANAAoABAAEAAMABQALAAkACAALAAsACwAKAAkACwD9//r/AgD8//P/8v/z//P/9v/w//T/AAD8//j/+P/2//7//f/8//H/9f///wAA/v/+//z//f8AAAIADQAGAPr//v8AAPz/+//3//n/+P/8/wgABQAJAA4ABwD6//T/+P/2//X/8//t/+n/6f/n/+T/3//c/9v/3P/d/9v/3v/m/+j/6v/r/+j/6P/n/+f/6v/v//f/AwACAAMABwADAAcACwAGAAAA+v/1//L/8//3//z//v8CAP//AAABAAAA/P/8/wIACgAGAAkACwATAA4ABQAFAAAAAgAAAPv/AAAKABEAHgAfABoAGQAOAAsADQAIAAoADAAJABcAGQAUABQAFwAVABgAFwASAAsAAAAAAP7/+////wIADwAZABAACAAKAAMAAAAGAPr/8//0//r/+v8DAAUABwABAAEAAAACAAAA/P/8//7/AgD///7/AwAHAAUAAQAAAPj/9v/2//X/7//s//H/9v/5//7//P/9//n/AgALAA4ADQAEAP3/8f/w/+f/5v/r/+z/9v/y/+f/7f/s//P/9f/4//f/9//2//n/9v/4//v/AAAEAAUAFQAUAAgABAAGAAoACQAOAAoACQAKAP//+f/5//j/+P/8/wAAAwACAAQACgAOAA0ADAAHAAQABwANAAkADQANAAkADQAKAAsADQAMAP3/9v/1//r//v/8/wMABQD9/wAAAgAFAAEA/v/5//n/+f/x//X/9v/x//b/+f/5//H/7P/v/+f/6f/w/+z/6//r/+z/7f/r/+z/7P/r//H/7//u/+z/8v/4//v/+f/9/wAA/v8AAPv/8f/v//f/+v/0/+v/8P/z//r/AAD8//3/+v/0//n/+//7//f/8P/u//P/8P/z//z//P/2//b//P////7/AAABAAEABwAHAAYABgACAAAAAQAAAP//+P/q/9//6//7/wAA+/8DABAADAAEAAgACAAFAAkABwADAPv/9P/4//r//f/9/wUACAALAAoABQD///j///8LABUAFAANAAsACAAFAAcAAAAAAAcACgAGAAEABQADAAUACgAOAA8ABwACAAAAAAACAP//+v/+/wIABQAIAAoAAwACAAIABAD/////BQAAAAAABAABAAMABwAKAAUABQAIAAoACQAAAAAA/v8DAAAA9v/6//f/+P/2//z/+//v/+//8//v//P/8//l/+X/8//4//n/9//9//j/9f/w//L//f8FAAYAAAD7/+7/7f/2//X/7P/u//P/9v/4////AAD7//z//P/9//v//f/7//n//P/7//j/+/8MAAsAAwACAPr//f8EAAoACgALAAwADAAGAAAAAAACAAUADAAUABIAEAAOAAsAEAAIAAQAAAD//wAABwAJAAUA+f/6//v/+P/9//7///8AAAIAAQD+//X/9P8LAAcAAQADAP7/AQAAAAkABwAJABAACgAIAAgABQACAAcACQAHAAAA/P/6/+z/5//l/+P/8P/2//b/+f/3//f/8f/v/+v/7f/w//D/8//z//f/8//q/+r/7f/2//H/7v/v//D/8f/w/+3/9P/x//f/AgD7//j/+f/7/wAACQATABAACwAIAP//6//x//v//f8FAAoACgAAAPf/9//3//T/AAANAAYACgAHAAUA/P/4//z/AAADAAUAAAD7/wEA/v/8/wAACQAEAAkACwAGABEACwADAA4ACwAJAAQACAAMAAIA/f8CAAAABwAIAAAAAQAAAAIAAwABAAQABwAIAAEA9v/z//T/4//n/+H/5//x//n/AgAAAPr//P/5//v/9v/8//3/AAAFAAEA+//8//z//v/9/wAAAAABAPv//f/6//j/AAAGAAUAAwADAAAA/P8AAAMA9v/9/wYAAAACAP7/AAD5//7/AAAAAAQACwAGAAEA+f/3//j//P8AAAAA/f////3//v/1//f/AAADAAgABAAEAAMA9//7//f/+P/7//j/9v/6//b//P/9//v/9//9////AAAAAPv/9f/8//z////6//n/AgADAAQAAQAAAAMA///3//n/CAAGAAoABQD//wAAAAAAAAQABAAGAAUAAQAGAAoADAAKAAYABgAGAAsACQAOABAACwAMAA8ACQAIAAwAEgATABQAEAD///n/+////wAAAQAHAA0ACgAEAAUAAwAEAAcABQAHAAYACQAFAAMAAgANAA4AEwAQAA0ACgD5//3/AAD9/wEABAAJAAIA/f8AAP//+P/3//3/AwAAAP//+//3//n/+f/4//v/+v/3//L/9P/2//b/+f8AABAAEAAHAAYACAADAAAABgAEAAcACAADAAAA/v8CAP3//f///wEAAAAAAAAA//8AAAIABwAAAAAA//8AAAIA/P/3//b/9v/x//H/9f/z//b//P/+///////4//j/+P/3//f/+P/0//j/8//y//X/9P/0/+3/8P/1//D//P/5//v//f/5//b/9v/0//L/8v/0//j/+v/7/wAA+v/5//v/+f/8/wIAAgADAAcAAAABAAAA///8//7/BgAIAAEAAQAAAPv//v/8//3//f/9//n/9P/+/xAAEQAMAA4AAgD//wAA/v/6//7/+v8AAAcABQD7//f/9P/8/wUABwATABEADQALAAAA/v/+//7/+v8AAAMACwAHAAUABAACAAMAAAAAAAkAAAD9//r///8JAAoADwARABcAGgASABQAFwATABYAEAARAA4ACAAJAAMACAARABUAGwAaABUADwAPABEACgAJAAcABQAFAAQAAgABAAgACQAHAAgABgADAAAAAQDx//D/8//w//f/9//t/+z/8P/z//H/8//w//b/9P/w/+v/8P/1//P/AQADAAMAAgD9//v/+v/7//v///8CAPb/8//4//f/+P/2/+z/7//1//X/9P/z//L/8v/y//H/+f8GAAoABgAIAAoABwAGAAYA+//5//j//P/7//j/8f/3/wEAAQD9//v//P/9/////f/+/wEA//8DAAcACAADAAgABgAKAAgACgAIAAIABAABAP7//f8AAAUABQAEAP//+f/z//T/8v/w//L/9v/6/wAAAwAAAAAA+f/5//j/9f/8/+//7P/2//T/9f/8/wAA9P/m/+7/8f/t//b/9P/1//n/8v/w//L/8f/1//P/8v/y//T/9//7//r/AAABAAAAAgAAAPn/9v/8//r///8LAAMACQARAAcACwARAA0ADQAHAAcACQAIAAcADAAaACYAIwAlACEAHAAUAA4ACwALAAUAAgD9/////f/8//v/9v/9//n/8//6//P/7P/u/+7/9f8DAAAA/v/6//r//P/+//f/+//7//v//P/+/wAA+//+//v/+f/4/wAA///v/+3/7//u//X//v///wsACwADAAYABwABAAYACAAPAA8ADQAPAAYAAQAAAAIABwAKAA8AEAAKAAwACwAFAAAAAQACAAwADgAIAAsAGAAWAA8ADQAMAA4ACwADAAUABgABAPv/AQAEAAYAEAAIAAoACwADAP3///8BAPz/AAD7//f/9//2//n/+f/w//D/7v/v//H/9v/4//X/9//2//L/8//x/+r/6//r/+v/8v/6//r/5v/k/+b/6f/q/+//8v/4/+z/6//2//f/9f/2//j/+f/6//r//v/9//r/BQAKABIACAAEAAAA8//1//P/7v/0//n//f/7//7/AAD6//X/9f/4//r//P8BAAYAAQD5//z/AAAAAP3/AAD7//3//f///wgACgAJAAgAAgAFABAACwABAAMAAwADAAsADAALAA0AGQAUABQAEQAOAA4AAgD+/wAABAADAP7/AAD7//7//P/8//z/9P8AAPj/7//6//v//f8AAAAAAwACAAAAAAAKAAwAFQAWABkAJwAdABgAFAAMAAkABwAFAP//AAACAAEACgANAA0ADAAEAAYACgAKAAAA+/////7/AQACAP7///8AAPT/7v/u/+v/6P/q//D/8P/w//P/8v/s/93/3f/h/+L/5//u/+z/8//+//f/9v/1//z//v/9/wIAAADy/+j/7//x//f///8IAAwACwADAAUAAAD3//f/+f/6/wAAAQD//wEAAwAFAAgAAAAAAAMA/P8BAAYABQAGAAkACwAIAAsADAAGAAUAAAD///3/+//9//7/AQAIAAgAEgAKAPr//f/3//L/AAAAAPX/+P/9//r//P8AAP//+P/2//v/AAABAAAA//8BAP////8AAAMACgAPABQAFQASAAgABAD9//j/+///////AgAFAAEA+/8LAAYA/f/6//H/7//u//D/7//w//X/8P/s//H///8AAP//+f/4//z/+//8/wAA///7//7/AAAEAAgABQAFAAQACAAOAAgA/P8AAAMAAAAAAAAAAgAEAAgABwAHAAoABQD+/wUAAAAAAP/////9//b/8v/4//X/8P/5//b/9P/0//f/7v/u//P/9v/5//z//v8BAAUAAgALAA4AAgAGAAAAAQD+/wQABQAKAAQABgAMAAkACgAEAAoACwAFAAUAAgAGAA0AFQAMAAoAEQAMAAUABQAEAPz////7//v////4/+z/7f/t/+//7//s/+T/6/8AAAMACgAJAP//+v/3//n//P/6//r/AgAFAAUACAAEAPP/7//0/+//8f/z//D/5f/t//L/9P/2//b/9P/3//X/8P/z/+3/8v/x/+P/8P/z//r/+v8AAAsAAwD+//3/+P/4//n///8IAAoABAAEAAYACwAJAAoABAAJABcAFgAVABEAFgAUAAoABwAOAA0ADgAKAAwADAACAAUABQAGAAUABwAGAAwADwAKAAsAEQAKAAcACQD8//z/AQACAAYABwAHAAQAAQAAAPr/9P8AAAAA/f8JAAgABQAHAAAAAwABAP7//v/6//b/+P/9//z//P8GAAsABgAAAPj/+P/8/wUABQABAAAA9v/z//T/+/8AAPz/9//4//v/+v/4//T/9P/0//z//v/8/wgAAwACAAUACAAIAAsACgAIABEAGgAWABcAFgARABYAFAATAA0AAAAAAAQAAwAHAAMAAwAFAAUAAQD3//z/+f/3//b/9P/9/wEAAwAEAAcADAAEAAMA/v/4//j/+//5//v/+f/4//v/+v/4//X/8//5//r/+f/4//j/AAABAAMABgADAP7//v8AAAIA//8DAP7/8v/w/+L/4f/X/9T/3v/d/9//3v/h/+n/6v/x//z//v///wcABQAAAAEA/f/8//z/9f/3/wEAAwAHAAUABwAEAAcADAAAAP///v8NABQADAAGAAQAAgD/////AwASABwAGQAUABUAFQAPABAADwAGAAYAAwD///r/9v/y/+v/8f/y//H/8P/s/+n/7//v//z/+v/0//v//v8BAAMAAgAEAP//+v/2/+j/6//n/+f/5//p/+3/6//4//3/+f/3//v//P/6/wAABQAMAAsADgAPABAAHgAXAA4ADAANABAACwAOAAsABQAHAAcAAwAEAAQABQAAAAMADQALAAsADAAEAAsAEwANAAkABgAHAAwADwAXABAABwAGAAwADwAJAAkACgAJAAUAAgAEAAAACwAJAAoAEgASABUADAAIAAEAAAAFAAUABAABAAAA+P/5//r/+f/x//P/8f/2//D/6f/p/+7/7//2//z//P/+//r/9P/2//D/8P/x//D/9P/z/+7/8v/o/+T/7P/z//n/9f/0//T/7//z//j//P///wMAAAD6//7//v/9////AQABAAQABAAGAAQAAwAIAAoADQALAAkACwABAAIAAgADAAcACAAGAAoABAAIAAgACgALABEADwAHABEAEQARABIAEgAQABMAFQAKAAkACAAFAAYAAwAGAAMABwAAAOj/7//x//P//P/9/wIABwAIAA0AEwAMAAQACgAFAAIAAgACAAAAAwAHAAgADAAJAAUAAAABAAAAAAACAAQABQD///7/+////wEA/f8DAAAA/v/5//f/+//+//7/+//w/+//8v/x//j/BwAHAAcABwAAAAEAAAD+//3/AgAFAAEA/P/4//j/AAD8//b/+v/7//v/AAD7//X/+P/w/+v/7v/w//f//v/3//T/7v/t//D/7//v/+r/5v/o/+z/7f/s/+j/5//t/+j/5f/l/+T/5v/o/+z/6f/u//D/4v/i/+j/7//6//r/+v/1//f/+v8EAAAABAAEAPv///8IAAgABAAKACEAHAAbABMABwAIAAAABAANACcAJgAdABYADQAPABAAEgAPAAkADgAOABEAEAAJAAUAAQAFAAAA+/8AAP7/AgAFAAIA//8BAP//+//+//z/+v/2//X/+v/2//D/8//r/+7//P/2/+n/6P/p/+7/9v/4//n/+f/8//r/+//4//7/AAABAP//+//4//z/+//+//v/+f8EAAoACgALAAwAEAAQABUAFwAPAAwADQAFAAcADwAPABYAHQAXAAwACgAKAA4AEAAJAA4ABQAEAAkABQAIAAoACgAHAAkABgAAAAAAAAADAAUAAgAJABIACQALAA8AEwAQAAcACgAMAAsADQAIAA8AEgAMABEADQAHAA4ABgD7/wAA///8////BAALAAwAEAANAAkABQAKAA0ACgAJAA0ACgD7//z/BwAKAAoABQAEAAYABAABAP3//f8BAAMAEgAOAAcACQATABAACgAMAAMAAwALAAYACAATAAsACwAIAAoABwD9////AAAGAAgAAgD+/wEA/P8AAP//AQAMAAUA+v/o/+j/7f/o//j/7v/p/+7/5P/l/+P/3//d/+T/4//j/+X/2//h/+v/6f/r/+z/8f/s/+j/6f/u//X/+f/5//D/8f/0//P/+v/z/+z/4v/r//v/AAD///7///8AAAAA/f////z/+/8BAAcADQAKAAMAAgAAAAgADAATAA8ADgANAA8AFQAVAB4AHAAVABAADwAPABIADwAPAAwACgANAA4AEgAOAAkABQAIAAwA///4/wAABwADAAAA8//2/wEAAQACAAAAAQDy//r////3//f/9//3//v/AQD9//v//v/4//f/8//5//f/9v/x/+//6//0//n/7//u/9//3//j/+T/7P/v//H/7//l/+T/5//n/9v/4P/p/+b/8f/w//P/CgADAAAA/f/1//H/9//+//r//P/+//r/9P/1//n//P/9/wAAAAD9/wAAAAABAAIADAASAA0ADQALAAgACAAPABAADAALAAkABQAEAAMAFAAVAA0ADgAOABQAEQANAA4A/v/7/wMABQAHAAgABAD//wAA/////wEAAAAKABMAEgAUABUAEgANAA0AFAAQABIACwABAAsADAAQABQACgACAP7/BgAEAAAAAgD8//v/AAD+/wEA/v/+//z/AAD9//j/+//1/+z/6v/0//P/8P/0/+n/8v/y//f//v/6//b/9v/y//P/8f/y/+//9v/3//P/+f/8//j/9P/x//X/9P/0//z//P/2//n//P/8/wQABAAAAAAAAgAAAAEA///u//D/+f/9/wEAAQD+//v/+v/5//3/+v/+//v/AwAGAAgABwADAA0AEQARABUAFgAPABUAFAAUABMAGAAlABoAFAAQABMAGgAcABsAEAAHAAwACwASAA8ADwARABEAGAASAA0ACgADAAgADwALAA4ACAAHAAgACAARAA4ACAAIAAMAAgAFAAQAAAD0//P/8f/2//j//P/9//P/7v/n/+P/6//t/9v/0P/U/9z/3f/c/9z/4P/m/+j/5v/s/+j/3P/n/+D/5f/r/+7/8P/z/+7/6v/s/+3/6//y//v/9P/t/+3/7//0//j/9v/y//D/9P/0//f/+f/7//j/7v/t/+3/7P/r/+v/6//z//j/+v8EAAEAAwAHAAIAAgAAAAAA+//5//3/BwAWABAACwAIAAkACgAKAA0ADQAIAAgACQAEAAgADgALAAsADQAIAA8ADgAMAAcACgAJAAEAAgD1//j/AAAGAAUAAQAGAAIAAQAAAPn//f/8/wAA/v/8/wEA/P/6//r/AAAGAAQAAAD+/wEAAQAAAP7/8f/u//D/9v8CAAAA+P/8//f/6v/x//n/AwAKAAoAAgD+////+//1//X/+f/4//T/8//y//X/+//+/wQAAgAEAAAA9P/0/+//9P/6//3/+v/z/+n/7//0//n/+P/5//v/+P/9//3/+v/8////AAAAAAEA+v/1//b/9v/2//r//f8CAAYABAAAAP7/BQAEAAYACQAFAPz/AwALAAIA+v////v//v8HAAMA//8DAAAAAgAEAPz/CgAaABMAFAASABUAFwAUABMAHAAXAA0ABwAIAAcAAQD+/wAAAAD//xEAEQAKAAcABQADAAcACAAEAAcACAABAP///f/7//3////7//n/9v/3//f/9//3//b/8v/z//T/+P/t//T/+P/x//X/+v/5//7/9//0//f/+P/0//L/9f/7//7/AAD5//v/9v/0//f/9P/u//L/8P/u/+7/6//x//H/8P/n/+r/9f/x//D/9f8AAPn/9v/1//n/+//3//b/8f/3//7//f/+//v//f///wAA/f8AAAQABAAAAPv//v8GAAwACwAHAAYACQD//wAABgANAA0ADwAPAAAA/v8GAAMABQAMAAoACwAPABIAFAASABEAFQAUAA0ADAARAA4ADQALABUAFAANAAcACwAIAAsADAAFAAIACQADAAAAAgACAAAA/P/8//3/9//0//b/9v/3//f/+v/5//v/+v/8//v/8//6//z/+f8AAPz/9v/7//7////4//P/8f/t//H/8f/x//H/8f/s/+r/7P/y/+//8f/z/+X/5//j/+D/6v/o/+X/6//z//D/7f/u//H/7P/n/+//8v/v/+//8f/x/+7/9P/6//v/9v/6//r/AQAHAAEAAAD7//7/+P8AAAUABAAMAAsADQARAA0ADQARABAADwAKAAgABQAEAAwADAAHAA4AEgAPABQAEgAWABQAEwATAA4ADAAJAAwACQAHAAUADQASAA8AEAAPAAIAAAAGAAwADAALAAcACgAKAAQABAACABAADQANABUAGQAfABQABgAIAAcABQAEAAgAAQAEAAAAAgACAAAA///2//z//v/5//z/+f/6/wAAAgACAP//+P/5//n/6v/r/+r/6P/1//L/6P/r//L/9P/v//L/7//o/+z/4//r//D/7v/y/+f/6f/r/+v/8//2//X/8P/z//j/+P/+//7/+f/4//v//f/5//j/AAAAAPP/+f/9//n/+P/4//v/+v/3//P/9//8//T/8P/y//P/9v/2//L/8P/3//T/9P/7//r/+P///wAAAAAJAAIA/v/9/wAA+f/5/wUACQAPABEAEQALAAIAAgAFAAMABQADAP3/AQAEAAQABgALAAYAAwACAP3/AQADAAkAEgAOAAwADQAHAAoABgD9/wEABgAOAA4AEAAPAAUAAwAAAP3/+P/y/+n/6P/z//j/BgACAAIABwAAAAEABgADAAIA/v///wQACwADAAAAAAABAAAAAQAAAPn///8BAAAA+//1//b/7v/v/9//2v/s/+b/5v/r/+j/7//p/+j/5//m/+7/7P/v//T/9P/2//L/9f/9//j/AQACAPv//v/8//j/AQABAP3/AAAGAAUABAAKAAoACAATABoAFAANAPj/+v8DAAAAAgAGAAEADQASAAkADgALAAUACgAMABAAFQARABEAEAAVABQABQAHAAoABAABAPz/AQABAP7/AAAFAAQAAwACAAgAEwAHAAAACAADAAoAEAAIAAQACAAJAAsADgAQAAwACgATABUAEAASABEAEQANAA4AEAACAAEA8v/u//T/9P/1/+3//P/+/+z/7f/w//X/9f/3//z/7v/v//b/7//y/+z/7//z//T//f8AAP3/AAAHAAUA///0//b/7//v/+z/7P/v/+v/7//7//7/AAAAAAAAAAD7//f/8//1//P/8P/v/+z/8f/x//P/9//5//v/+f/8/////v8AAPv/8v/3//r/+v/8//7/AAAGAP//9v/4//b/9P/1//T/9v/2//j//f/9/wAA/f/u//X//f/7//f/+v/9/wIACAARABAAEAARABIAFgAWABMAEAALAAsADAAKAAoADgAIAPz//v8DAP//+f/z//r/9//z//P/6v/5//7/+P/8//f/9v/3/+//7P/m/+v/8v/u//f/+f/3//v/+v8EAAcABQAUABEAFAASAAwABwAJAA4AAwABAP7/AAAOAAoACQAKAAYABAAEAAUABgAKAAUAAAD9/wEAAwADAPf/+f8BAP7//P/7//X/+/8AAAAABQD//wEABQD8/+X/4v/p/+b/6P/w/+j/8P/1//3/AQAGAA4ACwD+/wAA/v8AAAIAAQAPAA4AEwAWABsAEgAHAP//AwAHAAUADQAOAA8AFAAVABcAHAAVAAgADQAFAP////8AAP//BQAHAAUABQAAAAQAAQD6//b/9f/4//r//P///wAA//8BAAAABgALAAQAAgAFAAcAEAATABoAGAAUABMAEAAOABMAEQAQAA0ABgAAAAUADAAOAA4AAQAEAAMA//8BAP//+/8AAPz//P8AAAYABQACAAUAAwD5//H/8v/1//b/8//3/wcABgAAAAUAAwAAAAIA/v8AAAQAAAD//wIABAAGAAsABgAJAAYACQAFAPX/AAD9//r/AQAHAAUABQD//wEA///5//f/9v/y/+//9//2//j/+v/x//P/8P/x//D/8v/1/+r/3v/i/+P/4v/j/+b/5f/s/+n/5v/d/+H/5f/s/+//6f/w//n/AQACAAEAAQACAP//AgAKABEADAARABUAGAAaABwAFwAbACMAIAAdAA8AEAAaABUADgAPAA8ABAALAAcAAgAEAP//AADz//L/9v/+//j/8//2//H/7v/w/+z/6//t/+v/7//o/9f/3//f/+X/8v/w/+7/5//o/+b/5f/q/+z/9/8AAPz/+v/z//H/8//1//v/AgAFAAoAAwD3//3/AAD8//3//P/5//v/+/8AAAAA+P/7//3//v/7//r//f////z//P/+//z////8//v//v8EAA0ACAAFABEAEAAPABYAEQALAAsACwAPABIAEAATABQAFAAaABMAFQAcABMADgAQAB0AGQATABgAEgAUABMAEwAQAAsA+P///wYAAAAIAAIAAgAGAAQAAgACAPz/AwAKAAYABgALAAUACQARAAcACgAQAAwADgAMAA4AEQAQACEAJgAeAB8AJAAiACYAJgAhACEAHQAPABoAFwAQAA4AEQAUABMAEAALAAEA///7//n/9f/0//b/7v/x//v/9P/u/+r/6//s/+3/6//u//H/7v/z//P/9//x//f/+v8AAAIA//8AAP7/AAAAAAAAAAAEAAsACQD+//3/AAADAAMA///5//b/9v/2/+v/7v/0//L/8f/u/+T/2v/Y/83/zf/S/9n/5v/l/93/5f/e/9j/2v/W/9r/4//i/+P/+P/5//H/8f/v//T/9//4//X/+v////7/AQAHAAcA/v/9/wIABQAAAAEABAAEAA8ADAAMAA4ACQADAP///v/5//f/6P/g/+f/5//p/+r/4v/U/9v/4v/j/+H/3P/Z/9v/1//Z/+P/5f/p/+3/6P/r/+j/4P/k/+n/6P/u//v//f8AAP//+/8AAAMA/v8CAAYACAAMAAkACAD//wMADgANAAoADQAJAAMABgAJAAQAAgASABAABwALAAwACQAKAAcABQACAAUACgAPAA0ACwADAAIABAABAP7/BgAJAAUADwAPAA8ADQAJAA0ADQATABIADwAVABoAHgAdAB4AHgAkACEAGgAfABwAGwAdACAAHwAeACIAHAAcABcAEwATAA4ACgAGAAMABAADAAAACAACAP7//P/5//L/8f/z//H/8v/w//L/+v/5//z/+f/4//b/+/8EAAEAAAAAAAIABQALABEADQAQABIACwAKAA0ADwAQAP///P/8//X//P/9//z////+//z/CgAOAAcABwADAPv/AAD5//X/9P/v/+n/5v/o/+f/6P/e/+L/6v/q//L/8//3//T/8f/1//H/7f/v/+r/7P/w/+v/6//s/+r/9P/0/+b/7P/y//L/7v/3//7/+v////3//v8EAAMA/f/7//7//v8AAAMAAwACAAQABwADAAIAAAD7////AAD+//3/9v/2//T/8v/1//f/+f/1/+f/7P/x//D/8f/y/+n/7f/t//D/7//u//v//P/+//f/9v/5//H/9P/t//D/9v/7//7/+v/y//L/AAAMAAsADAALAAkACgAQAA8ACwAHAAQAAAACAAYACgAGAAIA/f/8/wEA/v/7//n//P/4/wAA+//y//n//P/7////BwANAAcABwAFAPj/+P/+//7/BAAEAAsACwADAAgACQAGAAcACgAKAA0AAwAIAA0ADgANABAAHAAXABEACwANAAsACwAEAAUACAADAAYAAADx//L/9v/2//j/+P/7/wAA/f/+//T/7v/t//D/7//u//L/8f/5//b/+f/4/+j/8P/4//r//P/7//3/9v/4//r/9v/v/+7/8f/3//7///8AAPv//v8CAAoADQALAAwADAARAA8AAQAAAAEAEAAQABcAFgASABgAFwAWABIADwARAA0ADgATABMACQAHAA0ABwAEAAkABQABAAAA/f/6//X/9v/2////DgAJABAADgAMAA0ACgAHAAsACAAKAAwACAAGAAAA+v/5/wAAAwAAAAAAAwAIAAgAAwD6//r/+f/9//j/9P/7//r/+//5//v/+v/z/+//8//7//b/AAAAAPD/+/8LAA0ADQAPABAAEAAYABoAIQAcABIAFwARAAwADQAIAA4AFAAQAA4ADgALAAoABwD///7//f/7//n/+P/+//f/6f/p/+7/9v/5/+3/7v/3//L/8P/w//j/AQD9//7//P/y//X/9v/8/wAA//8BAAAA/P8AAPr/7v/z//T/9P/0//f//f8AAPj/6P/w//L/8//z//X//P8FAAQA8v/2//T/7f/r/+X/7v/4//r//P/6//z/AgD///r/+v///////f/+//3/+P/+////+f8AAAUAAwACAP3/9P/7//7/AwAJAA0ADQATAAsABQAIAAQA+//+/wAA9v/7//n/+P/5/+f/7//3//j/AAABAAQABgAAAPn/9P/6/wIAAQAAAPz///8EAP7//P/+/wAAAQAFAA4AEgASAA8ADAAFAAAACQAJAAUAAgAAAAMABQD3//L/9P/5//f/+P/5//b/9//4//X/9P/8////AAAGAAAA+v/3//L/+/8DAAMABgAMAAQAAwADAAEABgABAP7/AgAAAP///v/3//L/+f8EAAIABwAIAAEAAAD+//n/BAAFAAAA/v///wAAAwAGAAYAAwADAAMABwAKAA0AGAAUABQAFwAQAAwAEgASABMAFAATABgAGwAXABYAEQAMABEAFQASABcAEgAXABsAFwAbABoAGAARABIADgAHAAcACgAMAAoADQANAAoACwAKAAoAAAD7/wAA/v8CAAEA//8BAAMABgD///T/+P8AAAAAAwADAPr/AQAEAAEAAwD7/////v/4//j///8AAAAAAQD///////8AAPb/+f/9/wAABgD7//f/9/8BAAsACgABAPj/8//m/9z/3f/f/+D/3P/j/+f/5//p/+D/1v/R/97/5f/l/+n/5v/t//X/+//2//L/+P/6//f/9v/x//D/+f/9/////v8HAAoADAAKAAUAAwAIAAcA///6//v/AAAGABUAEwALAAgACAAFAAAABwAIAAoACAAIABIAFAASABEACwAMAA8AEAAQAP7//v8BAAUACQALAAkADAAMAAEA+v/6/wEACwAIAAkAAgAAAAMA//8FAAYADAANAAQAAAADAAQABAALAAsACwAHAAAAAgAAAP//BAAAAPv//v8BAAcACgAJAAoACQAGAAAA9f/s//P/8f/3//f/8P/1//T/8P/1//P/7f/w/+7/8//2//D/7//u/+n/5//n/+3/8P/2//b/9f/0//H/9//y//j/AAD7//7////+//3//v/8//X/9f/5/wAA/v8AAAAAAQAHAA0ABwD///3/AAACAAEAAQAAAPv/+/8FAAUACAAIAAEA+//2//n//f/9/wAA/v8IAAsABwAHAAcADgANAAgABQAKAAkACAAHAAwAFgASABEAGAAXABoAGgAVAA0ACwAPABIAEQAVABUADgAOAAsADAAHAP//AgD5//X/+f//////AAAAAAUABwAJAAkABwALAAcABAAFAAAA+//5//j/+P/6//X/+f/4/+v/7P/x//D/9v/+//f/9P/5//r/9v/y/+//7P/j/+L/5P/s/+r/6P/w//X/+P/2//P/8f/w//H/6//1//L/8f8AAAAA/f8AAAAA/v////r/+f/0//H/+P/7//3//v8AAAAAAgAAAAIAAAD5//r/AQAFAAIAAgAGAAwADgANAAoADAANAAUABwALAA0ADQAOABIAFgAdAB0AGQAaABoAGgAeABwAFQAVABcAJAAkAB4AJwAmACYAIwAcACAAKgAgABcAFgAXABgAGgAUABgAGAAWABsAGQAVABMADwAGAAAAAAD7//v//P/8//v/+P/2//X/7P/c/93/2//b/+b/4//o/+j/7f/u/+7/7P/p/+j/6v/o/9b/0P/V/9X/2P/b/97/3f/h/+H/3P/Y/9v/3v/d/9P/1v/a/9n/2v/X/9v/3v/h/+P/3P/b/+D/5//q/+n/6P/r/+//6f/s//v/+P/8//z/9v8AAP//AAAEAP7//v8JAAwADwATAA4ACgAPABQAGwAfAB0AHAAjACIAIwAmACQAIAAcABwAHgAeAB4AHgAfACAAHAAXABgAFgAWABcAGgAYABQAFgAYABYAFgAWABwAGAAMAAoACgAMAAkACQAPABEAEgAPAAoADQAPAAsABQADAAcADQAKAAgACgAHAAgADAAHAAUA9P/v//L/9//v/+n/8f/y//n////t/+3/7f/n/+n/6//c/9f/3v/d/+L/3v/e/+n/6P/k/+L/3v/c/97/4f/l/+b/5f/n/+X/5v/w//D/7f/o/+n/6f/m/+v/5P/q/+7/9P/2//P/9v/z//D/9//3//v///8GAAwABQD//wMAAgASABEAEAAQAA0ADQATAA8ACQAVABcAIQAeABwAHgAXABkAGQAdABkAIAAjACAAGAAVABkAGgAYABoAGgAbACMAHQAVABQAFwAbABUADQAQAA8ACwAIAAYA///+//7/+f/9////CgAMAAQA+//9//r/6//u//L/7//x/+7/6P/q/+z/7v/o/+j/8P/v/+7/7//w//r//f/8//7//f8AAAAA///w//H/+v8BAAUA/f/2//v/+P/3//7//v/7/wEA/v/y//P/+f/4//T/9v/w//D/6f/e/+P/3v/l/+v/6f/s/+7/5//h/+H/3//n/+3/8v/1//L/8v/z//j/+P/4/+//9P/9/wEAAAD//w0ADgAIAAYABAACAAEACQAHAAYACwAQABEAEAAZABwAHQAXABQAGgARABUAGAAhACQAKwAkACUAHgANAA8AEAAQABMAGAAPABEAEQAKAA0ADwATAAsABQAIAAcAAwADAAUACAD///v/+v/+/wcACwAEAAcABgADAP//9v/1//P/8f/1//T/9f/5//b/7v/t/+f/5f/q/+z/6P/n/+X/7P/w/+7/6f/m/+b/2//b/9z/3v/n//D/6//r//H/6P/d/97/0P/V/8//xv/T/9r/7P/5//n/9f/z//X/7v/s/+f/5//k//T/AgAIAA4ABgD+//j//f8BAAcACQAHAAgABwASABkAFwAQAAsABgAKAAYABwAMAAgADQAPAAsAEgAMAAgACwAHAAsAFQARABEAEgAUAB4AIAAbABoAFAASABEAGwAYAB8AJwAsAC4AKwAjACEAIAAgAB0AHgAfABkAFgAPABIADgASABAAEgAQAAwACAAEAAEACAALAAkA///3//r/+v/5//3/AgAAAP3/9P/w/+3/4//o/+n/7P/r/+3/9P/v/+z/8//z/+X/4v/g/+T/6//m/+3/6v/j/+T/5f/m/+b/1//b/9j/2f/m/+X/6v/r//v/+v/0//b/8v/t//P/9f/+/woACAAGAAwACwAHAAYAAQD9/wAADwARABkAGAAOAA8ACAAAAP//AwAJAAsADgAPAAUABgAIAA0AEAARAB8AFwAOABUAFwAfAB4AGQAUAA8ABgAHAA8ADAARAA4ADwAWABkAHgAXABMAEwAUAB0AHwAdABQADQAMAAgACgAQAA0ACQAIAAYAEgATAA4ADQADAAIABQAJAAMA/v/8//v///8AAAIACQAQAAMAAQAAAP3//P8EAAEABQD5/+b/6f/u/+//7f/r/+r/6f/q//L/8P/s//H/8f/z/+j/4v/h/+L/5v/v//D/8f/q/+j/8v/m//L/7//p/+n/6v/s/+7/8//z//P/8//v/+z/5f/x//X/9v/v//D/6//w//f//P8AAAEAAgAAABIADQAKAA0AEQAVAA8ADQANAA8ACwAMABUAFgAWACMAJQAmACMAJgAiACIAGwAeACAAEwAQAAoADQAPABIAIwAcABcAHAAfAB4AGwAWABMAEgAUAB4AHwAeAB4AEgAUABoAHQAbABUAAQAAAP3//P8DAAcAEgANAAAAAQD2//b/9//4//T/7f/t/+r/6v/x//7/+v/6//L/9//3//f/+f/6//D/6f/s/9//2P/e/93/3f/f/9T/zf/X/9H/1v/Z/9r/1v/X/97/4f/h/+X/7P/o/+z/7//m/+v/5//j/+f/8f/w//b/+v/8/wIAAgD//wAA/P/9/wMAAwAGAAEABwAPABMAEQAPABUAEAASAA0ABwAQAA0ADwANAA4ACgAGAAUABAAPABAABwADAAQABgAHAAwAGwAZAA0ADAAQAAcABQAFAAsADQAEAAUACwALABAADAAPAA8ACgAMAAoACwAMAAQAAwAGAAsAEgANAP7/+P/8/wEA////////+v8CAAcACwALAAcABgAEAPz///////L/8v/5/wAAAAABAA8AEAALABAAEAAKAA0AEAAUABgAGAAXABcAFgAWACQAIQAUABMADgAKAAYABwALAA4ACwANAA4ACgAJAAoACAAFAAAA//8BAPv/+//7/////P8AAAEA/f/6//b/7v/o/+3/7v/x//P/+v/4//n//f/9//v/+f/l/+j/6//u//b//P/5//n/9P/z//T/+v8CAAoADwANABcAEgANABIAEgAMAAsAAgD+/wAAAwAIAAAACAALAAcADAATABUAIAAbABgAFQASABQAFQAVAB0AFgAcACIAHQATAA8ACgABAP//BQAPABIAFwAUAAoADQAMAAkABwAMAAgABQACAAEA//8AAP3////7/+v/6v/l/+P/7v/q/93/5P/m/+D/5v/o/+j/3P/N/8v/0//S/9f/1v/Y/93/4P/d/+P/1v/Z/9r/2f/l//b/9f/k/+P/4//i/+b/7P/y//X/+v/2//X/+f/7//j/9f/0//f/BQADAA8AEAAIAAAA/f/+/wAAEgATABQAGAAXABcAHAAqACoAJwAhAB8AEwATACQAKgAnACUAJAAZABIAEQAOAA8AEQARAAoAFAAPABIAEgAXABAACgAKAAkABQAAAAAAAwD9/wAABAABAAgABwAHAAkAAQD7//j/7P/n//L/9f/4////BAD9//7/+//1//H/9f/1/+3/7v/u/+7/9P8DAAMA/v/1//b/AAAAAP7///8FAAAAAAACAAAA9v/5//T/6P/o/+z/9//9////AQAIAAsAAQD+//T/8v/5//3/+f/3//r/+P/4//z/+/8DAAkACQAEAAUAEQAOAAoACwAGAPz/+v/+/wAABAADAAoACwAHAAEA//8CAPv/9v/4//L/8f/x//v/AAD9//T/+v/8//z///8GAAcABQD///X/9f/7//j/7v/5/wsADwAHAAYABQD7//j/8f8AABYAHQAlABUABgAJAAMA/v8EAAgAAgABAAoADAARABkAGQAZABYAEwAUABcAFQAUABgAGQAYABgAEQAZAB4AGQATAAsABAAGAA0AAgAGAA0AEQAVAA0ACgAAAPX/7f/w//X/+/8AAPn/+P/7//3/9f/n/9b/2f/a/97/7//3//n//P/8//b/+P/4/+r/7P/u/+7/8v/x/+3/7//t/+//9P/4//r//v8BAP////8AAAEA//8AAPr/9/////3/AQABAAAAAAD7/wgABwACAAUABQACAPz/+//5//n/AAALAAQADQAWAA4AAwD1//T/9//8/wAAAQAFAAkADAAYABIACgAGAAAA+//7/xAAGwAWACAAHgAUAA8ACgALAAIA+////wYADgAWABcAFgAOAAgAAgAHAAUAAQAAAAQAAwD5//v/7f/r//D/8v/4//7/AwD//wAACAAIAA0ACAAEAP7/6v/s/+7/7v/x//j/+f8AAP//9v/z/+H/4//h/9j/4//q//X/7//y//j/8v/0//T/7v/s//L/7f/u/+//8v/v/+n/5P/j/+D/5P/s/+//7f/x////DwAUABEABwD9//T/+P8BAPz/+v8FAAkADwAfACEAHAAaABAADAARABgAFwAYACMAHgAcABUAEQAmACQAHQAkACAAGgAbAA8AEAAUAAwAFgAbACIAIQAdABMACQAMAAIABAAHAPz/BwALAAcADQAEAAAACQAHAAAAAwAHAPX/+P/8//v/AgABAAMA/v8AAP7/8v/k/+X/5v/p/+P/3f/t/+3/8//6//j/BAABAPv/+v/0//X/8f/3////CAD///L/8P/t//D/7//1//r/9v/v//P/9//x//L/6P/l/+z/6v/0//j/6f/u//b/8v/+/woACQAGAAAA/P/2//P/8f/d/9z/5v/6/wIABQAFAAQA/P/+/wAA8v/x//f/AAAEAAoAFQASAA0ADAAOAAcAAQACAAYAGAAcACYAJAD//wAA8//p//L/8//+/wMAFAAfABgADwALAAoAAAD7//r//P8AAAIACwARABIAEQALAAkACAAIAAkADQAHAAQABQD//wUAAQD4//b/5//o//H/+f8AAAEAAQAQABgAEAAMAP//+P/s/+b/6P/b/+j/6v/k//T/9//3//j//f/+//n/6v/n/+b/7f/v//j/CgACAPj/9v/s/+b/7f/5/wAADQANAAAA+f/0//P/+v/9//z/AQABAAMABAAEABMAEgARAAwABQAHAAoABwDz/+//+f/5/wEAAgD6//f//v8EAAYACgAJAP7////2//T/8v/t//T/9P/4//z//P////z/AwACAAAAAQALAAoACwALAAkABQADAAoABQAIABIAFgAQAAwADAAHAP///v/+//f/6P/r/+j/4f/t/wAACAANAAsAEQARAAgABgAAAAIABQAEAAAA+f/5//n/+v/6//n/7//n/+7/6//o/+b/4f/g/97/5//v/+T/5v/l/+H/5//t//3/BAADAP7/+f/4//P/7//q/+v/9P/5//f/9f/6/wAAAwADAAAA/v/+//v/9//z/+v/9f///wMA/v/4//z//P/+/wAABQD///v//v/7//j/AQALAAsAAgAAAPv/AwAGAPf/+f/4//v/BgAYAB4AGQAOAAQAAAAEAA0AHQAZABgAEAD///3/8v/y//n/+/8CAAAAAAAAAPv//v/+//v/+//9//z/AQAAAPz/AwAAAP7//f/6//3/AAAGAPv/+P/z//f//P8AAAQA9P/x//T/7f/t//H/8f/w/+3/8f/w/+7/9f///wQAAAD9/+7/4P/f/+n/9//8/wkADAAMAAIA+/8AAP7/8P/g/9j/3P/n/+//7//x/wAAAgAQAAoAAAD///7/AwADAAAABAAAAAAABgALAA4ACwAGABcADQANAB8AFgAMAP7/AAAHAAYACwADAP////8AAAIACQAEAAMAAAADAAQA///9//z///8CAAkADAAIAAsAEgAXABAABAAIAAYAAwACAAUAAAD4//j/+v/7//r/DQATABMAEAAAAAEAAAADAAAAAAADAPf/9P/1//P/9f/5//7/BwAIAAgACAACAPz/AAD+//f//f8CAAAACgAQAAgABgABAAAA9f/z//f//P////v//P/6//P/+v/4//b/AAAAAAsAHAAPAAUABgAAAP3/BQALAA8ADwAYABAAAgAGAP//+//8//j//P/8////AgD6//T/7v/v//v/+f/4/+X/yv/X/9//5f/i/+j/6P/p/+n/6f/m/+D/4v/j/+P/7f/2//b/6f/3//L/9f/0//f/9//7/wEA/v/5//f//v8RAA4ABQAKAAIABQAOAA4ALgAtAB0AFwAOABkAHAAXABMAEQANAAgADAADAP3///8HAP3/AQAAAAEABgAIAAoACgAGAAIAAAANABQADQAMAAUA+P/8/wcAEgAUAA0A+v/9/wQAEQAZABQADQARAA8ACgANAAUA+f/8//7/AQADAAMABwADAAUABAD9//z/+f/5/w0ADwATAA8ADAABAPD//P/y//D/+//1//3/+f/u/+3/4//j/+j/6P/s/+r/5f/b/93/4//k/+X/8P/s/+b/5v/g/9v/4v/h//L/6v/k/9P/1f/r//n/AAD///v/6v/t//T//P8PAAoACQAJAAcAAwD//wIABgAJABMAFgANAAUA///+//L/+/8DAAYABwALAB8AHQAjACMAHQAnACcAJgAcABEABwAEAA8AEgAPABcAFQAQAA0ABwAUACUAIQAkACcAIwAlACQAJAAjACEAKwAkACAAJgAdAB0AGwAQAAYACgANAAcADgALAAIA9//f/97/6v/0////+/8MAAcA6f/b/+r/+P/1//H/8v/y//H/4f/m//n/9//3//r/9v/l/+P/5v/x//n/9P/1/+v/4//c/9r/5f/2//L/7/8AAPP/9P/2/+7/5v/l/+z/9f/2//H/6f/i/+b/8f8CAAkADQAHAP7//v/+/wMAAgAAAAAAAAAFAA0AGwAUAA8ABgACAA4AEgAYABoAGAARAAgACgD5//r/FgAtADIAIQAfABwAFwASAA0AGQAZAA0ADwAMAAsABwD8//n/9v/+/wYAAAAAAAQABgAJAAkAAwDn/+n/8/8GAAcA/v///wAA/P/1//P/8v/l/9//7P/x/+7/6//1/wAAAAD+//X/6v/x/+//8v/5//L/9P/6//r////z//n/+//2//3/7//6//3/+v/8////CQARAAsA/f/+/wQAAAD/////AAD8/+X/4f/u//v/DQAFAAgABAACAAcABgAIAAkAHgAiABsAEQAFAPb///8HAAMABAAQABYABwAAAA0AAgACAAAAAgARAAYACAAOABIAEwAPAAsADgAfACcAJwAiABcADwACAAgAFwAJAPD/9/8FAAMAAQACAAgACAAEAAgABgADAPP/7P/0/+3/8f/z//H/9P/5////7//m/+T/7f8BAP7/AAABAPf/AAD8//r//f/6//j/8//1//z/AgAEAAIA9v/u//f/AADv//D/9//8/wAA/v////X/8P/4/xEAGAAOAAYA9//7//j///8LAAwABAD8/wAAAAD4//H/+P8PACAAEgAAAAUACwAHAP//+v8DAAoACwAEABIAIAAZAA4ACgARABYADQAJAAYABgAHAAcAAgD5//H//f8QAA4ACAAEAAYABgD8//v/AAAAAPL/9//z//D/7//f/9//5f/r/+3/6//1//3////4/+n/6//x//f/7v/t//D/8//u/+r/8v/v//H/9v/5//f/8v/1//X/AwABAP7/BwADAAMABQAJAAYAAQABAAYAGAAWABYAEAAPABEAEgAiABsAFwAXABAAFQATAAoADgALABQAHwAYABAADAAOAA4AGQAYABMADQAEAAoAEwAOAA8ACgASABkADAAIAAAA/f/+//7//f8BAPT/8P/8//f/7P/r//P//P/4/+3/9P/6//L/7//v//H/8P/p/+//6//q/+//9P/4//n////7//j/9P/0//j/4f/h/+b/7//v/+v/9f///wkAEAAHAAAAAQADAAwAGwARAAAA/P/3//v////8/wAADgAdABUAEAAAAO7/7//x//b/9P/0//H/+/8PAAwAEAARABYAGgANAA4AGAAaABoAGQARAAoACgAKAA0ACwAKABQAGQAOAAIAAQAIAAIACQALAA4ACQAIAAwACQAFAAYACwAMAAMA//8KABAACAAFAAQA+f/p/+v/8P/1//f/+v/+//z//P/6//n/8//2//f/6//m/+z/9f/z//v/+/8AAPr/8f/w/+3/6P/p//X/7//t//X/+v/9/wAA+v/6/wAA+P/3//7//P/+//v//P/9//3/AAD9/wAAAAACAAQACAANABAADgAIABIACQAKABMADwATABIAEAAOAAkABwAFAA4AHAAWABMADQAdAB0AHwAeABUAFQARAAkAAQAEAAUACQAMAAwACQABAAQABAD7//v/+v/z//T/8P/x//n/AgD4//X/9P/0//b//P/+//z/AAABAP//AAD6//T/8P/0//X/6v/m/+r/7//m/+r/9f/7//n//f8DAP7//v8DAAcABgAHAAwABAD///n/AgAHAAAA/f/8//v/+f/3//3///8EAAgADgAOAPr/9v/5//X//P8CAAoADwAPAA8ADwAIAAMAAgD8//n//f8GAA8ADAACAAQACwAIAA0ADAAMAAsADQANABIAEAADAAgACAAEAP7/+P/3//v/AAD4//j/+v/2//X/9P/0//L/+//8/+v/6v/x/+j/3P/d/+P/4//o//L/8//o/+b/7f/r/+b/6P/9/wgA+//5//7//P/4//7/AAAEAAEAAQAEAAUADAAOABoAHAAqACEADQARAAoA/v8AAAYAIwAlABgAFgATAAoABgAIAAMACAAPAA4ADgALAAgADAAKAAoAAgD8//n/+P/1//D/6//k/+n/8P/4//z/+//6/+r/5//q/+H/3v/j/+j/7P/q/+r/8v/1/+v/8P/5//X/9P/3//z/+f/y//n/BwAQAAwAAAAAAPf/8//n/+j/9P/+/wUA/f/8/wAABAABAP//AgAAAPn/+f/4//v/CgAVACUAIgAZAA4ABAAGAAoACQAGAA0AEAAIAAQACQAGAAQADAAPAAQA/v8AAAAA/f8BAAAA+//+/wUAAgD+/wQACQADAAAA+v/+/////f8AAAAAAwALABEADAACAP//+//6//v//f8GABYAHwAeABUADwANAAAA+/8KABAAEAAZABgAHwAaAA8ADgAHAAsACQAFAAIABwAFAAQAAgAAAAAA+//3/+//7P/u/+3/8//3//j/9P/2//j/+P/0//L/+v////f/9v/q/+f/6v/v//b///8CAAMAAAAAAP7/9f/3/wAAAwAFAAUACwAKAAMABQABAP//+P/4//j/9//+/wcAGAAhABUACAD2/+v/7//s//T/AAACAAwADAADAAoABwD9//X/9//4////EwARABIAEQAPAAwABwD///v/+////wUABwAEAAYABwACAPr/AAAHAAQAAwD9//3/+f/5//7/8f/x/+3/9f/7//f/+f/6////+v/y//H/9//z//D/8f/7//7/+f/8/wYAGgAUAAgABQACAAQA/P/7//7/AAAJAAcAAAABAP//AAD6//f/+f///wwADAAKAPr/+P/2/+f/6f/y//v/AAD//w0AEgAAAPj/9v/6////+//9////+v/7/wIACgAGAAAA///6//3/8//1//3//v8FAAIAAgAEAAYAAQAAAAEABgAJAAcABAAFAAsABQAGAAUACAAIAAQABQAIAAAAAgAEAAgAAAD+/xIADwAPAA8ACwAMAAgAAgACAAQA9//4/wIABgALAAIABAD9//b/+f8AAAYACAAGAAgABwACAAAA///8//z/9//7//z/AgAAAPb/+P/6//T/6P/t//X/9//8/wIAAwADAAIA//8AAPr/8P/x//P/+v////v/9f/7//3/AAAIAAUAAAD7/+r/5f/p/+b/8P/0//n/BQD+//b/8//z/+b/5//s/+7/7//t//X//v/4//T/9f/9//n/+v8EAAoAAwD9//3/AgAHAAYADgAcAB8AJAAeABQAEwAOAAoACwAYAB0AHAAhABYAEAAQAAsABwABAAAABAAUABgAEgAIAAgACgAIAAQA//8GAAcAAAAJABMACgABAP3//f/+//z/8//q//X/AQD9/wAAAAACAAoABwAIAAMAAAACAAEAAwAAAP7/+f/4//X/+f/+/wQACQADAAAA+f/r/+n/6f/s//P/8f/x//T/8//u/+T/3v/n/+//8v/v/+j/7v/y/+3/9P/y/+z/8f/4//f/+f/4//f/+v/7//3/AgD//wwACAAKAA4ABwAEAAUAAgD6//f//v8FAAQAAQAFAAYABAAHAAoA/v/4//v/+f/1//j//P8AAP7/+f/+//z/9v8BAAAA+v/y//L/9P/2//b/BAAMAAwADwAPAAgABQAJAAwADQAPAAoABgAFAAUABQAQABUAEwANAAwADwALAAQABQALABoAHQAcABkAEgATAA8ADAAGAAAA/v/9/wAABgAJAAkADwAFAPv/8f/0//z/+P/x//b/AAD+//7/AwAFAAYA+P/u//b/+//7//b/8v8DAP//9P/1//P/8//r/+T/7P/0//X/+P/0//X/9v/6//z/9f/2//b/+v/9//j/7v/p//X/AgD///n/+v/6//3/+v/3//z/+f/v//T//f8AAAAA+//6//r/9//2//H/8v/x//j/9f/1//b//P8AAAMAAAD3/wkAEQARAAoAAQAHAAQABQAZABwAGAAXABYAIAAdABQAFAAbABoAGQAXABMACwAJAAQACgANAA4ADwAQAAsAEgANAAsACwASAA4ACgAPAAwAAAADAP7/+P/3//T/9v/0//v/AAABAAcABQADAP///f/8//z//v/9////AQD5//n/+//8//7/AAD9//3/+f/9/wUACQAEAAMA/v8AAP//+P/4//z/8//u/+//9v/y//H/6//z//f/9f/3//b/6//i/+H/5v/k/9v/4//r/+//9P/3/wAA9v/y//L///8AAP7/AgADAP7/AwAFAP3/AQAAAPv/+//+////AAALAAsAAwAJAAgACgAMAAcACAAAAAAAEQARAA8AFAAEAP//+P/y//T/9//9//r//f8JAAgABgD///3//v/7/wAAAAADAP///f8AAP//AAACAA0ADQAJAAUAAgD9//z/AAD7//X///8EAAIA+//1//L/9P/6//T//P8AAPz//P/8//r/7v/s//P/7P/v/+3/6P/h/+D/5f/i/+P/4v/m/+3/5v/l/+b/7f/q/+n/6f/u//n/9//v//D/+P/2//b/+v/3//z/+v/8/wAAAgD+//r//v8BAPz/AAAPAA8ADQANAA0ADAANABEADQALAAYAAQACAA4AFAAZAA0ABAACAAUADwARAAkADAAHAP//9v/9/wAA8v/1/wAABAAFAAgABQAEAAsACAAKAAwAEAAKAP3/AQABAAAAAgAOABMADgAKAA4AEQAOAA8AEwAZAB4AIAASAA0ADAAPAAsABQANABAAGQAXAAsAEQAUAA8ADgARABMADAAKAAgA/v8CAAMAAQD8//z/AQADAAEA///9/wYABgDx//f/+//7//v//P/+/wAAAAD4//r/BQANAAsAAwACAP////8AAAQADQARAA4ACAAFAP//+v/6//n/AAAAAAQAAQD6//X/8v/5//7/9v/1//b/8f/x/+3/3P/b/+n/6v/p/+z/4f/f/+T/7P/p/+3/+v8IAAIAAQAMAA4ABgAMAAoACwAQABMACQABAAUACAAJAAoAEAAOAAYAAgADAAYADQARAAgABwALABUAFwAQAAEA+f/3//z///8AAPb/9v/3//b/+v/0//D/8f/x//b/9v/1//L/5f/m/+z/7f/x//v//f8BAAAA//8CAAYADAAJAAgADAAKAAgABAALABIAEAAKAAwACgACAAIA/P8AAPv///8BAAMABgAAAAEAAAD4//j/9v/1//P/7f/t/+z/7v/o/+f/4v/T/9f/2//e/9z/3P/k/+P/3v/l//L/7v/u//X/+P/4/wAAAAAAAAQABwALAAkACQAEAPz/AQADAAEAAwAFAAYABAD+/wEA/v8FAAMAAgAMAAAA//8CAAAAAQAAAAAAAAAAAAMA//8CAP///v/7//b/+f8AAAgACAAJAAsACAAGAAUABwAFAP7/AAAFAAcADwAUABIADwAWACQAIgAhACQAHwAUABMAEQAOAAsACAANABUAFwAQAAkAEwANAAgACwAPABMADQAGAAkABgAHAAMABQAFAAIA//8CAP7//P/+//v/AAD9//r//v8CAAQAAAD3//v/8P/w//3/+P/2//r/AAD8//L/7v/v/+3/7P/w/+7/7f/s//D/7v/y//n///8DAAAA+P/6//7/AQD6//j/+//7//z//P/+//3/AgAIAAQAAwAFAAQABQAEAP7/+//9//z/+f/5//n/+f/9//j/9f/1//v/BAD8////AgAQABoAEgATAA8AEAARABAAEgAKAAUACAALAAoACAAHAAoAEQAMABEAFwAUABYAFgAOABUAFgAaABUAEgAUABAAEQANAA8ADgAKAAYABAAFAAUAAgD+//j/9v/r//T/+P/0//n/9//3//L/8P/2//H/8f/3//v/9v/4//X/8v/x//b//P/5//j/+P/7//r/+P/4//b/+//6//T/9v/v//P/9v/2//f/9v/3/+//7P/x//P/8v/2//3/+//4/wMABQABAP//AAD3//z//f/1/+//7P/v//P/9P/3/+//6f/o//X/9v///wMABgACAAEABwAMAA4ACwAIAAAAAAAJAAUABAAGAAIABgACAPv//P/2//j/9f/2//n/+P/7/wQAAAAAAAAA/v8GAAMAAwABAAAA//8BAAAAAAAIAAcAAgADAAIADAAHAAAAAAACAAAAAQAAAAAABwAEAAEA/P/8//j/+f/8//T/9//7//n/8//3//H/8//2//f/9//5//j/+v/6//r/AgABAP7/AAD9/////v/z//r/AwAAAP//BwALAAcABgAGAAQABAAEAAUABAAGAAMA8//3//7/BQAFAAoABgAGAAMAAwACAAMACQAJAA8AFAAWABIADwAPAAsAFAAOAAYABQAHABAADgAMAAwADAALAAMABAAFAAYABAAFAA4ADAAJAAoACQAHAAgACAAJAAgABwAHAAgABwAIAA4ADQAKAAoABgAHAAYAAAAAAAQA+f8HAAUABQAOAAgABgAEAP3/AAABAPj/9v/4//H/7v/z//b/+P/6//n/+f/5//r/+v8DAAAA//8AAPX/+P/6//z//P/1//j/+v/6//v/+v/7/wMA///4//v//P/5//P/6//r/+7/6f/u//L/9P/1/+7/6f/u//H/8v/x//P/8//t//D/8//y//T//f/9//r/+v/6//z/+f/6//H/9f/3//H/8v/3//X/7//y//X/9f/1//f/AAD///T/9//3//H/BAAIAAIAAQAJAAYADgAQAAwACQAKAAgACAANAAsABgAQAAwAFwAWABAADwAEAAMABQACAAcACAAFAP//AAADAAUABgACAA8AGgAQAA4ABwAAAAYACAAJAAoADwAJAAYABAADAAUADQAKAAgAAwAEAAAA8P/q/+v/9v/v//P/+v/5//7//f8AAPv/7P/x//j/9f/1/+//9v8AAAAABgAGAP//AwACAAAABgABAPr/9//v/+//+v/9/wAAAgD4//r/9P/t/+f/6f/0//P/9f/1//f/+v/y//P/9//1/wEAAwD+/wMABwAEAAUABAACAAcACAAHAAgADAAHAAcABQALABAACAALAAYABQALAAgAAwAAAP//AAD+/////f/9/wgAAwADAAYADgARAA0ADgARABUAGgASABEADQAOAA8ACwANAA4ABQABAAIABgAAAPz/CgAKAAQAAwAAAAUABQAAAAIA/v/8//n/+f/6//T/+/8BAP7///8CAP3//f/2//D/8v/0//j/+/8AAAAA/f/+//n/9v/w//D/8P/v//L/8P/x//D/AwD8//j/9//y//f/9v/5//z//P8CAAUAAAAFAA0ACgAEAAIAAAADAAAAAwAAAPv/9v/r/+//9P/2/+n/7P/w/+//8P/w//X/9//1//j/+v/7//j/+v8AAAAACQAKAAcABwAKAAkACAAJAAQAAwAFAAMACAAEAPv/+f////7/+v/+//3/9//+//7/AQD9//7/BQD///z//v/2//b/8v/1//z//v8BAAUAAwD9//T/+P8CAAUAAwAAAPv/+//8/wAABgAHAAMAAAAAAAEAAAD6//P/+//+/wYAEAAHAAcACAAIABAAFQAMAAkABwAMAA0ADwAOABEADwAMAAwABwAEAAkAAQAAAAAA/f/9/wEACgAEAAYABwD9//7/+//3//L/7f/y//P/8//0//P/+P/5//H/9f/3//f//P/3//j/AAAAAP//AAAAAAUAAwD9/wAA+//6//v//v8DAAYABQABAAMAAAAAAP7/+v/2/+n/8//4/+7/8f/u//D/AAACAPz/9//3//v//f/+////AgABAAYABAAFAAQA+////wIAAgAHAAYABgADAAgACAAEAAIAAQAHAAcABwAEAAYABwAHAAQAAgD+//v/AAD//wAAAwADAAQABQAFAAYACgAJAAUABwAIAAQA9//7/wcABQACAAAA+f/9//7/+/8AAAMAAQD+//v/8//v//b/9v/5//j/+//9//r/+f/8//7/AgAJAAYABQAGAAEA9P/8////+f/9//z//v/1/+r/6f/u/+//8f/4//7/AAD//wAA/P/7//X/9P/4//j/9f/3//T/9v/4//j//f8CAAMABAAFAAIAAQAEAAsADQAKAAoAFgAUABUAFQAUAB4AEQAKABIAFQAPAA0ACgAJAA8AEwARABEACQAPAAwACQAEAAgADQAJAA4ADgAMAAoABwAGAAgABgAAAAUAAAAAAAIA+v////v/+v/8//v////9//v/+//+//z/+//6//3/9//1//n/+f/6//v//v8BAAAA/v/7//v//v8DAAIA/P/7////+P/6//n/+f/8////CgAHAAEAAAD//+7/7P/x/+//8f/y//L/8v/y/+7/8f/0//X/9f/y//D/8//w//f/AQAAAAkABwAEAAUAAAD///7/AAACAAIAAAD//wcAAwADAAEA/P/9//3//P/4//3////9////AAABAP///v/9//j//f/7//r/+f/5//z//v8CAA4ADQAKAA0ACwALAAcACAAJAAkAAAD7/////f/+/wMAAQACAAAAAgAEAP3//v8AAAcAEQANAA4ACQAFAAgACQAFAAgABAAHAAMA/P/8////AwDy//L/+v/x//f/+P/2//f/+v/8//v/9P/v/+3/6f/t/+b/6v/v/+z/6//q/+7/9P/z//D/8v/3//7/+v/5//z/+P/3//7/8v/w//b/+f8BAAAAAAAAAAQAAAD2//j/BAAGAAAA//8AAAYACAAHAAcABAABAAEAAgAFAAgADAAJAA4AEAAOAAYAAAACAAQABwAAAPr/+v8AAAgACAASAA8AAQAGAAAABwAIAAgACAD2//7/BgAAAAMAEAAQAA4ADAAJAAUA/v/7/wEABgADAAAAAAD///v/+//8/////v8AAP7/9f/3//H/7v/z//r/+P/2//L/9P/7//n//v8CAAQAAAAAAP7//f///wQACgAIAAYABwAKAAYAAwAJABEAEQALAAsAEAARABQAFQAXABQADwANAAMABAAIAA0ADQABAAMACQAOABMACgAOAAwABwAIAAAABgAGAPr//P/+//n/7v/0//3/+//8/wMAAQD8/wEAAwD/////8P/t//L/4//q/+3/7f/v/+//5//r//D/9//8//r/+P/5//D/8f/y//X/AwD8//X/+//7//b/+f/8//n//f8BAAAABAAHAA0ACgAFAAcACwAKAAUAAwACAAQABgAKAAUAAwAWABQAFAAOAAoADQAJAAcABQAEAAcACQAEAAwACgD8//7/9f/6/wAABwAHAAIABQAFAAYAAAD4//r/+P/x/+T/7P/z//n//v/+//f/9//6//X/+f/s/+//9f/0/////v/5//n/+//+//b/8//4//f/9v/2//n/+//8/wUA///5//3/AAD7/wAAAwD8//v/+/8BAAAAAAALAAYAAAACAP3/AAD///n/+//2//X//P/8/////P///wAA/f/0//P//f8KAAgABwABAAEA/v/z//n/+v/5//n/8f/3//v/+P/8//n/9f/1//7/BAADAAUAAQAFAAkABwAHAAcA+P/7/wAA/f/5//n/+v8EAAMAAAAGAAQABQAJAAAA/f8AAAAADAAPAA0ACgAMAAkA//8AAAQACAABAAQABgAAAP//AgAKAA4ADgARABIADAANAA0ACQALAAQAAwADAAUAAAACAAYABQABAPj/AAAFAPr/+P/9//X/9v/4//f/+//+//b/7P/v//f/8//u//P/+P///wAAAAD7//j//v/5//7/+v/6//j/+f/3//f/9v/z////AAD6//v/AAD+//7/BAAFAAkACgAFAAYADgAIAAsADAASABMADAAFAAUACAAFAAQACgAOAAwADAAEAAQABwAFAAIABwAHAAgADAAHAAUAAwD//wYABwAAAAQACQAIAAgABQACAAIABAAGAAcAAwAGAAIA/v8BAAAA/v////3/9v/3//7/+v/7//3/AgACAP///v8AAP7/+f8BAAEA//8HAAIA+P/3//j/9f/y//X/8f///w0ABAACAP7/8//1//n/7f/4//f/9v/1/+H/6//w/+z/6v/d/+T/6P/f/+X/7v/0//f/8P/u//H/+P/3//3/+P/6/wIAAwAOAAgA/P/0/+z/9P8BAAkACwABAAUAEAAJAAEA/v/+/wAAAAABAP//AAABAAEAAAD6//v//v////X/9//5//v/+v/9/wMAAgABAPr/9P/4//3//P/8//v/AwAAAAAA/f///wMABQAJAAgABAAGAAwACwAGAA0AFAAWABAADQAUAA8ADgARABsAEwAQAA4ACAAHABEAFgARAA4AGAAaABcAEQAJAAkADAALAAoACAAJAAgAAgD3/+//9v/5/+7/7v/s/+//8v/1//X/6P/r/+P/2v/g//L/8f/t/+3/4v/k/+f/6/8DAAIA+P/4/wMADwAdABcAFgAFAAIABAD2//z/BwALAAUA+//j/+j/AAANAAIAAgABAPT/9v/v//L/9P/5/+7/1//u//f/9P/1//X/+f/0//j/DAAMAA4ACgASAPf/7P/+/xEAFgAQAAwAIwAcABEAHgApAC8ALQApAC8AKQAiABMABgAOAA8AEQACAPf//v8GACUAIQD5/+//BwAOAAUA9P/b/9T/w/+4/8P/x//b/+P/4f/i/+H/5v/o//b/9P/w//L/0v/Y/+H/5f/v//D//P8HAB4AMwAfADAAOAA3ACcAEQABAPr/9P/u//D/7P/v//j/+f/t//3/EAAKAAIABAADAPX/5v/m/+b/1f/Y/+f/5f/s//n//P/x//f/AwAAAAoAFwARAPv//P8AAAAA+v////n/0P/X/+n/+f/1//X/9v/Z/93/6//9/+3/6f/f/9j/7//y/+7/8P/x/+T/8/8WABAAGwAaAB8AFwALACEAIwAjACIAFwANAA8ADgAMAAoACwAMAP3/AAD5/wcAGgAkACcAHAAmACEACwABAPj/9f/o//P/6//q//P/9P/5/wAA+P/0/x4ALwAhACMANABDAB4AJAAwABIA/f/2/xgAMwAsAC0AQQAmABcALAAkABIAEAAaAAQA1//u//P/1//+/wIA5P/k////AgDc/wAADgD5/9f/1f8EAO3/zP/v//3/8//A/wsAPwDI/+3/LQABALz/2v8kAOj/0f8QAPf/3f/6/wsA4v/n/zsACgDm/yQALwAJAPn/QQAVAMr/AAANAN3/7f8EAOb/yv/N//7/7//i/yIAJQADAOf/DgAwAPj/6v8aAPz/x//Z/xcA9P/Z/xAACwDo/wMARwAxAAAAKwAqAAAA7P8BAAAAz//0/xMA0//W/wgAOgDy//f/bAAZANr/AQA3ABMAs/8LAP7/qP/w////xP/Z/yoA9/+Y/xQAOQDL/93/RAAjAND///8VAN7/8f8KANL/6/87ABcAy/8DAGMAFgDT/yAARgAEAPH///8GAM3/5P/9/8j/5v8OANz/sP/0/yEAuP/V/xEAzf+i//X/LgDL/8r/MwACANr/9f8hAAAA7v8XAAAAFAAoABAAJgAeAAgA2v/e//3/yf/Y//n/2//l/yUANwDy/wkAcAACANL/SQBIAOr/7v9AAAsA3v8PAA8A5P/v/yYAFAABAD0AMwD2/ysAVAD8/8L/MQAfALz/7/85AA0A6v9GADwA3P89AE8A6v/A/yIAKACo/xsAWQDc/73/DwAjAN//7f8yACUAHgARAO//BQAmAAcA2P/z/woA3f/5/wgA9f8OACAA+//2/xIAIQDq/wQAGgDy//D/AgAEAL3/6v8fAM//wv/i/wUA6//b/w8AAAD9/yUAEwAOAAcALwAZAMH/KgAyAOL/6/8bABgArv/I/wIAt//T/woA5v/F/woAVgDy/+f/XAAgALf/6f9BAAAAy/8iACIAzv/I/xIABQAJAEwAJADo/wcAPQAtAAAAKAA1AAIA7v8CAAgA1v8JACsAvf/B/yYAFQDm/9P/9//q/+b//v/z/ykAJQAEABQAKAAqAPD/DQAjAPT/4P/t/xQA2//f/xwAxv/S/xoAJgDp/+n/IgAJAAMADgDb/wkAHADj//H/IQD6/7z//f8TANr/+v8YACkA2P/b/y0AIgDz//j/FQAIANz/DQAiAA4ADAAIAOX/3v8LAC0A7v/i//v//P/a/xkAVgDs/+f/LAAGAAUAGgAhANT/FgBHAL7/0/82ACoA0v/H/xgA7v/w/xMA+//8/wUAMQABAL3/+f/w/+D/6//w/+z/4f/5//P/0//x/+b/7v/2/+r/MQARAPD/LAAUAOv/AQA5ABEACwA2AAMA5f8eACEA6/8FADUABgABACQALQAAAP3/JQAQACkALgAIABEAGQAJAPj/GQAJANP/CAA9AAEA3v86ACcAyP/h/wIA+f/w//v/8P/m/+//+/8dACgA///t/+n/9f8BAPb/3v/I/93/8v/e/9P/8v8UABAA3//P/xAALADy/+b/JwA5AO//9P8bAN//sf/w/wAAmf/E/y4A3v/E/xgAJwDJ/8z/IAASAPL//f8IAPf/3P/n//L/FQDi/+L/IQAgABQAEQAYABIADwA+ABkACQA4ADwAEAAAAC4AIgDZ/wUAKAD4/wkAMQAuAPP/3v8VABIAOwASAPr/HAD9/w4AAAD0/xkAEADk/9//LgA4APb/+f8BAAAA+f8dACkADQAAAPb/8v/5/wMAEAADAB8AEgDr/w0AIQD4//L/8P/0/+3/EgD8/+T/FgAQANj/2v8RAP//7/8WACQAAwAXACAA8f8JAAwArP+x/xIACQCn/+v/SADj/8P/CwAeAOb/+/8VAPD/AQAYAAEA6v/e//n/7v/u/+z/FwAdAPP/6P8GAAEA6P/p/wEA+v8AABQA/P/+/wMA9//s//3/CwC9/9P/AADU/8H/+P8LAN3/5f8LAPn/AwATAPP/AAAVABIA9f8UABYA7//6/+n/wf/c/+r/4//e/wgACwDg//3/EAD9//3/DwAUAPL/BgAMAPf//P/x//H/+/8DAAQAAAAfABMAEAAnACEAJQA4ADkAIwA2AEgAJwAVADEAIAD0/woALwAVAAAAKwAzAAYAIwA6ACQAFAApADIAEwAcADgAHwD+/+7/EAAKAO//+f8BAO3/0v/+/yMA/////xYAFgDz/+7/FAABAOv/+/8EAPP/+/8UAPX/wP/S/+L/1f/r//7/DQD9/wAAGQAJAAcA+v/i/93/4//d/8//8f8OAO//4P/x//H/0P/Q/+z/6P/u//P//f/+/wMADQD1/+3//v/R/9D/7P/8/+v/7v8VABUAEAAmABgAGQAZABkACgANACEA/P/d/wIAHwATAAEAHQAiAAMAAwAPAA0AGQAVABQACgAYAB8AEgATABMAFQALAAoADAAaABoABgAAACkAJQD6//3/GAALAPX/EwAUAAIACQANAO3/1P/1//T/2//u//z/+f/8/xMAGQDy//X/9P/m/+H/8P8GAPT/4P/1/xAAAQDp//3/5P/J/93/3v/S/+n/BQDp/+b/CAABANv/4P/0/7//s//d/9r/yf/l/+7/xf/W//L/0//H//f////e//D/AQDq//T/8v/c/9j/7P/f/8n/7//6/9v/7P8EAPX/9f8JAP//9v8NAAwA4P/z/wQA8v/3/w4AAwABACoALwASAB4AOAAiABQAGAAaABAAHgAqAC0AIgAsADkAMgAhACQALwAYAA4AJgAqABoAFQAsABsAFgAaAB8ADAAVADAAJgAYABcAEwALAAcAFwAPABIAFwAeABIADAARAA4AFgAPAAkAEwAGAAMACQAVAO//8f8QAPH/2//2//X/6f/3/xAA8//8/yQAAQDW//H/+v/c/9n/+v/s/97/+f8NAPz/9//v/+f/1//h/+D/3//s//P/8P/q/9z/6f8SAAYA6P/v/wMA8P/W//X/AAD8//b/BgD6//n/CgAGAPv/AQANAOv/7P8RAAsA/P8JABAA5P/k/xQAEQDv//X/EwD///P/LwA9ABMAFQAdAPz/2f8GACgABQAAACcAFwD5/wUAHQAoACUAKQAjAAAA/P/+/wIAAAAPAA8A/v/2/wYACwAYAEUATgAdABIALAAyABIA5v/h/9z/wP/B/9T/8//7/x4AKQDd/9f/AQAKAAMAAgAPAOX/zv/h/8n/x//h//T/4v/l/yMALwAnACQAJQAaAP3/7f/Q/8H/xP/C/7X/s//R/+H/3v/V/+z/AQDu/+z/CQAHAOf/5f/w/9H/zP/V/8//yv/l/wUA8//s/wwAJwACAOf/9v/7/+f/7P/8//j/9/8WABoA+v8BABIAAwDs/wIAHQAPAB0AOQAsAA8AFwAfAAMACQAgABoABgAyADgAGwAaAC4ALgAcAB0AGQD//xQAHwATAAAADgAZAAQAAAAOABMAEwALAPv/+f/+/wIAIQAsACMAKQArABEA+P8PABEA8v/m/+X/zf/F/9z/5v/p/wAAEQABAPb/CwAGAAAABgAIAAkA///8//j/2//Q/+r/+//6/wUAGgAOAAIAIwAZAP7/+f8JAO//4P8IAAsA6v/w/wMA9//e//7//v/L/87/7v/Y/77/2f/x/9P/y//s//X/1//u/zkAKADz/xEAHQDq/7P/4P8IAN//0//i/83/tv/Y//T/6P/x/xEA9//t/xEADwDu/wMANgAKAMn/0//Y/7j/sP/G/8f/v//i/wUA9//0/x4AIADv//H/OAA1AAAABAAdAPL/3f8FABUA9f8ZAEYALQAtAGMAbwBFADsAVQA7ABUAIQAZANv/4v8mABUA9v8jAFsAKAD7/zYAWgAqACQASAA9ABEAIAA5ABUAAgAZAPP/2P8jAEYA8v/r/0AAJwDi/wEAKwD6/+j//P/f/77/+P8KALz/2v8SANb/e//C/wkArf+O//P/9/+2/9j/FADq/9b/9f/d/6z/sf/A/6P/k//M/9H/nP+g/8T/r/+Q/7P/3P/Q/9f/AAAKAP//AAAcABUA8//w/w4ACwDq//L////P/73/5P/R/67/4f8NAND/vP8aAC8A8P8AAIMAbAAIACQAWAAvAAgAOwBEAAcAEQA3AAsA+f8cADQAIgAuAFUAUABEAFsAVAA3ACgAQAAVAAEAJAAiAAYAGABBACIAAwAsADkADQAVADkAIQADACcANQD4/+//BQACAOb/5f/w/wAAGgAEAM//7v8EANz/vf/l//v/5v/k/97/1/8UACcACQAPADoAGADi//f/BQDn/+X/8P/a/7z/0v/G/4X/jP+m/63/oP+1/9v/2//q//v//P/v/+j/9f/k/97/AwDy/8X/xP/U/6T/iv+y/7f/yv8JAB0ADQAqAGIANwD5/xcAMQAGAN///P8DAOj/9v/8/+X/6/8UABQABwArADsAJAAuAEsAYwBQADwAPQAkAA4ABAALAAQA9P8QAAUA6v8PADwAOgAUACYAVAA5AC0AOgBkAG4ATwBHADcALgAgAPH/6v/5//H/1v/U//H/4P/v/w8A5//i/wgALAALAOn/DwAeAAgA5v/c//P/2f/T/97/5f/a/8v/1P/K/83/6v/5//H/3//4/xIAAADq//P/7//c/+D/8P/j//H/AAD1/+n/6v/9//H/6v8BAPf/5P/o//z/+//e/wQALwAsADQANAARAPb/CgASANf/1v/3//T/0P/U//7//v/6/xMA/v8CADwAKADl//b/LQAKAOL/BAAEAN3/1f/v/9X/yf/s/+//6v/5/ygAMQAXAB8ANwAaAPz/EgAkAPj/8P///+L/yP/f/+L/xf+7/+P/5f/W//D/CgAWACkAOAAyAAAA8f/o/+T/4f/V//X//v/f/9v/8f/1/9j/3v/5/+D/3P/2//D/8f/+//X/5f/x/xEABAAHACcAJQD+/wkALAAVAOv/AgAHAOf/4//x//D/+v9AAFEAIwA0AHgAYgATACkAWQAvAP3/IgAtAP//8P8YAAkA3P/8/xwAHwAWAD4AWQAwACUAOAAsAPn/6/8DAO3/0//p/+v/2P/L/+b/9v/d/+H/9f/y/+//AgAZAAEA7v/5/+3/yP/I/8//wf/D/9P/y//E/9L/2f/S/9D/5f/3/+//8v/7/wEACgANAAkADgAOAP//6P/w/wAAAAD1/+b/8/8FABAAIQAgABgAFwAYAA8ADgAZABgACAD+//X/9f/+/w0ADgAWABwAFgAUACAAIwAXABYAFwAWABUALgAyACIAIgApACYAGAAoACIADwAUABYA///5/w0AAQDi//D////z//r/CAAKAAcAGgAlABUADQALAP7/6f/i/9z/5f/n/+P/3v/d/9X/0//p//3//P8BAAkAAwDw/+r/0//Y/97/0v/E/7r/wf/F/9r/5f/g//X/BQD///z/AQAEAPX/+P/z/+r/CwAPAPr/AQAgABQA+f/+/wMA+v8SABoAAAD9/yEAHwABABoAKAAWABEAHQAaAAgALQAyABYAEwAQAP3/8/8FAAUA9f8CABAADwAdAB8AJgAtAC8AJwAiAC8AIQACAAAAAgAAAP7/7//s/+f/+v8DAPn/BAATAAAA/P8bACIADgARABYAAADi//L/AwD5/+z/8P/u/9b/3v/u/+v/3v/1//v/7//3/wAAAwDu/9z/3//Y/9v/9P/y/+r/4v/y//b/7f/2//v/8f/4/+7/6P/4/wMA9f/p//P/8f/l/+r/7//1//r/AAD4//n/BAAGAPz/9P/1//H/6v/7//r/+v8HABgADgAFABAADQAIAAYAAwD3//L/+//0/+v/6f/z//L/8P/v//3/DQAPABUAHQAmAA8AAAABAOn/5//x/+//7P/z//f/8/8GAA4ACwARABYADQAHABMADQANACMAFQAIAB0AKwAaABoAIwAiABgAKQAYAP//CAAZABMACAATAA8AAQAQABQADQAaAC0AIwAaACUAHwATABUABQD4//n///8QAAgAFAAUABkAHQAaADgAKwAbABgAFgAXAAoAFwAGAOr/+P////n/+/8HAAEA+/8PAA4A/P8EAA0A8v/y//j/6//d/+r/4f/O/+H/5//j/+b/8P/k/9n/7f/w/+P/8v/z/+n//f8GAP//9f/4/+n/3//2/+//7f/6/wYAFQAdACUAEQAHABIAAAAEAA0ABQAFABsAFAAGABYAIgAJAAgAFgADAAAAFAAFAPH/CQAXAAcADQAdAAYABAAbAAwA9/8WACcADAAMAB0ABQD0/w0ADAD7/w0AGgALAAUAEQAdACAAIgAYAAwAEAABAP7/FgAWABMAFwAcAAYABAAlABwACwAYABIACQAIABAAAgD8/xcADAAAAAMAAAD9/wQACQABAAAACgAFAPj/9P/l/+T/7//0//H/+v/7/+7/9P8AAPz/9P/r/97/1P/u//T/3P/Z/+P/5//s//X/4f/I/93/7//z//b/+v8AAPz/+P/i/87/2v/U/9D/wf/A/8v/1P/e/93/8P8FAPn/6v/l/+n/8P/5//3///8HAAwABAAAAPD/8P/1/+///v/8//v//f8AAAMA+v8HAAsA//8NAAgAAQAFABgAGgANAA8ABQD3//P/8P/z//D/9v/8//f/CgAOABgAGgAVABcACgALAAEA+v/+//j//P8CABAAEwAPAAsA+f/5/wEA/P8BAAUAAwANAA4AEgAIABQAFgAKAB8AHwAdABYAFgATAAcAFwAdAA0ADwAMAAcAEAAdABsAIQArACUAFwARAAsABQAMABEAEgAOABMACgACAAQA+v/7//z//P/7/wAABgAAAAEABQD1//b/+v/w//b/AwD8/+z/+P/8/+r/7f/x//D/7v/y//r/+v8MAAgABwAHAAwACAAAAPz/+f8AAAQAAgAFAAIADQAXABYAEQANAAkADwARAAwADAAIAA4ACQAUABUADQAQAAwAEgAOAAkADAALAA0ADQABAAIA///6/wAAAQAIAAgAFQAdABcAGAATAAYAAAAKAA0ABQAMAAgACgAKAAkACwAGAAcABgAHABgAHAAkAB4ACwAGAAAA/f8BAAAACAAKAA8ACQAIAAUA8f/4//L/8f/x/+L/6//u/+7/8//1//v/AQAAAAAA5P/g/93/3v/h/+D/5f/m/+//6//l/+b/5P/f/+D/5P/i/+T/5v/o/+j/7P/q/+f/6P/p/+7/7f/r/+7/7P/1//b/9f/y/+v/7v/o/+j/5P/h/97/3f/n/+3/8//8//j/8f/t/+j/6v/p/+7/7v8AAPz/+f////P/9P/1//H/8f/u//j/9f////7///8BAAIAAAAAAAIAAAD8//r/9P/w//P/9f/8/wIABwAMAAQA//8AAAEA/v/4//z//v8BAAsAEwATAA4AEwAQABAACwAFAAsACQAEAAIAAAACAAEACAARABYAHQAOAAAA9//y//z//P8DAAYACwATAAoACAD+//z/+//7/wMA/v8NABIAFAAQAAgABwACAA4ACwAHABEABQACAAQA//8BAAUABgADAAEAAQD1//r/8f/s//T/8//5//r/+f/1//D/9P/w//T/9v/w//X//v8FAA4AAgABAPv//v8AAPv/AwAHABEAFAASABUACwANABIAEAAOAAAAAAACAPj/AwAHABEAGQAVABcAFAAWABIADQAQAAgACQAIAAkABwAFAA4A/f/5/wAA+P8FAAcABQAGAAEA/P/2//L/7//z//n/+//5//b/6P/w/+///v8DAAQAAgDx/+f/4f/g/+n/4v/3/wcACAAFAPj/8f/p/+n/8v/0////AQAJAAIA+//+//T/9P/4//H/8v/3////9//1/+//7P/s/+z/7v/v//H/8v/q/+v/7P/s/wEAEgAPABUADgAJAAEA+//1//j/BAAHAAYACgACAAQA/P/9/wYABgAJAAkAEAAWABsAGgAIAAoACAASABkAFwATAAgACAAGAAQABAACAAYABwAAAAAA/f/2/wAA+//7//7///8AAP//AQD//wAAAgD///n/+P/6/wQAAwACAAAA//8AAAAAAQAAAAAAAAAAAP//AAD+//r/AgADAAoAFgAOAAQACgASAAwADgAKAAAAAQAGAPj/9v/3//P/7//2//X/+v/4//v/+v/8/+//8v/3//n/6//w//H/8//0//j/9//7/+z/6f/u//T/9P/0/wAA+//7/wUAAgDn/+b/7/8AAPr/+//5//j/AwD/////AAAJABEACgAHAAYAAQAGABoAIQASABMAAwD+/wMAAwAOAAkABgD6/wwAEwAPABUABAAEAPv/DAAXAAEAAQARABcABwAwADcAKgAfAPD/6/8EACYADgAHAPz/5v/6//f/7P/u/+L/5//w/+v/4v/S/+H/5v/p//v/BwD8//z//f/9/w0ABwAUAAoA8f/4//n/4//e/+X/7//y//H/BAD7/+r/3v/Z/9//6//r/wAA+v/7/wgAKQATAPf/AAASACAAEwAPAA0ACgAKABgAFgDk/+X/7//l/+r/8f/w/+f/5v/2/+//DgBPADAAHABIADsAPAA2AAwABAAaADgAOQApAPr/zf/I/9L/1v/U/+7/yv+9/8z/1P/g/+T/8f8QAAYACwANAPj/9P8LACgAQABVADkALQAmABIAKwALAMv/3P/M/8H/+P/e/57/5v/l//n/NwASAOn/y//r/yEAOwBPAD4AGwBHAFQAFQAdABIA5v8AABEACwAJAOb/zf/9/+7/5f/x/7z/uP+s/5//+v/+/9//DQD4/9D/EQA6AC8AFQDa/wsAJQAKACwAEQCy/83/DwD4/+P/qv9+/6z/tf+v/9P/vv+g/6P/yf/l/+T/2P/z/wUAGAA+AFYANQDv/+b/GAAiAC4AQwAWAOn/8//3//L/9v+r/5n/vP/G/9z/AAAHAPP/8P/2//z/AAAEADYATQBiAJIAbQBeAI4AVQBHAHQASgA9ADkAAgAmABAA7P9DABkAzv/g/93/uv/I/8b/6/8wAEUAVQBPACIA9v8WADsAUwAlACMARQArAB8AJADy/87/tP+0/9T/w/+5/9b/zP+b/7b/w/+8/9f/+f8GAA0AJQA6ADIANwAjADIARAAZAPj/EQD8//L/JAAaAA0A9f/t/wAA3//I/+3/4//c/wIABwAxACMAKgBjADQABwAlACYAEAAvAGEATQAnAAkA+//1/+f/7v/n/8r/yf/E/+P/8P/D/8v/z//I/97/BwD3/7z/lf/d/y0AQgBaAEwA+P/c/yMAJgDv/9r/x//7/xYACgDx/8H/nP+L/8z/8f+5/7r/yv/W/+j/BQAQAPj/4v/v/wwAGgA1AEAATQBLAEcAXwA9ACIA///x//X/EgALAO3/BQAEAPX/CQDw/8b/yP/j/yMAIgAkAGcAYQBsAIIARQAxAEQANQBKAF8ANQBCAFEAFQACAOz/1f/T/9P/yv/T/9L/w//P/73/rf+q/67/vv/E/8j/8f8MAC8ASQA/ACwA9v/t/wAABwADANf/1P/y/+X/5f/e/3L/Wf+C/4X/pP+y/5//s//B/9f/9//p/97/4f/l/wEAIwA/AEcANAAbAAwAFAAgABUA+f/u//L/8//6//L/x/+0/9z/+/8OAAcA8//y/yAANwBAAEoAUABdAGQAcQBXAD4AMgAvAEYATQAXAAUACQDr/+z/AAD8/+f/1v/Y//X/4P/c/+//4f/W//H/FgAhAAwAEwAlAB4AIQAzABcAAQAAAPr/AADw/8D/wP/Q/7v/wv/W/7//vv/I/87/0//m/+r///8AAPH/CwAZACQARgA+ADIALAASABYAHgAGAPr/+P/4//7/+P/s/+z/5/8IACsAGAADAAQACQAiAFgAYAA4ACYAKgAcACUAMgAiAA8ADAAEAPn/6//r/+f/1P/Z/+D/6f/x//D/5P/h/+7/9P8CAPL/4//y//f/CAAMAPf/4f/v/wwAGwANAPv/8v/1/+z//P8AAM3/wf/f/+v/9v/6//H/8P8AAA0AGgAaAA8AAAAGAB4AJQAfADgAMADw//v/EAAKABwAHAAdAC4AIQAbACgAEQD0//H/BAAWABUALQArAB8AHgAvADUAJgASABQAKQAwACYALgArABQAFAAcAAAA8f/9/+//8v8IAAkAIgAnAAMA/f8AAO7/1//b/9z/4P/6/wkAFQAVAPv/AAAEANb/0P/g/9X/3v/l/9r/0v/W/93/1P/F/8j/xf/R/+v/7//p/+L/4//5//z/7f/i/+T/7/8BABMAGAAKAPv/+/8FAAcABgD8/9//7P8AAAkAFQASAPz//P8CAP//CQAQAA0A/P8CAAYADwAZABgADAAAAPn/9v8BAAgA//8CAP3/8P/9//j/7v/4/+//9/8JAAAAAwAAAPb/6v/r//P/7P/t/wgABAAIAB4ADQAAAAkACQAKAAwABQAJAA8ADAAhABUADAAHAAUAAQAAAPv/CQAbABIAGQAGAP3/BAACAPz/DAD//wUAHgAEAAAA+//u//n/AAD3//f/7v/o//n/BQAAAPf/7P/b/+H/7f/u/+j/4v/l//H//f/8////8//r//v/BgAAAAIAAwDt//P/DAAFAPX/+v/v/+b/7v/r//r/+P/o/+r/8f/h/83/3v/f/97/8P8BAAEAAAAAAPz/AwD6//v/+//s/+7/BAAKAA8AFQAGAP//AwAHAAIACgAGAAYADAAHABQAGgAUABkAGgAUAB8AJwAWAB8AJwAlACIAJgAbABIAFAANAAgABwD6//f/+//0//X/AAD2/+3/9v/y//T/9P/8////+v/9//v/8//m/+v/+f/z/+7/+/8AAAAA/v/n/+j/5//p//f//P////3/AAD5//n////5//v/AAADAAAABQAGAAoABQD8//r/+f/x//b/AAD7////AAD///3/+v/2//r//f///wkADAACAAIAEAAIAAgABAAAAP//+P8IAAwAGQAaABEADAAPAA8ADgANAAYACwAJAA0ADQAHAAcABQD7//7//v/8/xUAKgArAB0A+P/3//7//f/9/wAA5f/1/xUADAAOAAkA7f/v//T/5//u//P/+f8CAAQAAADo/+7/8v/y//n/+//1//X///8RAAwAAAD7/+z/8/8AAPv/AwAHAAEAAgAGAAIA/f/2//n/8//0//j//P/6//f//f/5//3///8AAPv/AAD8//r/AAACAP7//f/6////CAAJAA4ACAAMAA0AEwANAPX/9//t/+n/+f//////AgANAAoABAD0/+3/8//0/+3/5//k/9r/6v/s//P/7f/m/9z/5P/w/+r/7v/v/+7/9//1//b//v/5//7/AwADAAAAAAARAAoAFAAVAAAACgAJABMAGgASAAgAGQAYABMADAAHAP7//v8BAPv/AAD///n/AAACAPL/9f/4//n/EgAPAAMA/f/2//T/9f/8//T/7v/q//D/+//9/woACAABAPr/+f/4////AAACAA0AAgAEAAsADgAHABMAEAACAAkABQANAA8AEAARAA4ACgAFAAcABgD+/wAA///5//b/9//5/wAAAwD4/+v/8//3//3/AAD//+3/6v/2//z//v/9//v//f8GAAIA9v/0//j/AwAFAAIABQAEAAUABgAHAAIA/P/7//3/AwAGAAMA+P/9/wIA+P/7//3//f/5//H/6//o/+P/8f8HAAAA/f/3//T/AAD//wAA/P/7//7/AAAKAAkAEAAOABEAEAAOAAkAAAABAAUACAAZABQAEAASABYAFAAJAAgADAAOAA4AEAAOAAEAAAACAAAAAAD///r/+/8AAP3//f/6//H/+P/+//n/+f/3//3/+P/z//j/7f/z//r/+v8CAP3//v8AAAUABQD8/wAAAwAHAAgAEQAJAP//AAADAAAAAwAAAP//AQAAAAEA9//7//3/CAADAP///v/y//T/9//0//L/9f/t/+z/+P/w/+P/8v/1//f////8/+z/8//t/+//+f/v//f/+v/3//X////7/wUACgAEAAoADgAHAAoADgAHABMADQAEAA4ADAAHAAgACgAIAAwAEQAIAAoABgD+/wQABAAMAAcACQAFAA0ABgAAAAAA///5/wEA/f8BAAsA/////wAA+v////f/9f/v//H/5//r/+7/7v/2//z/+f8AAAMAAAAJAAUACAAIAAEABwAFAAcABgAOAA4ACAAQAB0AFAATAA0ACQAKACEAFwAVABoAEQAVAA4ACAAIAAoACAAAAPz/AgALAAwAAQABAP//+/8AAPr/6P/j/+r/4v/l/+f/6P/l/+b/5//n/+X/5f/v/+v/6v/s//H/+P/2/wAAAgADAAkACgAVABIA//8EAPz//v8LAAoAAgAJAP//9P////3/9f/2//X/9//6/wAA+f8AAPv/+P////T/6v/s/+n/6P/k/97/3//1/+7/8v/4/+z/3//j/+v/7//1/wAAAAAUACEAIAAoACYAKwArACcALAAtADQANgA9AD0APQA5ADIAOgAuACsAIAATABAABwAMAA4ACAANAAMABAADAP3////5//b/8//x//P/6f/r/+L/6f/p/+H/6P/r//T/9//x//X/8f/0//r/+f/8/wUA//8LAAkACQALAAwAEAAYABAADQAOAAcABgAHAAIA/f/+//r/BAD+//b/+f/1/+7/6//v/+n/7//r/+n/7//m/97/4P/i/+T/6P/n/+X/6f/m/+j/7f/r/+f/5//x/+z/8P/z//L/AAAAAPn/CgAIAPf//v8AAAMACQASAAoAFgAUABAAFgAOABMAEwAIAAEAAAD+//b/AAD+//v/9f/2//X/9P/2//b/9f/3//b/+P/+//T/9f/v//L//f/y//T/+P/0//j/+P8BAPz/AAAIAAQABwAGAPz/AgALAA4AHwAgABoAFAAXABQAIAAjACAAJgAjAB4AIQAdABEAHAAVAAoAFwAPAAoAFwALAAMABAAEAP7/BQD///f/AAD///z/AQADAAIAAQABAAAA+f/z//b/7f/g/+j/5//o/+v/6//t/+7/8P/n/+7/9f/1/wAA///+/wAA///3//7/BAAAAAEA+//6//3/+//8//7//f/9//v/9f/2//j/9v/7//j/+//6//v/+//1//j/7//z//X/6v/w/+j/4//p/+v/8//z//L/9v/2//n/9//5//j//P/8/wYAEwAFAAoAHQASABYAFQASABMACgAMACAAGQApAC8ALQAtAC0AKAAkACoAJgAiABkAFwAeABwAHQAdABoAGAAXABcAFQAVABEACAALAAsAAwD//wEA+//8/wAAAgD8//b/+f/x//P/+P/3//v/AAAVACEAHQAXABIADAAKAAoACQACAAAAAAD//+//9f/0//b/+//9//3//v8GAAUADgAMAAEAAQDw//L/7//w//b/9P/2//f/+P/w/+n/7f/u/+//8v/0//P/8v/6/wIAAAABAAAA9P/u//D/8//0//X/9f/0/+3/8f/y//b/9v/4/wkACAAFAAUAAAAAAP3/9f/6/wEAAAAKAAcABgAOAAcACQAHAAUABQD7/wAAEAAOABQAFAAOAAwACAALAAEABAAAAAIACQALAAUAAAD//wAABgAIAAAAAgD/////AAAJAA4ACwAIAAgABQD8//b/+P/6//v/9//1//j/+P/4//j/9f/1//3/AAAAAP//+f/5//b/7//y//z/+f/5//v/9//y//f/9v/1//T/8//2//b//f8DAAoACwANAAgAAgAFAAAABAAFAPr/9f/6/wAABQABAAAA+//8////AwAFAAQADAAKAAIA+//6/wEA/f/z//T/9f/y//j/+f/4//n/+//7//v/CAAFAAAAAwAFAAwAEAAVABAAFQAXABcAHgASAAAA/P/z//H/8v/3//j/+P/9////BAAGAP7/+f/x/+//9P/1//j///8AAAAA9//y//D/8//y//X/+v/r/+r/8//2////AAD8//z///8AAPr/+//+/wcACgANAAwACAALAB0AGAALAAkACgATAB0AGAAUABcAIAAXABcAEQAHAAQAAAAFAAcABQAOAA4ABQD3//v/AwAGAAcAAgD///P/9v/7//n/+f/5//P/8v/l/+f/6f/u/+3/6P/s/+v/7P/t/+f/4//k/+v/6v/r/+j/5P/o/+X/6v/p/9r/3f/f/+T/5//q/+n/5v/n//D/7v/1//L/7//y//D/8//2//z/+f/2//n/DAAPAAoADQAJAAQADQAQAAsACgAIAAgAEAAXAB0AJgAaABMAGQARABEAEgAKAAYAAwAFAAEAAwAEAAYABQAHAAkACQALAAwADQD//wQADQAKABAADAD9//n/+f/7//r//P/z//f/BQD9//7/+f/4////AQD///z//P/3//z////2//P/9v/y//b/7v/x////AAD//wAA/v8AAAIADAAUABAAAwD7//n//v8GAAUABAAGAA8AEQALAP7/AAACAAMABgADAAIAAQD8//z/+v/+/wAA/v/3/+z/9P/3//j/9P/8/////v8EAAIAAwANAA0ACwATABQAEAALAAwACAAGAAgABgD///j///8CAAAABwAaABIABwAGAAMACAADAPv//P/+/wAA//8AAAAAAAD///n/+v/x//n/AQD8//b//P/5//n/+//7//f/6//2//j//P8AAPn/+f/4/wAA9//u/+3//v/9//7/AgD+/wMABAACAAUAAAADAAwACwAEAP///f///wQAAQD6//z/AAAGAAkADQAFAAgABwD5//7/AAD3/wcABQABAAQAAAD//wEABAD4//H/+v/+/wIA//8EAAAA/v8BAAIA9//5//n/+P/5//z/9v/+//z/AQACAAIA///9/wMA+P/z/+7/9f////n//f/+//f/8//5//z//v///wAAAAD6//3/BAALAAUABAD+//n/9v/z//n//v/9//3//f8BAAQA+P/4/wIA/f/9////+f/4//3//v8AAAAA/v/8//v/+v/+/wgABgAFAAEAAAALAAkADAAMAAYABAACAAQABwAGAAQAAQABAPv/+P/5//b/+//2//b/9//y//T/7//t/+v/8//6/wAA+f/4//r/+f/6////CgARAA4ADQAGAAgAAAD//wQACQAJAA0AEAAJAAoACwAHAAoACwALAAwADAAMAA0ACAALAAwADAANAAAAAgAAAO//+P/z//j/AgD4//X/8v/4//j/9v/7//j/9/8AAP//+P/7/////v8BAAAA+v/4//b/AQADAAkABAAAAAMA/P/3//3/AAABAP7/AAAGAAUABQALAAkABQACAA4AFQAMAAsACQAEAPj/+v/9/wAAAgAIAAsACwAHAAUADQAFAP///v///wcABgD+//7/AAAEAAgABAAGAAUAAAD6//r//P/3/wEAFAARAAkAEwARAA4ACgAPABMADgAPAA4A/f8AAAUACgARABAADAARAAkABgAEAPv/AQABAP3/AgAAAP3/AAAAAPv/9P/2//n/8P/4/wAABQAEAPz/+//8//f/+/8NAAsAAgD8//L/7//6//n/AgAOAA0AEAAKAAsADgAHAPz//P///wQABQAHAAYABgAGAAIAAQAAAAAABAABAAAAAwAGAAUAAgD+//n//f8CAAQA/f/4//n/AAAKAAkABQABAPn/9P/y/+3/8f/0//b/+v/y/+3/8v/2//n/9//0//H/7f/1//P/9f/v/+//8//4//z/+P/3//n/+f/m/+P/9P8AAAMABAD6//f/+//3//n/+f/3/wEAAAD9/wAA/v/+/wAA/P/2//j//f/+/wAA///8/wAABQAAAPb/+P/0//b/+P///wUABgAAAPz////7//3/+//y//T/8f/z//n/AQAHAAkACgAFAP///f8FAAcACAALAA0ADgAOAA4ACAABAPz/CgANAAcACAARAAwABwAFAAMABwAFAAoAFQASAAgACQAFAAkADwAHAAAAAAAAAAEAAAAAAAcA/f8KAAsAAwAGAAYAAAD///X///8QAAwAAAAAAP7//f////r/AQAGAAoACgANAA4ABgD1//v//v/8////AAAAAAMAAQD4//n/+P/9/wcACQAJAAoA/v/2//z/BAAEAAoA/f/u//j//v/5//v/AgD9/wEAAADz//L//P8FAAsABwAHAAUACQAGAAUAAAD7//r//v8DAAYADQAKAAAAAwALABIAEwALAA0ADQANAAkACwALABEADwAPABMAEgARABEAEQAaAAkACAANAA0ACgAMABIACwAJABAAEAAOABEACgD8/////f/8/wIAAgD+/wAA9//9//3///8CAPr/8v/x//P/7//s/+//6//q//D/9P/y/+z/7//t/+z/6//q/+n/7P/q//H/8v/s/+f/5v/o/+v/6f/r/+7/8//z/+n/7v/3//L/9f/0//r//P/y//j/+v/y//f/9f/9//7/+v8FAAMAAgADAP//+f/6//7/9v/9//n/AgATABIADAAIAAgAAQD9//7/BgAOAAwABgAIAAQA//8HAAgABAD//wIABQAFAAMABAACAAQADwAEAAAAAgAGAA4ADgAKABcAFAAQAAwAAAAGAAoABAAJABIACwAMABUADgAJAAQABwALAAYAAQAEAAMA9P/4//b//P/3//f/AAD5//z/AAADAP3/9v/4//3/AgD//wAA/v/7//v/+f/1//b/9v/6//3/AgABAAoACAABAPj/+f/6//n//f/8//n/AgAAAAIA///9//z/+//3//v/+v/4//T/9P8CAAAA/f/7//H/9P/5//f/+//9/wEAAgABAP///P/7//b/9//3/wQADwAGAAAA/f///wIA///+//3/CAADAP//AwACAAEA+f/z//H/9f/+////AAAJAAcABQD6//v/CAAGAAkABQAAAAEA/f/7//n/6f/f/+b/7f/0//D/8f/0//T/9v/7/wIA/v8BAPr/8//2//n//P/5/+7/8v/6//j/BwAFAP7/BgANAAoABQAKAAYABgAIAP//BAAEAAIADAAIAAcABgAOABgAGgASABEADQAKAAcACgAVABoAEAAMAA0AEAARABAACAAGAAkADQAJAP3/9f/4//v////+/wAA+v/0//X/9//7//r//P/7//7//P/1//T/9P/6//z/+v/8//r//P///wAA/f/6//T/9f/1//H//v8AAPz/+f/2/wEAAAD+//r/8f/1//j/9f/s////AgD9/wQABgAMAAcAAwAGAAsABgADAAMAAgAJAAAAAgAAAP//BgAHAA0ACAAHAAUAAgAAAAQABgADAAQABwAIAP3/AgADAPL/8//6//3//f8DAAEA/v8BAAgACQAOAAwACQAZABUADQAGAAUABQD+//7/+v/7//n/AAAJAAYABQD+//3/AQAAAAEAAAAFAAgAAgAEAAEA7v/u//j//v8DAAEABAAAAPz//f/7/wEAAAD9//z/+v/y//D/9//3//X/7//2//L/7P/p/+v/7f/x//H/6//0//3/+f/5//X/7f/s/+7/8P/z//b//f/w//H/+P/7//v/9////wEAAAABAAEA///y/+v/7P/3/wAA+v/0//X/9P/1//L/7//0//n/+//4//X/+f/3//X/8//1//z///8GAAIA+P8AAP//AAD9/wwADgANAAwAEAAfAB0AGQARABEADwAKAAgABgAKAAsADQAbABoAGwAPAA8AEwATAA8ACwAJAAgAAQABAAYABAAGAAgABgAIAAkADwAPAAkAAgAFAAAA//8HAAUABgACAAAABAABAPv/9//2//b/9P/7/wEAAwAGAAIA+//6//7/AgABAAAAAQADAAMA/f////7//f///wEAAwD8//7//v/3//L/9P/6//n///8LAAgA/////wAA/P/4//b/+v/7////AAABAAAAAAAAAAAABQAGAAIA+f/1//T/+P/5//f//f8CAAQADAAGAP3//P/5//n/+P/5//b/+f/8/wAABQABAAAAAgABAAMABAABAAYAAgD6/wAA///9/wAA/v8AAPX/7f/v/+z/8P/1/wAA/P/6//3//////wAA/P/7//////////H/6P/o/+v/6//y//b/+v/8//3//v/6//z/AAACAAQADQAXABcAFgATAAkAAAD7//7/AAACAAAA//8AAPv/BAAHAAIAAgD+/wAAAQACAAAA+//6/////P/7//H/8//u/+X/5f/i/+v//P/4//7//P/7//7/+P/4//b/+f/4//3/AAD6//7/AwABAPn/AwAFAAAAAAD//wMA/P8BABEAFAAVABYAHAAZABYAEQASAA0AAgADAAAABAADAAQABgANAAoAAgADAAQABAD///r/+f8BAP7//v/7//b/9P/0//b//v/+/wgAGQAVABEAEgAPAAYACAALAA0AEQATABEADgAKAAsADgALAAoABgADAPn/AQAHAAEADAANAAwACgAFAAAA///2/+7/8P/p/+j/8P/0//L/7P/r/+n/6P/r/+v/7//0//P/+v/8/wAAAAD2//f/+P/5//7/+v/8//n///8BAAAABQAHAAoAEAASABMAEQALAAYA9v8AAAQACgAaABMAEgAOAAsACwADAAAA/v/+/wEA/f/5//X/9P/2//L/9f/y/+z/3v/a/93/4f/h/+T/6f/v/+3/6f/g/9D/1//l/+X/6//y//X/9P/7/wAA/v8CAAUAAgD9/wMABgAOAAwACwASAA4ACgAOABEAEQAZABgAEAAMAAYABQAIAAMA//8CAAIAAgAEAP7/+//4//P/8f/w//j/+//x//H/AAD///X/8//y/+//9v/3//X////9//7/AQAAAAMACQADAAEAAQADAAcACAAGABMAGAAeAB4AFwAUAAwADQALAAsACwAOAAsADAAKAAUACQAJAAgACQACAAEAAQAAAPz////6//3//v/y/+7/6v/o/+b/4//e/9r/5P/2//r//v8AAAkAAwACAAcA//8AAP///v8EAA0AEgAXABQAEAAOAAcACgAJAAcAAAAAAAkADgASABIAEAAPAAsABgABAPn/+v////v/+/8JAA0ACwAIAPn//P8IAAIA+f/5/wAA//8GABIAEgAQABAAEgAQAA0ADAAMABAADAARABwAIgAlACIAHQAUABQAEQAGAAsADgATAA8AFQAaABsAFwAKAAAA+P/2/+3/5P/m/+T/5//q/+j/6v/q/+j/5v/c/9f/2//Y/9n/3//i/+n/8P/x//L/7v/p/+X/5P/k/+X/5//l/+b/6//u//T/8//u//T/9v/0//D/5//d/+T/7v/w//b/9//6//v/CAAEAAYABgD//wEABQAHAAwADgAKAAoACgAIAAsACgALAAsACQAdABwAFwAfABkAFgAVABUAEgAJAAUAAAD7//r//f8GAAQA/v8AAAYAAAABAPr/6v/w//b//v8EAAEABwAGAAQA//8AAAAA/f/7//3/+f/6//z/+v//////AgAGAAgA///z//b/9P/1//v//f8DAAMACAANAAgADwAHAPf/9f/0//r//P8AAAMABAANAAsADQARAA4ABwD7//b/9f/8//n/+f/+//r/+/////f/8//3//f////5//H///8CAAUACwAIAAIA/f/8//b/+v/+//z/9//x//H/8v/2//z/+P/4//n/6v/m/+n/7f/0//j/+v/x//D/9P/z//L/8f/5//v/6v/x//L/8P/z//f/AAD8//r/AAADAAgADgAVABUAHAAZABIAEAAVABgAFgAUABUAFgAVABAAEgARABgAGQAdABsAGgAZABUAGQAaAA8AFAAXAA8ADQAQAAsACgAJAAIAAgAEAAUABgD9//v//P8CAAIABAABAP7/+f/0//X/9P/1//r/+P/7/wEABgAHAAsAEwAMAAQA/P/7/wEA//8AAAgACgANAAwACAACAP7/BQAIAAQABwACAPz//f8AAP///f/5//f/9/////7/9//y//X/9v/t/+//8f/x//f/+//2//X/9//2//X/6//0//L/8//3//D/7v/v/+//7//z//L/8P/0//v//f/6//v//f8BAAAA/f/9/////P8BAAAA+v/8//z/+f/6//z/+v/+/wgABAAAAP7/AwAEAAgADAAQABEACgAAAAAA/P/+//7/AQACAAUABgADAPz/AAD9//r//f/4//X/9//6//7//P/+//z//f8BAAQABAD9//r//v/7//z/AQD7//z/AQAEAAAA+//4/+7/8P/y/+7/7v/q/+v/7f/o/+H/4v/k/+b/6P/n/+L/5//s//D/8//5//n///8CAAYABAAAAPj/8v/y////BgABAPz/9v/7//n/+//8////AAAEAPv//v8GAAQABQAIAAQADQAGAAUACQAFABEAFgAPAAoAAQAAAAQAEQAVABAABgADAAAA/v/9//3/AwAHAAkACgAKAAIAAgAFAAMADQAMAAUAAwAAAAUACgANAAwACwAPAAIAAQAFAAQABQAFAAIAAwALAAsAAgD//wEA+f/9//z//v8CAAAA//8BAP7/AAAIAAMAAwAGAAcACwAJAAIAAAD7//7/AAADAAcACgAFAAYA/v/4//v/9//8//3/AAAMAAcAAwAEAAUABAAKAAoADQAQAAoABgAAAAEACAAMAA0ADwAOAAUABQAIAAgAAQAGAAoAAAAAAAAA/v/+//7/+v/3//z/+//5//f/9//5//n/8v/r//D/8//8//r/+P/4/+7/7f/t/+//7v/q//n/+P/2//z/+P/7/wAABAAAAAEAAQAFAAsADgAWABYAEwAFAAAAAQADAAUACAAKAAcABwD9//z//P///wEAAAAHAAcABAAAAPf/+v/9/wEAAAAAAAAAAQAJAAcAAAAAAP3/+f/9////AQAAAP3/BQABAAIACAAGAAkAAQDy//X/+P/5/wUADgANAA4ABQD5//H/7//r/+r/8f/7//3//f/+//r///////P/7v/t/+n/7v/0//r/AQD+//n/9P/s/+n/6v/q/+b/5//n/+X/7P/7//z/+v/3//b/+P/z//v/AAACAAMAAAD9/wAABwAGAAYACAALAA0ABgAEAAUABgAHAAsAEAAWABEACgALAA8AEQAPAAwADQANAAsACAAKAAkABQAIAAsADAAFAAQABQABAPz//v8AAAUACwAGAAEA+//3//v//P/9//v/AAAJAAMAAAADAAEA///+//7/AAADAAgABQAGAAMA9P/1//z///8FABEAEwAVAAsABQABAAUAEAAQABAADwARAAoA//8CAAUA///5//v/+f/6//z//P/8/wMAAQADAAkAAQD+//3/+f/6//b/9f/z//P/8P/4/wEAAwAKAAgABQACAAUAAQAFAA8AEAAQAAoABAAHAPv/+f/7/wAA/P/6//z/AAABAAIAAAD+/wAA///5//X/+P/+/wEADQAOAAYABAABAAEAAQAAAAAAAwAEAP//+//9////BAAEAAIAAAAGAAcAAAABAAUAAwAFAAEABQD+//j/BgAHAAkAFQATABEACAAEAPn/+//+//j///8AAPz/AQD//wAAAgD2/+z/8v/v//D/9v/6//z/+f/8/wcACAAFAPr/8f/x//H/9v/6//v/9v/2//r/9v/z//D/8f/x//H/9//7/wAAAgALAAUABQAKAAMAAQD+/wEA+//9/wAABAD//wMAAwAAAP3//v/+//f/9v/6//v/+P/6/wEA/P/5//f/7f8AAAQAAAD7//b/8P/n/+z/8//1//T/9//2//X/9P8AAAEA/f8BAPf/+/8JAAQABAAAAAUAAgD8//3/AAAFAAQACQAHAAsADQAIAAgACgAJAAMAAQAGAAkABgACAAIACAAFAAEA//8BAAUABAAGABIABwAIAA0ABAACAAMABAAHAAYABAABAAEABwAQAAsA/f/+//z//P8AAAIABgADAAYADAAIAAoAAQD+/wYABgD8//3/BAAAAP/////6//f//f////X/8P/z//z/9f/2//r/9P/x//P/8//v//H//f8AAP//AAD7//7/AgD7//7//f/+//z/+//+/wMABQABAAYABQD//wEAAwAAAAAAAQADAAAA8//2//n/+/////v//P8AAPf/7//4//r/AAD8////AwD//wcABgD5//z/AgAAAAwACQADAAYAAgAEAA0AEgATAA8ADAALAA0AEwAOABkAEgAJAA0AEQAQAAwACgAIAAcADQAOAAwACgALAAgAAgAOABEACgAMAAkABgAFAAAA9f/2//n/+v8BAAUAAAD8//z/+P/x//X/9v/y//P/9f/3//f/+P/8/wsABwAEAA0ABQACAAQACAAMAAUABwALAA4AFAAMAAQA/v/4//z/AAD//wEAAAD+/wUACAAHAAYAAAAAAAAA9//6//3/AwACAPX//v////n/7P/z//f/9f/2//H/+v/4//b/9v/1/+n/7v/3/wAABQD/////BQD+/////v8CAAgABAACAAUAAwAKAAsACgAJAP//AwASAA0AFAAYABQADQAQABYAFQANAAkABwAIAAUABQAKAAgACAADAP//BAABAP7/AQAIAAIA+//7//r/+P/7//3/AwACAPz//P/3//n/9f/q/+z/8//2/wAACgAEAPn/7f/s/+//9v/3//P/9f/2//f/8//6//X/8//5//L/9P/3//b/+P/3//H/9P/2//v/9f/3//j/6f/v//P/+//9//z/+f/0//z/+v/7//7//v/4//T/9v8AAAMA/v/9/////f/7////AAD9//v/AgAJAAsABwAIAAcA/v/6/wAAAQD8////AgABAAQACwAWAA8ACgAHAAkAAgD//wIAAQADAAkACwAHAPz/8//3//r//f/9//b//f8FAAQAAwD6//7/BAAHAAoADAAJAAIA/v8CAAcACwAIAA0AHwAQAAoACQAHAAYA+f8AAAAAAgAAAAAAAgD6//7/AQACAAAA+/8AAAkABgABAAAA+f/w//b/+//+//n/9//7//v//P/7//b/9f/2/+//9f/5//r/9P/1//b/5v/n/+v/4f/m/+v/7//u//b/9//1//7/AQD+/wAA+f/5//z//v8AAPr////8//j//v/+//3//v/8////AwAJAAcABgD9//3/+f/4//b/AAAOAAIACAARABgAJgAaABIAEQANAAsACwAPAA0ACAADAAcACAANAA4AEwASAAcADAAHAAMACQAIAAQAAQACAAoADAAIAAcAAAACAAAAAAAAAP//AAD///f/+P/7//z/AAD///b/+f/4//b/9f/s/+r/6v/o//P/+v/0//P/9f/6/wAABAAFAP3/+v/0//T/9f/w/+3/7P/t//L/8v/y//X/+v///wQABQAAAP7/+v/9////AAD//wAA/f/z//T/8f/w//b/+P/8//7/AAAAAAAABQABAAIABAD9/wAA/v8AAP7/AAAEAAIAAgD2//n//P/6/////v/4//v/+P/5//j/+P/2/+3/8//2//b/9f/y/+//7P/s//L/9v/4//r/+//9//7///8DAAIACAAJAPz//f8DAAAAAgACAAAAAAD//w0AGAAWACUAHwAbABoADwASAA0AEAASAAIABAAFAAYABQAGAAoACAAMAAwAEAASAA4AEQALAAQAAAAAAAUACAANAA4ADgAJAPj/+P/+/wYABQAFAAYACgAIAAMAAgAEAPj/+v/+/wYACQD4//f/+//2//n/+v/+//b/9f/2//b/+v/z//T/9v/v//L/6P/l/+z/7f/z//P/8v/0/+n/5//t//D/9//x/+X/6//w//P/8//s/+r/5f/p//T/9//5//3/+//7//v/9P/1//X/+P/5//n/AAANAAsACAAEAAIACAAKAA4ACwAPAA8ADQALAA8AFgAUABQADwAOABMAGQAdABgAEwARAA4AEAAQABYAGwAgABwAGAAUABMAEQATABEACgACAP///v8BAAoACwAHAAEA+f/1//n/AwADAAIAAgAAAAAAAAABAAEA+//2//n/+f/6//r/7f/v//P/9P/6//n/8//y//T/7f/x//H/7P/p/+X/5//r/+3/7//3//T/7v/v/+j/6P/d/+D/7f/8/////f/4/+3/6f/v//f/9//w/+n/8f/z//X////8//r//P/8//T/9f/9//z//P/7//v/AAAAAAYABQD8//3/AwACAAIAAAD//wUABAALABcAEQANAA0AAgAKABIADwAPABQAFwAdABoAFwARABAAEAATABcAFQAQAAsABwACAAgADQAJAAoACAAJAAgABwAGAAAA+//+/wAAAQABAAEAAAAAAAEACgAIAAgABgADAAoAFwAVABIABQADAAUADgAbABcACQAKAAgACQAQAA4AEgARAAAA/f/2//n//f/v//P/9f/+/wYABgACAAEA//8AAP//AAD+/wAAAAAAAP//+P/5//n//P8EAAMAAQD8//v//f/8////BAAJAAYA/v/+//b/8v/3//j/+f/6//z//P/7//3//P/8//v/7f/w//D/8//7/+7/7v/6//f/9//0//b/AQADAAcABAAGAAcABgAMAAkABwAIAAUABQAEAAUABQAAAAAA+v/6/wUABAAGAAwAEAAMAAsABwAHABUAEgAPAA0ACgALAAwAEgAOAAYABgAHAA0ADgANABQACAACAAMACwAVABwAIQAWABIAEgANAB0AGwATABkAEgAOABEAEwANAA8ADgACAAUACAABAA0ACAAGAPT/7f/0//f//v/6//z/9v/w//r/AQD+//z/BAD8/+j/7v/t//D/8v/n/97/3v/i/+P/4//p/+r/6//r/+3/8v/0/////v/1//X/7v/s//z//P/7////+P/3//b/8v/5//3/AAAFAAEA/f/5//z/AAD8//7//f/9//7//f8AAAMABQAEAAAA/f///wYAAgACAAAAAwAGAAMACwALAAIAAgAJAAgACgAaAB4AFAAQABMAEAAYABoAGAAaABYAFgAXABEAEQASABYAEAALAAgABAAKABAADgALAA8ADwAJAAUABwAMAAgACgAWABEAEgAYABQABwAEAAEAAAADAAYAAQD8/wIACAAEAAAA/v/9/wMADAARAAsABgAIAAgACgAHAAAAAAD+/wAA+//5//n/9v/2//T/7//v//P/8f/x/wAA/v/+/wEA//8AAAgABwD5//v/9//w//L/8//0//L/6f/q/+L/2P/d/+H/8v/z//L/9//5//L/8v/z//X//P/+//D/9f/3//X/+v/x//T/+P///wUABQAKABMAGgAcACAAGwAcAB4AGwAeAB4AGwAvACcAJgAiABYAGwAWABgAHwAgAB0AGgAUAA4ADQAOAAsADAAMABIADQAXABwAFgAWABkAEgAQABIAEwAPAAkACgAMAAgABgAIAAUAAAD8//L/7f/u//D/+//9//f/7//q/+7/8v/2//b/8//z//b/AAABAPz/+/8AAPv/6P/v//P/5//m//D/5//j/+z/7f/w//H/8f/0//D/8P/0//L/7f/z//j//f//////AQD+//f/+f/z//L/6v/v//P/9P/1//X/9//7/wEACQAEAAgAAQAEAAMAAQAJAAEAAQAGAAsABwAGAAQA//////z//P/5//n//v/8//v//v8HAAgACwAIAAUABQAEAAQAAwAAAP3//f/5//f/8P/8/wQAAAAEAAQA+f/3//H/+P/3//D//f8CAAAA/v/+//3///8AAAUABwAHAA0ADwASABQADwAQAAoABQAUABUACQAJAAMAAwAHAAAAAQAEAPv//f/+//3/AAAFAAkACAAAAAMACQAHAAgACAAFAA4ADAACAAAA///9/wAABAAPABAA/f/8//r/+/8AAAAA+/8AAAQA/v8AAAIA/v///wcAAAD+//7/+f/+//z/+/8BAAEA//8BAAEA9P/y//f/AAAJABAAFQAQAP3//f8AAAAABQAHAAgABwAEAAIAEAAIAAUABwAFAAcA/v/+/////v8AAAcAEQASAAUABgAGAAYABQAFAAUAAAD8//3/CAACAAEACgAGAAUACAAGAAUACQAKABUAEQAOAAsACwAJAAIAAwAGAAQAAgD//wEACQAKAAcACgAPABkAFAAVABMA+/8CAAgABwAJAA4ADwAPAAUA+//9/wAAAQABAP//+P/9/wAA//8PAAgACgAHAAAAAAD0//r/AAD///z/9v/5//z/+//y//X/9v/u//H/8//6//j/+P/5//L/9P/0//T/5//s/+7/4//r/+3/7//k/9//3v/m/+v/2v/g/+j/6v/u/+v/6//q/+v/7v/q/+r/6//y//T/+f/0//b//P8CAAMABQALAAcAAgAEAAEA9//y//n/+v/5//v/AAAIAAMAAAAHAAkABwAFAAgADAAMAA8AEwAQABAADwAOAA0ABwABAPf/9v/3//7/CQAFAAYAAgABAAEABgAPAAsACAAKAAoABwAQAAsABwAFAAEA/v/8//b/7v/w//j/+P/4//7/AQABAAEA+///////AwAEAAQACQAHAAQABQD///n/+f/2//P/9v///wYACAAJAAgABQAMAAoABgAFAAUACwAJAAMAAAABAP7//f8JAAQAAQAEAA0ACwAAAAIABAAKABUAEwASABIADQAGAAMAAAD+//3/+//8//r//f8AAAAA//////f//f8CAAAACgAQAA8ACgAKAAsABAAFAAIA+f/y//T/8f/z/wIABwABAAYABQAIAAUAAAD7/wQABgABAP///v8GAAIAAAAAAPn/9v/z//P/+P///wEAAAAAAAAAAAACAAQAAQAAAAAABgAEAP///f/8//7//P/7//7/AAD+/wIA//8AAAQAAAD9//b/9v/6//n/9//x/+//8//3//3/AAAAAAsACAACAP//AAABAAEAAgD///3/+//2//P/9//4//P/8//3//f/+v/5//3////5/wAABAACAAMA///9//3/+f/6//f/+f/6//T/+P/u//T/+v/3//z/AwAHAAYAAQABAAMAAAD4//v/AAABAAAA/v8AAAIAAAD9//z/9v/z//j/+v/6//f///8FAAgABwAEAAsACAACAAAAAAD+//7/AQD///3///////r/+/8AAAIAAAAAAP3/+/8AAAAAAAAAAPb/8P/z//P/9f/r//H/8//v//D/8v/3//7//f8CAAcABgAHAAwACQAJAAcABgAEAAYAEAANAAgACQAJAAYAAgABAPz//v8BAAMAAwAAAP3/9v/2//j/+f/7//n//f/+/wIAAQD//wAA/P/+/wAAAAD1//f//P/9//v/+/8AAAAA/f/6//b/+f/4//X/9v/0//f/9//z/+7/8f/y/+//8f/1//f/9f/0//v/AAD//wEAAQADAAcACQAJABMABgD//wIA/P8HAAwACQAQAA0ADAAIAAkABwAEAAAAAAAAAAAAAgAAAAIABAAMAA4ACAANABAADgANABUAGQAYABEACgANAA4ACgAJABIAEQALABEAEAAQAAgABwAPAAoACAAGAAUACwAIAAQACQAIAAoAAgD8/wEABAAIABAACAACAAUABAABAAEAAwD7//v//f8GAA0ABgD8//r//P/8////AAABAAYABQAFAAYA9//6/wYAAQD/////+f8CAAEAAAD9//r/9v/1//X/8//3//v/BwAMAAcAFAAJAAYADgAOAAoA/v/9/wAACAAIAAMA/v/8/wAAAAD9///////4//z/+f/8//z//f/8//r/+v/9//j/+//z/+j/6//t//T/AQD4//r/AAACAAAA////////AQD5//j//v/+//z//v8AAPn//v/8//P//v/6//b/9v/r/+//8f/x//r/AQD4//j/9//2//P/9//6//v//f/6/wAAAwABAAIA/v8CAAQA///8//b/9//8//7//v/p/+7/8P/v//b/+P/2//X/9P/5//r/8P/2/wAA///7//n//P/+//v/+f/1//7//v8AAAsABQAKAA4ABAABAAYAAAD//wMAAAD7//3/BQAAAPz//v8AAA0ABgAFAAgAAAD5//r/+/8AAP3/+//8//b/+/8BAP////8AAPv/8P/0//n/9f/6//z/+v/z//H/8v/4//b/+f///wAAAgADAAEAAwADAAsAGgAYABUAFAANAA0AEAARAA8ACQAJAA4ADAANAAYAAAAFABIAEgASABEAEQAYABMACAAMAAcABQAIAP3/+v8AAPX//P8JAAcAEgANAAkADAALAAMACgAHAP3//f8AAP3/AAD///r/AQAAAAEAAwABAAEAAQD+/wEA//8AAAIAAAD9//v/AAAEAAYABgADAAAAAAAFAAcABgAGAAgAAAD//wYAAwADAAIA/f/8//f/8f/y//P/+P/4//n/+v/z//T/9f/x/+3/9P/4//n/8//u/+3/5v/x//b/8v/1//n/9f8AAP3/+/8BAP//AwALAAwACAABAAAAAAAJAAoABAABAAUA/v8BAA8AEAAJAAEA//8BAPj/9f/4//n//P/9//j/9v/1//f/8v/4//f/9////wMA///6//z/AAD8//7/AwAEAPv/AAAAAAIABgAHAAkACgAQABYAGgARAAwADQALAA8ADAAIAAYAFgAUAA0ACQAKAAUABgAMABYAGgAWAA8ADAAHAAIABgAGAAcABgAAAAAAAAD7//z/9f/z//b/9//6//b/+P/9//f/9P/8/////f/9//z/+v/1//X/9v/5//j/AQACAP3///8FAAcABwAFAAcABgAEAAsADQAMAAMA//8BAAcACQALAAwABgAFAAYACQAFAAYAAQDw//v/BwACAP7//P/y//b///8BAAIA///1/+7/8v/8/wAA/f/+//n/9//4//f/+v8BAPn/9//8//7/AQADAAEABAAAAP//AAD8//7/AAAAAPz////9/wAA/f/8//z/9//4/wAA+f/8////+//z/+7/8v/3//H/8//3//r/AQAAAAMAAAAAAAUABAAAAAoAAwD7//7//////wIAAQAAAPr/+P/5/wEACAADAAIABQAAAAAAAQAAAPr//P/7//z//v/5//j/+v/4//b//f/4//b/9//z//z/BAABAP//AAD6//3/+P/4//3/9v/w//L/9P/y//H/+P/4//j/9P/0//j/8v/3/wAAAgD+//z/AAAJAAUAAQD///7/AAD+/wEAAAAAAAAA+f8AAAMA+v/8//v/+/8FAAAA/v8AAAIA//8CAAEAAAAEAP///f/6//3/CAALAAsABwAGAAUACQAOAAkAEAAPAAkAEwAMAAwADQAJAAcAAwACAAYADgAJAAIABgAIAAQAAwAKAAkAAQAGAAYABAANAAwABwAJAAIABQAIAAcABQADAAEA+//7//7///8GAAcABAAAAAgADgAMAP///v/+////AAAAAAAAAAD+//3/BAADAAEACQAFAAUAAAD//wUABQABAAgACwACAAAAAAADAAQAAQAAAPf/+//6/+//8v/5/wIA/v/8//7/+f/7//n/+v/3//3/AAACAAMA///9//z//P/6//r/+f/5//X/9v/2//7//v8AAPz/5//x//v/+/8AAAMABQAAAPr/AgAJAA4ACwAFAP3//v8EAAQAAQAHAAsACQANAA8ACQAGAAgABgAEAAIA+//8//r/+v/7//f//P////j/8v/5//j/9//3//f/+v/8//3/8//t//L/+f/7//v//v8AAP3/7//z//T/+P/6//X/+P/4//3/+v/8/wUABwAIAAcA+//8/wAA/v8AAAUACwAJAAQAAgAAAAMAAQAAAAIABAAMAAoADQALAAcAFQAZAA8ACAADAAAABQADAAEABAAKAAUABwAIAAUA//8AAAMA/v8BAPn/9v/5//X/8//5//z//v/3//T/9f/y/+//9v/4//r/9//z/+//8v8EAAEA/P////z//v8AAAAA/f/8//7//f/+//r/AAABAAEAAAD9/wMAAwADAAAA///+//r/+v/3//f/+P/3//j/+//9/wYAAwD1//r//P/3//v/+v/4//X//P/8/wUACgADAAsAAgAEAAkA/f/9//r/+v8CAA4ACQAFAAEA///5//7/BAAEAAgAEwAOAA8ACwANAA8AEgAQAA8ACwAFAA0ADAABAAEAAgAIAAUACwACAAAAAgACAAoACwAIAAcABwD///v/+v/6//j/9P/3//v/+f8AAAAA+/8DAP7/AQAFAP//AgAKAAgAAwAAAPn/+v8AAPz/+f/9////CAARAAkABwAKAAQAAAD7//v/9v/5//X/7//2//f/9f/z//f/8//3//f/9v/9//3/9v/q//P/9//5/wEAAwD+//j/9f/2//r/AwABAP7/AAD3//b//f/8/wAA+/8AAA8ABgAJAAwA//8DAAUABQAOAA8ACAAGAAsADAARABAAFQAXABMAFAANAAwAFAAQAAoACwALAA4ABQACAAcACAAGAA8ADwAIAAgABAD6//v/+//6/wAAAAD8////BQAAAP//AQAAAP7//v/5//r/+f/9//v/+v8EAAIA/P8AAP3//P////3////+//v//P/2//j/+/8AAP3/7//w//r//P8AAAAAAAABAPv/9//w//f//v8BAAQABAACAPn/+f/7//3//P/+//z/9/8CAP//+P/6//z//P/9//X/9f/0//P/8v/t/+r/7P/v/+r/6v/r//L/9v/1//3//v8CAAUAAgAAAPn/+v/8////AgACAAkADAAEAAoAFAAMAAcABgAAAP7//v/7//f/8v/x//n/+/8BAAMAAwADAAgAAgD+//n/+//+//n/AAARAA4ACwAKAAYACwAHAAgACQAGAAMAAgAEAAMACAAEAAYABwAEAAEA+////wAAAAAEAAAAAwAHAAMABAACAAQABQAGAAIAAQAHAAcABgAAAAAAAwAAAPj/9//8/wAAAwAEAAsACQAIAAgAAQAEAAcAAQAGAAEAAQACAAEAAgABAP//AgAAAAYABgAGAAoACQAJAAkACQAGAAMACwAMAAkABAD+//7/AAD6/wAA+v/8//r/AAAGAAMAAQD7//3///8CAAQA//8DAAIA/v8CAAkABQAAAPr/+v/9//3////2/+//+P/z//j///////j/+P/0//L/9//2//L/+v/9/wAAAAD//wAAAAD+/wAAAAD8//r/9//3//z/BAADAAIAAAAEAAUABAAGAAUABwASABYAFAASABAADAAJAAAA+//6//z//P8AAA0ADwARABEAEQARAAcAAwD8////AgAAAAIABQAAAAAABgD8//n//P///wEAAQAAAP3/AAABAAMAAwAAAAIAAAD3//b/9//1//j//v/5//v/9//y//b/9P/v/+f/5v/s//D/9P/1//v//v/6//f/6//v//D/8f/1//P/9v/8////9//3//7/+//0/+7/8f/y//L/9v/0//D/8//6/wAAAAD9/wAACgAIAAgAEQATAA0ADgAQAA0ACgAFAP7//v/7/wAADgAHAAgADQANABEACgAHAAQA+f/6//7/AgAIABUAFwAYABwAGQAeAB8AFwAXABQAFAAUABYAFQAcAB4ADwALAAsADgAWABUAFQAcAB8AIAAdABEABwAPABMADgARABgAGwAWAAwADQANAAkAAwD4/+v/6v/w/+f/7v/5/wAAAAD4//X/8P/t/+7/8v/9/wEA/f/6//z/+P/1//X/6//p/+j/4//i/+n/7v/5/wEA8//s/+//8P/s/+v/8P/2/wAA/f/7//j/+v/9//T/8v/k/+D/4v/i/+T/5v/1//b/7P/q//H/9P/x//n/+//7//z//f8KAAgACgAHAAcABgADAAQA///5//r/AQAKABIAFwAcABwAGAAUAA0AAwABAP7/AwAIAA0AFQAhACcAHwAaAB4AGwAVAA4AAAAHABMAFAAYABQAFQASABIADgAOABYAFAAUABIAEQASABUAIgAjAB4AGwAVAAoACAAJAAYA+v/5//n//f8EAAoACgAFAAIA9//y//X/8//2//z/+P/6/wEACAAGAAUAAgD+//3/+f/6//b/+f8AAP///v/5//7/AgD9//f//P8CAPz/+P8AAAgACAAAAP//9f/r/+n/6P/p/+r/8//0//b/8//y//f/8//1//L/6v/l/9//3P/f/+r/7//0//j/9v/3//b/+f/4//f/8v/v//v/+//1//f//f/+//z//v/8//7/AAADAAkADQAMAAgABQAEAAIAAwAGAAcADQAKAAAA/////wAAAgD6//H/8//3//T/9f/y//f/CQAKAAgABAAAAAsACwAJABcAEgAOAA8ACQAHAAcABgAHAAYABwAEAAUADQAOABMAIwAcABgAHAAXAA4ADAANAAwADwAYABYAEQARABAAEAAPAAYA///+/wAA+v/k/+f/7v/o//H/8P/p/+v/5v/r/+7/7//y//P/8//1//b/4v/c/+D/3P/u//D/8P/y//L/8v/r/+v/7v/u//H/8P/v//r/AgAAAP///v8EAAQAAwAAAAAAAAAAAAEAAQD/////CQAIAAYABQANAAsACwAJAAgABgAKAA8AEAALAA4AHQAZAB0AGwAKAAwACgAEAAUABgAHAAkACAAGAA4AHQAbABkAEwANAA4ADgAMAA0ACwANAAsACgAKABEAEQAXABYAEgASABAADgANAAsAAQABAAIAAgAFAAQABQAGAAYAAAD//wAAAQAEAAQA+v/6//z////4//P/8v/3//n//f/6//P//f////7////8//z//f/1//X/9/8BAAAA+v/3/+7/+P/7//z/+//7//r/8v/z/+z/5//t//H/8//q/+T/5f/i/+b/6v/r/+3/7P/u/+7/8f/w//H/8P/w//D/8v/z//X/9v/1//T/9v/3//n/+v/4//r/+P/7//r/9P/z//X//f/+/wYAFQAXABMABwD6//v/BAAHAAgA/P/9/w8ADAANAAsABwAIAAsACQAPAAoACwAKAAcABQAFAAYABQAGAAcABwAHAAYA/v8AAAAA+//7//T/9f/7//n//P/5//H/9P/v//L/9//2//r/+v/6//j/8P/y//v/9P/u/+f/5//q/+7/8P/o/+n/6//m/+v/7f/l/+L/5v/q//////8FAAIA/P/4//T/+v/5//v/AAAHAAoABQAJAAEABwAVABMACgAMAAYAAAAAAAcADAAKAA8AFQATAA4ACgAQABIADQAQAA0ACAANAAsAEQAVAA8AEAAQABAADAAIAAYAAAD8//v/+P/7//n/9v/4//P/7//x/+3/7v/r/+j/4//x//X/9v///+v/7P/n/+f/9f/2//T/+/8AAP//AAAIAAkA/v/9//H/9v/5/////////wUAAwAHAAgABQAHAAYABQADAAkACwAKAAwADwAUAAsACAAHAAoADgANABEACwAMABAADwAQABQADgALAAkACAAFAAUABgAEAAoAAQD3//v/8P/q/+v/9v////3/+P/x/+7/8P/r/+X/6v/t/+n/5f/f/+X/3//e/+H/2//b/+D/7f/s/+r/6P/o/+X/4//f/9r/3f/i/+z/7P/i/+X/6f/m/+r/6P/p/+7/7v/q//L/+v/8/wsACQAGAAoADAATABkAFgAXABcAHAAbABwAHgAdAB4AHQAsACsAJAAiABQAFAASABQAFwAbABsAFQAWABQAEgAZABAACgANAAgA+v/6//v/+/8GAP7/9//4//P/9P/r/+T/5P/s//H/8v/5//P/8P/x//L/8//1//P/8//0//n//v/y/+v/9f/z//v//v8AAP7/+P/4//z/+f8BAAIABAALAA0ACQAIAAUABAAHAP3/+/8CAAAA/v8OAAkACAAJAAgABwAEAAQAAAACAP//AgAGAAIAAQAGAAIAAgAEAAAA/v/0//T/+v/7//7/9//6//z//P/v/+b/6//v//D/8P/q/+f/7P/y/+7/6v/u/+v/6v/p/+r/7//t//H/7//v/+7/6//r/+j/5//l/+T/5v/k/+H/4f/i/+v/6P/t//j/9v/5/+z/6v/t//L/9P/1/wAA//8AAAAABwAGAAgACwAIAA0AEwAeABwAHwAfABkAGgAZAB0AHgAiABkAFgAcABYAFwAXABYAGgAZABMAFQATAA8ACwAIAAQAAQACAP///P/9//7//f/7//b/9v/2//H/7v/l/+D/4f/l/+b/5f/1//H/6v/s/+f/6P/o//H/8//y//b/+//5//n/9f/2//H/7f/q/+f/7P/v//H/9P/2//r/BAAAAPv/9//4//f/+P/7/+f/6v/1//X/8////////P////7/AAADAAAABQABAAEACQAPAA4ACAAMAA4ADwAVABUAFwAbACAAGwAZABoAGwAXABQAGgAPABMAIAAZABcAFQAUABUAEwAQAAcABQAGAAwACQAGAAsACwAJAAcABwAJAAgACgAFAAAA+v/2//T/9//z//H/7//2//L/6//v/+3/8P/y/+v/8f/z//L/7P/y//n/+/8BAP////8BAAEAFgARABIADQAMAAwABQAGAA0ABAAHAAkA/f/9/wAAAAD9//////8AAAUAAQAAAPn/9f/0//P/9f/z//b/8//u/+j/4P/h/+7//P/6//P/9P/4//f/9v/6//n/8//1//j/+P/7////+/8AAP3//f8IAPv//P/7//r/AQD///j/+v////3/AgAJAAMA//8CAAAAAAAFAAMAAAAEAAQA+v/7//n/+P/+//v//P8AAP//////////AAACAAcABAACAP3//v8AAAIAAwABAAYABAAKAAcACAALAAcACgALAAgAAgAGAAIABQABAAQABQACAAIABQADAAEAAgABAAEAAQABAP3/8f/5//f/9//5//j/+f/3//z/+f/y/+//9v/1//r//P/1//T/7//1//D/7v/z//X///8AAAIAAwABAAUACwAFAAMABgADAPz//f8FAA8AFAAOABQADgALABAADwAUABMAEgAZABMAGQAYAB0AIAAcABcAEgAVABAABQAFAAgACQAMAAUA+//5//f//v/2/+z/6v/r/+r/7v/v/+7/+P/0//X/8//y//3////6//r/+/8GABAADQAKAAoACQAKAA8ADwAPAAoADwAMAAcABgAHAAoADQAOAA8ADwAPAAwACgABAAcADQAOAAQA+/8BAAMA+v/7//n//P/+//7/+v/7//j/9//2//f/9f/6//z/9f/6//b/8v/y/+//8P/y//X/BwACAPr/+//8//3/AwAAAAIAAAAAAPz/9f/4//f/+f/7//f//P/2//b/8//5//r/8f/2//v/9//2//H/8v/u//D/8f/t//P/8f/n/+n/6//4//r/8v/p/+z/9v/0//X/9v/2//X/+v8EAAkAEAAPAA4ACwANABEADwATABUAEgAWABUADwAQABUAFAAUABMAEwARABUAFwAaABsAGAAOAA8ACAAGAAoACgAMAAkA8v/u//D/7//w//D/7v/s//L/9f/w/+T/5P/r/+n/6v/t/+z/8f/u/+n/6//s/+r/8f/y//H/9v/5//L/+P/8//r/+////wIABAABAAQABgAMABYAFAAPAAwADwAQAA4AEAAOAAoADQALAAkACwAJAAcACwAMAAgA//8AAAAA/P/5/wAA+v/r//D/9f/x//b/+//8////AAD2//j/8v/v//L/9v/4//n//f8AAAEAAAABAP//AAAIAAQAAQAFAAMABQAZABsAFAAUABQADwANAAwACQANABAADQANABAADwAJAAsAEQAQABEAEgAOAA8ACwAJAAYACgAOABAACwAAAAIA/v/+/wAA///8//P/9P/2//n//f/9/wMABwABAAgAAwABAAYABwACAAIABwAHAAMABgALAA8ACwAMAA0ADAAGAAcABQAHAAgAAgABAAUAAQAEAAUAFAAOAAgAAgD5//z//v/9//r/9P/t/+b/6v/r/+3/9P/0//b/+P/0/+3/7f/x//P/7v/v//L/7f/w//f/+//7//n/+P8DAAYABAAEAAAAAgAIAA8ADgAYABIAEQAUAA4ABwADAAUACAAHAAsACwAKAAoAEAAOAA0ACQAJAAgA///+/wIA///9//v/+f/7//f/7v/y//X/9P/3//v/AAAFAAQABQAFAAIAAwAAAAkABQADAAEAAAD9//X/AAD7//b/+f/6//3/9v/w//D/8v/y//T/8v/x/+//6//q/+j/7f/x//P/7//y/+7/8P/z//X/+P/z//7//f/1//X/8f/v/+z/7//0//r/AAD9/wEA///7//v/9////////v/8//f/+v/7//3/AAACAPz//P/0/+3/9f/4//r///8DAAAADAAPABMAEQALAAYAAAAAAAAAAAAHAAwADAAQABAADAAJAAoACwAIAAcABAAAAAAAAAAJAAsADAAOAA0ACQACAP7//v8EAAgABQAJAAkAAwAHAAUAAgAAAP7/BAADAAUACAAJAA0AFAAOAAwACgAOABQADwARABcAGAATAA4ADQANAAsADAALAAgACQAIAAMABQAEAAQABQAOABQAEQAIAAoADwAMAAsADQALAAoACgAEAP7/AAAHAAUAAAAAAPj/8v/3//n/+v/8//z//v8DAAQA+//8//z/+v/8//3//f/8//z//f/+//7//v/9/wMAAwAJAAcABQAMAAYABgAGAAYABAD9//n/+//2//b//P8AAPv/+//1//D/8//3//7/+v/6//z/AAAAAP7////7//3/AwAGAAIA/P/6//v/+v8AAPf/+v/+//j/AAACAPj/+//5//v//f/9//3/9f/4//j/+v/7//7/+v/7//n/9f/0//H/8f/v/+//8v/6//r/8v/z/+3/3f/l/+H/3v/k/+b/5//q/+z/7P/m/+j/6v/q/+//7//u/+7/7v/v//D/8f/5//3//f/9//3/+//8//z//f/9//7//v/9//z/AgAHABQAEQAHAAcABAACAAQAAgADAAEAAQAAAAEAAAAAAAAABwANAAwACwALABAADQAKAAMAAwADAAoACgAEAAQAAgAHAAcACQAYABkAJAAmACEALAAjAB8AHgAjAB8AFQAVABQAEQATABQAEgASAB8AHAAbABIACQAYABcAHgAdAB8AIQAbABoAGgAWABQAFQAVABQAFAARAAoACwAKABEACgAEAA8ABAD3//v/9f/2//n/+v/9//7////9//f/+f/7//n//v/3//f/+f/5//r//P/9//3//P/9//3/8//n/+n/9f/6//7/BAADAPb/8P/y//P/7v/x//P/9P/0//b/+P/4//j/+f/6/wEAAAAAAP7/7f/u//H/8v///wMAAgABAAAA/f/9//3//v/8//3/BAAEAAMAAwAAAAQAEAAUABUAGwASAA4ADgAPAA8AFAAXABYADgAKAAgADgAQABIAEQARABgAGAAPAAgAAgABAAMAAwD///r//v/6/+v/7//y//T/9//2//T/9v/2/+//7v/q/+v/8v/x/+n/9f/2//r/+//1//H/9f/4//z/+f/5//j//v8AAAAABAAEAAAAAwACAAQABQACAAAA+v/6//n/+v/9//j/9P/z//X/9//1//P/8P/u//H/9P/8//3//v////v//v/+//3/+v/6//f/+P/1//f/+//4//n//v/9//r/+v/2//T/8v/x//P/9f/1/wAA/P/z/wQAAAAFAAMABQAMAAwAFAAVAA0ACgAKAAsABAAAAP//BQALAAoACgACAA8AFQAMAAYA/v/9/wIABgAPABQADwALAAgABAAHAAkACwALAAwAEAAUABIADwANAA8ACwASABwAGwAZABQAEgASABAAEgAOAAsABgAFAAQAAwAGAA0ADQAOAAcABwAFAAcACgADAAUACgATAA4AAAD5//b/9//4//f/+P8AAAAAAgADAAIAAAD8//v/9v/1//r/+f/4//f//v////v//P///wEAAQD6//L/9P/5/wAAAgD///v//v8AAAYADQAIAAgACAAEAP//AQD/////CQAFAP///v//////+v/3//3/AAD///7/+//8/wAA///6/////P/8/wIA+//2//b/+f/9/wAAAAABAAIABgAIAAYACAANAA8AEAARAAkACAALAAYACAAKAAkACAABAA0AGAAbABYAFAARABUAFgAWABgAFgASAAwAEQARABYAFwASAAsADAAOAAgADwAPAAsAEgAJAAEAAgD//wIABwAIAA0AEAAQAAMAAAD1/+T/6f/u//L/8v/x/+j/6v/z//j/+v/r/+v/5//m//D/7//t/+r/6v/m/+j/7P/0//3/+//6//j/9//3//X/9f/2//L/6v/s/+v/7f/u/+//7f/u//H/9f/7//v/+f/+//7/AAAHAAYABQACAAIA/P8AAAQACQANAAkABAAGAA0ADwASABIAFgASAA0ADAAJAAEA/v8DAAMABAAGAAMAAQD9//3/AwAFAAIACgADAAIAAwACAAIAAQADAAEA8//y//X/9//7//T//f/8//3/+v/7//j/+P/4//v/9P/x//X/8P/y//X/+f/6//3/9v/9/wQAAQAAAAMAAgAHAAkADwAJAAUA+P/0//T/8//8//z/+f/6//v/+v/9//f/+/8AAP//9P/2/wQABwAHAAkAAADw//H/+P/+/wEACQANAAkABwASABAAFwASAAUAAgABAAAABQABAAEAAgD7/wYABwAEAAIABAAEAAAAAgD9//f/+f8AAPv/+v/5//T/9P/9//f/4//h/+j/8v/1//j/+v/+/wYADAAHAAoABwAGAAYAAwACAAUABQAIAA8ACwALAAgACAAPAA0A+P/3//j///8GAAIAAwAAAP//AAAIAAQAAQAIAAsACwALAAcABgAIAAYACQAIAP7////9/wQABgAIAAQA/v/9//b/AQAAAAEAAQAAAAIABAAFAAIA/P/5//f//f8FAAcABwADAAAA9/8AAAgA/v/6//H/6P/x//b////7//n/9//z/+v/7f/x/+7/9//y/+z/7P/t//H/+v/6/+3/5//t//T/+f8BAAAA+P/z//f//P/3//r/9f/3//n/9//5/wYAAQD9//v/9v8DAA8AFgATAAUAEgARABQAEAAHABQAHAASAAsACQACABcAGgAMAAsAAgAOABkAEAAMAAcAAQAEAAUAAAAJAAMAAAAIAAMACAAOAAMA///7//3/BQAHAAIAAwD+//T/AAD+//v/AAD//wEAAQD1//j/AQD+/wMACgABAAQAAQD9/wAA/v///wUAAAAAAAAA/P8OABAAAwACAAAA9P/+//r/6v/z//L/6//v/+7/9f/8//r//P/8//X/+//4/+3/8P/r/+X/7P/v/+7/9//1/+//7//v//n/+v/3//f/9f/v//P/+v/+//n/9P/t/+//+P/+/wMA/P/6////BQAUAA0ABgAAAPz/9f8AAAQAAAAMAAoA/v////7/+////wEAAQD///r/AwAPAAoADAACAP3/+f/7////BgALAAYAAgADAA0AFgARAAoAAAD2/wgAEgAQAA8ABQABAAkABwAIAAYACAAIAAUAAAAGAAQAAgAHAAkACAAPAAwACgAHAPv/+f/v//P/7f/s//X//v////f/9f/p/+D/8P/y/+X/4v/h/+b/7//v/+//7P/t//3/+P/z//f/7v/s/+//7f/w//f////8//X/6v/p/+//9v/1//j//f8CAAAA/v8EAAcABwABAAUA//8DAAsACgADAP3/9v/6/wUACQADAP//AAAEAAcACgANAAAA+P8AAAUACwAQAAcAAgAAAPL/9f/7//v/AQD8//v/BwADAAMABQD//wIADgAFAAYACwABAAAADQANAAsABQAJAAgAAwAKAAoABQAJAAoAGwAbABUADQABAPn/BQAIAAkADAAGAAcABgACAAAADQAPAAcACAAIAAQA/v/2/+7/8f/3//7/AAD4//r/DwAPAAYA8v/v//f/+v/6//n/8f/y//X/+f8AAP3/AQAGAAAA/f/2//L/+v/4//j/AgAFAAAA//8AAPf/+P/2//j/+P/7//r/+//2/+3/4//l//L/AAADAP7/+P8BAAUAAQD///r/8v/q/97/2//e/+f/8P/v//H/9//7/w0ACAAAAAgAAQACAAEA/P8BAAEABgAKAAUA//8EAA0ACAAIAAgACQAXACEAKAA1ACgAGgAZABUAEAANAAMA/P/+/wMACQAKABcADAAJAAkABgABAAgAAADm/+r/8P/0//3/+//o/+v/6//w//P/9P/2//v/BAAHAPz/7f/t/+n/3v/b/9b/1v/n/+7/9f/4/+f/5//6/wAACgALAAAAAAD5//X/9//3//T/9//9/wUADQAFAAcACgD8/wIADAAKABQAEQAMAAoA/P/3//z//v8EAAYAAgD///X/+/8IAB0AHgAdABgAFQATAA4ABwD5/+3/7v/1//j/AAAIAAcAAAD0/+///P8CAAAA+v/w/+T/6f/r/9//3v/a/9//5v/h/+D/4f/g/+j/7f/r/+z/8P/x//b/7f/r/+7/7v/t//f/8v/x//P/9P8FABAAGAAZABEACgAFAAMADgARAA8AEQAPAA8AEQANAAQACAAJAA8AEgAVABAAGAAfABwAIQArACUAJAAdABIADQANABEADwARABsAFQAMAAUA9//0//3//v/1//j/AAD8//n/8v/x//T/+v8LAA4ABwD9//b/AAAAAPX/8//y//7/CgAFAP////8AAAEAAAAEAAUAAQAMAAYAAQAOAAYAAwAGAOz/5f/q/+r/7f/w/+r/5v/r//D/9P/1//j//f/1/+//8//4/wAAAAD///v/+v/8//b/8P/w//X/+f/y//L/+P8GAAgABAAAAP//BAD9////9v/2/wAA9//8/wIA/v8AAP7//P8AAAEAAQAEAAwABgAKAAkA/f/9////AAD8//7/+v/0//f//P/+//f//P///wAA/f/7//r/9f/6//n/+P/y//n////8//j/+f/2//j/+f///wAAAAAGAP//+/8AAAAA//8AAAYABQAFAAoACQAAAAgACQADAAsADgANAAMA+v8BAAAAAgDz/+7//f/1//b///8AAAMAAAD8//X/+f/y//H/9v/3//3/9v/0//f//P/8/wIA/P8EAAYABwAAAPj/+//5//X/9f/3//n/9f/3//r/+P/3/////P8FAAoAAAAEABYAGQAgABkAEQAWABUAEgAYABQAEAAZABMAEwAUAAoABQD+/wAAAgD4//3/AAADAPf/8v/4////+v/t/+f/6v/x//r/+v8AAP//+//5//X//f8AAP7/9P/w//j/+v/8//n//P/6//f//f8BAAIADgAHAPj/+P/8/wAA9//5/wAACgAVAAoAAAAFAAYABwADAAIA/P/v//T/+//9/////f////7/DQASAA0AAgD//wYACQAGAAQABAADAAAABQAAAAAABgD///7/BwAGAAIAAAAMAAoACgAJAAYABgAFAAEA+v/1/wMACgAFAAAAAQABAAUABQAQAA0ACwAHAAkABQADAAUA/P/8/wIA/v/2//P/8v/v//f/9v/5//j/+//+////AAAAAAEAAQD3//b/7f/r//b/BAAGAPv/+P/2/wAABwAHAAUAAwAEAAYABQAHAAoAAAAAAAAAAgAGAAYAAQAHAA0ACAARAAoAAgAIABMAEAALAAcABQAHAAYABQAEAAUABAAIAAUABQAHAAgABgACAP3/9P/u//D/9f/y//L/8v/t/+j/8P/3//P/8//1//n/BAAEAAAA9v/8/wcADAD9//H/7f/p//3/+v/x//P/+v8BAAQA/f/1/+//9v/7//n/+f/0//n/AgAAAPn/6P/t//L//v8GAPr/+P/8/wEABQAAAPL/6f/1//f/9//0/+n/7P/z//X//f/1//H/BAAIABIADgD9//n///8IAAgABAAAAAYABgAEAAEA+//2//r/AgAAAPf/+f/+//7/AgALAAYAAAAAAP/////+/wAABgAGAAIADAALAAcABgAEAAQAAQACAAAA//8BAAEAAgAAAP7//v8AAAAA/v8EAAAA/v/+/wQABQAFAAEA//8MAAoAAwD6//f//P8BAAYAAAD5//7/AgADAAIAAQAAAP7///////z/9v/7/wAABgAMAAgABAACAAAA//8AAAAA/P8EAAkABAAEAAcAAwABAAIA/P/8//z/BAANAAoABgAGAAYABgAAAPv/9//9/wQAAQD+/wAA//8BAAMAAQACAAUACQAPABIADwAJAAgADAAIAAoAEQALAAYABgADAAsACQD9/wgACgADAAMAAAABAAIACQADAP3//v/6//7/CAAEAP7/AAACAAYA9P/v//j/AAAOAAoAAwD8/wAAEwAQAAcAAAD9/w0ACwAHAAEA+v8LACAAHwAVAAkABAALAAoABAD7//L/9f/y//b/7//p//H/7f/y//T/9f/3//j/AQD+//v/+//6//r/+v/7//P/9f/5//n/8//z//f/7v/z//P/9f/0/+7/8v/0//T/9f/2/+3/8v/6/wEAAwD4//f/+//7//v/+f8CAAAA/v////X/+P/v/+3/AgAIAAcABwAAAAIACQAAAP7/+P/y//j/AAD+//3/8v/v//T/9//1//H/8v/3//7//v/x//f/AAD+/wMACQANABAACwAHAAcABwAEAPz//v8BAP//AAD//wAAAQACAAAAAAAAAAAA/////wAAAAAAAAAAAAAAAAAA///2//v//v/8/wQA+P/6//v/+//9//z//P/8//v//P/7/wUAEwALAAYABAAFAAIA/f///wIAAAD7//3////9//f/+P/0////DwAPAAAA/P/8//b/AAAAAPz///8EAAQAAAAAAAAAAgABAAoABgAEAAQABQACAAIAAwADAAQAAgABAAoAEAAKAAkABwAFAAcA/v8AAAIAAQAJAAYAAwADAAMABAADAAsAEAAJAAoACQAHAAcA//8AAAEA+f/+/wAA//8BAP//AQAAAAEAAQD4/+j/8//3/+b/7f/z//P/9/8AAP//BQALAAYABAAEAAMA+f/0//v//P/1/+3/9v/+//z/+//8//z//f/9/////f/8//z/+//9//7//v8FAAwABQDx//j//P/7/w0ADgAHAA4ACwAGAAAAAQACAAIADAAPAAkABwAFAAYADwANAAoAEwALAA0ACQD5//3/AgD6////AAAAAAAAAAACAAEAAQAAAAEAAgAAAAAA/v8CABAAFAAMAAMABQAGABAACwALABIADwAKAAwACAAAAAMAAwAGAAwADgARAAkABAAJAAcAAwAFAAgAAwADAAUA+v/6/wYAEQASABEACgAEAPb/7//x//L/7//q/+//7v/w//r//P8EAAYABAAPAAUA+//9//v/+f8AAPz/9v/0//r/+P8BAA8ACgAAAPv/+/8AAAIADgAQABIAFwAPAAYABgAFAP//+P/8//v/+/8AAP3//P/+/wIA///w//D/7P/t/+f/6v/t//L/+//5/+z/8P/v/+//9v/2//D/6v/w/+7/9P/7//3//f///wMAAwD7//7////9//f/9//v/+j/7v/x//j//f/9/wAAAwAEAAQA/f/1//n//f/8////AAD8//v/+v/4//f///8GAAYABwAKAAUAAgAEAAAAAAACAPz/+//6//3/AQAKAAgACwAMAAoABAAEAAcABwALAAoADAD4//L/8f/0//r//P/9/wMAAwAGAAYABgAGAAQABQAHAPr/8f/6//n/+v8DAAsABgAHAAAA+P/9/wAAAAD9/wAA/P/3//L/7//p/+7/BAAGAAoACgAJAAUA///5/+//7v/z//L/8P/y//P/9f/8/wAAAgAJAAsAAwACAAQAAgAIAAoADQANAAgADgAJAAoACAAJAA8ADwAVABMAEwAWABIAEgAOAAoACAAGAAQABAABAP7/CQAPABUAGAANAAwADgASABUAGAAWABEAAwAEAAkACAAQABEADAARABIADAAHAAYABwADAAUACQAQAA8AEgAQAAcACQAMAAwACgALAAcABQAHAA8ADgAQAA8ABwAEAAMABQAIAA8AFAAOAA4ACQACAAoACAAJAPv/+f/6//j/AAD+//z/+v/5//r/+P/8//7/9//2/wAAAAD5//n/8v/s/+r/6v/l/+b/6v/s/+3/6//u/+3/9P/1//H/9P/y//L/6//t/+//8P/y//j/+//+/xAAEwARAAsAAAD+//z/+v/5//b/+P/8//r//P8NAA4ACgAJAAsAAwAAAP//9f/2/wAAAQABAP/////6/wYACQAAAAAABQAEAP7/AQAAAAIACwAJAAIAAgADAPf/7v/x//P/8f/2//7//f8CAAcAAAAEAAYABAD///7//f/2//r//P/8////AQAIAAUAAwABAP3//P/8//f/9f/7/wYABgALAAoABAAJABAADwAJAP7//v/7//j/+v/9//H/8//1//j/BAABAP//AgADAAcACgALAAoAAAD7//z/BQAEAAEABAAHAAoAGAATAA8ADgAQAAsABAAHAAoAAwALAAYA+v/1//f//v8AAAcABgD7//j/+v/1//T/9P/v//D/7v/t/+//9P/4//r/+//5//f/8f/y/+b/3//p/+3/6v/u//P/7v/v/+//8//y//X/8//t/+v/8//w/+v/8f/4//f///8AAP7/AwACAP///v8AAAIA///9/wMAAgAAAAMAAAAAAAcAAQABAAIABQAGAAIABQAJAAAAAQAAAAAABgAGAAEAAAAAAAEA//8FAA4ACAAMAA4ADwAKAAwADQAPAA8ACgAFAAIAAAADAAQAAwAFAAcACAAJAAcAAwAGAAUABwABAAIAAgD3//7////4//3/AAAIAAwACAAGAAYADAASAAwAAwACAAAAAAAEAAQAAgAAAAAAAQACAAkADgAPAA8ABwAAAAUACQAKAAsAEgANABAADgAJAAkADgAOAAsACgALAAwADwASABQAEgAXABkAEwAOAAwACgALAA8AEgAPAA4ADQAIAAsABQABAPz/9//8/wAAAAD+/wAABQADAAQACQARAA4ADAAGAAQAAAD7//7/BQAJAAsABgAAAAEABAAAAPv//v///wYACgAEAAUAAAAFAAUAAwAFAP7/AQAHAAUACAAGAAUA/P/8/wAA///5////AAD9//r/+f/8//n/AwAKAAUAAAD9//r/+v/6//v/+//3//D/8f/1//L/9v/5//f//f/8//b/8P/1//r/9//z//b/9f/z//X/8P/q/+3/8v/2//P/9P/x//X/9//7//v/7P/x//b/8P/t/+7/6v/m/+r/7P/q/+r/5f/t//D/7f/w//L/8P/w//P/+v/5//v//P8AAAAABAAEAP//BAABAP//AAAOAB0AEwANAAwAEgAgACAAGgAQAAwAEQAQAA4AFQAPAAkAEQAaABgAFwAYAA8AGwAgABQABQAIAA0ACgAHAAQAAgAAAAMAAgABAAcACgAIAP///f///wEAAAD7//r/+P/7/wAA+P/5/wIABgACAAAA/v/6//z/+v/7////AAAIAAgABwAGAAMABQACAAQAAQAAAP///v/9//z/AgAAAP7/BwAGAAMA/v8AAAMA/f8AAP//AAAAAP3/AAABAAAA/f8AAAoAEQAFAP7//v8DAAcACAALAAsADQARAA8ADgAKAAsADAANABUADwAOABIAEAAKAAgADwAYABwAHgAVAAwACwAKAAwAAAD6/woACAAEAAQABgACAP3//P/3//L/7//w//j/+v/2//n/+f/s/+v/7f/u/+L/3v/b/9n/3f/i/+n/3v/h/+b/6v/s//P/8//x//H/8v/1//X/+f/3//v/AAADAAEAAQABAAAA/P/1//j/+v/4//f/8//8/wEAAQD9//j//P///wQAAAD9//v//P/5//r/+/8AAP//BgADAPv/+v/+/wIAAwAAAP7//P/8//f/9/8HAAwACwAKAA0ADQAGAAkABQAAAAUACQABAPv/AwAKAAUAAQABAAMAAgADAA0ACQAAAP//AwAFAAEAAAACAAgACQADAAkACgAGAAUA///9/wAAAAABAP3/9P/2/////P/3//z/AAD5//L/9v/1/+//7f/3//j/+P8CAAUABQAFAAAA+//9////AQAAAPb/+f/6//b/+P8AAAIAAAAJAAoAAAD5//v/+/8FAAYAAQD+////AAABAAMAAQD+//f/8//y//P/9f/0//D/+f8AAAMADQAMAAgABwAJAAgABAD//wEABAAGAAEABwAJAAgAEAAMAAMAAAACAAQA///+/wUABwAAAPr///8AAPz/AwAFAAIA/v///wMABgABAPz/AQAGAAQABQD//wIABgD+//b/6f/u//H/6//w/+7/6//s/+7/8/8AAAUAAQAAAP7//P/1/+7/8P/2//r/+//8/wEABAD5//r/BgAHAAAA9v/4//D/7v/0//r//v8IAAwACwAKAAgAAQABAAAA/P/2//H/9/8CAP3/+f/4//r/+P/4//v////+/wEA+//p//P/BgAJAAMA/f8DAAEABAAPABcAHQAUAAgACgAKAAIA/v8KAAYAAAAIAA4ADQANABEAEQASABMAEAAJAAIAAAACAAEAAAAAAAIAAQD8//z//f/9////+//9/wAA7v/n/+T/5P/m/97/5f/1/+//8f/u/+//9//7/wMAAgAAAAAA9f/y//H/+/8AAAAACAAKAA4ABgAGAAcABQAJAAYABwAIAAcADQAQAAwACgANAAgABAAAAAUAAAD8//f/+f////z//P/6//v//v/4//j////+////BAADAAEA9v/y//X/9v/2//T/7v/y//P/8//z//b/+f/8//z//v/7//j///8AAAUAAwAAAAAAAwADAP7/+//3//T/7v/z//3///8AAP///v8CAAQAAgACAP3/7v/u/+7/7f/3//z///8DAAEACQAJAAMAAwABAAAA+v/5/wAAAAABAAAABwAPAA4ACwALABMAEgAMAAsADQAVABEADQAQABsAGwAmACcAJAAmABsAEgASABIADgAAAAEACQAMAA4AEwARAA0ACQADAAkABgAEAAIA///+/wUABwAAAP//+v8AAP///f/3//X/+P/2//X/8v/1//v/+P/0//L/9//7//z//v/+/wAAAAAAAPv//P/8//r//v////7/9//z//T/9f/1//X/9P/x//T/8f/w/+r/8v/4//X/8P/t/+3/7f/u//H/9v/3//T/8//2//n/9//4//r/9f/w//v//v8DAAAAAAD//wAA/f8DAP3///8AAAMAAwAEAAoAAQD9/wEACQAJAAkAAgD5//v/AQD9//3/AAD9//z/+//8//v/+//3//f/AwAAAPn///8AAAAAAwD8//z/AQAGAAYABwAMAA4ABwAEAAEABQAPABAAEQAQABIAEwAQAA4AEAAYABYAEQAXABQADwAFAAIABgAEAP3/AAAAAAQABQD//////v/9/wAAAAD6//b/9f/4//f/9//1//P/+v/5//f//v8KAA4ACwALAAcABAAEAAEABQD///3/9f/v//b/9v/8//3/9P/3//v//v/8//H/9f8CAP//9P/1//7/BQAAAPj/+//8//b/+f/8//j/+v/8/wAAAAD5/+r/4//n//D//P/6//T/9P/z//z/9P/s/+//9//5/wAA///8/wAABAANAAsABQAHAAcACQAPABYAFwAUABkAGAASABEADQAMAA4ACgARABgADwAKABAADQANAA8AEQANAAMAAAADAAIA/v8HAAsACwAGAAIAAwABAPn/+f/z//T/+v/8//X/9//7/wUACgAHAAYAAgAAAPv/8v/4//z//P/5//j/AgABAP3//P/y//b/9P/u//v//f////v/8f/1//f//f/7//3//v/8/wAA9//t//T/+//1//L/8v/3//z/+/8AAAQAAQAAAP7/BwAEAAAA/f/x//b/9//+/wEAAAD+//z/AgADAAAA/v/4//n/9f/5//n/+P/7//3/AAAEAAsACgAJAAcABAD///b//v8OAA0ABwABAAAAEAATAAsADAAHAAcAAADo/+T/7//3//3//P/+//z/8//u//L/9//y/+3/8//3//r/9f/o/+7/8P/1//f//f/9/+//7P/n/+v/9P/y//b/+P/5/wYACAAGAAgABwADAAAABQACAAQABAAFABMAFQANAAgADQALAAgA/f8BAAUACAAOAAgAAAD9////AgD7//T/9/8CAAMAAAD0/+r/7v/0//b/+f/6/wMAAAAAAAIA+v/4//z////7//v//f8AAAUABwAHAAQA+P/9//z//f/6//n/+f/6////AQAFAAYABAADAPj/9f/8//3/+v/4//v/AAAFAAYACAAFAP3/+//9/wAA+//+//3/AQABAAIAAgAEAAkABgADAAMAAgAEAAEAEwAVAAcABwAKAAoADQAOABgAEwAQAAkACQASABUAFgANAAoAEgAaABgAEQAOAAoABQABAAQADQARAA4ABgADAAMABQD5//f/AQD///r/+f////7//P/8//v/+//5//v/8f/0//n/9//2//P/9//2//f/8//5//7//P8AAP//AAAAAP//+//3//v//f/8//3/AAAAAAAAAgAHAA4ADAAHAAYABgAJAAUAAwAIAAgABwAIAAIAAwADAO//8P////j/8f/z//H/9P/9/wIAAgD7//f/+v/z/+b/5f/1//f/7v/t//L//v8DAPz/9f/x/+v/6P/1//r//P8AAP7/AAD8/wAABQD///n//f8DAP//AQAGAAcAAwAAAA0AHwAeABUADgAMAAYACwARAA0ACQAGAP7//P8DAAwAAQD///n//f8BAAAAAgAHABEACwAAAAQACAAFAPf/7//z//r/BQAFAPv/+v8AAAAA/f8AAAUABQD+//r/+v8AAAQAAAACAAYAAwAAAP//AgAAAAAA/f/6//v/+f/7//r//v8AAP3/+v/1//T/+f/5/+X/2f/j//n//P/6//j/9f/3//n//f/6//n/8f/x//P/8//4////+v/6//f/8f/y////BQD///b/8//1//3///8AAP3//f8FAAMA/f/+/wQAAwD8/wAACwAQAA0ADAAMAAwACgAJAAoAEQAaABsAEQAPABYAFwAVAA0ACwAUABUADAAbABsAGwAdABoAHAAeAB4AFwASABYAFQAZABAACwAPABAAFAAJAAAA/v/7/wAABQACAP//AAADAAoACgAGAAIAAQD9//7//P8EAAgABQAAAPj/+//2//X/9//1/wMAAgAAAAAA8v/6//r//f8AAP3////1//H/8v/2//v/9f/4//r/+v8DAP///P/6//X/8f/v//D/6v/j/+L/6f/z//P/8P/p/+v/9P////r/9P/x//X/+f///wEA/f/6//v//v/8/////v/5//v/+/8CAAYAAAACAAQAAAAFAAUACQALAAUA///9//b/9//4//f//f/+//3/+v8BAAkABgAEAP//+////wYACAAKAAcAAQAEAAgADwAMAPX/8f///wcABgAEAA4ADAAIAAwAEQAPAAgAAgAAAAIABwACAAgADAAOABQAEgAMAA4ADQADAP//AwABAAIABwAMAAwAEQAKAAIA///7/wAA//8AAAQAAAAAAAAAAAD5//X/9f/z//H/6//w//3/+P/2//P/9//7//r/+v/w//b/+f/w//f/AQD+//j/+P/7//7/9v/y//L/8//z//f//v8HAAIA/f/+/wAAAwAAAPz////+//H/6f/v//r/AAAEAAkADAAMAAoABwAJAAoACwAJAAcAEAAPABoAFwAPABQADgAJAAoA/f/2//r/AAAGAA4ADgAOAAQABAAAAP//BQABAPn/+v/6//7//v/7//n/+f/2/+7/9////wAA/v/t/+j/6//3/wAA/f/9//f/8f/3/wUAAQACAAMAAAACAPr/8//0//j/BAAAAP7/CgAFAAIADwALAP7/9f/0//r/AQD+////CgANAA4ACAAGAAoABgAAAP////8DAAAA9v/2//z////+/////f/9//H/+P/+/wAA/P/0//L/9f/1//T/7f/w/+//8f/4//j/8P/1//b/8v/t/+3/8f/y/+z/8f/u/+j/6P/n/+n/9P/x//P/+/8DAAkAAAD4/wYACAARABgADAANAAgACAAOABcAFgAYABUAEAANAA8AFwArACAACQAKAA0AFwAYAA8AEAAOABYAHwAgACoALAAeABwADAAFAAkADgAKABAAGAAcACgAIQALAAYACAASAA0AAgAMAAcAAAAAAAsAGQAbABoACAAAAPT/9P/8/wYABADw//T/+/8FAAMA/P/v//H/7//g/97/3v/c/9z/3P/c/+L/6v/s/+r/4//k/9//4f/t//D/8v/1//P/8v/5//v/9f/0//b/6f/r/+//+v8FAAAA+f/7/wgAFAALAAMA7//2/wEABAAKAAkACAADAAEACAALABAAEAANAAoACAADAAcAAQD/////5v/s/+3/7f/8//H/5//u//T/9P/u/+b/4v/m/+7/8//+/wAA/v///xMAEwAJAAMABQAMABEAEgAbAPz/+f////v/EQANAAcABwALABYAEQAPAA8ADwAXABcAFQAQAAwADAAQABYAEgARABIAEgAFAAMABgAQAB0ACwD1/+f/7P/5//7/AQD9/wAA+P/+//n/AAD6/+L/7P/Z/+L/8f/n//r/CQAAAPf/6f/y/wIA6f/l/+f/8/8FAAoACAD5//P/7v/s//H/7//v//L/+f8AAPf/8v/2//P/6P/p/+L/4P/p/+//6//Z/9//6P/m/wQAEAD2//b/+v///wgACQAOAAoADwALAAUADQAWABcAGAAUABAACQAQACAAHAAtAC4AJwAxACMAGgAcACUANQBEAD0AMgAkACMAKQAmABsAEQANABAABQADAAIA//8CAAUA9P/j//P/+f/5//f/9v/y//D/9f/w//f/CQAAAAAA+v/4//3////3//D/9//9/+3/8v/2//j/BgD3/+j/5f/l/+r/8v/+//7/+//v/+v/6f/v//X/7P/2/wwACwAMAA0AEAANAAsACAD3//X/9//6/wYACQACAPD/5//p/+3/8//0//P/9v/s/9//7P/5//3/AAD3//P/9P/q//H////5/wEAAgD//w8AEQAFAAUACAAMAAcAAQAAAAIAAwAEAAYABAACAAEA/f/0//r/+//4//r/+f/5//L/8/8CAA0ADQAHAAQACAAMAA4ADQAJAAQA/v8PACQAJAAVAAoABAD///7/BgAcABEACgASAAwA/P///wIADAAJAAkABgAPABIADwAPACwALAASAAgADwAiACIAMAAwAA0AAAASABIA/P/5//j/7//r/+X/5v/g/9L/2P/d/8z/v//F/9f/4//f/9//7//g/8b/1v/n//H/8v/u/+H/zf/L/97/8f/o/9z/3//X/+b/6f/V/9b/2v/a/+H/4//V/9j/7f/u/+T/4f/z/wEA/f8TABcAEAAaACEAIAAhAB0ALQBEADsAKgAeABgAEwAbACAAHwAQAOj/6//y/+z/9//8//L/4P/l/xAADAD8/xIAFgAGAP//BQAPAA4AEgAaACcAGAARABwAHgATAAoADAAWABcAGAAcABMA6v/k//D/7P/m/+7/9//1/+X/7v/7/+z/6f/v//H/6P/g/+3/7//1/wMADAAQAAEA8f8AAAsACgAFAAAA8f/z/wkA+//z//f/9P/6//j/6P/0//v/9v8AAPf/+v/6//j//v8HAAsAAADz/+n/8v8DAAkA/v/s/+P/7P/p/9z/3f/k/9r/7f8LAOP/3v/x/wAAEgAEAP3/AADw/wYAGQAWACQAFgAKAP//6v/2/xUAGQAGAO//3f/z//H/9f8AAO3/7f8AAPL/4f/u/wAAFAAaAA0AAQD6/xIAPAA9ACgADAAFADAAKwAIAA0AFAASAAkA/f/7//H/+f8UABYA7f/e/wIAEAAEAAoABgAKAAkAAgAOABcADAAWABkAAAARADsAPgAhAPv/AwAmABMA8//s/+f/5//q//P/3v++/8P/3v/e/73/x//r/+f/3f/f/+D/7//7/xEALAAIAPv/GQAkABsAIAAsADgAHwAIAP7/AQD8/wwACADh/8X/1P/n/9X/z//c/+r/9f/n/9f/1//c/wMAIwAnAB0ABQARACQAIgAtADIAKQAaABAAEwATAAcAEgAcAA0A/v/5//T/AAAGABMAKwAEAO3//v8MABgAGAAHAAQA//8GABIAAAD//+n/AAAaAP3/8//6//X/BgAdAA4AEAAIAPn/BwAbABQAEAASAAMA/P/1/wUACAD7//v/AAAEAPr/+v/2//L/9//+/wIA7//d/+v/+//5/+n/6v/q/+n/+f8AAPX/zv/d/9v/0P/k//H/5f/c/9n/5P/3//P/7f/3//H/CAAUAAQABADe//r/HQAFAPj/8v/4//H/8f/4/+3/0v/w/wAA6f/V/8T/7f8AAPv/AgDv/+b/8f/8/wcAAwD1/xUADAD8/wAAAQAmABoABwAWAPb/8v8QABoAFQAGAPv/BgABAPn/CwAUAAMAAgAAAPj/BQAPABQACwACAPv/4v/t//r//P8SABcAAgD2/xEAHAATABYAAwAFAB4AGQAEAPn/DAAOABIAHwAAAPP/BwADAO///f8AAPr//v8MAPX/+/8NAPj/BgAUABgADQAEAP7/3P/r/xYACwD+//r/+P/z/wAACQD8//r/7v/3//P/7v/6/woACQAJAAAA6v/v/xUADQAAAPj/4//4/wMABgAJAAwACwAAAP7/AwAJABMAIQALAAIACQAVABQAEgANAOH/2v/y//j/AgARAPj/5v/X/+3/9f/r//r/8//w//3/AQD+//P/8/8QACwAJAAWAAEA7P/4/w0ADgD+/+v//f8GAAUABgD0/wQADgANACAADAD2/+f/AwAOAA8ACQD6//L/AAADAPT/+f/+/wEACgALAPv/AAAJACUAGQAJAAMA+/8JABMADQAVAAAA+P8bAA0A+v8EAPn/9P/6//r/9v/u////AQAAAP7/8P/4/xcAEQABAPb/7v/8/xQAGQARAPn/+v////7/FQAOAPf/CgD+//f/9f/c/9z/+f/5//f/6//Z/73/yv/v//z/+v/6/+L/6v/4//T/9P/5/wMA+P/+//z/4f/t//3/AQAPABEAEgAAAAAADQAHAA4ADAD2/wEAAAANACEADgADAP//GAASAAAA+v/8/wIAGgAVAP////8MAA4AKwAmABIADgAFAAoAEQAGAAUAFQANAP7/8//v//D//v8MAPj/7/8PAAYA/P/+/wAA7f8AAAEA9f/z//3/8v/z//z/+v/6/wcAGgD4//b/+//9/wcADQAGAPf/7v/y/xYADADs/+7//f8UAAAA/f/r/+L/8P/y//3/+//6//3/9f/2//r/9P/z/wcABwAMAAQA9f/2//T/AgAbAAoABAAAAPb/9/8FAAUA8f/4////4v/q//v/AgAFAAQA/v/i/9L/6P8BAAAA///6/wEABgAFAPH/+f/z//3/FgANAAEA/f/0//v/BwAFAAgABgAFAAIAEwANAAMABAAAAAQAAQD6/wEAAAD2/wEA/f/8//T/+//8//3/BQAHAAUA+P/+//v//v8EAAEACgALAPT//v8ZAA4ABQAMAAUADAAHAAYADAAXAAAA9v8LABgAIgAXABMAAQD//wQACAADAAsAGgARAAcABgALAA0AFgAbABkAGAAKAA8ADAAIAAIAAwD7//n/9/8BAPv/+f8DAAgAAwABAPD/7//8//7//f/0/+j/4v/j/+b/4//t//T/9f/5/+3/5f/u/+z/5f/a/+b/6v/p//H/9P/0/wIA+v////n/4P/k//T/+v8AAAMA/f/r/+//7v/q//j/AQAEAAsACwAEAAYA///2//7/+//7/wQAAAD6//j/AQAGAAEAAADx/+n/8//y/+j//f8CAAMA/v8AAPn/+//3//r/+v/+//7/DwAUAAYABQD///L//f8AAP//BAAJABEAFgAGAAEADwAMAAEAAAD//w4AFAAaABMA9f/1/wgAEwATAAcADAAUACcAIwAWAAQA8f/3//z////+//7/CgAJAAUA7v/6//v/8v/6//z/+v/1//X/9v/9//f/6P/l/97/6P/1/+X/7f/2/+3/6//o//P/7v/u/wIA9f/3//n/9////wkAAgD4//r/AgAAAAUABQAHAAAACgACAP7//P8IAAgACQASABUAEAAMAAwADgAOABUAEQAJAAIABgAZAA8AAQABAAMABgAKAAYA+v/z/xEAIQASAAEAAwAEAAgAEwAdAAQAAwAdABwACwAMABYAGQAkAB4AFgAOAAsAGwAbABYAAAD6//3/BAABAPb/+/8AAAEA+P/0/9z/7//6/wQAAwDx/+z/9P/0//P/9f/q/+f/8v/4/+z/6P/j/+T/7P/n/+P/6f/f/+L/8P/v/+D/3P/h/+j/8v/t//H/8//4//3////6//P/AAABAAgABwAHAAcABQAPABYAHAARAAkAEwAUABcAFAATAAwAEQAMABUAFQALAAoAFQALAAwABQACAPz///8CAAAA/f/1//f/CwABAPf/6//o//X/AAAIAAIA+/8FAAUA/f8HAAIAAgAcABkAAwAHAP7/CQAQACkAGgASABUADQAOAAoAFQAaABIAEAAGAP//AwAUAAkADgAKAAIAAAAEAPv/AAD//wIABQD3//X/7v/e/+r/9f/4/+P/5P/l/+//6v/k/+T/8P8AAPv//v/w//H/+f8CAAAA9v/y/wMADgACAAcA//8EABAAEgAOAAcACAALABQADgD///r/CwATABYACgD+//r/AwAMAAcA+//8/wAAAQD7//j/8//q/+v////8//P/8v/5//r/AADv/+L/6f/w//j//P/9/+7/7f/z//r/7P/z/wEACAAAAPT/+v8AAAYADQAOAA4AAwAAAAYA+P/1/wIA/v/7//n/8//y//3/AwAGAPb/7//8/wAA9P/9//j//v/3//z/7v/6/wAABQAAAPr/9//6/wUAAwD7//3/CwAiAB4ADwD9//r/AwAMAAcA/P/6/+7/CAAcAAsACgAOAA0AGAD7//3/AAAFACMAHAACAP7/AgD9/wIA8P/8/wkABQAGAPf/8v/w//f/AQD6//D/9P/4//j/7v/1//T/+P8BAAUA+P/x//T/AQAAAPv/7f/1/wAACAAKAAAABgARABAAEwAJAPf//v8JAA0ABQD+//f//v8EAAAA/f/5//f/+P/5/+z/8f/6//f/AAADAAgAEQAIAA4AEQADAAYABQAEAAsAAgAHAAYAAwD8/wEAGQATABgAFwATAAsAEwASAAwABQALAA4ABgACAAcABgAOAA0ACQAGAAYACQAJAAIAAAAEAP3/AAAIAAMA+P/n/9//7f/9//D/8v/t//T//v8IAAEA+P/5/wEAAAD///X/+f/3/wEADwADAPT/AAD//wAABAD8/wIACwANAAcA//8FAAMACQAZAA8A+//1//r/AwAJAAcA8f/3/wIACQALAAMA9v/9/wIAAgADAPr/8f/w//j//v8AAAgAAQAGAAYA/v////7/AAANAAgA+v/t//D/6f/s//T/8f/u/+v/9P/z//f/7f/y//j/CAAIAPb/8v/2//r/+//+//T/+P/+/wQAAwABAAAAAgAUABAABwADAAYACgAJAAMACQABAP3/BAAHAAAA+f/+/xAACQAEAAQA/f/7/wkABQAJAAUABwAOAAoACQAIAAkACgAZABgABQD2//X/AQAZACEAFQAFAAkAKwApABIACQD//wYAFwARAAoA/v/8/w4AFQAPAAAAAAADAAMAAAD2/+n/8P///wQAAgD5//T/+f8BAAAA7v/j/+7/8f8AAP//4//p//X//v/+//j/8P/1//X///8MAAMAAAADAAAABQAAAAAAAAAFAAEA/P////z/+//+/wMABwAHAAEAAAACAAoACQAAAAAAAQAIAAoAAwD7//7/CQATABEABAACAAAABwAHAAMAAAAEAAgACgADAAgAEgARAA4ACgAJAAkACwAHAAMA//8CAAYACAAFAAYAAQAEAAwACwAOAAsADgAQAA0ABAD//wEAAAD5/wgAAwD5//b//P/3//P/+f/6//f/+v8BAPz/5P/h/+T/5//q//X//f/5//X/AwD///T/8v8DAAAA+//9//H/8/8AAAMA/P/9//z/BgANAAsAAgAAAP3/8f/3//T/8v/s//P//f8AAPj/+P/8/wAACwAHAAAA8//x//j//f//////AQAEAAsACwAIAAEA9f///wMABgAMABQADQAPABIADQAJAAoAEQAMAAoADAAGAAIA/v8FAAkACgAAAAgAGwAZAA4ABwAMAAgACQASAAoA/P8AAAkABQAFAAcADQAMAA8AEAAIAAEABAAMAA0ADQAEAAQACQAHAAEAAwAAAPL/+/8BAP7//P8FAAIA/f8QABAA9//v/9v/4v/2//f/7P/t/+//7v/0//X/+P/4/wQAAwD8//H/6//z//n/+f/7//X/8//8//b/7//u//L/7v/y//z/AAD9/wEACAAFAAEAAgAEAAMAAgAOABAADwAAAPj//v/9//X/+//7//L/9P8GAAYA+////w0ADwD+/wUA/f/s/+z/+P/3//H/AAAHAAMAAgD//wQAAQAAAPr//f/4/wQAEAAEAPv//f/9/wEABgAOAA4ABwD//wcABgD8//j//f8JAAoADQAHAAEA+P/8/xYAEgD/////CwASAAsAAgD5//T///8PAAkA/P/6//n/AQAAAOj/4f/h//D/BQD+/+b/5v/v/wQACgD4/+z/7f/x/wUA/P/y/wAABAAYAAoAAQD5//X//f/+//z/AgD//wAACQAYAAoABwANAAcADgAYABMAEgALAA0ADAANAA4AEgARAAsAAAD7/wMAAwAHAAMA/v/5//L/+P8DAP7/9//v//T/8f/2//n/6v/x//n/+f/y//T/AAD8//z/7v/t//T/8f/5//n/+f/1//z/+f/9//z///8DAAAABQAGAAIABgAAAPX/+/8BAP7/AgD8////CwAHAAsACQAFAAkAAQAAAAAA+//+/wEABQADAAYACQALAAMABAACAAkADQAQAA4ACQACAAQABwAFAAcA/v/4/wAACwALAAMA8//r//r/AwAGAAYAAQD9/wYA/v/i/+r/5f/z//r/+f8AAP3/AAAEAAcAAAD2//j/+f/8//T/7v/o/+j/6v/o//b/+f/3//f/BgD8/wEA/v/y//b/9v/4//r/8v/5//r/9f/v//b/AQAEAA0ACQD5//r/BAAUAAgAAQD1//7/BQABAPH/4//q//T//P8AAPv/AAAFAP7/7f/t/+T/7v/u//D/8P/v//P/9f/2//D/7P/1//j///8AAAAABQAHAA8AGAATABQABQAAAAAABwAIAAQAAgABABQAJgAkACAAJAArACYAJQAZABAAGgAeABUABAAHAAcAEQAQAAkADQAOAB4AIgAVAAAA7P/z/wAAAQD///v/AgD5//T/9v/y//T/9/8DAAYAAAD//wAAAQABAP3/9v/0//T/9v/9//f/+v/3//j/9/8GAAgA/f8BAAAAAAABAAEA+P/2/wIA/P/7/wEA8//v//X/7P/t//b/6//p/+7/6P/r/+z/5P/g/+r/6//w/+r/4v/a/+b/6v/j/+z/+P/v/+//8f/t/+7//P8GAAQACgAKAAsAEQAJAPz/+f/9/wAADgASAAwACQAGAA4AEQAMAAUAAwAFAA0ABwACAP3/AQAEAAUAAQAGAAgACgAIAP7/+//5/wAACAAEAPr/+f/x//r//f/5//n/7//z/wAA+//3//L/8v/v//v/+f/4//r//P/9//7/+v/s/+7/7v/q//X/7v/w/wUAAwD5//X/7f/g//H//P/u/+v/6P/h/+3/+P/7//v/+//2//f/DAAGAAQAAgD4/wAABQAFAAEABAD//wAA/v/z//j/AQAGAAgABAAKAA8ACgAaABEACgAOAA8ACgAPABEABQAFAA4ACgARABwAGgAQABAADQAAAAAAAAAAAAYABQAGAAcABAAAAP//+v/3//b/9v/+//z/+f/5//P/+f8AAAEAAAD7//v/AwAHAPv/+v8AAPr/BAAOAAgABwARAAwADwAZABcADwAlAB4AHQApAB0AFgAfACMAIAAXABkADwAWABUACQAIAA4ADgASABkAEQAKAA4AEgALAAwABAD6/wYADAAGAAcABQD9/w0ACwD5//v/+v/2/wEAAgD8/wAACwAIAAsACAD3//3/BwADAAkABQABAPz/BwARAAoABgDt/+T/8P/y//D/7v/j/+T/7f/0/+//6v/5//P/6P/v/+b/4f/t/9//1v/X/9b/3f/m/+r/4f/l/+P/5f/p//D/5P/k//H/AAAEAAIACQABAAYACgAUAAwACgANAAkAEAAaABsAGgAVABQAEQAQABIADwAIAAYADAAHAAcABQABAAAAAAD4//D/9v/2//T/7P/c/9z/5//t/+f/8f/0/+7/7//v/+r/6//3//r/9//0//T/AAD6//L/9P/0//r/8//7//T/9v/+//P/7/8AAP7/BAAXAAcA/v/+/wMAAQAHAA0A///5/+//6//z//j/9v/z/+z/5//2//7//v/y//b/6//w//f/9f8LAAwABwAJAAMACQAIAAcACwABAAQAHAAZACEAHgAHAA0AEgAOABEADgAGAAEADwAPABUAGQAUABUAHQAOAAMA///1//7//f/2//j/+//5////BQD9/+7/9//+//n//P/3//P/8/8GABMAAwAAAAEABQAKAA4ABQAAAAQA+f8GABQADgANAA8AIQAiAB8AGAAUAAkAAwAQAAIA+P8DAA4ADQAMAAwABwAEAAgAEAAJAAYABAACAAYA7v/v//T/+v/+/wAAAAD+/wAA/v8FAAsADQALAAYA/v8DAAQAAQAIAAoACAAQAAcACwAKAAIABQAVABMADgAMAAUACAAGAAgABQD5/wEABAABAAAA//8GAA0ACgAQAAkABQADAP3/DQALAAUAAwAHAAwABwD+/wAACAAJABQAFQACAP7/BAABAAAA9f/4////AAD+/wAA/f/9/wAA/v/2//P/4//s//L/8v/v//L/7//3/wAABgABAP//AAACAAwADwALAPv//f/3//7/BQAAAAEABQAEAP7/9v/5//7/+//q/+//6P/w//H/7//x/+r/6P/q/+v/7P/x/+//7f/p/+n/8f/3/+//7P/v/+f/4P/p/+r/6f/v/+3/4f/m//D/9P/4//X/9v/1//b///8BABEAEgAKAAgACgAHAAoABAAKAAUAAgAAAPz//P/9/wIAAwACAAkAFgARAAkACAAKAAgABQD//wUAAQD1//T/+f/z//b//f/4//P/8v/z//P/8v/8/wsACgD8//r//v/6//n/+f/7/wAABgAOAAwACwAMAAoAEAASABMAEAAMAAIAAAAEAAMAAAAHAA0ACwADAAAAAgAEAAgAEQATAAsAAgAEAAYAAAD9////AwD+//L/7f/r/+v/6//y//D/6//t//n/9P/y//j//P8LAA0ADAASAAoAAwAJABQAEAAOAAoACAAAAAAABgAFAAAABAAHAAUA///+//3/+P/3////AAAFAA4ADwADAP//AwALAA0ACwAKAAYAAAAAAPv//P8AAAAAAAD///f/AAAMABAADQAJAAwADwAZAA8ADAATAA8ADwASABMADgAGAAUACgACAP3/AAAFAAcAEgAeABgAFQAQAA4ADwAIAA0ADgAEAAAAAAD9//b/9//5//f/9v/5//3/BQALAAwAEgAQAA0ACQAKAAoACwAAAPv/+f/1//P/+v////3/7//x/+//8P/7/wQACQAGAAUAAgD+//f/+v/+//r/+P/8//f/8f/0/+v/6P/l/+b/8P/w/+n/6v/u//f/BQAGAAEA/P/8/wIACgAPAAwABQD5//b/+f/y//L/9f/2//b/8//z////+//8//z/+v/1//f/AAD///v/+v/6//L/8P/1//f/+P/5//P/9v/3//X/9v/6////AAD7//n/8f/z//n//v8AAAEAAAD//wQAAwD//wAACAAGAAIACAAEAAMABAAFAAQAAwABAAAA+f8AAAcAAwAAAAEA/v/7//T/AgACAAQACgAJAAcADQALAA0ADQARABQAEgAKAA4AEAAIAAMABAD5//T/+f/9//7/AAADAAUABQALAAoACQAJAA8AEgAPAAQAAAD1/+z/7v/t/+//8f/h/+b/6P/l/+b/6P/r//D/8f/w/+v/7v/z//H/9v/1//j/+v/8//7/9f/1//j/9//9/wAAAAACAAMABAAAAP3/AAD//wYACwAMAA8ADwAKAAUAAAD5//L/9/8AAAEAAQAAAAUAAAD9/wAACAAFAAgAEAALAA4ACQAKAAIABQAQAAwAEAAVABUAFgASABAADwAOABEAGwAZAA8AEAAbABYAFQAXABMAFAAUABEADAAOAA4AEQAVABUACwAJAAcADQAOABIAEQAMAAcAAgABAAEAAQADAAAAAgAAAPT/9P/v//H/9f/y//b/9//6//3//v////3/+v/7/+//7P/s/+v/6v/r//D/6v/n/+T/3//g/+X/2//j//L/8v/1/+//6v/q//H/8P/q/+r/7P/r/+r/6P/r/+n/5P/q//L/7v/y//D/9f/2//z/AwAAAAAABAAHAAIAAgAAAP3//P/+/////P///wEAAgAFAAAA/P/+/wEAAAAEAAQA//////3/9v/1//j/+//+/wQACgAOAAoABgAJAAwADAAHAAEA+v///wAA+////wAACAAJAAsADwALABAADAANAA4AFAARABUAFwAUABIAAwAFAAkAEAAQABIAEAAQABQAFAAQABgAFgAQABMAFQAOAAwABQD8//n/+f/8////BgAEAAgACwAQABIACAAHAAYACAAFAAcACAAFAAQAAQD9//r////x//H///8AAP3/AQD7//r/+f/7//j/8//0/+v/7f/p/+X/6f/r//L/8//0//r/+f/v//L/9v/y//z/9//2//X/9P/2//P/+/8AAPz/+//1//D/9P/x//X/9//8//3/AAADAPn/9f/8//b/8v/2/+z/6f/v/+7/8P/2//X/+P/3//D/8f/z/+n/7f/4/wMAAQAAAAUADgAQAA0ACAANAA8ADQATABUAFQAPAAwADQAPAAwAEAATABIAFQATABYAFwAQAAoACQALAAkACgANAA4AEQAQAA4ABQAFAAsADAAJAAwAAAD+/wYADgAEAPv//f/9/wAABQAFAAMA+v/8////AwANAAoABQADAAQACwALAAkABwAKABEADAALAA0ACAALABAABwAKAAcAAAAFAAYACAAIAAsADAAFAAgACQD9//X/7f/r/+3/7f/p/+v/8f/2//T/8//1//H/4v/l/+b/6v/w//X/9//5//f/8f/y/+//9v/2//v/AwAAAAAAAAAAAP7/+//+//v/AAD8//L/8P/z//L/7//7//r/+P/2//P/+P8FAAgABwAOAAkABAAFAA4ADwAJAAUAAAAAAAkACgANAA4ACAAKAA8ADAAbABwAFQAUAA8AEAAPAA4AEAAQABIACQAGAAUAAAAEAP////8CAAEACQAOAAkAAQADAAUABAAHAAIABQADAAEAAwAAAPz/+v/+//3//f/y//f//P8AAAYAAAD5//j/+P/z//T/8//0//P/6v/0//j/9//1/+3/7v/w//7////7//P/4//q//L/7f/t/+v/5//u//L/9f/z//X/8//w//b/AAABAPz/9P/x/+r/7f/s/+3/8v/7//v/+P/6//f/9//6//v/+v/7/wEAAwD//////f/+/w4ADwAJAAYAAwAFAA4ADAARABkAFAAPAAwACwAOABYAFQAQAAQABAAPABEACwAMABQAFQAjACoAIQAiABYAEAAWABMAFAASAA4AEQAHAAcACwABAPn//P8DAAUADQAKAAgAEQAPAAsAAQD3//3/CQAHAAQAAAD7//v/AAD3//r/BAADAAAAAQAHAAoABAADAPr/9P/1//r//f/+//L/9f/2//r/AQD6/+7/8P/0//b/9v/0/+3/5v/o/+3/7//p/+j/8f/y/+r/6P/t//H/8//x//D/8v/w/+r/7P/w/+//8P/v//H/+//8/wAAAAAFAA4ACQAEAPn/9//8//v/DQAVAAYAAgABAAQABQACAAEAAwAAAAAABwAJAAQABAADAAYABwAOAAQA+f/8/wAAAgACAP//+v/2//z/+////wMABQACAPr/8f/r/+7//v8AAP3//P/9////AAD+/wAABwAIAAMAAgABAAAAAAAIAAkAAwD6//f/BQAOAAoADgAQABMAEgABAPH/8//z//P/AQAIAAgABQACAAMACwALAA8ADgAIAAYABgAQAA8AAQAAAAIAAwAEAAEAAwAGAAMADQAOAAkA/f/1//r/9//0//j/+P/7//n/+P/z//T/9//4//H/8f/z//j/+P/v/+7/9f/0/+3/6//v//H/8f/z//P/9v/0//X/+P/3//f/AAD///7/+//8//3/9//8/wEA/////wMABgAEAAMAAgACAAoAEgAZACYAHgAVABQAEQAZABYAEAARAA8ADQAMAAoAFQAWABAADQAOABYAHQAgACQAHQAXAA0ACwAOAA8AEAAOAAwAEgAYABUADQAPAA4ABQD5//X/9//8/wYADAAHAP7/+//7//r/9v/+/wMAAAD6//j/9v/9/wEA+f/y//P/9v/x/+7/8//t/+H/4//2//z/5f/d/9b/3f/t/+7/6//l/+n/8f/1//n/AAD+//r/9//7//3/+v/5//T/7v/v//f/AgAMAAsACQAGAAcACQD///f/9v/4//f/AQAEAP//9/8AAAIABwAGAAQAAQAEAAQACQASABAABwAFAAIACAAOAA0ACQD5//D/AgAWABcAEwAEAPv/+P/2//z/AAD5//T/9v///wMACwAIAP3/+v/6/wYADgAEAPr/7P/r//3/AwAOABAABgD9/wYACwD+//f/+f/7/wAAAgAFAAcACwAHAAUACwAMAA4ABwD+//n///////v/9//4//r/BwAOAAYA/f/6//z//v8AAAEAAQD2//H/8v/x//L/9f/w//P/8//z//j//v/4//X/8//0//3//P/3//3///////v/8v/0//n/AAABAP3/+v/8/wAACAAHAAEABgADAAQACgAOAAkABAADAAEA//8CAAIAAgAAAPj/9f/6/wQACAAMAAsACAAHAAwADwAUAAoA+v/5//z//P/5//z/AAABAAEA//8DAAwAEgAZABsADAAIAAgADQATAAwAAwAEAA0AFgALAAkADAAOABAABwAAAP7/AAD8//n//f8EAAgACwAPAAgAAgD+/wUAAAD5//v/AAD///v/8f/q/+j/8P/5//7//P/7/wEAAwD5//D/8v/4//v/+f/4//v/AwACAAMADgAQAAkABwADAAQACAAQABkAFQAIAAAA+v/5//j/+P/5/wAAAAD9//P/6v/p/+//+f/5//b/8v/3/wEABwADAP3///8AAAAABAANABEAEQAQAAoABAAHAAoABwAIAAYAAgD8//z/9v/t/+7/8f/3//b/7f/z//r/+/8AAPz/+P/5//f/8v/4//X/+P/9//r/+//6/wAA/v8AAP3/+v/4//v/+//4////AgACAAEAAAD//wMACAAMAAgAAgAEAAIABAAHAAgACQAOABUAEwATABoAEQALABEADwAAAAQADAATABQAEQAOAAoACAALAAoACAANAA8ABgACAAAAAAD6//f/9v/2/+3/6v/w//H/6P/b/+X/6P/q//D/8P/u//j/+//5//z/8f/w//j/8f/q/+r/8//3//P/+f/6//3//v////z/+v/8//v/+f/2//r//f8AAP3////3/+b/8P/8//v/+f/8//f/+f8DAAQAAAAEAAsABwACAAMABAAFAAkABgAFAAoADQASABMADAADAAAA/P/7/wQADQAMAA8ABwAFAA0AEwAaABsAIAAaABgAHAAcAB4AGgAZABkAEAARAAsAAwACAAgAAwAAAAEA//8HABAADAALAAcAAwABAP7/+v/7//7//v/9//b/8//1//X/9f/1//P/9//7//n/AAAFAAIABQAJAAIA//8BAP//CQAIAAMA///1//r////3//H/9v/x//D/+f/6//j///8CAP7/9//4/wEAEAAPAAIA/f8BAAUAAQABAP//AAAEAAgAAwD//wAAAAD///3/AAD9/wAA//8BAAEA8//0//f/+f/6//r/+v/9/wQACgAHAAgACgAFAAcAEQAOABAAEgAQABAAEQARABYAEgARAA4ADwARAAkACwAJAAkACAAJAAoABwAIAAYABQD3/+3/7v/r/+//7//w//T/+f/3/+z/8P/r/+r/7//q/+v/7v/v/+r/7f/x//L/9//1//b/AwABAP7/9f/t//L/8v/z/////f/y//T/9f/y//D/8P/p/+7/8//0//n/8v/u/+7/7P/p/+//9//2//T/8P/v//D/8f/y//T/BwAIAAoACAAAAPz/+f/2//f/8//z//j//P/9//b/+P/+//v/+P/8/wEA/P/+/wEABgAOAAwACwAQAAoACQALAA4AEAAPABEAEgAeAB4AGgAfABwAHgAjACoAJwAaABMADgAEAAUABgAGAAcAAgADAAcAAgD9//r//P/3//P/8//0//P//v8BAAAAAAABAAEAAwABAPr/+v/5//f/8//y//H/6v/r/+3/5//g/+X/5//r/+3/7P/o//H/8//5/wIA/v/z//P/8v/0//f/9v/1//r/9P/x//b/+P/5//r//P/+/wkAEAALAA4ADwAHAAUA/f/0/+//7v/v//P/+P/0//H/6//p//H//P/+/wAABgAIABEAFAASABEAEwAaABgAFwAUABMAFQAUAA8AFAAPAAgABQAEAAIAAwAHAAoACQADAP7//P/4//7/AQADAAEA/v/7//P/8f/0//f/CAAHAPT/9/8BAAUACQAMAAsACgAIAAQAAQD+//r/AQACAP///v/3//P/9//v/+z/7v/q/+r/8f///wEACwAIAAEA/P/5//r/AAAAAAAACAAGAAwADQABAAAAAgAJABAADAAKAAYA+P/3//7/+f/x//T/9P/n/+L/2//c/9r/3P/g/9//4f/f/+r/7v/u//v/8//x//L/6//u//3/AgAHAAEAAwAHAAAA/v/5//j/+//1//n/+P/1/+b/4//m/97/4f/e/+L/5//q/+3/7P/r/+//9f/7//z/+//6/wEAAgALAA4ACAARAB0AHgAfABUAFQAWABEAEwARAA0ADQAIAAcACQANAAkAAgD6//b/+f8GAAQACQABAPv/CAAMAAoACwAMAP////8LABYAIAAfABkADAAKABMAFQAYABAACwADAAAABgAIAP//+f/z/+j/5f/o/+3/7v/q/+X/4v/g/+T/6f/k/9P/2f/k/+r/7v/1//X/9P/s/+H/2v/f/+X/5//0//T/8//x/+7/8f/z//f/+P/4//b/9v/0/+n/5P/l/+v/6//y//f/8v/v/+3/7v/1/wUACQAKAAgA9//4/wkAFgAcABUADQAEAPv/AAAFAAoAAAD4//j/9P/4//n/8//x//H/5//k/+z/7P/y//T/9v8AAAEAAwAOAAwADgAPABMAIwAnACkAJAAbABcAHQAeAB8AHwAcACEAGgANAAkADQAEAAMABAAEAAsABgALAA8AFgAdABMAHQAiACAAIAAaABYAHwAgABgAEAAHAP7/AQAHAAcAEgAWAA4ABQD+//3/+P/2//X/9f/s/+X/6//p/+v/7P/s//H/6P/o/+z/9P/v//D/8//0//v//f/2//v/+v8DAAsACgAGAAMAAAD9/wAACAABAPz/+//+//z//P/+/+//6v/w//D/+/8BAP//AAD8//3/AAACAAUAAQAYABgADwAUABkAHwAhABsAHAAfACkAMQAmACIAHgAZABkAFgAcACMAHAAQAAkACgAPABIAFQAYABEACgD8//3/CAAMAAgABAACAP7/AQARAA8ABwAEAPj/+f/y//X///////v/+f8BAAMACQAGAAAAAAAAAPn/8P/j/+f/7f/y//P/7//w//T/7//h/+f/9P8AAAAA+P/n/+X/5//m/+j/7P/x//T/9//3//H/+P/1//r/AwD6//f/9f/0//D/7//0//n/9//4//b/+/8AAP7//f/5//T/8//n/+P/6f/p//f/+v/6//f//P/7//j/9v/v/+j/6f/w/wMAAQD9/wMABgAPABAAEQAQAAYABQANAAkABQAJAAwABQABAAQAAwADAAwACQAGAAcA+v8BAAwADQAIAAsAFgAZABMADQARABoAGQARAAwACwAQABQAHwASAA8AEQAJAAoAAAD//////f8CAAQADAAPAAcAAQD+/wAA/v/6//z/+f/4//z///8BAAIAAgAAAP7//P/2//z/9v/2////AAARABEA/f/5//b/9//6//X/+P/+//7/AAD8//z/+P/t/+f/6v/t/+r/6f/r//H/8P/u/+3/8//5//z/+//4//7///8FABoAGAAQAAoADAARAA8AEQAJAAIABQAMAAYAAgAIAAwACQAAAP7/BAACAAAA//8GAAAA9P/0//v/BQAEAAQABQANAAsADAAFAAQACQAIAA0ACQAOAAkA/P/6//z//P8BAPz//v/6//b/+P/x/+7/8v/w/+7/7P/t/+7/8//8//j/+v/s//H/9//1//P/6/8BAA4ABgACAP7/9//9//n/+f/9//7/EgAUAAgABAAHAAUA///6/wAAAAACAAwACgAEAAQABwD2//v//v///wIAAQAKABAADgAWABAACgALAAcACgAVABEACwAJAP//BAADAAAAAgAIAAgABAAAAPP/6//p/+H/7//y/+X/6v/n/+//7//x//D/+f8CAPr/AAALABwAGAAPAAMA8P///wAABwALAAQAAAABAP7//v8OABAACgAcABcAGwAUAP3//f/6//7/+v/5//f/DAAWABAACwAAAAIACQAQABgAEAAVABsAGwAWABQADQAQAAgAAAADAP//BAABAAAAAAD//wQA/P/7//D/7P/V/9r/4P/s//n/7//w//H/8v/3//f//P/9/wkACwAJAAQA///7//f/AAAOAAYABgAKAAcACQAAAOn/7v/5//v/+f/z//H/9f/z//X/8v/2//X/9f8BAAAA8//y//b/EgAZAA0ABAAAAAAABgAOABgADQAWAAoABwAMAAEA///7/wQABgAHAAMA/P/+//3/+v/7//f/CwAJAAYA9//s//f//v8AAPr/CQAFAPf/CgAPABIAGAAcABsAIgAaAAgABwD9////BQAEAAMAFgAQABUADwAJAAQABwACAAIADQAHAAAA9//1//L/7//1//j//v8BAAUABgAIAA0ACgAYABcAFwAZAAQA/P/+/wYABwAIABsAHQAhABkADAALAAMAAAAAAPv//P/9//f/9P/l/+j/6//t//z/AAAAAAAA///8//P///8AAAUADAAJAAYABgACAO//7//0//X/+f/6//3/+//w/+D/5f/l//L/8f/s/+H/5f/r/+v/9//w/+f/6f/u//D/8P/d/+P/6P/8/wAABAAHAAkAAwACAAgACwAWABMACQAIAAsACQD9/wIAAAABAP3/+/8CABQAEQAJAAIACQAMABcAEQAWABUAFQAWABoAFgAYABcAFAAhACIAGgAuACAAGwAjAB4AGwAeABwAHAAbABkADAANAAgACwAJAAMABQAGAP//CgAIAP//DAALAAUAAwDz//z/7f/1//b/+P8BAAEABwD7//7/+f/0/wYA8//t/+7/8v/w/+P/7f/q/+//7P/i/+X/7//r/+3/7//q/+z/7f/q/9//5P/w/+z/5v/n/+r/9f/9/wAA/v/5/wAAAAABAAcAAAD4/wAA+v/+/wQABAAHABUAFgAFAAwABgAHAAsA+/8GAP7/AAAHAPv/AwAHAAYA/f8YABgADAAOAP//BQAAAPb//f/u//z/BQATAAwAGAAXABQAFwANABQAAwAHAAAA//8IAAIACwAHAAEAAgD6//z/9v8IAAoABgASABEACwAGAAYACAAQABYAFwAQACcAIwAcACUAHgAnAC4AJgAqACYAIgAtAA8AGgAqABYAKQAuABwAIAAqAB0AFgANABEAHQARAAkABgD3/w8AEQD4/wIAAwD3//n/9v/w/wkA+f/p//D/9f/v/9L/4P/h/9T/2//U/87/yf/P/8f/wv/b/+H/3P/q/+T/4v/p//v/9P/w//v/9P/z////+P/+//f///8RAPz//f8NAAAA//8LAPr/8P8RAP3/9P8HAAIA/f8AAAMA/P8IAAwAAQARAAUADQD+/wwAGAACAAcAAwD4/wkACgDw/woAHAAAABkAIwASACUAHAAbAC8AIAApABAAEQAnABQAFgAfABoAHgAtACkAIABAAC4AMgA4ABQAKgAoAA4AIgAHAAQAGwAJAAoAJAAhAB8AJwAjAB0AJwAgAA4ADgD2/wAA///z//j/6f/p/+7/6f/V//f/8v/R//n/4f/Q//r/tv/b//n/tv/8/+P/zP/u/9T/4//e/+z/2//r//3/2f/k/93/3//m/+r/9f/z/83/6P/q/8z/9P/b/9v/3v/d/9H/y//w/6T/4f/m/8H/EQDN/+T/BADS/+3/3P/n////5//4//v/+/8AAAIACwACABEADgD2/xUAAQD9//z/8P8PAPz/GQADAAkAJAD9/xkAEwD+/y0ADgD//ygACAAOAPL/7v8AAO//DgD1/+z/EwAJAPT/EgAHAOv/FAAIAOT/MQAHAO//FwAGAAgAIwD//wIABwD7/y0AHAASADoAGAAdADUA/P8WAB8A/P8YAAcA2/8UAPv/5f8dAAAADQAhABsAGAAPAAAA8P8IABUA9P/6/wUA3v8IAO7/4P///+L/8//j/97/CgDS/8//3P/T/+H/tP/V/8b/qf/j/7T/wv/C/77/tP+h/8f/sf+4/6X/vP/A/5//4/+w/8v/9P+1//L/8P/r/+v/2P/5/+n/6f8NABIA+v8JABEA//8ZAAAABAAOAAcALgAtAB0ANgBIANb/XQAhAM3/lQC2/x0AZQDD/3wABgBIAEQADQBpAPH/bgAeAOr/XwDi/0IAOAD5/1IAFwAOAC0AAgAsADQADQAPACcAEQAFABsA7f/7/0AA9P/5/xwA9/8NAAkAOAAUABIAKgDs/xYAJwD2/xYAzP8AAPf/3v8hAMz/9//8/+P/EwDK/w8A+f+l/wAAyP/J/xQAxv/h/9j/t//m/8L/z//h/9v/2P/H//T/u//V//n/tP8AAPL/4P/t/73/AwDY/9X/+P+w/+j/6f/l/8n/5/8xAMX/AwAGAND/PgDu/+D/CwD2/00Auf8XAEEAsf9DAD4A4v9IAGAABAAJAEwAMQAIAE0ABQAtAF8A+P8sAPv/+/9FANf/EAA1AAgAIAAWAPf/GQBfAPf/FgBnAKD/ZgAkAJz/fAD6/xQAMADf/0YA7f/W//r/wP/0//f/6P/e/9D/MwDn/9X/MgC2/w4A4/+F/w4Awv/3/y8Ak/81ABMAuP8yAMT/9f9LALD/BgBvALr/EwBrALX/VwA3AOr/UQC9/zIAGQCK/2UA+P8AAFAA8/8OACQA/P/E/0UAJADF/3IAAQDa/2gAyf8OABcAEAAaANX/IgD+/97/AwD0/+3/9//7/+D/3//w/+T/zv/S/zoAw/+//zcAn//s/wgAqf/I////3v+Q/woAx/+x/wEAgv8TANj/rP9AAJP/8v/m/8L/7v+t//7/qP/N////dP////v/lP8JAAAApP/+/w0Aof/9/87/nf8cAOf/t/8VAPf/7/8HAAgAFAAJACcA/f/3/yYADADn/xYABgAAAP3/PQBQAOr/hgB3ANL/qABaABAAngAaAFcAWwDy/5AAFAALAIsA2v9PAI8A7/9TAHMAEQA5AHoAEABBAJsA9/9MAD4AKgAtAPf/GwAVAAoABgDg/wAABAAJAPr/+v8JACIAuP/P/x4AqP/l/9v/f/8NAN//jP+R/+7/2f92////tf+b////lv+y/6n/yf/n/3r/8//e/63/9P+i/63/8P/D/8f/PQC5/9v/ZwC9/xAARADT/0wAHwDx/2QA8v9gACsABgDEAPz/YwBwAPz/YAAyACsACgBhAFsANABBAEkAeQAaAFcARgASAIoAIgD1/z4AGAAhAGEABwBQAHEABAAAACQABwCc//f/BwCg/zMAEwABACQADgAQAMv/EwDS/+T/pf/S//7/gP8XANj/ev87AKj/nP/K/6n/vP+Y/wkAwf/L/0cAs//z//T/jv/+/4n/gv8JAJT/3f/5/zAA/v89ADIA6P9mAPb/FQArAN//EgAUAN7/OgAVAB0AmwDg/1wAaADA/68ACwADAHIACQCBAA4AAAB7AMj/RAAqAMX/fADR/+L/NwDh//L/BwAtALz/EQAAAFr/4f8AAGT/1P/Z/27/wv/h/3D/wf+9/3r/rf+v/9b/iv+c/8//kf+3/5v/8P+r/5j/+P+b/6X/AADX/7H/CQBfALT///9lAL7/2v84AGYA2P8mALkAr/+nAGoA+v+MACYAgAAVAC8AowD4/2EATgAaAHQAMQBDAEAAeQBiABcAjwAmAFsARgAhAFkADACk/zIAEQCI/ykACADS/yAAiwDR//T/VAACAN3/BAAKACX/0/8GADf/4P/o/9P/IwASAAIAwv8AANT/ev/U/8z/uv/g/9r/z/8CAOD/xv/7//T/2//f//z/bf/N/+X/eP8CAA4A+f8LADEA/f/+/1AA+f/m/1MA8P8OAIoACwC7/1wAZwDd/0UAgAAAAD0AJgAZACsAKQBlAAIAMACHADMAGAASAFEA1P8CAFoAyf/3/3QALQDZ/wgACwDc/+L/xv+p/9v/yf+//+j/kf/j/8T/h//6/5T/xf/c/0b/3/+6/5n/7P/N/wMA9v/p//f/EQDh/7f/DQDs/8P/LQD+/x0ASgBxAGsABwCIAF4ArP8qACkA9P8IAOr/cwBVADUAhABiADAAlwCGAJP/WAAkAMj/JQDL/0YAMADq/0IA+P/n/2oAvf9//04AP//N/wUAaP/J/4D/1f/C/3L/AwC6/47/GwDL/6n/3//t/43/MQC//xMAKwCy/yEATQCv/0wAlwCz/3AAbgC9/1cAVQCNAOb/HAD5AOf/NQDGAPn/NgCdACkAPQBIAB0AWgAuAL7/ZgAKAOD/WABm/ycABACw/2gAN//g/0EAj//m/4L/v/+7/63/lf+o/5r/zP/Q/53/1v/w/4n/CgDM/6n/BgDY/6P/GADI//P/IQCw/xgAFQCf/0IA0//U/zUA1/8PADcAJwA6ADwARQAWAC0APwALAML/EwAXAMX/VgARAPL/mAAUABQAYgDw/2IACQDc//L/IQAaAPr/BQAdACwAGgCGANf/TACpAOT/UQDA/zkAIwANACEA1P8fADwAJAD3/93/sf8pAMr/vf89AKr/AgDr/+T/8/++//v/zv+d/9L/7P+c/7H/7v+p/8X/9v+3/8j/7P/h/8n/r/84AK3/5/8lAMj/AABJAAgABQD6/2oAHAAMAIgADABQAHUAJQBSADQAIACCAEEAHgB/ABwAVQCJAM//kACLAOX/igANABQANwDJ/87//f+7/yAAz//L/x8AyP/w//v/e//I/97/kf/M/4P/lv/d/2n/0//k/5D/HADD/93/JgDJ/+//uP/+/7j/GgD8/7D/LAATAE8AAAAVAEoAKgBYAFoA3f9iAH0ABwAqAF8ANwA7AH0A9v8xACgAGwAwAAYAGQATACkAQgCf/ycAFgCy/xUA4f/u//H////G/+z/3//l/wcAiv8UAA4Asv8XAGT/9v/v/4f/MgCg/6P/GAAFANX/7v/4//n/+P84ANr/AAAjABoA0P8MAEwACwD+/y0ADwANAA4ACwAxAPT/YAAXANX/DAAvAAUAr/8JALT/6v8/AN7/LQAeAAUAEQA3AOf/xP8NABEAlv/d/yAA2//a/xgABQADAEUA7P8MAAEABQCz/wUA8f/R/+r/2v8LAPP/8v8EAOz/3/8CAAgAIACv/7j/GQDA//f/8f/k/9f/y//u/wIAsP/U/87/uf/2/yIAAwDi/yMAxP8qABwA7P8CANr/EgAwAPj/AwB7ANP/LABZAAUAYwAlABwAiAA6ADQASgA9AFEACQBXAHcAHAAPAJEAIgBEAGwAv/8VAFwADwD3/x4A/v/i//D/8f/5/8f/1//m/wAA3//o/+T/x//S/73/oP/i/7L/2P91/6f/BgCI/9r/tv/T/+j/6P/r/2j/BwDl/+X/5//r/+//AAAjAEcACgAnAFQA/v9DAB8AKABHACUAAwAxADQAQQABABkAKwAPAHIA8f8kACIAIQAXACEAEQCl/yQASgDg/+n/EQAmAAcAFAD//ygA1v/g/wEAuf8UAOz/wf8eAAAAzP/v/zIAsv/t//T/xv/x/7n/0v/h/4r/FAD0/73/CgDN//H/KQDn/xcA7f///87/GgADAOX/CgD5/w4AegDz/x8AAgAAADQADAAbAA0A+//9/wcAFAD6/+n/9f///yIAIQDm/xMA7P/D/yAAIADe//j/IgAGAA0ACAAJANb/AAADANf/AgAIAOf/sf8/AN///f8EAOn/6//J/wUAAQA9ALP/LgAeADsAQQD///j/FAD8/0cABAAWABsA5/8aABcA/f/1/y0A7v/d/zMA+f/z/wwAHQDZ/0MACADo/xQAEAAkAMv/CgD//+3/8P/l/xcAmf/I/xYA9f/S//n/0f+5//n/2P+n/8X/CADO/5H/JADN/6P/bADb//P/ZgDZ/8v/NgD2/+n/8P8PAOv/vv8jAFEARQDk/z0AOQDv/97/FQAHANb/FQD3//v/TQAcACIASQA/AOD/TQALAAgAFQAFAE4A7P/2/1EAFwDf/xkABQAiAO7/MgAOAO//MQDp/w4ACgACAPz/4P8EAB0A3v8CACAA8f8IAPP/BAAIALz/KwCq/woALgDW/xwA9v80AOb/GgABAKv/XwDR/+n/IwC//8v/CQDz/+v/BwAQAB4A5f8YADwAvf8YAPn/mv8lAPb/3P/o/wMAn/8YAAMACAA1APH/3f/i/83/u//o/+L/7P/d/w8AKwDB/wUAAQDp/wMA/v/8/9//AACz/w8AIwDh/wwA/P8gANX/OgAJANn/FgDs/xIAQgDy/+f/MgDf//b/KgD2//P/FQAZABQA4/9IAPL/nv9XABkA3/81ABgAmf8sAOv/EQBNAN7/AgAaAOb/KgD4/xcAAAAFAAoAEQAuADIA0/8zABwACwAVAPj/RADR/x0AMQDL/xUAGQD2/8//GwAQANb/GwAAAOv/+f8VAOP/6P8eAOr/9/8NAOj/vv8iAN3/tf8lAOf/zv/v/9b/GgDE//L/FQDv/w4AAQDn/yMA0v/Z/93/6v8SAOb/AAAVAPj/9v8AAAAA///u/w4ACQAAACIA/f/j/97/EACZAK7/JgArAKT/EwDk/wsAEADw//T/+P8DANj/1P/6/87/2v8VAO//4P+0//T/AACj/z8Ay/+j/xEAxf/3/xQAuP8KALr/6f8mAMX/CAAkACAAEwDR/zEA8//+/wsAEQAwAAcAGgDk/ywAVQAbADAAXQBFACMAKgA9AFkA9v9HAFUAQQBcADMARwA4AD0AJwA8ACUASADl/zYAIQDv/x8A8/8MAAkAx//6//X/zP/0/8//3v/d//X/5f/Y/9r/4v/j/8P/oP/N/9z/wf+x/7T/7f+s/8v/+P/U/9D/6//m//H/2v8GAM//rv99AM7/7f9eAOv/CADc/xYAEgAUAAoAHgADAEQABgAJACQA9/8UAAAAFQASAOb/HAABANr/EwAJAOT/CQD6//r/HQDJ/+f/CADa/6T/BQAuAM3/8f/T/9v/CADP//P/9f/n/8j/sP8eAKj/AQCDALr/NQA6AO7/FgAAACkACQAAAB4AIwD4/zgAPwAnAEMAIAAWAAYAIgAcAGoANAAiABUAGQD9/wkA/f8ZABUA7/9GAPj/DwAWAPj/AgAAAAQACgD4/9z/5f/1/+b/+//w/x8A6v/y////0v/P/9b/6P/f/+r/3//U/63/zv/R/9P/w//B/8r/0v/D/+b//v+v//H/AQC///j/4//O//P/vP/w/xsAz/86AN7/JABYAOP/8v/m/w0A/v+8/ysACgD3/ycA+f80ADAAHwASABQAJQAbAC0AFAA7ABEAGAAVACYAOAASADoAHQAiABUAAAAiABMALQAQABIAIQATABAAEwDw/xkAMQDs/wUAEAAQAOj/7v9NAPP/8/8fAPn/BQD+/xcAEgCS/ykA9v/L/xYAAQDn/wAADQAWAPH/4/8eAOv/4/8cABgA1f8ZAP3/0v/u//z/7//w//r/KgDa/wQALQDn//n/EwDv/+b/AgDh/9n/4/8VAOH/EAAZABkA7f/t/xIA+f/h/9//+P/v/+L/zP/k/wAADgApAO7/HAAHAK///v/d//b/BAC8/xcA/f/8//L/9/8UAPj/CgD7//7/DADW/9v///8FAP7/NgASABUAAgDh/ysAGwAVABkAAgA0ABwA/f8SAB0ADAAxAP//DwASABQA/f/5/2EA//8pAOL/AgAFAMz/DQAlABEAGgDp/x0A+f/9//H/HQDc//z/7P/w/9b/rv8AAN//2f/5/wEA9/8DAAEA7v8OAKD/t/8OANz/7v8KAAAAKQDG/x8ACADs/ygAAwDs/+X/GwD4/w4A8v8vAAwA4v8UABEA5f8DACkA+v8MAPz/CQBAAPj/JgAnAN3/DwDE/woABwDs/z8ACQAVAN3/BAACAOH/CAAlAPT/8v86APj/5/8QABEA8P/x/xYA///p/wAA/P+8/wwADADU/ycAKQAQAP3/+/8WAMf/8f8AAOL/CQDw/9L/1P/r//f/9f8DAA0AEQAAAPv/EQDA/8L/8P/u/w0AAwAcAAUAFQAFAPb/BADt/yoA5f8nACYA+/8VAO7/FAANAAkAFgAmAAoAGAAGAAcAKQASAP7/KAAlAAAAGgDp//P/2/8GAAkA9f8SAA4A8P8CAAcA2//t/wgAAADq/9D//f/x/+P/9v8FAAsA9/8LAAEA+v/d/9H/BwCe/+D/DwAcAPH/MgBmAOX/EgATAO3/AADk/xgABQD0/x0A9P8TAC0AAwAgAAYAAQAlAO7/DwAaAA0AHQAMABYABAD6/yMA7v/p/wYA7P/z/xYA6/8kAOD/9v/+//X/4//X//X//P/V//T/8f8MANX/9f///+T/BQAMAO7/JQD0/wUADgDx/wAABADz/y8A7f8KAPD/4P/i/w0A+f8MAEUAIABCABoAGQAXAAcADwAGACMAEgAcACcAQQAQAAkALAAGAAwAPAALABEAAgD5/yEA5P/x//v/NAAWAAQAKwAMANL/+//3//7/7P8DACQA7v/2/w0A7f8QAOb/HQDx/+L//P/n/+f/3v/t/+X/8v/9/wMA9P/+/xcA6f/d/+3/9P/l/+7/JADw/wgA6f/d//P/6f8aAAwACwAdAAoA4f/4//f/+v8GABUAKgAVABsAGQALABAA+/8AAA8A8v8tAP7/DAAMAP7/6f8LAPz/GgAAABwA+//8/+3/nf8GALv/7v/u/+L/HwDe/+j/2//s//n/AADw/wkA5f+8/+//3//E/9P/+f/3/woA8//w/xUAzf/3//D/0P/4/wsAGAAUABcAGwAKAB0AEwAqADEAKQAlAAwAIQAZAAAAJABHAA0ANgAzABEAOgADACkAGgARAA0ADQAaAP//GwA6AOb/KwACABsAAQAHAAIA3f/4//X/DwD+/wQAGQAHAAAA9//V/7//BgDo/+r/9f/w/+D/1f/n/9r/9P/U//P/HQDm//7/5//4//P/7f/t/97/+P8AAAsA/f/r/wAA8P/8//7/AQAOABEAJgAHAOn/DQDj/wAABgDm/wwACgD4/wUAAAANAP7/AwAHACAABAAWABcA+f/L/+//DwDi//D/KgD9/+7/AwAAAOv/6v8EABoACwD//x0AHgAKAB8AGgAbACcALABTACIAJAAmACoAGQAUAEIABQBRABEAGgAZAAYAKQAwABwAEgAgABQABAABAAMA9/8hAC8AAQAEABAA/v8XAPn/FwDX//L/9P/u/+L/3P/s/97/1v/m/+D/6f/e/+z/1v/U/8n/zf/e/+b/6f8DAP//DAATAAAACgDt/+j/9//y//v/+//5//z/AwD+/xEA7//t/xcA///i/wgA5f/e//P/+f/w//X/3v/8//3/8f8JAPH/EQD5/wMA9v/8/w8A4f/6//L/9/8FAAwANwAWAAsAJAAEACAADQAWABsAKwAUAC8ASwAnAEMAQQAbACQACQAZAA0AKwANABYAAgAFAA0ACgDq//L/5//g/8f/3v+1/9n/x/+9/7L/pP+e/9n/ov+8/6z/t/+x/7//x//K/9X/xP/S/9X/xf/b/9r/3f/n/+r/8//a/wcA4f8AAAAACQAdABgAHAAxADAAJAAmAFIAIQAnAE8ALABCAEUAQQApABUAJQAYACUAKQAsAAsAFQAKAAsA+P8AAAUA8v/0//z//v/t/+n/GAD0/wMA+f/4//v/9f/P/+T/0//J/+r/z//S//T/5P/w/+T/6v/o/+r/4f/y/+f/4P/n//D/3P/0/wQACgABABUA/f8MAAQAIQALABUAEAAiAC4AKAALAAcABwAMABwAAgAOABUAAQAaABQAJwANAAUAHgAfAB4ADwAYABAAGQAWACwAEQAqACwAIwAeACoAFAAYACQAJwAIABgAHwAbAA8AEAAGABsALQAdAAwAGgAJAAcAFQAPABcADAAaACgAHwAUACIAGgABAAAABQDy/woAFAAFAAwA4v8HAOz//v/9/+//z//6/+T//f/s//r/7//+//n/AAD4/8//AwD9//f//v/u//T/2v/5/+n/5f/u/wAA9f/L//D/7f/2/w4A9f8RAAYADQAkABoADAD1/wQA/f/+/wIA7v8EAP3/9f8BAPv/BgDv/wcA8v8DAAEA9/8KACIA//8SAPn/BgABABUAEQAGABMA/P8iAAsAFwATAA8A8P8DAPr//f8XAP3/AgD6/wQA7/8XAOb/BwD+/woADAAmAB0ACgAPAPb/CgD3//D/6P/x//D/AgD6/wsA9//e/97/5P/0/8j/9//Z/8H/2f/y//D/8f/0/+P/uf/u/8v/8P/A/+X/4v/i/9///P/h/+7/0f/t/+D/1//q/+L/4//0/+n/8/8KAPf/9P8NAAkA6P/+/+r/7P8FAOz/EAAAAAAA/v8PAAYAAgALAPn/+//z//P/AAD7/wIADwARABsAMQAeACYADQAIAP3/BwAAAAAABgAHAA4AAAAXACIAFwAdABUAFQAtAAwAHwALAPL//P8AAPn/BgARAPz/CwABAAEAAAD2/wEA7v///+n/7v/0//L/8P8BAMX/+//X/+b/6//v//P/7f/u/9//7v/c/+T/5v/i/+7/9f/t//X/BQD3/wkA/P8AAAsAAQDt//7/3P/3//n/9/8GAAYAAwAjAAEAEAAHAPf/9/8CAN3/+v/X/+j/5P/0/+3/BQAJAAYADAAhAAQACAAEAPv/9v8GABUADwATACIAEAAaABoAFgATAP7/AwAEAOv/AAAGAAQAEgAUAA4A/P8PABIAFgAFAB4ACwASAAIAEgABAOL/AADv//L/+v/7/+X/AgDw//f/6P/t/93/6//v//H/7P/t/+X/9//u/+7/6f/6//P/BgADAPn/AQD6/wcA/v8NABgAEQAvAC0AIQAWABAAEAAMAAcA9f8FAPj///8sAAgALQAuABoAHgASABEA+P8AANj/BwDi/+b/EADz/wAAPAAEABYACgDs//j/4P/+/+7/CQAMAP7/8v/7/xgACwAVABIAAAD3//b/AwD9/93/BQDo/8L/9P/s/9L/+v/8//f/9v8GAPn/5f/z/9v/2P/l/8L/4/+4/8D/2//v/+j/EAD3//j/8v/r/+r/4//l/+n/9f/Q//b/AQD8/xEACAAFAAcA+/8BAPT/9f8CAPH////0/+7/DQAFABIAHAAWAAwADwAKAAUABAAKAAcACwAKAA8ALAATACwAGQA2AAkAHQAQAAUAIQAWABsAGAAbABcAIwAaAAwADgAOACAAEAAzAB4AFwAgABQAEAAqAP7/DQACAPH//f/+//3//f/z/+D/8v/g//T/DAD4//3/+P/h//r//P/v//7/+f/p/+7/8f/j/+L/8//Y////4v8FAOD/4v/l/+j/5//s//P/zP/c/8z/6P/k/+H/6//w//7/+/8PAAMACwDz/wMA8P8HAAcAFQD3/+7/AADm//j//P8GAPL/+f8RABYAEQA1ABwALAAfABUAHAD0/xMA/v8JAAwALQD0/yAABQAOABYAGAAOABoABQDe/xIA7v8GAA0ACQD4/wEALAD+/yQAEwAGAPz/CQDq/wYA/P/4/wAA+f/0////7v/j//z/4f/h//z/9f/q/9z/+//m/wAAAAD+//H/BADu/wAA6/8PAAIA8v8EAPP/9v/u/wQA8v/v//z/CgAEAOz/DwDy/+z////9/+D//P/x/+3////q/xIABwAIABcADwD2/wYAAgD8//7//P/2//n/HQAIABMABwD7/wAA6v/y/wAA6P/v//L/6v/Q//H/7f/o/wAA9P/y//L/7v/w/+f/5v/U/9P/4v/I/8T/1v/V/9r/AwD2//3/IgD7//7/AQABAPr/7//u/8j/2P/d//P/9//1/wEAEQAFABYAEwADAAQADQDr/+//DAD7/w0ABgAlADEAKgAeABcAEAASAAUACgD5//n/CAAJAA8AFQAZACMAHAAdAAwAEgAYAAkA+P/8////+v8RAAIAEgAMAC4AHwAaABMAGgAFAO7/9f/5//f//P/w/+7///8DABIADgARAAUACQDy//T/+P/x/+f/6//a//n/5//9/+v/AADk/wQA9P/5/+f/3f/d/9j/4f/v/+L/8v/w//f/EgAHAAQABwD4//b/6//n/+n/6//Z/+j/4P/8/wAAAAAIABMA/P/z//j/8v/n//j/8v/w//D/DwAaAB8AGQArABwAFwAEAPz/6//m/+3/7f/w//7/GgAeACEARgAuAC4ANQApAA0ADQAFAAoAFgAOABQAFwAlADcALQAyADsAKAAsAA0A/f8DAAAA+f8IAAAAAAANABAAIQAYACEAFQAMABMA+//1/+n/3f/e/+X/4v/s/+3/AAAAAAoADAD8//P/8//u/+X/4v/j/+X/7f/p//n/8//8/w4ADwD+/wgA8f/a/+L/5//W/9n/5v/V//7/8v/2//3/BwDz/wAA7P/Y/+r/7f/i/+r/8f/x//D/BwABAAUAAAD+/wIABgDs//P/9P/u//T/BQAGABAADgAMACQAFgAgABoADwAAAAMADwABAP//BwAKAAUAEAASACAAFAAjABwAGQAIABQACAAHAAgAAAD+/xYADgAXABEAFQAQABEADgACAP3/+P/t//b/+v8AAP3/CgAHABIAEwATAA8AFAALAAEA9v/m/+r/6v/p//X/+v8GABYAGgAiACMADwAIAAAA7P/x/+//7//3/wIAAQARACIAJwAuADEAKQAaAA8A9//v/+L/7v/w/+3/+f8HAAYACgAZABoABwAOAAEA9f/x/9//y//i/93/5f/k/+v/9P/w//r/9P/v//T/6//j/9z/2P/U/9j/1f/R/+//9P8AAAwADQAKAAYAAgD0/+j/4//h/9z/6v/1/wIAEQAXACYAHwAgACQAFAD5/wAA8//w//j/CgAMABoAKgAwACkALQAgABsAEQAYAAQACwASAAkADwAVABUAHQAmACYAHwAYAAoAEAADAO3/AwD6//z/8v8AAAAACQAOAAwADwACAO7/8P/m/+r/6//n/+j/8f/w//T/CgAOABEAFQASAAAA+v/Z/9j/1//R/9X/5//x//v////+//j//v/x/+v/5P/a/9n/1P/T/9r/5f/t/+z/+v8CAPv/AAD3//z/+v/r//P/9//w/+7/+f/+//r/+/8BAAEA/f8AAAoAAwALAAgADwAEAP7/AgD+/wAA+v8IABgACwASABsAIwAaACAACAAMABAABgAMAA8ACwAWABcAFwAYACAAJgAbABgAGQAVAAUADQACAAwAAwALAAwACgARAA8AFAAOABQACwAQAAAAAAAFAPP/5v/s//L/7v/w//L/7//8/wIACAAPAA0ABgAAAPr/9f/o/+3/4//n/+T/7//5//v/BAADAP///v/+//j/9//1//7//f/8////9f/8//L/8f/z//P/9v/8//X/AwD7/wUABAADAAEA9P/0/wAA9v/+////BgALAAwABwAOAAQADgAEAAIA+P/6//r/AAAAAAYA/P/4//n//f/+////AQAFAAQA+v/7//b/9//5//n/8P/0/+7/9f/2//f/9f/8//r/+f8AAAEAAAD7/+f/4v/q//H/6//n/+z/8//8//n/9/8EAAYAAgAAAAEABAAQAAwACwASABIADwAXAA8ADwAOABIAFAAZACkAIgAaABgADwAHAAQACgANAA8AFQAYABUAEwAYABQAEwAUABYACQAKAAAA/v/5//j/AAAFAAYABQACAAQA9v/+//j//P8AAPD//P/9//n//v/7//X/+//7//3/CwACAAoAEAAXAAoACQAFAAIA+v/1//b///8BAAIACQAQAAMABAD+/wQAAQDz//T/7//j/+f/5//j/+/////3//r///8BAP3/9v/0//T/+v/9//j/9f/u//T/9P/u/+b/6f/p/+b/6P/s//P////+/wAACgAEAAAAAQABAP7//v/+//7/AgALAAwAFwARAAwADwALAAkADwASABAAEAAMAAgAAAAFAAYACwAGAAcABwAKABkAEgAWAAwADwAMAA0ADwAIAAYACgANAAoAFgAYABsAFwAWABcAGwAUABcAGAANAP3/AQAAAP3/AAAEAAIABgALAAwADQALAAIAAADz/9n/1//e/+X/5f/x/+3/5//o/+j/5P/q/+b/6//p/+b/4v/q/+r/7P/0//f/BwAJAAMAAgD8//r/7//y//T/8P/1//j/7//4/wcABgAIABAAGAAOAAAA//8GAAQAAwACAAYADQAKAA0ADQARABYADgAMAA0ACgAKAAcABQAPAA0AEAAAAAQAAwD4//3/AQADAP7/AQADAP////8AAP//AQAEAPr/+P/0//X/8f/6//v/AAD8/wAA/P/z//T//P///wAA//8CAAEAAwACAAIAAwD5//X/+//2//z/BAAAAPv/BwALAAoAEgATABcAGwASABkAHAARAA4AEAAVABsAJQApACcAIQAgAB4AHQAaABYAFQAOABQAFgAVABYAFQAQABgAFgATABUADgAIAAgAAgAEAAAA/v/8/wEAAQAGAPj/AAD9//n//v/1//j/+v/d/+X/6P/Y/93/4v/g/+T/5v/p/+n/7P/s/+P/4f/o/+///P/+//r/9P/w//H/7v/y//r/AAD8//7///8FAAkA9v/9////9f/9//j/+P/5/wMACwAHAAkABwALAAcACgAPAAwACAAFAAAAAAABAAoAEQACAAMADwARAAYABgAGAAYACQAGABIADwAUABwAFQAbABUAFgAVAA0AAwD8//3//v8AAAQABQABAPv/+v/8//L//P/+//f/+P/0/+z/6//u/+z/7v/z//r//P/9//v/9P/p/+f/6v/v//H/9P/2//D/7v/x//j/+v/6//3//v/5//L/7f/y//X/6//s//P/7v/0//X/8f/w//X////+//3/+//6//T/7//y//P/7f/0//D/+v/6//r/+/8EAA4ADwAPABAABQD+//z//f/0//X/8//6//3/AgD+/wQAAgAAAAEAAwAFAAoAEAAMAAwADgAQACAAHgAhACUAGQATABAACgABAAsADQAOAAwADgAHAAQADAAMAAEABwAAAPn//v/7//z/+v/9/wAAAAD//wEAAwAAAPv//f/z//b/AAACAP//BAADAAEAAAAAAP3/AQD+//z/BwALAAsACQAEAAAA//8AAPr///8CAAIA+P/z//L/+P/0//L/8//3//X/9//2//r/AAAAAP7/AAD5//v/+v/2//j////8/wIAGgARAA8ADQAGAAQAAAD7/wEABgAAAAEABgANAAoABQAGAAEAAAABAA0ADAAJABAAEgAMAA0ADwAKAA0ADAATABEAEwANAAwABwACAAkADAAMAAoACAAIAP//AAACAAEAAAD8//7/AgD4//j/+f/4//v//v8AAP//+/8AAAYACAAIAAoACgAMAPf/9//6//r////5//7//f/5//7//v/+//z/9//s/+//+v/5//H/8v/v/+v/6f/x/+//7P/t/+j/4//u//X/8v/3//n//v/1/+n/7v/r//H/8v/z/+3/8//v/+r/7//0//b/+f/2//n/9v/3//L/8P/3//v//v8GAAIA+v/7////AQAAAAYACAAOAAgABwAFAAUAAwAFAAMABAAHAAYABQAEAAAAAAAIAAMABgAGAAgABwAJAAgAAQAAAAUABQACAAUABgAAAP7/AwAHAA0AEgAkABgAGwAXABYAFQAHAP//BwAJAAsACwAMAAgAAgAGAAoA/P8JAAgACgAJAAcABwAKAA0ADgAMAAkACgAMAAwAAwADAAEAAgAAAAUABAADAAMA+////wQABwANAA4ADgAHAAYABwD9//n/AAABAAQABAACAAcACQABAPb/9v/8//f/8v/t//P/8f/0//v//v/0//b/8P/z//L/8v/y/+3/5v/q/+z/7P/t/+z/7f/t/+3/7f/t/+3/7P/t/+z/7v/w//X/+f/7/wEAAQD6//r//P//////AAAAAAcAEQATABQAFAAcABUAGgAZABAAEwASABIAFwAUABQAFwAPAAwACAAHABEADAAQAAwADQARAAsAAAD///X/+v/6////BgAGAAIAAgACAP3//f////7/+f/8//3/9//y/+z/7//x//P/9f/2//X/9f/1//j/9v/y/+j/7//t//n/AAABAP7////6/+z/7//z//H/9f/3//f/9v/2//L/+f/7/wUAAAD9//n/9v/4//n/+v/7//r/AAAAAAgABwALAAcABAADAPz/AAD///r//P/3//b/AAD9//j///////r////+//f/+P/5//r/+//7//z/+v/8//z//P/+//z//f8DAAMAAQABAP7/+P/5//v/AAAKAA4ADQAKAAAA+f/5//T/7//1//////8JAAsACgALAAYAEQAUAA0AEAARAAsACAAKAA0AFAAQABEAFwAbABcADwANAAMAAwD//wgACAAGAAYABQALAAMABAAHAAUABwAOAA0ADQALAAoACQAIAAcABgAGAAUABwAGAAcABgAGAAAAAAAAAAAA+f/9//3////9/wAA/v/5//L/5v/p/+7/8f/2//j/9//9//X/8P/0/+z/8P/5//n/+f/6//f/8P/p/+b/5//s/+7/8P/y//H/+f///////P/7//f/AQAHAAgAFgAYABIAEAAOAAoACQAIAAYA/////wAA+f8EAAwAEAAPAA4AEgAQAA0ADgANAAMAAwD0//f/AgAAAAIA+v/0//X/9//6//7////+//////8AAAAABAACAAgABQAGAAMA/f/9//7//f///wgABQAFAAIA8//z/+7/7//1//3//f/9//X/7//q/+T/4//f/+T/4f/m/+n/6//s/+3/7//u/+r/5f/o/+n/7f/o/+r/9v/0//f/9v/7//n//v////P/9v/2//f/+f8AAAAAAwAEAAcABAD5//7/AAD+/wAA/P8BAAsABQAFAA4AFQAQAA4AGAAXABUAFgAUABYAEwAMABAACwAJAAoABwAHAAgABwADAP7//P/6//T/9v/7//7/BQAHAAgAAAABAAYADAAOABAAEQAPABUAGQAaABUAEQAOABUAEwAVABQAFgAYABgAFwAUABAADQAKAAcADQAOAA4ACQATABcAFgARAA8ACAALAAsADAALAAwABwD4//f/8f/t/+3/9f/4//T/+P/7//n/+v/9//3/+f/6//X/9v/y//b//P/9//v/AgAJAAYABwAHAAEADQARAA0AAAAFAA0ABgAHAAoACgAcABsADQAPAAwACgAMAAgAAgD+//3/+v/9//3/9f/s/+z/6//s//L/8v/v//L/8P/w/+7/8//w//D/8//v/+z/6v/q/+v/9f/7//P/+f/+//7///8DAAcACwAPAA4ADQATABUAEgAVABIADQAMAAoACAAGAAcACAAQABEAEQAQAAUABAAHAAAA9//2//r/+f/r/+v/6//s//n/+//2//b/8P/2/+v/7f/0//f/+//6/wMACQAMAAsACQACAAYABgAHAAYACQAGAP//CAAKAAsADwAPABMAEAAUAA4AEwAdAB0AGgAaABEADwASABQADQAMAAgABgADAP3/AAD3//P/6//k/97/4P/Y/9X/0P/Q/9T/3f/f/+P/4P/f/+L/4v/o/+T/4//p/+r/5//e/9r/6//q/+z/5//r/+3/7P/u/+3/8/8AAP//AAD//wMAAgD///j/+//9//3/DgARAA8AFQAdABwAFQAVAAwADQANAAsABwAHAA4ADgAHAAQA/v/9//3/9//6//v//v8AAP//CwASABYAGAARABIADQAAAAMA///4/wAAAQACAAkADgANAAkAEAAcAA8ADQALAAUABgALAAcACwAMABMAAgD0//X/9P/w/+//6//u//L/+v8BAAEA/v/9//3//f/9//L/7f/r/+3/7v/q//X/8v/1//r/+v/5//j/+P/8/wAAAwAOABQACAAIAAkABAAQAA4AEQAVABQAFwAXAA4ADQAOABoAGwAcAB4AHwAXABIADAAGAAUACQAJAAQACAAGAAMABQD9//f/+v8CAAMAAwAFAAEABgAKAAsACAAOAA4ADAAKAAQAAwAPABIAEgARABcAFAATABIADAAMABgAGQAXACAAIgAjAB8AHwAhACAAGgAXABMAEAAIAAYACQAEAAEADwAMAAgABQD6/+b/4P/g/9//3P/i/+f/6P/q/+f/5v/l/+b/4//g/97/2//e/+L/5v/q/+r/9v///wEAAAD5//r/AwADAAYABwAKABIAEgAPAA4ACgAEAP//AAABAPz/+v/7//r/+P/1//f//v/+//z/9//z//H/8//r/+n/5f/k/9j/0f/S/8f/yf/M/9X/2//g/+j/5P/f/9r/2//Y/9//5P/v//b//f///wAA/v/+//3//f/3//T/+v/9//3/AAAKAA8AEAAJAAUACAAAAAAA+P/z/+f/4P/o/+z//P/5//v/+//4//H/7//n/+X/5v/s/+j/6P/s/+j/7v/y//X/8f/0//H/7P/r//X/+f/6/wIACAALABEAFQARAA4ADAAEAAkADAAQAA0ADQAPABEAEwARABAAEgAMAAwABwAHAAsA/f/4//z/+P/9//n/9v/8//j/9v/0//f/9//+/wAAAgACAAoACQD5//v/+P/3//r//P/+/wAABwAMAAsACQAHAAYACAAOAAkACgAGAAsAGgAZABYAIgAlACIAKQApACQAKQApACQAIgAhABsAGgAaABAACwAGAA8ABwAEAAMAAAD///z//f/8//3//P/+//r/AAAAAPn/7f/n/+X/5P/0//L/7f/z//b/+/8EAAIABgADAAcACQAFAAwADgAQABIAFAAVABoAGgAfABoAGAAdAB0AIAAcACQAIwAlACQAHwAcABAAEAALAAgADAALAAUA///5//r/9//6/wEA+//1//T/8//s/+3/8v/s/+v/6//t/+n/6P/p/+z/7v/t//D/8P/z//f/9f/6/wsACgAIAAkACAAMAAoABgAGAAkACwANAA4ACwAKAAMABwACAP///P/8//z//v/7//z/9v/1//P/8v/w/+//7f/w/+f/4P/i/9n/2//a/9//2f/a/9v/2//g/9//7P/t/+3/+f/8////AgAAAAAA/////wAAAwADAAUABQADAAMACAAKAAoABAAAAAQABQAKAA4AEQAJAAgACwALAAkACgAIAAwABgAAAPX/8P/y/+r/4v/i/+n/4P/l/+n/6//r/9//4//l/+f/6//q/+b/6f/p/+r/6v/r//P/9v/4//z//////wEACQAJAA0ADwASABAADwAaABIAEQAPABIAFgAZACEAGwAZABkAEgAQABEAEQANAAkABwAHAAgABgD9//r/9v/v/+//6//r//L/8P/j/+P/5f/p/+H/4v/l/+X/7P/u/+7/7f/v/+r/8f/2//f/+f/6//j/9//6////AwAFAAMACwAMAAoACgAEAAUACgAIAAoADwAXABkAFgAWABIAEQANAAkADQAHAAwAEAAOABcAGQAQAAUABgAFAPr/+//4//L/7f/s/+7/7//3//r/9v/0/+//7//u//L/+P/6/wIAAwAFAA8AEQARABUAFQAYABkAHAAYABgAHAAhACcAJgAgACAAHgAcACIAJQAlACUAIwAjAB0AHgAcABcAEwATABYADwAFAP//+v/6//f/8v/0//f/9//z/+3/7P/q/93/3v/i/+T/5v/p/+v/6//1//j//P/8///////7/wAABwAMAA4AEwASABQAGwAaAB0AHAAbABgAFwAQAAwACQAHAA8AEgAbABkAFwAXABMADwAKAA4ADwANAAsADgALAAsACAABAPn//P8AAPj/9v/5//3//f/1//H/AAD+/wAABAABAAAAAwAIAAYAAAAEAAEAAQAAAAAAAQD///7/AAD+////AAD+//z///8HAAoABgABAAEAAAD//wEA///+//z/9//7//z//f///wAAAAD+//r/9f/2//T/8//2//f/9//z//n/8P/z//P/9f/w//P/8//1//n//f/9/wQACgD+//7/AAABAAAA//8CAAAA//8AAAcADQARABQAEQASABEAEQAVABcADgAPAAsACAALAAoACAAHAAYABAAMAAoABgD9//3/9//u//L/9P/0//X/+f/3//j/8//2//z//P8FAAEA/v8BAPn/9v/3//7/CQAJAAkABQAAAAQAAgAEABIAFwAaABUAFgAWABkAHAAdABwAGQATABYAEgALAAkACwAKAAkACAAJAAsACQAEAP//AQAIAAsACAAEAAEAAAADAPv/7v/t//b/+P/9////+v8AAAYABgADAAIAAAD///3/+P/7//7/AAAAAPn/9//3//f//P/+//j/9//u//D/8//1//v/+//2//D/7f/s/+v/7//1//3/+P/8//7/AAD8/wMA/v8AAAAA///8//7//P8AAAAABgAJAAoAAQAEAAMABgALAAsACwAOAAoABwAMAAgABgAJAAkABgAEAAYADAAHAAcADwALAAsABgACAAAAAAAEAAIACAAIAAIACwALAAMACwAJAAsACwANAA8ADwATAA8ACgAPAAsABgAIAAUAAAAAAAAAAgAJAAYAAQABAAAAAgACAAsABwADAP//9f/2//P/6f/s/+r/6//n/+j/6v/q/+D/3//p//D/9P/v//T//P8AAAkAAgD1//P/7//t//P/6v/r//H/8//x//P/8v/0//n/9//1//b/+f/7//r/9v/2//f/+P8AAP/////9//3//f/6//r/8//x/+3/7P/w/+3/7v/z//X//f/5//j//P/+/wYACgAIAAcAAgAAAP//BwAMAAsADAAOAA0ACQALAAoADAAcABsAFAAQAA0ADwANABAACwAMABIAEgAPAA8ADgAYABsAFgAdABkAFAAeABcAEAAQAAYABgAGAAUABAAHAAkABwACAAQAAgAFAAsACQADAAMA//8BAAEA+//9//X/9f/w//D/8v/x//j/9f/y//T/7P/t/+7/6v/w/+7/7P/r/+j/6P/u/+7/6f/n/+X/5P/t/+3/7//3//r/+P/1//P/8P/p/+P/6f/u//H/9v/6//r/+P/2//H/8P/t/+z/8P/v//P/8v/4//b/9f/8//z//v/7/wAAAAD+/wAABAALAA8ACgAEAAIAAgAGAAcACgAQAA8ADgAVABAADAAQABIAHgAeABsAFgAQABUAGQAaABsAHQAeAB0AGQAUABQAFwAUABwAGQAYACIAIQAdAB0AIgAeACIAJAAfACAAGgALAAoABgAEAAUACQAIAAgAEAANAAwACQABAAAA/P/5//z//f/7/wAABAAEAAIACAAJAAQA+P/0//T/8v/y//T//P/7/wMABAD8//v/9//v//L/8//m/+P/5f/k/+X/5//i/+j/7P/p/+b/4//l/+v/7v/r/+L/5v/q/+n/2v/f/+H/3P/d/9//6P/r/+7/6P/p/+f/5//p/+X/5v/r/+z/7//1//P/8v/5/wMA//8AAP//+/8AAAIABgAEAAoACQAAAAAABQAJABYAFAAVACAAGAARABcAFAAPABgAHwAfACMAHAASABIADAAIABoAFwASAAkABAAIAAkACgAIAAwADQALAAQABwANAA0ADgAMAA0ACQANABkAGwAXAB0AGQAYABUAFAAPAAMAAgD///3//v8CAAUA/f/5//7/BQACAP7/+P/w//P/7f/u//X/+f/3//b/9f/z/+//5//i/9z/3//k/93/6P/s/+r/7//0//b/7//v//L/6//n/+z/7v/u/+3/5v/q/+r/7f/t/+b/5//s//D/7//y//L/6f/h/+L/4v/n/+z/7//s/+r/6v/v/+7/8v/2//f/9P/2//f//f/9//z/+f/9//j/9//9/wAAAAACAAIAAwAQAA0ACQAQAAoACgAKAAsADAANAAoACwAMABQAFwAVABUAFQAQABIADgARABYAFgATABIADAAPAA8ADQAOABMAEgAXAA4ADAAOAA4ADgAMABAADwAOABIAEAACAAUABAACAAgABgAHAAcACgAIAA4ACQAJAAUA9P/r//D/8f/z//T/9P/4//T/8v/u/+z/6P/s/+H/2f/d/+H/3//j/+f/6//w/+3/4P/m/+b/5v/o/+n/8f/x/+//8P/u/+r/6P/p/+j/7v/t//L/8f/s/+3/7//x//b/+//3//f/9f/t/+//7v/z//3/+//5//n//P////3//P/8//z/AAD9//7/BAAJAAQAAgANAAYACQAMAAoAAwAEAAIAAwAFAAkADQAHAAgACgANAA0ADAANAA0ADwAWABcAFQAPAAkAEQANAA8ADQAAAP//AAADAAEABAAAAAAAAAACAAQAAQAAAPf/9//3//T/9//4/wAA+v/8//7/9v/x//f//f/8//v/+f/+//r/+v/z//L/8//t/+z/7f/y//j/+v/9/wEAAgABAAYAAgAJAAcABgAEAAkABwD8//r/AAACAAgACQAGAAgAAwD3//v/7v/r/+j/7v/4//3/+//3//X/9P/w//X/9P/z//L/5//f/+n/8//1//T/+P/2//H/9v/7//X/8P/1//j/+//+//3/+//y/+//7f/t/+b/7f/1//7/CgAGAAUAAwD//wUACAADAPn//P8KAAoAEgAdAB8AIQAbABgAFQAUAB8AGQAWABYAGAAaABwAHwAaABoAFQAXABcAEAATABUAHQAYABkAHAAbABgAEgARABUAEgAQABAABQADAAIABwACAPz/AQABAP//AAD9//v/7P/a/9v/4P/f/+P/5//m/+T/5P/l/+n/5v/j/+P/1//d/93/1//Y/9v/3//h/+P/3P/X/9b/2v/Z/9L/1//b/9z/4P/l/+L/3//m/+X/5v/n/+r/8v/2//z/AgAJAA4ADAAOABgAFQAWAAkABQADAAcADgAUACIAIgAgACsAKgAkAB4AGQAVABcAGgAkACwAJgAhABwAHQAfABsAEQAKAAoACAAGAAcABgAJAA4ADQALAAsABgAIAAsACAAFAAAAAQACAAAA/v8CAAoAAwD8//3////6//b/9P/y//j/+v/2//T/9P/3/+3/3f/h/+f/7//w/+//7f/r/+r/5v/u//H/7//z//H/7f/w//H/9P/0/+7/4v/g/+f/7P/z//H/6P/i/+j/8v/z//T/+P/w/+3/7f/1//n/AgAAAAEAAQADAAMABgACAP7//P8FAAQADQAQAAkAAAD+//v/AQAGAAkABQAEAAEA+f/6//3//f////r/+P/4//3/BAAIAAcAAADz/+7/8v/9/wAAAgAGAAEAAQAFAAQABAAKAA0ACgAIAAMACQAPABIAFgATAAsACAAMAA4AEQAQAAcAAwACAAoAEgAQABEAEgAWABsAIgAYABAADgAJAAcABAAMABIAFAAPAA4ADgAXABoAIAAVAAUA///7//z/AQAEAA4ADQAFAPz//P/4////AAD6//L/8f/2//3/+v/9//3/+f/6//z//f8BAAMAAAD8//v/+//+/wAA/f/4//L/8f/z//D/9f////7/9f/t/+n/8f8FAAcAAQD2//T/8//z//r/AQADAP///f/6//z/AwAMAA0ACAACAAMAEAASAA4ACgALAAkABwAJAAwAEQALAAMAAgADAAcACgAOAA4ABwAEAAQAAgADAAAAAAAAAAAABAAFAAgADwAFAAMAAQAAAAIABAAHAAYABAADAAEABwAKAAgABQAAAAEA//8AAP//AAD5//r/BQAJAAkABQD+//j/9v/9//3/+v/9//3/+v8AAPj/+f8AAP7/AAAAAAIAAAACAAQAAAD8//r/9v/t/+z/5//u//X/9f/2//X/+f/1//P/8P/u//D/8v/v//D/8v/z//f/9v/s//H/9//6//7/+v/z/+3/7f/z//j/9v/5//b/9f/0//j//f/8/////v8AAAAAAwADAP//+//7//z/+//9//b/+f8AAAAA/f/6/wEABwADAPv/9//1//3/BQADAAcACwAIAAwAEgASABMAEgAOAAgADAAKABIAEwALAAgAAAACAAgABAAJABAACwAMAAwACAAKAAgAAgD+//7/AgD9/wAA/f/8//v/9v/+/wAAAQAAAPv/+f/s/+z/7v/x//P/7//1//r//v8GAAIACAAMAAUABgANAAgAAgABAAIABgALAAsACgAHAAkACwALAA0AEwASABIAEQABAP7/AQABAAUABwALAAsACAAIAAYAAwADAAQA/P/7//v//f8CAAAABAACAAYABwACAAIA/f/4//z//f8AAAoACQADAAEA/P/1//b/9f/7//n/9v/0//X/+f/9//r//P/+//7/+//9////AAAFAAIAAwAIAAMAAQAHAAsACwAIAA0ADQAMAA0ADQALAAcACgAFAPX//P8BAP//AQD///b/9P/1//n/+/8EAAQABgAEAPv/+f/5//P/9P/5//v/+v/7//f/+f/9//3/+f/8//f/9f/5//f/+//8///////+//r//v/+//3//P/2//b/9P/6////+v/4//D/6//u//P/9//y//L/9P/s//H/9f/y//P//f/+//f/9v/0/+n/6//y//P/9P/9//z/8v/y//T/AAADAA0AHgAbABcAGAAXABUAGgAXABsAGgAbABwAHAAhACEAIgAdABcAGQAoACoAIwAqACcAIQAbABsAGgAbAB4AHQAYABQACwAKAAoACQARAA0ADwAQAAwABgD+////AQACAAEAAAAAAAMABgAIAAQAAQAAAP///v/x//b/+v8AAAQAAAD9/wIABgAKAAgACAACAPf/8//0//T/+v/6//n/9//2//b/9v/2//j/9P/3//f/9P/0//P/8//v/+v/6f/t/+//7//z//T/7//w//P/7f/q/+//8v/1//T/6//m/+f/6f/z/wAAAAD8/wQACQAIAAgABAABAAUA/v8CAAwADAAUABQAEAAPABMAFwAWABUAEwATAAsADgAOAA8AHQAYAB4AHAAVABIACwANABMAFAAQAA4ADQAEAAMACAAJAAAABQANAA4ADgAMAAkABwAJAAgABAAAAAIACAAGAAgADQAXABYAFgATABUAHwAbAB0AHgAKAP//AwAFAAMABAD7//7/AgAGAAwABgD9//3/+P/5//r//f///wEA///+//v/+v/t/+3/8P/n/+z/6P/q/+b/4//t//H/9v/r/+j/6v/n/+z/8//w/+//7v/t/+3/8P/s/+v/7f/v//D/8v/1//P/8f/t//D/+//9//r//P8BAAAA+P/5//T/8v/6//7/+v/4//f/+f/9////BAACAAgACwALABEACwAPAA4ADgAKAA8AEQAOAA4ACwAPABAAIQAmAB0AGwAUAAgADQAKAAYACQADAAMABgAEAAcABQAAAAAA+////wIA/f/5//j/AgAMAAgA/v/+//z/AAAAAPn/+P/u//f/+v/6//v/+//7//j//f8AAPz/+P/y/+//9//7//7/AgAJABQADgARABUADgAKAAYABAD5//j/AAAGAAoABgALAAkAAgAAAAAAAAABAAIA+P/w//T/8v/0//r//v/+//r/5v/i/+f/5//q/+r/3v/f/+v/6//s/+7/7P/o/+b/5v/m/+r/6//y//j//P8DAAIAAAAFAAYADwAQAAsABAAGAAUAAQALAAsABgAKAAkABgAIAA0ACQD8//z/+v8DAAwADwAPAAsADQAQABEADwAIAAgABwAQAA0ABQAEAP3/AAACAAIABgAFAAUACQAMAAoADQAQABEACwAFAAkACwARABMAFQAVAA4AFgAcACEAHQAZABkAFgARAAwAAwAAAAAAAQAFAAMA/v8GAAMA+v/7//j/9P/2//L/+v/9//L/6//u//f//P/u//H/7v/p/+r/6v/k/9z/4f/j/9b/2v/c/+b/7P/n/+X/4//e/+f/6v/t/+//8v8BAA4AAgD9/wAABwALAA8ACAD7//v/AwANABYAFgAMAAkAAwAAAAYABQARABMAFgARAAoABwAEAAgADAAdACYAIQAWABIAFAAPAAsABgAEAAcA/v8DAAQAAgAHAPz/7//b/+D/9v///wQA/v8IABoAFgAOAAgABwADAA0ACgD9/wEACAAHAAQABwAQAA0AAwAEAAYACgASAA8ADAANAAgADAASAAIAAQAEAAcAGwAlAB0AGgAHAPD/9v/y/wMACAD0//f/+f/e/9b/6//n/+7/7v/j//j/9f/2/wIA+//y//r/9f/4//j/AQAUAA0AAwAQAAkAAgAFAPn/9f/z//L/8//4//3//v/r//P/AQD1//j//f/n/+z/6v/q//b/9//z//f/AAD8//7/+v8EABEACwAXABIACwAQAAcABAAAAAAA8P/x//X/6//r/+r/9f8FABAAEAAGAAwADwARABAADQAaABsAHAATAAUA//8IAAcAAAADAP//+f/6//T/9P8DAAQAAgADAAMACQALABcAGQAQAAwACgAFABMAFQAJAA0ADwAMAAQA+f/3//j/6f/f/+f/5v/o/+3/6//9//3/AAAZAAcA+v8DAAMACQAFAPz/CgAAAOv/7v/h/9v/7P/p/+b/+f/y//D//f/b/+j/+P/o//b/8v/p//P/+f/p/+f/4f/S/+D/4P/h/+b/0P/V/+7/AwAIABAAGgAmACwAHQAbABsAEwAcADoAMgApAC8AHgAUAA4ABwAMAAcA+v/+//b//f8JAAoACAAHAAEA8//2/wMABgD//wkACwAFAAgAFAAWAAsACwD/////BgAQAAsAAgAIAAMABAAIAPz/AAAIAAIA/v8AAPn///8BAPT/9v/8/wYAEgAOAAkAEAAQACMAKwAHAAIADAAAAAMA/f/5/wEAAADz//j/7f/d/+X/4f/f/9r/3P/1//f/8v/2//j/+f8CABEAHAAfABYADwAHAP7/+P/p/+b/6f/k/9j/2v/e/9r/2f/Y/97/3v/n//b/AAAQACYAJQApAC8AMQAxACgALQAfABYAFgARAPj/4f/r/+z/5f/f/+T/6v/+/wQABwAMAAQACgASABMAFQAMABQAIQAcABUA///6//n/7//t/+D/1P/N/9f/3P/f/+P/8P/7////DwAXACkAOAA2ADAALgAqACMAHAATAAQA+f/z/+v/6P/f/9f/4//b/9H/3v/c/9//2P/X/93/5f/r/+v//f8DAAsABwD+//j/8v/8/wAA/v8BAPv/CAAOAAcA+//2//j/+f/3//3/+f/1//X/+f/9/wUAAwAHABIAEAAQAAsABQAGAAIABgAaAAwACAAOABAACAADAAkACwADAAEAAgD6//L/8//6//3//f/4//P/8P/s//T/CAABAAIACwAOAA8ADwAKABAADAD6//v//f/4//r/+P/2/+n/8f/6//n/8//h/+j/7//v//L/9P/8/wIAFAAWABMAHQAeACQAIQAaABcACQAGAAcAAgACAAsAEQAVABQAGAAPAAwACgAAABEACAAGABEADgAIAAYAAwACAAQAAAD+/wUACgAKAAYABQAEAAcADwAIAAcA/f/z//b//v/3//v/7P/q//D/9P8CAAkADQAWABAAFAAOAAAA/v/4//T/8f/n/+H/4f/e/+D/3f/i/+z/7//5/wAAAgAKAAUADAAOAAsADwAAAPX/+f////P/6P/o/+X/6v/j/+f/5P/j/+3/9f/7//f/AAAFAAsAEQAQACAAGgAWABkAEwANAA8ACwACAP3/8f/e/+n/5f/d/+b/6v/y/wgAEgASAB0AIgAjACQAKwAeABQAFwATABgAEgAOAAgA+/8AAAMABAAFAAQA/f/1//b/8f/y/+z/6P/0//b/+v/5//H/9f/8//v/+/8AAAEACQAEAP7//f/7//j//P/9//b/+/8EAA0ADAAGAAYABwAEAPv/+//z/+r/7P/t//D/7//z//7/+f/4//z//v/1//X/6f/r//X/9f/4/wAAAgD///j/6//s/+P/5f/u/+7/7f/w//P/9v/7/wAA/P8EAAYAAQD//wEABQABAPz/AwALAA0AFAARABUAEgAQABIABgAPABAACwAKAAwADgAOAA8AGwATAAwAFQAWAA4AEwAVAA8AGQAaABsAGQATAA4ADwAMAAgABgAGAAUABQAGAAEAAgAHAAsABQAAAAAAAwAJAAgABgAJAAwAEAALABAAEAAMAAoAAwAGAAMAAAAEAAYACAAOABcAEQAOAAwABQACAPj/9P/t/+r/7f/x//r/9v/z//j/9//4//f/9P/2//n/9/8DAP7/8//0//T/9P/z//P//v8BAP3/8v/0/+z/8P/1/+//8P/3//7//v/6//j/7v/z/+3/5//k/+b/4v/p/+z/7//x//X/8//2//3/8//z////AAD//wEAAQAAAAAA/f/5//3//v/3//z/AgABAAMABQAHAAIABQAKAAoACgANABEACQAFAA4ADgALAAcADAAMAA4AEgASABcAGwAWABcAGAAaABUAEgAPAA0AEgAPABMADAAKAA4ADgAOABAAEAAMAAkACgAFAAEAAwAHAA8ADAAKAPr//f/7//T/+P8CAAcABgAKAAcABAAAAPr/+v/1//P/8//u/+n/4f/p/+7/6v/w//T/9P/0//b/8P/z//n/6v/t//H/7//x//T//f/6//v/9//1//T/8v/w//D/AAD8//b/+P/1//P/9f/3//T/+f/8//b/9v/4//n/+v/1//X/+f/2//v/AAD8//7/AAD8//v/AAD+//X/8f/1//n//P8DAAEAAgAGAAMABwAPAAkACwARABMAGgAgABsAGQAWABIAEwAUAA8ABgAIAAsADQAQABAACAAKABAADAAPABUAGAATABQAEgAOAAsACgAHAAoADAAJAAQACQALAAwAEgARABAADAANAAoACwAQABAABQAEAAAA///+//n//v8CAAMABAADAAQAAQAJAAgABQANAAUABgAEAAUAAAAAAP3/AQAJAAgAAwD3/+z/7v/z//b/9v/1/+z/5f/p/+n/7f/0//D/8v/y/+//6P/o/+3/6v/r/+v/6v/u/+7/9v/+/wEABQD9/wQABgADAAAA/v/+//3//P///wAA/v8EAAUA/v8BAAAA/v///wMABAD1//f/+f/2//n//P/+/////v/8//L/9f/7//j/9v/3/+//7v/1//f/+//5//b/+f8GAAoACgAHAAIABgAJAAAAAAAAAP////8CAAIA/f8AAAIAAAAAAP3//P/6/wEADwARABcAGAAUABIADgALAAsABQAHAAsACgAJAAEABQAKAA0AAgD2//n/+v///wAA/P8CAAIAAgD5//P/7//p/+//8v/0//H/6//q//X//f/+//n/8//w/+r/6P/q/+r/6//p/+n/7f/w//D/7P/f/93/2f/d/+H/4f/f/9j/4//f/+X/6P/s/+z/6v/y//X/+P/2//P/9P/y//b/+P8AAAwACgAFAAAAAwAIAAYABwAHAAoABwAFAAoABQALAAwACQAJAAoADQAMAA8AEAARABMAHQAcABQAFQAWAB8AJQAjAB8AHAAfACMAHQAdACIAIQAoACMAHwAgACEAIAAaABQAEwAWABIAFQAhABwAFgAMAAwADQAOAA0ADgAQAA8AAQD7/wAAAwD/////AwAAAPz//f/9/wAABQAFAP3////8//b/+v/4//r/9//2//z/8f/0//T/8f/y/+T/4f/l/+//6v/z//T/8v/x/+3/7v/r/+z/9f/2//P/8v/5//3/AAD7//3/+v/5/wAAAAAAAP3/+v///////f/8//b/9f/5/+3/+//+//z/AgAIABYAEgAOAAkAAgAGAA8AEAANAA0ADAAFABAADgARABAACwAJAAsAEAAPABEAEQAcABwAEgAQAA0ADAAOAA8AEwARAA0ADgAEAAAAAwD+//r////4//n/+//3//j/9v/5//f/AAACAAAA///8//z/+//+/wAAAAD+/wMA///2//v//P/9//H/7//3//X/7f/l/+r/7v/p/+n/7v/v//H/9f/6//b//P/7//b/8//z/wIAAAD//wMA+P/z//D/8//7//z//f/3//7//P/9/wEA//8CAAQAAgAFAAMABQAIAAcABwAUAA8ADQARABMAFAAKAAwADgANAAoABAAAAP7/AgAFAAIABgD7//v//v/z//j/7//0//z/+/////v/9v/7//n/8f/3//f/+f/1//T/9f/w//L/9v/1//f/9/8DAAIAAAAFAAMAAAABAAIAAwAAAAEAAAD9//f/+v8AAPv//P8BAAYABAABAPj/9/////7//v/+/wIAAAD9//3/+//7//b/+f8BAAcACQAGAA8ACwAHABIAFAAOAA0ADgANAAUAAQABAAYAAgD/////AwAEAP///v////7//f8AAAUAAQD///f/+P/6//j/9f/8/wIABQATAAoAAAAJAAQA+v/3//X/9//2//T/8//5//r/+P/4/+7/6v/s/+f/6v/s/+r/7f/v//v/+P/6//j//v///wQABQAJABEAEgASAA0ADwAUAAwADwANAAsACgAUABIAEgAYAAkACgAJAAAAAAD+/wAAAgACAAQADwATAA0ADAAIAAgACgAKAAoADAARAAkACwAQAAkAAAD1//T/+v/+/wEA/v/6//f/8//v//T/+v/9/////P/4//z//v///wAA/v8AAPz/AAAAAP//CQAEAAIABQAGAAcABAAGAAMAAgAAAAMABgABAPb/9//3//b/+v/4//f/9v/6//7/+//8//b/6f/p/+j/6v/t//L/+//8//v/+f/0//f/AAD9////AAD9//////8GAAMA+v/4//n/+f8AAAMAAAAAAAQAAQAAAP7//P/6//7/+f/7//r/+//9////AwAAAAEAAQACAAAA//8EAAIABwACAAgAEQAOAAsAAwAGAAsADgANAAsACwAFAAcAAQD////////+//z/+/8AAAUABgACAAUAAQD5/////v///wYADQARABMAEgAUABYADQALAA8AFQASABMAFAAQABQAEwAPAA8ACAD3//j//P/+/wAA/f/6/wAA/v/7//b/+P/3//b//P8CAP/////5//H/8v/3//X/+v/9//z/+P/5//j/+//w/+7/9//z//H/+P/z//H/8f/u/+//8P/0//j/9v/4//b//P/8//3/AQD+//j/AAD1//b//f//////BAADAAQAAgD//wMABQAIAAoABwAGAAgACQAFAAgACwAIAAgACwAGAAUAAQAAAP7/AAACAAMA+v/4//7//P///wEAAQAAAPb//P/4//j//P/2//P/7f/x//b/AAD///v/9v/6/wQACQAGAAQAAgD8/wAAAAAAAAAABgAEAAIAAgD+/wAABwAFAAAAAgD9//3//P/9/wIAAAAAAP3/+/8AAAsABQAMABIADgAFAAAABAACAAAAAwABAAMAAgACAAEA///8//T/+P/8//f/+P/0/+7/7v/w//3//P/y//L/7v/y//X/AAD9/wAAAAAAAAQAAAD9//z////9/wAAAAABAAUABQAQAA0ADgARABEAGAAPAAwACQAEAAsADAALAAgABgAIAAYAAAD//wEABQAFAAgAAgAAAAEA9v/8/wAAAQABAAAADAAHAAEA+//7/wAA+f/8//7//f///wEAAAADAAIAAAAJAAgABwALAAoADQAIAAwADAALAAwAEwAUABUADwATABIACgAMAAcABQAFAA8AEgAMAAwABgAEAP7////9//n/AAABAPj/9v/4//n//P//////+v/9/wAAAAAEAAQAAwAEAAEAAwAIAAMA+v/v//X/8//4/wAA///5//j/9f/2//b/+v8AAAAAAAD6//H/8f/u//L/9f/6//n/+f/1//v/8//t//T/+P/5//v//P8AAAAAAAAEAAMABwAGAAUADQAHAAYABAAFAAMAAQD9//7//f/1//j/+f8AAAEA/f/1//v/+v/9////9f/2//j/+v/5//v//v/+//z//v/8//f/9P/y/+//9v/8//n/9//2//f/+f/1//T/8v/2//b/8P/u//T/9v/5//r/+P/2//7/AAD5////AAD4//3/9//+/wAA+/8AAAMAAwAAAPr/8//x//D/9v/9//r//P/6//j//P/+////AwADAP//+//9//3/+f/7//j/BAAGAAIA//8BAAoAAQAAAA4ADgAMABAADQAMAAkABgAJAAUACAAIAAYAFwAUAAwACAAIAAwADwAQAAkACQAJAAwACwAMAA0ADAASACAAGgAWABIACQAKAAwACgAPAAwAEAARABMAEwASABEAEgARAAsAAQALAAMAAAAFAAIACQAFAAQAAgABAP3/+//3//X/+v/3//P/9f/4//z/+f/5//f/+/8AAP7/+v/6//z/9////wIACQAHAAcADQAMAA0ACgAIAAMABAAIAA4A//8BAAkABwAKABEACwAHAAoADgAJAAoABwAFAAcA//8CAAQABgADAAYADgAJAAQAAQACAAIAAwAHAP//AAABAAAA///2/+z/8f/0//X//v/+//v//v/8//7/+//6//n/+P8GABIACAAIABIACwAKAAsAAQD8/wAAAAD///b/8//0/+3/7f/z//X//v/8//r/+v/0/+n/3//m/+j/8//3//P/7f/s//X/8//8/wYAAQD+//z/9//6//3/9P/0//L/8//0//f/9v/4//z//f/7//3//v/8//r//f/9/wAABwABAP7/AAADAAYAAwD6//T/9P/2//T/+P/6//z/AAAEAAsACgAJAAIAAgAAAAIAAQD///n/+f8AAP//BAAGAAEAAwAFAP7/8v/1//P/8//z//n/+P/z//T/9//4//L/8f/x//j/8//5/wIAAwACAPv/9f/5//z/AAAAAAAA/v/5//j/9//+/wAAAgADAAAAAAACAAAA+//6//n/+P/9/wIA+//3//r/AAAJAAoADgAEAAEABQACAAsACgAMABAAEAATAA8ABAADAAgACAAPABMADgAJAAgABQAJAAoACgAMAAYABwAKAAkACwAOAAoADgAHAAgABwAHAAIA+f/6//f/9//6//3/AgAGABEACQAEAAcACwAJAAcAAwADAAQAAwD9/wEAAAD//wEAAwAAAAYABgAGAAoADQAPAAkABgAJABgAEAAFAAsADQALAAoAFQAQABAADwAQAA8AEAAPAAsADQAKAAgACgABAP7/9f/4//z/+f/5//f/6v/y//H/6v/y//P/7v/x//v//P/7//3/+f/s//T/BAAAAAMACgAJAP7/AAAAAAMABQAAAAMAAAAAAAEAAgADAAgADwAMAA8AEQAKAAgAAQACAP7/AAAJAAUABQALAAkACgAKAAYABAADAP////8AAPr/AwAHAAkACQAHAAkABAAEAAEA/v/+/////f8AAAUABQAFAAYAEgASAA4ACgAKAAQAAwAKAAUAAwAGAAcACAAJAAkABQAMAAcACQAOAAwABAADAAMA/v/8//n/+//3//n/+f/+//r/+//9//3/+v/m/+z/8f/k/+P/6//x//L/8v/3//r/8f/3//j/+//3//L/9v/6//b/8v/2//3/+f/7//H/7//+//n/9//3//7/BQACAAIA//8BAAAA/P///wEAAQAKAAMABAD7////EgALAAYABwAJAAgADgAPAA4ACAADAAMABgAEAPb/7v/x//X/9f/2/wEACAABAAYADQAGAAIABQABAA0ADAAMAA0ACgAMAA0ABwALAAoABwACAA0ADAAHAAkADgAIAAcABAABAAAA8//x//j//v/+//r/AgD3//r//P/+//7//f/9/////f/+/////v/9/wUABAABAPj/9P/x//j/+P8BAAQABAAIAAgADAALABUAEQAMAAsADwANAAkACAAHAAkACAABAPz///8AAAIAAgABAAAA+//8//7//v/2//j/+//8//3/BAAEAAEAAAAAAAIAAAABAAAAAAD5/+3/6//x//X/9v/4//n/+f/4//H/7f/x//z/+v/4/////v/+//7//v/9//7/BQAJAA0ABwALABIADgAKAAgACgAJAAkADgANAAsACgAJAAkACgARAA0ACwAKAAEABAAGAAYADQAMAAkACwAQAA4ACgABAAQABAAEAAMAAwAEAAMAAgADAAMAAwACAPz/9v/y//X/+v/y//X/+P/6//v/+v/0//f/8f/s//D/7P/u/+n/4//i/+b/8f/y//H/6f/m/+L/4f/k/+//8f/v//D/7//p/+r/7f/u/+r/4//h/+X/4v/s/+//7v/w/+b/6//u/+//9////wEABgAAAAAADAAMAA4AEwAaABcAFwAcAB0AHAAbABcAFgAdABgADQAOABQAHQAXABMAFwAXABwAGQAWAAsABQAGAAsACQAKAAcAAwD9//f//P////n/AAAAAAgADgALAAcABwAEAP7//v/+//j/+v/7/wQADAAFAP3//f8BAAcA///9/wAAAQAAAAAAAAAAAAAAAAAAAAEA//8AAAAAAAAAAAEAAQAAAAAA+f/6/wEAAQABAAAA+f/0/+7/8//3//f/9//2//D/4//p/+//7f/s/+//8v/0//r/+//5//j/9//5//j/+f/3//r/+f/6//v/9f/+/wYABAADAAAAAgAIAAcABAAGAAEABQAEAA4ACwAGAAcABQAGAAgAEAARAA4ADgASABAADwAPAAsADQARABAAFwAhABUAEgAOAA0AEgASABEAFgAXABUAFAAPAAoACQACAAIABAAGAAUAAgAAAP//AwD9//f/+f/7//r//v8AAAAA//////v/AAAAAAAA/v/9/wIABAD+//T/9P/t/+7/8P/v//f/+//1//D/7//o/+n/5P/p/+f/5f/s/+v/6//r/+z/5//v//T/6v/q/+3/7//z//T/AQAEAAEABwAJAAEA+v/4//v/AAABAAQABAAHAAYAAwADAAMAEgAQAAsADgALAA0ABwAHAAsACQAHAAwAEQANAA8ADwAOABIAEgAPAAoABgAIABQADwAJAAkACgAIAAkABwABAAYAAwD//wAAAAD///7/AQALAAgABAAJAAoAAAD7//v/9v/3//r/+P/x/+z/8P/5//f/9v/y//f/9f/2//j/9P/6/wAA//8GAP7/AQAAAPj//v/7/wEAAQD+//3//P8CAAYACAAHAAMABQACAP3/AQAOAAcAAwAGAAUADAAQAAsACQAFAAkADQAVABQADgAFAAgAAAD5//n/+P/9//b/9//5//j//P8BAAEA8//y/+n/4v/p//j/8//u/+7/8P/3//H/8//0//r/9P/y//j/9P/4/wIAAAD3//P/7//p/97/5//x/wIABQD//wEA//////7////9//v/9f/2//v//f/5//T/8P/v//T/+v/+/wQA/P/u//X/8v/2//r//P8KAAMABAAHAAIADAALAA0ACQAIAAYACgAHAAIAAAAFAAkAEwAOAAUABAD//wQACgAKABMAGQAnAB0AGQAXABgADgD+/wAAAgACAAQACAAAAP//BwAGAAEADQALAAkABQD8//r//P/4//P/7//r//D//P/+//7//v/+//n/+v8OAAoAAwABAAAAAgD6//v//v/0//n/+P/+//7//f/5//X/+f/6//v/+v/z/+X/5P/p/+n/4v/n/+z/5f/s/+//7P/0//L/9v/5/wcACgAIAAMA+v/0//X/+/8BAAMAAgAAAPb/8v/s/+b/8v/x/+3/6f/1/wAADAARAAkACgAMAAYABgD//wwAEgALAPr/+f/+//r/+/8ZABsADwAQABEACAALABwAGQAYABoAFwAQABIADwAAAAAA//8DAPj/+f8DAP7/+v/7/wQABwAFAAgABwD7//j/9f/2//H/7P/5//j/9v/z/+7/7//p/+3/8f/u//r/+v/z//f/BAAAAOr/7f/1//b/9f/x//7/BAAAAPf/7P/x//b/6f/h/+L/3f/V/97/8v/4//j/6//x/wEA/v8FACgAGgD3//H/8v/t/+r/8f/7//n/9f/6//v/9v8GAAcAAQAGABcADQD3//3/AAD7////GAAUAAkAAgD///r/+P8OAB8AFgAUABcAFAAPAAcAAgD//wIAEAAUAA4ADAAcAA4AAQAGAA8ADgAIAPr/+v8AAAEA+/8BAAYAAQABAAgADgAUAAsAEgASAA0ACwAJAAsACAD+//j//v8AAAEAAAAJAAsACgAFAAcAJQAUAAIAAAD//wEA8//1//b/9/8BAP//AAAJAAoADwAJAAMAAAADAP7/+P/5/wUABgAHAA0ADwANAA0ADgAQAAkABgAOABgADgAOAAkA/P/6//f////2//f//f/8////AAD3//z//f8DAAUACgAAAAAA9//t//H/6f/u//v/8P/6//b///8FAAIACAD4//X/9//4//j//P////j/9/8FAAcA+P/0////AwABAAcACwAIABQABwD3/wcACAD+/wAABwAEAP//AADy//n/AwAAAA0ADgAJAAUABwALAPf/9P/9//f/9f/8/wAA4v/j//T/6P/s/+f/7P/4//r/+v/9//v/9f/w//v/9f/5//3/9//6//r/9P/1/+3/8f/x/+//9//0/+//8/8JAAMA8v8GAAoAAAD7//H/8f/v//X/6v/n//P/8//u/+T/6v/Y/9v/6v/u//H/9f/2//D/7//s/+7/9f/3/+z/7f/2/+r/7v/5/+//7v/5//j/8v/5//7/+f8DAAUABQAMAAoAAgAFAAkABwANAA4AEQAQAPz/BgAEAP3/EgAQABQAEgAOABEAEAAQAA0ACwAZABkADwAYABkAEgAPAA4AFQAWABIAGAASABcAGwAUAB0AIgAVAB0AGwAZACAAIwAlAB8AIQAlABsAIQAeABMAFAAaABcAEgAXAAwABwAZABYACwAHAAkACwD7/wcADAD1//z/+P/j/+3/+P/5//j/AgAGAPf/AwALAPj/6v/v//f/7/8AAAcAAwAAAAAAAADo/+r/9f/r//b/7P/h//f/+f/1//v/+P/z//T/AAAAAAgA/v/r//n/+f/3//n/7//3/+L/5v/x/+L/4f/r//f/+f8CAAUAAQASAAYA/P8NAAgA+v8BAA8A///3/wQA+P/l//3/+f/u/wMADAD/////BwAKABAAGgAWAAUABQAEAPT/8P/x//L/9v/m/+r/8P/r//X/+v/7//j/9f/1//n/8v/m//L/+f/7//v/+P/2/+//9v/0/+7/9f/5//T/+v8AAPr/8v/0//7/AgAHAAoAAwD///7//P8AAP3/+/8AAAEA/v8AAP3/AQD9//3////1//j/+/8AAPT/7v/4//X/9f///wgABgAAAP//+//2//b/9//2/wAAAAAAAP7/+v/1//T/9//0//v//P8AAAkAAgD9/wEA8//s//v//f////r/7//2//f/+f/+/wcACwAHAAcADQAQAAMAAQALAAkAAAAEABEADQACAAwADAAMAA0ACAAQAA8AFAAXABoAIQAWABYAIQAdABUAFwAcABUACwARABMADgAWAB8AGwAZAB8AGwAbABQADQAQABQACAAKAAYAAgAGAAsAEAAGAAMABAABAAwAFQASABUAGQAFAAYACwABAP3///8DAAsABAAHAO7/9v/8/+z/8//4//L/9/8IAAYAAwAFAAAAAwD1//3/AADs//H/8//n/+3/7f/u//T/9//u//b/+P/x//X/9f/y//j/+f/8/wEAAAAAAAEA/v/7//X/+//5//z/9f/1/wAA+v/+/wQA///8//v/+v8CAAIAAwD//wIAEwAJAA0ACQACAAMA9v/1//f//f8DAAAABQACAP3/AwACAAEA/v8CAAMAAAADAP//+f/5//r/9////////f////j/5v/0//j/8f/n/+z/8//x//D/9f/y//H/9v/u/+//9f/8/+3/7v/v/+//7v/q/+//8P/y//j/7P/w/wIA/P/7//r/9v/x//H/7f/0//L/8f/7//z//P8IAP//AQAHAAEAAgAAAAYADQAJAAQAEQAOAAgACgAGAA0ADwAKAA4ADgARABAADgAKABAADwAOAAoABwD9/wEACAAFAAUABAAAAPz/AwAAAAEAAgD9//b/+v8EAAAABAAAAPX/9v/v//T/9f/y//b/7v/z//D/7v/x//f/+//2//P/9//0//j//f/x//X/+/8HAAEAAAAHAAAAAAADAP7//v/6////AQD+/wAABgAJAAgACAANAAgACwARABUAEAAJAA4ADQAPABYAFQARAA8ACQAOABEAEQATABsAGgAdABgAFQAYABEADQAPABIAEAANABEAIAAjABoAFQAVABcADQASABcAEgAbABQACQAPABIADAAHAAwADgAKAAAA9P/4//r//P////7/9//w//L/6//y/+7/6f/t/+T/2v/g/+L/2P/d/+H/4v/n/+L/5//g/9n/2f/e/+P/4//d/9z/4v/d/+P/+//w/+r/6//p//3/AQAHAAMA7f/z//f/+v8GAAMABwAIAAIAFQAZAAgADAAMAAoADAAJABcAHQAWABYAFAAVABQAFQATABEAEQAUABUAGwAdABgAFwAJAA4AEAAMAA0ACgAKAAwAIQAdABoAFAATABUAEAATABMADwAIAAcADgAMAAIA/f/y//X/+P/1//D/9P/6//n/8//u/+z/6f/k/+f/4f/f/+j/5f/h/93/0v/P/9j/3v/k/93/1//D/8f/zf/C/9T/2P/W/9f/3P/c/9f/1v/R/8v/1P/Z/9//4//s//v/7//0//X/8f/y//b/+v/8//r//f8AAAAAAQABAAwACgACAAEA+v8AAA4ACgALABQAFwATABoAEgAXABsABgAJABIAFgAcABkAFAAOABEAEQANABIAFwATABIAIgAlACMAGgAVACAAJwAhABEACwAOAA4AEwAPAAoABwAIAAYABwAEAP7//v/9/wAAAQABAAIAAgACAAQAAAAAAPn/7v/v//D/AAAKAAcACQAEAAUABwALAAkACAALAA0ABQAEAAAABAALAAwACwAHAAcABQADAP//+//7/wAAGQAYABYAFgATABAADAADAAAAAQD8//3/AAD7//7/+f/7/wEAAAALAAsABgAPAA8ADwANAA8AEgAUAAsAAgD7/wEAAwAFAAIAAgD6//7/FwASAAsABgAAAAQAAAD+//v//v8AAPr/8//y//P/8f/z//P/9/8CAAIA9f/7/wcABgAEAAUAAwD9/wMA/f8DAAIA+v8AAPz/9//8//7/+/8GAAMA/P/+/wAAAwAFAAEABAD9//z/+f/+/wAA///7/+v/5//h/+v/8P/z/+//5f/j/+b/5v/t/+7/+P/8//f/9P/y//L/3P/c/+T/9v////L/5f/q//T/BwAmAB8AEQAKAAEACgAVACMAIQALAPz//v8AAAAABwAAAO//5f/i/+z/6f/r//H/7v/w//L/8P/t/+//9P/5//b/8f/v/9j/2P/l/+3/9v/u/9j/0v/d//r/FgAVAAoA/f/0//7/DwAlAC0AIQAHAPv//P8SACAAIgATAP3/8f/8/w8AHwAfABAAAAD4/wcAFwAkACMADAAIAAQADgAUABMA/f/u/+f/8P/6//j//P/7/wkACQAIAAMAAAAEAAgAEAAKAAUA/f/9//3/CAAGAP3/9f/p/+v/8/8GAA4ACgADAAUAIgAjACAAFgAVABMAEwAOAAYAGwAlACIADwD6//T/AAATABcADgAAAAQAEAAWABUADgAFAPr/6v/k/+b/8//3/9//1P/C/7//x//C/9v/6f/1//j/9P/0//j/CgAMABAABwD2//D/8f8JACEALQAZAPz/6v/z/xAAJgA5ADMAKAAqACwAIgAlADoARQBCADMAGQAEAP3/AgARAB0AEgD6/9n/zf/Y//b/FAATAP//5v/Z/9j/6v8AAAgABwDu/8//r/+l/8H/4f/6//H/4P/W/9P//P8lAD4ATgA+ACwAJgApAD0ASwBJAEYALwAaAAAA8//7/xEAMAAsAA8A5//b//H/GwBFAEgAHwDV/7P/uv/g/wgADgDS/5//e/+N/8D/6v8PAPH/yv+2/8H/8/8gAEAAPQAdAPn/4//u/wYAHAAcAPH/vv+i/6z/5v8PABsADwDy/+D/6v8RADcATwBDACAACwD6//j/+v8FAAoA/P/b/7j/sv/B/+n/HAAxACwAAADe/+f/DABDAFoATQAlAAAA5P/j//v//P/r/9P/xf/J/9n/8P8WADkARAA+ADcANwBTAHQAgwCBAGYAPgAqACgAMgAwAA8ABQDz//D///8GABMAEwAgACEAJgAfAAQA/P8BABkAJwAWAOP/sv+e/5v/nf+n/6f/p/+h/6r/uv/F/97/8/8FAAsABgD0/+n/9v8BAAsABQDc/7L/kP+X/9X//v8JAPT/0//S//b/NwBhAHEAYQA+ADIALgBKAFwAVwA9AAkA6v/Z/+f/DQAiACQAEAD7/+3/8/8UADIARgAyAAcA6v/a/+v/AAAHAP//3P+q/47/m/+1/9r/8P/r/+f/4f/j//T/IQBLAEwAMwAHAPj/AAAfADgALwAiAAAA5v/c/+P/FQA1ADUANAAcAA4AIAA0ADoARABBAEEAHgDy/+f/7/8MAAgA8P/U/7H/rf+w/9b/DgAbABEA5P/J/+X/CQAzAD0AJwD0/9D/4/8GADEANwAfAAAA0v/R//7/JAA9ADEAHAATAC0ARABQAGUAXwBQADEAFwAjAEQAUQA8ABgA+f/n/+//9/8OAA0A/P/i/9L/4v8KACAADgDv/9H/sf+7/87/+/8EAPD/0f+k/57/vf/r/xAAEwD1/9j/yf/f/wEAJAAvACYABwDY/87/5f8MACoAHAD+/+T/yf/P/+b/AAAIAP3/7P/t/+n/+f8GAAoADwAJAAIA/v/w//P/+v8EAB8AHgDy/93/1P/i//v/AAD7/+f/4v/X/+L/9f8JAAkAAQAHABUAEQAbABUANgBZAFsATQA/ADYARQBTAF8AWwBkAFUATQBVAFUAYwBpAGcAZABZAFgAWwBfAFgATABFAD0ARQA8ADsAQQA3ADAAKAAdACIAHAAfABcABAAKABAADQD9/9v/0v+x/6z/t/+p/6L/h/9f/07/NP8x/zH/E//1/tn+v/6v/qT+l/6M/nv+b/5h/k/+T/5N/k7+S/47/jn+Sf5N/kn+Q/5V/mz+if6P/oz+pv60/s7++f4M/yz/Tv9Q/2v/jf/Q/w4AJwBHAFgAcgC1ANwAFgFmAYYBnQGnAboB8QEzAmICgQKTApACogKsAr4C9AIJAwsD7gKtAqkCqwLHAtACsQJiAioC/wHoAeUB0QGtAWoBGgHnAMgAygDFAJQAXAAbAOX/xP/P/9P/uf+L/zH/7f7I/rr+xv6g/ln+CP6z/WH9QP0u/Q/95Px3/BD8rvt4+2/7ZvtK+/z6l/pO+jj6PvpO+kH6HfrM+ab5wvnl+Sn6Q/pR+mT6bfq4+iT7nvsu/Kv8Jf22/UP+NP9FAFEBUgJAAy0EVAWHBsAH/QgRCvsK3Qu3DKMNgA4ID2IPiw+XD6IPdw8pD7cOCA41DT4MVQtrClwJLgjnBpkFbgRJAz8CRAFHAFv/gP69/Rr9j/wn/Nn7j/tO+yv7MPtd+4T7vfvb+/X7Afwf/Fr8mPzN/L/8jfxj/ED8I/wG/M77jPsr+5j6Hvqr+Uv5DPms+EX41fcy98D2V/YX9vn1ovVE9eb0cPRF9Cb0OPRv9GX0U/Rc9F703/SH9VD2VfcU+Mz46Pke++/8HP8NAS8D/AR8BmMIbgrbDJQPgREEEzYU7hT1FRYX/RfHGHkYSxcrFuwU/BMgE54R6w+ODaoKQAgZBjYErgJ6AA3+ufs3+a73zfYQ9pX1e/Qn84vyU/LB8s7zlPRk9ff1UfZO99r4hfp0/MP9lv5x/wAAMAHhAkMEcwW8BWQFSAVgBecFbwZyBtMFuQRJAzACjAH9AF0AEv9P/VH7K/nH9xH3dPab9Qv0OvLN8Nvvou/670vwa/D671zvX+/M7wHxhfKs86z0J/XG9Sv3mfi2+sT8KP6B/5EAigFmA0IFTAewCgcNdQ7mDkgOBBCtEhIVcRfqF1MX+hbnFWcWBhg3GHYXORW5Ec4PEw6mDFAMqgoCCK4EMgBc/f/7p/pK+vf4QPYB9DDxKPA18QfySPND86vxE/EG8Uvym/VI+Aj6gPrR+U76ZPwI/4YCewUlBgQGFgURBVkH8wngC9QMPwsRCVYHxgZLCIsJsAh6BokCLP/3/Y79BP55/cX6Wfe185jx9PHQ8qbypfEg76XsRevE6/Ltwu9t8Fvv3+1a7THu9PCU9DP3efcE9mv1J/dV+5b+2QDQABX/Wv6GAKwI0RBTETQMNwcaCIgPphdIGwwdfRlLFF0S4hT5HVgiNR34FvURQRA0D7MNeA6KEOEMxwSx/dT5gvrh+lz6y/qB93Dwyepx6d/t5PLs8kXw3uxK6fHpye3I8275xPcL9N7ypPTn+ar+FQEGAzsCfwA2AQcEzQaHCDUIwgheDCgMagmBBzwGBwq7DRwNzQsoCSUFtwP4BOEHjAojBbD+KPtq+fv8Kf46/Aj7/fWK8bTwCvKh9Sn4H/ZX81/xVvCq8gX2k/iG+h/6PPi798P4e/v+/loBaQFmABX/lP47/5gBUQUMB3kFlgHs/TX+2QB8A1AELQLC/pH8hf1yAKkCjgEs/0v//ABLAz0FTQaHBwMIPweWBy4KwQulCqAI3wjYCjoL7Aj2BiIGLAaGBewDXQMeA8gA9P0e/Tf95v2S/Aj6JfnU+On3TffA9pP3aPgu9x33xfeX+G75Q/lE+n39Tf8aAE4A3f+gAAED6QRGCK0MLQwZCiAIowdrCykPwxA7EXwPrwtaCU0JVAyGD3INMwliAzf+P/5d/s3/zgCR/BT3KfJt78PxlPSX9dH1dfOO76Ptpu1w8Yj2Pvi+9lr0MfLu8h32E/qP/Yr90Plz9iL2aPrX/jYASP/Y/CT5tPnC/JkCrwjmBsD/avwv/oQEPgujDj8PHw2kCK8Gvgq4ElQXzRTfDhcLSAm1CQoLQg1hDs0JUwJx/Xb8Tv7z/mz9kvvA+H/ze/C98dz0zfbE9jr0g/Hi71bwqPQ/+rf8PfoM94L2DPkL/WoBCwQBBMABbP8HAYsFIQkvCs8IfwZXBrQG+gYUDKcRpxBqDAsHegV9CugP2RF9EfgNWgjBBL8E3wmVDMUKDwYT/i76gfrg+hf+tf/i+xf3LvPa8Rj0wPa1+En5W/eg81bxh/KS9M736fm4+A/2RfO/8Evz3vgm+vf36fRi8o3xjPLn8xv3q/u//ZP8lvqd99f3h/xOA/oJpQv1COMGHQcbDFsTGBh2GUgV3g/XDgMQ/hKsFAUTbRGdDJwFrgEjAV8CWwJ7/nf5TfVk8QPv+u798OHysvAV7G/pPelG7Dfwf/J687jyWPAD8IzzQ/kA/xAByf81/m/+aAEdBo0KKQ0ODZQL1goTDPwObBKjE8ATIhLMD5YRuBRHFdcU2hG9DnUOAQ5YDeMOLg5aCioGUALOAWAAef5x/rX8Sft4+D70HPSk9VX19/Qn9Bfzc/IU8SDx//NJ9vb2Xfbn9NrzYvR99ib5K/uN+qj27vVh+ED51foj+xz5x/cL9rz0ivf0+4T/YgCN/ZD4BvVN9/T+1wWYCWIIfwSjAoEELQpbEb4TqA8nCgkHfQcZCyIN4A0vDlwJsgKI/lz+egEpA+MAQf35+BT1qvOf9Ab4uPqy9+DyD/D671T0evjx+Rj69PfP9Jz14/na/3MFwwbIBHAD9wMJB7cLfRDdEl0SHxCTDsAPCRPEFhkYuhauFI0TShPWE80TnBJtERAQwwwhCmAIXwaYBD4C8P/p/DD4fPN27qztrvDq73jtBepW5ujlEOdd6ZHtAu+x7b/s7u2/8ej1wPiC+s77Afz/+z/9eADFAwkFXwSdAmUCzwIeArwB2wC0/7T+oPzs+2L8fP1e/oz7UPdw9bT2Lfti/7UA4/+V//D+7//IA5EIbwolCBMFaAQcB6AJBgr/CXwJvgY8A5MBjgN/BuMGuAKJ/rb9v/3T/s4A1wCZAEr+0/pg+l783/4fAF//Gf6T/Kf79fvI/YsBIwR/A7cBX//c/y8EnAidCg4KsQfrBfYGjgkgDXsRSBGxDVIL1QmNC24P7w/qDscNOQrbBjgFmwV4ByoHdQM7/gD6b/eo9Zb1/vap9s/z/O4f62Lr5O1s8CXyHfL973Ltye3a8Mz1k/lb+Sb3m/ZH9x35pfzH/ir/5v4c/Tv8l/0q/yb+8/wp/Bn7V/1o/7MAAgGA/o76GvgJ/dUCJwffB3wDwAHYA9EGLwzTD+wOZgoUBoQEzgdjDIwNtgyhCVsE8/+E//0BQAWgBiYDLP3O+Z/4qfpY/xkB1/4x+yv34vTB99j7sv7c/7D8TPec9OL2Kv14AsgDXAHD/X38yP1/AU4H5govCrkHrgSTBK0IygxYDwcR/w8XDEwKTgveDbkRkBEaDe8JDQiQBscGrAcuB30EaADJ+ln3X/eM9//2b/b6833wBO5k7Zzur/EU87TxAfHt8F3xuvT+94z5Pvv/+tP53/tf/qcAuAIFAtQAnwGDArwCewOtA60CsgDB/PT5FfoZ/QkAogCr/z76X/Ox8Jn1Lf/8BGYDlf3b+U/7WwB1B+QMcw1/CHIBp/+rBGsLWQ/pDj4MhAYeAZEACQVGC9oNNgm3AQj+lf1k//kDKwacBDYAv/kz9ur44vxG/0D/pPx39zXz/fJq9679wgH6/+f6vvcP+Db9BwSTCJ8ISwR4AIMAAAbxC9UP0g/IDM4LxQurDMgPyRFtEdoQJA4oC7QKcgmDCSUL1wj+BWP/hfnB+PX3Z/qp+Rn1qfLS7XTs9u6s8K3yZPLj7+Lu1++u8u3zgPZO+Cr2FffZ9rX3gfyJ/QP8kPxT/X/94P7H/+z+tP48/ar7Rvzt/5kBogBbAiYAkPpq+sT6UQAvB7kFHQPWAU4BzQMFCHwMoA4RCyQG5wOmBX8Khws/Cg8KewXVANv/BQHsBL4G4gE7/Qz7d/ph+xz+pwB6/0D7JPce9cP3ZPw6/U/7Kfqb9gL0Gvc/+sP9PgAw/U36WPve/BgAzwUJCOYHJAZVA7sFNQzaEOcTrROTEMINbg27EIYW4RnsFgsRyQucCt8KBw31DTMJtQIo/JT2+fdw+RD2p/QR8Tvra+kq6S/qGO0o7mjrFepp69HrDu/k8/70s/Xr9lP1CfgS/d7+WADaAVwBqABsAnEDiwSEBtoGVQO0ANcAVQA+AxoG8ALyAdoAm/zG+wX+owBoAz4EkgHl/wgBKgP+BO8GkAg/BsoAwACCAQQEagj8BHEBRAFh/az8tv9mAdwDEgLl/LP6M/vL/er/1gAGAWX9RPq9+cr6yv47ATj+Cvza+lD5MPtA/gAA1wE4AcL++Pzq/agCRQY7CE4JXwbsBz4NXQ3eDg0R5w6hEJMUxRP2E0kVjRFYEDwSexLXEA8LYAYZAukByQOn/I36Avkg8Qfw1O977j/xru9O6hLp5+r06uvqF+7T7xDvmfBq7kntgfNU9o72vvkg+WX13/aH+Cj7zgEUA4/+CPsG+Wj6bv+eBf4GLASeAn3/z/2wA64J6wzJDsoKnAV5Bz0Lig95FGcTnA7CB8ACtgTnCG8MzgpkAzP+A/rv9tn5o/1s/pD7OPTy7hnwkvQ7+aL6BPrA9vvxw/FS9+H8CAJ9AXP8Y/ps+9j9dAOlCCoKlQhDBOoA8wJiCfANFQ/3DdQIaAUQB5wK4BQtGkcU5QybBr8FGQ90F68XLhVqDbMDfQMGCB8Orw58B8T9d/Q488L0/PVo+hT2p+w65wTkd+dX76ryS/Bt7Nnpm+fO64P0MPeb+FP4jPPe84z3HPvu/7oDjAEe/A763ftzAKMFCQe2AvP8oPmN+ID81QMRBVsCLgDq+uT4L/vb/pUFXgmKByECF//aArwJkQ96EVIOcQdwAmUCYAWUDD8OYgibAxD+G/u6/RUB4gINAgz9DfcA9Qn5kPzc/dL+7fvs9gn3FfnY+2EBVwIx/qX8sPvo+p7+VgTGBiYF7AL2/nj+2QSgCAkKKwuoBtICFwSmCM8O+xFpEWEMlAk6Cr8M1Q95FPwTvA6uCoMHqwjkC5gLmwj1AVD9pfh69rj5m/lF96Tziu0y69Lsl++v8a/xPPFM7aTr/+8W8lj1gPhE9jP1aPYP9qD3QPwQ/Vn7LPsa+qH5w/wo/+T+WP89/gf6OvnY+hf96f75AcABcv/R/Ob5WfsZAzEJqQoSCLIE5AMmB3oO0RKNEpsOBwemA4cHXAthDOcKWQjUAon9jvtV/GQAwAJu/uH4/PVX9cH3xvqs/Ob6bfcQ9Cb01/jc+2v8Jfzb+rr5nvfi+Gn9GwImBaoCP//9/pkAOgU1C9wMuApyCEkHIAl4DSoQRhOVF1YVZA+AC4QLVBKXGpka/hOMDK4FhwTKCuQO6Az0A7T42/Fp8pb37Pcl9tfyEOrQ5AvmrOkf8BDz/+2f6LHo1upR7872Xvk69nn0rfLa87L69f6C/qn+hf4b+/356f0EAeUElgYl/ib3kvj1+TMBMwaYA/z/7/mz9N72o/4hCBkKDgU2/wX9WADyCKEPEREVD50F+P7PAVIITw4oDgQKgQTV/VH8sP39AuAHwAS//Ln3Zfek+pr/NQN6Adf8Hvcv9dn5Rf8QAl0A3vwc+hT38/fz/MMCzQWaAlj9XvrS/FcCdwjMCxoKMQUSAgID5wiDDWgSsxf4EhUM3gd1B2cRKR6sHAQVzA2uAqkFtg5IE4sUewdI+mLyhfLp/Qv8Wfva92Lpn+TD5ubqnfQ1+NXvv+Xh5nnqdO0U+ir9GPWg87rvH+/5+jUB8P7l/0b+k/cu9k39iANyCScKw/8K9ef2Dv27ARQJIglH/wH8yPf79s4A2wfhCT8GZwKe/4v9UQYmEN0Plg8UCK37v/4KBz0Ixw22C5L/qvvB+dr6DgM7Bp0CBPvX9Z/24Pc3/kAEcgBM+yD5ePMa99YAhQAVAcgAEPhF9h74cfyaA4kFbAWd/kD6k/+qAd8HOxDyCYYFUQWbAVQJ4RF/EXIRIQswCUkNUg4rFI8T0A4bEJsLtwhyDacNPQw6C/AEoAFtAUf8iPyf+df4Dfop76/v7u546mn02fA57Y/wbuuT7CvxTfTh94P27PUG9YL1hPv+/Yf8yP0r/SD6n/2eAJEA0ANpAvX9Yv3X/QT9Z/2o/tz9lvva+7f8XPpP+/f40vSJ+o7/jP5Q/0X+Qf2mAFsEggXMBhwHSwQiAXcDHQcgCKkI4Aa/AvYC9QG6AjgF+QWiA1MAE/+gAH0CogLFAYIAL/4W/9P+j/7qAA3/ZP2J/rb9cfxh/ej9FP/YAJL/Xv1I/tAA5gP2BL4FzAX8BFQGgAcGClUMZAyLCk8LjxBbEbQPag4xC78K9g/JDxsObA/zCL8DGgYTBqAHSAQA/qn4vvNf+Aj27fNx+Tjweey+7t3qlfDR9LXxnPDp783wPfER9cL6TviA9zf4Jfaw+YD+Gf1p/YkB+P8l/9/9J/10/1kCpQJ8/S35MPob+X793wRjAUL6/PMS7vP1ggDjApgB//wV+Eb4vPzlBDULLgrOA2z9oPyqA8MIKQp3C3wHtwFaAVEB8wUgCzgJ0QYpBH0B8AFyA14HtQr0B9sCT/4V/O//LASEBGYDv/7y+Jv4WvtRAN8CrQBp/uv6bPtp/tEBrggpCicFVAFgAAADLgu0DiMM8AyfC9MH+AlUCx0NexGrEG8MmAr5By0HpQl1C0kLmwWZ/p35EfgK/EL8Jvki+CLzJe9W7zfwL/S+9pX0/fDD7RPwq/P49m/6evjf9M70VfVu+Z79hv3m+9L8Xvx//Gv90/3P/h4AH/+y+2H5evly+kX9WwCGANX+wPjk8SLzSvoXAWEE7wB0+kz3f/lJAVkJGQ2jCbwBf/28AIsGAgyJDdEKjAb0ASABCQY5Cy8OQApnBA4BWAAPBMkHOwjKBqgBdP1k/Jb9VQB5ATsAjP10+Uv2YPbs+Qj9M/+r/YH44fYC+Tn+NAWWB10FcQHc/rUARwbxDA4PFQw+B9EFEAh3DYYT4RLMDk4KeQcYCnwOiw+RDcMIJQR0AkECwALbAYf+M/tH+Av2JPZN9s31RfXY86DywfHY8vHzLvSR9QX3QfbH9vn1XvaI+dX7uvwf+yb5wvkQ+4/+wQDL/i79d/qm+Zz8hP7M/qX6k/cb+F/6Gv62/WD3QvLo8oL3K/yB/zz9Ivn0+Jf6F/+kBZwI3AXwAqIBzQFABgELUwsmDIEJagSnBKQJ3gvdDFcLwAZiBJkFHAYRB8AIQQbhAoQBnADb/iz/DQAN//X9kvvo9r325/rX/M79ofxv+V34mftu/7UDSwbwBGsBhAHQBG0ImAynDbMKuQjXB4sG/grlEW0ScQ8zCgkF8AVZC2EOwA9UDI4Et/+f/5kDQgbfAxr/Mfhr9cv2Vfdh+qn6a/Ue86vy3fNo9uz3X/hU9473ZvZi9cb5+ftk+xj8hfrF+An68fq9/Ev/NwD7/K/5Evok++b9awD5/F74pvV49Ff2nfuG/UH4cPHm67DtzPX7/On90fnn9cD0IPh4Ad4IAApoB2MCXwCBBSUMVg89ETkQrgrhBxcKWQ4ZEkETqQ4jCYkH8gZXCL0LPAwMCGoCrf3y+w3+rAD3/579/Pkm9ArxjfQR+v78d/ze97LzA/bu+5sA7QS7BVYBvv5+AOUDlwnnDYMMDgnnBoIFVgbKC8wSaBM3D5MIwwKLBa8NIxKnEnwOswQw/nMA5QV4Co4JegBX90D0kPX6+MT8IP48+fbyk++v8Gb2mPsK/br5rvWl81bzCPjE/qwA5f5O+y324vWd+wMAkwKBAk792vca99H5fv54AdD+p/fV8Mbu5/Cn9Gn31/X47+/ok+Tw5wzxZvcp+fD08++R8Jb1zP5uCKwL9wdUAX3/aAVUD9EWTBiqFCUPwwoLDUQUFBoRG4gVAA3aCGcJqQzuD90PngrgAr37evkZ/BsAkABZ/bz3ffEz7/fxwffD/Mz7l/aD8o7yZ/c//uwCPQTjAeb95fxGAbIHmQzFDdYKrQbABVAHMwwaE3kUuBDmDEwJ7QlEDywSExNwEpQMYgYmBJQFLAi4B8kELP6e92X2DPbb94r8MfrQ9Lzwne1v8Lz2gvmd93z0y/GK8FLz3/gX+9n7Lfv69o/2O/pU/IL/zAEz/6T7cPmF+A77Lf9d/rL5nfTZ8E/vSfFH9Gn1jPO17snodeey7Rf1EfpI+xD4v/Qv9sT8bAVNDRkOGAiaA6gFyAtxExIYKhdlEuoNGwwwDhoVThjeFNYQ2QvAB1MIqAmmCsgKjQaQ//D6e/oI/JD94f16+wf3dfM+8RHziviF+3v6zPed9CL0UPfi/GMB6wLxAGr9Ov1pAbsHMwwCDZQKkwe9BqcJKw+qEwAVzxGDDY0L6AyQEH0U4BQlEUsKaQOWAbcFWwnrB3UBvvhC9L/05Pf9+nX6SfXi7xXtKe/K8//1tvVV9FfzsvJW8931ffmI/HT9Jvyo+g767foj/o4BugHJ/vT6P/mE+lX80vza+r/2fPKi7zHvfvD88K/vEO677K/qt+l46zDvQvR19zj4DviO+Gz70wADBzcM2AwICm8IjwlpDzUWdRiAF3oTAg/BD8YTZBjTGT0VOw8KCxYKXwzYDRgMWgjhAnb+7vy2/IP9Ef2E+pP3VPS78t/y+fNr9q73E/cz9lL0jPOf9tL6Jv5KAGn/cf0D/cv/CQU+CnsMUwpSBykJEw1kEXUWCBe9FDUTlRClEH8UDxadFPsQuQzTCIEGVAZxBYQDQgFZ+032LvbE9ZL1OPZZ9DHy2PBL76bvCvKy9Oj0JfO78mny5vNx9+T5g/s+/O36kvpI/GX+6/+6AJkAc/53/Af8ivtA+0r7tPgg9f/yy/CR7+3wCvKr8Xnwye3f6rvrWvAC9SX5Afv7+HX3kfni/v0F7ArVCv8HCAaFBxkMDxLVFfgUphFvDqYNghAtFFIVchPyDyEM9Qn+Cd0KswqdCLAEEgAv/YD8Bfy9+0f7IPmA9mf10PRU9er2x/eZ95H3Sff69jD4Bvvt/Wz//P9y/6X/sgEQBNMGHQq6C/8LcQyDDZwQChS8FTkVuxOWEkkS5BLoE2UTCBDxC0YINQY8BmYF+AGH/a35/fYn9k72svX/8z/yDPCt7pvvlfFn8obyyvHv8O3xJPQf9ib4jvmx+af5xfpU/aL/7wAsAS4ARv+t/3//S/8J//b8Ovqm+C/3n/UN9Zrz/PEp8o/xsO8D7+TuA/DS8l71Kffp9/j3WPkp/AX/3wFnAyQEbwXbBjoIYQrtDMgO1A/oDzUPCg8AEBoRHBJ8EsQQFQ6VDMgLOwtVCooHRQQ6AtsAKwDP/x/+PPu6+CH36fax9x/4Cfc99b/01PR49Tz3YPjj+Jf5uflE+i/8jv71AHcD1AWIBwcJCAsYDSQPshH6Ez4VVBaAFg8W0RVGFTsUkhOZEvwQ0g77C9wItQUXBMYC/AAT/yz8wPjZ9lr1MPS48xbzS/KV8T3xwe+C7iXvc/Ad8iD0V/R280Dz6PM79Tn48vqV+9X6MPm79zP47/kH+wf7x/nG93716fR09ob4xvk2+a727/Sy9RX5Yv3xAOYBKAC5/lP/CgJ4BnwJLQmwB2cG6gXLB9IK0AwMDYILzghJB8sI8QqwC0QLzgjlBecEGwWGBYcFCAT/AEH+M/2Z/fb9lP3a+wH5aPdO9+n3JPlV+QT4hvaU9cL1gffZ+UL7Mvt7+tb6EfwF/qQAHAPgBDAGxQaZB8oKrQ7IEJQS2RJOEdEQSRHJEiwW+Bd0Fd8QmwzyCT4JMgrwCXwH/AMS//v6OPte+4L6NPke91P1DvUX9R/0AfSU9PvzBfR69db1SvYW9yb3i/dy+Zz6M/tU/F/9Yv1o/YX9sPyz/GP9vPyd+/r6qvjL9sr1GPVM9U72Mvbx9NbzhPO18+b19Pj5+nP8FP1F/Cj8K/7DAOMCvAQ7BewEzgXaBscH9AluCy4L7QorC2gLWAxsDWUNmAwKDK0KVwk7CRkJHAi4BlkE2wF1AM7/Of8u/l386vnU90L3m/ei9z33pPWy81rzIPQt9RT2ZfZZ9qn2+vfm+Rb8Mv7Z/2gBdQPSBYEIDwshDcoO8Q8REWgSyhMSFakV4BQmEzsRnA/MDiUOmQwxCscHRQVUA0ECLQFC/3H9qPsl+qT5W/ly+F73dfan9TL1fPW39cX1J/Zk9nj2Ivfw9zn4xvgX+gH7hPsd/Oz7lfud+0b7zfq8+lH6ifn7+Ln4FfjY99b3fveN9//3KfiP+MH58Pos/J79h/7z/o7/QwAzAXUCgQP4A0IENwULBtsGrwcHCOQHawgTCaoJQAo7Cn0J8AimCC8IvgczBwsGywT3AwED7QGuACr/mf3t/Jf8Gfxo+2H6Ovlx+CX4Ivi89z73svYv9n32avcn+LT4EvlH+VD6LPzq/UL/3QCZATkCyQS9BzUKPgx8DI8LsAudDB8OLxCfEfgQOw+QDTkMwQsVDFILSAl9B8QFoATqBMsESwNnAT7/Q/2H/Ob8Ef2j/Lb7Q/rp+Mb47/jl+Bv5GPmq+MP4Wfmm+RT6ZvrT+TL5cPlG+QT5yvjb98D2BvZ49cr0VvQc9HTzN/PW8zv0ofQl9Wf1MvYq+Av6rftZ/ef+1/8NAVQCNwN9BOUF5QZGCI4JaAoLC2ELhQtQC2ILkAvTC0kMkwz8Cx0L1wlQCB8HLwYpBfoDsAJwASIAO/9//tr8QPvR+Uv4vvcm+BX4Jvi/93z2c/Xq9O30jfWs9ob3/vdz+PX4d/m4+i78TP2b/qX/DgGgAxwG0QisCggLIQtFC+8Ltg13D8MQSBGoEMwPxw7vDdEMNgsICvIIBwg/CNUHvwZ0BQ4DmABe//3+qv6L/t/9bvwC+2v6r/kI+fT4Bvgd97X3TPgh+VD67vmS+Nz3bvdU9234MPn4+Kn4Qfgb9yb2ovWH9LPz2vP485D01/VL9jH2RfYV9nr21ffs+Qv8Bf6v/58AdAHWAsADYQRgBRIGGgcuCeIKHwyhDAIMIAueCvEKzwtXDI4MDgz8CjcKWgn5B8oGGgVQAzYCZwHaAEUADP83/UP7tfm6+ED4Zvg3+K/3bfck9/n2G/fR9k/28/X89c72SPjX+RT7hPut+wX88vzG/tAAvgKwBBIGRwesCN4JHQsKDHEM+wxDDYYNRg7/DmIPZQ+WDlINLwwuC3IK2AloCZoIXgcsBp0E5gKcASMAqP6t/Xf8cvv3+lf6rvnI+GX3CfYr9TP1vvVj9tf2bvaP9ev0r/Qd9d/1K/by9av1mvXa9Vz2hPb/9TL1qPS49M/1b/ei+En5Xfk6+dv5fPuS/Z7/JQG6ASYC8wJGBNkFRgfVB7wHwwdACFUJzQrNC58L4ArPCdQI3Ah5CaoJTAkeCIEGMwVYBLUD5gK2ASkAlP6U/VX9Wv0m/U38z/qI+fH4+viQ+TH6Ofrr+YD5bvnF+VP6yfrZ+sn6Efu4+8X88v0H/5z/7v9yAEUBXwLqA1MFWgZqBxkIrwixCc0KpQt0DLEMdQxbDJIM1gw5DacNUg2UDAQMNwtECsEJuwg3By0GCQWWA7oCsgEaAMH+e/0Y/BL7Z/p6+Zj4I/h697j2nfY89q/1pfVN9e30JvVo9Zb1uPXP9Yv1efWl9av1lfWj9WL12fTw9BH1UvXT9Rr2HvaQ9iT30vfi+Cv6e/vk/HL+AwBJAaYCwQONBIIFZwYtByMIBAmmCSUKXApICuUJawnhCDoI5gerB0oH2gb6BasEUgNUAnEBsAAGAEP/TP7S/Z39b/1v/SX9UfzA+3/7hPv++4H8pfyY/LT8yfwV/aX9xf2g/an9Dv7q/ksAcwEGAlcCZQK5AqoDBAVHBiAHqwcsCPsIPQrYC8AMCg3MDEUMSAzMDLENUw5WDrQNbQxaC3kKYAk1CNUG/gSNA4wCeAF+ADb/Zv2j+xH6AvlH+Kf3B/cw9n/1HvXO9KX0fPQK9KfzmfOq8xf0k/T39B71HvUI9ez0yfTB9MP0yfQX9Vn1qPUR9kX2TvaK9tv2iPd6+J750vor/Jz9IP+PAOoB/gK4A2sEHQXrBeMGzAd8CNAI7wjQCKIIYggFCG0H5wZhBqcFGQXCBCgEdQOFAkMBFwBA/8z+vv7n/u/+sf5d/gz+2f3c/Rj+NP48/lf+gv7M/kf/5/9YAJoA1ADqABABzwGNAkIDMwS2BAIFhQXvBVkG9wamBx8IuwiwCXYKNgspDKYMsQwKDboMWQxbDD4M+wvqC58LlQqACVoImQYJBekDWgL8ABcAuv5Y/ZX8WPv5+RH50veI9vL1m/UE9eT0yvQo9LHzwPOA85HzLfT986LzDfRB9Hb0R/Vr9er0n/Rg9Af0hvRH9Vn1O/Vf9Tb1o/Xj9q33Ufg4+bv5T/rM+7X9gf9WAYoC8wKXA6cEhgWoBv8HfgirCPUI9QgTCUQJ1gjYByIHmwYYBu8FwwXvBPsD/wLFAe8AigDr/1T/vf4l/qn9bv1D/fH8qPyC/Fn8Zfzk/F39sf3k/Qv+Zv7+/o3/FgCPAFQBVgJBA3YEYwXaBaoGiQeNCOcJ9AqqCw0MjgzMDSEPSxDdEPwP3Q5VDhQO7A4PEOgPZA4mDNUJDwheB+MGRgVNA1YBw/5E/c38YPu/+ST4yfV/9Iz0gPQr9K3z0vKH8UjxCvJ08jXz0PPg8nzySfPD89b0MvYw9sf1nPUw9RL14/W09tL2+PZD9+n2Lfcd+FD4z/jY+UT6HfvT/Hn+//92ARsCNQLrAg8EWQXhBjoIaAjlB7EHXAeABzcISgi4BwYHCAYBBTcEowPOAugBMQEwAGX/A/8P/tb86/vo+kz6mfru+vT6pvr7+TX5EPnY+er60vuO/ML80fyE/VT+Sf+WAIcBTAKUA90EMAaRB6sIkQlqCtcLPA2TDhAQ8xBSEW8SKBN8EykU7RMbE7UScRICEpkRtRCzDl8MqgoSCW8HjQacBGoBLv/b/NP6TfqJ+cT3D/Y19EDyLfEo8eLwSfBO8A7wnu+M8P/wmPDh8O/w+vBw8v3zu/RT9Sn1ZvRb9Gr1w/bs9+j42fgt+KX4nfmx+jn8/vy6/Cn9Uv4BAGwCPQTZBL0ErwRvBeAGtQjmCWoJdAjIBy0Hyge4CIUIdweoBbIDagIMAvsBLQG5/xb+T/xb+1r7xfrn+bn4G/dH9qb2NfeL94f35vYz9n32j/ev+N/5x/re+jL7Ovxv/en+gQBuAR4CUwOtBFsGQAj8CfYK2wvzDDwO1g8JEscTahSYFFIUuRMJFBEVqBXWFeAUoRIGEEQOJQ1LDG8LkglbBlEDAgEX/xf+Kf0g+7D4xPbe9OPz0vNb84fy7fFR8dvwIvHS8efxSPIa8zDzt/Oz9Pb0UfUq9lr2cPbI9tD25fag94/4uvih+MX4YPjO+ET68/pY+xD8WvxR/Vj/RAGIAiADFwMAA/0DMgbqB5wIfQg4B3MG6Qb0B5gImAg6ByQFtgOTA/oD1wMhA9wAVP5d/Qv9Jf1U/ev70Pk1+Hj32PeN+Hv4iffD9R71sfWp9nb4YvmD+DP4S/ic+K/6o/yQ/VD+7f7c/1oBuAPyBboGugfaCGwJhAzcEOURAROHEjoQwhFuFUgYoRk/GL0Tpw/6D/gSeBRjFBsQggeCA2IEMgXzBx4HZP/3+GT2q/YZ+hv9FvqA80rvs+7H8Nb1vfiF9MvwMe8M7lXydPcz97j1VPRp8vHyEPbo98T3APhq+Nz2dvfR+MD3cvlW/K38Of2Y/cb7Tfzr/+0Dfgb9BhMFVAJkAx0InAuJDX8MigdyBMMF3gjeCwoNjQnaAxkBZQFzA1YF/gTVAEv8AfsC++v7S/1++/H3N/Za9Wf10fYQ99n1kfSJ9FP0bPQX9sD21vaz+ED5XfiR+an6rPu//tkAzQBHAAMB7gF0BEAIAAoRCbUJPgtvDPgP1hGKDyAPNhA5Ee4TiBWqEnwORQ2SDbkOKhBNDmgHcAPuAmMC3ASoBbb/pPrC+D34nfqm/ZD7cvba8w30EvUp+UL7GPeI9Ej0jfOw9sn6UfnG99H3d/Z69vD4gfnc+Jb6ZvvA+ZH5fPmw+DL7+f7P/hz9+vtQ+ln8zgK/BuQG7gRLATIAgQTrCrINcgyMCOUDhgOHCCUM6wx8CuwEcwHZAZYEAwYFBVQCL/4m/HX94v2F/TX9s/qE+KH4PPiv9+n3fPfo9rr28vYA9o71y/Yi+Dz59vrN+Uj4SPnl+jf9+P9uADP/Pv+PAHoCqATbBmQGIAZhCS0KtQrRC7QJ8QkoDSIP6Q7uDbcKCghhCTEMoAxsCW8Fkv/8/RUCKwMdAkr/Hfl09fH3L/tP/Dj8Svhk80TzWfc1+iX8WvyK9+b03vYK+a37xf7N/Gj5MflD+T76Kf26/ln99PxZ/Sr8Wf2g/0MACgKtAmcB6P9MAXgDywW1CPoITgbdBUgGtAfjCpMMeApLCAIGUAXvBggJ4gg7BiEDGQDO/k0AVwGrAJL+Tvvp+N74Q/ou+6D7CPrO9wP3ZvcH+TL6DPrQ+Qj52fjk+Rf7GvxY/bT9Dv0U/pX+Vf+6ANABrwKLA4cErwQtA6YDKwUEBuwK5wz+B/QEbQLXAjQK8Q6ADJkFFgEf/tMB4AhRCg4EU/2R+J30SPuUAc384vrm9kTwWvPa+Az5rvnj+Rn2L/Rg92/6dPpb/sb/jfri+7n9bvsg/0ADEgEaAZsBQv2p/EsB9QJ/A7gEDQLu/GH+vAHnAhwHZwcSAb/+rgEhBKYIVQwtCdsEIQXlBIUGXQv5CzMIgwbjA/wBmAOcBcoEUgO1AX79dPqu+3X8Lf0d/in8aPe09fr3rvgd/M79vfnG97n3s/fZ+t3+Yf/Y/W78nfuD/Pj/ewSVBLsD2wM/AV4CfAbdB+cIBwrVB9wF2gXDBjMH9QkTDsALpwdIBOj/xQGgCcMLYQgLAy38dvhE/ecCcAPb/SH3TvBr7in2Hfkq95T27u+E6xHvmvJl9QH4Yfci8zjxFvVm+C/7OABV/ez4V/rl+p386wGOA7kAEf8R/h78qP6CAyEEGwRQBGcAQv77AU4FzAioC4YIGwT4A7YHKQxMEMkRGQ5PCq8JPQrgDLkP8A3GCT0GVgNxAdsB0wKkAf/+MPtW9hr0dvUP9wD3zfZa8wrwkfAP8o31SPh/+FD3t/UT9qP4HvxYADUDggGeAH4AFwG5BjML+QsvDHUJbAd7Cf0M6g8NEoARNw47CmYJeQrpDVwVOhSdDN8F0f4bAGgJIw6tCjYCkvfZ8Yn15v3bALP6CvNs6fHkPO1u8UTzJfUW7kDoxehH6zXxOfeY+K70L/H28UD04PgqAKH/xvwm/CL5kfmo//IBBgJXA+T/5vuz/N7+rQHaBigIJQRVAZ4BpgPzCIYOyw0LDCMMhwt4DeUSIBVuFOETeBCxDOIMEQ0BDBgMAgpABOj+8fvP+bD58Pq894byJe9P7DTrPO4H8EPvze8B7n3s7u7i8vP2HPr9+077nfpz/twCLwcXDGsMTgo8Cw0N7A9aEycUexI7EuoSSRPlE4cUrRKEEJQQsg93DgAPxQu1CEYIJgb7BL8CUwDz/PL6aPob9yT32fXY8WDx6e/27b/uSu6i7YztbO6L7qHuM/Du8NHwcPPq8zHzpPXq9t72F/pA+k34HvkL+i76+Pvx/Pj6Avpu+6D7r/xDAAAAFf/ZAP8AJwP3B6kLOAyvDF4Nmw2gEacWTRh0GPsXwRSBE/UUThQlE5gPoAqKBdUBrAHk/eb6Ifi48TPut+zo6l7qVuoq6Snoxegk6aXqweyC8IXyU/Tx9yP6Of0eAm0EFAa7CHUKWgxwDywRKBHTEPIPLA+oD6cQrQ9qDUQKDQfoBcwJ5g5YDmsKtQLz/C8AwAjvDiIQFgskAtv9YQC8B7MNUAobBMX6TPYd++P8sf///oz2/vFV7wXuDPE/8uDwTe/p7Fnr3uh76Hjqoups7Qjusesk63rqsOrI7z71mfc7+BT4Z/gf/MsDUAlfDMoQhg/hDuoTjxakG1MgfiAXIN8eQh2NG4IanhrtGBIVSxDZCcsDtgEX/xv86fhZ8prspuhF5s/mpOcN53Pl0uOs4zrmzeqE7+Xy8/VZ+Lj5Pv1sAR0GCgvQDcMNPQ0yDncP5hGAEy0QbQx7CRwHTgi3CNQFlwKU/73+4/+6AG8A2v4Z/xABkAIVBfAF9wXTBwoJwQipCbsJtAhaCXsHgwVnBOoBRwCG/Uf7/vhy9iz1u/I88JXuI+277FLtXuyZ69TsJO0L72rwpPCI8qP0WPdf+WP6lvsJ/d7+rAHoA+QFkAcbCAoJwwrHDK4OYRD3EGMR7RGCEvETRBRMFKQTwhGwEC4PxwvXCNEF6AL2ARkA7Pxs+Q72ufOU8kvypPEP8OXvfu/d7+vxFfRj9f/25fgI+RL7sf1w//kB2wNXBDQEawT1BBMFrQVXBR8EbQMfAwcCuwBfAD3/Qf8ZADUAnQA5AXwBWAKXBLwGuQgMClEKJAukC44Mcg3gDJkM2wrTBx0GvALf/x7+MPp19/704vEU8DbumOyI68nqw+qT61jsHu4C74Lvd/FR8/n1K/gb+aj5GPo6+3b7ifym/bn+RgCnAS0DNAP5A4QF6AfiDAIQeRA8EPUO9hCJFUEZLBu/GBUVxRLHEYIS0BEUDqwJDAUoApkBsACk/o37+Pc99Tf0JvRa9HvzFfJw8Qny8vMm9hn3VPet9zD4kPmK+wb9v/4AAAAAzf+C/8z+4v4o/8z/OP+d/Wv86PmY+Rz+CQIoBtsG/wL2/2AAewarD88W8RgsFUsOuQuvDY4RjRSpEq0LewTs/hL8+PoX+hH4QvSk8DbtRury6M7oxOoW7SzvdPCc79ftzu3N7zDzZveI+dH39vU29KXzzfVn99z3Zvd59+f4+voZ/V/+J//lAJkFeAqCDn0Qgw9zEA4U8Rk/IHAiMiF6HcIYMRf0F7UYOhiIFE0NuQbGAhUAiv66/BP5BPW28TbwE+8W7jzub+5k8Ff0Y/Yg9+v2avbG96/7zf9vAjgCjACg/qX9aP5j/1n/1v6u/Uz8jvrs99r13/UN9zj7EgKDBREF+AQOBeEGxQzWEpIWOBhYGR4XdBKKEX4RYQ9tDb0JNwOM/OH2H/Pm8ALwIfDl7Z3r9+rA6S3qYeyM7gPyTvRq9cv2iPZ89nT3nvcg+An5Tvn19x32kfN/8aHx1PJe9Q/5F/uA+xv8Jv3n/uIBiwatCg0OLhIYFWsWMBlMHLEe0CCVIP8dkhq6FtASShBDDm8MRAlUBBL/+fhJ9GjyYPGr8fXxVvEt8Crvve+58fz0yPhD/TgBnwItA28D8QIqBB8GmgbzBX8DHgAh+973RvcP99D3YPYQ8wTyffFJ8WnxBfaX/gwJVhNZGLMZoRkoGUIcwCLLJ6EnMSF6FokMTAf/BXQD5f+/+mjwiuiU42Dfkd8I4f7ix+Tn5dbm9uRr5QTpWe1q9Fn4o/ZC9N3yjPKB9AL2P/ND7+Lq+eiq69bv3/PY9tD3Qfc696H63wCvB1UPaxb/GusiNiyLMpA17jVXNOUxnjBjLzErKiSpGkUPsASi/2P8R/eU8SjrJeUe4Tvgw+Hc44rn++w78tj2Zvra/U4BpgSRCXsN3g55Dx8OJQtdBqgBo/t69pf0KPKb8Ebut+gF47/dctxx333sJQZGGs4f+xYtAgn3pgNqIXZAHlFISWQvzA90AekGzxHeGacO2fef4d/P184H09ra3+CZ3mrclNo63fPixuau8MP/IQnyDJcHRfr/8GDvrvTD/dQA7vty7L7U4MnQyLfOH9yn6en8HQmVDHgL/wE7ACsKbSPmQDlXpGDBVfVEYD4PQepJX1C6Ti4+RCOPD6wB7vwRACP+/fYD6HbULcSEu4zAE8zF2KbhCuGE297XatkD5ZL5hA+HHi4iiBhjDhUHogNBBmwJkglPBHz5OerN3RPVOtLN0nvS6NJE37IBOSJsKpUfxwXD8aABrinQWSh11GznUWge1AQSDBIORBSNCbXwANdNutK4x72WwznNSsZ3xRXKA9T522Paj96266H8CAsFEHoIcfha6y/o8vYQBkkLogWy61rUBcrfyajZ9uokAoIQNw4BCkYASAFuC50aNy5fO4JLilaGVqFTYFV2WABZ0llTVLJEMzO2Iv0UUAlvAoL5cuao1pbJv7+OvRC/xcMExS7GeMtxz6/ZY+m6+RwJohSVHWkdCBdQF4oYchsnHsEVIQmM+UbsHuSl3sTcZd6T34vfod944jnogu4k9o4H5hVZISwqNSqoKa4qNS8eNZQ0CCt5HDkIfvyZ+FL0hu/U4snX9tSNzUzM18iMwljFV8S/yvfTsNTt2nPd8t9a6QfvnvNN9tr02/oN/qf6B/pG8YrtD+9G7hv2L/pu/RcEDwArBg0RKBYqGg8Y1hllJ+w5fk95XP1gD11tVOFJkkRdPy05UzAPJJUZFxOhBkv5eu2748ndPdz83XDfftzX2zbcDePO71n6hgCwAv8FLQabB+sJwgzQEoYS5g4IA9/0deq74GXjZPAW+L7yNeJCzyLLatkc8yUIPgu+BOz/vvwpCxwboiq+MP4mLCSTGz8b+x1DFHgLJAJt/7r+GfXP7rbjddRBzELMyNDb1eHVhc4ZxcTBQcuK2v7ivOu07JboSuqC7eD38/t2+Q34A/LQ7c7rn+gz6uLvb/qtBJwIYwsxDioRAhLZGKokBDZHSJlUzluZW09YwlG8RcU8vDbVMYIubiQgF1MGDfVk7P/s2PDk80nx6ucK4F3hWOoo95z+5QJrA7MBv///Al0FtAcdDskQjhF6CIz9cvVj6onn6ehr59Ljot4J1/nPWcrdyBnIy85w9IArHkcLOzEW+OgX3n4Hs0hhf/9/6F+zNZzvGe2R/dgKrx6A+fPm58XipoXCX7i9uO2+/rFhyIPHqtCM3Y/Ft8cH19vmKwBJCT0BAfYl3NHcPPP/7TYDrwWC8WHx4eCk8Sf9rfyLJ24okya+KCIULByKH3I7f1amS0VN/kPyMrksly2LLbgkshkQFB4Q4AT/BxsHpvIZ8N/ttvLW9/Lxmvsj8A3pCvMq8jP6dPlY+DX58+96Ap8TkxX0FZkJdgKg/RgCDBBwDdIB0Pfr7aLkk+PE5FXgWd1a4Zj0yfwZBFoKZgWBCgcObyBuLx4riCmPGEUN0gxQDQcRdQJm8QrfzM63yHTKEc71ylnEtryCvF/CT8wy28DgT+ag57zl2umi60z2CwC5AEUDEf2l+/39UAA3BVgENQaHC5gRzhf4GwMfUB4IHYca9hz7KMszSTwwO5w3ezZWNfMzmyxGIy8c1BcLFzwU6g7QBtH7D/VI7//tbO296YXlDeGk4R3n6PKC+9/89vct8MXwj/YoA1oRtBjjGmcTiwtQBQYE1Qh7DLALWgYlAH38b/sO+PPsGeGw1wvd/+7w/4UMjQ6ZC9AHtAgdD8AXEx4fHooYvwuRAAf54fKp8OromeHC10vS7NKwz3PH5rsItjK4qcBfzKvTaNeP10LZ19pf4AjrRfd/AkUHjwjKBGD7t/g9/pgHXBIgGuAg3SHuI2AokilOLB8tEi5+Mfo43kk+VUVWJU67OsotdycKKQUttCkCIpER//6U8Ubp6ecf5yblzN+j2O/TF9VE13nafd8e5I3rN/hXAUgFBwH5/N7+cANODmEXFhqcFz4SnQ0yCv0IZwinBnUFzQQbA6j7cvA55r7iHOnN9L8B7QIy/1n6vvslBM0MbBbiGF0UIg7vBJwA9PwL/D35PPNZ7H3ghNRUxea72LnDtyu6HLqCuqu7drtMwpjImdHI2xjeR+Kd6ZP2VwOuBcQEvASKCO0RIxseIhMn+igeLLcx0TUdON02yjCIMRQ4XEQVT6hRLlRXTItCtjqANBQ1ozH+KeweMhB4B8b/+fZo8ijtduiX4dDW889+zFzLSc5X0mXXRt3g3s7ds9w131foL/TL/nQHsQo9DR8P2BEiGYQfFSKnIEkcPBnSGIMYqhX8DZUFbAHPAOUAnwLY/6H76/uk+Tz75/2IAD4EdwScB1MHqP8e9wTuJ+em5FLih9191XPL178ltLStwa4HtEW6U781wdq/DcCCxWjPStw86lP1T/1+Ay8H8wouDugUmx9QKOUu7DGEMYowvi/EMy85SzydP20/sz76QDpEy0XEQV07hDaXMRsuFysXKMkigR09FicN8AchBqwEQAGu+430zuz+5jHkN+QT41biQeEQ3Y7a39dS1WjVANee3qXkDOds6NzlH+YG6hrxavszAdQC5f8W+yD8aQPtDXIVUxQBDU8FTgGSBsAUniSXLsYuHyU9F3oNfA0UFrIccx1dFqUIc/j66SDhfdu42VPbodiVzcW9dbAUqmOuHrtRyP3Q5tQK1q7UidT12hvoNvijB1URWRWpFLMTlBQaGD4gFyofMSgxhCtVI0gcpBrWHHYhASRFI8Eg5hoAF4cVxBWNF9kW3xYfFWASyRH2EewSXxGtDOsHRgM3AYEBHv8F+lrykek34njfluBP5LfnluhT5g3iP+C45frwBf8MCFAJ8wMD/zYC6gmlFOAbvxt3F0sPHQlOBtcGIQt8DBcNDwsUB1QD8P05+x/7vACFBzsLNQouBNn8LPYz9EP3cviT+d/19u/r6Wbk++MI4wbiSuIN4drhceJh5EPnA+gJ6iXtefFR+HoAYwfjC0cNzg3uD2cTsRmxH5gieCLhHiwaZhasEjwRfw75CtAGzf+D+rb1o/Ne85Xw6u2e7CfrrOsn7FDtYvBk8+72/Plq+1H7yflM+Kz4t/stAOUBRgGx//78Mftb/On/2wUPC6INfQw1CIUHVAliDQgUfhjSGbQXtRYXFi4VfRVBFfMTdhMVEa8NWwtzCbgIcAfIBMoDHgEU/p/7lfj8+Ln7Zv4g/5D7HvcZ8lzvifIc9qL3Wff18rnteunQ5oHnQuv176L1Mva38jPum+rn7MTy6vrYAvQG2gd/Br0F6wd4Dc8VyR5mJBgluSHyG0AXlBYrGHUZ+Bh8FWkPCgjy/5b50vS/8czvIeuM5aDgn9wN233ZItgY2c3aPt3s3qDeit4B30rhTuWZ6RDt9e7G72Lzn/ec/NsCTQkJD70SjhMEFPYV7hlNIHck4iZ6J10mtSRpI74ioSKwIUQfxBzKGdMWOxOUDisKpwdWBZoCnf/M+/H3avTv8XXxn/Fp8Tjw8ewB6tTorucO51LnneeW5tXkZ+Ri5LDllubJ5i3n3edI6azri+2v8P705Pg9/MUABQcRDSoRwhTsF/MbuiHrJnEq7iwlLaQrzygTKHQp5ykfKvonryIhHZMWwxHiDiYMZwm8Aib6TfNn7YbpXefz5ZPkKeIo333bdtbt04nUo9QZ1lzXYNeY1bDSDNPG1u3bguLb5/XrV+9g8mv12vkf/8IFAwyOD6YSVRXuF+wbSCBWI2wjzyG3IBMgdCHjI1cjrB8kG2AWgRIaD/UN1gwRCgwIsAUCA/oA+f0u+wT5sfhF+P/2sfQo8hLvZ+y56b3o0+hJ6BLnZeTo4RPiDuO15CHnBulu64ftJvB09bH7xwLNCHkNyxOSGdEeTiPuJa0oEys0LYAwbjLIMrcxMC5HK/ooViYaIwMfUxriFCUP7Al+BCT/Bvud9vnx/e1w6pXnvOSK4GbduNqj2OHXMtfW1aLU9NEHztLMe87M0v/XVdv73Q7greHt5EPpSO3J8Eb01fgm/k0EiwnvDF4OeQ+fEcEUgRhjG8IepyDrH70elBxwGsAYRRcUF8oYshlCGFgUHg+yC0wKOQq/Cg8KUAdqAmL8Z/hw9Ur0NfP58M3vQO6D6yzpKub25G3lUeV85mToTun66gbtBfCg9GX6AwDVBFQIXQzQD9cSgxbYGRceQyL0JGMmfSc4KDcpHSqyKTAoCiZoI1MhMB/+HBMaLhayET8NAgmKBb0DxwGm/pb61fSB75fr4em056rkOuEO3U7ZfNWo0hnRKtFf0rrTy9WO1yfYm9ij2ULcXeDQ5Pro+euz7l7x3PKf9Yz4kvs3/4gDmQffCg8NTQ1uDAgNuA89FDgZ2xziHVYc7hnOGJcZshv0HHYc0Bp1GIkV7RJlEDwOxwzzCrgIGgUhADr7//Yq9KnyRvGz8B3wde8t79jtSuzI6ybt2fC+9Sz6P/wS/En7rfsa/oQCYQezCksMUgwPC1ALCA0qD5QRoBPBFJEUXRPOEZsQCBF+EvQUKBaGFWwUYBJaEHoPlg87ECMQhw7+CiYGogHq/Rn7QvlN+IL2Y/T88InsZ+lt6Irppevu7NvsHex16qXp+Oq67bfw/fKa863ynvCa78bvSfBp8qb0jfYl94T2C/UG9GTzVvSf91H7nv4SAAMAYP8IAOMBcARDB6cJpgolCokIggfuBtcGVQfVBmEG8QVZBFoCPABP/kL9lPxB/Lb7CPv0+qP6cPry+uH7A/0H/u7+0v8cAG0AdwG5Al0ErQVfBk4Hhgh0CTEKHAu0DN0NoA6QDvYOjRH1E8EWDhiTFyMXbBZDFkkWLBalFRwUPBKaDkULCghTBVkDuAHQ/9v8rfiw9CnyofBL8CbxZfHQ8UHxPPAK8NnwJPNs9qv4gfrZ+wH8jPxV/Pz8l/4nAEAB/QAO/9f8Ifuf+wD9+f9+AzMFSga6BboCeAD3/7cAWAJnBCEFZQShAoj/jv1g/In84fxS+9P4J/XS8QXv4Oux6f7nL+cZ5y/mYuWJ453hE+GE4Z7kP+jC6+HtMe9p8BjyA/V3+fr9bAHGApoDuwOXBPoG7gn5DRQRnxK5EnQSchL1E/UVYBd7GH4ZhRrUGisachnIGPkXHRdjFbUTPBIvD3UMVwrMB94FjASxAr4Arf6Q/EH7qfo1+vn5vPly+RX6O/tY/Db+kP9RAKgASAFKAoYDKQVxBvEFlAXOBDAEJAQ2BD0E2wP9Aq8BSQBt/xz/4f5A/3L/QP+n/l/9FfzZ+9z7r/sN+wf5YfdP9bfzA/K78MTvse5g7Vbs3OoQ6X/n2ObQ5inoNeqw64zsUu257cjupPCh80D3Pftl/qkAQAI1AzYFyAeaCmgNTQ/EEIoRTBEQEbUR2BJSFLgWthf9F3oYgRccFqcUShTuFOYVlBUPEsUNeQn9BUYEOwP8Afn/5Py7+Hv0RfFH7+7tcO2S7ErrVupS6YPo1efx54TpSuy770HzyvUT93r3bfhq+eH7KAC3BMMHlgiXCPQHyQh4Cr4MCxAfEoIS7BGLEIQPkQ9+ELsRbBK8EuwSABJoEOwO6w1PDV0NPwzsCqsIQgVzAioAmf4B/TD7jfny9nX0evJ48d/xXvLq8nbzZvNB84rzMvQ89eP24Phr+oz6lPqd+hT7SfwZ/Qj+Cf55/bz8E/zC+xX8hvy8/Lj8f/wL/IL7Bfu6+tH6Qvsx/N77CfvJ+fb3bPa/9XT13vQ39MTyA/FZ7/vtye2s7tLvrfC58CDw3e978PHxifRW96v6if0e/zQArgFXBBgIXAyiD7sR1hJBFD8V7BXmF7gZXRtjHFQc+BtVG+Qa0xqnGk0aEhr0GfEYExdfFJ0SYRGUECAQVg9bDagKuwY8Ay8AbP7+/NT6M/gO9QbyFu8J7fDrdet07MfswOwj7OLq9+rj65ntzu9r8YzyyfJ78oLzL/VF95P5GfsS++f6r/rf+r777Py+/cH+Qf8TAFIAWQCrACsBhgEHAhMDfwN+A0cDugJzAs0COANaA14D4QHB/zP+Pf0E/SX9I/2D/LD7GPua+vH6tPu7/GP+YP8WAAQB2wEdA6wEPwYxCCQKsAs8DAcMIgyADHkNdg5MD38PZQ4uDRYMDwtVCl8K5QkkCXEIbwdDBlMFhgQhBMYDbAP5AYUADv9D/Sf8ZvvG+vr5x/iY91b2v/Tk8lPxWvBk8MDwgPDW7yDvZO7U7rPvR/Ea85H0YPWW9UL2MPcp+F/5C/qO+j/7HPw3/ZL+AP/B/zQAYAFGApYDfAQIBTUGxQbuB3gIVQktChUKDAqDCQMJmwiECPwHggdNBoEEVAIOALv9GPw6+6D72vsK/Pr6Mfnj9zv3xfdO+Y767Pt5/Lv82fw8/qL/tAEyA84E5QQJBTYFFwWYBW4GHwdTCZMKnguZC/IKUgkqCKIHkAifCSsLVgsJCt8HawYnBWMF5wTqBK8DmgKCAJb/BgJIBgcMmwx0CX8AdvWs7Onpauwr80j6AP/9/ub6+vNE7mfpQuid6HPpV+o76y/tU/Gy9rr7GP+n/y39yPic80PvKe5H8OD1sPuzAFYCcQAf/ZT50vZT9xb5TvxgAJACIQQfAlAAr//SAP8CpwQRBNkBwP5H/cT9qgCBA4wG3AiTCusLSw1ZD8oSHxYzGZQabxuPG6kbXBy9HJEcaRslGjMYRBYyFFUTJxEeDugKiAcWBcgDnAMcAwAC5v81/cv5xvUh8tvuXexa60DrWOuY6/jqIeqN6V/pburk7BTvwPEC9P/1X/g1+of8AP/+AEMCEwOtA1kE0wUMCFIKdAzoDfAOPQ9kDlwNygw4DBgMDwynChgI3QR8Abj+oftg+EH1RvIC8OnuKe4Y7cjrWur96GHnduYx5pblM+UZ5enkceQm4oDgad4S3MjYRNeK1oPYi9xC4jvo9O3Z8kX30vs3AO4DbQhlD4UYOSQOML87pkN0SIZIhkVPQDo8WzlYOkU8oj2JPZA6qTUIL8km6R3/Ex8KfgHf+TPzge6K6uTmi+Qw4bjcmtdH0v/Ns8tYzBTPJNSq2lXhMebx6UTtgvBi9Gv5oP4pA2QHiguIDwsUXBfcGhId/B4aID8hZCG7IQUiVCK+IcEgzx2iGrQa2hovHc8dmxoxFBILdQOf/d75TvfE9QP1/fSS9NTzX/Gb64Ll795U2tnZIdwM4N/jPuYU6OHpv+lf6oTp3edd5/fna+m97BLuBPA08QPyhPF876PrXub64RPeodws3G3dLd+u4NHjD+fb6ovtCe+77s7uqfHa9vP+eAhHEs8aICJGKJYsmC9hLywtlCmKJhgkKiQUJZImmye3Ja4iMx30FUMOhAWB/dn3VPMs8evw1fDG8DTw4+1E68foY+ZT5Svlhecf6ynwm/aY/W0DdQlvDm8SRhR4FUUWORdqGUIcDyEUJXwpFCzBLCYrCCi1IzEfOBq2F1gUaxUSGmwcCCDUG/oVIxCNB7oD/f0Z+ez1nvRr9jf55vrr+aL1uu7c6PvjoODy3x/fj99M4QPkl+cu6lvq++jO5ULifeCh3yXgl+BJ4GvieOIi5Pjku+Lu39naW9eF1dHU7NXO1yDcm+H+5yruF/Or9Wv2G/eK+Xn9hAMyC+ISyhwFJWculTRgNiI2XTBVK1MmeSJrIQEggx+bH9Uftx4wHMAWOg1uA+f45fC/6+bodOiy6GvoQekl6rbp7udk5Snjc+E24R7k7+eX70f53AEwDI0TyBi6HD4dbR6+ICklsil0LsEzmzejO6JAPUJ/Qf09BTiwMTkvvC6pLVYuCCpNJZcgrBlqFcsMRgTu+v/yi+8U7B3q4eMK3ynY5dMg0ZvNM87EyyfLUM6D0NzUe9j32sLd498g4vfkgefB6f/qo+tT7cHuEvB08d/vku5R7Cbqoelx51nlf+K44jPlUulz7ofyyPRT9Rr2jvWV9xj6e/wrAZoGEg7oFpceACSoJVYkzyC7GwUXWRM8EEIOWQ7UDasOlg5nDPsHHQE5+VrxW+wh6Orm7uaW5yrpSOs87fLttO2q68boQOe25qHoOO0f8xf6mgOhDGATahl2Gw4c9h3HH1kjRSctK9gvejXQOb096z74PQM6wzQxLxAqoCcZJkcljiKCHxsbURWqEN4JAgS9+zn1DvAG7P3qhOjq5nLjE+Bs3ZLcINxe2wnbvdn02mveyeFA5jrq2ux97/XxUPSf9iD3PPeU9rP22PjW+Uj69Plp9+n0jvKP72Tr9uaz4u3eid9W4h/mF+vY7ZHuGu9Y7zzx2PMO9j/63/7nBeoNCxYXHK0cyhs2GFEVEhPWERER/Q+fEHoSqxQqFX4S0g0uBzYA9vk79crxme6I7RvtsO7s76Xw3O9v7MDoueUt5a3mwOlJ7izzgvmwAJUIDw/oE+0WwhiCG9Id7yCMI1QnLyuHL1Q0kDebOC42DDJzK8olVSEGHX8YFRT1D6ENIQ/0DWEMxwfG/uH2Iu/E6tHnFebl5Q/mROpB70r1S/ah83LueunO6xnsTvCq9R/4+v3AAgwJmgzfDtMN6gg4BnUEBQVpBToGWAWIBsMG0wS9ASH50O/d5Evc4tVN0UTP98ovylHL885A00rWWta/0s/Q3s/P04za/OHd6yf2bQFeC5oUQhrTGvUZUheGF+MZNx73IjAn4iuBLsUvgS5SKSghLBemDRYGYwEu/jH8H/pI997zVPGF7eDnjeJo3GrZadkA3CDhEeaQ6ynwAvdC/Y0CcQhPC+kMWg+DEnoXlxyxIgYoUyuuLj8wjDDjLh0swyhNJOwgQh0CGiwc/By3GcEXeg+EB4MAuPj39FPvgO547VzvefNr9qb30/Pf76npy+k06u3rLvOk9VH71f/NBKcGDwfYB0EExAN5BGkG8QfWCUYKswp5CzIK8wf+AUD6+vH46tfkvt7M2lTW7dC4zuXNVs1NzYXKQMkuyPrI1szm0N3Wp96H6CX0pACLDSoWyBvwHwwiriTwJEoneShhKggtei4gMYsv5SyUJvcejhaeDfwGEQDn+X702vDZ7UjrxOjj4UncBNcK1JDT0NPl13vcieI26zHzT/tqAS8GiwnTDN4PLRQgGTMdBiL3JmYqfy7RL/AuIi2cKdAjaSAEHLMdmyJZIlwjEB0XFc8MYQUXA9/81ft8+PD11PZg9rX1YfDp6sDiYeEM4ubgP+gT7CfuXPVK+MH77/1H/gf7Pflq+8T/ewObBmEHcwdVCHkHmwZ+BBL/9vlC9i307vKQ8YLufeiO46Pi2ODB4ZThTN9D3wbf39+Y4bTjMuac60fydPzeB14T3Rk8HVEgpSBWIcMigCJ/InoiWyO1I6AkdiIHHiUWFg9FCIMC//z597bzQPFI78Lur+6l6mPkf95A2dnWdtg+2jXd+eDa5Sfs9/Kv+aT9cgHZBIEHtQwuE7kYoR6yIdgjByfAKb0qaSrNJ9UlJSFOIK4fKx3nH8MfBRzdGMoS/Q1QCF4ElAOQAcUB9f8u/Tv7/vOn78Po5uSu32bfEOME45rq2OzI63HsJO0U8CjxlfWv9m357P2lAUIF+wYRBb8CqwCF/WP+1P/j/mn7lvbo8fHru+if5OXg3OFp4y3meOhe6XPqdec15ZHk5+dD7lj1Of6eCKITDRrpHnEgBh8EHqQdLB3MHrsi7iRGJIMi8B1vGEkSnQpBBR0BJv3v+bv2BPRO8jvv/+gR5tHikeAW4FPfo+HC44TkgOeB6SvthPMY+Q79PwFNBiEKtQ0EEhYWABt4HZ8g/SKpJHsmdSUSI4ggaB4VG3QYhBJHE4cbGBoeGkcUygdFAL77WPse/tMA3f9I/kj6//ca9Y7sZ+U13LfZod+x5Wru6fGS7Nroaear5kvsCvPw9OH2Qfz+/4oDkAVFAyT/5PzU/Kf+pwX3BoMDl/3j9MLuXO3H6oDjweKP46bmHusp7qvsCOlo5hfkUOYT7SD1v/sfBBkNnBYGH68hdCC8H3wgySFeJr0sbyvoLDkp6iDsHJgXsRA9C2QIVQZuA4gAsPnM85vvv+q46Z7rxurH6UrnbuRc5c7nkerP7PTv4/Ol+Q7+9wGmBooJ9gwaEOUS5xjHHXYgiSFTIlQhDh9YHfMYURchGA0XuBHjD1AXshhLGA4RpgKm+A/2ofzuAQcIBgmyAZf6u/Xq8tXu6+ne4gfgPumM6iXuT/FK6PTjMuRT5xzyIfvu/n35VfSs9rb5jPwb/z/4tvYk/RH9lwDcAJf57PNy7zXsEuui7dLo/+D04bXk0OjD71zvFelY6lnry+wX8+H7CP/mA1AO4ha8Ib4lDyXSIQghviX2KKIuzi39KUgmFB6RGbkVrBDiCboEbQEu/478U/cf8TTnQ+OA4rrlGuni5tLj090+227fweR66vDuCPLZ83r5Qv6kAz0GVwnyDuwS0BusIscjvCEfHzEeSyD7JGkjHyElHx8alxY5G9sgBxw0GecPLwQTAkwEggWABboH0gIQ/mb7gPTs7bPnTOT93urlCejP4Ezkut+w2SvdS9/Z4F3mE+9d7LXtBfRK9iv5AAD6/Zf3zf29/Sn8xP+9/SH76/lX99DvQO0g6jnjwuXK5gPnO+r361DoeuRK50nomumu8Jb1fvjUAMMJtQ7bF5AdDh0RHcMh1SYSLFcu4iqJKHIkxiP9H7Yc4Ru2D7kJ5AFQ/VkA3f0y+K7yuu2R6ZvrKOyV6qLmtuNs5OjkbO3b8/TxEvRK85n1HP2iBMUHgQssEVcUoBk3ICsjCyaHKckpiyoFLvwrSCeFIw4gPCQeLNYtxCjHHNUOHgYICFgPyBG5EPkHafiS8gnxaezT6ufndOFw3gDdo9ps2x/b59ij15TbpeAt4+nnmeYl5jPsYvS++nT9BPwb9CvyOfdZ+9sBuARgAr78cvQb8X3tX+y97SDtF+0d6kjlSeLj4Wzik+Xq61TwBvPf8IXwzPPP+5IKvxMKGhQd8BiEF1UaoCAyKpssvSr1JI8eZRzoGQYYPhkiFJIMEghlAqP/xP6t+qj3tPVP9BXzVu9862zmreTo5zbr1u+S8g3w/usi7JvwUfffAXoGzQZ3CVwL8w6NE3Qb2iHNJqEqzCk1J64nkiVGJ/0rvS4OL54tnCZ7HiwXIhNlFF0VNhQvDMACPPcT7tXrLexK6jDke92v1uXRudJS1IvVvNfo1krXNtid2wng2uPj6bjuGvO19yz1XPQw+CH6yf4zBrEGPAVCA5sAr/5m/v/87vcg9MTvT+3Q6yHqa+cf5c3jld752xfZseD95LflKOt+8y4D9Qz/E2EXOBDhDeoRTR/qJqgtgi0VJtMoYyTJIkkhZxSvDz4KywTs/6ABVQP1/cP5Z/p++dXytvXX9N7wW/Wk99v7bvpg+E72kfU3/E/9kgARAncAYgDFBA4KFQ+LEoMPNA8zD6oONRJKEAUP8w22CwoRkRCOFHsUIBH8ILYozSOZHYQPLQrZGaUrYDIKKTQVBwDG+3sEZBMNFMYAiuxw2e/Xmt8U5Dnn3Ns+z6HKm9H43GHjdujs5o7lpura9DP1IPj2/Hb7UQOSDqMJeACw+fz11vrsBScEb/uw6znfC97L5BfrVOTl2hfPf8oE2AHhD+NR32bYqNkY6sH+mgmlDokK/giRD0wg5zFFNAwxYSmEIxknxC7GLl0ncSFOFsMT1xLYEA0NJQT+/WD7/fx1/sD5PfKY61btyvKe+RP3hvAJ6U/mBe9F+eT8qvst9c/0BPn/BAYQohDcDc8JugnDEpccvyHTIiog5B9aIYUmxyvUKjoq1CdaJdQj0CGHIGwevhxVGA8RNAnWA5T9Ifqo+N7yR+sx5JXb19fD2JPbmds82C/UhNFl1HHdnOZ76yjsm+v769Lzb/0AAw0H3AcIBfAEbQY2B8cIagrYB5cBtfkG99fznPTn9G3tM+Li23fVUdMv2Lbc6toG1QLPsM+J1dPgpOc06Prtd/Gu9f4C1QurDnIUqBd5G18h3SOjIPwfuiHhJBIlLiTrIOcbUhnXGAwX8xhWF/sQPQu3BxgFCAM0A5f+u/gr9sfyOvAN8LLvIe326+7sau8X8fP10vdL9jD9wwC+AyEJTgzNDZMOVxA8FKYXghyJHekaRhhmGeEXoBtYNfI49C7gIgMPiw3xI4U40DIUIMoMwfWP+tIRIxuBC4Hz1tvuzDXfdvBd7NDp7NzNzCjMtd/A6Mrs6/DJ5mzf/OjL9LrwKfdj/bnyM/If+N3wme1296b2pPNa9X7oedqt3J3ltutP8XTtBNyd0dTYZ+S988H5T+034cnfdu7OBqgXoBi4DjsIfA0EHSovPThKME0lrh3EG7ci3yYoIpMa9xG3CXAE/QDwBeMBC/0L/CTzWvBD9V3zr/c5+nvwYuwf63bq4/F999D4hvWX8ujvF/RJ+10E3QrOCIkIYwazB+ETahkuHHAdlhlKF+AZyR1yIFUksx20HnAtLCpEIHYWqBCJFvwl2S0kHt0LZAOI/+8KSRmmEx36qee+3AzgmvOJ+aHtHOAH1RPRSd8D8eLzDu6b6mvkluf6938DS/3z/WP9IfPh+UgCdf+s/tj9w/dJ8YXup+3f6GXq3uzj5JLfXtqH06/VnNwX31ff6djg1FzWlNkH5XDyHvT09nz7VPt6A7oQvRu2IcUgJB8bHBMh+CpDLqcsUyckHvsYihonHqEeVxptESsI5wRIBzIKsAhfBcX97vSb817y+vJb9V7yJu2B6xbr9eov7vvvbPK18zb0jfWa9pD8mgRyCOIKjA02Cz0KPQ6aFOQbsh/0HEoZzxuoIa0j8iUpJFMgDx9tIF4haCANHmQZsRNLD88MxQntBIH87feM9LvuTe28593iNOEf4D7jCuQU4iHhot864WXmguof7lLuHe3/7VvxyfWc/e3/Dfow+d/5TftGAnwFwgCT+wb1rO7w8dr31vSM8Gzpr+I24GPhGeWW5EHmgeW24TTlROvs8Ej3yP82AjcFJgvTEFAXRh6AH08daRxXG38deSLeJe0m6CCrGDUULBQOGKMbIhiSEDIH1v7n/wwECQTk/9vzzulK6WDsBfHC8P3qfOgx51PoMu6o82X1IPfO9/H4hv6g/9kByAMwB5QMHxItFOQTjhOTFYIa0R+3JqUmyR8NHqQf4CJNJ7ol0h30FUUTyxGmEBsPcgim/735efNI8NfvUe7c6dPj1OBd31Df6+M95EzhFOF34UjiaueB6y7qzej66p3t4vD19O71BfXg9br4W/mG+wD8lPdU9N7yyPLy8GrxFfEw7OXtsuwc6UbssO4z7rntVO8J8Wj4HgBkA0YGugnFDMgSNhp0Hrwd9xxYG0wbTx+MIgMfEhypGNsSLRIZFzgW+RMyEHUHgAMvBKUFhwZOAwj+9PQc71jyYPVa9BHyJe2X6CbrKe+p8E/zTPVS9Hj0cPYo+kv+9gDeBJIFJwaCCk0N4RCBFVcXKBe4F5IaOR0CIJsivSEUH6Aeoh8OHlIdpxwXGEUTLRAbDAwImAR9AD36nPUt8bXryujh5JTg6t9/4afgyt4/3QDcGt7f40fnRefU5pDlquZL7LvyTvTt9V326/UB+LX8W/8Q/wT+xPmy9rb3DPrs+dT4//ZE89XxgPEY85TzOvOP8Dfvr/Gt9rn7Sf4SAN0BKwaCDA4RXxPtFPMUGhYPGegZORn9GCMYCRfrFt0XuhbWE1URURCXD3wPZA8gDBEIZwZCAnL/zv28+qv3P/SZ8ujwjfAN8njyTvEk8Tfwqu5g8UD2W/gD++H7h/vj/SkDiwfYCpoN9A4sD4QQqRRlGEYbjh19HLgaAR2OHhcd2h1BHvcbOhkVFX4Qcg7rDegKgwUDANv3ofCF7sTto+t26V/ky96e3Tzfg+Ah4OLejdrM2VbeieIB5P/if+OC4zro+es37zLwj/AU8vzxg/Tk9rH2uvYf+I/4tfmQ+TP3uPYq+Hz9LP9k/Cb6s/go/MsFUguUC3ILigzrDVwUsxuVHPIZhhiuFwAY1hseHZ8ZABcAFs8SIBJWFBwTDxBJDlkJaAUUBkMElQLZAYH9CvjL9VL1S/Rf8/LyKvCl7Srva/Ce8Dz1o/VT8wb1nfhQ+oP+CwQIBpoGVwnBC0MNsBJoFpYXfBm7G/sasBuJHpYemh0NHqoc0BgAGJAWWBIAEOwNTgmuBYgD+v74+F/1xvFG7YLrU+pE5mviMd9Q3FTc192c3jrcMtre2S7bJd4W4mjiIuHC4aLj+OQ96Bvsue347GnuQ/BK80r4lflK9633l/le+0f+/QG2Ag4D+AQ1BTMFqwgBDSgOUhDEEeoQjBQOGccZZRl2GWgY/RftGZIZJhb2Fe4TwBHBEhwSTw6gC2INhgtUCr0KugbSAuICxQAqABwBLP6m+Tr3afTt9HP2R/bF8+bwQvC28RryGvYe9nfzJ/av9wT5Uf6mARkC0gKMBYsGvwfrC7gPnRhHG1AVtBR9Gbcf/yOzJVIhzxI+FMoiVSbtIPYeoQ42AcEOshKkBbj8HPna6/frC/hS8Kzm7uMU3xzYR+AA5+zYc9i13RzS4dYY4njd5dbO2XrYZ9Qj36/net4M3YjiaeN75iHz2fG06Cvu+/MW9xYAugS5A+4AmwaFDjARoBeaGtEWshl7IE4lkSfAJpolOiNMI98l+iU7IOYc6xgIFCMUqhWUD/YI3gXsAL//1ACE/xD7lvc+9032Svah9r30FfPh8BPw7fFC9R/0gfIU8ivyhvTK+Or5G/kk+ND54P96BOEJjA4GC+YLdhIhF5Ea9h0zHJQY8RuqImclViXMIUwcyhsdIN4evByGGCgQiAroCQoKoAW5AH/5lvBM7pruaet86qDlft0f3Effq9683lzeOttn2nze2uF84x3lNuU15PPk1uow7f7rAe5p6zrpB+2d75Txd/RQ8jnx0fK99bj34Pil+Q74NvjT+8b/aQF/AYYBWwB3AwAIkQjTCQULXAygDVcSlhPfEDQSIBMOEgsTYhSyEOkOURRZErsQjBO1D7QLEQ1ED+4MAA1vDhYKEwh8CLkH0wXSBGkDSP7j/DP+dfuq+U35svib9U72R/di9ef2WfgD+az6uf8DAjwCYgXlB3UJtw0gElwTsBTeFt4ZYBzwHFQd1xw7HMwd6RzAGpkYIhZcEkgQagxHCXQE1QA9/nj66/UF8/7v/uxg7JvqdObn4w/iDt883/vfI+BB3uXdmd6S3EXeHuEz35XfG+EE3zLf7uGI4TTjQuZD59vniOc66v3rc+558+7zgvTt9yb74v55A1sFCAWKCRMORhBXEgIWgRfRGbcdyB1NHWcedB/NHwMgKx+NHOcaRBrBGG8XjxULEtcONA21ClMKGQkcBsUDhACP/W387vxY/XH5U/VC9K30r/XB98L0me4b7jbyb/NK84XzWfDr8kr5uP7yAM0B/gLzBLAKfRFaFpsXexrLG1AeQiLVJuookSflJ4EmlyH4IrUjIR+DG14X8RKaDE0Lbwi+ATD9k/kb9KjuJO5h64HlheOU4IHbFNvw2ufZ29e41kjWStTY1avYBdfd11LZnNjN2uLcnt1j3hjh9OM/5LnlKudw6GDr/O/g8RXyKvZR+Q38EAEpBIAGsAgDDSAQaBLTFU4YuBrVH98hHCEAI68jwCDuIJYiESHVHtwdChtjF0kXexZ0EjcOCguTB4AFigVSA439ivtT+kz4VPhT9+XzE/HU8Gzx5fAb8frwBe7t7VTw7PCi8sj0rfYP+A/6nf6HAQsF9Ai6Cz8OcxI7GJkbth+QInQjcSWqKBIrvit8LPAspCo7KZUnCCQpISYdpxcIEFcLEweU/0n6QPVp7nLpeeZt4vPd9toK2GLU0tKc0dTPHs/UzqfPKdB20ejT5NRq1jnYztkF217d3d/J4hzlvOZ46U3rle3570zxGfRt9h35Kv68ADMDQQWzBzILVw2VEIASSRSdFgcapRz1Hogg/SACIiAieB/MHggdjhqLGUMXZRVTEgcQzQ14CRAHzAV5ApwAvf/4/E76hPmW+d73IPfN9ZzzD/TU9vL2XvbI9Sr0BvQs9tz35vYb90/4lfhg+7kAeQISBBQH6AfZCl4R/xTWFkEavBwaH4ci8CWbJmcm8Cf2J6on9yd4Jv8iBiCyHW8ZlxRyDyMJDgRn//X5wPSj7xHsBumG5fjhuN3t2QPY2tdi1mDVMdRY0zHW6de52YvaD9r/2/zdFuF55Ozl9ubj5jjp2+w+74Dwt/EE8cTw+/NN9tj3fPnt+XH7Rv4iAccDqQQFBuAIYgq3DW8REBNcFcMXDxnHGUoc3xxEGyoa9hhWF34W9xUUFAERNQ/tCzkJLQghB4YElgMLAnf/x/4V/TD8ivpq+GP3a/Ze97b31/bh9tH1s/Vu9vL2MffI9Qf12/Xz9iD5WPv/+4L9Kf/tAUcGcQlMCl8NAhXEGOge/SKSI/UgaSQhLAEpQiyIMRcqrykqMJgvbSUeIRQdughNDSwPmP+N/Nv2Iu8J6I/udet02E3cCtjnzKvWqNpcz/jL9NGAztTM79Yf1STME9Kk2qzZ6NwD5ifgA92S59fpgemi7X7viewr7+34d/sy++76D/x7/dQA2giICuYILQtyD58T3xfkHuYdvxyoIAgjfyYFJS4lqh/zGCsczhnQFpkUSw9PC0YH/wezBnsAQP93/Lr4tfkR+tr2d/Nb9Mby2/FJ9Xj0P/L08krzgfNJ9VX3VPYq9lD4l/r4/Y8AxgHaAt4HWwooDZsTMxNHFCcZMhuSHjginCQhJF0kVSgMKPknnSm2JjslaCXIIcUeBBuiFp4QpQstCGQADvzg9zPxV+2i6eXkneCQ3sncDNqL2fTXdNYu14PZU9qp2njcVNzi3ZLhd+Qf54DogulL6+Dt4vLX9Gz1b/Z/9fH2i/qY+4L6ufo0+0z5pPzG/nT7B/z3+2r7xfsf/UH9OPvr/PL/rwC3AhgHRAbnBRoK+gozDJUNQw0qDBAMZBBwEAoPaA+xDM4KVAy0Dp0MbAtMC5QHiAcXCk0KZAelBkAF4gI9BOwEDgQdARUAagB0/84AsQBK/o382/wb/dX9IQHF/8T/HAKlAg8FlgWSBqQFsgUCCfAJ6Q16FXUWSxfIGpAZyhZRHbkeexkfHsYeUhoVHukfCRvrD9wQpAgW/kgIn/++97T2D/TF7kXsdvTW4+3eqeap3Pre3+bt5ODb+t795GDcZuA35ubbmttS5UPpT+Y87PntkOTe6B/txuob6mTqvOnT5xntUvKo7z7vpO8F7yTzmPZc+e38Cf3jAL8HOgt7DewRQRLJEnkYzhpCGU8arxpAGGYaBh39GUAXOhWmE90RrBHmEYwMmQuIC3UIOwlrBqwCeP+V/q/+Tfxt/Qb8nfj8+fz6UPlg+Xj5IfaU9of6sfqE+1P9av5JAFwDfgg/CDUIDwtoDZMPMBNdFpoUbxSoGAgaPBqLHVgd5BlEHF8eTRx8GoUZjBW0EfoSfxApDHoJPgRQAYn+tvvv+B70UPBV7intmezq6m3nteXB5NXkz+eA53HmXOaQ57bpuOtC7gvvB+5v8Kzzd/W69+n4jfZ39a/44PjG98v3VPOb8PLv/u2B7QTpo+VF5Djhy+OP5K3i5eIZ4rTk9+Z46zvx9vFK9un7Sv+8BJwJXws/DTwRzhVWGLIbuR1zHHcdIiAJID8fpx+NHdwaLhsNG5gY8RWXE+QPogzRDbEL1gakBbAD6AD4AMsB9f6i+7j6//lI+UT6vvpk+ND3C/n/+Dj6zfrP+0r7w/pJ/rb/lgC6AicDjAMwBngJ8AxYEQoTBxZ4FpAW0xmwGpQbjB2zHQ8dcB5tH1EdqhnqFnsQjwwnC4oHfgWE/zr94/lQ9ir38PGp7RTrXOkn6XDpdeqv5/Pm++cu6MTpfOrX6FHnx+gH6yXr1+wo66HmEOe75pfkl+TX4dvc59vm24zcCN2h3HbbC9te3pHi2eTP5z7r8e4o98cA1wR+CQ4PJRHiF/UfAyGAIWoi8iKkIxsnUiiyI9EhFSIxIAwfIB8yG0sULxNSEkQP7w0gChQEif8nANr/S/xu+3H55vU598f6p/lq9cT0evLC8kD3qfg5+M32tfe8+a76K/44/8H8QP3sAA4EHAjcC+YMvAwcDyATLxYfGJsZlBskHGAfCyPQIUgh8x/xHBQaFRgGFvoQDQ0VCwEGzAIKASX8lve79O/x8O6h7WXstepK6dXpTOoi6lrq9OvR61ztyfDM8EzyIfTI9Db2CPgz+e744vjY+Yj5XfhR+Aj2jPIH8RXuROob5xrjlt4k3i7d/9to3KzZI9hC10DZsNvV26rf0eGk41/t3PNe+Jj+aAI8BRoLbxFoFMEVshecGzkepyKaJjwj+CH9InohyCIXJHIhVh4gHfIcShzQGo0XWhKtDYMMngyrCcIHNAX8ANoAcQF6AEP8bPkZ91P0GPZt9uLyr/Dr7ozuB/Ae8uvxSvAn8Vbzn/ZI+4P+Av+9AJ8GXAz1EuMXUBkpGoId2iH5I5wogiifJYQnISjEKJcm5SJPG5gT/RPWD80LFAju/9/6K/gY+B/0Ze5M6m7k1ePf5d3lRePp38Lct9tl3pTfAt6V3LraLds639ffat943fPb5doJ3Dnex9rs2YTaSNvH4CXny+lw6nfsMO8z86X5OP83ARcGew6WFBYdqCI9I8UjQCVqKWMqsypnKbAkfiSyJDMkgCFWG+4VBA9vDHwLbQdOA9X9ffkj93n2CfSC78br4eez5yXqSOu56w3q8Omv6gTrtO1E7RXsTe2E78jy0/YR+cf7Hf58AQEGQgnnC/4NbhFXEzsXexuxG84eDyGcIc4kRCZGJvwkQiQ7JRUj7iHRH9IaJRZDE3MQvwotBwgErv4T/Oj61/c/9C7yP+/q7LntLu6w7d7txO4F8JTxffMV9ZD1vvbL+jv9xv/FArID7AVoCF4LSA3HDGwNSQ0yDGANgAx0CvcITAffAyEBHv8w+a30v/FK7YDpI+W84GnbzNe21R3STM86zZfJjcjKyZvJ3ck4yj/K1Mti0SbWw9mo3qfi8+Yg7yH2a/wiA5MIdQ7+FB0diyFvJO8oYCtvLRIxBDMeMzszNDTrNPszfTL7L9EshioEKZolgCIMHygZDBXuEcUNawkLBoQCu/7I/Nj6vPfl9Aj0DvI/8Bfw7e9u70vwjvH+8mv0MPYQ+P75MfzM/tv/ywJEBcwG9guqDxEN9gp0C7UJbQkeDL0MrQmlBOMA3f3D+ZH3jfQS7gjnAeGY3YTZwtXR1B/SGM07y/PLi8w9zjnTpNfx2szeBuM56sDxFPj6ARILzRFwGoMkKC3uMi840DxAPTM+rkLrRPBEGESlQ81A3TsgOiY3Oi93KFwjKR0eFhkQTwpLAo/7svZt7zvo9eDB20bY79TU0b7Oe8lLxULDc8PHw1TE3cSLxZHHjsvY0CzWudkF3ozi7+hg8AL2B/zEAdAGzQynEpgW5BntHOUfwiJYJJgl4SPuHzsfyhyXGHUUJQ+YCbEDv//c/gb6BPU48mbu/OoF6cDoReYp5BvkeeRy5jDpre3G75bxtfZ5+kgAngWxCi0Q4xNpGYQfECTpJ6UrQy7SMd40pTbBN+M3dzZyNecz8DGZLHYnMiMTHlIZpxezEjUKwwQF/sb2qfD069fla95I2TfXGNONzyHO18sBySbJqsl5yubL2c6L0ovVpNl83ujgl+UQ64TxBv9SB9sLChDjE18XeR0NJ8krQioSJzEngyc/KhsxHy1BJBsfoRenFGoU3RFNCxQBLvnl9YzyfO0X6XPhTtuM2PvTgdNazvDHbMfdw6jDUsJuv6m95rvLwdjFMcifyeHJ78yJ0JfYCN9l4jvmqemI8YH5kAHYCm8PvRf5IBsoOS72MqU6RT8ZR+9OsVA4UWJQd1I9VKBVclSGTv9G4j80PD44OjLkLHEj4ht5FvISTA+NCO4DlP9O+/33pPT271jrrOeW5lbnr+ZJ5NriROGP4fTjtebb53Lop+mf6iTtzvCv86b1g/d++8L+CAAoA90E4AUFCOoKOw1ZDV4O4g5vDXkNwgxRCmgI6wa5BZYD8/8s/Wz4LfMv8XPtIupq6LLlc+Jb4V/gbd8e4K3ghOK/46zkOucy6dnt9PFs9N338/mT+2f+NAI2BTcHoQiaB58HnwhjCg4MZAt8C+AJNQmPCVYJvwjkBloFgwXfBEEDbQHC/yb9//oz+rn4YPbe9XD0//IO8+TzHfOa8ZDxl/F68hz0yfVE9k73ovrI/IUAVgN0A0kFaQjbDJMOMhJtElgTlh89JvspkybgH+UZRxioI+4oYybGIXAXNxA5EfEYfhaSDtgJav7W+jT7ZPoS+wr4pfqL+1D+ggCS9GLxa+368Lv56/oE+Vnt5+uT6LrnAPF96d/nIOZl5dXraOkZ6gPlIuRW6pvsFPMT7X3lFeVT5ZTtNvaw+bP2pvXZ+uv9MQJtBU8IjwyDE2kc8hxfHKAc3hmLHaokPCSPG6QTtgzRBrkI/gk9CrIFzwHo/v/7Q/34+4P7gPxD/fv+8fxR+sX1BfN68QzwIfC+67PpveWU5Kjmnef/6Drp9eqx7I3u1fOF9cH4Uv5EAd4F9wduCEQIeQmzDFERGBSXFf0VJhcHGQMb7BsXG1MZZxjaF9UVfxO7DxEIswMmAZ7+0PnM9e7v5+mr6O7nQels6kbqPOon7bnvo/PC+NH81/+EBF8IagqADgAR+xL+FHYXOBk0F70W+Re0GWwb6xwYHjwdNx82INkfpCCMHj8cAhsjGesYShZYEGgL0AMTAFf/IfvK96bxke3E6eblA+X14e/el93G2gTZa9ah1U/TS9MG1h3YtNvb2sbbrtzo3Q7kh+kf7WXxofHC8jj0tvd+B/QR/Rd4FSMNyAa6A4gLKxLkFlAXEhHuCxwJrgzBDPIJwwvcB84HvQtGCZYFrADI/34C9wbHClAG4f/v9xbzWPOr83P0Q/G775vtiuoB6SnkBeEz4WXlEO3a7tzwzfCd7cDvN/Ns+Iz5hvnh+g35X/qY+X33J/qNBM0Vxx7MIsYd7hTMEnkZpyloNBg8vz06OCA2FTZqNREyMCxUKYIljCRGImsZchG1C5IKCQy0DH4O5wfyAx0B4v2n/pf5oPa/8gTx2PH57kHsvOE53Hnb1tt94X/jWOUX5bTkjOp97FTxU/OG8j73FPkJ/an9ovvu+G/0VPQw9c/24vcn9nb0mfGI8Yfv8uvX7b/thu1Z7pLrFekQ5Wfj1eNu4Q/i/eCu3T/cgtxx3g7gPuVz6vXx/fj3/kIFiQhGDr8TihelH1UjVinSK4UsUS85L/UuWy0oLCosAy3/Licu0CvbJwQkuCEbHg8cAxiqE18QpgsXCTUE9/va9HvtqOqg6a3oEOeu4qPggODQ4U3kCOe86W3q1exo73HxV/Qy9YD39fq2/cEBnwIaBN0H1wqBDi8QKBD0EfwR8xMnFccUNBSmEYkQkw6HDNsKjAdyA0j/yvvo+Iz1KvQn8Zbwae+G7KLwSPjTAMkIMAi7BW39h/jZ+Zj55QMJBRIFRASE/vb+6PUZ8zvw/e0m9tH2s/zF/D/5Z/zZ+BD/rwE8BEUKuQavC28HlgOp/O3xl/JL7tHwa/GK7O/sMec26TvomeZa6b3jwudl61vuiPMr8YzvqOys8Xn79wQyC/0JYAffA2QGrgyYEmQbiB9ZJG4ndShGKL0ephhvEjIPJRFMEboRfAz1B4IDjf8b/rX6NfkV+Ez6VABtAj4F3gNVAQYCXwGCA8UBMQBZ/6j9ygAUAcQA+/6S/IT88v1WATUDTgPQAwwD0APfA6cEAAUaBaIGkQcRCKsH1gdTBwYFoAVHBC4EsgNGArQDhgI7AhUAAfwk+sH3QfbY9Ab0HPLw7ubsJ+kJ6Onn7egS7Ifw5/Wt+DP6dftG/AQASASSCIUMeg0yDlMMUwqOCLwEDwJL/47+V/54/Z/8r/mT+Jz4sPj++ZT5ZvqW+9n8+f+MABEC6QG5APQADgHDAD7/Ify5+af3Jvkb+8v8m/77/RX97PlM+H/3Qfk+/ND+Sf8d/Yz6IvfB9In1P/fP+bT7Iv30/GP8LP3z/PT9rf+GASAE1wQsBo4GGgZCBVQDLQGa/1j/Uf8oACAD3wNeAy0C3QAqAjAFlgq3Dl4RSBFSD4cRdxonI6os6i7gKBgicxfxFjcXphxiIosgDSLDG/0X/hLlBgkB+/Rp9Dr1gvX5+/32HfSW7Y3li+NT3CLd+ttt3I7i/OB94m7aitMnzFnGrctwy8XRvNkz3l3niuk17eftLew48cT2HQdhFiMiMiggJpUjGR6bHLkc/RzHIFwj3yZ+KRIoXyXlHXcWAxHxDPsNYA48DxkOegnLBDv9UfN663PkJONG5O7mCubA4jjf9NkN2kXcH+Dv5rHrXPMG+ZH9IgL+AKQBVAObBUAMfg+bEq8SvhCPEpcRnhMiFZUVRBlXGfsbQh4DHxkh8h7tHeQbChh4FboQdAyCCEEEZQA7+Qzzke4f6TfoLudn53HovOjQ6SLqluxu7VPtYe447zDzPveM+1/+aP7X/s79Nf+3ARAFagjcCrwNQg/SEQESphKyE4EU2BW+Fm8WLRXtEbkPDwzOCCwHkgPNAbn+afzU+gD5g/gp9vb0r/QK8/7zLPPC8pHyJPDE76/umu437hXtDuyW6tDqceu67GDv8PC18yD2a/jH+xr+a//zAAkCTwN0BFAFDgWXBFADWAJqAfv/OP/l/SH+Bv89AHYBFwLoAkwEDAXIBr0H4weWCBoI8QdVB/IF5gRoA9QDAARhBBIFMQVJBRgEPgNaA/sC4QMEBbQG2AdYCPUHkAYnBQIEDQMVA1oCLAL5AA4A4P54/UT8Afuj+wv9Xf7b/wsBSQCg/7L/bP+dAJ0B0QIOBCADngJuAQAAn/+H/wMAw/+8/+UA5QHzAmMEbQSaA7YCPQL+A3sGKwiYCNoGUgRkAdT/Xf9e/8z//P/j/yf/eP1M+2D5BPhz94r41/m5++/87vyy+yn6sPjr9qD2GPf093r5X/rK+Vz4Bfds9lP37/iG+vX6WPt5+/X74vxp/ur/lwAIAQMCkQKWAvECwQLnAgAEsgR4BcUFhgUOBi4FWwUiBnYGKwe1BUoF0wShAxoD7QDu/yL+9fz2/Jr81PwV/G/7yPou+ZL4+/YT9iT28PUR97j3Sviw+O74M/o3/GH+5gDbA68FDQcrCI8IcwgJCFkIEwk3Ct0LmwwfDT8Nkgy/DNoMjw0qD7oPrw+YDvYMAQyoCkMKtglBCJMFmwI7AGj+7/2A/af80Pus+Tv4J/dS9n72VPa79pL2hvaT95T3Iviy+KL4Ovmy+Zj6+/ry/Lb/ZQFUAzsEmgS/BBkFywbpBzcJfgluCa4JfQmdCagIXAfbBAcDUwIvAUgBygDj//H+h/2B/PX6Jfml9531F/XL9BL1jvXO8xLzu/Hb8HjwOPDP8HLx6PGE8WjxpfGn8Xny/vMi9rz4nPr7+zz+OP97AMgC4wNlBVEGcgZGB6wH7wdvCJQIiwlxCgYLWwutCvoJbAmKCTsKlgqjCvYJ7wgLCGIGIAR9AgwBPgD0/2X/Wv8S/zn+a/32/KD89Pxk/Yv9jP1V/V79dP2Y/bz9if1z/eT9P/6q/gb/Iv84/37/3QDNAQID7QOWBAEGlAbEBlgGugU6Bl4GhgYfB+oGwAZpBjsFuwTkA18CqAERAUMBNgF+AWUByP83/tz7hvl4+ML3pPhI+bv53/kx+Dz31fUK9cz1p/Y1+Pj5C/td+/z6JfoD+BH3FveZ+LX6Xfx//ev9//0h/sn8Svwl/IH8i/1A/s3/ZgC1ALYA7/+G/y//Gf/w/14AsgFlA90DogPKAoMAtf4j/bT8vP2w/p4AIAEIAdoAe//h/pn+uf5m/0oASgGEAfgBaQL0AVAC5wHtAa4C3gMGBc4FfAYOBjIF2wQCBBIEJARrBJMFEwa8BqMGDgaRBbIExATJBE8F2QYMBxMHHgb/BHsE9APNA1QE3wTWBHME8AMFA0kCSAIUAtYBNQJhAncCTALqAT0BrwAiAN3/AABgAGIAuP5h/Tv8Qfu0+1L8V/w3/Iz7X/uR+/j7cfyR/Jr83PxG/rj/yABzASMB+QA4AJ3/WP8UAA4CTwJ1A2MDWwFVAEX+of3C/L38vf0l/G/8ZfxQ/LL84ftZ+9L5bPkv+Wb4sfi29//2G/c092D3y/bI9nz2/PZL99/3kPdZ+BP/VwZGD8EVIhRtDx8IYQXEBQwIqw7xENcUDRbrFM0TKgxKBqX9LfpO/Oj9mgRaBtYHIggjBWoDGPxU99zxN+568WbyivT38wnwOuwF5kfjNeDB3t/hUuWC7Czz8fbC+E722vRx8870m/ma/XcDswa7CNEIagVNAdP8JP/HBeYPGhsZIQQkYSLrH64chBrIGTIZbxuyHg8h9h/LGmARZgaE/Jz16vHO8fbzBPZh+tf8vv03/fj68PjS93z58fuq/db//v5//Cv6DvYS8mLur+z67P3vR/Vv+WH8Pf8BASADEwV7B4kKUw0WEPAQeA+HDGwHbwJP/rj6FPme9l72Pva19p75/flQ+877Yvx0/k7/DgITA1oC3wHw/Sf7fffD8pvvBuy36wXsLuxh7hTwGvNY9+H5j/4sAMMHWBT/HQ4pGChKIJUTwAbnBCECNgl6DV0LWhDJC9sLeQix/2b+8vcB/xEGOw1HGGQXxhkyFNMNVQh6+8f3d+7X7U7xLvAx8w/uD+tY5h3hFuLX3yXlHewj86z8yv4w/SL2q+1M6ZLmn+f+6XTshe8r7vHs8eeS4Qje6eCw7bkCnRhaKC4tOitMIw8bhhV/EVcSBhSMGvMgFyNaIMkUdwVM9zztDuyx8Xn7NAj8EkUeXiJQIf8bhRFRC1wH6AdcCkUMxwzsB1QBvfg57lrmYeC635DlT+9++2cDxAmCC9gJUwndB4MI9wpuDNMNfwzGCasDL/px8rnrp+ij6Nftu/W0/aEGnQtVDssONQ1BDLQKgQsCDBUKwghbA6z8AfYX7i/oO+Ok4DPgneGe5u7riPIH+gIBNgaRCfEKdwtkCikKqAiuBmoE2/8l+1H2AfKT79TsKu2R7tbyVvn1/v0E/AlqDVgQ9w8KEHUOuQzLC/UIKAfyAqX9GPiH82zwiO4s79Lx7vRr+tH+zQLUBVMH0QgKCa8JqwmkCMwHOQRLAXb9q/mv9pbzt/FX8N7xIvY0+pP/jwN6ByEL0gsNDdALwQo5CtAIJQfnBLMCh/4z+zn4tfW59OLz5fTl9zD8/QCsBaQIcQsfDFcNIwv/D90c+CUpMZgtCCFwEEr/jflM89f9WgM+CFURPQ0VDnQF//zo9TzsUPCZ8sv8HAjDCm4PbgoUBPr54Owf6JDin+aW7RfwbfLI7CrkR9t604fTx9Pz2lTl5+2a+aD99PtO9aXnit131SjXIeHa8CwEShQjIU8iXBmACt39UfnN/8IQzSR1OcZFJUhSQPouYhlYBFP0+e2R8D35EwR6Ck8MtghTAUf7OvXL9Rb6LwPfDqQXsxs8F98NcQGu8+brS+W/5hHrRe/x9dD3HvmK9rvyo/J19A3+WQn4E3ockB3JG+oUYgwwBEj9H/oN+7X/hAQACMAKlQgSBsICqwA1AT0FwwojEIYTGxS4DqUGbP0H9PLs1+fv5Ark1eQz5vPmmOey6KPq1fDt9zIBRQmPDjESrxTqFIATlA9DCp8FuADw/YX89Prg+c/20fSl9KD22vqY/2UE/QlYD8QS1RO4Eq4PbwxVCTcH/AQ0Ad780/eJ8u3u+Ovk6wXs0+798tr3Ffxe/o3/tP4Z/hv7yvdh9S3zq/Fc8S7xVPEJ8QPxX/Dz77LwPvIw97v9PgSdCrwO0w8vDrkJ8QXuAUYALQBW/4L+I/2Z+qz4L/WN8qnznfQM+qYBxQpPD8IS+hPiEMsO8gzfCAQHqhHDIfAtKDObInwJ3vKq6Wzu0/diDhcWvxydH8oVMw8B/jjzWOqJ5yj2nf/5DhUVdA+8CTn8Bvj57w3tuPCs8DL7FQEXADP8au/a5ELc2dq+4CrkRu3B8kP1B/lr76LnJd7N2FHfg+cs89/2oPT06QLdYdRxzwHSH9sA7B0FkyErORA+djVoIlsOYQWjB6gWEiY9Msg2JS+8H9gJMPLi4JHZ4uEX8+AGDhmDH1kf4RhBEWgMhgswEc0XUyA1JkYifBi2BDjtPNolzsjOOdVf4evsRPOZ+Qz6bfs6/SQAAwizEWodFSioK0Uo5BxDC6D7g+706BvoReyU9Jz7/gNACQgLDQwHDMkOQhLcGO8f/CKBIcAYxwoS+nzoBNtl0UTOyNBN1gDbwt2J3mrge+TZ7Vf6AQgfFqsgDCZ2JfwfrxdvDpoGTQCa/Bv7bvzi/eb+9v2F+1v8UAEpCpkUMSH1KzQyDzQRMMUn8h3NFBsNSwc3A7j8h/TF6yTlFuAK3Wbcgt1p4afoBPEr+JH9f/+1/9r+w/4c/h36mfR/7HPlouH83mPd/NpM2g7cpOBE6mr0FP3NBAkJ9wyUDycSNxRgEqQOjgZZ++3wq+Yx4PHaKtgb2ezYgttu3RDhFufV7cT2aP3dAL8C6v+a+yv0mOom5LPeQOMb703+Dw89FggTngeL+6/7zwXlGgo0l0jFV6xZdlOZRHsx9iDiEvkNvw7nE8sYWhkpGAsU5BFcEaQTjxglH4IlPyunLD0qvCJsF4cK8/0P9KXtY+q/6fXoa+fe5FPibeO558Tw/fsrCckULBrVGeUTkgvxA+/81viI9cPyK/C27YDseuub6qbqr+rJ7M/vtvMV+AX8V/+fAeICSgDp++31ne6l54Hhj9wi1/jR0s2iyrLLwdGV4Nr0uAjpGHkdpRjSEGEL4A2TFj8hLSX0IOkXAgro/OTxI+ql6GXsM/bOAEcJmQ+WEGwQhBF1EwIYZBxuHhwcfBZGDt4BhPNr41nSM8X6vK+7c79XxbbMLtMH2tzf3OQt663x/fVy+QT2WexZ36nRk8hGxQnLqNlU6iT/hw2DEiIRpQ5gGTotXkgYYQpvYnLkaZJYpkKnK3oZUQpU/473D/P38WfyiPXU+P7+kwtRGw4t1zxxR0VNJE1VSIY8WSgzElL9Q+xR4gzctde50lzMAsYUxG3Ka9hs7SwFxBqxLKQ30DpqNTsrvCDMF8AR9AsnBrb9H/TX65DlHeLG4Rvlieus9sIFJRQUIKwkkiDcFm8LgQLK+5714u1K4sLUIcb1t86tYKlQru66mc0l41z2uQXwDjcTJBWpF8waxR7iIJIfDBonEJUCMfOJ5abb49e32fXfYumH9UUBCgx7FIsaex+qI5EnqCkiKQglQh0KEG//qu3Q3J3PS8YcwlbBK8R6yarOItUi3JXkEe6x9k79RACrACL94vWB7YTkHNwZ1qjRWdDm0OvR+dOI1d7X+NyU59b4nQzVIx04uUilUdFPw0Q8NR0suiu7M1w+8EJ4PwYzeSXQGFIQYRHJFKwcVSSTKYAuri91MmkxQC4XKoclrSS7IbwceBNdBr37N/Ic7pvrJOkN6Orln+aC6ZnuoPNz90n7//6HA8sIqwxnD8oPVg1jCXQE0v8C+pD00O887KnsEe8N81X2S/iX+an6FP18/Br7jfh29lf2afXl9Jfyje4z6zXlUt8V2mzV7dIl0p7WE+EH6z7zRfMp7Vfqgew3+BUFahGxGHUahxmWFJIOjQebAZr/WgBFBEoJZAsCCyoFtP7M+jH8+QJrCsgQUhIvEkUQnAobBLD8JfU/723sOeo/50fiw9lO0TDLyMi6x5vGj8ZmyHzP+dmR4k7ppuhr4unaCtQR0gTVo9636if2igE6C2wVmx+tI0sjHyO7KH85e08bZFZuE2vqXjVOjEGkOMc0mzFsKXAeWA99A1YAiwOUC2sR1RYuHR4ihid4KcAoqyfvJh4oQCdnH0ERjv4l7QvhiNtB20rbedtc2TbWFtXO1lndWee/9QoE7Q4lFe4TFA9ACbsFKga3CIgLBgyXB+P/QPXR60Dm7uI+5DzoRe5w9P32xPYO9BjwKu+W7n3wZfMo9JrzSe025MjaSdML0XPRrtXf2xPiXPCCBBMVAx40GbsMpQMzCJcbVi+GPCg3PiLOCgr4T/Ol9pL9fwCZ+iL0Su7v7x/5PQHhCVsPJRRdGS4c/BriEHUHYQGZ/HP62/R355TVlcY2vnS96cJiyR3Pk9M/1izUSM/UzB7PNdpC6ZbyiPJ65VjUssgjxwnTzuSi+OMIDBUNHgIhACHZH3glSTTIR8Fc7GfmZEtXdENBM0AqjCk0Kn0lxxpzDLcBoP6BA5IMjxTYGrkiQSp7M/M4XDmWNUgwkixeKVkiYxfUCML4AevP4nXfK93/28HZCNjH2BPdweXn8Ab95wdcD0QUlhUIFScTvhAIDS4JYgXlAOj7i/UP8ajuBO/o8Ujyv/Mz9Ej1AvjX+KD5Vfga9d7wi+m246LfJNsN2ETT1c7Xy7PLJc8Q1lrlg/rDCsIS8gyqAAz96QRrGtco6y3rIQQL7/n07azvRfWl+h37SfM27THtM/UbBaAPlRXvFRAUoBWPFbgXgRayFIIRxgjC//T08unH4KfcTd0T3ureCNyd1yXWn9aK2Qncmt8V5VPr/+246Vnjqdmz1gLb29/o4oHg99xU24PhJ/FMB1od4ywyKoweLBf8HX40CU5iXeRaJ061Paky9zIxOPA8TzriLZIa9wdM/sICnQ8oHgwm+SRgIn8dnRoaGxgfAyU4Kl0r+yZbGvUKLflG7R3pmuzj83b0du+s5h/dVNv636/qHvdcAf4FpgGy+Gnw9+zS7+n1P/w2/wT/c/zQ99v0kvY4+37/nQHR/6/7Gfny+Kv5Nvj/9JPwjOjP4Dfdatzu3zTk1uNU4ZXcl9ho2Unequeo8cX40/wN/eH8yP29AfkDHQSwAzsEbgvSFdYbNRxVEooGMQLTBiQVEiMcKcgkKRqkEIMN9BFsFVYXDBIWB/H+7flG+un9ivwV+U/ywexU61Tr5ezJ7evt8Oji5H7hTtn41dbS7dGM1FrUatHSyy7FvsPXxevK0dFI1rrXONxk4ZjpvvSO/3oNBhwXJ3QqdSjLJA4oazWORKpT8laYUDtIrD+QQOBGiEvDSsk9piqVGD0Q0hJGGjYe/RiUDyUDDfw8+uj8LgSQCacMTQwwCE4DBf9z/Iz8qwBxBboE0f2J893q8+WM5wXssu8w8rzxkvAc8DDxovO1+OL+lAKpBL0E8gPtBD0FfwcKCZ8JxwaiAK75tPRM81j14vv1AGAAwPqA7zvlzeI56WvwSPUo8TTlg9ks0EHRXtfh337nmepK6sbptewZ8zD8rQR4CfAKvgsoDVQQuRHDFV8XpxXZElENOwmgBmYGawbIBQMHlgc5CHUIsAZzBd4DUARmBaIE5gKX/676NPd/8yLxOO5y66bp8+iG6c3q6Ovr6kLpg+gr55PmkObE5lfoB+q47J/vzu/Y7RDpLeUm5Prm+Oob63Hot+WJ6YT2awoKGwgaJA8mBPQGxx64PEdU11eMSiQ4UTBeN+VJBlwTWnlGxyjYEFEMYRYSJQQqUSBfDtr8mPYQ/GkG/A+vEgcPbwZk//T6o/pg/H7+8ADIAIP86PQO7RboC+fZ64vxT/YO9jPz1e8T7dftSPEA9AX1j/JM75fr8+rB7ETxqPYq+gD+AP/X/oMASANrB3YLaw77Dt0Olg9HC0sIUASQAiMDiQDp+vfviee/4V3gLOMV5afmNePC4A/eBt+I5xfwMvgB+yT4pveE+BT/fgcrDSIQhQ6oDAEMzgy6EOQTpRX4FDoUtxJwESYQhA0gChUGRwOGAJj88/f18kvta+qX6rPs+O007sfrMukZ6EHoQuoj6HfnnOa85cvmLuZ049fg5d5d38/dxNvz1KfM48cNyfnTjOWb92wERQIj+MLyWfyVGH46LlLuVqFLQT6hOVtDWVWiZhNpIVgCPzAqHiP3KiE1rjUeKjwWIwXX/JL+KAgRDT8JTgBV9KvtN+5981X4Yvgt9+70DvES7SnsUu7M8fb0ivek9r31MfWT9R33Vfih+cP3v/Q98X/wrfDb8a7yU/Jg83z0FPhH/CEAggQyB0oJAAzCDrYSgxcnGXYXThN8Dr4Mhww5DOoG7f6Y9Hjra+d05gfnaefg433gadtN2wPgX+J957jn1+fx6bbup/Ya/fAAjwB6/+T+ZgAABfALQhFtFWcX5hdIFy4V+RMTEVgPNQ7fDHEK+gRn/sr20fBl7FLqF+v365TrZemr40TgguE04xjlI+ar5H/j4OI84+TjmeJA40/iG+Ba3U3aQNj711rZB9w74Urrt/VU/4AB8v/NAX4J1Rx5MAVAPkY8QwdCJEIRSR1Xy1+lX2NTcEUgO/k67kDCQxY/hS9KH70TgxBFFfsWpBGmA5319O9x8Af3Zvew8HzmJN8e3m7hp+dn68bq/OWX4jDj1Ogd8+D6N/6m/Cv3y/Jy71bxlPVX+xX+yvqt9cHwpvAy90kB5wn4C6QJoQN9/3EBBAhoD0ITjhCUCXMBlPvK+9L8Av+dB9cFsf+d8kngGt/U5gX5lwRFAbr0JuTX4PTpT/uhCnkC0/PK4Fva0+ie9yYGyQHS81Lqbegv+V8KSBkcGqwRTQ33CQMOQhJHEWMPtAk9BzYBH/uh89fs+uuC6W/rQui64dXa+9fz2hfh6eWl3yDWu9Ax0rvZauB34UnaMdIq0BfUGN505w/rG+u06qPzAwCdDVkSFBNvEToW4CNDMDw88jxJOqk3ODmZQ+1JrkldQrw48TZhOqND4kMTPvkyYypEKP0pXSxVKT8fvhOdB3YDnAPZBMQBf/q68cPpaejx6NLtmfFA8ADwa+2U69Htke+48nT4lPmq+DD0++417vfuZvIJ8wfzDPJw8CjyaPQl+or7bfu++mr8rwA+BSsIFQfa/xD5Y/Wi+AIIkg7VCBn7gec542DuVf0LCmwD6vax6BzmhPIT/4YO0QSQ+iruKOjm+Fn/0wegApnyQe+37Dv4qQGeAjD9Q/J89A/48AFlC3QGQQJ399z2xvgy/Ez/l/qG96btPOnO6InmNumP6I/ouuc54qjfs9vI3m7kZOSS4kvbiNZl1HzZ69+548bk+N7x2Y/ZZuTs8jgAWQkSDPcL+wxtFQMlrDRGQM9DWT/3Ozc+fUWfTJ5OcEpiQiE6kTeqOVY8ZDruNWsu0ScPI4si3SHYH10b9RSTDe4HWwf5BlgCBP0P9azvVe6W7uTxB/Hu7M/nUuRa5VTtVvUR+Ob0se096rrs9vO/+9z+1Ps89gTyIfKR+fv+NAKu/977EvoJ+2YA/QQyBfr/Q/po9879mgPIBIj9Le4S5pDnZO/K+PD43/Oy6innROrV8TP8xvrU95/xTPD1+Er7UAG0//P8qv22/RYFEAhPBgkByPga+e38EAOKBQIA9frx8uzv9vJX9gX6sPem8p/qmOXG5GHmyOnW6xTrcOi64/bhp+Lm4w/mwuRp4tnhGeC734/gn9/j3unbeNrf29ndMeM75GzoXeyg8n/8SgNbCz8SqBgkIvUqaTZQP3VDnUVgRgJKRk4gUT9SY1AsTiFKZETgP1s8eDmbNYov6yokJ74izRtBFMIOCQ2TDYsLdgdgAWj8l/kR+EP52vlr9xnyLOyJ7Ezw0PT/9VXz9u8i7lvvBvMN9+z6G/lV9tL0O/jl/QQARP6H+z/6Xfzv/t0BigL5APL9Tfoa+v78Rv/7/qf6wfP97xLsZenP6MXmXuXD4S7dY9oN2TvaktvX26zbSdoQ2anYZtxt4sXmuejD6EnpE+xB7xzzAvkL/R7/jf90AAQD/wU5CE8HOwUOA1oBTAG//tD7KvhT9C7yyvOo9OvyCe6y5mnlK+eu64btcuuZ6Yrox+ky7qnxcvc++Bn4dvdA+O/99QQ9C90O5RJfGRUfACSFKLsrbDB2NGM3ljr0PG8+Nz9OQGRC0kOCQ2VC5j+tPyA+jDreNMYuvCoEJZIf4Rd9EJkKIQUiABL6s/Q98NnrJuq96VPqquk650floOZo6yPvGPH68BzwZPK89L33DvqD+9z75PuH/hECYAR1AysB2AFDA/EELQX9AXz95vnH9pT29/XP82fvSOf+4fbgdOOf5Z3iLd281uXTd9ZG2czcqNzv2AXWItQe1jvaO95S4ELhoOLn48fmY+xb8ZL17Pdp+Sb8kQCoBEgHHge0BwcJWAshDvUOBQ/kC44HlQTaAkcDtgE2/p35SPXH8pTwH/HY85TzJvCs6E7iweUj7o/26fZP8S7sSO5c+PEDaAtFDQsKwAhADgwZTiR5KtQpHidEKL8tITXROyY7rDbOMOIt1y8bNbk2gzI5Kochkx0fHnwfqB/gHWkZkhMxDkYMcA0bEHMSeA9sCXMDCAD+/7oBnALhAc39FPe88SfwP/NF9iH33PPV7mXtbO7Y8fT1HPdz9hP0bPNz9bf5/P0x/+z+Ifzh+TX6Zfvz/QD/bfz/+Pn02fOo83b0b/Nj71npauQm4oni6eMN5CLhd9xe2PzWxNjM283d0d0h3MvacNuz3VPhyOTu5vrnjOi06c/r/u6F8qf1pPhe+i37ev2W/2sBAANEBAwFtwUIBkIG7QaeByIIhgfMBaYETwRaBIMEGwVNBXkDhgEQ/7b+WgG3A5sFvAR6AssALgFtBNMHPwluCDsHUQeDCbEM9g7oD58Q5RCsEu4WhRrJHP0d7h3jH5wjQCd0KS8pVydlJrQnGir+K5EreCgEJegiZyLyIoQipx6JGVMVbBJnEo0RlQ4HCuwFxwL2/1/+cfvN+Cn3O/Ws8xjysvDr7oLtV+zt6xDsDexJ7ODr2eqD6iPrpeuh6zzr6+qe63ntye4c8KDwl/A48aXykvR+9Dz0mPMW85vzBPS888Px9+6m7ATsBOyy69nqN+jr4y7hTuCM4NHhOOK24I7e9dsy29rck9+q4aria+Lt4lPkFOc460LvhvHz8i/0vPWq+SH+ugFLBEwFFwZCCG8LUg8hEmUTARPgErYTZRVgF2YZphmjGOIW1BQOFQ4XpRgMGMUU4xDeDqsPShFFE5AUVRONEUkQohBtE1EW6xdOF8cVRxSrFEYXbRkPGocYeRWIEyoVPRgqGrYZbhdBFTcUZRWOFjUXBhb2EuYPkA6aDloPYw98DKMIzga+BZ0GrQY3BO0Apv3Y++v6qvr/94/zvPAA75/u8u5L7kvsoeoK6Sbofehh6Rfq/Onr52vmROZO5xzok+g/6IDoFenw6T7r0uuO7FLtV+5k74bv1u8Y8SXyBfTS9Br0D/OE8Zrx7/I/9Jn0NfNS8Urw3e+e8AzyafL58W7x5PC28Svzi/RB9VH19PRC9eb2hvhE+oT74/td/MD9gP93AVgDVgQaBTgGWwdkCcALrwzbDGwNCw4KD/oQdhIqE5gTbhMuE7QTaxQ7FXoWdhefFy4XlxZfFo4W/RbmFk4W5BVxFeoU7BRNFBcULRQhFBsU0hMWE9oSERM3E/MSLxIXEQcQ3w62DdIMLQz8Cp8JUgjxBh0GbAVdBEEDFAJVAW0ABwAp/zP+XP2F/MX7Avsa+k753Phl+A/4Svdo9SD0lPPy88Xzg/LD8OnuUO6s7tbvPPBI8H7vQO6P7Qfucu/Q8PTwM/AY707uo+6O75DwGfHi8A3w0O948O7xb/PP8yHzhfKL8nDybvI48yLzafMe86Tys/J28uLy6fLq8sbydvJk8gvzb/Nk9Dr1l/VA9tj2i/f6+Lj6nPwM/iP///9EAQIDigSvBbkG7Qf2CWQLYQxZDfANFg/EEJsRTBKBEtwS8hKhEyEUwhQHFY8UFBTtEwsUBhVZFtcWQRYPFRYUvBPTE2UVJxb3FcIU2xJSEfQQhhFWEj4S2hDvDj0NsQwbDfINkQ0qDDIKRwi0B+0HFwjcB4cGFgWBA/8B7gCd//v+6f2U/F/7GfpO+f73Wfa49H/zsfLY8U7xDvEe8E3vjO697Yvtie247cntoe1S7dLsyey67A/tj+1Q7jTvVe8/73jvIPCE8RTzOfTO9JDziPIh8uXyL/T09C71i/Qv9FH0nfRq9cv1xfWO9Qr2pfa19ur2YvfG90v4a/jV+Pn4OPmj+Tj6Rvta/Hz9If6i/gIAbAH3Ak0EKgXhBSAHygilClMMYA3PDW0Oig9rEVwTpRSiFOcTIxMqE60TsBQ0FfQUDhRaEn8RaRIgE4oTBRO0ESQQAg/MDrsPQRAYECcPig2sC94KogvQDPwNqA3eDPALJgthCy4MpQyiDLYLlAqkCXkImwiECAkIKQfZBWkEawPSAkwCjAFeAJ3+OP1r+2f6vvkC+Qv4y/Zt9YH0z/Mz86nyvvFe8Fvvvu4W7untG+1C7O3raOub6wDsreyk7Tzu7e5v737vdu+R74Lwm/FH8njykvLU8nHzPvT59Gv1OPUu9Y71YPYh93D3Hvet9of22vbx9jb3Xffr9rD2Lfdm+KH5dvor+6375Pu4/PL9R//BAKIBRQIWAyIEUwWVBtYH3gi/CdsK3wvbDKEN+Q0TDvENCw71DncQVBFJEUwQng/kD7oQphHkES0RNRBbDxEPng8qEAsQIg+HDUkMygulC2sLyQqGCYYIpAcpB+0GbAa2BRUFfQQkBOoDrgOsA94DJgRbBHIEfQSNBB0FoAXABXoF1QR4BBwEbgRiBAoEJgO1ARsAzf4q/r39Ef2q+wL6ovih9y331vZI9nP1HfTt8mDyWPLY8vvya/Js8dzw4/CZ8Vjy2PLM8kbyxfG+8Vby0vJ68xv0P/Qs9J/0YPU99rD29vZF90H3B/gs+TT64fo3+1X7Svtf+5/7yfvi+7j7ePvb+1b8nfzY/Mb8Bf2P/Qv+Af4Y/oj+Av+i/zUA9wBxASgCyQK7A+gEDQbhBrUHgAiRCUoKKgvIC38MJg0xDgwPeA+jDw8Pvg7RDhMPOw8ND7EO5w2cDbgN7Q11DZAMpgvyCoYKQgozCh0KnAm0CEwHiQYPBjMGLwaABY8EugM+AzgDnAN/AwIDOwJ4AeYAAwEKAQgBywBHALz/z/8HADIAKQC0//H+YP4u/jX+Bv6X/ef8M/zE+4b74Pqo+jj6JvnN99f2T/YH9s/1lvUJ9T30mPOn8jHyTfKX8uPy6fLL8dDwkfA/8ZLy/vPO9K30IfRO9C/1IPb99iv3QPeb91P4Evni+Vb6p/rw+jD7c/vE+wz8HvxH/K38P/2N/VL9T/2Y/SH+G/+H/z0AZACnAFoBJAIVA1YEwQRvBGYEVwVABjwHTwj4CDAJUwmeCjcMrQwrDCcMnQxlDb0NzQ2BDUoN8QyUDXMOFw+gDzwPpQ4RDpkN8A3jDQsNLAzCCxULrQrACiUKUAkkCD4GygTLBFEEhQN6Am4BIQHFADMA2f/M/6f/bv/Y/s39Of1X/eX9ov1d/D/8RfxA/Oj7bPuk++H6yvnF+e35MPq3+a34FPjl9zL4D/ni+O33j/Zg9tf27/Yd9xj3BvW585z0b/au95j26fOB8nDzqPVF93r2IPUS9X/1Fva19hz40fgF+Hz2WfZR9335+/x3/mP8iPnD+pP+rf/YADYBiAG0/yz+0P80Aq8KXBrsGMoFZfWf94sOOBjcFFQOQgaiAnj/jwYNEZoUiA+JBK/v0udE+OwPhBtACQ32cPHR9hUBaQcjDAcHnPwG+mL7AP/2B6USOhPVANnv9vWECtgWUxLqCBICE/qA/P4L6hfYEnUDc/60AdgDHAXGB6YK6gSV+gL35/ny/lsDEASGAND2B/LY9cr7df5N/rT9gvYz75Dz8f44ATz3JvDK9Gf5Jflp+Oz4/Pga+pL9Xf/1+1n63QDRB8wFLf5d/+oHZwmvAxkBYgR+BX8CEQK5BV4FmQEKAIwBRwH9/jD/ngCa/1/9yv3u/tD8Svg092D52/pd+0v67Pct9cj1b/la+sL4kfg4+3T7ovjq+QAA6AM4ASr9Kv7nAeoBSf/X/xwEEwWD/9z6c/zlAEwCjf8v/Cv7cfz6/TL9NvsH+Yf4JfnT+Lv3uvW69bT2zvY09fzy/fKX9Q34Tvfh9KP2fPw6/3v85fqO/koEDwaYBTEG5AeDCeELmg6cD/IPPBKIFdcVzxT3Fh4crh18Gnoawx3fH8AeRR3lHhofXBycGfAZThvfGc8U1BAdD9sPXhD3DA8HuQKhAgAC0v4V+876uvxi+uD0+/Cz8QnzxPLd8Wvv3Ox568btwvDV8e/wdu/87rTvg/CL8vbzA/Rt8o7wGvEB85j00vNV8pjwTPD07z7vF+4b7tzunO2X6rroielp6xjreugw5C3jK+UC6Mbn5uN44VDgs+Hw5Dbob+hp5ZTj1eZt62Xure++81T3E/cm9xP8SgTcCwIOfQ0lDVoSdRuhIzAnhydoKeosXzAvM1Q3fzx4Pmg71javNp46mj2yOok03y7HK7cqpSgjJeUfAxoFFI8OnwpHBzADCP7J+Vz1fe8N6pjoGOod65zmyt973UzhreWW5V/jVuOG5PjlaOhf7NDxf/Qu9Tb2p/l//wYDiwRpBjsJAgzHCk0KIw5jE/UUuw8WCvUJQQ5DEJIKbQN7AS4CRwDF+r/16vW69ODuoefo45TlOeeV42bcr9e22SPecd7y2xDaPNsW3g3e3N6U4YHkYOYg5mHn++qS7aLvXvHh9Cj4v/eW97T6sP/GA7QEFAQJBrQKzA4IEF0QLROBFuoX6hj+GUMcGB4lHl8ezSBLIoYg9B1SHeMe1SBpH6EbMxhBF2MWJRTSE9QTaxB4CqgFYgahCNAGZwE8/Jz73f1j/Y/5YPbL9t/5ovlT9oL0HPaM+Vb6+vhQ+G76RP3q/qD+gP7U//8CXweMCHsITgglCnsMkw6SEHYRIxGtEIYQpRATEYsRQxHTDkMKswfSBjoHsAVEApn/w/wl+lH2HPQF9NXy8u/v617opedz6Fjo4ebs5Bfk7uLN4UnjvOXK5uzkXuE+4Tfltejs6TPooudC6ePrRe5p70bxBPTx9ZL33vhD/GUB8wNxBT8IWQuHD9ERAxNDFckYBht2GyAbaxyjHZEdsBzJGtAZDBmOFRMS7w/iDowMYQnxBEgBIgC//o37sPfo9Az00PKD8O/uOe5q7vDtwuxZ7FbtzvDw8sjy1PEs85P2L/uV/sj/GgGAAw0HxArZDF4PoxJiFeQXKBkSG2sfXiLfI+siQyKuI5gkdCQBI3IhTh8PHCoZERdrFbQQ+QpdBw0FBgKN/NP2NPPM8MvtXeqX5Wri4+BX307dtNpj2nrcztwc25jZ1Nmc2yzdct954jPj/+Lp4jHl3+rc79vx9vG98cT0kPnd/iICuQNLBYsHFAqaDaYTsRgfGkAZLhlXG5MfxCFEIJ8eGB3qG58aOxkqF5kU7xESDvIH3QOzA6gCIv+g+HDzvvB37+Tume1g65fnTeQX40jkp+VP5h3l4eOO46rlZOlF7D/taO5i8MTyOfXJ9w37hv5XAaEDFAfQCuYNQRHNFMEXvBk2G8Acvh6LIfcjayUgJSUkDiQRJM0jWCJAHzwbARirFf8SDQ/CCiEGwwKs/1v7Mve69EbzjfDX7Jjp+ufB5g7mp+YZ5eLjVOPk4+Hki+Rb5ZnmVOhD6eroyeq57FruMvAF8Srzg/Vy+Er6PvsL/i4CrgXjB2kJuwtrDggRCRRtFuoY7xpJHI8dLh6nHuseRB6+HOEaDxl0FhoTLxALDVEJgwRjAM/8pfn09Rbyl+527A3qlebZ41HiK+Gz357dqty33efeQ98S30TgOOME5jfoZukz7GfwJPSq96r6nP02Aa4FugqcDgUTzxaZGcQbJB69IRMl+iaYJ0QodCovK0oqvChTJyQmtCNOIIccWBhcFMUPiQuvB9UCsP0E+d307fAO7aToaeTp4XzgWt4K3OzaF9tM24nb+9sK3R/fDeH94kLloeeq6ATrMu/98mj1K/ec+Tv9DgHEApEDagX2CK8LLw2hDooRFxTTFWQWCRflGCIbmhxDHEMcyhyiHHEcQBtaGYQXARW8EUsOrAtHCe0FJgKQ/iT77/fl9O/xjO/C7cnrg+m85zzn+eYQ5nPlaeXT5vjnluj66Hfqdu0V8NbxpPOo9hv61vzx/rQBAQUkCJoKjAwkD/IRVRTrFcwXFhozHDIddx2wHTwehh4KHvUcoBvZGRsXkxOfEAYORAu3BwcDy/5I+3H3M/Nk79/rMOhy5GDhHN823kfeV92L3GbcDd3F3qHgYeJw5Ebn+ull7MTvuvMn98j6Sv4mAjsG2AnoDK0PVhLUFKAWLhgjGQkZshgyGLMWLRUWFJESURBADWwKBgihBQoDSgCz/XL7PfmO9tTzIPLI8GXv1O2Q65/rmezA7JLsWO1v703xw/Jr9D73zvqY/lEBpgO5BmgKsA2KDxwRChMtFYwW+xYPGK8ZJhq7GWkYUhdcF2gXkhW9EuUPUg5qDBUKiQchBU8DAwGI/oj88Pq++qL5X/e/9R/18fSt9B/1Dfdl9//1ufVm9Y72Pvis+ev5qPmf+vH8ov7g/oP9wvsy/Gv7lPrX+kb6BfqG+e75Ivo3+R/5NPfm9c31cfXP9ODz0vOU897z8fMY9Fb0xPQs9Uf2Rfe7+In5IPoo+vP67Pvf/DL9s/0l/hL+MP6//mP/2//b/zD/gv7E/mn/k/9o/xj/GP8a/x//Ff+bAB4C+QNdBaUFwwZTCAEKfAz4DcMOmA9UEPIRmBOLFE4VjhVFFnwXMBgFGUoZYxhbFq0UGxQ7E70RWA8cDQoLogncCOgG3gO6AGH+yvyY+yv6lPgp9pj0kvTe8//y9vH98HzwH/AH8HbwNfLW8v3yx/MX9YT2rfcJ+Tf64vtB/UT+w/4o/yEA+wCbARoBLQDX//j/Nf+H/t39j/w3+yP6NvmO+JH3m/Z69TT0QvMm8rjwAfB77wDvOO6w7Xrtc+6278Dv2u+i8DPxcfEr8tvy/PMe9f/1VPek+M75s/sC/jL/GgCvAM8BQANCBRUHbQfVCW8MJg46D6YQwBJQFGsVwBaBFzwY/BnYGukatBsGHDkctRsYG+IaZhpNGWUXqhWUFA0TrRBNDtMLVwlSB9YEzQJEAQH/zfyl+pX4PPd79ffzD/Kd8LDw8u9w7z7waPAY8EHwyPAP8ojz6/SH9cb26fiR+vb7JP4AAKoBwgO0BPEFxgenCSIK2AmFCp4KBwunCuAJMwniCDYIKAahBMIDGwJE/8X7Yvnr95D2P/QY8bzufe0K7NjpM+hY527n2ub55WrleuW85S/mUOa25mXov+mn6o3rNu1B7wvwO/Gm8tjzzvUR99/3ffj2+Uv8/f2E/7UA7QE9BOkFJgfbCDcK1AuIDbMP4RFxEw4VQRZNFx8ZYBq1GhgbhBvjGyYcTRyfG/caihq7GWUX6xUmFH8SpBGgD5INUgtICUsH7AQ1A0QBNf+Z/rv9dfx2+136tPkb+dj4T/iw9xn36vba9oH3s/cD+Ov42fkU++f8Nf5n/6AArQExA+wEogYECPwIMQnKCdcK2gtqDF0MWguiChQK3gisB6gG3gS/AvYAPf/J/Rj8sPmi9nTzdvFJ727tm+uB6eznB+aD5Inj9OIB47PiGeKl4fHhH+OR5EPlKeaa5lLn4Ohh6qbrF+2W7qfvg/BC8uHzR/Wn9sP31vi3+mj83f3Z/woCxgSHBj0I6wnZCxcPfBFOE3AUthXAF4AZKxsxHGMcGR1lHUYd+B32He8ckhtzGR8Yjhe/Fh0VtxLwEAkP6QwrCz8J1ga9BEUDtQF6AJH/Wf6Q/I77UvvC+yP80ftT+4374vs+/Ab+9f5y/34A2wGbA1wFJAfSB50IjgoODCANdQ7ODrsO/A5wD40Plg9mD8kN2AvFCowJHQiIBr0DBQHm/j38kPkf96H0TfJW76DsXeqN6Bnn4OSM4tfg2d/43iPeQt1Q3Zzdut5X3/HfbuH+4t3k5eZ/6NLp2uq17IHuCfBL8enxF/J78zv1P/aH9434NPkI+kT7UPxX/bz+pv8uAekCfgTzBcsHEgo4C0ENwg+CECMS4hPdFKkWvhcNGKoYqhk1GqgZCBnsGBUYHRh5GKQWDhX7E0ASKhFxELIOzgwDDFAKcgiUB40G2wSMA7oC5QHRAc8BmgCy/6//lf+t/6z/m/+d/yEA3gAIAYcC2QMtBOgEiwUZBpgGSAfTBzkI5ghhCV8J8gkjCr4JmQk4CTYIFQdhBiUFRAPkAej/yv3g/Jv7gvr7+D324vMe8q7wK+977a/sPutI6froMujV51/og+g26Gjn0edO6CHovehM6a3pgOq56jnrK+zu7LzsF+yK7ALtl+3h7fns6+yb7Y7ubO8S8FzxLfIG8570dPYI+Uj7Kv0MAN0C5AaDClgNORAnEk0U1RboGOoaVRyeHXIe/x4GIPQf+B+UH8keXx4tHYob9xkkGA4WIhMHEdgOtAyRC8QJdgfgBRwEMwLOAIv/ef6r/cz81fto+5H7ofsB/LH8ZP0P/ub+BwC6AP4BywO9BJ8FbQdKCakK4wsDDdsNBg8IEF4Q+RCuECUQZw/HDp4OBA2dCwcKIAcNBVwC7P8p/rz7dfn29p70evLB793tJOyq6QLopeYb5VLku+NZ42/jg+Nz43fkG+VJ5Q/lvOWV5ifnp+jS6QLqDup66ovq4err61vsueyO7JjsQ+0t7hTvfu+W8BLynfNU9Sn3T/mI+2f+vgAdAy8HlQqcDXAQjBIuFaAXKxrZGxIdnB59HwogJiFnIeEgZSBSHyAeGh2uG2YZDhdYFJsRKQ/nDPAJlweABToDgwE1AHf+6vxC+6v5U/gI+Cn3qvZk9pX2rff093f5q/oP/KD+QgAzAgQEgAWHB9MJKQwoDl8P0RBfEuoTsRUzF7MXzReLFw0XLRZdFaETNRHkDisMTglvBrADrwAn/Z/5VPaP8yPxWO6y6zbpsubc5F7jIeLr4MnfZd/W3iLfEODM4HjhxeJY46XkD+av50fpcOqQ63rsP+1k7s3uHO8A8F3whvDf8FHx2fGx8kfz8fO/9Cv1Pfbi9175ivun/aT/xAGzBF4IlQs+DnEQKhKZFCYXshgCGg0b4BpbG7EbxRuQHBEd6xt0GjAZIxhzFmEUBBKzD3oNXAvNCPkGKwX3Ai8BkP8v/oX91Pys+6L65vmF+VH5T/mU+JL4Ivrz+iD8vP0X/88A1QJnBF4GgAjrCsoMgg5VEMIRhxMrFdIV4xayF2oYjhgcGMEXOhcIFp8UURIgEMQNygpzB3cEIgJT/4v8mfmm9jj0API07+Lsuerv6FDn/uW95N/jpuRf5HvkAuW65QLng+et5y/o+eh46d3pOepG63Pr2+sq7LzrPey77HjsQuxr7Evsa+wI7AbsUux07XfuUO8Q8QDzKvW89zz68/w6AKwD7QZYCpoNChBtEoQUZhaNGOYZFxsgHLYc8B1/Hs4e/R5kHTAc7BpqGC8XABWBEjIQiw0hCxMJqwbjBG4CsQA9/+/8xPty+nv4Z/f+9KTzI/NM8mzye/Lg8gf0DvWt9nX4Kfp0/Ij+vABzA5sFHQj3CjYNJxC1E4UWVxldG4AdXyE1JPUlnyWwJAMkDSNfIj0i3B+vHEYZAhauE9cPGguCBiQCMv6d+SX1mvCs7GLpO+ZP40jhfOBZ39DeB99R38rfoeD+4KbhP+Jn4vXiYeNV463iX+Gn4Kbe+tyt233aCdpd2oba7dv13Lvd297X4Ejjy+aE68PwH/Y6+jz+OgKeBugLQxB2E9kWORlXG7Idpx6AH7UemRvzGKEVuRG1D6YMewoqCbIGNwehBoMFaQUiBHoDjgQUBFYFbQVaBDgFzwXABnsIgglrC1sNng6jECARsRBwEAMPSw5CDoYNcA0aDegMaw30DXcO3g5gDvMN5Q2TDToOMA+pDwMQ+BDXEDAQhw+ADk8NawxyCgIJTwZVAjf/H/x1+TX3UvUo9JryePKx8j3zn/Sr9b72Lvlc+zr+tAHlBEsILgspDisRihMeFtEXEBgaGQIZqxiEGPcWQRRXEX8OdwsjCIsDaf4q+Vb0N+/U6dHkLuD5233YBtWG0RzO3cquxz7Fp8KmwDG/K77NvLy70rquuQS5ybm6ucq6+LtfvmPBvcXVypPQhtdN4Fzp+fJ8/NcGrxF9G5sldislMHo1fjjsPE8/BkA3QmJBEkAgP9M5YDTaLtwmGSJJHFcYFRjfFbMV5xVjFKsVYBUaFBMTYw/BDDsMzQrPCogKYgmKCT0IawevBhwEuQNfA/MCTwT3BEcGLwmtCngNkRCcEksUMxUxFt0X3BhoGtobAB2WHrofnh+bH0geihscGIoTbA8lDO4IdAWbAVT8g/eF81Lv8Ov95+zk5eIO4sTil+OM5PDlO+Yk57Tov+m17PDuWfFe9Bn2d/jY+o779fuy+6X61Por+mr5efhb96731fat9Tr1OfNB8ifxxO897xfuzOxc69no6uYb5QjjCeKW4Gvfyd7S3dPcLdsf2K3U688fy7HHIcQdwqrBT8HkwR3DRsbhyRvNn9G713feQOfj8Yv+HwxMGHgjwSq/L/M0Fzi5OwQ+9D2UP1pAG0CMQHM81TY9MG8oBiQHIDMewB+KIckjZicPKTAsgi0sLPwqcSdeJTYl0iPeIgkgAxxAGAMTGA5pCSwELAFx/9X+jwDRAVED8ARuBWAGLwjoCQkMXQ2dDt8QyhJ0FE8WSRbPFcMU/hJ5EVoQ6Q2SCkcG/QBR/Mj2fvEX7FXmBeIu38/cfNv314vVONTO0knUB9aw2KjcCODW5Dnqbe7m8tP1MfdL+f35ZPw5/37/cACzAFUAnAAYAOb9vPxt+XT4FPh79+n3g/bK9F7zKvHA76zu/uui6S/mK+MM4RLeLdwX2tXW09S/06TSmNF9z4XMZcl7xuPE7cN9wiLBVL/2vubAtsV8ycbNVdHA1S3eU+cN8+T/YgukGLclIjPmQCJLilF+VO1U/FbUWQ9djV5gXEVZLFX3UC5MXEYRPqY1bTByLe0tCDDwMZEydjLaML8wMjCKLncs2Cg5JbsjLCFNHSEX3QxhA9r69POR8GztXeuS6nbq2+se7v/u9O8U8MTw+PME+Xv9egIeBd0F8wb+BpcHOAh1Bz4HGwhZCAAKTQoBCCAE3P1v9xvyq+zg6ErmEeMi4RPf+dzO2j3XFdOB0anQfNKX1r7aoN/X4+HkGOfA52PoW+kH6azp9eqc6yvusO4K7Vzr/udH5b7k2OPQ5HDm0Oec6oTtW+/O8PjwG/Hh8YLywfSy9v/3Kfik9073mfYg9vz1WfTp8j3yDfLK8qnzBvOh8fbube007IHrw+rk6BHmt+Up5r7p0ett7gny9vUN/DcFig87GIwhYinQMgo+NkdJTyFRrk82TfpMuU7uT8hOuUr2Rds+ezvbNd0vsyiIISIecR2CHlMhwiOfI7ojqyIZIwQlziN3IhwfcxocFwkUNA60CET/AfdU8Ujs1Olh6Jjm+OUq5s3mVekt6gXshO1p7+vxUvVV+CL7/frc+pH6afrf+hT7CvsD+kj5tvcb9s3yxu5K6STkTN9v3N3Zc9hS1cXSZtId1OvVkNWd0nXOt81mzy/Wt9rG3+LiwOSu6qDu/fHf8rnyDPN49Nb1Tvlc+0j6OPo/9yP2DveN98P4k/kP+n398QC9A14GxgUxBqQHGQmCC24MLgyNCzsLQww0DDELDQlEBksDTgLnAYkBIwHE/sj8HPpz+aX4cveK9Yvy1/Bb79bu/O4g76ju9u698I70pfp8An8JHBCHFTsamiGzKmIyVTjBOIU3GDZjN1k6ODymOt42zzHCKzApsSV6IrcdzxjmFoQWqRf8GpgcARyIG0AbKx2/H4MgWyA2HaIYUBVhEdwM8gbf/lz2Hu9n6QvmHePx38ndAtxD3NPdtN9J4afhFuIx5PflmOju6jnrh+rr6cTp/eri6/zr7Oo+6UToDuif51HmgOTZ4RHfnNxw3Mnd3N503pbej+Bx5GDpVOwY6mbmLeTf59rwkvei/Lj9Qf3IAWcFrgnaCqkKmwkXC64MPhBLEQQPLw7xCCwIIwrSC/QOoBAEDzwQnRBqEnUVdBIYEoIQvhAjEbEQew07Cs8GcQSmAtD/wv3c+sT3G/bE9OvzhfSG82PyTPEw8Fvw6u9f73PuteyV6xLrz+vS7PHthO7M8KXzHPmWAPAGtg0aEnEWwxziJKYr7i+/L8MuYC7XMNc1fjeeNe8wdCqFJdsiTx9hHS0a6xVvE5UPxg3RDaMM+gucCNYG/gZwB1cGYgRI/3L6Lvhj9jH0Pe8v62vmEOJs39/eeN2s3avewd7B39PhLuQ55r/mrOeZ6WDs1+5K8izzHvNK8xr02fWf+AT6wfq9+ef4qfgd+pH63/j79nn1U/Xh9iL48/ja94X0QPII7ZLrw+tZ7YXux+1t8BT9Fgc4D3oJEfs98U31SwjnG/ghpxw+D+8HsgywEYkVxBLCDnIQhxLrE+8SFg9fC3wLHArXD4kTsxckHe4VeA5SCG8GVQtSCxUGu/6z9qj10ffC9QTy3OtB6WTrlOlM6TTm4OM55rjosOfT5AjgtN5g3Qzcodqf2iveheNu6ADr3e3b8WD6SAO+C5YTHhigHOMfPiMiKNUtwjEaNTAzMS/zKsomMCXgIrAfiRzXGXYXqxTMEJQNdgtMDHAO+g0WDBoJNgbnBCkDif+M/Hj5XPeY9PfwZOwN6+jpM+sm6lXpbuiV6ZftzPF5877zvfOy9Hz2q/j4+DH6h/t3/JT88vyI/P/8ov+dAnQD7gPZA9oDvQPMAvoAFQDp/57/4v7z+9j36fNU8rfvne7L69vpO+jD50zr7/MT/CgBEf/89Z7wnfP3BBEVZR2LGp0OxAjRCvoQuhZpGcQWexpkGtYZrxUfDyQSgBPQGLUdhhgfFjQV9RBiEOgLmgSXA3QAw/6s+9vzT+yO6D/oNupq57XlcePs4Qfj/OPL4mXiPeKR4W7hdOGd3g/drdw82wHcl92R3qzhf+Of5H/nlOoW7970h/gc/M8A/AMvCfYKJA0bD3oSbxXIGZoa9BsWIHgi9yWtKEAqoy0UL7MwkC/lLHstZC7SLi8vqyoQJt8hxR0rGQQUaQ9/CkoGygOk/qf5y/WP8MztuOzf6sHr/eyi7GvsJurD5hDlS+Rw5rPo1eri637p9uUJ5R3knudu7hHxlfOd8/LyG/Uj+Ev7Of4jANMCmAW7CPUKDwvBDBcOeg9mEiATpBOnFMQVTRUzFMwS6A8RDqQMSwukCrkJ4gejBG0APP0A+zP6jPmq95z16PbA92f6zPg59Tv1BPO3+FD+IAAFAQcARv/nAj0FkAM2Aev+G/8QApIDwwDF+oP2AfSq8xL1i/Pw8Cfw+O0I67Lp6+cZ5kXm/OOl4Czf/d373LDcJNpN2ALYRtrS3Lzd595R3rTf+ON35/DpQ+377sXxq/aM+isAFwdjDlsWhBziITcnSSxZM5s4Lj4fROlGy0koS+9JX0pXSbBIakfXQ7U/zDlTM90tiie3ITEc4BSGDrUHZQDK+s31RPFs7TLoquMf4A/gP9/w3Z3b+9cq1yDZbNr03BDdVd0k33nhr+NL5jjoNuuy7uLwwvNx9jP5DP0EAcsDaAYVC+YO4BLCFdcWjhgLGhAc0hqRGgcbyhqZGv4Z0xX1EYgPXgxsCqQIFAVuAfUAT/42+3/4gvTr8p/zX/JX8fvuzO1h7h7tdfBx8KbvOPLz8Vrz+vdY+TX88P6Q/in+Pv9jALwAKAESAd/+vPxl/I354/dy9o7yUvDl7lTsoOlo573kX+Es3xHcL9n712nY49Zv1jjVAdMD0qnSbtLU0zXXAtoL3cjfV+JQ5l/rN/NB+bn+JQfKDdkWkyDuJlotCzPAOLk/pUfHTXZS8lVPWAlYIVjPVzpVbVSfUz1QKE1wR8k+RjdRLzEnvCCdGU0S2Qo8Arv6hPK26+rlCOD625vZYdW+0jTQ0Mywy77LUMwpznDPkNCA0pjUztfy2q7d5eG55Qzrzu+i8/L3Yfuk/xUF8QhVDV0RiRToF7MaahziHfYesB+rHY4c9Bm/F+gVmBP8D3UMcQhhBJMBzf0m+qr2efPI8QjuG+1x6hDoXOnL6SLrVO0m7uTsA+807/Dv//GP85X29fep+yL9qvxA/2b+Ov7LAYYC0AIXBJgDVwHIANv+ufyZ+Zn4t/ZN8zzzge1l6GzmsOIa4BHd7tmm1JvTitOZ0DPQOc7dy3XLw8z+zibRhNa/2sLdcuJ+5pLqq/HX+7kBLgoJEr4XniG/K2IzdzrUQB9FM0s/U1VXlVv1XdZeMF+VX6Ngl14wXapa7FURURpLgkPTO9gzJCxeJAod+hQ5C2oCRvnf8FTpvOKC3NjXKdT4z9TMZ8kqxfXDAcSExQrIUMoIzCbOOtGq1MzXk9sC4K3kv+p87zHzJvd++qX+bgOnB28LOQ5XEcATaBY3GBYZRBlVGWMZjhhzFq0UyBFbDxENAgqNBlIDVP8y/Pf4mvXg8vvvhe2S66boiOVv5C3jreMI5QflH+VT5WLl/OWl5xzpIuta7vHwg/O49UT3Tvi3+uj9MwEVBI8GogfDB08IsAYNBmUGyAUCBl0F6ALVAOb8vfkJ9z3z6fDo7aTq7+f75Nrh3d9m3gje9twE3dLcj90E4OfiouU36XLseO819TH6CQDBBqQM9RKuGcUfcyYkLuczHjoiP9BC/kdIS+pOa1EyUrxSblIxUqVQLE/aTOdJCEXHP2Y6LjN6LRMnKx/mGPQPggcqAGz4r/EI63Xkit6x2XfULdApzIrIR8bmw3PEpcURxivIRchEyVHMUM7s0rTXN9qN3rvi6eXy6iTv1fIb9zj72P9bAnoFAwmrCzQP5BFgEn4TQBR4FDEVtRQxE/AQWRF6D3IN6wueB8cDQgNgAaP/Lf5y+8/3ZPbu88jype7N7ibuHOtn747tkOqK7L7qY+rm7kzvve9Q8kbzo/MU9eT3CvkT+Df9pv1J/cYBJwCd/k0BHAJFAakCCwM//SL9af1X+eH3sfe484rwivE07kDpUugA57vk9+Y457rjY+Oa5SvmqOpt7q/uePLx98X8qwI1CJEMsxF1GKsfRCW5KjQw1jJ9N2o8PD5lQUZEvUOZRp9HqkYyR0hFL0OFQVNANj77Ofk1BTGBKzgnRyIdG3UVbQ+dCIkD+vwt9c3v9+ih5DLgjNr01X3RY87XzG7Ky8iUyGbHFcn2yW7KCM4sz1HR49Vm2HnbmN8E4tLl++hr7RXxMvUp+T772/0eAocDIQUVCZ4JPgr1DEgMbgvXDGAMlwurCywLAgkmCGEIoAbBBQIGWgMuAkoCtwCU/4r/m/5//Fv8xf3u/Vv+SP+3/kf+NgBnAPgAXwHrAmoDmwIDBQEEEQNgBSoENQNIBYAE5gIWAmwBb/8A/2f/H/1V+sP5svbP8zXz1PC57dft0ust5rflFuS832Lefd5221rbk9yR2tHZn9xx3fXebuPP5rDoDO8p8xn3zf32A9kIww4aFhUbCiGNKFksmzB9NuM5CD02QWNDQUToRn9H9UaSRhVGzkPZQWpBMz22OJQ1zC8SK5UmHCA8GbUSEg0qBsX/8vlt8vXr1uZT4XbcVti/1IXQec2Qyu3HiMbKxpLGqcZUyDHJDcvWzXfP2dNx1/bayN6i4tPmletf8IX0QvgK+2X+JQJGBe0I9goqDbwOxQ95EkUTVxMWFA0UDxPQElYSuRJKEiARlA5DDDELrQlzB8UGYASvASsBxP4h/PL6Q/lX9yn3a/dO9uf1D/ag9Rz2Mfd499v3sfnE+q/79/w8/s3+GwDIASsDBQSYBU0GBgYLB2MHsAYWB1sHfwZuBVsECAOHAQAA/fwW++H5m/cp9FHxOu+17F/rk+mc5mjlNeWM5Lrk5uQY5fLlnecG6dDqg+0N8XX0nfjk/awBvAU0CowNiRKqGJMcACHiJFQnlyqCLlIxCzOvNcs2VDcOOEc4/jboNHQ0GzJ6L60tyin8JJQhIB3mFx8TzQ0aCHgCqv1Z+IHyaO3R57Pi+96729/X2dTl0TrPos0jzY3MhczszeLOq8/40W7V3NeD20Xf7OLT5iTqz+3/8bX2mfq3/m8CswVGCAQMSw+dEW4UJheOGH4ayRtkHLkcmBwEHIIb7xr+GZUYBhdQFMcRpw8GDcwJQAeHBA0Cjf9b/BX60Pei9aXzTPL38P/vtu+87jDu6O1X7Y3tHu7J7njvlvAC8QHyzPN49Pb0oPbk9//4vvuD/UP9qf5y/1D/NQAVAcUASgCk/9r+8v1C/fj7k/pL+m754feL95v2ffXb9Fz0gPNh8xv0HfRB9Lv1qfbb9h34efmt+1v+fQB+AhgFqgc/CqEMkA99EpkUmhZMGasbax7GIHgiBSSnJZomviYPJ+Yn9ifZJ/UmkCUNJGkhrR40HFMZQRYGE8kPDAwyB1wDH/4B+jL2OfIz7tPqvOby4kHgv90a25ja6tnl2OHY3tgN2dbaMttK2zfdJd8I4dPjgeaf6DTrGO7+8EL0LvgR+4n+9AHyBOUH1QpdDesPIRLnEycVoxazF1AYlBhdGNEXxhf8FZkUGhMdEbkPxA2dC1MJxAZlBCsCOwHM/3P9e/ux+Vz4h/e+9o316vNj8z7z3fPs84bzOfOo8+Xz6/Tj9i/4Y/nX+ar6u/u2/CH+dv5r/wIAfgA8AWgBTwFUAWQB5ABjAGAAd/+J/vz9fPye+0P6Zfmv+Pj2jfWf9NrzrPKZ8abxbPFe8WjxovHW8aryAvIZ8lHzefUD9734iPts/Hn8Mf7bA80KeA7vD5kRtxOcGO4e2iNiJZIjOCQsKF8sTi4hLcIt3S1jLegqyCXKItUhhSG+H8YYxRDwCa4IBAhTBCn/n/hP85/wVu6p7Dbpy+RT4t/hgeE5307eN96B3j7fROCu4UPjqeSU5mvql+828w312PY6+iz/rATeCIELBQypDc0QVBTMFp4XThdAF5EVURVDFbsTpBHHDsEMzQg6A43/Cv68+8/2jPB17DToruWC5C/jsN7n2LXVmdWn1s3VBdTe0pXSldMs1p7Yk9oQ28jda+GP5KnmoumS7WfyRfV39i736vkUCCcXPxxPFHQIAwsLG+0unDl6MbgjJRs4JCc7bUmxQ50yVyOLJowvDTjINdEoLh9mGbQYBxobFpcSKAv2BWgBdPvt+BH1rPP29JnwVuwC5bTi0OZ76lzu6etk5wzmdeYx7tX1HfpX/Pn4ivgc/P0BbwoSDTQNogrKCBgMMA8hE14WvBQsE5IPlA7+DRYOuhAAEO0LBAdOADX/tv4pALb/Pvr88lTrMelm6z7tnOwf59jfpty33ZzjzOhf6o/nB+NX5VLrjvKW+CD5yfqD/DIBQAhPDNEQxBKVFAEZfRvZHkUhpiFTI4AkKCVHJGAgdB/7HL4cuRvJFnsRZQsQB9QDBQA9/Lv1U+8v6svlj+Ld3+zaodbc0U/Pw87BzUzK+MmMx1fJDsqRx4bK6splzebRJtKl1uLXvNnQ3wHkiOo87wbxhfbQ+pcBJQm6D4QVdhgzGT4dTiSCL8408zV2NBEzHjpOQAZFq0SnPbU6vzhaOrM8mDhEMbQs0SQ9IiggdRtSGFURmwpTB7QBkf6F+pT4cvbu8u/umezt6WjqFOvK6o7sce3g7QLtdu8P8033S/o0+5D8R/4aAKQD7wVjCeUKqQuwCi8LhAw5D+oPGhCzDdcNkQzCCcAKUQdsBPEEkQF+/ib8APWj9PzxIPNU8UTpo+Rr4cLgbuY85Erfi9wf2jTdbeLK5MTkI+Np5Cnn3Oyq8rfyNfRw9YL4+PxaAT0GeAecCEEJCwyBEi4ULxKyErcPrRFTE/8S3hCCDQEJQQbZBH0Dhv86+a30Re+i6gzp2OX94KfdZdfY04rSDdBkzkXOTM3OzkPP/9Ag1fTXBd6l5Zfrf/Ff9Y35GQNDEGYb8yQFKHEqNjMbOylJk1A1UEpQMU1rT/dWJ1j1VvNRN0hgQ4NAaj1IPAIyOCnmHrcTJxJGCwMG7f2O8pnrk+YY4hPgy9nL01nTMs9q0cnSn9DU0ajVkNcg23XexOH05rbpEu9K82L38f6nAZ0GBwugDNAR+RXGFX0XHhkTG8gdlRviGR8WYROUFbUS2AyQCc/+MP7C9gvztwBE8jfq7ORazsfhFuZo5ljqs9So0zvOUN2u9srr6OdU4lrVeO/u/Ib67v8u+Lz3AfhwBfQS8AwHFm8LoQZWFBgTvBjkFxwVFBJ2CnoNGgziCOcMkQAS+0H9RPKZ87jxPukU6OHhG95r2sXXBtc+zE/OMsybxwjMhsqox8HMm8wZ0MfWHdrp3wzmNet58iH5wQE7DoIYviHqJuwr0zZHP5pJ4FE1US1TXlbaVrdff16fWwVamVG4Tz5MxEoyRb88kzNmLZcjmCAMGTMNogrA/7r1iPM06Avk8t992tXXD9K3zpfO38wv0SjQ789703DTU9YR3CHe0+Qr6VDsku8E8d32jf05AoMIpgq3DOwRmhB7FIEYdBlbG6cbhRYyFF8SyBG2EJsOWgY7AO/2yPYT7hbyP/qj59jmytmKzvrg2uNi6ATnJNSA1I3RV+VE+jHuzOwR4szcoPXoAusAvAWO/Kf78f41DvoWRBVhGB8N/Q2BFxkZXhwcGosXgxJcDiERiAzXDBQLd//Z/bz9ovT39NvvpumU5/7ktuI73FHba9Ys0NDSWtI8zybPxc3AyknOY9S71dva2dz43KTjve0E+B/+8QLaBfoMRReiJHEsxzJOOFs4Xj4ORfJMBFHHUXFQzE1tTqBPxU5iTjpJ7EJBPdw3rja2MZYp4iPwGGISMBC9B6ICuftv8xruu+nx5uLhvN3I247Yatrz2ifZMNgI2pjaj9wR4pji9+QY6bTnSup58Fb2KPnh/AD8Mfx/AWYF2QhLC+EJdQf6B1AJ5gg/Cr0JvAQO/+r8GPqw+CT54/JE7vDqv+X34oDmNeNb4i/gsdgy23bcF+Co5dLk3uas5LXm3O258t/5lP2w/J//+gKFBr4NohJVFg0XShctGeEckB6LITghJh2zHF4b4RgNHLIXExKOD+gI1ge8BYUBGf1D98D0wO8P7P/qMuUX43jhgdyL2/TXZdVR04fTfdR30l7Uk9Sh1SzZcty03yvlk+qe7kr2qfoCAHwHPQ2yFLQa5iL+LDMw2DX8OBs7o0HKRS5IgEp6SKlF9kS0QLhBrD6POgU2PS4dKSUj+x3FGT4SNAwrBYv+XPu89cDtsenS46LgVt/L2/fXfdYv2K3XCdiO2lLZLduH39jgo+XF6dTqauxv8Ln1hvkB/yMC8QDTBCoHWQleD0YR4w8DDwMOPg0eENMRUQ4OC68JTASYAtkCjv5H/In6oPRd8B3vFew76tfpsOep5MnjzONf4zrm++ad5YjnCOm06nvvFfKg9Nr34fiC+lv+JgM4BygLuAucC18PEhIzFXoZ0hfFF+oXGBdLGj0a7BjmFcwR3RB/DqMNFQwvBiADKv7x+vj5J/fs9I7xhupm6LPmQOUv5fHhPt/S3CDb+dvh24HdBt533CXekt/a4bPmXOmE7Sby+PSZ+dP8DAICCOYLexF8FZQXNBwBHoUjzigLLUoxjDHFMSg0zjPFNU03bDWuMyMyjC7fLIUrdyiqJKcfIhtRFlkTxRASCysGoQHi+5v4RPZK8rDuvOtO6bXlDeRf4/bgi+Ff4RHgrOB84sTiu+OS5kDn4OcO69Prk+3M7x3xIfI29KD3pPg/+739BPwz/iAA6wCnA5YEVwOiA6EEhwUwBmoG/QRuA0oDswJWAfMA1f6k/LD7KfvA+kX6Jfld9yf2FPXr9O30MvT39Mbzp/I29Ivz4fT29mb3J/nL+cv6Uvzg/RcBDgNGBIMGkQcoCxEObA+IEGMQZRFkEt4TzxQGFYsTHxJuES4R7hBpEAQNJQpcCFUGBQXmA1YAUv11+sj3LvYB9brzJfH+71jum+yi7V3szOs57drrTezP7Y7tI+8O8dTxoPP89Lv2bffK+Sj9kf1QAGsCngIrBUUHighaCpUMNA8UEN4R0BJDE/wUrRaWF2EYpBi4F9wWIBexFgAWQhVmE2gQbQ5gDmQL2QnzCPAE5gKqAYP/8/3v/L36O/in90/2zvSX9ZL2+vR69W31WPQ49qX3Zffw98v3kfeM+Fv6Zvu1/O791f0u/oj/sv+MAEsBAAI6AsECQgM1A8QCAQNYAokB2gAwACT/u/5y/pX8uvpi+sD43veK99L0e/Ji8ajvLu/87vvufu3469vrHesj7K7t2+257fbt7O918Wb0/faj99H44/rO/DcAWQNsA5IEGgaaCPwKIg0mDh8N6g2kDu4NLhCmEBkPeA98DpgMaw2FDNkKzQnrB0gHNAZqBTcD+ADDAEIA7//3/0z+o/we/H77pvvl/GL9RP36/Y3+x/6bACQCsgGCAnADNAUmCHQKxgufC+gLMA2DDuMQahGlEGkRJBFPEY8ROxEpEHIO1Qz8CscJhwlSB4oEfwIGAOn9X/zt+bf37PW99Cvzc/GD8Ojuqe7I7lnuN+0x7Ffrp+vQ7PPtA+91733vYPCs8Qzz9vTf9gr4Ofiq+b77eP6rAIcAfQFSAlADZgV4B9wH6QjPCJEIFQkkCSAJCQmhCLwHrgZZBTUEAwPaAT4Aef7L/BD7hvle+Av3FvVP9NHzkfJ38pby3fHj8VDyefJp89H0k/WK9tb3t/mq+879jP+jADQCCQTwBQ4I5wm3CnUMrg7GD3ERyhJBEWwRZRP2FBgWJhdKFVcThRJqEZ0THRO7EKcORAyKC4IKQwiABSIDPwGSADUAYP6X/AL6V/jL97z1MfQz9JjzKvPe8tzyX/OU88bzn/SH9iX5Iftq+x770/tv/ST/1QJ/BDcE4QaUBwQJeQoaCigLcQqtCOUIZQmUCRcK4gjxBBEEwwGcAKIB3P+o/Wn7O/va93H2BfZk80/zafHO7tru0O0e6wTrxerO6fHqFOsL65Pq7uoL7Lbtxe4j71zxt/P19Uj5Bfsw/BP/MgGFBKoHXwgLCnMLjgxCD88QUBDGEG0Q4Q9dEewRpxDDD6wN2QsFDJ8KAQmDB7gEfwQMAosAKQAr/T38x/tN+3D6o/mB+Kz3y/dq9jH22PZa97X46fg5+qv6Ovtg/K79Uf64/xUCBAQjBzUIZwfqCZALMQ1ID4UQcxCkEOUQLhEhEsIRvRBUEAAPUQ8fDm0NLAxQCgQJVAdPBpkERAJdAE3+u/t0+gT6ffgb96728/Vm9RX1uPRy8xr0kfS49Pn0+fSJ9fz2RPg2+sr6RfrK+iL8m/3y/xYBPgF2AcIB2QHlAiwEcARoA2ADqgPMAxsE9QOwAh0C8gBJAF4Axv7//e38NfpF+Qf43/YP98n1tfQN9L7yL/LM8XPxmfGu8QLy5/F08iPzkfOc9A32RPcY+Hr5h/oO/HH9XP7I/7MAQgHwAg8FAgdOCFAJXgkuCmYLFwwCDfINXQ0lDZUNJQ64DVoNTgw7C4gKyQknCUkIlQYBBQIFSwTGAlcCaQHXALMBZgEXAY0Auf9zANsARgG0AZ8BxgEZAqEC6gKCA80DwwNTBAUFVgX8BSAGaAaiBlgG3gW2BoEGeAZPBp0EsQSIBNYDBARaA9oBFwEBAL7+t/6K/WT7wfqN+fT4WPkK+RP4ufdW93f2q/au9ZL0W/Sj9Lr0q/QX9Bv0W/So80/0GvVv9fv1y/Vq9qL3Xfjz+AH5V/me+UH6A/tI+0z7WPvz+6r8qP0g/ur9Vv1M/fT8ev3Z/Rz9nf1l/UX9s/31/Zj+3f6o/9v/JwCdAOwAVQERAewB2wKrAw8EdwS9BBMFOgb1BusHJAjLB38ImAjkCLIJQQqvCYgJygm0CcYKNwtDCvYJCgmnCKcJggmOCEsHRwarBV0FZAUsBW8EiwNqAq4CsAIsAicCnAKCAdUAFgHuAP8A/wAmAfAA+wDvAB8BewGDAeUAIQE2AaAA5ABWATYBKAGOAMP/sf8k/yn/tv9r/5D/If/m/qb+cP1j/Tz9tPwZ/FH8Hfz++xH8W/vu+jH7Dvtv+rv6bPoZ+hb6+PnY+Sr6h/qA+pH7Gfys+5D7a/u0+7j8Qv09/Q39kvxk/Fb90P1p/W79FP3x/F79s/3C/df9uP1O/VD9jv0e/Xn9ZP0E/Vb8YPyI/ET8f/z7+4D7Vvuf+2j8b/xw/BT8BPyC/NH8iv1d/oT+u/7F/lz/YAAYAYQB6QH4ApwDOQSnBewFEQb6BnMH3QdcCNcIvwj1CHUJ3wmRCqEKVgoKCgQKzAk7CSIJ+AdxBiAG+QWvBY4FHgXJAwsDyAJvAmICOQJfAWgAEwAeACgAEwDO/2f/+v4E/0v/fv8o/+/+uv7B/gL/bv98/3L/k/+X/zj/RP/z/47/oP8yALn/KAC+AEAAHQC1/yv/H/+l/mb9WP0b/e381vyS/Nn7xvqk+mr6ivmY+TX5TPhn99v2gfbR9kz38vbt9gb3G/f398D46fiJ+QH6x/ku+8j7w/t7/Nr83fyx/fn+fv8YAHQAmQC5ACgBdwHgASwC3gH4ATgCmwLaAiEDFwMXAyMDFgOOAk4CNgLRAcAB+wAMALr/hf9d/zv/9P5q/jv+EP4Q/tj+EP8m/2j/G/8y/93/GQCTAFIBdQGfAqoD/gNzBNQEEAWtBmQHWQc9CLMI0AheCcMKtwrqCtILuQt8C8QLPAvlCqoK2AlVCaAIjAemBhUGLgVNBP4CqAF9ABAAuP+H/sb9Cv1L/Ir7E/tj+mf56fiQ+Nb3cfc799v29PZe94L3qffv97D3+fdc+JP4bPnq+T/6o/tb/Or84P15/u3+zP7g/iH/d/+j/77/7f9SAI8AoQDhANQAKAB1/4v+7v2r/W/9/fyx/Kb7Ffst+xX7mfpB+pL5+PhS+Rv5rPhw+cb5x/mt+gH7Nvvn+3j81fyT/SX+u/5q/yAAzgAFAjoDxQOtBE0FewUPBoQGwAZfB6AHRwjuCAAJIAkhCboI3gjVCBEIlgdSB78GSgYJBl0FggT1AxoDXwL1AV0B2AAYAGb/0v6o/p7+n/5k/tL92/3v/TP+i/59/pj+tP7z/tf+Bf/X/xIASwCtAJwAHAGkAUEC7AIpA5IDMAS5BPME1QTdBM8EaQQGBOcDQQMAA70CYgLHAUABYAD2/2D/Q/5+/bH8rvvs+oP65vmQ+eP4kfco9wP3rvbN9tz2NfY89lr2wfZn99L3H/jm+ID5D/rh+n/7X/xb/Rb+yP5u/+r/TADcAGsBIwLJAi8DlgPsA44EtwSMBGgEaQRDBGcE9ANmAwADawIcAgAC4QF3ARkBvgBeANX/cv8h//z+rP6f/qf+rv5L/jL+RP6K/rb+fv4v/uT9CP4a/r/+e/+3/+T/EgHGAZoC/gJKA3kE1QTrBJcFNAZ+BgAHJAcgB20HZQftBn8HVAfBBg8GbgXpBK8EYwQeBKQDsgIMAucBogGiASsBfwCK/6r+zf1b/W79yPwa/JP7Mvv4+ir70vqE+nD6ovol+3j79fvA/IH9t/3j/W/+8P6S/1UAyQD2AOoAxgDyAC4BSwFbAXUBkQGMAZMBmwBIABMAP/+s/pH+3P3F/er9cf7U/bD9OP0y/dD8l/wG/HL8x/rC+jn9l/3W/Cj8m/3i/AT9tfv0/NP8hPzZ/Lr+Mv+J/rv9tgDzAfkBpAAGALL/JgDl/8gAnAGwALf/KgIPBEYDugHyAKoALgLRAjcDmwNZAzACRwLfAZkBsgBiAU0CFgMPBJIFBwUgBEYDrAIHAj4BU/+m/YH9X/5a/wIBHgNSBHIFsgSkApwAjP6q/MD9gP6b/38ACgHsAQIDCQPaBKYFHQSp/2L7ufpB+XP5G/yN/xMDCwQABpMG1APZ/oH7z/2+/lf+7/tB+w/9QwB/Ay0HOglQBxcCwP3R+7v5lPWU9NH3VPyXAC0E9wU7Bl0DYv9A/EX6HvZT8TLxqPXO+48BrgXbBqQG/QT2ATb+GvrR9YHy+/Lp9i38ewDKA2sHpAoTCfAEYQB3/VT7rPgE+Bn5xP3sAUkGEwtXDY0LMQffA6ABjf7k+Zn3I/hX+Vj9mQJFCOMMnw01Cz4GB/+X+Bj2wvU594n7KAGfBrAKlgydCcAEYwEa/i79k/zC/Af9+f7YATIGYQkaCA4FPgIeApQAdP9S/40AQwIbBFcGBgV0A1YBgf9Y/9P/qgA6AY8C2wPiAicA1vuK+sj8kv5c/9/+5v4RAO4AAwGB/3r9L/rl+D77Qv3N/Zf9Cv4YABEBzQBDAH3/U/9v/lv95vyT+2r7zPzv/cr/5gCvAeECWwNFBGwEsQL3/pb78vn/+MX4nfoq/T4AjgSzBggHYQWAARb9VPe39Lb02/YO+9f/nAWdCSkLRgrJA+L7SPUe8mfzm/cW+1f+8gElBkEIZQglCOAEZP+I+Y71rPSX9az4E/5LBLcKxw6RDzINUwgxAvj8U/ms9wH4d/ls/dkCOwoqDv4OCAzgBsgBTPyy+IP33/fS+ZP9MwNgCJkKdwpfCFYF3AH7/fD6xPgT9673avqx/vQCpwZECZwJ3QZPAtH9ufnt9mH2Dfii+9j/AwRaCN0K2gk4B3oDX//7/N/6K/o8+h/8QP9YAysHNghTB50EvwAY/bf64PmL+uP7qPyy/d7+e//i/+z/Zf4c/W780/ua++D6lvoY+2X8wf2hAJgCsAPmAoUBfgHFAMD+zPzc+2n74vuI/fP/eQI5BAoFRAREA8MAdf1P+x76P/ox/IP+WQFhA1sEYQTuA7sCIgHF/xz+ZvyK+9v7hf2e/nAAKQIIA6oDAQNvAdf/uv2Q+2b6efrN+jz8P/7xAAQDHwQtBIwCqgDT/ij9JvxJ+2f8Lf69AMMCWQTPBPUEaATkAugAnv4I/dv7tPx5/qAAIgPUBKUFlwUBBW0DUwG///X+6/5x/+gAHAPZBKEFqwXcBIkDtAFYAPf+4f1q/cX98P5PANQBPgPMBN8EtAOgAVX/q/0c/bT8+fyB/a3+AQCKAYACxQLmAvcBNACp/tn9Af2m/F39xf52AOUBtwL5AjgCbAA1/7H9wPwN/BL72vo6+7X7TfyU/Ob88Pyz/PT7p/qr+Wn5qPiG+CD5vfm9+pz7h/y3/E/7dfna93z2G/fd98T4UPkC+ff4VviM+IX4lPjh+Br5pPlh+u/7V/1a/9gAVQLuBAoHRgkOC2sMZg0KDggPxg/5EO0RGRP2E6gU7RTHFCkUYxMtEvEQZw9gDRUMhgpsCeEIvgfjBhwFGgTaA28DDwPZAfwAvQDp/23/Pv/D/vD+FADlAC8BbgE0AdIA9wD5AKYAYgAzAOX/Vf+N/+L/JgBA/2X+RP13+xP6EviE9lz1gvQd9GnzhfLU8fvwqfBO8MHu8O387A3r/+kP6cjo6+im6A3plOi+6O3orud6583mr+YJ56Xnaeoi7frwWfWl+kcAEAY4DJQRrRVYGM0ZiBrnHNsfTCMLJzEp4Sq0K3MrNiq5JhYiuxtCFYAPGQoaBtACCwBr/yH/tv5m/sv8Oftc+bf3vvYM9ln2BvfO+Pb6KP1o/z8B2wEtAt0B6wASACr/xP6k/vP+f/90/3v/rP7x/HL7gfli97r1F/UX9Ur2tfcg+uH8aP+2AT0DgwSFBLAD7gIdAsEBxgEJAr8CMAPLAwAEbwPXAYD/1Pxe+kD44vb79Uz28vbx99D57/v8/bX/8QAxAUcBzwErA20ENQZ+CKMKKA1DD9kQFBLAESoRtQ9kDh0NIQt+Cc4HJAbiBGoDmQFE/zX8i/nI9hH06/FB8FLvBe8H79Du7e7Y78PwJ/G58bfwWO987dPrx+ol6lXq5urb66nsbu1n7b3sHusp6GTmqeTp47rkKOb56NHrsO5Q8rn1xfmW/cEA6AU8CxYRURZlGcscOB/VISsl0ybxKHcpVClGKiYpISfhI3we7xjGEzEOQgoLBscCIgH6//X/4f+B/+X/9/8FAA8BLgFMAi0EXgXnB6EJEAvDDCANEg55DucNeQ3dDOYLBAvTCA8HWga0BBME9QIvAS0AOf6t/B772Ph39yH3K/dF+b76KPx9/iQA7AEpA4QDNQNcAicBSP/s/Wv79Pnw+Oj3bfb884vxJ+8i7KfpjedQ5lXlZuV45troZ+se77/yDvb9+HL7Yf2x/tP/SAH2AjEFnweQCVcLbwytDH0MFAs0CXIHUQUVA9QAjf6//Nf6I/mW92n2CfXV8/fxhfAw76juq+477x7xwPM59pD4Qvpc+1v7ivpl+Qz4U/ZV9cj0ufQ39Vr1+/VE9vj0t/Oy8ezuSO2h63rrluwz7hryC/h8/a8F4w00FQYc3x71H0Qg+x6dIOgi4CVKKnMtfTBlM7AzbjKuLncndB/TFRoL6AO7/dT6nvrC+i79MAB0AU4DSwPoAQ4BEP+Y/Uz++/5FAuAFJQn2DAkOag6oDQgLsQifBAUBYf0z+h75wfh7+TH6M/p6+f33C/Ui8gHvMuzJ63LsiO5d8iX3Cvx9AI0DgwXSBfMEngPAAI3+qfx6+tj5jvgK9+X1i/P08Gbt2ehk5NLfiNxn21fbZt0Q4D7jXOiL7AHxB/Vh9yr6K/sa/eP+FQG1BygNaBUqHIgdtx+jHJYZBRfyEZUPDQyICfcJBAljCgELKwmiBjgBVvoG9TPwlO2j7QjuJvDt8vf2/fpw/5QCMwPUAkMBMgAs/kL9ZvwH/Bv8UvyG/DX9Cf1J+4v5sfX48fjueOz/647sxu5B8nj1x/h0+T/4qPW+8NDs9uqo61Pxq/p9CJsVpSG9KWgsUCz2KWgmzSJlH9McsRzrHogjTSilK0grmSX1G4UOav/e8gDoTeK54D/jWukP89H9lwdTDhsSXBEFDmYJMgSNACAAegFcBAQJ1A3yEbUUPxQTEBIJGACB9pfuoeng56bpxO0182z41/sc/UT7Z/co8v/roOdP5Y7mXOyL9NL+Swh0D1EU+xRGElcMfQQS/G70su4/7P3rCu668CnxJvDb7PnnzeIc3n/aFthM2NvaKODC6Dvzzf3tB7YO3xLPFA4UMxMxEdwOyg1wDboO/BA5E5UVshaiFdQSuQ4lCfUC8v1p+VL4yv1CAvEL7hEoEokT/A3jCjkH7wI6Abr9wf79Aa0GmQ4ZFN8XERi3FM0NlgfKACn7/fd79Ub1a/cQ/G//LAQWBs8EgwPY/qP7u/e19Dz0/vM490P6Sv32ARsDugMHAtP85/bw73fqEee/5i3oHuqG7BPuGO6u7HzpIuR03BrWfdHn0IXYH+Z8+F8LmhlzIXIjYiAHGz0UpA3aBl8DWARSCogVeCOPLnQ0VjI5KOQYxgfK9n/pl+CG3M3esOZ685gCYRDnGlseEx0gFhsNVAWw/7L9Q/4SAScGTwypErcXJBgqFPoL4P/O9Fbs+Ofv6F7tTfSy+48C3wfgCcsIEwP++sjx5OqN6Dnr9/S4AJMNSRkcIWUkxSIPHeYTxQhP/TXzl+yl6uPswPEP+BH8m/2C+zX2LO9t5+HgSNvb2ajcquKA7Ub5dgRdDgkUfRWEFNgPjwt8BkECUQDQ/gAB6QQsCE4Mhw0GDaEKTAUpAEP6jfnc/mwEjA8lFIMV6hbfEp0TKRGmDjkL3QMlAbb/IgLLBwgLKQ1KDHQIrwOo/1L7Affn8fns8elX6r3tn/F39jL3C/Zk82Luk+wZ6oroHOj/5rjoSuvo73z18/jJ+/f76/ki95fzfvG/8N/vB/Bd723vM/Bi8Abx9PAP7+jreem/56Dnr+lJ7KPwAfpiBwwW7CNKLFEtXir4IrkbmxXZEHoNKA50ELsWRx+uJ8wsTCxgJvAYnQjV++vwtuy17Tzxj/hfAvULlhVmHDse9hyqFp8OeAiHA7kCYQStCMcMwQ/3EqcUBRStEdgKGQES+GzwQO3h7pDztvpxAVAG4wexBjQDw/zK9XXv/OoB6q3tzvSh/38JPRHtFIwSjA3LBbL8yvPG627lieFA4TfkB+lm7qnyMvOu8LvrZOPV3FvYk9Uv2FHdhOV78HP7NwWSDLAQ5Q/jCygGsP/u/GH8V//wA7cJfg4KEasW4RoPHu0fXxnzERUK1wNNBCgGFAutDkoQORKMEsMSBxHCC6YEcfxn9GPwIvAJ9Bb7TgAbBMMEmwQoA78APf2v9jnw4ekF5nXnMeu28ar16fe5+G320/QI82PxNvEk7+XucfAK9Bj73AHzBcsH2gUxAr/9sfnd9T/yvO0t7J7rcO1k8Qn2UvmQ+pT5bPn//qAJGhbBILokEyTjHqoZ1haRFK8TLxKoD18QxRFRFtAaSRlAFZwLgv799cTxDfLO9pz7AQHmBjoOcxU6G8Qe1R4kGp0Uhg77C6UN4g9iEnsT6xBnDigL3gdbBKP/Bfgm8Bbq9ecW6STuRfMJ9jn33/Se8bDvde3H7FTseexl7gfzI/taBC0M0RAwDx4KLQL0+AHyXuzA6G3nTecD593naenm6RHpk+Zx4UnbHdjM183bzOIT6ojzYvrZAY8IlQwrEJ4QtA4IDAcKOgtuDlQTkBfHGLMXRhQFEGwLpgefA+UArQRtCbwSmBsFHu0fuBoLFQMQ7gpqCtoJQQzVDuARMBVqFDwTYQ01Bqz90/aN8lfx/fM79yv8rACQA78DhQCr+xz1vO/J6rznsuY46CPsEfFC9tP5wvpa+V71TfKF7XrqDepg6sPtrfEA9or52/v/+1n43/My7ZjnKuNK4S3j1+e47pz5IgV0D8AXcBtbGz0aDBclFY8U4ROaFGwVkRd+Gaga+RmxFsEPmwYk/ev0YfCK7lnwb/Mp95z95QLQCD0OhxFcE1UTlBI9EmYTnxV+F0wZdxlRF3AULBDQC5wHegPS/9v89vpD+mj6hfoJ+oL45fX78jTx1O/n7+7wbvLr9H33a/r0/Oz+KwEEAqwCDwP4AycFjwVdBQ8Dwv8Z/AL2xvFs7aDo0+QF4Sbe3ty53Nrd6N+r457nwuyY8a33Jf7TA8YJ4A1WEdUTMhVxFgMXcRb0FYsUJxPQEYcOgQsfB0AE/ABO/6/+sv7S/gABVwmfDg0YKRpsFQYQ7gRfAoMBqQQyC1MOBhK4EqMTJxH+DdQIWQB4+k3z8PHi8uP2JPys/Oj8jvju9BvxTu487ZXstu3O7MPub/BL88T2DPcg9y/1TfSy9GL2VPo0+8L7B/oL9yv1GfM88iDxcvAm7yTtWuyX6/Dq7upp6o7r8eyV7p/yJ/ab+gz/IgL7BM4GJAnoCsEMNQ7zDkwPEQ/YDpYP1g8ZEIoQvA+HETsS+BFYEvkPZw6sDFYMHg4iEBMTfBNTFBUTmhL+EQsRZRB5Dp8MLAs9C8oLaA2oD8gOpQ2+CWAFjwEd/kP+gP3v/zQAk/+A/gH8T/sB+dz3zPb69B30XvOn9Bn25PcG+gn6Mvt7+h77D/wO/c39mvw2++f5zvcv9Wb0YPIg8dvw7u+68LfwKPGu8JfvX+4X7eTtz+2I8ADwnfHY8vP0/QJ5CG4THRXKDZIJPP/J/+QBpwiTE4MV5BpPGdsX/RONDGoKqAJvA4gBOQNLCHQJ2Q0PCoIGjQDC/GD6mPiV/XH+rwJWAyoCTgL5/cD7PvcQ9DDzYvCx84DzPfUv9NXv0+w45XfjAOHI4CLk9OTA6MnnS+ZF5Ffga9/j3Rjf2+L15mzyAwE5DVYXSxgAFFINWweHCg0QThumJ7osGDG3L70sgCdqHQYXfQ81C0wLzgyGEGYSEBFuDbUEq/4Q+O30NvXT+QMAewVPCokMdw2mCqoGHgJC/gr9Sf6CAUQGvAzGEA0RAg/cCVkEPAFZ//gAFgJ/BFkFOwOfAYb+j/vg+Jf3J/cl+Gn7x//YA48F7AWgBJIBOACJ/ycB4APEBe0GUwThAcj+bfm99JzwkO6P7Kfshu017QruFO0n7JbrZepZ6j/qJuuF7TLuJfD28dXzr/U09yX5+PmS+/D8k/9NAUAD5QX/BvIIywlaCuAJ4gihBxgJaQ1nDrMRSA3DCW8FXACeAV0ANgRWBEACNARPA+MFMAYcBjcGAQM6BFICmQTEBUwDMQIW/GH6Kvgv+AT6e/ls+ub3mvbn9uf1CviE9yP4HPju9u/4DPjg+oT68Pr1+VX4Mfm1+Ej7xvzw/ZX/2v7b/1P/1P9f/+n8NP0Q+1n8ef3O/uoBVAAU/qH7Avge9yT1ufRZ8xfy1vB775j00PtcAzAIVgaEBlIExAQoCz0OfBM2Fz4XRBvUHQIh3CBDHXkbCBe2FfQWWxd7GHYUqg+9DZwJ9whXBiMDggGo/jj+Jf/zAYcDRQH7/bL6EvkL+f/55PvF//wA6QE7AmkBOAFP/pn+ov68/gMBpP+I/gX9Fvg39M7wHO+h7uXtQe5C76zvLe+k7Rvswexj7Ujvk/Jc9WX4evh7+Br4rPfg+E73+vfu9u/05Pmn/Mv9L//B+DX3r/Qm9cP9wgDQCOwIfgYICPgFAQoKCykNpRAYD5kSBxMMFDAVew4nDaAMRg2NEpMU7hWrE7IOWQkgBocEtAPoAEAAVwAmAFoAJ/84/Xr6JPU780Hx2vNG9I3yJ/Rz8BLxHfAY71PxRu4k7J/paejx7E7tW+/D79XubvDY7lHwT/J08eXxG/CA8hP5/f06BGQETwPmAUH/BwK1BQUJ8wvoC34NfA9UEiIVpxT+FOEUfhT2FoAZWhrZGHYTchDEDzcPlRACD4sNxwqvBoQFFwXaBLwCMv6r/Hv7yvvA/OX7vPuh+Pv1+PWY+Dz9XP8GAI4A/v9sAN4AmgGLAsMCRgFTAqkEsgfvCdcJ9wmqCb0HMwf3BqIHZAcOBrQGGQfyB70GAwR8AUn+ivpI+YH4bvl7+Ib19fKA8NnuA+2n6qDpfOjb6SDtt+438pjx5vDd8P3w0PaL/IAB+gT1BGAH4wcFCdEKWQpOC2oKRQpUDd8NmQ4ODOkIVAjSBsUHFQmuB78G4wGd/uj+qPx1/Hf5LvZ09YHxf/Id8bHvke/26+Hsf+0V7Hntz+mt6VHpvui27QTvFPOI9NnzLvek97n6AfuK+aj7Avqh/XUAzgI4Cm0Low0VDsYKDQy6CQoJFwp5CRMMSAv4DNQPTRBLEbIOVQ27DNEKqwzbDSoPshC8DoUPchB+D8oPWw4JDjgOaw1ZDukOOA8FDVQJHQdqBbQEPwQIBIcD+wDN/v/8D/sm+nj5JPgA+Mr44/na+kH6ffl895j1V/On8wb17fZ3+FD5Jfur+5v8J/3s/Aj+pP2n/tMAIQKzBHgEiQTBBLcDOAQgA1UDAQMVAuIBLwFBAZkAQf9y/tD9e/0b/NX6NPp3+MX31fa/9tH2QPZI9fXzpfI18uvxt/Eh8431+faU96n2yfbK90f47/qS/hwC2wM7BHoFiQWVBcIFHQaDB3EHHQg9CGkIBgnHBvkEmQK5AKoArv8uAK4AsgAjAND+1/3S+9D6JvnN9x/48/fm+CX5FfoT/Jb7/Pu0++L7YvwZ/LH9t/8QAUICyAI5BFkEVwTVA9kDKwRIBHYGWQgcCcUJ8AjbBzwGLQVkBW0F5QagBxoIRwcKBaADzgERAAT+Tv0i/kn9RP1p/fH8GP0R/Dz8aPxX/Bb9kP2z/UH+C/9fANUAoAHDAqYC9QFvAYgB5QHfAqcDYwQCBh0G+QWnBQYF4gTzA0oEAAarBmIIVQkeCVUIzAb9BpQGmAeaCIYI3whECNUHJQezBfAEoAN0AkIDJgMcA7cCgABm/mf8lfuV+pP5p/kO+QP3xfUI9UH1wPSZ9BD1U/Q19Db0dfQH9SP1BPY29vL2V/gM+Qj68vi7+PP4wfhh+c35Hvtt+qT53/mc+TH5u/b59tP32Pfc9zj44fmI+iH5O/ld+SD4vfcJ+FT5/vly+Xz5o/lY+vf6mfuk/IL9f/54/30AmQFtAQcB2wKzAwwGdgnMC4wO2g85Eh4T6RKAFLMUPhY0GOgZexulG9ccwxwDGw4aVxj4FvMUGBMfE98Rvw/LDU0MzAkmB/AEdwSOAs7/hP4R/cv70Pku+AL4tPYw9m30lPNb8xvxX/A18GzvR++W75rwSfHx8Ozxv/JJ9Nf0PPYO+M/2zfd7+SL5R/lA+iH8u/wU/QL+ff7u/sz+yv12/OT7lvvz+o/6lPt+/Cb7lPqk+pj6Q/oE+lz64/oj+6P7UPvP++n8LPxo+wH9Mf6Q/q7/qAB7AXsBrQCRAacCSAQPBQEFFwX1BUIIxgirCAwJIgowCi8JOwldCgsKRwn6CD8Jlwh1BlMFBQXRA1QC5gBRALQAmv+O/p78FPvA+oT57/cN+Bb4Pfd09tf1rPXk9Qv3O/eD93j4z/g++a75RvpQ+m/6cf17ABP//f6XBZwFaQIRA1YH/gdBBPgEnAnCCgkIcQdOCnEMZQzYCK8GXgoPC7gGCweYCy4KtQMsBAsM8AmmAEcDqgpnB4r/ggGBB2YE+vx5/t0DvAFh/G78SABv/lL7hv0eAFv6rPARC7cWou1p3QIEzx8s/nfdCgRoIL7+z+CU/dAg6gfV3K/sbxwPF+jp1uM9CvcWv/hq5vr0rgc1AwzwtOx4/PoGj/rb6pvz8gXw/QnkW+pbB1UD7uUp5pcB1AWs7b7nNPxcAp/08O8s+8oAR/fC87X7xv+B/dP7BQLsBk0E+AKzA8sGGgjWB2YHSgWRDDUUqwwKCHoOARWTD5sHSAytET4N3we2Ck4RxQ89BvMEEBHLEB4C1v8fDPwORgJN/d0FQAmdAqP/6QW0BoL/Sf2qAq8GbQD2+3QAiAOMAzn+ov9/BXcEK/8A/lsDrQKO//X+0/5J/oz/eP4M/Yn7cv7r/XD4hfeT/Dv+8Pc58kz5zv9h+GXupPLhAIL9/e0M7Eb7lP8L8enoTfJ9/l35fOtK7AD/jgGo7nHlYvd0Bur2eOdQ8YoEzgLR8Kntpf2HBvP8tvE9+CwCTgJw+jD4K/+EBCwEDf6n/qMF/wh+BFEAdQW0C14KLwWfBesKgg1SCvQH1gvQDwcNBApVC4EL9wljC6sM6QrZCbMKGwrrB6AFJwbdAy4EgwYfBKEAFQDcAb4DZgA6/Xz+7gC+/QP88/xe/vf88fos+x3+bf///QX9Ev/A/68A9f/R/zABnwKVAtQBwAFdAxEEDQR2ATACJAWgA8EAIQLWBPwBBf2d/zgAjf6l/e39hP8N/dj6mf2l/mz4LPfA/Kr+rvgG9Wf5o/74+sH12fap+Ir5LPrr+IP66/rT+eb4BvjD+nT9A/y39y/4gf6o/2H6dfiE/9UAXfh+9gIA2QSp/ZX4cvoA/i38wPqz+ij7tPur+Or2o/iF/GT/b/nm9SX7+f4b+xD4Ffv6/0f9r/kk/nUDAgQDAQAD0AfQBU8ETgn+DMIKxwg+DfAOAAyUDD0QpBFFDmEMIQ2mEGAS1w8OCqcLhhCjEIUKNgeHCVoLswgdBVEEKwb6BWECgP8tArsDzwEQAX//Sf5dAA4BX/4t/Bb+xP+u/VT8UP9EAyMC3/wi++X+ZgOQAXr9qP17ATwAlv7R/g//q//L/3z9gPjF+hMB/v0r96X3hf30/Pr2IvYI+WX4D/Va9Pz21/YV8xDys/SZ9XTzcvCy8fb0f/R68WrwdfM78YjwTvSC90rz9O4Q8oH2e/fv9MTzI/aD9w747/dv+if88fvZ+mD8OwGqAtsDHwTkBSEIfAdJCcIO4hByD5AOQhBTFLIUBREbEAQRCBK7EukQmQ/UD+EPggy3CH8JUguOClkGpQOmAnkCMgJmAZv+FP3J/cj90/vF+tj60vpr+or6Ovsm/N/8j/yd+y385f4WAWcB7QCyAFkCvAPuA8EE+gUhBgwFCwVuB1cJ2ggJBnwCAwRGB7QGLgT8AssDXgK0/9j/PQHe//z7OPq1+6v8mvvN+lT6VPpx+p35QvnH+679VvyD+aj6D/8LAE/+Mf5lAEYB3wD7ABcBAAO8BIYD5wE7BEYHBgadA60DXwQmAwUCkQEaAfgAOP9I/Dv7fvoy+j/50/fe9ZbzjvJV9Bf0xe+Y7Ufvp/DH7/3sD+3L7oful+337T7vcPCK8Bfx3vKK89nze/S99eL3Jvnq+S/7TfzF/Uf/xwCrAaABNQPsBHYDhgMWBXYHGAhhBscFOwewCWsJpAjBCa0JFgdxBlMKZgzqCY0JXwt9DMgL/guCDVwN/QzDDFcN4A5vDkwNug7dD34OZgzaDWEQ9w4QDQANhg0YDncMfAo7CqYLYAtmCDMHuAjzCFAHnwUeBYIF0gNdAuQCWwPFAHf86PsF/Tf9jftc+b75jvnz9oX10/Zr+ML2JPRR84T01PWV9E3y2PGH8r3zOPQs813zx/Pr8gry4fAh8ofzOfJT8bzxY/NP80jyx/KO8qPyivOR9P30E/KJ8Wf0sPUl9VP0Z/RH9B306/QF9dz1Xfem9+b3Gvlt+3T9V/5a/Tr+9gLRBSUHTgf+CfkMpQ2QD54TmBc5F1AWwBnjG5IbeBqdG/gcShubGvIZixm2F+AUfxNZEa0PsA3vCvMIXwYLBQUBLP6//av83/rL9wD4U/hP92n2CfVv9Q/2bvfJ9zL3dfj0+cz6kvsy/aT/FgC8ANEBSQNVBAkEBgWiBbwGSQjbCPoI+QctCMMIGwf/BjEIKgiLBukEdARlBNgDCgOiAYMAEgA1/5L8//nZ+f75h/jq9TH1afaN9hb0afK48yX25vXy9NP0WPat9yL4Ifh2+Mr5DvtO/BH9Of0r/qT+yv6v/6YA2gBO/wn+Zv88/3z8t/p3+9v7avlG93f3BvdE9ur0iPII8i/yNvKh70Lt3+1A7hft8+vD7XjvMu417DTtQO/r7wfwOvAx8YTyRvR699H5Gv0pARAFgAY/BeUG+woID5QSARXpGBQbuhvTGwQeGiGtIUciGSJuIRwgvx6oHmcdehspGhIYlxdAFV0SBA/kDHYLzAgnBmsENQUABI4AjP4m/YP8JP1y/vn+wP0w/YP8sfz8/Cj+qP/J/4QAkQC/ATkB7QCOAHH/JgDUAJABTgFXAKsAWv8s/9b+Ff4Z/sX9Hf2K+/n7Xfvg+Sr5v/e59632dvaP9if06/MY8nnxHvHO8bf3G/kC+5340/Qz9Kzzr/rf/jwCAQSk/uz8Sfvs/mgB3ADlA0oC1gJ+/7D7wPsT+1P+Ofwj/C78u/qM+Wn0WPPW8+nze/So8zP1dvOk7/fsJu0+703u0/CJ8TbxC/Cu7l/w5u/I8XTzIvRy9Yz12/at9Kb0MvcD+ET5FPk6+1H7d/uL/fIAUAfJCxkRahI+EbQR5A/RE8cYAh+kI9QkDiafIlYh0yLqJIUmdyUQJosiGx+bG/4YfRjgFVgV4hLrEFUNognuBskDUAPCAdkB2wDf/5j/MP2++tL5mvpM/Gz+RwC0AQgBT//d/b79av8iA9wFxQeAB8ME4QIt/wv+eP2w/e3+Bf7N/NP6Tvlz93r0KfJ58UnynPKw8lLyM+9d7Gzpyelp6mPrU+0u7gDtQupu6RHpTOiA6c/qjO0x73fvyu9i77TvnfAq8ZbzuPXW9/n4i/kF+nn6dfuH/IT+LAEoAncCbQJ5A5MEVQWqBxIJOwpvCt0JCwqVCaQI7wcnCDELtg9REfYRUQvPBAYBeQFSCMENrRM/Ei0M4gSuAI4DWwYzC8ANNgyKCaYEVgIZAn4DPQaFBhwHgAaRBccDLALJAngDtwRtBVsICggiBKkA7f2a/bD9rv4SAF8BGQDj+gv3x/QD9S/3yPj9+9T78Phq9nXzXvJe8nLzLPa596j4evcG9vD0ifRp9GL0k/Q69IT06vTh9Iz1p/p4AJQDqQR4Abf90Pu6/jEHZg61E8oV8xK+D8QOOxDIE8wWuRdzFx0UMw+bCl4I3AeyB/AGBgaLA8AA8vzf+Tb50fh5+ej46Pkn+uD5pPlY+dz4NfgB+IL6jPxM/sz+Tf97/+T+UP/N/5kB8AKMAs4Amf5L/QT7Z/qH+DP4SPjr+MX5x/i596/1ffR19Ij1w/ft+FT7avsR+1r8Nfwo/Pv9jP/PAc8C1ALaAr4ANgBDAJ0BAwSmBCAFoAXfBDMEFwPcAi0DgAXbBmMIxweGCGIH6QbwD/kVNx2yHNoTCg+XCCULnxTrG9ciZR67F7sPywqcCs8IOg2ZDf4NdAhM/4f4cfNt8k3yQPVh9+L50/eW8errIuhz6DrsMPDq9FrzQPDQ66Lnb+g76frtpfG59F71dfKz8EDsVuzA747y+feS+Sz6P/fj8WTsD+qR7OLwZfYg+bD3cPTS7yrsiOoP7ZDxH/iz+zv87PpX+Q/50/kT/SABhAXGCQELeAu9CMwGKwm2DUgVPhqsHUobYBY5Ey0RkBUWGYoc8R1vGlEWDRIkEfgRShPpFHoTpRD0Dd8KsgnHCMYHlAh+Cd8JyAq4CZ8IXQbrAxQDFwOvBW8H/AcAB9cDRQHJ/oX+x/9WAUICPAGS/yX91/sz+/X79vzz/e/9Rv0S/G34ofmG/YUBPQUWAh3+rPkK92T6CP4uBEYG/gEj/FL2u/RO9oz5wPs0/KX54fL17RjqveqQ73HyK/Y79Wfz2vBQ7zrxPvSW+Fb7ZPsD+Sf3H/Zl9qr4b/mN+eD4oPfl99z2Jvb/827ysfAL8GPxM/RP9dzwvOzp5iXkkeNh5LHoLewN8on2PPtuAMkAhv7f+hD6R/9aCZ8V3CB3JiQkPh9RF+cVcRsNIjIqvCozJuob3g4CCYIGsQsRERASAxJfCjIEnP5x/G8AFgTJB5UHZAaCA/f/bf6I/tcAWwM6BvcGMAdSBlUEpwNGBKUG2AjTCkIMCQzzClIHcQOdANn9lf7j/iAASAAv/ub87fno+Nz5ufuR/8oB9gJkAjcBPABp/2cA9gEKBGMFkQRiAgcA/ftw+eb3D/fV96r3IPcq9ob0d/O18dHxbvIj87L0lvX49kb3//bZ9oL2m/cC+Rz7cfyq/Gv9X/64/3UByAIjAxoDmQLdAVkBWAB7/r78Qvtg+aH4s/dh9sH1CfPz8OPwWPHZ89n1iPe++Lz3H/e89ib4ofsC/gQASADj/0n/NP3s/HD+tQBMAyQFkAUlBSQE2QJEAn8EswYDCCoJNwhlBxAFjAN0AzQEigWQBQYFYQN3AWcAdgCLAnUEmAbHB0YHgwavBVgHQwmkC+8MtQuaCkcHqwUGBdQFvAf3BjwGBgPc/4b8Ufpm/JL+dwFLAdH+2Pzv97P2SPaw+M/9yf68AOj9gPpY97rzmvQf9QT51foK+3v6BPdQ9lT1jPfw+lb/KgMnA2sCgf9J/8T/lAOVCosPUxUiFVgUXRPeEZAUPxWoFw4YJBZrFAYQiA5wDEcLlgnyBpcEaQCh/Z76Zfkm+Kz1nvTp8Rrwce5S7czuDu8C8J/v1e7E7ffsE+6z74Dya/Tv9W32Ave09zL4Tfkw+Zb6QPuM++n8E/2K/of+qf7M/9v/JQFiAScC4gLCAv8CGQPFAycEZQRnBUIGDwfhBu0GyQUoBAwDswH9AdAClwMoBEcEuAN0AnkBpgG9AtkEIgdyCLcJ6Ag/B1EHXgcdCecK+wvTDFYMwAuLCv0JBguoC08M0gt/CzQKfQiNBlsEjgOAAVMAEv+F/XH7pvjj9orzM/Ks8B7wgfG873PuIexF6Sro7+b86Errbewf7W7rDujX5UPl+uZO68fwMvVR9z/2XvQo8w3zDffP/E8EaQrKDLcNYwzxC3gMPg+pE24XXRn5F4YUeBAHDjoNDw8tEkkU8BN3EHsMjQgqBmMFBgZxB/oGFgWLAKX81/nI9z/4J/mX+sj6yPmC+CD3F/eb9335Zvw6/1UBeQJfAkoCFQLyAuUEDQYRCJwK2QpDDBIMdAuSCz8KkwuuC3UMZQ39CwIL/AeuBTEEXQHTAIn///4X/kX7F/lH9jP0+vFW8Y/xOPGA8T3x5/CP7+Pu2e5x8H3z5vWI+BH5Gfn89yL3dvfC+Iv7kv1n/9z/UP/I/vv9tP0E/zoAswF7AQ0Am/4T/XX83ft1/D/8Lvvb+ST4xfZx9Vn0cvQx9R72U/a69jT4Dvnp+dP6p/sg/bn95P6TAGQCaQRpBbwGQgirCeoKPws1DJ8O9w/bEPERiRK8EoASqxLBE4EUYhS4E2US5RAvD7MNow1YDWYNuwsrCZ8GPwNaAez/eACAAXsBUQDd/K/5VvZT9JX0qvW892T4RPdD9QDzGfHH8ELylfUb+QT7kvsO+yb66vm7+oz9VgHCBIgGlAbRBRkEhAOtA1sFNwfTCC4JqQcEBvYDXwL/AfwBHQKkAfH/HP4z/HD6LPnj+Pr4W/kT+bL48fi/+P74WPlW+er5+/lr+g37yPvE/I/8XPz1+xb8U/wl/HP8Tv3S/Sn+UP7o/Sz9QvwH/DH8qvwU/WT9vv09/cP78fql+l37hPws/dD97v1j/Vr8A/z1+0H81/3L/p7/yv8Q/zr+nf16/a39Pf4b/i7+6/5S/5v/hf9R/xX//v59/+v/fAHMAtIDRASKBJkEQQRLBRsGfwcvCTcJNgmeCC0IdQgXCTcKgwqMCgYKgQmECL4H1gfLB9gHmAfHBkQGHgV4BOgDpwN3AxQDwwKvASsBswBiACoA7f/c/53/ev9W/y3/H//8/v3+df++/3sAdQH7AqUD1AITAb3/VP/E/oj+NP61/XX91/1l/3gABwDO/XX7MvqA+fP4Yfia94L2wvWD9YH1l/XH9Vf23fYA9yv3T/du9kH2yvaW90v4nveM9zn3Rfc0+PT4ivqa+1n8o/zI/Ab9mvzP/Bf9kP1R/uT+af83/9P+W//a/7QA9QHiAtoDYANbAoUBRQFGAUYC3wKjAwEEtQPzAyQEGQQxBGMEyASWBGYEPgT1A8gD0QPoA2IExwRFBb0F0AaAB9IH7weAB0QHxgdvCL8I2AjdCO4InAgSCGIHOweDB94HDwj8B8MH7gaLBbUE0gNhAygD8QJ/AvIBkgECAasAjwANASABBAHZAI4A5f9w/33/h/8YAPQAZQGhAUoB8ADQALoABQFvAT8CRwJ9AVwAvP7e/Q39ifyl/KX8Xvx/+2f6cvmA+PP3MPeF9if2ivXT9H70B/Sd80bzAvO88lHziPNr87jz2PPm8+/zOfTl9GL2yvfC+Aj5+fj1+Bf5tPnv+qf8Qv5D/7P/x/+z/4v/zv+CAK0BQwIxAgQCtgEQAYMAbQDSAI0B9AE9AkMCEAKeASAB0gATAccBeQJuAwAEhARkBEYEWwSJBLMFtAZnByUIjAjsCFkJEAqdCtoKBAslCzkLeQttC5ULJgx/DJMMNwyMC+8KjAptCioKnAngCBsIWgfBBmQG9wVcBWMEMwPuASEBgAAXAMz/Rv+G/qf9vPzG+wH7h/r5+dH5kfkl+bD4LPjn96v3m/fE93r4+/gy+Sf5Evla+YP54/mZ+ij7wvtb/Mb8Bv1T/bL9Gv4V/vP9mv0S/cH8nfyM/Hb8S/w1/J370PoS+o75X/lX+T/5OPkn+ez4nvhZ+Eb4VPje+M75N/pk+ov63Pqr+wf98P3x/oX/LP/f/qr+YP9xAFMBQgJ9ApgCogKVAnoDYwQwBQMGVAbJBRcFvQSVBOEESAXuBVsGVgYFBhsFaAQFBGkEtgQMBUwFQAXWBPoDKgPrAiUDswOLBAUFGwXJBCQEhgNrA6MD2wNnBOIEGwXRBC8EAQSpA88DIgRtBMwEsAQ/BKwDOANJA9cDWwRJBCIE4QNjAwQDdwJgAnkCPwL1AYwBSwE+ARkBwgBnABUAjP+M/8X/BACz/wz/f/4v/tj91P0c/mr+iP5C/ov9ofzZ+5b7wPs1/JP8ovwj/AT7CfqY+Tn5Jflk+ZL5ofl0+Qf5pfiO+Fz4Cfhx9zz3FfdP94T3Hvcq9xL3u/a69qX26faI9973Hvg/+FH4bPix+Df56PnF+hf8//yB/fD9dv4N/z7/4f+pAGIBRAIFA9cDMAQOBOwDFASKBCQFpQUaBkkGTQZvBkcGOwZIBsQGaAfwBxkI8QeaBzMHDwcjB60HYwgTCVsJQgnpCHwIPAjzB94HEgh5CPoIFwmcCMAH9walBnoGrAbCBu8GUQZtBXkEhgNKAxQDwwK+Av4BVgE+AHP/yP4R/j7+YP4r/oH9Y/xU+7X6V/pI+pT63foY+4f6rvni+Cf4/fcv+H74VPnf+S/61/k6+aT4Yviy+FD57Pm4+vD6sfpJ+vX55vlG+vr6zftv/F38ffu9+h368Pl6+kL7cftL+wz7qvo4+hP6Pvr2+sL7Wvyc/GH8Kvxn/Hf8A/2T/UT+cv/e/0YA+gAaAWkB8gFYAvYC0ANxBBgFmwXwBUEGNQZlBsQGXwfoB3kI4wgFCcsIYQgfCDwIhAiwCJMIVAjdBz8H0gakBp4G2QbtBnkGiwWWBNwDWAMIA/IC9wILAxIDuQJQAq8BlAFcAfcABAECAUsBcgFeAWQBbAFNARsBTQELAQQB7gCwAPkABQHtAMUAeQDz/7//tP8BAEYAOwACAC7/kP4W/rz93f3G/eX9tP0s/Z38Ivzl+877hfuk+7b7zvs7+5/6Afq2+Zj5i/lF+oP6ePpq+uz5U/n0+Ob4QPnc+Yz6MPum+tT5Jvmu+Gj5M/rc+qP71/uO+0P7/fof+6L7YPw1/ej9Uf4x/sv9k/2T/Rf+Ev8NAMoATAGJAV4BDQHzAF0BJALOAhwDYgNpA1IDSAMgA4gDBAQgBA4EIgT2A9ADtwPOA80DPQRLBD4EKQREBGUEUQQyBDoEfgQEBR4FAQXTBNwEvQS1BKoExgQuBWUFWAVoBV8FVAUpBfYE/QROBY8FRAUkBQoFoAROBK0DWANZA1ADWAPWAjcChQHbAC4Avv93/9H+Z/4f/pr9P/2v/Cj8oPsQ+5D6Wfov+in6h/pt+u/5wvn8+TT6Z/qZ+qf6zPrR+qT6i/qq+gn7Kft1+178Df06/br8kfyP/J/83/w4/ar9CP7+/bL90f3x/XX9Z/1t/XT9AP4y/hr+TP47/t79cP1+/Q7+V/6B/or+kv6G/nP+uP7s/j//DwBqAGcAmgC4AMAA2gB1AdgBYwLiAhQDVwNuA9ADgwQGBVIFTAVUBTMFWwVMBUEFkQVSBp0GlgZ2BswFNAXaBIYEKQRFBDcEzgNkAxgD1QJXAvYB5gGtAR4BqQCEAEUA3f+n/6j/wP+f/5L/lf9p/xD/z/7N/h//gP/f/3kAxACiAFEALgAjAC8AmADvAOgA+wAbAd4AnABzAJYAsgAaAOf/2P+E/yD/hP5f/lz+LP7W/bv9lP37/Cb81/tv+xv7wPqN+nj6ffpm+k76Efr5+SH6LfoW+vL5t/nE+d/5Tfp9+rX6O/vS+2D8rfzr/Oz82/z//AD9if1J/rT+EP83/wT/Wf/1/0IAZQCFAKUA4gAkAXEBtgGhAbsBkwGqATUClwLvAsYCtgK/Au4CRwM9A8UD/wMHBCoEdwTHBJ8EtQSDBDQEFgTuA7gDpwSFBRsFZwV4BUwFcwVaBSsF+wSQBIEEQQQDBEcEHwQMBPYD8AOiA+ADcQPTAmsCGQLEAWQB9AANASsB1wB6AEwAbAAfALj/Uv8F/63+h/5L/k/+Fv4t/gH+3/1L/Uz9Qf0u/ez8Dv0C/Vf9Tf2J/U7/lP/q/WT73/sW/NL7Yvzj/P78Vv2x/CH9Zf7h/tb9pftQ+8b7mPt0+9r7g/r3+kX8J/xZ/NH8nf1//WL8jvwH/VL8Rvwp/Gv8a/zQ/C78Z/wo/Xr9n/2p/VD+u/5L/of+sv6Z/tT+qP7O/pr+c/8GAGD/kP/s/+QAUwGwAagCqwKaAtQCXgIiAk0CZwLeAsQC0AJqA7wDOgQ9BNsDLQRqBCMEnwR6BBcEBwRaBEIE+QPXA5UD6QOeAzQDbwMpAzwDdwMMA4wCZAItAvgBhQInAq0BgAEwAf8AQQHpACcBxQFhAVAARv/G/wkAGwCmAJkAWABaAGcAeABaALL/Dv/Q/sn+P/9x/+H+4v74/hf+Kv5i/lv+Q/7s/U39Xf0f/VX9bf1r/d/9jf14/b797f16/fj8E/3n/Af9Tf1T/S798Pzq/Lz8Af0j/dr8afy3/IX8cvy4/CX9Of3W/PD8X/2f/cf9+P0H/kn+df7S/u/+L//f/6n/vv8dAE0ALgBSACMAVACPAL0A8QD5ABEBSgFmAQgCfgICAs8BfwEJATIBnAGlAdcBzgG4ATYC6QInAwQDdgJMAikDlwN9A3EDzwMhBCEEKwTzBD0FvQRgBDkEYQRSBN8DvgPUA7cDsAPLA8ADpQM3AxADEQMBA8MCngJmAuMB5AAgAP//QgAxAIX/wgBzBMUHkAZ7A2cBYf+Z/Qn9XP2g/bb83/uS/tYBdQNsAWP9b/s6+0P6qfnM+C33+vbe9+T4YfqY+pn6Dvq5+Xr6xPtn+zz7d/uF+8P7nvvO+m/6HvpD+tT75/yM/l3/Pv/Y/sz+sP6E/v790vwp/Cn88vxs/WH9Uf1z/sv+qf9oAL8AxgH5AUQBsQBBAMn/b/9J/0P/oP93AAEBXQFvAVcBPgGYAVICWgJoAd8A6wC9AJ0A7wAoAnsDpwQtBbsFGAaEBmEGjAZJBuMFdwVtBZAFJwURBfwETAQPBK4EwQSjBDcEOgNoAi0CNwKPAV0AvP/y/zcAfwCAAOQA3gApAN7/hAC2AFoA1P+h/2X/gP/z/mH+Lv6k/jv+L/5e/rP+xf4m/zf/7/9PANP/Yf+P/xkAVQACAG//B//v/qz/+/8DANT/K/8I/0b/8/7Q/n/+Vv2J/Mb8H/2W/ef8TPyw/Db90f3A/V79Zf28/cP93v3u/fj9+/36/Tb+jf6u/hv+7/2Z/gkAXwC2/2n/CwAGANj/Nv/6/nX/jf+A/+L/eP/s//7/Jf/K/yoA+f9gAN//vv8sACEAEwCT/wf/xv8EAPb/8QAIAWUA4wAkAWoBfgHtANgA2QDWAAsBVAHvAXEC8QJFA0YDGAPFAqMCbgJTAhUCHAKjAgQDEwMaAxsDAQN2A3IDhQLnAccB4wHkAbQBoQG8AbEBYAL8AZkBQQErAcwARQBrACUAAgDJ/xUAFwDs/lb+Bf96/+3/of90/lD+bf4T/mP+sP5b/lT91fyb/WT/4/9Y/4j+If5p/mX+Ov/DBHgKyQoIBL34yPOP9nABmA1dEJ0IlPsq9Cn34/0PAjQBsPxs/Bn/hwH4/UH3UfRa+XADdQbV/o73xfYK/kcHJQrOBLb7wfiK/lcFKwWH/oT5V/zAA7EHegSk/H74LvsUAQ8Dy/73+eX7JADqAw4C9vxG+jz72/+UAjkAafy8+xz/tAEtAdD+Zv2Z/s4AegIgAgQAq//CAF4CmgH8/c377fyz/l0AcQBi/8v+Gf9gAMMAIgDK/nL+7/+pAccBngF4AdMBfgH0ABMB6/8oAEMBlgJHA7MB3v/I/pP+Fv/z/88AMwHNAGQAOQAU/1r9n/yK/Xv/IALmAnMB4f55/df+vwAgARMAuQBZAogDjQIq/7n8gf1SAesEaQUxAxwAmv0q/eb95f75/0wBUQHwAMv/rP7o/QT+9v5zAA0BkgHZAUQBTv9b/GH7xfxQ/4EBDwK9AGX/r/7W/mP+bf1M/koAKQJGA9ECxgHuABIBMQJ8A+cCAAJVAWkBjwFSAp4CLwKFAKf/qP+0/5b/VP///lT///9gAeEBEwGx/xD/6/8PAdsBqAH1AMEAVADb/5T/QQCYAYoCwwIzAuoAcf8JAAMBSQC9/h7+ov6hAM0BcAGzAC8ArgCIAWoAbP7D/en+qwGwAqYB//67/Cz8pP2R/z8AdwD+AHUBAAH6/kz9W/xR/Ez+owD4AM//J/6Y/Nb8rf2l/tf+pv5e//v/fACqAZ0BWAAt/3/+//63/3IAKwE/AZUACACS/4r/yf82/6D+cP6D/cL9rf4HALIAfwAPAOb/6f9yANsAVQCA/zH/NP+M////AABu/3X/l/9b/1X/TP+LAEABtwE4Acf/rf5a/uL+Lf9h/5L/m/4H/mT+Nf+I/1//p/8GALIA6QARATIB5QBnAEkAFwFvAQgBAABx/yEALgHdAdIBZwB7/2P/CgDYAMMADgC5/8b/aQDBALEAQAA2AGYAlQDf/83+6P34/Q7//v8yAIz/I/9J/5v/DgDF/wX/+/5//wcAWACHAE8A+/4T/gD+rf5P/10AvAHcAsYCqQFgAPr/ggDEAKoAYQAxAHIAewCLAEgA1P+6/+D/1f/j/0cAcQAVAFX/0P6X/tL+lv9eAJMAj/8V/wj/sP6E/sn+p/9IADwAGwDC/6T/kv+k/6D/jP/T/0cAugCZADEA6v+x/97//f82AFwAcwCXAK0ALACn/wsArQAjAWYBCQFiAH3/NP+C/77/uv+m/7z/9P8QAOj/eP9Z/6D/ZQD5ANcAOgA1//H+Qf/F/0gAfABpAEAAMwDBAJ0BhgEKAZIAOgCBAJsArQCGAGgAfwCQAHEAMAACAEUAhwB4AAMAkf9J/7H/7/9qAHEA0f+H/6P/qP91/+T+6P5K/+T/cgByAAAA6f82ANP/m/9V/8r/vAA6AUUBlQCJ/yT/9v4a/2//xf/o/93/2f+V/z7/nP8KACsAbQCLAHsANQABANv/xP+Z/5v/Xv8n/zb/fv+/////NgBXAKD/TP9Y/6H/8f/u/wEAwv9Q//H+qP6w/h3/ov/5/0cAQwAOANX/9v+FABkBRwElAQ8BvQCgAA0B/wCeABMATf9o/xQAbwCGACYA9P83AH0AdAAgAGv/M//C/1QAcwBXAAkAsf/V/wMA7P/k/8z/FABFADoAMgD5//H/ZQCGAFYA8f+E/4z/xf/L//D/7P9eAJYAmABSAOb/OP9O/8r/VQBuAasBLwGzAPn/0P/a/5b/kP+Q/wYAsgAVAfIAawCd//P+UP/P/9P/hP94/4f/6/9gAGAAv//v/qr+//5e/wcAvQCCACkA+//j/6T/pP+S/6r/+P9JABcA1v/v/yIAIQAjAOP/qP9Z/2z/xP8vAHYAkACMAGcADADG/4z/Rv9f/8v/GgBCABAA1//J/8v/nf+H/4P/xv8uAHIAiAA7AGEAkgB+ADkAWv/1/jH/tv+TAFkBJwGnAGYAVwBaAEMAPQCHALkAtgCZAGcAt/+B/5z/zv8NAGQAZwBYAO//x/+w/3L/hf/M/87/4P/x/wYAKwBBADsA+P9NAG8AVAAWANT/9P87AHYATADe/7D/uf/r/wkADADb/7n/+P9DAEYAFAC0/yP/A/9M/5L/p//o/wAA5//b/8P/yf/u/wQA8v8LAN//k/+3/04AqgCvAEoA7v/w/wAACgDp/ygAbAD9ABUBpgD1/43/mv/Z/0MAfwBsAGUAYABLAP//2P+G/3v/zf8tAJoAYgBAABEA4v/W/0//AP9H/7f/RACPAGYACADE/5z/cv85/3P/9v+aAPMA6gCTACkA2/+a/9D/EQA1ABoACADm/+v//v80AEgACAAZAB0ADwDz/+P/2//x/+7/DgAUANf/qv+r/6f/s/+2/1L/mP8BAB8ALwASAMb/v/+8//P/DQAmAC0ARQBhAGsAMgDV/7T/tv/P/w0A3f/K//v/OwBNANL/pf/q//v/zv/O/63/6v+XAN4AggAoABgAIwBXAEYA9v/G/wMAiADSALkAWADp/xcARwAoAP//NACnAMAAgwAbAL7/o/+l/7//1f/S/+7/IABAACAA0//A/9f////G/6j/uf/O/xAAXwBLABIAzf+D/5T/lP+8/9j/+v8tACIA6v+n/6D/uf/5/yMA+P8AABcAGAALANv/3v/A/8H/0v+i/5H/lf+w/xEALABFAHoAPgC7/3v/pf+9/8//5/8aAEsAOwBcAFkA/v+6/7f/GABvAGYAVQB0AHwAZgAiAP//5//v/xkAHAA2AC0AXgCUAEwAEgDy/9v/CQANABAAFwDv/+X/yP/d//X/x/+6/73/5f8AAP7/8/8nAGoAhwBnAAkA1//O/9//DAA3AGQAeABZAD4ALAD+/9j/wv/g/+j//f89AEMAMgAMAOb/1v/I/7//y//V/87/6/8OACcA7v/G/xoARgAxAOX/nv+4/wYANABbAEcA5f/H/6z/y//9/wcA/f8NACgAWQCfAJkAYADg/7X/4P8aADkANAAuACsA+P/n//v/BwDv/9T/7v8EABkAAgDk/yMAGgDp/5v/Vv99/8X/HQBDABcA3f+9/+X/6v+8/57/jf/z/zUAVwAhAMD/rv/N//L/AADw/+3/CwAyAC0AHQAGAO3/xf/M/+v//P/0//7/GgAtAAAA5v+p/7b/BAAgACkAEgAZAAwAAwBhAHQAZwA7APH/CQAkACYAUABOAC4AEQAKANn/vP/h/24AlAB8AEAA8f/I/5z/5f8dACkAMQBGAGcAXQBhACIA7//o/wAAEgAPAN7/7f/4/6X/mv/C/+T/5//P/+T/CwAaAAEA3f/t//3/5P/c/9r/w/+3/7X/uv+r/8n/z//6//X/4/87AFIAMgAYAOn/1//e/9n/5P8IAB8A4//R/9v/7v80ADYAJwAUAPD/CwAHAPz/HQAlABcA2f/O/4r/of/v//L/GQBDAGcAYABkAF4AQgAAAAEA/f8LADkAHAABAOb/4//j/8r/2f/S/+L/BgADAPj/8v/0/ykAKwA5ABoAEQAnAGAAbQBVADUANwAJAO7/jf+U/7z/4f8LACoAVQArABAAGQD3//z/7//i//T/BwAYAD4ADAAGAPX/NwA9ADwAOQA9AB0A9v/z//T/x/+w/8H/+/8FANP/0v/8/xgAbgB0AF4ATQBlAD4ABQDf/+P/TAB1ACAAEAAFAAgA8//a/8T/2P8IACAARwAhAPP/n/+w/93/GACBAHIAQwD8/+f/1P/c/xUADQANAL//ev+Q/6D/wf/w/zAAWABNACMA3v++/+n/4f/b/9L/4f8OAPv/AADx//r/AQDl/9L/vf+9/xAAEgAMAP//DgAHAPL/+//O/8T/xP/X/wUAIgBfAJgAbQBDACMAAgDj/7P/m/+Q/8H/7//z/+L/1f/H//r/NwBeAJQAqACVAFwACACn/4v/tP/9/ywAOgAgAAgA/v8lADIA//8AAAwAIgACANn/+v8AABYAIwArACMAEwD9//D/8v/0/wAAMABIAEYALwD1/9T/yv/N//X/FQArADEAEADx/8H/5f/z//z/BgAAAAYA4//I/w0AMABcAEoAGwADANH/y//F/6X/q/+q/6//xf/j/wQACQAEAPD/4v/Q/6D/yP8AAPn/3v+q/6T/sf/q/xcA8v/w/+z/3P/f/8//2P/5//7/FwAXAAIA/P/t/yIAIAAcABMACAAMAPn/x/+k/53/xP///yoAIAD5/woAJgAGANz/3v/3/woAMgAsABAAAQD6/wkAFQAYABIAFwA2ACIAHwA+AEAAWgBoAFAAPQAmALX/ov+v/wQAQgCKAOUAqgBjACsAEgDk/83/3P/p/wcAMwBCAC8A/v8BAEAAggBVAPr/6f/v/8T/wP/O/+f/IwA+AEMAEAD3//v/GgBMAB8ANAAwAB0A7//D/7//5f8iADoALgAFAOX/4f/Q/8H/t//J//v/9/8XACAA+f/n/+X/7f/8/yIAIAA7ABoACADv/+X/3//p//D/3/++/7P/pv+r/57/pv/0/w8A8P/u//n/8v8GABEA6//b/xQALABBAHUAXABWACkA///d/9z/yP+k/7j/vP8IADcAQQA0ADYAZABkAFMACAD+/+n/6f8bADUAKAAYADQAPAAnABkAFwAbAA0AEwACAAQAIABHADQAIwAMAAsALQAqABcA8P/K/+b/IQCIAIoAXgA6ACcAFADy/+n/2v/T/9z/CAAdAGYANwATADwAMwAPAAAA9v/T/+b/5/8LABEAJAAoABUAIAAcAO7/1v/e/9r/+P/s/+z/3//n//v/7P/n/6b/s//a/+H/yv/K/9H/8/8fAD8ANQAWABAACQASAOz/xP/f/+j/2v/U/5r/Vv91/8H/9f/Z/83/8v8AABAA/P/g/97/1//w/wQADAARAAUAGQDx/8z/2v/y/+H/3f/v//H/AQANABgABgAMAO7/6//5/wgACgAQAF8ASwA2ACQAHwAeAAYA9//0//L/5f/T//j/CgAEAAYAGQAzACUAIQAJABAAIAAXACAADAAIAPj/BAANACMAEgD6//f/DwApABsANAA2ABYADQAUABoAEQA6AFIASgBGACgAHgAwABcA3//N/9r/6v/u/+L/8//m/wcABwD1/wIA8f/f/wAA7v/h/+b/8//3/+3/2f/s/xAAAwDk/+D/8/8EAAoAxP/F/+b/6f/t/+X/+P8BAPv/BgAcABsA///j//H/8//E/5T/qv/w/xUAIABSAEMAPwBDAC4A0v+j/5P/oP/J/8L/yf/x/wIAAgAAAPn/8v/z//T/+//2/9f/3P8DACIAIAArACMAHwAZAC8ARQAnABcACgD9/yAACwDu//j/1v/b//v/VgBJACEAKwAXAPL/2P/W/9r/9f/2/9T/2v/2/wQA+v/w//n/9v///w4AHwALAAkADwAVAPH/1v/q/yMAKQAPAP//GAAKAP//AgDW/77/1f8AAAcAAwAUADEAJgAUAC4AGQALAAYAJwA1AAoA5f/l//3/HgAgAAoAAwAeABwAKAAzABEA7f8FAAwA+P/i/9D/yf/k/wsAAgD0/xQADADz/+z/3/+//8j/k/+1/9r/2f/m//D/1P/h//v/8//h/9n/2P/c/6P/xP/S/8X/0//Y/+r/BwD+/w0APQAtAAcA3P+p/8D/AAAHAAcAJgAQACUAJgAZABkA8v8JAAkADAASABUADgATACsANAA4AFAARwAhAN3/zP/m/9//6P/1/wMAHgAfAAIABAD+/93/3v/0/yUALgAqAFEAOgAuAPT/6v8AANr/7v///xEAMgAVAAgA+P/t//j/7P/i//b/EAArAA4ABQACAOv/3f/O//D/AAANAAAAzP/o/+r/3//U/9j/8f/r/9z/8f/s/+L/4v/t//f////v/97/zf/N/9P/7/8XAAMAFAAfACEAAAACAA0AEQAGAAMAFAAKAPj/6P/z/wEAFAAMABgAEQDl/+f/3//q//f/xP/P/+P/+P/2/+X/7f/+/xQAEQABAOP/9f/0/+r/8v/v//3/DAD0/+P/9P/Z/+3/GQAoABcAHwANAPz/9//V/+D/8/8PAA8AKgAxADYAGwAvAC4A9f/w/+b/5P/l//z/DgAfACoAHgAvACIA9//Y/+r/HwAdAAsAKAAiABoADAAAAPj/1f/o/wEACgAKABgADwAKAOn/6P/a/9L/0//Y/w8AIQAgAGAAYgA2AEAAMQD//+f/2f/n//v//f8JACAALAA+ADAAGAASAO3/4f/g/9z/5//f/+X/4v8BAAsAFAAZACoANAAQABAAAQAAAPv/AAAIAPL/6P8/ADIA1//8/wAA9f8KAAAACAAZAOv/0P/p/+3/6v/o/+r/8f/E/9L/6//z//H/BQAPACkACgDt/9//yP+j/7f/1P/0/xsADgAOABsAGQDe/7v/1v/H/6T/zv/1/xUANAA1AP7/2//Y/87/6P/q//X/BwAnABgACAD//8L/qv+1/+T/AgAZABgAIgAbAPz/5//w/w8ABwAFABEALQA9ACEAEwAVAAcA6v/j/wYA+v8OAAkAHgAtABsAFAAIAPP/7v/U/93/4//7/x0AKAAcACUAOwAoACQAGAD7/+P/3P/y//n/y//T/8n/0P/c/+v/CADy/wAAFwD5/43/oP+//7v/wv+5/6v/8f////z//v/t/+j/7f/d/8T/1f/i/9r/6f/6//P/AwDx/+X/5f/r//b/+P8ZABEA7v/z/+T/7v8hAAoAMQBTAC8AFgDh////BwAZABAAHABLAFAACwD0/+L/3P/h/+z/IgA6ADwAQAAYAAAAEQD5//T/FgAQABsAJwAyAC0ACwACAPT/9v8kACQAEwAsACgALwAlAAsA///c/9b///8/ACYAFQAXAPn//f8JAPH/+f8fABYAMwAiAAYAAQDh/9v/4//O/9L/+f/2/+n/5//n/+7/9f/n//P/uP/t/+r/yP/m/+r/7/8QAAMA+P/o//X/+f8fACMA/v8SADcAIAAAAPT/1//f/+D/6P8IAA0ABgApADoAAwDe/7P/0f/n/wUAGAAIACIAHAANAAsAAQDz//3/CgADABQACQABAPv/BAAbAAIA/f8EABAADQD4/w8AFgAQABcAAgD//wcA3//n/wAACQABAPv/GABEAC0AGAAZACsAFgD+/wUA/P8FAB8AJgAxAF8AKgASABAAFQARAP7/+//p/wEA+v8JABQAAwAJAOv/6v/q//z/8v/m/+f/4v/h/7n/p//J/87/u/+7/87/AgAcAAkA/f8JAPr/7P/w/73/4P/8/wYAEQAmACYAHQA7ACkAEAD4//7/AgD9/9X/2f////z/+v8FAAkA9//v//f/IAARAPX/uv/Z//3/7v/3//3/DAAUADoABwDk/9X/yv8bABkAGwAeAAsA/v/4/8z/zP/W//b/IwBGAE0AJwABAPb/1P/f/+L/AwBlAHEAagBNAOn/1//L/+f/5P/o/wAA/f8AABAABgACAPj//f/b//r/AADO/8n/9v8IAAIA4f/q/wAA9f/p//n//v8DAPn/DwASAC0AHwAkAE4AMQAkAA8A5f8AAAEAEAAgADIAPwA+AC0AEADy//3/LQASAAQAIgAMAAAA9f/f/+z/+v8YACYAEgABAAwA9f/m/wgA3f/W//X/7//z/+z/tP/F//b/NQAjAAkAJgAdAAIAAAAHAOH/uf/O/wEACQD6/wwAIAAHACMAMgANANj/7v8qAAIA5//Y/+r/AgD3/+T/8P/1/wUABAALAPr/xv+u/9r/5f/w/wYA/f/3//r/FQALAOr/2v/7/1kAUQATAPr/9v/v/9P/6P/r/+//DgAoAC0ABQANAP3/+P8FAAgAFABDAEsAHAADAPf/zv/K/+z/LQBBAEsAXwA7ABYA4P/R/8j/zf/0/xkAMgAyAC0AHAD9/wYA8f/V/+f/9v/y/7n/tf/W//f/3//2/wkACAABABIA5f/Q/+X/3f/1/9//0v/r//L/+v8TABAA6//+//L//P8OAAIA2v/w//r/8f/t//3/DgAjABgAEgABAPL/AAADAAAACwA7AD4AKgAAAPb/4v/V/+T/HAAvACMA///u/9H/5f/5//L/BAA0ADoAGgD1/9v/vv/K/9P/BQA4AFUAPQAQAP7/AQDe/83/7P81AEYAIQAQAAYA+P8EABkAHAATABwAJgAHAND/1f/d/8r/3/8QADcALADo/+///f/g/+H/AgAcACsALwAbAPH/sP+1/+b/5//w//3/LgA+AAkA6P/O/8P/yv/q/xkAHgD4//b/FQAAAPP/+f8FACQALgBbAEgAIADv/9f/2P/o//X/FgD6/xAAXAArAOL/0v/u/wgAFAAHAAIA+P///9P/nP+J/7T/3P8HACMADwAJAAUA9f/W/93/9v/7/+n/CAALAPv/4v/h/+//DgAXABYACQD7/+H/xv/a//P/BgARAC8AMAAiABAA/f/3/zoATwA3AEgAIAD9/+r/zP/I/+L///8cABQAFgAHAOn/4//r//X/DAAdACsAPQAoAAwA8v/R/+H/5//l/xMAJgAcAAEA5//v//b/7P/x/yIAMgAdADQAJgDa/+b//v/6/+///f8CAPf/7P/5/xEAFAATABcAEQAZAB8ABwATABoACAAVADkADgDw/+7/5v/O/8D/0f/p//3/BwAPAO//tf/d/9j/3v/g//z/DQAfAAEA5P/U/8j/v//I/+r/0//u/wkA9P/x/+n/8v/2/93/1P/6/xIAAgAOAAUA9//r/97/5//k//P/KQAoABUAGAAEAO7/8f/5//r/BAAUAAgABQDz//j//f/w/+X/9v/2/+f/7P/r//n/DgAAABUAQgAoABwAKAAUABIADwAQABwACgAVABoAHAAmAAgAAwAqABcALAAlACgAMwAiAA8AIAAqACMAAwD1/+X/0f/e/+n/5//b/9L/4//3/+H/1v8CAP7/9v/Z/9X/7f/v//T/AQAFAO3///8CAM3/2v/u//L/6P/e/+P/+//q/+b/CgAxADUAHAAMAPD/6//j/+b/7v/j/wsAGAD6/93/5P/g//v/8P/p/xkAAgDp/+D/1f/q/+7/8P/7/wEA9//8/wAA8f/t/wYA/v/8/wUAAQD6//T/4f/3/wAAAQAHACYAEwD///n/BgAUAA0AFgA9AC4AHAAcAP3/8P/u///////9/w8AKAAUAAUABwASAP3/yv/i////AAAYABAA9v8DAAEA6v/j/8r/0P/t/+f/3f8HADYAMgAOAP7/DwAaAC4ALQA/AEUAPwAkAPf/6v/6//r/+v///wcAHQAVAAsA+v8RAAgABAADAOz/+f/3//7/DwAOAAQAAwD5/+j//P/s/+P/JwAfAOz/+P/x/9n/xv/b/+z/8//y//P/7//y//T/AgD8/9H/6f/g//H/9P8CABQADAAKAAEA/f/z//D/3P/f//n/DAAKAPj//v/w//n/7v/5/xwAHwAeABUA4//y/9f/tP/a/+f/9v8WABkAHQAaACkALwAOAA4AAgD+//D/8v/X/8n/4//7////IAAcAB8ACgD+/xAABQDz/wsADAD2//j/FgAWAAsAHAAjAAoA8//1////7v/q/wEAAAD7/wcACwA2ACcADgAAAO//9v/u/wAAEgAkABwAHwAjAP3/BgAKAPf/EQAQAPz/9P/Q/9f/4//v/+v//f8OAPz/4f/e/9n/7f/t/9H/4/8AAAoACAAbAAkAAgDk/97/3//B//L//v/q/wgAFgADAAMADwAIAAkA+//+//j/zv/l/+j/7v8VABAAJAAcABoAJQAYAAQAAwD9//7/7v/x//L/AgD+//j/DgAFAAQA6f8IAP7/BwAvACEAEAAWAC0AIgD+/wUAEAD3/+7/+v8GAPj//P/y/xIAHQABACQAJQARAAMA+v/+/wQA8v/4//j/CQAqAAoA///8//L/9P/v/9j/2//7//n/7f/+/wkADgAaAA8A6//1//z/9f/t//r/AgARABkADgASAPb/9P8EAOr/9v8DAPf/DAAEAPv/DQD7//X/CgAuABQAFwAuAA4AAgDz/+j/IQAcAA4AAQD+/wgAAwD4//D/BgD1/9n/8//y//T/BAD4/wAACwDn/+D/+v/u/8D/6f/w//v/AwAXABwACwAYAAAACQDy/8f/5f/w/+f/8v8RABMAFQANABAADAD6//X/7v/i//P/7v/+/x4A/v8AAEQAMgAVABkAEQDs/+H/4v/R/+P/7v/r/wMACgAIAAQADwAHAAcAFgAVAB0AAAD+/wUA3f/1/wYA6f/4/xMAGQAdACAACwDz//v//P/7/w8ACAANAAsABgATABcABgARAPb/1v/f/8T/9v8LAAAAHwAuABsA6v/y/6b/r//Z/9T/6//0/wsAJAATABYACwD0//L/6v/M/9P/1//M/97/4P/K//z/FwDs//n/8P/z//T/IAALAP3/EgD2/wMA+v/m/+n/AQDt/+T/3f/o/+v/y//e/9v/8P8qABIAAAAMABsACgD4//T/6v/z/+z/3v/l/9v/3f/8/xQAEAAUABMAEQARADoAGAANADEAGgAdAB8AFwAGAOz/EwAgABkAMgBAAG4AKgDg/+7/6//n/87/4/8JABIAHAAdADAAHQAhAAUA9//x/9b/5f/p/87/4//+/wsAJwAlABQADQD3//X/BADs/+b/AAD9//z/8//6/wEADQAOABIADwARACIAGwDs/8X/2v/e//H/AwAYABsAGAD4/+b/6v/m/+3/8/////H/9P8DAAQACwAOAPf/+f/w/+f/1v/B/9b/2//a/8j/3//v/+r/9P/7/wIADgA4ABUACQAJAPP/4//r/9z/3//5/w4ACQAJACAAIwA7ADwAGAAuABsA8P/4//////8GADoARAAcACwAKgAjACIAHAAjABwAFgDl/+3/AADl//3/DQAHAAkABAAHAA0A8f/z/wAA9/8AAAMA+/8QABgACgAZABYAEwARAAQA+/8CAAQA/f8QABkADgAOAAsADAASABIABQDr/+D/1v/R//D/+f8EAA0AEAAAAO//AwD///P/4/+0/7z/3v/Q/9n/7//4//H/6P/v/wgABAAPAAgA9//w/+L/5f/w/+r/5f/v/+7/6f8BAAkA9//8/wgA/v/n//X/6//p/87/wP/E/9r/zP/e/+//6P/p/wAA9//0//3/9P/d/8b/xP+8/8r/3v/W/+D/8v8aABoAJAAgACwAIwAaAC0AGQAMAAUAyf++/8j/0/8SAD0AMAAhACcAGQAWABEAGwArACcAKQAcAPX/AAAcAPX/6P/k/wAAIAAjABwAFwAgAAkAAAAPABQAFAA7ACsAKwAuAC0ANwArABcAIQAJABoALAARADUAOgA4AGEAVwA6ADYADADw//z/AgD9/wMADwANABMAEwAQAB4ALAAHAPr///////P/6f/h/9z/6f/2/wAAEAANAPT/CADv/9b/5f/k/+z/7P/p//b/2//r//f/5v/t/+z/9f8CAPz/8v/3/+b/sP+x/8X/xv/d/+f/3v/f/+L/6v/0/97/2P/l/+//8P8AAAMA/v/p/87/zv/N/+j/IQAhABcAEwAKAPv/+v8BAAYA9P/i//X/8/8FABkAFQARAAsACQDz/wQA/v/3/wEAAgDl/9n/4f/o//D/7v/u//f/DQAHAB4AGAAWAAwA+//m/9T/y//W/93/8v8UAA4AGQAmACYAKQAeADoAIwAtAC8ABwAKAAgA+//k/+f//P////v/EAAJAPX////+/wkAAAALABcACAALAAAABQD8/9X/2v/p/9b/4v/w/97/zP/a/+//+/8EAB0AJwArACIACwALAA8AAADz//3/+/8AABoANAAzACkALAAAANf/4v/q//z/CAAFAAYA5//U/+P/6P/s/+H/7//1/+D/8P/r/7f/vP+j/6T/qf+x/8r/yf/b/9f/1P/M/8H/w//E/8j/0P/m/+z/8f/1//n/BgALAAgAEgAlACAAIQAqADEALwAkAB8AMQA2AEEASABHAEkAQABBADwALgArACgAIQAmACMAFQAZACcANgA9ADsAQAAwACAAEwANADMANgAqACQAGAAgABUAGgAbABsAGAAcADYAIQApADgAOgBIAD8AOAAnAB4AFQAUAAkA/P/6/+f/4v/V/9P/2v/k/9n/1f/P/9n/+/8LAAwAFgDj/87/xP+x/57/h/+b/5b/kv/B/+X/7v/t/+X/5P/i/+H/8v/4//v/AwAEAAAA7f/V/9n/1P/U/+P/9P8DAAoAEgAhABUAAgAYADAAHAAtADYAMgArACsAKAANAO7/7//t/wwAKwBOAF4ASQBGADYAIQATABUAOwAmABIAFQAKAP7/8P/5//n/2v/a/+X/7//4//7/AAAIAP//BAANAP3///8FABUAGAAVABwAGgAFAPL/AwAjABIAAAAAAPv/9f/x//3//v/+/xUALgAlAB0ALgAHAPX/5//j//3/AQAKAAgACwAFAOz/6f/B/7L/vP+0/8L/wv/P/8j/t//K/9//4P/3/w0ABgD4//j//P/0/7v/qv+g/6T/sv/c//z/AgAPABgAIgALAAsAFAAJACEAKQA2ADMAMQAwACEACwAVAAwA/f/0//f/CQAuAFMAVQBaAD8ALgArABoAKgArABIAAQD2//H/6v/w//T/9f////3/BQD+//j/+//3/wMADQAKAAYACAALAAIA///8//P/+f/y//b/CwAAAOX/7//u/9b/7/8BABAAIAAlACgAHgAaADsAOQAGAAAAAADr/9n/7P/u//X//v8PABUABwAEAAwAEgAcABcAFQAIAPz//v/4//n/AAAHAAMA/f8DAAcA9//0//T/6v8MABUAFgAYABcABQABAAYADwAPABEAHAASAAsAAQD+//z/8f/g/+D/DgAXAAoAFgAYAAQA//8MAP7/5f/o//X/6f/x//v/4//V/8n/zP/S/9n/5f/6/wYA9//y/wIAAAD2//D/7/8AAAAABwAMAOf/6/8MAPz/9P8QAB0AEwAfAD4ATAAzABsAGQAHAAAALQAsABcABgARAAoA/P8QACcAKgAkACUAGQD5//f/CgALAP//GQAqACoAIAAYABcABADn/93/4P/j/+//AAD//wUAHwAdAA4ACAAAAPr/8f/k/+P/7f/q/+//AwADAPL/+P8UAAwA9//4/xYAEAD6/wwACQDv/97/6f++/9P/9/8OAA4A+f/9//D/6v/u/wIA+f8BACgAKgAnACAABQACAPb/3v/k//L////1/+3/9//2//z//v8AAAQAHQAdAAoA/f8DAPj/3v/e/+P/7P///wEAAwAEAPr/EwAPAAMA/f/9//7/9f/y/+//7//1//n/9f8AAAMADgAYABMADwAKAP7/7//x//v/8//9/wMAAQADABQAIQAfABIACgDu/9L/2v/p//D/8v/2//L/7f/u//D/EAATAAYAAQAJAA0AAgD8//r/9P/3/xQAFQALAAEA+f/8//P/8f/w//v/AAAHAA8AFwAkADMAMgATAAgADQALAAQACAAVABwAGAAZABgAAADs/+X/2v/a/w0AGQAbABIAEQAWAAIAAAAAAAsAAAD9//j/6f/r/+j/8P/y//b/8f/3/wAAAwAUAAsA/f/s/wgAEwALAA8AHgAmACAADgACAA4AJwAiABQAFgAPAAcAEQATAAcACQAWACMAGwAlACsACgAGABwAGwATAAwAEAD8/+j/5v/p/+L/5f/z/+3/+v8EAAAA3//l//T/7v/G/7f/vf+0/7v/vf/d//j/FAAmACIABgD3/+b/5//y/wAABQAHAAAAAAABAOz/6//0//T/+f8BABAAEAAUABMADgAJAA0AAwAIABcAIgA5ACwADAD8//r/DQAKAAgAEQANAPr/CAAIAPD/8//m/+b/6/8FABwADwD//wYADwADAA0AEwATAA8AFAAcACAAIgAbABkADAAJAAoA+//0//r/CAD6//j//v8DAAMA+f////v//P/z//L/8P/k/+f/8/8CAPf/9//m/9r/vf/H/9n/4P/4//z//P/7//r/5f/i/9v/1//U/87/0//e/+j/+P/y//j/CwANAAgA8v/i/9z/0f/d/+j/8P/4//n/AAAAAPv/9f/u/+n/4f/s//X/8v/8/wMA//8FABMAIwAmACkAIwAHAAcACAAaADEAMgAwACQAKwAoABsAHQAaABAAJgBPAEgAQwAxACsALgApADAAIgAXABQAFwD8/+n/5v/u/wAACgAJAP7/6//m/+b/2v/W/87/1v/v//n/+f/+/+z/5P/k/9X/2f/Y/+D/zP/Q/9f/3//m/+X/6v/d/9b/2f/f/9T/3//W/9j/5f/n/+X/1//W/9j/6f/s/+b/6P/l/+n/9f8AAAAA9f/w/wAACAAHAPL/8P/s/+r/AgASABEAGwA0AC4AMAA+ADoAMQAwAD0AQwBaAHMAgwCFAJQAoQCiAKIAoQCXAI0AaABTAHgAhQCBAH8AkACNAH0AggBrAFcAUQA/ADUAIgATACAAGwAeABQADwAUABQAGgATAAEAAAD///j/+P/p/+X/2f/H/73/tP+x/57/lP+O/23/YP9R/0L/Mv8l/xb/7P66/qH+f/5s/mb+TP46/ij+Gf4H/gH++f32/Qb+D/4Z/in+LP4t/kP+Xv5z/rT+6f4R/1b/kP+z//P/JwA4AGQAiwDKABsBRgGBAbQB2wEOAjUCSwJiAnsCnwKvArUCuQK0Aq4CjgKMAncCUgI0AhgC6gGxAZMBZwE1AQcB2gCkAHsASQAhAP//2P+7/47/cP9Q/zf/Jf8Y//L+6f7V/uH+A//u/t/+3P75/vj+BP8d/zL/S/9P/0L/NP86/y3/KP8J/wj/1/6v/pP+Vv4j/tL9kv1D/fT8l/ww/Lb7UPv4+qT6XPr8+cf5kPla+TT5JfkR+Rv5O/lr+en5WPrl+oL7R/wZ/Q/+A//7/yEBRAJxA6IE6gURB0gIXQlrCl0LLAzlDHQN5w0LDkQOPg4ODtQNPA1yDKoLuwqqCY0IXgcrBtQEgAMlAsYAX/8M/sv8mPuX+rL56vgz+KD3H/fB9pX2jPa+9vr2N/eY9yz4v/iA+V76RfsK/O/84P2k/nL/PQDpAKMBRgLmAmkDwQMXBEQEPQRCBBME1gOOAxwDlAL7AWQBsQD2/zf/b/65/QD9UPyr+xb7r/pB+uX5uvme+Y75ovnt+TX6pPoq+8r7jfxb/SH+/v7r/7UAgwGIApADdwSHBUEGAQeqByoIjAjXCAwJJgkmCe0IpQg8CL4HGgdQBn0FigSOA6ACkwFuADj/GP4A/en76vr4+Rj5P/iM9/P2evYe9ur1zvXS9Q32WPbN9lz3+Pe0+Iv5a/pg+3L8e/14/oT/igCAAVwCRwMMBMQEcgXvBVkGsgbeBv0GIQcbB/QGswZcBuYFbAXyBGcEyQMtA6kCHgKFAeEAPgCr/yT/pf5Q/gH+vf2H/VL9Nf0t/SH9TP2H/cb9JP51/ur+Zv+2/yIAhADuAFcBuAEoAnsC3AI9A3ADqQPBA9UD5gPjA8MDnQN2AzUD7AKdAhcClAEZAXoA5P9a/73+OP6r/Q39hPwK/I/7QPvY+mj6WPos+uL5rPmZ+Yb5mfmo+aP5xPkF+lD6nPro+kD7pfsM/Hn86fxa/cL9Rf7K/kL/0/8+AMcAWwHQATwCpAINA3kD1QMpBKEE5wQyBXkFswXTBfQFAQbxBdwFsgWaBXEFTQUEBfYEvgRsBD8E+gO3A4ADUAMLA/YC3AK3AqMCdAJKAiIC+gHHAbEBjgFnAUIBEwHgAJkAXAAlAPX/rP+H/1T/Cf/L/on+Vf4b/tT9fv0w/cX8efwr/M77TPvZ+nb61fll+fT4Wvjq92n35PZh9vX1sPVj9R318vT29BD1N/WQ9ST24/bS9+b4Fvpn+9n8Xf7p/5MBNAPsBOEGpAhHCu8LZg3IDvEP8BDUEYkS8RIiE0MTGxPmEmoSohGZEGcPEw6PDPIKPQmSB9MFDARUAngAlP7Q/AP7cfno95T2YfVh9InzvPIl8qbxWPE38T3xhPHz8XbyHfPa87T0zfXj9vH3I/ls+r37Qv2g/vP/SQGaAswD5wTnBaAGZgfwB1UIoAjICNkIgQgKCHcHrQbXBRoFIAQOAwQCEQETAAz/Bv4x/Vn8qPso+6L6ZPpf+oH6xvr8+nz7IPzS/IT9b/5+/48AsQHmAvUDBgUoBhwH7QfECHwJCQqSCgcLQgs7CywL4wpcCqsJ5Aj/B/4G6gXABHQDEgK3ADv/n/0T/J76KPnT93X2PPVK9E/zgfLR8UHxDPH48OrwEPFY8dPxVPIO89zzy/TY9dL22Pf1+Af6BvsF/Ov82P27/oL/RQDpAEYBtQH4ARkCBwLhAZkBRAHeAG0A9P9q//P+lf4g/rP9W/0O/fb84/wS/V/99f2Z/lb/ZABqAcYCRASZBQYHgggNCpkLCQ1qDqcP4BAMEuwStRM2FHcUnBSEFFgU8BNUE5USgxE+EAYPng33CyYKOQhaBo8EpwLFAPH+Gf1e++X5TfjS9ov1cPSP89PyF/Kp8W/xb/GM8cPxJfKz8nXzTfRS9WD2gven+NX5FvtY/Jb9y/76//EA2wGYAi8DkgPDA8sDmANKA/YCdQLJARQBJAD0/vL9z/yd+3T6avly+JP3rfbg9Uv1zfRy9B70C/QX9FL0rPQz9d71rfae96j4wPnK+s371fzU/cD+sf90ACYBwwEsAnkCnQJwAicC0QFGAbQAQgDc/4z/Vf8q/+7+qP6L/kT+Q/5t/tH+a/9bAG0BtAIKBEUFXgZlBzsICwnBCWwKXgtMDCoNCQ64DjcPag9gDwkPeg7sDVENsQwVDFgLjgqtCboIZAcJBqMELwPdAbIAj/9o/n/9pfy4+/X6Jfpw+c/4UfjL96n3qPd69573+/dE+NH4hPk3+gT7DvxJ/W3+v//3ACUCgwPMBAUGUwdyCEAJ9gmGCrQKwgqhCvcJXAmjCL8HygbIBW0ECwPkAXoAD/+b/QH8e/oc+dn3tvbc9Qr1S/S+81LzH/ME8xbzR/Of80j0CvXr9fn2Afjk+OH50vqu+238Kv3J/WL+BP9o/33/jP9h/+P+Of5s/WD8X/tf+jP5HPjy9nv1BfRD8nrwt+4X7XvrI+pk6cvowegk6b3pqure60bt7e4b8WrzOPbz+dP98QFCBlQKOQ74EXkVqBjRG5we7CBMI3clSifgKNEpTiouKrMp3SihJzUmWCQ3ItofUB2NGpUXRxTbEEUN1glzBioDBQDr/AL6cPf09Lvy6PAh78Ht0Ozz64jrkeu76wzs3ez27R3v4vDF8qz0x/YB+R77cf3w/0wCxAQUBzMJDAvtDEkOQw/yDw8Q4g9qD58ObA0YDHQKbAhHBvoDmwE1/8z8Svrf96X1efOH8cnvF+6u7Jjrnerr6YLpRukg6Sbpcunx6cDqzusj7YDu3+9i8R/zxfRF9r73Cfk/+kL7P/wY/dP9Uf5o/kP+qP3W/NX7ivom+eD3mfaY9dP0JvR8883yNfLE8c3x7fEr8rvysfPM9Sz44frO/X4A6gJsBT4IFgsODukQdxMmFu4YrxtKHqEgMiIVI8MjUCTMJC0lEyVTJDcj5yF4INseAx39GogY5RVGE8gQYA6mC7gIyAXEAh4A2P3D+735uffl9UP0+PLw8fLwM/Ci77LvEvDV8NTx/fJN9MD1dvdH+TL7B/2u/lwA7wGwAzoFewZzB/0HVwiJCIEIMwh/B0cG5gRTA7gBHQBN/kj8F/rv9/f1HfRY8pbw1O5q7VLsiOss6ybrMuuL6x3s5Owc7qPvMfHG8q30zfYR+V37Wv0U/9oAhwITBI8F1AaQBxoIigipCJgIkQgBCCoHHQYLBfADtAIPATf/bf2a+7/5+PdL9oL0uPLq8GPvS+4f7c/rneqk6c/oWegR6EXoieis6PLopOna6nzs/u147/Hw5vKq9d34TPz2/4UD6AZCCsgNCxKqFikbLh/WIismdCnULMsvNTKSMxk0ADT3M/gzszO6MqEwzi2gKownnCRYIZcdMxktFEkP4woeB2gDX///+q324/IM8Mrtdes26eTm7uTl45nj2OMu5IDk7+S+5ULn8uiv6nrsDu7M7/vxcfT79qf53vsY/i4ALwI/BDAGygfSCLoJywrWC1YMdwweDEQLcAp5CQgIggZnBOoBc//y/KD6Y/gE9nbzDfEN72ntC+yi6vvoi+eW5l7mhebX5pDnRugi6Wbq8evL7bDvivE78w71Ufe3+Rn8fv5iABQCnwPwBA0GBgezB/UH2wdBB5AGqQV7BAQDdAHG/yL+LPz++ef32PUf9HTyy/BX7yruZO0x7XntjO4I8Kfx8/Ia9CD2ifk6/uoC4gYyCpYN/BFmF6QcBiHxIxYmQyhdK8MuiDHdMrAy4jEjMegw6zAGMMQtTypqJiQjgCCsHRUa0BXeEAcM2wdsBMgA4fyj+E70pPC17RPr0OiK5ork1uK54dHgSOBH4JfgQOEG4hLjg+SD5uToZ+vh7TnwXvLW9Hr3W/r3/Dz/EQG0AmIEDgZnB0UIlgg8COEHlQccBxQGegR5ApwA0f4I/VX7Y/mE9731EPSV8jPx6O/i7jfuve3M7UXu6u6473nwc/HC8k709/WT9yr51frK/Nf+uwAZAm4DlASbBXcGMgegBysINgjyB+IHhwcSBx4G3gSpA5sCbQEcAPD+lP0s/JT6A/nO97T2iPVC9ODy5vGD8TrxzvBX8Drwh/B68YDypPML9aH2pvjS+hv9fv8IAjkFsggxDFUPJRLyFMsXtxpyHZofZiHnIkEkbyUqJmcmMia0JeAkzSN8ItYg4h6HHPEZNBeBFOIRKw86DPYIrQXeAokAUP7H+y35u/YL9f3zHvMD8ozwR+/L7vLuM+9W7+julu7s7p7vufCs8Vjy0/JK8wz0JfVb9hz3kvfb90j4Evny+XT6bfo9+sf5Zvko+ef4ZPib99P2I/aq9WD14fRg9NDzVvMj80TzW/Ns82PzevMJ9M/0qPWI9kT3Ivgk+Ur6oPvj/O797v4MAGkBywL2A9YEqAWWBpsHdQj7CEUJbgnNCTsKdgprCsMJEwmiCGUIFghgBwUGqQSqA+ICOAIjAb7/ev5t/Z38HvyE+6n6zfnP+FX4lPja+On4nfhx+NP4dfk9+vb6ivsx/L78p/26/q3/jQCMAW8CjAOQBE0F5QWfBp8HnAhwCTUK4Qp6CwYMrgxiDRYOew6BDnYOyg5yD/AP2w9kD9wOmQ7kDigP/Q5KDmUNugyGDIkMQwxUCxkK/AhSCOgHJQfcBXIEHQMBAvsA7P+Q/gj9iPse+vr4n/cn9pT0/vKZ8XrwW+9C7tzsieuI6tfpaukq6dbonuh+6JToG+kC6vjq7Osk7XnuHPDB8W3zM/UD9+344/ql/Gf+GwDIAYUDFQVkBosHeAhXCfwJfwrPChAL5gqZCkQK+AmfCQQJCgjoBugFQAXCBMgDXQL9ABIAmP8T/07+Nf08/Lr7v/vN+7P7Vvvu+uz6Vfvy+4T88fxC/bD9Rf79/rX/LQB0AHkAtAAXAYIB5gFCAhMClAH/AAIB8gGgAmoCiAF3AHMAkQGaArQC9wFGAYgBpQKUA84DowOEA9oDcQQmBfMFcgZ4BnkGugZ/B14IxAjPCA0JfwkbCqUKzwruCuYK9gpuC6YLkQsDC/QJcAlICQoJeggzB3UFHwRJA68C3gEqABH+Pvzi+gX6BvmD9871E/Qy8+nyQ/It8ezvJu8774Tvd+8r7/TuK+/879fwxPF28hjz8PP69D72tvcZ+VD6p/sb/bD+SgCfAfkCRQRgBYEGnweYCIIJ8QkfClIKoQrdCu4KogolCqMJGwmxCAsIQAdZBl4F0wSeBCsEewOnAtYBhgHgAUsC9QGJAAT/kP4m/+//1v+R/vX8z/u9+5n8wvyr+935ivh5+Nn4zvj398f2C/ac9T71P/Ww9C70xPP08sXy+vIl84XzSvOn8uzyAPSI9Zb2SvYg9s/3efqO/Sj/Nf8IAOcBXwUICfAKnAv7C4wNzhAoFMIVBxYKFtYWGhknG2IbxxrUGXgZ/BnwGT8Z2RfQFRcUpBJcERAQvA3xChYIXAViA9sBsf8K/fP5Gfeh9Vr0jvJY8Lzt3+uQ6qvpSulH6NLmteWm5ajmy+cM6Ozna+h16UfrYO1k7zvxY/LO8zz2Bvl1+0n9i/4lAFACbQSCBgkI+QjvCQgLXAyLDT8Okw6kDp0OtQ6UDm8OOg7IDQMNqwuaCjMKxwlKCewHNwbZBOkDnQNDAzwCpgCe/2X/af9I/1D+B/0s/PL7LPw1/I/7hPpl+fD4R/lm+eL42vcu9jf10/Sd9H30d/PQ8W7wne+773jwGPC87l/txOz+7dXv9fAu8YvwrvAd8wX3tvpK/DL8a/2/AF4FswnqC4oMrA3hD9ATQRj6Gc4ZVBkIGgUdsB88IEMfAR3kG8Yckh2CHXcbDxidFUUUmxOqEgEQcwzQCBcGsQRgAwwBq/2x+a32dvWY9Cvzl/Bn7UjrbeqD6nrqS+mI54fm2uZk6K3p5ukp6qnq+etx7vLw/PKg9NX1ufcR+nz8Iv+8AMQB+QIIBLsFZQcvCIEIiAioCFwJ6QmzCT4JnghmCEsIAwihBwkHQwa3BS4FxASOBGQE5wNtA64CZQJ/AscCAQNtAroBTQGRAUwCpgI6AnkBHgFVAeEB1gFQAXIAyv/B/5j/AP8s/un8u/sF+xv6FfnV9wz2lvRX8zPyNfHX78ft++vi6hrqXOkT6Knm2+Wc5anlq+WS5aXlVeaR51TpMuvF7K3u1/BF9Bf4cvv8/ggClwXjCWwOeBIRFg0ZBRysHzwj1CZpKUIqIyseLJQtEi81Lx0uHywpKo4olifCJagiqB40Gv0WSxRcEXwNdQjkAyIAFP2n+hz3NvM576Hr7ul46AbnKOXS4k3hueAt4RPiK+L44WLiCOR/5r3o1OqF7KnuTPFK9Kv3m/o8/U7/0QBDA/UF0gikCmMLIwu+C9cOZRESE9cQlAybDPIO2RKzEtMMIAh8Bs8J6QxYCg8FG/4t/DH/2QH6AAr7y/Sv8vH1cfky+cP1U/Az74DxXfQT98n0h/EL8LrwRPWZ90/3kvWw8u3yYvVN+PT5Avij9BHzn/Q/98D4RfdC85bwkO+I8TT0d/NV8NzrZeqc7SXxCvO68FjtAe0e8BX2wvrc+4D6UPp4/psFggwoD4sOxw7AEQcYVx6BIb8hSSB2INcjOSjwKiwqASfUJM0keibvJ0QmSCK0Hbka3BpSG6oZLBU3DwMLqglqCTwIRgSQ/q75oPey9+/3NfVJ8GDs9ek261LspOuy6XzlGOU3517qA+2K62HqyOou7d/xe/Tf9e/1C/bt+Iz7ef9sACsAHwCQAH8DQAXCBR8FLQKJAiwECgbgBlECi/9VAPEC3wX0Ap3+sPzQ/YYCzwKQACr9E/p4/U4AHwI0AaP8KPyr/ecA9wJbAWAAUf4+/1EBXAJzA1UBEv+N/jH+r/+0/z/+JfzJ+Nv3aPgv+Uv4EfRS8J7uPO/I74fukOpX5oPkxePQ5EnlZ+KF3xvdnd2Y4P7iNeTN43/jReXD6XjwW/a/+fj6UP0wA4kLUhPMF2sZABt+HlwlBSxRMEsx8y9XMCwzADfcOes4pTUnMokwizEcMrAwvitzJSkhNh+bHg4cThaGDwEKEgdlBbYCHP5B+DzzOfAX7//tCOuD5uPiyeF14iTjreKf4EDf99/C4g/mM+d154XoHevk7yzzYvVd9275Svw+/0cCQAQIBUcGQgcGCacJXglICgkLMwySClUH2QWvBagHmAeGBG4B4f15/Xb+n/5x/Rn4O/We9EH1ovaR8/vwd++17jHxGfKq8YTwie+h8TPz8PRw9IDzmvUW9y75YfnJ93b4DvmA+jv7TfmQ9x/2xfVO9hf1BPMj8Jfu7+wJ7Obq3ela6UTnMOZe5RzmbeqG7ZbuxO117ePyBftEA88GbwarCNcNcxfyH+AjNCTDI8YmbCx3Mgc1pzNoMekvvTBUMl4yxjBLLN0naSVtIw8ixx6FGjoWdRH/DYQLtwgqBeUA7/xM+rH4pPbV82vxEPCv8ODwsu/U7V/sl+0x8KbxO/LB8ZzxXPNT9pr5hPte/Lr8Fv7wAJkD1wW5Bj0H4AelCMYJ/QmgCSEIaQZZBYgDVwHK/pT7hfmw9jj0BPK+7pjseuoZ6T/oyeZv5iHm2eWA5gjnK+jX6czr4+3g7p7wDfM69rr5b/xg/nb/IAKyBaQIGguVC6MLzgyaDaUOwA7UDJoLGAk7B6MFwgLR/2H8UfnC9ZDxEO406mLnUuTz4DbeDNtP2KvWJ9ZS1t7UuNQD1pXXkdtr4ODkZOir673wNPglAlcLdhFJFhMbgSIVLKIzAzlpO608VT//QoFG0kjsRp9DMEHoPi89wzsVOHMysitWJeMg/BxkGT8UrgwNBVf/1vsx+ZL1mvDH6kLm1OQi5aDkA+MV4ZbgR+LB5HbmvueF6O3pOu2/8JHz8fVE+NX6E/5wAWwERAc1CQwLhQx4DaAPKBHLES8R1A/ODn0NXAzPCjQIWATt/0/8U/mW9mrzRu9e7LDppOaA5ffjr+LS4ZLgiOBc4RniOuOn49PkD+fn6FXrxOx47gfxxPOm9sf46flV+1L9xf/+ARIDuAKhAhkDWgLfAccAjf6V/EH6uPbt8yXxnO4p7RDrCOjK5CTiZuMq5RXoRunB5sfmQerQ72/3WP0r/xIBMwTGCsUTTRsAIKYiKiPYJnAtmjMYObU57zfON5Q3MTq3PCU7ajfvMXctvCvxKUsnyyLDG3QVIBFyDdgKQQcmAvr8jfhN9bTzRvLb8Fzu7Otl6h/qd+oR66Lqg+rb62ztmO9I8ZXyI/W+96D6I/4IALUBeAQ4B0gKUQwaDcQNtA2RDqUP6g7PDRQMDglsBxsGEAQTAmz+pvrf9+n0WvMZ8RDub+s16KXlC+Xt41njOOLI4D/gN+HQ4kXkW+VC5jnncOkZ7c3vEPL186T1T/hP+0z9Ef85ACcBMgIGA5MDTAOiAeEA+v+5/RH8YPkk9tnz7/Gb7p3r7Obd46HiUOEB4LHdLdry2pDcsd/P5IHjhuMZ6N7sW/a7/mQBbQVoCdYPnhpbIjooTSsYK1cwqjZXO6tAiD+lPQ8+4Dw4PztAzzztOIUzfy+gLjMrRydFInEb2xY6ExwPsAsIBzQC7P5T+1v4J/U58kLxDfC/7uDtNuzX68HsZe307pPvDfCL8UDzgPVd+An6e/zD/nMBOwS1BWMHNAl3CnEMrA3FDBcNhgxtC8IKnAnBByAFLQI//xX8rvlY9/bzHPF17jLrZekV6JXmUuU05MHituHd4WDiCOPD4xrkHOQq5SLnR+mE6zjtYO5271TxjfPJ9XD3E/lt+dL5Vfqq+rf60Pp6+UH48fYP9VfzO/F07vPrseog6TjoSOak48Tip+KQ5HTnd+cQ53nnlOnk7w32oPnG/Kz+7gLbCdcQZheoHMwe8CDHJIEqlzHDNeg25jaTNgg45TtnPg8+fzq7NUQztTIxMhcw9yq5JAwgdhx8GscX9BIfDWkI6wRWAp7/pvwy+U/2F/SE8m7xiPDZ7gPtxewz7SXu4+4V7/rvlfF288j2m/lh+3v97/5vAQgFuwfSCdwK+QohDPcM2A3TDgYOsQzzCqUI5AaTBT8D9gAJ/pn6APj29aLz8PD57TXrIOk757LlH+TI4snhTOEv4SLhNeHt4bviDuSL5Z3mC+jW6Y7rke3H7uDvwvD38WHzlfOb87zzsPIT8hry7/BG8EzuReut6cvoAei35wTmXeSQ4ojhVuNf5dvnUulV5zDoq+zQ8RH4q/xT/u3/hgScCgAS5hfOG8Ic5h1gIu4nMS3qMG4wMS+2MEkyGDUKN8s1pTJvMOQujC6TLY4rmCgmJL0hTh/MHMgamhe3EzERQQ/DDEYKdQfABbUDcgINARP/S/0g/OX6jvr8+ur6Tfr9+aX6cvur/Kf+3v8AAFcBOwI0A/8EIQZwBtQG2gZMBkIGFAaNBUUE+AKqACb+Hv1E+0z4Nvap8xTx0e+G7evqvej65z3nceZo5ejj8eI441vkguX95bXlMOZh55Lpu+uY7VjubO+y8IHxCvM/9KH09/QK9S703vL78vzxOPD/7uPsZuqT6GbmhuPb4U3hot8V3kDdc9vI2lTdet/S4SrjmePm5BTpRvDF9fn5k/3m/1QE5gs2EroXQRzHHl0hciVyKt0u+DGNM7YznzMtNH41aTakNkM1+zENL0EttCtlKuYnVyQAIPobZRkvGKcVCxNkEGYMjQo6CeoGuQXQBHoCYQGeAED/pf7f/k//XP/d/2j/av+gAAUDOgQLBZUFvwWKBgcJvAsQDGcMggsDCpYK3gtAC8kJhQe3BKwCrQFDAGf9Pfo5963zg/Ew8Kbteur555nl3uNf47Di4uDv34/gleB84eTi5eI64wvlcOeB6dHrI+0Q7nHvnvIA9Sf28/bm9h/37Pf++Kn40vav9bbzMfF28FLu2uqI6K7lIeJ130vdudpW2CfXHdaQ1HjUN9Uh1kbZDd0f3hLgQORd6UPwvvdv/GkAqAUGDEQTXhpBId4kUSb4KhcvUzOEOKI5ajgfOdA4UDlYOuA46DZIM2Mw3C0BK4UoliW3IFQduRkKFksTMxCaDWgLXwicBsEENwLYASgBnQC8ANj/Xf8cAM8ACwIbAxMECgW3BakHjAoZDBsO6g77DvwQYhMEFcwVAhUTE0ISexJsEtYQBw5OCscGtgPMAQv/w/oi9mTxCe1U6gno2eTD4ZXeb9vi2dfZiNn52AjZjNlT2QrbyN0H4EziwOTg5pPpQO1s8PLy2/Uz+Pr5Cfy0/SH+r/5v/1j/K/63/Mv6S/ju9UbzsO+y62bozORs4MHcltn71bTTYNJ5z87NQc2FzYvPmdL81HjWhtim3SLki+vz83n4C/2eBEQMQRTxHMEi8CdmLDwxrTbLOho/TkFRQUlDH0OZQY9CGkHsPXU7czfJM54wwCxuKF0joR6xGjkWpBLyDv4J6QabBOsBMgC+/Uj7GPol+pn6Q/ue+yj8EPy8/Hv/JgK+BLoGbwe3CAsLvQ3QECQSZhKqEvkShhS7FTUV3BNLES0PTg5WDB8KXweIA7v/6ftU+Bf1lfE27qHqLOfA5NHhCN+t3Vrcf9sy28Pa9drL2+7cqd4s4SjjhuQY5r/oiOxr7ynyy/MV9Vb34fkb/OX9Rv46/lr9j/yR/GP8F/sD+XT1ovHw7rjsR+k45iLhONwA2rPXitT00KTMdcp0y4TM4cuvysbKIc1Z0cnYUN/o4ELjb+nC8d/93gf7C0sRJRi8HzEplzFEN446xzwxQKZD4kaJSWhIh0b5RX5CHUAfP/Y6Bza2MIorByi3I70eSBnzEqAPxAywCXUHGANT/23+Fv7F/rz+Ff1s/Pv8QP8oAtkDrQXABiQHyQkNDYoPKhHXEUsSeROTFNYVLBZlFXAUCxOBEewPmg4LDecJ7AX6AR/+Hfy8+aD1/PCL7Bnp7+YJ5VHi0N4Y3JDbnNsd3ObbiNop2/zc0t6K4fnj1OTw5cvodew18MXzBPWM9cj3jPqk/a4AYgGkAKwAFwHyAYMChQF9/x/98vpl+fP3+/WZ8nzuK+s66EvkPuFA3vrZNtbc0sPPjc4QzY7Kisgux2LI3cq6zKTOptDr02/ZlOH96LHuI/OA+XEDgQ6VGlQi8yZdLdUzMDwyRYpKw0wCTRhNIU+AUUJSr08ZSy5HskKpPlA8RTdOMKUqmSRKH3IbbBZUERQMFwiYBL4BeQBx/qP7T/p9+Vv61fvj+3j8nv1f/+0AkgLTBMUFAwfWCLAJ0QrDC9oLTAyNDGoMNQwECwEK+QiyB/sF7QPjAc7/mf1y+4T4wvXe8rvwse6B7CTqSOfv5ILjsOF64L3gCeD23hTfbd944HvikONL5JDlRucY6RPrYu297p7vc/HY8hn0Dvb/9tP3BvmA+Zf5ZvnZ+Rf6+fn/+aT4b/e+9nb1qvQY9GfySPAm7grtEOwB6/Hp5eei5WTkwuIa4hriNuHr36bdQdzi3Mzd2N5r3y7eHd6e4Mnj9+jg7ODvn/Rs++YD7wp1DycW8B3mJg4ydDm2PdJBvkTOSUxQAlMaUxRQZkyOShNJOkgDREA9KTfzL6wq6yehIvIcXhdzEKELlgjFBW0DJgA9/IH5efgk+bv5lvlX+Rb4Nvmc+6b9TQAIAhoCRgPgBH4FmQbwBpoG8gZdBrEEXgLUAH8ATf9F/uv7B/gI9n/1N/Sz86XybO8L7aTrQurq6Tvpu+dN5bDj/+Lh4d3hx+KE4ePguOGO4aXiwOR75abm8OcG6XvqJuxq7uLvp/Bf8Y7xX/JL85nz3/RG9nj2Evbe9ZX2Cvjt+AD6WPpN+rT6+vp4+zD8jvyv+7T6B/rd+Vr6L/o++ZL3u/XW9eP1p/VA9nj2c/VE9An1w/Vd9zH4efim+KH4x/mA+mr95v8kAFMBVwDgAd8GMwvoDAAMnAbkBGwRBCJvLdYqBRw0EugXjyqFPd5EDz0qLsEmvSxkPXJJj0cwOVsmiR+nInkpci9YKdcZ1QveA8cDHgpgCtYEfPyA8TfuAvFT9YL50/dZ803wn++x8mD1KvpvAdgDJwDg+vP2WfpZBAYM4AyTBfL5x/Pg9eT8jAFQ/PXwX+ar4VHl7OkN7XLq1+Gu2wnbzd6z5ofrPepo5xTlbeUV6aTtB/G78ZXvK+1+6zDsZe0d7aHsFutP6FTmcOZ757Donukj6b/olegZ6JPpse1O8s/15vZg9g33fPsDAbIG/AuKDCgM5gxZD0wVRRp1HOMa+hZ5E8cSRhRrFSkUUg8fCtsFfQMTA9ACDAEW/xz83flv+rv7tP2j/wsC5QOvBHkG4QfpCdcMhw82EawRKBFBEBUQZhFTEskRYBAPDU0L8wrYCf0IRge4AxT+j/uQ+dv71QWdC0cMJgei/8f97AI3DdwYuR8YH2Id3BhaGSYg+CMnJ9UhWhgME/8KYAg2Cf4EhACA+oLyyu5Y7BLou+ax5GDjOOYe59fog+vh61vtjvEq9eH5G/0Z/9wBxgK5A1MEsAILAloCvQHhAD3+Jfg38xjuMero6AHlh+Fe3rDa+tkz2uXaeNy93U7fdOGI5azrm/FD9mz5uvpP/coBvwVtCQoLLgv3CvAJDQhFBmkEXgJlASUA+/+NADv+7Ptv+lj59/q7/F39Af9gANACtgYACTIMTw9BEAET+RYKGw8fex/6HXQdph2KHiAfdx0UG5MXmRNTEIkN+At3Ce0FeQFC/SX6Hvmz+VX6s/ol+uH5JfqS+1T+xQCtAk0EWwO+AkgD+APXBUEFJgME/3v77Plv+Q/5QPdd9A3wJe4z65zpJukN6ezwdfjY+zr9i/oe+cT5+/3SBq0QoBejGjQYchF1ED8SuhO4F7UUMA5WBq/+Dv/e/pn7vvgt9fzyVvOL8ODsYOxb7RvybPXb9An19/OG8/z2oPlt+2P8kvsU/OL7wPkS+Y32XvQU9WT0IvTu8iXv2uzI6kbqUuw07jjw4vJh8/L16vnp/lwE8AfjCU8N9RCKFIMXQxjdGh8dhhxXGnEVDBFCDrIK6QeABMH/lPs99ivxMvDP78jwWvMV9Ff1U/fk+Ef9wAG9BQQL1Q4jE3IXsBiUGZUa8BsyHgwgDiDzHi0ctxf+FdAUyhNPEpcOVgrQBc4B6f/g/lX9APzt+Sz3b/YF9hr10fT08470iPZq9wn4hfcf92D2fPTk89HypvIj8+Dxee9O7J/oKedO50joo+g65sfi7OHC5M/p9O2O7rHtBu3D7Q/xRfQq+En8OgFnCL8MOw/vDkYKVAipC38SlRvXH/Ac6xfSD4UKAwtiChoK7QbU/u73pPA37FjsY+ua7DHvIO9n7wbvfe3U7zH07/pqA0MHtgiLCPwGhwg9DHMR4xVAFhYVqhI2D6QNFw1MDF0MmQvVCgYKGQejBAgDeAIkBHMGrAeGCNsIEAjhB9EIJQuBDhQPFQ4SDXkMJw7LDosOgAypCKkExgDJ/QX8E/rj94T17fGd7sPs5up762/vwPL19WH5Lvdc+KH56PzVDygbrx+0INEQyQohDUkSRR9pJMogdhYbCC/85Ps2+xr6Wfow7z/qguY947boJuhO6WPrj+yI8SP1bPbK86XzbvSW98r60vqL+IHzCfIG8TzwXu8j7hTvpu/c79DsROds43DhPeaS66vwc++26WzlX+OP5srrQu0O8Nj8jgfnECkVFRDuCxMKkA45GxgqizEjMIglrhfxFBAThREtEGcHVQPo+xD1fvKZ74Dv3vH09S36sAATA/ICawXMCO4RUhr4HTgfMByIGdAYbxq5G9Mb+RmjFmYRSQwDCY0E3AGfAckBKwOrAVL9e/k39YL0KveP+Ij6Mv2E/Xr/BAGdAgwGUQlaC70NjBC9Ek0WhhbuFH4SHgwXCD4Ew/9a/Tr45fEh65rkruD03ZfcA96x3zrhluaN6X/scPCO8QX28Pqc/7YF+QirCLsGiAQtAyoDpwKpAVgAMv6C/AD6jfeQ9mj1OvZ090r4W/lQ+GH3u/eM+Az77vsR+2T6Ifp0+lH8+fxJ/eT8sPvAA7IJxwuHCkj/nfja+Qz/GwbfCPAEIfzj82bu7PHQ9eD2Nvex8FbvK/K79Xb82//gAqMFSwi5DLgQZRJ5EUARTxGkEngT/xGGDcwHGgY+BXkGgwa3BD4DggAb/zL/TP+AABMC4gPCBFAF+QPm/xf9FvvC+5v+BP/z/YD7jvip9973x/cX+8v9pf7oAMsC7gQmCQsLzwvfDDQNkQ7UD3IQnxRcFf0TkxGVDlIMjQvhCeoISAqjCakIFgdpAxcClwBGAG0AyP4D/lL9Nv1f/Qn+lf1g/LX79fnN+rv72fwK/cL6gPn7+FP4gvYE9LnyavJM8ZXwo/Do717vgu0Z7AvssOwp7yHyzfZN+uH7H/09/fb/ugPnBRIIcAhFCI4HuwXsA2cCYP9Y+8b5xPZe9XP0j/Cr76Lu++2g7ubuEPEP9Gv2O/iO+pr84/9sAhwEqAZUCDQKtAsSDSQP1Q8sECgPNw5cDlMNrAtHCsUKogqaCTkI5wMvAQwBoAHGAvUCtQFxAC3+Ev1l/qn+n/7c+vP3iffz+AL8RPvw+DD4g/0dBDoHcQfPAlYAfAE5CrcVFh2wHuwVyQ4tC/QNqhR/EqQOeQbn/L/54fjG/OD+3/tc+Cf2D/aF+AH7q/q//MH/igMFBlQE+QLfAbgC7gVtBzwHfgQOACz+E/2x/cf+tPyW+SH53PgP+fH1ffEr8C/v2/CV85nyhvKx8nnzyvYT+wX+UQDwAR8DfwdFCrsLnAyJCl0KigrWCasIhAUKAlj99vd386zxB/B/7WHrW+mG6XjrQO2i78DxUfRk9/j5rf3jAd4F9gjaC3AOBhC7EPkPHQ/3DhkPDBAwD60NEwvtBw8GAwUMBtQGcgXEAoT/M/6g/bf9+v1Z/e/8r/st+iH62PrB/b//xwCXAQEBJwFsAuEEmAhOCjoJ7wWwAS8AvgDf//j+mf0l+3z5Evgo91r3Z/dj97P34/iq+h/8H/zK/Cn+aQCjA5AFxwbwB+YG+gWzBYkF9Aa7B6cG4wQiAjcG0AsgDYoN0QUN/gL+aQE0CMcLuQd0/uz2yPLM9Tj8MvvS+fLyOe5g7wDwIfiO/BL/lwAF/v/+3wCHAw0FXwbLCI4I8AhcBRYBjP7a/Kb9hPzC+k73VvNk8WTwdvEY8YXuWu2P7pnyUfZ59mP00fHl8nv3ZvvD/YX9avu4+oz7Zf7vAV4CrQGCAE7/PAF1A3IECARvApUBHALzBvwL0QyuC3sI8wbtCfoNdxLrFBwTMRGPDmINExAKEosSXxGJDG8J8QdXB6kJ7wjABZYCvP5j/Jj84fz/+9n7V/qy+NP4K/ik+S/7vvvU/TT+uv24/gMAWgL9A6QD3wJMAX8AfgA9AeQCYgPEASb+xPqk+tn7cf2z/gz9Gfvn+TX5Vfpc/Lr+8f8x/7z9Cf0P/fL9o/9LAGMAbQBQACAAZ//L/Wv9mv10/Rf9qfvL+fn4lfnp+lD7VPqs+LT30/gL/AD/DABSAHj/DgC8AagDaAaLCJwJeAnaCBsIewdjB8EGWwbaBbQEbgPpAagAdP4m/fv7Kvqh+bL4zvfr96r3qfaH9jb32/gI/JX9f/35/H/8Qf76AHoD4AR0BPsDwwPtA8AEWwWbBacFcATdAqoBoQDjAIMA2/8M/8r99vyu/F/8Bv12/dj8//vE+4P80P5/AWMCjwJAApYBhwJQBC4G5gfbBugD8wGlABcAVQFJAQj/sP3Z+4b6Svuw+kr6Nvm6+Lj6bvyJ/pv+Zv1o/dX95v9rAp4DfgQ8BJ0DWAOsAw8EbwRnBO4DQANlAM/+hP37/AL/tf+m/nP9FvwT/er+3v8EAfgAxQDAAR8D0AT+BbQG8wbRBhMHBAjNCBYJ/Ag+B0oFWgQDBAMFPgXOA9YBl/9s/tL9s/2+/Wr8CfxT++j5qvkL+eX4jvoS/M38Ef2f/Pr7Df25/uX+0v7g/YD9bf4B/yv/mv71/Gz7ffqO+iX7APtu+gn53ve592P3ufeZ+EP5Fvqa+oD66PlJ+qL6GPxp/qf/mwAhAHT+ef2G/ED8Of0x/sH7rvd+8hXvqPa0AhMIywK29bvs//LnAjkS8RYpD8wFGQO0CsoZAyacJhocbA5uCZQQsRyVJA0hPRK5Bf8BAQU1DBQPCQmf/dzzkvDV8zX6mfwe+VTy1exP697tBPOn+KH9Nf6B+Sr1+/V+/XMIXxAzEFAHdP8N/akBagsUENoLw/8j83DvyvQn/OkAOf1p8n/piejU7lj4Q//Q/U72+vAB8jf5fQI3BwgGMwIG/5T+BwEHBPMF1wWVAt3+QP4iANgBEQJiAMX9h/zL/Hn90/4nASkCZgHs/6b+tP/KApEF1Qc4B38E0gLSA7EH5QuEDYgLVwfsA9MD1AbiCUAKYQaYABP9/Pyt/hAA3/6A+w/4a/WS9cP3sflZ+v74XvdK9/L4RvsX/Sn+VP7Y/qz/P/9s/zD/T/+uAJMBKAExAE3/SP+w/wQB9AFkAc3/Zf7u/dr+fAATAY7/Nf33+qj6fPxg/r7+gv0w+6X69PtP/Vf+bP5N/kn/GgEGA68CyADi/xQAKQKIBKQEswJGAKr+o/4m/5P/N/8X/nf8zvtc/FX98f22/X/9uf2D/gQAfQA4ALP/x/42/6gAgwJvA3wCygDc/tP+JwGCAwMEOwP4AIP/BQC+AUYD2AOfAkoBegH2AqUEPQU/BI4DdwQ/BawFDAaDBQ4FnAb+CDoKxQnOB9oFKAarCHAL6AtdCbcFZQPoA20FlAULBAcBNv4+/n//qwDPAFT+2vqb+aD6xfxT/uj9lft9+e74D/lb+vv7n/xv/Fv7PfqC+tH63ftk/fb92v18/Pb6LvsZ/Uv/tf9S/i79Sf35/Xz+Ev+X/8X/Nv8J/lH92v0o/6X/D//k/cf8uvz2/K39Iv7b/H77yflg+d76N/yr/SX+w/xW+kD4N/hZ+iz+fv9//Yj6Ufh3+Sf8/P3c/XH8KvwW/d//gQH2Ab8BcwHSA0UHCgorC9AKmgrjCscLAQ06DtUPBhCjDoAMOQuVCwcN9wwECyMJYAdIB30GpAT8AngB3gDm/1D+rvzc+hX5KPit94P30Pcv91z23/XD9Xr2UvdN+Df59fnL+mj7aPyc/Tv+rf5M/3oAgAKiA74CFAIwAhkDhwTBBLoEowRhBF0EGwQMBCAEGASCA98BqgAzAEkAtgAJAGT+yPyw+977rfwY/X38Svsb+tL5jvrJ+6j8lvz7+6767/mQ+uH7nfw//HT75fp1+x78Cvws/Dv8Jf39/Zr+vv7F/iH/j/9XABEBxwE0AXsACgAg/xX/6/4E/jL93/uc+jf5mvgl+e/5a/pX+bn3J/dC+Cr7j/1p/s39QP3d/fH/RQP5BUEH+QabBvcGiwgeC9gMVQ18DKwL7AunDIYNTQ2PC64JZwgACOMHhAckBiUEPwKaAEYAagB0AHgAwv+u/rX9Ov0S/Yv9c/6W/n7+Af41/Uv91P3K/q//EgAKAGb/Kf9NAEgCTwRdBQIFxwRLBegGswjVCR0K9AnoCcIJ4QkqCt4JqAgXBxAFigPWAhACegDN/Z/68feN9uH15/RA83jx4+/O7gzuNe3N7PTsou1m7sfuxu6o7n3vrfCG8jj0oPTR9MD1v/fJ+YT6n/lu+bj6Kf0qAMgB2wEFAMT9W/0xAFEFkgjkBzoFUgNdBMgH2QolDKMLjgoZCugKLgwcDfkMqQusCjQKmgq3CsMJFAjZBZQEbgT8A/wCqgHQ/3X+Cv4v/uj+0P5D/VX7ofrL/D3/TQBj/2H90vyD/nUBswO1A04CJwGgAZIDuQW1BtgF9ATpBMAFBAeBB6gGsQWvBTEGBAdpB60GZAVIBOIDVATdBOgE+AOzAjwBuv8m/w//w/4q/gX9p/uX+jv57PdW9233wvdo95T2iPUP9YP1o/bg92X4a/hM+OP4W/r/+0L9vv26/Un+ov9MAQ8DNQQJBMsDJwR4BAAFpgWqBRYFYgRcA5YCOwLDAekAzf+4/n79dfyM+7f6YvrW+Wf4+vZE9hz2SPYy9lj1j/Q+9Ozz/fOg9D/1ovWm9ej1j/be90n5Wvpf+zL88fyv/eD+hQApAi4DtwNQBHcF0gbHB0sIwwhNCfgJjgoOC4ILogtzCzkLEwtpC5cLZwvMCrcJHQn5CNgIeAjEB/gGQAb7BbAFLAWHBNIDJwOzAqMCmAJ8AkoC1AFIARoB9QDgAPgA8gC1AOMAwgBMANT/q//X/0cA0QCXAND/5P41/j3+xP44/zT/ff5i/ZT8l/yv/b7+0P7//cP8a/yD/av+S/8D/xH+Dv23/Fv97v0Z/nv9AvwR+9f61frZ+n76tvm0+Lr3BPfb9lv3gvfl9if2zPXw9bL2bPe49z34d/iE+Aj5yfnn+gf8hvyu/OX8kf2I/lL/s//p/yQAjQABAQIBEAEDAQMBdAEKApICuAKjAk8CMgKWAgIDVQOjA6YDegM+AwsDMQOMA9kD+QPCA1oDAAPcAjEDgwOlA08D2AILA4kDZwQWBQIFwwS9BPkEwQXTBsYHSgg1CPgHPAghCQ0KZApTCjgKSgpKCsMJWAktCfAIZAh5B7YGDgYEBbIDkQK9AS4BqQC3/5H+mv2y/A38xfuT+0b73foo+nX5RPkd+fD4/vgD+fL49/j8+Mb4lfiG+KH4GPnM+RD6qfkb+dv4V/kx+sT6tvpd+hD6Cfpj+gP7hPus+5H7TftZ+/L7mfwO/S398vy//ND8G/05/W/9eP0j/Z38JPwf/I38B/3k/BX8ePtB+237zPsW/Gb8t/zO/MH8S/05/vv+gP/u/4gAUQFIAgQDbQMDBJsELAWtBTAGVQZ9BsAG7wZTB50HZAfxBs8G8gY8B30HQQfDBlcG8QXBBQsGigaTBuEF4gRFBJAEUQWOBRYFiQQMBOgDOwRdBF0EGgRuA+YC4AJdA5cDNwOOAg0CEgIvAjkCKwIQAuAB0gH4ASQCOwLuAX0BRQFfAbIBfAGfANj/bv9G/0L/6/5A/l79nPwM/OL79PuQ+936E/pw+V35qfnH+X759/ha+OD35fc/+I/4rPhs+Pf32/cs+Ln4RPlt+TX5EvlB+cT5ifoW+037FPvc+j378fuv/Dr9Iv3m/PX8WP37/YD+wP6+/qH+i/6b/sL+2v4D/w//C//l/sT+vP6w/sn+2P7i/iz/P/9i/4D/tP8xAHwArwDQAEABxAEzAqQC+wJUA7QDJgSDBPsEWwWVBfcFPwaIBtMGAwcdB1IHnwfJB54HdgeCB7EHyAeyB5AHRQfzBtsG8QYJB+MGbAbPBRQF5gQEBfIEwQQ7BHMD1QJvAi4CHgLvAZABEgGKABwA4f/P/7v/jv9X//z+dP4o/kD+av5i/ib+xP1U/V39iv2a/Vb93vx9/Gz8Z/xu/Eb8H/z0+7v7l/uh+4n7LvsT+0n7kvvD+0P7m/pd+qj6OfuK+1P7vPoS+uT5Hfpp+qP6hvo1+u35zPnN+eP56/np+ej5CfoR+h/6W/qG+tH6Gfsu+3/70fs8/Pb8fv3t/Tr+e/42/+7/hgAVAaIBGgKeAhEDfQPzA3sEEwWVBfwF/wUQBkkGtwZMB7UHugeFB0wHQAeEB8gH3wemBz4H6ga3BpMGfQZEBvAFzwWvBWMF8ASOBGMEcQRUBAwEtgNXAz0DTwNLAzMD9AKWAmACkQLOAssClwJRAiECHQI2AlICVgI7Av0BkQFGAS8BOgEtAeQAewAQAKL/WP8h/+r+mv4O/oj9HP3V/In8Dfyb+1T7B/ug+jL6sPl6+Wz5U/lN+RD5l/g/+Df4YfiU+Jz4c/hH+ET4gvjT+A75L/lA+Ur5fPnA+Qz6RvpU+nj69/pT+337ovvE+wr8QPxZ/Kr8If1t/bn93P3l/SP+av6z/h3/jf/S/9f/+/86AIQAxwD9AE4BrgH1AR0CaQKsAtsCPgOeA/kDQwSXBMoE/gRGBXEFlAW1BfMFVQaaBqoGogaTBpsGxwb1BikHOQcFB7QGjQabBq8GuAaLBiYG4AWUBWoFaAViBRYFowQ8BPEDzgO3A38DEQO0Al0CDQL4AdcBrAFjAQUBrQBkADYANQA0APb/kP8q/9n+qf6d/qf+ff4x/t79ev00/R39If0P/d/8ovxd/CT8GfwV/Bn89vvG+4P7X/tQ+077Qfs7+x37A/vo+s767voa+w370vqo+rv6APsX+xT7FPsD+w37Q/t/+5L7sPu4+8X78/se/DP8b/yc/OD8C/09/V39X/1+/dT9R/56/nf+f/7F/jL/jv+0/9n/BAB2APQAbQGjAbUBvgHyAVwCAQOBA5oDmAO0AxUEiQToBBsFPgVfBYEFwAX3BTIGVgY1BiYGRgZ3BncGewZhBhcGAwb1Be4F4gXTBaUFXQUYBdEExgSsBJUEbwQLBKgDaAM9AxYDBwO8AlYC/gG1AZEBbwE/AdAAdwA7AAUA5f/B/67/Wv8B/7/+pv6T/nf+PP7r/bj9dv09/Sf9Af3a/NL8mfxN/CP8A/z8+wX85fu6+4X7Lfsi+zr7S/s++w/7zvrC+u36Hvs/+zT7G/v1+t/6CPtN+2f7b/tu+2X7b/ug+8X7+vsd/DX8X/x5/Jv89/xR/YL9r/3F/dD9FP5Z/p3+9v4l/0X/Uf+I//n/YACTALAAuwDcADUBkQHHARACLgJFAl0ClgLXAjwDcwOQA6wDoQPcAzgEiASwBL0EvQTBBOsEEwVSBWUFXgVcBWQFdAWYBboFmAWQBY0FhgVpBU8FPAUsBQUFvQSbBHAERwQgBOMDowOJA1ADEgPhAqwCdwJOAgUC0QGiAXABMQHHAIkAagA+AAMAvv92/yH/7f7T/sD+mP5Y/v79ov2H/YP9bP03/dH8kPx2/HL8YvxQ/Ef8Gfz3++L71fvP+9T7vPum+6L7ivuE+5D7j/uM+6j7n/uJ+437kvuq+8j70fvN+9777vsC/A78KvxO/Gf8hPyv/OT8A/0s/Vj9gf29/e39Hf5f/pT+1v79/v7+Iv9m/6H/2P8iAF8AegCLAKoA8QBBAYQBpQGwAcgBDgJIAoUCwwLwAvwCCAMiA1cDmQOoA78D2wPlA/sDHAQrBEQEbQRxBHAEbARtBHAEfAR6BHcEYwRBBC4EKwQfBP4D1gO1A5wDgwODA2YDPQMJA/IC2QLIAqICXwIiAtoBrQGSAXQBPwHwAKMAZAA/ABAA2P+X/1r/Gv/g/q/+aP41/in+Ef7T/ZX9bP1L/TP9Fv3L/JP8evxo/E38MfwL/Pn74Puz+7X7oPuR+537pPu7+7D7pPub+7j73vv7+yH8Ivwv/ED8ZvyP/L384Pz3/Ab9L/1R/X/9m/3H/ef9I/5E/mj+ov7R/v3+Jv87/2j/n//B/+b/EgA0AFoAlADCAO4ADQEvAWUBkQGlAcgB8gESAj0CXAJwAo8CqAKwAroC1wIIAyQDJQNIA2QDaQN3A4YDlwOyA9MD0QPPA9ED1gPiA9oD3gPeA9sDywPBA94D2wO7A5sDfwNxA3UDaQMgA+0CzQKtApICVAIhAhEC5AGTAV8BMAEKAeoAswBfADIA/v+t/33/bP9o/yT/0/6Q/nr+Y/42/hP+DP7p/aL9av1p/Xj9av1Y/Ur9OP0h/RD9FP0p/UX9W/0d/d/87fwV/UX9Zf1b/ST9Bf0G/Q39PP0//U39ZP1n/X/9lP28/b/9uP3v/T7+Zv5R/kL+Z/6w/vP+G/8t/zr/SP9n/2j/jf/o/xgACgDA/9H/IwB1AJgAlgB6AF4AagB0AIsA9wChAeMBfQHOAD4AQAB9AWIEnQUwA1H/hP6CAXgEeQV1BKkCzQD7/54AWQInBM0EVgOwALj+yf6hAAQDPwRMA4cAE/41/kcATANMBcwDlf+a/Hr+egJBBFsDjgGo/wz+u/5lAWoD8wKqAND+BP7F/l0AxwHNAb0A+f5f/Qj9pf7/AMABMgCP/Sf8zPz3/qAAqAAy/5r91vwT/Sn+Xf8aAGb/3P2e/IX8fP2U/h3/pv6//e78m/zM/I79fv7j/mn+ZP3+/J/92v59/0D/0f7U/hj/6P7q/o7/gQBhACr/cP4K/wEAXgAsAPj/X/+j/sj+4f+cAEUAe//v/oj+rP6H/0QA8P/y/of+K/+6/0z/9f67/5IAOAA8/yD/4/9AAEIAYgCLAFQABAABAB8AWQCXAM0AoQADAL//QgDNAOAAzgA2ASgBdwAMAOQA5gHaAYABJQGzADMApQDRAWECkgFXAMf/FgACAeoB5AHYAPv/AQCQAOgAVgGYAQ0BRQAzABMBjwFTAcIAcQB8ANwAfgGaASMBxgDrABkBGgFKAcQBNQLWAQkByQBpATECQQKzAWMBcwE/AQUBBQEDAZoAYQCOAL8ARgCB//P+Iv/X/0UAFwAg/9r9oP2Y/pX/b/9u/q79bf1//en9Xf5q/tn9Z/1n/YD9Zf2S/fL9G/6K/f38Kf3t/Wb+2v0c/Rn9rP3J/b395P3e/XP9EP1n/RX+T/7u/X/9Xf3U/YT+sP43/vD9K/45/jP+l/41/8f+5P3b/ab+M/8n/yP/H/8Y/xP/Af9P/ywA6QDjADYABwCuAF0ByAE6AqMCdQJlAtgCVgOaAzIEDgULBUUELwQaBboFagVbBcoFfQXABKEECgUeBdAEfQQBBEsDkQK9AhUDDgOOAq8BhAAFALcAlQFZAfz/q/6o/jP/kP9T/xX/xv4A/kX9mP3O/hL/4P2+/C39Q/4X/jH9Rf0C/ln+p/3s/Ff9p/5Y/8z+Zv3O/BH+eP9Q/z3+v/0+/nv+GP70/cT+I/8i/g79Zv1u/qn+9v1g/VX9mv2W/W/9Nv1t/aP9ev27/GH86/yx/dP9Of29/O38Y/3a/Qn+Of6j/o/+SP5s/kX/HgBEACgAYQB6AHYAnQBmAfMBAgK5AasB/gHNAegBGgJMAmwCBwJyAeAA4wDzACwB2AAbAEX/Dv8f/zL/+P4Z/53+uf3W/a3+Vf8r/3j+kP7Y/7UAoAA+AHwAqwHuAksDDgP9An0DkwSQBd4F2QW2BdYFaAYQBz8HxwZ2BoAG2wYmB8gGxAU/BW4FhgU5BWwEiAPsApsCWQLXAVgBDwGbAPr/Hv+M/jf+cP6w/k7+PP04/DL8/Pyt/U39Kfym+/L7avzZ/CH96fwZ/Lb7YvwB/Wr9Vv3H/Df8S/zr/HL9UP2x/F38dPzG/KL87PvX+y38tvs2+w377frR+o/6Bfq3+cP5m/l++Sj51fjN+IH4qPhE+Uv5t/iw+Pz4t/mK+jj7Mfso+/r7jf0R/xcApQBTAJ0BVQTmBWoGEwfNB7IIIgq1C3QMEg2KDYgNgA08DjAPZQ8zD0EO+QyZDOQM6gwODLYK9AiBB84GiwbXBYEECANpASsACADY/8z+xP3O/Or7z/tG/Ab8Sfs3+277o/tA/PT8/Pyr/A/9NP5n/0QAhgAxADAAiAEFA7MD6QNkAxoDvwNjBIQEagQkBNYDMwPKAp4C8gFDAecAIQCk/+H+Mv1W/DL8t/u4+sj5wfgM+Fn3/Pa79pL1z/TT9ND0m/RW9FP0uPQK9SH1l/Us9n/2JfcO+O/4pvm2+ez5JPvj/OL9of0V/Uj9iP4ZAO4AawAQ/7v+cP+SABQBfACz/wX/cP6V/kX/mP/j/vD9av0V/S39af0X/q3+pP7w/VL9FP70/48BIwLfAYMB+QGbA+oFNghgCGwHjAf5CAQLxQxODSMN2Qy4DKoN8Q6ADzsPCA4fDW8N2A3pDSoNuwteCtoJwAlNCRIIfgYSBewDTQOuAoEBRAAT/xn+iP1k/cP8kvu7+iL6E/qU+r36Pfqf+Xv58/n++pP7kfs/+zX7u/sn/PT8lf1i/Qj9OP1F/Rn9Pv1K/bv8FvzN+2P75fqT+ib6KPk5+Fj3wPaP9j327vSW8+ny1vIM85Ty3/Ea8QDxB/IK81rzePM183TznPWh9zT5Ivrp+uP74/2hAHoDFgWwBZsG7wfjCfQLBg3FDVIOiw7pDtEPdBCgECQQSQ+iDhgOyg31DFILZQkbCAgHHAY+BdkD5wHA/x3+ff28/HH7IPry+AT44PfA+Pn4efhk+D75Zfp9+7j7X/xM/SL/SwG8AnYDdQTMBakHaAnGCqILMgy3DJINrQ5uD4kPDQ8JDp8NjA0hDa0LKgrFCCsHeAUhBPMCbwFf/1/9rftg+kP5Bfhu9tD0pvP/8rnyefL58UPx4PD38G7x4fF38uTy9fJ786/0+PUT95j3Qvhs+c763vub/FP9Av7I/pP/2v/j/w4ALgBVAOQAHAGGAPD/uf8GACEAwf8A/y7+xf11/kH/F/+W/kD+fP7R/oX/+P9AAG4AwAAhAQYCngL+AksDtgM4BKQEzgQWBSAFMgVbBVoFPQUKBSAFSAVSBQ8F4wSKBF8EnASpBFkEPQT2A4IDSwOuAwsE4wOqA2UD+gJqAnQCywJfA7MDfAMLAyUDjANOBPEEIwVRBUAFDAVEBcgFLwYwBg0G2QWPBZYFawXxBG8EtwPbAi4CTAHk/9T+KP5M/S/8Bfvk+aX4Qfc09mT1hfST8xvy4/B98G7wSPD471vv4e697hXv4O/M8LjxsfI881/0pfZK+Xz7Nv3U/mMAKQPBBRQIOQofDPsNsw4mEPcRVhLEEqkSShIDEt4ROBELD0gN0AvFCU8IPAaUAygB3P7F/IP6k/in9iT0d/JQ8T3whu/X7gDueu3i7dXueu9a8HbxjfLw8/z15feG+Vr75vxc/oAAfwKnBGkG8wegCRULkQwNDvwO9w/OEDcR3BFPEmIShRGbECsQWg9ZDhkNGwsKCd4GEQVEA3wBCf//+/35Y/jO9pL1L/TD8q7xV/FW8cXxKPJ48u7yHfTU9Zn3sfmd+0f9Rf+JAcsDJgbaCCsL9gyEDgQQBxFLEp4TNhQ5FD0U6xPjEjMSaxHcDwcOIwzyCccHjgUdA3UAzf3/+lb43/WO8zDxBu+J7dbryenG6BvoLOfI5rXmm+be5qnnl+ja6Y/rEu1f7kbwoPK39LX2Avkx+yv9rv+3AYwDGAW/BloIlQncCtYLJAxfDJAMsQzKDOoMPAzyCjMKyAkHCRYI8QZVBdcDdgIxASIA+v7T/U/86/os+mL5cfi79yL33/ak9of2c/aM9iz3zfdd+BX5+fnI+ov7d/wi/RL+I/8aAOYAwAF5AkAD6QPEBPYFXgYQB5UHmAh2Ce0J6wppC9sLnQxEDR4Ong7oDhcPOg/FD/4P6A8QEJ8P9Q6yDhMOaA20DOALrgp9CWAIRweLBS8EzQIdAcn/h/7B/B/7vvkF+K72sfXZ9LzzfPJo8YjwE/AD8IrvF+/r7v3uS++170bwvPBA8UfyMPN69L/13/br9wn5s/pi/KL92v7x/xoBXgLEA+sEoQVbBiwHZgfaB24IbwgnCM0HbQclB/EGWQZGBYEE2QPSApkB8gBbAGb/ff5b/Vr85ftd+7T6Afps+e74Vfge+C74BvgO+Cr4K/iC+B/5gPny+cf6fPv++8/8cP0Q/u7+iP/5/3gA4ABfAaYB2AH5AfoBEwLrAeMBPQLfAYIBbAEsAWMB8AG7ATUBsAETAugBRwLlAi4DqwNQBKEEXwWLBuwGhwZLB4UIoAgVCWoJQQndCVUKLgo0CvUKFgtXClkKogqdCogKGgpdCUYJgwnTCHMH+QbGBrYFDwWtBL0D7AL5AdgAof8y/4n+TP1t/LD72fpr+vL5HPmq+Kz4oPhD+C74WviJ+OP4+fhC+TD6pvq/+iT70Ptd/N/8Z/2V/Qj+c/5f/mX+l/6y/kf+3v2f/QH9Pf3m/Lz7Uvui+sP5g/nO+Bb4Vfev9r/15fRp9e/07/O58xjzwvKR8kLy1fGO8YLx9/CJ8PLw7PCu8PXwpvHf8WfywfOI9K/1f/cP+d765Pzo/q0AOQP4BSQI0ApuDboPNhJSFCoW+xd6GXMaUhtJHK4czhyhHBgcdRvDGvMZSBjkFpQVSBOuER0QcA3TCwUKmgeiBRUEbwKqAGT/Rv7c/Gr8afsv+tf5jvnq+HT4oPi5+O74dflN+Zv5r/pj+7f7HPwq/UD+5/5Z/4j/kwC1AdoB4QGLAj8DiQP2Aq4C4wIXA6ICMgELAKn/r/4//cj7a/qI+UL4nPYc9V700/Na8gzxiPA98CDwD/Bn70DvJfCh8K/wzfHo8sbzAfUV9hr34viT+oD7kPyC/hYAFAFOAlYDkgTfBZQG9QbvB+II6Qj0CEkJVgllCfYINAjCB5cHxwZ6BacE2AOnAmsBKgC7/pz9rfwt+9P5X/nZ+NL3N/ea9l/2jvZZ9k322PaS9wT4m/iH+cj6Kfwg/Sb+kv9fAQwDbwS1BfQGdwi9CacKyAu0DJ8NTQ6sDksPqg/oD9EPjg+iD20PHQ+TDqcNBw10DKgLuwq0CdMIoQeiBvwFxwTqAycD7AEhAYgAsf/r/lj+rP0d/dD8Svwg/Bv8Yvuo+rr6APs9+wr7o/rC+mv70vs9+xD7qvv++/n7sPuJ+zr8mfyW+5P67foW/O77yvrY+Qj6wvqE+vT4YPjq+Ob46/fh9sT2XfcO97j1vvQk9dn1dvUF9JnzLPRu9N/z6vL98przgfPP8kny9vLL84LzCvO/8yL1LfZU9m72tvfu+cL7gvwP/tv/TgH2AlkEdAYdCecKJQyXDSYQDhOeFBoVnBXzFmMYFBkhGSwZThnHGDUYJRjIF8sXbxYwFHoT0hLyEawQfg5lDLAKlwkACGoGYwWDAwMC4ADw/6X/xv5T/Zn7g/p1+uL5N/lY+Ej3+fY/94b3lfeu94/3dvch+AH5tvmm+pT6dfo4+yP8P/3Y/Qz+N/7R/sL/LgCpAOwAigAvAO//4P/z/4P/Yf4n/bz8T/zV+wL7+Ply+dr4GPim9x332PZ19sf1pvW/9fz1OvYX9lj2HvfJ93T4a/k8+h77WPw9/eb9Hv+KADsBIQIeA28DnwTTBRsGuwYnBzgHdQd6B1cHOAcEB6IGlAXmBFwEcgN4Aj8Btv+o/sv9pfyD+5j6rvnZ+CH4jfct99j2ovYo9g32q/b89jD3j/f/98n4u/mv+pv7dPyw/cr+3P8CAe0BCQMTBLQEkgWCBnMHQAi6CCYJ1wljCtUKDgtEC4ALjQtkC9AKmAqECg8KbAmSCJ4HDQdpBrEFzwToAz4DewKtAfUAdwDs/w//kf4G/u39Lv6I/SD9C/0Y/YD9u/0K/jj+ov77/gr/nP8yAE4A2P/f/+j/7P+mAGsA1//6/9z/6/8FABEAAgCA/7P/Kv/P/pH/8v45/ib+jv2K/cX9Jv1g/Ev8Ovzs+yv8C/yo+8X7hftE+2/73fvU+6z79fsG/IH8Nf1F/VL97P0p/nL+0P62/rH+DP/R/k7+hP6J/ir+6v1+/RL96vxt/IX7L/vz+k76w/k5+Zb4Ofjn92P3svaB9iX2yPWZ9Y71rPXs9SP2h/YJ9yD4+vjA+eT6KvzD/ZH/CQGtAkYEAwbUB14KDQ0+DxMSOBQvFuoYnxpIHJEd4B1zHgUfPh+GHxcfcx6FHUUcNhvAGe0X1BXlEsUPeA2JCp8HwQTdAO79hvuB+Cz2S/TK8dTvQO6m7JTrhup/6Q/oBef/5uPmAueQ567nhugp6lnr+uzQ7l3wVfIx9Pj1HfgD+hf8bf0K/x0BqgKzBGQGdQfBCAYKngqUC8wLpgtkC7wK8AknCUYIJge2BWsEOgMPAtsAif/t/Y38Nfvi+Sn5EPgt92H2cvUP9ez05vQI9Tz1q/Uo9h33E/gH+Tv6GftP/J399/5FAJQB8wL8AzkFhgaBB7QIdAnhCWcK6gpLC7oL5gviC2wLSwvsCuAJkAmMCDEHcwZzBW0E0APEAkYBagDM/4D+uv05/Qr8T/u1+sn5Pfk/+Zr44vcn+P/3CPjX+Pb4PPlF+ur6U/ss/Pj8nP1W/mr/6P/FAJMC+wLYA1cF6AXXBvcHFQh/CF8Jkgl5CZsJVQmqCHYI2QfuBoQGzAWJBEIDnQJOAQ8AMf87/en7RPu6+Zb4dfc29kr1qPQP9D/zN/Ml893x6fEV8svx7vJj8kry7/Kp85T0m/Qp9pH2Rvee+KD4z/lf+5z79fvU/DD/IAHVAsYD4gPBBTUHhAfKCEsKpQuuDD4Ncw5fEEAS+hFlEMoQ1xD4EKIQ0A4CDloNUQyvCqQJSAmVB18FdgPWAaoBsAA1/tn79/o1+in5dfgc98P2IPeK9mH2X/cw+CP48veh9z34rvl8+vL5gPqQ+0j8Y/1T/iP/fADkAfcB7AIHBesFrwbABtgGrQfbCIQJKgktCnUKLQrtCpsKtApDC10KMQlyCFcIPAcNBikF2AJDAmABYv/5/v790Py0+7z6W/ow+YL5Vfjz9pb3u/a79tz2UPZ79qn2P/cl9/73V/n3+NL5XPpU+qz7Qvxd/Jf8/vxx/Tz9+v3M/UH9lP16/OX7pPs1+3n6qvkP+QH4lPf39nD1HvSt8lXxqfA68B7wNPDz8EXxgPG28hjzMvSh9dT2sfj4+hD9g//8AWYEnQatCIQK0gu0DUEPaRDSEbYSixOEFBYVehVJFfEUdhTYE6sTYxNQElUS6BD9DysPrA2/DDsLxAlECEQHgQZuBGQDHALMAJQA//6o/Yn84PoG+qP4H/i29/D2Kvfz9o33GvmO+S36pvqY+xH9Mv5y/5IAKwKkBA8GkAgbCr0KGguPCrcK5gq8CpMJdAcIBkEGvgSvA0sBl/5K/Sn7APqw96r3bfYj9NjzZ/Ow9AH2MfVH9BT0fvQ49fbzzfLA8T/wxfBb76nv++/77ubtzezm7CXsI+zX6vzoGOnT6fPp2eph6hbqlevH7LXv7/Eu9Uv4SfoL/q0BAAUYCIEJxwpMDSARRhRCFwsZARk5GX0YeBY+E/cOKQsECFwGEgbcBp8JTgtWDCkNgA5YELAQ3w+UDrIOCBA7EDAQMRB5D6wObgx0CZwH+wQOAif/e/02/qH/yAAqAlMEGgfVCKkJswmyCKUHpQXiA3EDmwNrBBYE1wT0BZsGtAYNBfsCbAHk/3j/PP+i//z/SABhAFv/Ff5D/GP4RvTD74TsnOoB6u/pfuqm7DLvKPGy86r1OvfY+MT53/oL/Kb94f5BAJ4BsgIYA3kDewLHADP/AP51/Tr+ef/EAPYBCAOgA8cDlwNCAnYACv/C/cn8g/yE+1X6w/gB97P1NPQK8wDyD/Ex8b7xa/Mr9VL1hvXE9L/0TfWZ9Tj2/vaY93L4gPks+1z8Wf0d/nb+mQBTA8wFAAgZCUUKHgvzCz8M1gtsC0AKRgkjCYkIMggQBx4FowOBA3IDgAQ6BfoFKgdWCOIJnwoeCtIIMQeFBqoG+QezBwMHNgVHA88BzwGPATABdQBoAMQDxAcfDJ0MlAp7B3QFfAdeCggMPw0uDfoMCw9KDosL6QWS/yn7g/lT/GP9VAF6Aq0A2gGeAF8ATwD+/F75hveO+M76j/rF+Rz0C/BJ76zt3+6L7trtVe7b72ry+vMq9cvzw/Dy8ODyEfX296z2LPOS8WHwKPDh7rHsI+kc5v/lsOZ/6VnszOzX7ePxA/ltAiMJNQsDCCoFfgVTBwIN/g8CElATfRNJFD4TwQ8xCckB2fw0+5n+4QQ+CU4MCAy/CtYKggq2CtkIuwf5CN8LCRENEosP+QqLBGYA1P4S/or+6P4pANEB9wJGBJQC9ABD/8H/jQMnCGsMDw59DawLzQnTB+YFTgS4BHoFcwiYDJMP+hBMD3wLzwfdBfEFxQYsCCsJegnkCKUGxQO8/z37evdZ9av0PvV09aT1ZPUz9Qr1XfUn9tb2P/i8+T77Gf2+/lD+u/1M/eL8wP1V/jb+b/74/gr/uv4w/vn8cvx6/JT8tP0n/1H/Pv/L/in+IP4k/gv+1v2Q/Uz9ZPyU+3r6XvlV+A34WPiF+CX5Nvmu+IT4IfiQ97T2nPWT9PjzDPT783TzyfLH8XDxUvL88wP21fdB+Sz6V/tn/Tz/QwDhANn/kP8PANIAzQGXATwAb/4v/Qf9KP0B/iz+Rv54ADwCYgRmB10INgkhCjILUwysDfkNuQyWCyILbwqQC4kLegppCo4JIgkjCdwIPwipBwEILwhCCRELHwvJC9QL5wpcCxsL8gpoCs0JEAnYCCYJcgiwB6AGMAUJBSkFtgU4BloGBAaQBVYFlwSrA6cC8QG0AYgBVgHxACIAzf5M/RL8Efsq+gj5yffX9mz2jfbL9uf2nfbP9df0YfSz81Hz0/KW8WHwAu8U7rHtr+147drshuww7HXs2e337svvTPAH8DzwKvHK8gT0X/Vn9i73NvhM+PT3gPcW97f2Pfft9w/4P/i/96f2I/VQ9Gjz3vPY9aT4XfywAZgG9greDCEN1gxkDQcSNRd7HBkfqB7DHU8bLhmUFr4T7hE/EIEQExHlETUS+xDODxAO4w0HEN0RYBTaFKgTEhKTEGgP9gyhCncH9QThA+cCSgHk/ov8a/rp+aL6Qvtj/Jf9nv7d/8IAzQDj/6/+Gv0L/Kv8Sf3q/e39Cv3r+9H7nfyF/Xr+lP6l/hn/cQA5AZ8BkQFKADP/Wv2O++H5APgz9jf0OPJ78HTvZu8X8Hfx6PIJ9W73N/rE/Or+dQCZAcsCZwP+A2AEdQSyBPwDAwPgAc0A+f+Q/zf/Jf9u/5D/Uf8+/8H+Xv45/gD+Wv19/I/7tPrc+Qz52Pev9tH1evT88+bzI/Qd9a/1MvbH9qj3vPhU+Zr5gvj195T3Lfhz+eH5yvlT+aL55/p1/MP+XgDFAZMD+gTHBjIIWAoLDEEN7A0rDaUM2gu5CnYJ3gdeBkYF1wQXBeQF8QaHB4YH9QZnBhoGxwZNCCQKfwtWDF8MuQsvCnsIQwY6BcIEvgTABPEDzAK9AdgB7QH6AQsCvgFuAnwEUQayBv4F+QMyAosB6gB7/7v9q/sv+q75Ifkt+KT2kvW69Pb0SPaY96v4+fij+DH4gfg8+Zz5SPl7+Hb3NfeN97j3SvdR9u702PNw80DzTvMd9Ln27PuqASsFtANR/uX5h/m9/8gHMgzGDCIIJQNVASMBPQJFA4wDtQKoAXsAM/7g/Yr+N//8ALsBYgFzAXwBtQFkAQEBhwGrAcwC2AIfAAb+Fv1T/dn/tAHNATMB8v+F/9L+0P7YAHQCXgYlCZ0I5wY7BAcDvQTzBwcKvArlCsoKXwshDBMMdguKC1wMZg1JDuUOJA54DVkMWAobCBsG0QQ4BGoEfANDAbn+rvt0+bz4Yvjs+OL55/oS+9D6zPmD+B34fvh6+Rj7+/sE/KT7Kvso+1P7b/tX+2X7B/xk/Lr89/zP/BX9p/26/X3+Y/4X/Q/8efrM+bj6DPtp+z375/mo+F33E/aC9cr0RPQT9NDzIPRb9PbzD/T183D0wfXR9vT3yviH+eD6W/zN/fT+BgA8AQADwgRMBkoHHwhjCW8KTwxHDVkNVg1fDP0LRgx1DFEMlgt+CkwJ5AhTCHkHVgYFBSwEEgT3AzoE+QO9A9ADxwJHAj0BCQC9/1sAzAAuAeAAdv/7/Rj9qvx+/J/9xP5Z/ysADgCY/8X/IADZAN8BYAOVBC4FlAXCBO8DAATtA28EJwWkBEMD5wFlAFL/yv4b/tP84PsI+6z5w/jF95v2/PWq9UD1/vTY9Hr0VfR19J/0v/W29kf33fdE+OH48Plx+8P8Xf7h/3MBUwMnBoAITwoaDDENBw49D8UPxg6kDhUOgw28DT0NIQzzCpIJMAj9BsAE7wJoAW8AVwCh/kr8ZPml9nr1qfQp9D/z6fH08Pzvs++a73Hvy+8s8ELxyvIL9J/1tvbJ9z/50vpN/Pz90f9qAU0DdgRiBTgGGQdyCOsJbQtmDNYMgQ2zDZkNQg3SDHYMGAzACzALVgoYCbcH6AV4BDsDIAKXASsBWgAG/7D9S/xK+9H6avr7+WL50PjI+Kj55vrK+4D8bf1O/pv//gCfAXICqQOlBKAF6gZqB/sHdwlRCrUK0Qp+CkoKoQrMCqcKbAq8CfsIwQekBvAEkAOSAqYASv9a/Y36rPjO9t/0pvOZ8mjxy/CZ8P3vku/E71Pv0O+j8D3xI/IG8/Xz3fRF9Vj2Ofd9+Dr64PoB/AP+1/8eAtgDugQ8BUUF9QXEBvMH3AjUCLcIdAgdCA4IvQefB18HEQe8BgYGbAWkBIgDrQIgAf//JP9E/gT+vv0X/Wj8Ivso+nf5h/nC+eH5ofrV+lj7dvtl++b77PwZ/mL/mACEAUcCvgKTA0oE7QTMBV4GoQYpB+gGiAZEBv4F4AV/BREFWQQMBAkEugM+A54CrAHMANn/Jv/Z/q3+cf5G/v39Kf0A/Pf6efpL+oz6mPpS+gH6sflB+dz4BflK+bX5g/ob+2H7z/sb/Bf85/zE/XX+f/+lAIwBvwIJBNEELQZKByAIPAkHCpUKMQudC84LwwtHC6EKvQn4CKsINwi7B90GlQUgBIEDyQIEAjcB/P/O/qz93vz3+wv7OfrY+XP5iPmQ+Qz5IPkZ+eL4U/lp+R75ifnw+V76Rvvk+4L81fwT/Uv9wf1e/jf/3/9/AHMB/AFGAqkCvALVAmsDoAM1BKEETgQyBLADDQPoAuMCsgKQApUBbgBU/0f+/v2K/ej8X/zr+5v7zfuP+277QfsE+2D73ftC/Lr8Rf2s/Vb+tf4T/4v/AAAFAaYBpAHdAdkB4AGCAuAC3gI1AzUDHAO+AkECzwGVAZkBlAEeAYwA8f9F/0r/Mf/M/nb+UP5b/p3+0/6c/lT+K/5s/tD+A/8d/wv/qv43/zYArAAqAXABPQHcAasCDAN/A+EDDgSWBAAFJAUaBSkFXAWQBZkFYgWbBCwECQSrAzYDmgKwASwB8wB+AAMAh//W/lv+O/7g/Tz9qfwm/Lr7wvvC+zz76/oJ+wH7Tfu/+2D7Sfub+6H71/sK/Jn7fvuK+8/7UvyP/KD8tPwd/Y39df2B/TL9Av0c/Yz9vf3g/eL9bf30/Ij8WPxB/E38Gvz3+4z7Rfs7+777EvxQ/J78u/wY/iz/9f/BAFsBkALoBBoHmAixCSMKIwuJDOoNKw7TDZQN8Q3nDpMPpg9xDmYNFQ27DKgLvgqZCHkGAgYKBcMDuAKBAJ/+B/4d/SX8Jvvl+dj4qvdG91H23vSL9GT0I/Tz9DL1VvTM9CL13PTo9Vf2ZfaG97D4ffkk+pr6A/t9+/P8IP6T/tz/1gCXAQMD/gMcBCIFOQbeBrsHLQjSB0UHiQd9BykHCAdrBj8FGQXTBNcDRwPWAu0BgwGbAZkAwv9//7X+Ev4l/sz9T/1N/Ur9OP1x/c79If5m/h//q/+5/yYAigDMAHMBVwKTAt4CHwMGA1MDmwN7AywDAgO+AosCTQLZAegANAACAHf/N//s/vH93Pyu/E38F/w0/M77N/s/+2P79PrI+mL6u/n2+Yb6dPpK+jb6TPqN+nf7QPwo/FX83fwq/cH91P7q/iH/CAByAO4AfgGSAaEBvQE+ArkCAwNeA30DJgNHA0wDCgM1AykDAQNGAywDzgJ0AiICBAIcAjICQQISAgsCAwLhAaABYQFqAR8CWQKXAs0CggLQAmUDrQPHAw4EpgOdAw4EtAORA0UDFAMFAyYDHQOXArwBeAE/ARYBPwG4AA8A1v9t//X+t/4u/pP9Zv00/bv8SPx8+9b6avo1+m76VPob+jf69fnx+Wr6afp0+tT64frj+vT62PrN+gX7U/uN+5L7n/vE+6v7GfyR/Gz8qvzJ/Mj8G/2B/Wj9gv31/Vr+1v73/iD/F/8B/43/rv9n/5r/Yv82//z/AwDz/ygACwBUAN4AIQFNAVABowFAAq0CYQOhA8gDfgQuBZoFSQaYBukGtwdFCK0IRgl7CcoJTgqKCrcKowqFCkgKHArzCWwJpggTCHIHmgbnBSEF+wMHAykCEAFPAKv/0v7N/RP9XPyZ+zT70vpf+hL6D/q1+Yb5Xvkr+fv4Kfkv+Uf5dPlf+ZH55Pl3+vX6ZfvD+xX8avw1/Yn9iP3s/fb9SP7j/tv+4f4A/8X+kf6c/m3+1/2O/Uf9zfyN/Cn8mPus+lL68vkj+b/4Qvh+90j3+Paa9k32HfY99iT2cPaa9tT2ZPcs+BT5uPk++5v8NP5sANYBigNlBRMHYgkhC/UMZg6fDykRbhK1E4AU+RSgFegVBRYtFjEVORRsE2gSWxHxD0oOUgwrCpIIqQZlBH4CDQC//Tb8kfrD+CT3ZPXj8/vyPfKB8aPwvu+B7zvvgu8A8O/vvvCT8Wry5PPp9AD2Ivdw+Cj6tPsb/YX+lv8BAbsCJgRMBVkGIwfwB/QIWQnBCbEJYgmECVcJDwmMCK8H6gY9Bm4FowRYAzUCPQE0AHD/Xv4U/RX8d/sV+8H6Uvq4+VD5TPmH+Qb6Q/qZ+iD7qvtj/Eb9zP13/nT/PQAcAf0BlgL5AsYDcwS7BEIFhQWKBXQFwgVmBfcE8gRcBLQDjQPdAvIBSAGPAKv///5D/lT9dvys+7n66flJ+YD4BPie9zz34fat9nD2YfZ99pv2xvYn92L31Pdo+OT4ePkd+uP6gftS/CH97v2v/n7/fgA7ARICCgOUA08EGgXaBXcG9wbiB90HXAjqCLUIAglHCWAJIAk+CR0JhQhzCGUIzQdiB+gGFgaJBWUF4AQHBIoDCAOtAmwCnQKyAWgBvgFWAdQB0AHMAU0BwwF1Aj0CGwMtA90C9gNRBKgE2gSfBHEE8gM+BQwE9wPvAzQC7gKJAh4CLAFnAA4Al/4P/zb+gPxX/BP7K/q3+W75Dvil9uL2ifVM9Sb1FfRV8zTzXfOC8tbyqvLm8Wvy1vLq8gzzj/Oz88zzG/WE9fz1xfZf9w/41fgW+nb6z/q1+zP8K/3t/Yr+N/+D/84AUgFBAgYDRQNJBHoEWQXdBWsGnAfBB9gIqgk/CjwLfgtsDLAMYg1bDucNpQ7JDqwOEA89DyYP5A7gDjgOpg15Dc4MxQtCC1wKMAl7CJ4HawZJBVwElQM5ApcBngBE/6L+0f0S/Xr8+vtb+6D6ffoX+p/5mfl2+Vj5dfny+fj55Pmg+rj6BfvE+yn8aPy4/EX9aP3F/Xf+AP5a/qb+kf7G/q7+Nv6y/Zf9Mv2R/Cr8ZvuL+v/5cfnN+A34lffz9jz25/V29Sz14vSw9Hv0Q/SR9Hv0k/Ti9Pr0gvUP9m/2+vZ29yr4wPiD+WD63/q/+7T8L/0g/h7/zP+QAI8BngJfA8UEWAUNBggH0weNCB8JwgkUCm0KDwv6CvgKAwvNCskKwArBCjYK5gmmCQYJsQhVCKAHDQevBgsGXAXjBD4EbwPqAp0CIgKcAZMBtgASAEUAsv+H/37/bP8s///+bf/9/g3/gv8+/4j/+v9OAE0AgQAwAQABsAFLAhsCfQLZAvoCAwNxA6sDUgPNA8IDdwOrA5EDJQPuAvUCgwIZAhsCcgHqAM0ALwCf/3T/D/9t/hf+2f05/QX99vxw/FX8kPxQ/Db8fPxD/Dr8ePyx/In81fwp/Qn9ev3t/cr99f09/ir+Qv5n/mX+J/4n/hr+pP2Z/Vv9pfxU/Nr7Wvv0+pf6I/p1+Tb5o/gX+Nz3dfcC97j2hfZJ9k/2dPY09kv2nvaw9h73jffi9xX4t/hn+cL5t/pf+937tPyx/VT+I/9GAMoAkQG6AmYDDAQBBbcFKQYZB+EHMAjQCHgJrAn+CZgKrAqzChkLPwsBCzELPQvMCr4KwAo6CuAJwglhCbsIvQhqCKYHhQd3B7AGagZ6Bt0FeQVVBeIENgQlBP4DZAMWA+wCRwLsAeYBfgESAeYAmwAXAPr/1v86/87+2/5x/jj+QP7S/YP9cv1C/fj81PzU/IX8Z/xq/B/86vv7+6D7h/t1+zz7Cfvn+rX6cvpL+jH6Lfoh+hf64PmG+WL5NPkR+fj4yfij+H/4bvhT+CH4FPj99/f3Avj49/n3/vcV+Er4e/im+ND4Gfl6+cX5/fln+rz6NPvm+0v8sPx3/f/9cf77/pv/7v+CAEwBsQE1AtQCSAOaA0YEwAQUBawFKwZkBswGSAeLB8sHMwhiCHII5ggICVoJUglbCVQJQglzCXgJWglKCQ4J4Ai1CI4IVwjwB9QHeAdABxcHpQZOBvAF0wW6BYAFFgV5BB8E6gOoA20D+gKLAh4C3QG6AW0BHQGpAHAAEgDS/1n/3f6g/pP+c/4G/nD97/yU/Jn8cvw1/Ob7XPv8+sX6vvrR+rD6hvov+uf5lvl5+Yr5zPm7+YP5KfkJ+T35kfmb+YP5m/ke+hX6vvkE+c34tfr8/LD9M/vr93H3k/rr/vX/Z/w2+IX3gfrf/eT9wvsD+nf6gvug+h/5RfnC+5v+M/7Q+jP4q/nu/UkB+QCl/gv9Uf7UAGoCsgIjA3YEhAU2BVMERARxBoIJ3QpwCSMHmAY7CN0KHAwrC7UJEAk+CbsJ/gkZCigKUwrqCckImwcmBxcIXwm8CTII0QVeBNYEiAZ5B4AGRwS0AqICTQNxA94COwLuAXwBtgC1/0//EwDEAKQAXv/r/W391P2d/tT+T/67/e38d/xJ/IT8D/1K/Yz8Qvtp+lv6FvuF+xv7+vkm+dv4t/iN+Ib4L/jU9/r2TvbJ9fb1c/Z29uf1PPV+9GP0C/Ws9Rz25fWd9Sf1A/as9xr5x/kU+rT6jfsP/S/+lf9JAWADFAWzBYkGXwdACaYLDg0aDcoM+gwvDZANCQ4KDqYNmwyXCtsITQiVCC0IgAazAzIBLQBAAOr/q/7l/F/7aPre+Vv5Ovla+b35i/n2+Fn4tfgo+rX7kPxn/Dn8xfwR/oP/xQBDAdgBbQIPA5wDPwQtBW8GMgchB5YGUAYtB3kIVgnyCDkHFQYrBicHJQhpBxEFKwOiAjkDewMJA2EBrf+7/mn+kv7M/tf+I/4Q/Q38uft6/L39u/5v/pz9BP1e/Zb+GgD7ACoBxAB3AIYAdgHmAsgD/wOJAz0DLwNEA50DIgSPBCME3QLcANr/IQB+AE0Adv4t/Jj6vvlv+Xr4RfcR9iz1UPRu8hLx/O9i8PvwHvBO7wPul+3H7S3uA+/G7/TwCvG28PHwKvIu9XX3f/gX+PP3m/n7+x/+Y//l/x8B+QEXA4wDlwRXBsUHtwjdB0IH2QetCXsMWgxoC6wKwwqmDLMNsw03DSsNCw4JDkwO8w1RDksPmQ/8DsYNvw3LDuwP/A9ODgsNyAw5DpMPxg5WDZkLhgtwDIYMxQtACpoJigkaCVAIrQZkBscGwAYfBfcBqAD2ABoCCAK1/tj7A/vM+0H89PpT+JL2+/aW9i/1gvNJ8hDzsPOG8jbww+7v7xvxTfEE8OTtwu3G7izvje6E7Qvuw+6M7W7s3urp67ruje9w7Wfqw+kB7Arwd/KM8N/umu4/8Wr25vku++75Dftk/VQAGwZ3CEkKtgu8CzANHxDhFP0WlRa+Fe8T7RRbGC8aVRjpFVET6hEKFMYTIxHVDW4LrQrbCaAJzAb6A20DDAIDAXsAiv/B/dP8Uvyv+7H8Lf0x/L/6//pn/ND9av9y/hj8BP3R/yYClQO5AvkAmAFQBIMGWAeOB9YG1AXaBlgHbwh2CcAIOAeFBeMENAXABYgFJgNjAJf+Ev71/QP+ffwB+n/4ZfdD91v3JPcf9tT18vWv9Un2H/eK98/4Ifp2+iD7XPxD/fr+4wDOAZcCogOvBGUF5wbPB/EHzgj6CCEI7QcoCN0H4QdwBy4FiAMUA2oCdgFMAA7+YvtD+lf5yvcE90P1KPP58ePwA/Aj7/Luee6i7YjtKO1/7Uju5e5b7xPwMfFp8rzzRPRX9db2lviV+rb7zPu5/BD+//+XARQCxQEwAp4D6wR1BWYF4gT5BBUGdgYbBpwFFAWBBbUFSgXgBCgEAwRcA00D+wK6AhoDngK6AX0BRgFQATYCNAKMAd8BzgEpAn4CzAPWBdIGSAhjB04GIAhXClgNsw/XD6IO/g7QECQTXxUxFp8VuxSyFBQVMxUxFsEVdxRDE1kR1Q/zDgIOawxsCjgI2wXLAxICTgAk/tr73/kr+BP3ivWA893xFfGQ8GzwnO9y7tTtZ+1l7uDuM+9V7zPumO7L7w7xXfLc8tLyGfMQ9Mn1b/dO+IP4U/i2+ID6SPwJ/Rr9SvwF/OD8s/0G/lD9WvxI+7v66vqJ+s757/iV97j2N/b19Tn1R/QU9PLzcvT69PX0uPTF9Lz1c/ea+eD6C/ti+4f85P65AcgDdwSsBFIFBgdNCRsL6gsXDDMMpwybDZ8OAA/eDjoOxQ15DfINKw+EDkINBQzvCokLFQxYCy8KVwnKCKcI6wglCGQHvgaMBioGDgbxBWYFJgUIBXoEkAQuBWUF8QRwBP0DMwRIBZ8FBAVQBFoE6QRwBVIFjQQKBC8ESwQHBHcD2gJvAv8BTQGYAP//3P9v/5T+U/2N/E/8Dfy0+936efn9+N74tvhw+KX33fZq9nH2APZ19SH1t/QS9PHzlPMy83Tzd/Pp8rvypPID8iXyX/L28SjyXvIL8vHxXfJW8gzzovOR83nzpvP284H0PvWT9eP1XPbQ9j73svcV+Kz4MPnn+Wv6EPsK/Nr8xP0P/zIAewHvAgUE2wQCBncHDQmqCv4L0gyADawO2A8QEUwRvxESEs0RBRI2EvERAhIHEhcRAhCKD8cOfQ4XDuIMkwuOCgoKjQnjCD4IQAeTBjMGiAWyBPcDgwOaA2YDlwLsAWQBUAGLATcBwwCKAFUACgDg/7j/l//N/8L/VP8o/zL/Zf+i/9f/g/8f/zb/Kf8F/yf/AP+j/n3+aP7p/cb9vP1e/cP8XvyU+xL7HPvq+lv66/lm+fv4/fjt+Jf4dfhf+N33uPcN+EP4gPiv+Gz4gPj6+If5+PlW+sX6+/pP+9X7O/zG/Ib99v3O/RL+Wf6F/u3+Qf/4/p7+hP5Q/hL+K/71/Xz9Lv0C/X/8EPzk+337Uvs4+8z6XvpP+hb6C/qO+pr6ivqy+r/6B/uT+xz8k/wr/cP9NP6p/mD/XwAnAeQBYALSAmgDDQTkBIwFCQaGBvMGUwfMB04IjAi7CPYIDgkHCR0JPwk7CXoJdQk3CRIJpQiPCI8IiwhyCA0IogduB3MH6AfmB40HRAcGB/8GEQcXBxQH8gbMBpcGWQaRBrUGZwbhBZMFNgUEBQgFnwTTA2ED7QJkAvEBMQE+ADn/zf4e/n/9w/yE+5/6K/py+az4B/gk93f2/fVL9af0bPQc9KXzVPMo89jy3fIY8wPz4/IB8zbzIPOL8+TzHPSK9Pn0F/Vw9fv1M/ag9k/3tff090z4q/gE+ar5Ovp4+sP6H/uC++T7Tfyj/Pr8fv3Z/S7+of5A/6j/JADcADoBmAE4AuwCdgNFBBQFhQUABqoGQQdLCCcJggnKCUgKzAqpC6MM2AznDDgNkg0SDnQOjw5sDkcOVw5EDgsO4g1lDdsMoAxUDJcL8Ao/CjsJhQjvB0wHcwaVBZMExgOPA/gCFgIqAUwAtv97/0H/0P4f/sr9Y/3K/L78zfyW/Ej8A/yX+1z7iPuG+377fPsz+9D6wvrW+rb6qPpo+u75vfmh+Wb5Uvkz+QL5xfh5+Cr4/ffV98H3qfd39073MPcr9zb3afdt95P3yPfc9wb4e/jR+Dr5tPn5+Wr68Pps+wP8kvwN/Yr9C/56/v3+j/8AAHYA4AAlAYkBBAJcAq0C9ALQAsICJwN2A54DiwNqA00DgwPYA+kDngNUA0QDQwN0A4cDdAM3AxIDDQMbA2IDWAMmA0sDPQM8A5ADrAOIA6EDzQPrAzUEIQTgA/ADGgRMBFwEMQQQBAQEBgQeBDgECQTtA9EDbANhA1sDJwMRA+oCbAI4AhACyAHcAQECjgEXAesAxwCvALsAbQAXAPr/4f+r/6n/wv+U/2X/Ov8K/+j++f74/tD+tv6L/jn+Gv4P/rz9yf2z/WX9Nf3j/JT8p/y0/HD8HvzR+5b7j/t5+2n7NPv9+rv6l/qY+n36dPql+o36cvqE+or6q/rw+vj6AvtP+377qPv0+yb8Ufyq/PL8RP1y/aH97v1G/pX+1v7+/ij/af+U/7r/7v/8/xoARgBrAK0AzwDfANMAvgDaAAABJQEzAS4BPwFEAWwBkAGYAasByQHrAR8CRAJvAooCugLmAgwDUgOUA+UDNwRdBIwEsATiBDsFnQUmBiwGygW0BbAF5QVJBlkGOAbkBakF7QXrBZgFAgWWBCgE1wO4A0wDBgOOAjICGgKWAS4B1wCEADsA5v+L/wv/vv6g/mX+Tf4k/tj9sP2T/Y39gv2W/bD9rP2B/Tz9OP1Q/Wn9hf2F/Wn9Tv1O/Wb9hv2W/Vn9R/0i/Rf9EP0N/QP98Py2/IT8cPxQ/Eb8JPwH/OT7zvu++7f7g/tx+5D7mPt1+177Wvta+2z7ofu6++T7CvxN/Kf85vwT/S79YP2v/Qf+YP6c/sv+Cf9I/6f/7P8xAIwA1QAeAWIBigG+AQACPgKBAq0CrgLBAgEDTwOfA+MD9gMCBBkESQSFBJQEmQS+BMcE9gQCBQ0FDAUJBQQFEQVABTMFCwX8BPIE+wTuBNsE4AS1BHYELAT1A+QD6gPIA5UDXAMbA94CwwKXAosCVQITAtMBkwE8AQ0B3gCwAIwAUwAIAKf/Xv9S/0H/Hf/f/pv+PP7q/c79v/2k/VP9zvyC/Ff8UfxT/Cn8zft1+zD7Gfse+xX72/qs+ob6afpI+jr6UfpQ+k/6S/pH+kf6Vfp5+qP6v/rV+u76G/tC+3T70PsR/Gb8pPzH/OH8H/1t/cv9Ev4M/in+Xf6Y/i//ff+s/8v/7/8qAGwAkwCwAMkA0QDgACcBZQGgAcYBqwG/AdgBCAI/AmICaAJhAoUCggKUAqsCswLdAgcDMQM6AzQDUQNxA5cDsQO9A8gDrQO3A9sD7gMVBC8EJwT3A9sD5gPuA+0DswOHA0UDCAP/AvkC8AK6AmECIwLmAbIBiwFNARUBzACVAGwAMgDm/7L/sf+F/0f/Gf/Y/sf+xf7B/qr+lP54/mv+Z/5f/mf+cf5r/mz+gP54/qb+1P7e/tz+0/7h/vL+A/8I/wz/Bv///gb/Av8M/zT/QP8u/yf///7a/sr+0P7f/rX+jP5o/jf+FP4U/hv+If4V/vn92/3Y/dL93v3v/fL97/30/fr9BP4z/mL+c/6I/pr+rP7G/uP+Df9H/2//if+j/87/DQBQAF0AaABqAHIAsAC+AN8A7wD7AAMBHAEtASwBLwFSAWMBZAFRAVsBdgF8AY0BmQGNAX0BZgFrAVcBWAGbAbgBpwGDAWsBeAGgAdkB5QHkAcABqgHGAfEBFwIaAggC/wEHAg0CGAImAiMCGAICAvQB9AHNAbkBqQGJAX0BZgFbATgBCgHpALQAngByAEUAIwDU/7P/n/+F/1j/C//a/qr+iv5o/j/+If73/eX91P3P/ar9j/1w/Vj9U/1A/Tj9Q/1F/Uz9Qf1E/UL9XP1v/Xv9kf2X/Z/9uf3K/dL94v36/RD+J/48/lj+dP6E/qr+xP7O/t/+7/4V/xT/H/9A/1f/af9y/5L/q//c//z/CQAdAB8ANABNAGEAeQCMAJgAqQDOAPMAEAE6AUYBVQFuAXYBpAHfAfcBAgIDAgACBgI9AlcCbAKHAn0CnQKvAroC2wLdAtUCwALFAsICqwKxAq0CqwJ9AlsCXwJMAjkCGAIEAuABvAG5AY4BXgFFATkBFgHeAMYApwB5AGgAXwBEABIA3v/F/67/kf+T/3//a/9H/zf/Kv8n/yr/GP8H/+3+6P7f/tz+0P7L/sH+uf67/rf+uv6z/rn+s/6k/qT+r/6h/o/+gv6I/o/+lv6O/oH+hf6L/pr+kv6C/nX+cP57/oj+k/6I/oz+mv6j/rT+rf69/sf+z/7i/u3+FP8w/0H/Tf9J/2L/g/+e/6n/u//N/+L/9P8OADYASQBWAGMAeQCLALMA2QDlAPQAEQEoATQBQAFPAVsBVQFfAVYBTAFUAVsBZQFdAUoBRAFEAT4BOQFHAUwBTQFDAS8BHAEfAR8BJAEWAQYB+AAAAQcBEQEsARUBBQENAQgBBgEKARcBCAH+AAUBEQEPAf4A6gDhANgA0gDPAMIAwwC5ALEAlAB4AG4APgA0ACEAEgDu/8f/vv+b/5L/fP9s/1n/FP/8/un+0P6//rL+of6G/o3+gv57/nn+c/55/nL+av5t/mX+YP5o/nr+ff6G/pX+n/6q/s3+2/7s/vb+DP8I/yL/Q/9H/1r/cv+G/6//u//X/9r/4//u/+//AgAMAB0AJgAwAEEASABTAFoAZABtAHAAfgB5AHEAbwB9AIoAigCDAHMAdQB2AJgAoACbAJIAkACNAIcAmAChAK0AowCnAMUAwwDgANkA7ADlAPUACQH8AP0A+QD7APkA8AD4APEA7ADaAN4AAQH1APAA3QDfAM8AyQDCALUAsACgAHQAbwBwAGYAUgA/ADIAKAAXAAcA///6/+b/4f/R//b/3P/S/8v/z//N/7z/yP+//8r/uv+5/77/tv+//7//vf/C/7n/wP+5/9H/uv+i/5b/qP+T/6P/Yv+H/0n/Vf9vAN//R/8K/1H/Ef8l/4n/cP9n/3P/bf9b/1//Kf/z/vb+0v4C/xX/Av84/2n/Hf8i/1H/ZP9t/2n/Vv91/xn/Sv+C/5z/If94/wgBigCNAFgAXgDy/8z/NgDn/+j/DgCpADQB9AALAbwAjwA8ADYAMQDq/ycAbwCnANcAGAFIAQsB3QDOAJQASgBGAIgArgCnAL4ACgEQARYBHgH6AKMAmwDHAJMAmQCbANwA7wAFASkBFAEsAeEAzgDFAJ8AagBmAIMAdgCxAK4AxgDEAKcAWAADAO//7f/O/8j/4v/z/8n/8v8UAPr/xf9K/xj/7f61/p7+xP7q/iD/e/+L/5v/if9M/w//4/6w/nf+pv7F/gT/Sv9//3v/Vv8w/xL/Of8O/xn/Bf/B/sj+0v7y/v/+X/97/5//+P/w/+b/ov9n/yH/7P74/iD/dv/X/0IAfgCdAMEAiAAxALT/fP9r/4L/uv/1/1UAmwDpABkB9ADHAI0ARQADAPv/+P8FAFMAoADfAAwB8gDuAEgBDgHkAMwAtACTADsAQABOAFgAXwCiANEAqgDbAMMAdgB1AKYAnQBrAJMAkQCHAIkAdwCyAKMAlwCpAJwAUwA8AFkAJgAAAPf/6v/v/xMASgBbAFcAHQAOAPf/zP8BABoA9P/x/xUAFQDw/wIA7P/T/9b/4f/4/+D/+P/7/9z/5f/v/+7/tv+o/7f/zf8SACcAYgA5APn/2v/c/ysAHQAPAP//5P/s/+H/AgAdACEALwAyABEADwAAALT/tP+m/5v/p//x/yYACAAGABoA/v/E/7//pf+I/4P/q/+8/7z/zP/D/8H/AQAYAPz/9f+3/5f/c/9I/1L/eP+s/7z/9v8QAD8APgAoABsA0/+0/+D/DwD8/xwAZQCPAKsAywCbAE8A+P/R/5r/HP/m/t/+3P4D/zL/fv+m/87/7f/a/7H/jP+T/5v/xf/Y/xkAbgC4AO4AEQEHAfIArgBQAPH/nv+0/5X/g/+P/2n/eP9V/13/U/8p/yT/IP9D/5v/AAA8AJkA+QBQAXsBiwGzAdEBAQIyAlUCWgIhAsoBRQGwAEsA1/+Y/2z/Zv9g/4b/pv+q/53/Q/8C/9j+vv6g/rT+Av9c/9z/TwDUABMBOAE8ARQB3gBpAPT/iv84/zf/Nf+L//r/XABJAAUAmP/9/kH+i/3p/IX8evzD/Fj9CP7A/lr/yv8HAA0A5f9//zz/Fv8p/1T/g//u/2cAoACsAMoAiQDb/yf/7P3b/Kz7u/op+m35U/lz+fX53fpC/J/97v4YADQBSAIYA80DtQQfBtIH3gkZDOUNEQ95D+IObw3oCrsHWgTGAAL+U/yn+4b7I/w8/R/+uP7J/l7+hP2J/MP7ivse/Ib9rP8pAs0EPQfjCIEJNQnRB4sF9QJeAGH+wPzi++b7fPwg/Tv9/Pwn/ID6q/iQ9ij1VPSp9Bz2ufhM/CIAtQOYBuEI8gn8CWQJSAg8BzgGLAXGBG4EJwRQA9sBAgBW/Sf6xPa581Xx3O9u7zzwzfFD9AH3lvkK/AD+dv9vAGkBWQKuA/gEfgYiCKwJKgvbC/gLkguACgEJHgcnBSsDYAHX/7T+3P1Z/QH9jPwZ/IX7v/oP+pH5//gQ+YP5nPoi/L39rf9XAdUC9AM3BEsE5gMXAxkCygDP/+n+Hf5i/dn8Xfy0+xn7KPpx+dL4NvjX9wn42fj2+W/7Mv0A/2kArAFvAtQCxQKOAmoCNQJBAnoCygLnAvkC4QJ5Au8BFQF8AOz/gv9l/5H///8+AJMApQCKAKYAkgDWAMkADAGYARkCowJLA+0DIQSuBO4E4QSRBDQEFARJBGgEoQTYBOIEBwUQBeMELQQ2AxwC2ABCAHf/Bv/t/gf/gP8IAAgA5/97/4X+jf2m/Ov7iPuR+wb84vzq/dX+tf8eABIAev+w/tD9G/3B/Hr8ePyj/Mb83/yH/OH7/foc+tj4fvcq9or0+vJN8VrvzO1x7MrrA+xI7SDwivQg+sv/1ATvCKILpA31DhIQ5hDNESATvxRZFi8XsxZHFAMQBgreAq37MPVL8Nnth+3V71T0kfkK/3cDVQbmB/0HlwcGB4gGjQaeB+AJ/AwZEB4SkBIhEdMNHQmgA/n99/hg9dTzNfQZ9t/4t/v//S7/JP/c/Zr7TfnA91f3nvj++5sA5AXkCpMOpxDjEEAPXQyPCFEEmQD3/Zj8I/wD/Mr7Afur+WX3BvRp8PDsd+qT6azq9+2f8if4y/3eAuIGZAlgCvsJpAjWBjkFYgT9A2EE2AQdBRoFSgSvAk0AXP1R+rn3K/au9Vb26vdM+gb9rf8SAoADKQTvA+QCtQF0AKP/fv/u/yIBhALlA/sEnQVoBWAElQJjAC/+OPyT+qf5Q/l++RL6x/pv+777KfxR/Hf82fxJ/S/+cv9BAXQDoAVmB7EIOwnaCMQH+QXaA8oBAABU/jH9nfya/Nz8L/1m/XH9hv2U/bv9D/6E/l7/bQBKASQC1AIZAywDBwOeAvgBNQEfADb/PP52/f38uPzY/Nz8hfw7/Pr72Pvc+xH8NPyy/GX9Of4i/6D/yf+H/wb/ff70/b/9//0h/xsBTgOBBUkHIQhwCGMIJwg2CGcI8wh6CQoKewqZCngKhgmeByYFZgLK//j9pvzY+9X7Wfx1/fP+OQBKAZ4BpgG7AaoBhQEKAX0ABQCT/1j/MP+5/hr+YP02/A37C/od+Xr4B/ju92j4l/kn+6z8wv1+/vn+pv8aAEQATQBeAJ4AOQELAqECxgJcAqoBxwDu//L+DP5B/bH8cvxs/Gv8iPx0/Bj8r/t7+4L7sfsU/MH8Hf6v/6MBnwMHBREGlQa5BokG/wVUBc8EcQRZBHAEmQSGBCsEsAMdA2ACjAEDAaoAnwCvAPEASgH/AZsCsQJpAs0BUwH0AH4AAwCS/zD/9/7m/sr+T/6B/ab8uPu/+of5kfjd95L3vPcU+F344PhG+Yn5Rvno+PH4Kflo+Qz61frI+xr9cv53/ysAUwAjAM//bf/8/k3+o/0a/Xz8Z/xv/OH8Of7p/xkCZAQaBlMHMgh6CBMI3QcBCCQIwwi7CUgK1ArWCoIJTwdwBN4AZ/2K+nr4bffP91z5c/s5/vEAnQLOAzwEmgPHAuQBEwHSAEkBBwIfAzYEyQSZBJADsAHX/v77a/l899H2kfee+cD8NwHcBFcHNwmpCGMHsQVCA3kBqwDkANwBRARgBuEHzQjtB60FtwJ7/wT8hflt+CX4u/lU/IH+fwCUAXoASf6B+wX4p/Tm8uHxOvIm9YD4BPzF//0BsQKFAlkBKv8s/b77z/oK+278tf3w/av9KPv69vDy0e2o6YLnXecV6q7vfPeb/7QHEg57EfQSchLSEH8Pdg8gEPwRfBXaF/kYwxfpEngLQQJ8+Efv3Oj65ZbmoutP8xL8JQUpDEoQ7xH4EDoO9Ao4CMYG4gbgCH4LnA3MDgsOiwrmBPv9YPbJ7xPrrOiK6Tjtx/Ia+e/+0wJXBLcDTAHy/fT65/ia+Lb61/7yA4EJwg3kD8cPqQ2pCQoFewDB/KL6Wfpx+2T9H//U//D+fvzJ+G70qvAG7m7tDu/58uD4dP9ABrALCw9WEFMPzQx1Ca0FtwKlAJL/r/9xAB8BZAGzADH/XP0u+6/5+viR+YL7lf5PAtoFvgh7CqkKhwkfBxcEjQCx/ZT7fPot+nb63voI+zf7i/rO+Qb5UPhK+Jn49flq+zT9LP/T/yEAlP8o/h78C/o9+Lb2sPZL97r4OPut/ej/pwH3ApwDoQOGA/ACtwKdAksCYAI2Au0BbAF7AAb/i/0Q/Gb73/oX+zv8tv3J/yQCGQS8BecGRwf0BokGugWBBKkDsgK2AWsBJAHKAE0Ax/9w/9r+5f4g/5P/bwA5AZUC8ATTBtgI4wm1CVcISAZjBLsBAwCB/sn9Tv77AEQGaQgmDNkKGAfkBV0BNwFMABABLwOlA3UHJQdeCIsFMf/n+Qbz0fHs797zofdg+fwB3wLHBYQHHAQRAnf8nPss+GD5Ev0H+rr95/xc+0L7xPcH9Vzwu/B/7wLwS/WG9Vv5Ov3m/sYAWwGhALH7uPle9kny/vJn8crwRvE58YTxA/ID9TT24fjk/Gr+WQNYB6QKuw2zD/cRWBI1FL4UvhMPFDMREQ4aCmkF9P/f+lr4oPXR9+36Zv6XA+0GWQpyC3kMrwuVCs0KCQrGC+ANYA93EOUPtA1dCiwHpAL3/vn7/vj4+An5wvqT/N78zv2t/Pr7OPu6+dP5ofhk+Wn6H/zV/qAAFQPrA4kFFgYEBp8GUAUfBX8EEgRPBLkDrQPtAb3/rfzk+EL2ePOV8Z/wH/HN8p700vf0+Uz8pv6b/1EB/QG6AmkDgwOHBA4FeQVSBVMENwPtAbAAsv+4/pn9+PyA/Pf7efwK/db9Kf8EABoBGwHWAFIA2P6J/uL9hf8TBE4G/gnbCYQHjAUgArIAVP+LAC0BTgJJBBMEFgXoAXD9wfe98ebvzu0y8LDyHvUm+pb7Vv7z/hb+X/3j+jb7F/tz/rcBHgJwBK4CPAE4/6j7Gfn79Wb1c/Qo9ub43vmo/ET9s/2L/2wAAQEhAbEBrwFLA3MFMwbAB2AHqQatBWgFIAbzBRUH6QboBqsHGAcLB7MFDAWlAxcDcAP9ArMEtwT/BLYFFgWxBYIERATkAzgE8QbwB20KFgxDDKwM0Qq/CP4FzgORATsAqwCAANEBBgJLAQEBOABWAE4ASQGmAjoEuQbVB8IIkwhfB7kFVwM8AeL+d/1f/HH7f/ub+uL5mvjb9p31bvRX9AD1l/aE9xL4yfjO99X3lvYF9YL0UPOU8+LzYvTF9Df0CvQs8y3zqvPb86H0VvT29Ar2bffO+FL4D/jR9hv1qvR089fzS/Rn8+3y3fG78nn0H/f3+mP/4AWLCkkOPRA7EGMSwxI9FSgZdBsIH/Uelh2zGvsVARJEC80GWwMlAjUDRARqBkAH2gf/Bs0FZwVjBKUFWQb8B5QLKw7fEOIQRQ4AC8IGkgPSAI3/ev/2/5IAUAD2/+b+kf0p/D76h/mY+EP4Avi890347ff+9wX4c/jp+uD85/4aAU4CvwMbBB8E2gNjBJUFPQYOB1YHMAcWBQICpv5S+hz3dvO/7wruduzl7AnuDu8N8ZvyRfTf9WP3fvnn+i38Bv33/dz/sQEhA9MDdwSmBHkEcwSAA4ADlQMcAzkDWAOyAz4EIgRqA04CbgFXAG7/uP55/uT+HP/T/p3+7/4Y/xr/gv/N/2IANAG4AWgC+QKoApIB2v/2/RL8zvo8+QL4bve/9qj2aPa/9tD2ufYX9zv4DftX/swAKgORBPIFVAfHBzAI1gjJCIAIwQcYB7gG1QVHBaAD3gKQA2YDbAOjA6sDEAXmCE0L6g14DyAOqAwqCs0JlAqACyIMlwomCvYI2wa2AyP/RvzK+fv5ofmI+sD8Tvt5/Ij7uPpS/Lb7kfyr+938rv5m/p8Ajv4w/jT9nPp5+935zvq4+vj5zPp++Gb5c/cn9nD2x/RQ9+j2C/i9+BH3cfji9nP3F/hP9535+PhJ+zX8//tw/Yv7V/zw+nb6b/sx+ir8l/zi/PH9cv21/bD7sfpB+fT43fti/e3/TgFBA3MFPQbqCAIJ0AltClsJGQsgCw8MuQxMDOAMUQwLDEsKywd6BhYE5APxA9QDcATsA7UCxgEsAjECKwI7AjEBjAGkASoC4wLnAjADgAJCAwgEagSeBUoEfAOiA2kDoAMnA0sCywHpAY4BqQB3ADr/m/4C/nH9tv0e/y0A3v8hACgAjgBMAV4B6QE2AkgD4QN/BF4F5QMZA9QCtgLrAzEFRwSRAjgBAv+J/qb9oPyp/ED80/z8+7r7RPxw+0T8KPy7/Af+Af4d/nv9HP69/hD/0f///vX+wf2/++36bvkH+CX2T/MD8mvxjPEG8SrwivAK8YjyjfOG8wn0R/TF9K31LveQ+OP56fqM+hL7kPu0++X7GfvY++b77PzW/T39+/36/fD9e/6V/8YAPwGbAfQBoAKJBIAFgAVdBfcFNwe9BxEIfQiHCHIIkwjACIcJoglFCYsKLAuVC84M7wvMC4ALzgq6C8gLRQyhDF8MzwxfDJUMmww4DGoMTAyCDP0MFg0nDaANhQ1nDWMNYQ3ADOULjwrRB0wHqwUpBFADggF0AGn+Z/3k/C/73foR+hT5Yfjw9zT46vdR92H27fXy9Rj1VPQ99ODzwvP68t/yvPK78qjyPPIQ8nvybfLi8cvxMvIa8snwJPDh747vRvAi8J/wUPFw8Y3yJfPa8yT10vWC9lb34Pcq+Af4ffiK+Af4P/lU+VP5qvmo+SP6Svod/L/8e/3h/84ASgQ5BtIHqwqQCwgNbA5BEI8SQxMeFQ4VvxRHFVgUVhR3E5wSZRJWESQR8g/vDgQO3wvOCp8JlQnbCHAH4AaEBbMFgwWpBKsEDwMDA2kCqgHmAfUA4wBkAPP/SQBN/6j+WP6L/cf8mvzz/PL8c/1E/lf+4/4F/zL/nP9P/67/9/+nAXgC7wJtAxUDpgPRA+QD7QPRA2QD6AKaAg4ChAG7/8j+Jv4S/Y78gvv0+sb51fjt+On4uvhf+Jf41/jH+OD4wfiG+XP6aPoN+x78LfxF/Zv9RP78/mL/8//Z/7X/Gf/Q/hf/2/7+/uL+SP6d/Un9Svzt+hr6CPki+Lj3ffei98v3X/dD9+X2dvaL9Vr1s/W59Wv2qvaL9yj40vgH+cn49PgA+eT4Q/m7+aP6rvst/FT9f/4Z/9b/1QDEAZoC4AKfA2oEGAW/BasGawcCCGkIUAnjCVYKrgrfCjkLiQsPC10M6gw3DV4N1AztDN8MUgztC74L0QsBC9EK2gobC3sLmwqLChkKcAnlCDQIxQdKB5gGVwbUBZIFdgYJBq0EeQT4A3IDmQKbAX8BLQLbAUQBpQD8/wL/Pf6z/Uz97PwE/Ob6Y/oM+kn5wvgK+ML3Ive29hD2HPXK9Jf0MPTv8xD0nfTH9N70NPVr9cL13/QH9b315/Wm9WH1OfWI9d/12vU19gz3yfbW9ir3i/cT+Gz45viQ+W76+/qL+038Bv0Y/r7+sv5w/mH+AP9W/2f/WgBMAYEBDQL7AMUBRwKFAVUB6wFiA6gEegTmBRMHMwgyCGEInAmRCmwLxQuyC6ILpgvoC+ULRwzSDIQM/Qu/CpsKiwrfCVAJRwmHCQ4J1whCCBEIOgfOBlcGOAb1BbwFywXQBUwGXAWpBAMFVwQrBJMCJAL1AQUBpQDI/60AGQBn/wn/AP/b/jn+F/6R/tz/Kv/m/SD+N//r/l7+NP5u/QT/V/41/PL8N/6i/Wb7sPsF/Gb7T/pN+S36AftP+Uj4nvjq+A34Yvjy9xz5YPl89xv3ifgm+XD3efZe90z4S/hL97L3Z/k5+Lr3yPd/91z48vdN9wj5y/n2+DH4dPk3+wz86flh+lD9Av5I/S/+kv/J/iv/2/4j/xMBHQFVAJcASAEtAXsBbgEqARED2wJUAu8DkQRqBGcDxwNOBoQGiQV1Be8H4wdpB3oIwAntCdsIVgmzCEEJYwl9CF8IjQh2CAsIkAdxBzwHagcACDEHaQdWCDcHPwYLBtoFgAarBnkGvwYOBhMFqAQiAwED/wMBBFwDogJMAn0CpAE9AMr/OwA7/9L+x/1I/on9lvyO+zT8sfs/+2L6pPoI+/P5fvhA+GD58fk6+GH38/g6+Wv4tPiN+Nr5I/m89wv+8foR9ePz1Poh/cv4VvfP+RL6SPeN+Vf5gvfn+Yn6Jfqz+fr6x/rn+If8KP9A+5v4Ef1t/1H/qPem/VMAcwBeAov/3vwk/LkCjQGqAewAGACgAW8ApwOkAqAAewFVAlUEyAIXAnYH/APR/50CAgg7BHIEmAPqBJkF4AXXBHcFKgaCBD0FbQb/A98G2wpyCKQDJAS2COAHcgYNBBIGqQcmBXIE8AbgA7sENQQ+BD0DTgV0BOIDkgJlAOsBCARqBPAFpf4V/wAFngXfAhT/JwLo/5oAOATxAXYBwv6d/PwBPgPz/v/5FAA5Aen+Af5I+zMAmwCs/bv6xvq/ALP9b/w++5D+nf6S+C76gP+E/VP68fhu/iYDbPvW8/L55f2Z+633bfna/5X67fcj9yP8W/3l92H1W/fK/eD8sPmO9ab7qP049CX2lfyj/Qz6cfMh+XcAcvtu+Br92PzR+jX83f+k/b79uP2c/S76WwDtAwP/swCBAOoCjgE7AbgA8QPzBLv/TQTIA94GTAd2AWcEAwfDBvkFtgdZBtgE6AZpChAKcwZkBFwJMAl1CbEGqQJLCScMnQqT/xIGgw2PCOYFfgbwCN0GUgdICAEI6QZMA10HWwV1CB8FOwPNA1cF/watA1D/7AAHBV4AkQDzAUr9mf/n/7z/NP9b+zMBzgDL+2D5g/twARn8pflk/LH9OPy1+Uv54ffr/CX6j/Kh91T6n/ed9qL1x/c8+Jv0DvYQ94P6z/OA9kX6JviD+En2P/p2+Tv7+fmu9Tn7rP1/+q70Xfax/Fn9jPfQ+Of9GPth+JT6xP9y+8j+6Pyl+foAA//y/lT9LQEvBKgAff4QARUGGASZAicBDwNsBmQDkgZgA5kB9wVOB68FUgRFBr0EeAYqCOMGRAStBPEGXQYdB/MIGwmVCPgB7wTDBxYIlAdfASsFwgnQCewDSwAcBOcHVgjKBGsCRwLTAg4GrAIw/4EBCAOBA8/+xAB9AQYFRQHU/Vj+/v+8An8BpP3l+zP+bQEmADb97P3L/7f/RP7K91b9oAJX+2r5d/eX/jACyv1C+nj3VPpu/uT/4/qa+Zn5sfh0/HD9Mf47/dL39P2H/Wv50fzv/Rf7mvel+uz8Uv9L/gz+KPss+df4IwFn/qz8h/nc9976UP/u/+X7jvo+/OH9jQJD/L3+Q/5K/Qn7QPr//6oDwP+q/iH/KwA4/1YCpgIo/7n8jAFeAUcCNQG3ACkAqQCHAg0FKQRNBGMDD/1R/a0F6gd7BfD/DgFwBlsHHga1BPIB/QESBO8DJgVLBeEFPwTX/ywEPwc/CYcD6QHzA+0ExQEdBJoFRgRhAlMD7QR8BWAFBwZrAjUAsQI+BXsEnQQdAY37CwBJBRgIowbn+jD8PQFGAUAChv/u/hMBo/41+8r+qgFmANz8KvvL/Df/TP8U/O35jfi5+s/9If9Z/fT7YPwY+AL6vfwk/V37o/pI+Fj8z/0W/Cj5Kvii+M38pwA1+136svs8+UT6cPxr/ZL7pfsnAPj+5PxO/MYAaf4r+jf91f/lAc//BP9W+9v+NQNSACz+S/4EApEB8gGm/4IAsQEb/XL/FwOSBMkCSgDUAH8CdwNrAlMBpf+5AXgDBARJBNwDvQLq//0CgQM4Be4DBgIm/9EA+QSYA8cCxgKxAUUCYgGhA84FGQOzABYBkAGuBCUEzgE7AJkAqQJsAmQAov9tAakAbwDh/zkACP/m/t//l/4z/6b/BgDh/LT/qf6P/2sDQ/9g/NL8v/9fAlIAyP4//gf/S/1R/an+pf9LAB77RPx0/RsBlAFT/PH76/vM/okAof73AH4BPgFs/uj+Jv+SAdkC9P+G//gBMgOvAogAmgC1/6v9FAEUBF4EBf55/ar/SQGd/cH9mf9mAEAEUwFO/f37C/08/439zv4UAXMDkQBL/UX9vP3IACIBFAEBADMAbwGBAOr+X/5NABUAhv6//iUBrQOZAK7+T/1k/90CKwInAMP9JAD7AQABXv7m/aoAdANE/6n8UP5CAawDzQAL/pj9Vv+AANoAjf/W/pUAEAF8/4z/wf1//un/FwDf/0QAdQFZAAX/cP48/9b/IwCwAdAAuf8//vj+cP5W/0z/Sfwo/kMBAgNgAosAwP38/osBpgJNBUIDQwOLA+gDwAQUBRIDiwGHBIMFqQQqA+IAtAGoAegAxPyw/1sAsv41/lD8Hv7N/+z+dvw/+zD8k/7A/qb9k/zy/X/+s/5N/ij+N/5d/+v+AwBQAlsBhP/C/6H/AAFMAID+df8NAdgAU/6j/l7+Af6N/ar87P4m/5gBEgEU/77/J/7cAaD/pACBAXYCSAKLAQcBdgFDAJv/UgF0AkECmwDT/9H+2v5x/1H+Kf8w/6f/3v+k/T/9P/4L/xL92/tw+2P+SQH+ACb9pv1b/2IAYwAO/r/+mwNyBUYCAf+3/oYBugHGAJMA6wEgAvf/uP/4/qT8Jv1q/oj9Uv5w/xIAm/2G/bn8o/6bAJD+8f65/yEANQGVAJf/BwEzAoMC7gA+AY4BuQOCAiABLgE4AkQDrQODAu0AeAFhAlIBVAEfAIkA1wF8AbIAIgEsARMCHQIbAKj/jgEcBTwDlAH4AYECUwIdAbUAdwFPAYcC9AFRAMH+zv7P/pf94/xv/Tf+S/57/Rf9gP1Z/Wr84/zf/Y3+OgCYAHsAhwD9/Kr9eP5f/ub+r/9m/cr8kPtR+/f7wPrJ+TH5o/l6+KL33fft94H5ivoE+sX9Ef+AAj8D2f8RABsFlgraDPsNfQ8HEegOoQzwC48MxQxGC7AIuwcBBQsDbACZ/lgAU/9l/TP6A/qH+Yb4+Pm3+7r8GPsX/In96/0R/S39xf8aAK0ACQEqA/QDiwHS/3P+p/8NAuQCiAIUAJD9m/sj+in6C/uh+hb6SvoR+9D7EPqU+XT6C/vq/XP/ogG4A88E5wRSBIAEXgUYBiUH0QZpB74FQAOCARsB0/41/R7+q/6n/Zn8q/pv+hf69vj++lr8Xf2//lP/GP8g/0n//v+cAd8CdQNrBbwIGQgjCFkG6QW9BSwG9wgjCUEHiQXdAlMCrQG1AZYALv8q/n/9sfzz+t74C/pt+5v6k/qL+kX7vfsB/Br90/3J/cT8E/4U/83+tP6t/58A9v/m/c38xv6n/hn9lv2H/rYANABH/7z+8/6M/37+/P5//zEAawDO/x4A4v9XABYC+gLcAkcC6wF6AkgC9wHWA0AGvgUdBtUEbwNbAvABvgHWAcEBpAH2AOH/5f0K/dP8o/1S+037KwD8/lf96/v++yP9Z/3l/8UAbQHOABEAGwFjAKoACQH9/S3+Uv0b+0n7tfi1+Yv5d/v0+sb0qvG37030k/g7/cIBzwLqAo0A4fvN/DIC/QhLEsYV6BZdFbsQnQ1nC1sKWA8PD2oNEAvMBusERwEs/lX95vuH/Z39avzk+tj3wPh19033W/h0+okAMQDh/JL9vf2S/pEAxQGgBLwCSAAdAfYBRQEUAhMCiP7V/l38jPug+rn4bPmu9xL4vvbz9Qf4L/re/er9o/yF/HL9Fv9GAs8G8wllCI4FQAZRBk0FHAenB+4HLQYoA30CzP+G/g391f4sAA0AyPsJ/On9ufpG+8D9cgDTADQApgL2AQgBRQGhAAcBRgGPBL4FMAVsBdAEnwSRBLkDggT1A04DhwKnAoABNQDKAHn9tvwg/JD8lvrt+Vb7YPtO++36TvtX/NH8uf2G/zUAZP9l/0wBDv8V/7kAnv+N/B3+T/4b/Rb+iP7P+vn5Pvun/ED89/kl/Ir9tP7d/Fn8xPy0+4/8GP8hAIL//v9v/Wr9vf9G/68AIP9+AGcAIAFkBBEEAAdaBswCGwOoAtsCmwZcBisDJQGFAEsAm//P/ogA0ABDAhgDzgJ2AkIBNwLMA6UBIQIXBqEE+wLGAecBjgFAAHP/8v//ACoCCgIQALL+rv99/5wAXgH0AUUCqP/t/7H/Of9V/4H/Wf60/RoA/wBl//7/z/+q/kf+3/wR/+D/8gARAd0AzwC+/5IA7f9SAOAAGf8F/wAAFgCW/nb+MP/Y+6n5u/uq/cD/cP96/SL8Eft3+ob6Uvyt/U/+0v3r/R7+Ef+E/0X/rfqU+2L/x/6i/+T/Nf7s/jb+ifzp/YH8DPw2/Cj8Pv2D/E783v0s/m3+zQNYCOwGOAZdBocIbwq7CW8MggxPC3ALcwpOCQMIbghAB50EtQUUBU0D7wJqANj/v/5U/9MAnf6U/dX+Xf/Q/+H7Nfx8/If4f/m4/gYAqgGo/179TPwx/ND9w/3y/YX+6v7z/7H+PABE/1T87vyE+UX6N/85ALf9Av1Y/JX7PPvH+2P+yAAIAKwBfAGCALgA7wAEAdQABwPxA0EC//92ANb+UvyM/uv+gP+t/n38z/6Y/m79Cv+u/sb+Hv5tACUAvf71/rb/YACD/8f/igJ8AsQApQNEBOEBqAGFAnYErgIhAsYDSgTjA+UBiwFGATf/N/7u/Lr9VP0P/Hb8nv0V/RH8GPyv+qv69Pln+z3+bv4Y/dv86/ya/UD9lvz0+ZD6/vxt/Q79CP91/+/40PX/+E/6Zvt/+4D8pfzj/Yn+2/7dAf8BwQEKAq7/8QHcBRcJuQr/CQYIdgZbBugHKgniCxgNegpDCLwHHQUPBGUH4QbqBHMCiQFOAFYAcgT6ArABDwHC/nT9pv34/xsBtv1G/m0AYv8C/83+jf43/nD9HP96AL8B1gFoAT8BgwBu/7T/hv6uAOkDbgXIAjb/I/7b/0j/4P4yAq4CHwAxAN/+Rf9z/+P/Uv8m/t/9t/7g/hv/8P+2/pX7pPub+jL8+fw1/dL92fzG+jn59Pbc9aT3vfdu+Z/7yvng+Ez6+vpu+Qz7mvvR+7/7tP3//hz9LfyN/cv+7f4QAO8BiwJ1AbUClgN4A5kFQwVaBKgEHgRyAqACUgMJA7sEeAO9/97/8AMGAxMCogMwAygCngRSBZMEVwWtBeoFMgTgBUMHpgb3BeUFogb3BM0DHQNQBBoFpgSPAzECTwPUAzcDAQLDAWMAlf/p/wcBov9k/lD9Tv69/mn9xf4n/p79dv7gAQACLgAAAHAAQv88//cAfAGb/3wAWwHQ/0370vpB/ZX8VPtk/MX7nvwh/Q/8h/o/+vr6gPt8+xf93f2z/Ff66vo2+4P6dPz1/Hb6KPtl/vf8HvyG/BL8kPsI/tf/4P2s/Kr9t/5V/Jv80P40/ir+xf6R/m3/vP7d/0YCjwKFAnoCywClAXQEDgacBNkA4gDVAwwDwgENAYIBlgF9ArUB9ACfAG4BSv8s/6QBlAK6A+wBYf+Q/3j9Rf/+AGL+rwDCA/UA4gDZAJwBeP8RAAQCewLGBHoD3QDjAH8BlQD7AVwBiADjAMYBDAUHBCsB6wAJAhADIgUnBbQDxgRTA2ABSgFyAzIE3wHjAAQD1wI6A/wE5wNLAygDhgJNAcsAawFPBMoCTP+QACj/+v0H/qb+MQAL/pT8/f7K/VT9of2F/Un+mf6h/kX+mP3q/SX+n/3j/X/8OPxW/Ur+zf0f/Yf8hvtG/I3+xv3F+EX7IP8X/+T81P5vACj+Pf3X/mz+iP2h/VL9avue/Pn9Yf4K/Q7+gf6Q/i7+Ev8D/8785v7a/5YAUwCcANIA+wBrAOUBOgLsAF8AWQHeAQwBKwHfAUEAuQCaATYAcABbAasA/v9EAZECsgHWAIwB+wR8BhgGnwQaA5MDgwPBAw0ETQRxAhMAvgFoBKMFHAKkAd8CEANhAiAFMgegAowBNwJbAkABUAGzAU4C4ABZAXIE5QJUAP7/HgG+/0wADwJ1Aaz/CAD1ABf9cv7O/5L/uP+z/8n/5wARAI0Avv34/Pz+Hfv3/Gj/lv9p/tz78fyK/Cr8Ef3i/mf9Jf6aAPT9p/zB/Yf98vt5/BL+wv2a+xv9Dv6p/Rz9gPxx/aH9D/1i/XD8xPn++VD74vyy+5f6Gv1V/hb6Rfs8/hr9tvxp/Wr+8/0+/W//CAAN/9T+jv+LAPL97v2e/Qf/lv/Y/7oAG//U/0IAHwLCAk4CNAFcALH+zwA/AdQA5AEqA+YCkAKkBcoDbf9LAJMCggKoA9AF7wNwAhgDkwQiBSwEegW2BDoFAAcrBnsCav+ZAaEB7wHWBPIEPAK1Ar0CTP90/zgBJgKn/m0BQAWhBTkD/QOXAzQBVAIMAVEDTgKn/1n/YgHOANj/ywBQAd//1f7PA7cBRf7t++D8c/5u/QT/5v1a/f7+N/+m/pH8yfr2/MX93/5T/8X96P5g/5b8d/42/RH6f/xy/f79rP1K/KL8wvpm+ob8l/97/wX9oPgo/Gj++v0I/Iv71vx6/MX99f3+/UD+YP1y/ET6qv4EACH/uf/qALwA0P/N/sL9JwB3/u7/FADqAJUAl/9T/xz+PP/j/zwAbQJjAr7/GALVA1YCMgDkAKQCsgbiBG4CxwNwA2IC/gBFAhEBegH7ABsAfATMBh4FXQLgAY8CQQIOAr4CzwN7Aw0DcwTEBi8E9AHQ/vv+VQCTAfABAwSgAv//WgLK/1X/6/7X/7gCUgNrAiEBy/49/Bz9RwI/Aev/yQAlAC/9W/7I//P9nf3O+/f8P/1D/ff9FP5d/s39iv5u/yv/Uf0R/xf+cv64/ZD+vPzc/YL/7P6P/hz7K/28+/D7KAAnAdL98fwk/5b9WwAL/Tv6gfzD/hn+Y/39/bj7Z/xd/Mf8E/xR/fr/OQHr/+/+SP8IAPUA8v0iACsFHwPXAV7/JP9U/2L9sfzy/D786P47AxgCTAFYAFX/zv/Z+Rf87wB+AVYCIQU1AssB/QLVAqYAav8CBEAG+gRRAuQEvwJYAFcDDwNNATEBfATtBGQDEv9CAPD96foD/8AADgQEBF4EGQROA1YBPv9J/tX+4AB0A0sG7AYpBVAEGQLg/7EAUQBCAmcDTATJBNEDwQI/ANj9yvxm/hYBlAB9AHEAJv+Q/Bj99fzm/uf+JP4E/48BVgGt/eT98/6e+9H8Rv5C/VL+uf5RAWUBlwLmACL9ofxq+tH+8v6Y/tP/sACxAer/u/1d+1D4n/m1+bb6HfxZ+o/83vr8+//6r/sO/W/7pv/Q/7D/A/8U/hL/nf2z/XX/x/+w/4z8zfxu/1YExABi/Er84v7o/B38cwBg/zP/0AJTAm8AXf7L/nD9jfx5/TICKAIrAPEBTAMBBIECZAKPAFMAYQR0BFQE7wVuAoADHQRfA9oEuQQ4BFMBGANNBPcAjf0VAfL/GAH5AjQFVgKV/XsFWAVrAdr/NgCO/oX+SgGnAnAEXwQbAtX/CgTaAlACqwCsAUMEFwLVAmQBSf6P/Mr/Tf6Z/PD7JP1Y/4X+2P1g/p/80ftV/ov9Jv7h/tP80fyz/tr+1f2t/mv7ov3e/iL9avi6+osCOP9M/Yn+Kv+b/XH/iP+A/jb96v0qAKT/g/4qAMj+5vte/oL+gv24/GYA8f9s/Xv/t/9LAEv/kwARAxf/SAA/AaIAJf53/KYD5QRzAPAD2ABC/d0ABwKFAzIDAwNJBSIFdwQzAvr8gvp2/S4AyQAoAhYEBAUzAVf+NAHb/7n99v8FAl0HOAflBM8E/QOpAb3/wwETAIX/CwFeAmMEggQXA+MAQf8u/tH9XABeAmsDHwQVA88DRAH+/Iz8ZP03/tIA7AHgAej/u//s/H374fwh/Zj+SAGFApcDkgRWAnn/PQA5/Zj/tQHf+tv+yv52+9/6t/5J/pn8Hv7bAA//2/vy/I4AY/4jAUv/Zvqz+/v7M/yb/Nz+bv7v/20GLQGa+kL75ABn/dX+VgS3AUH8+v9dBKT+A/2E/ykAJP4o/v8AR/21+t78wP53/vr/W/+A/9P/yv+1AI8DXwA9/RED+AOKASz98f5H/vr/5f94A9gD+ACuAJEAEwPnAKj+OQFF/xT/Cv3V/DEAz/9TARz/HPwa+nf9ngKjBO0HRwcOB4QFvwQzAGf+xwD3/1ABAwGV/Y761vt5/MH7b/sd/lcBpQL3BZIF5AUIBt8FlQbzBegBrQEXAD/8C/23/KD6pPnh+dz2Avff+Zr6HPz5/VMCBwEsA00G4AXpAPQBrwCi/9kBjwN6+lP1hvoa/F36yPsXANv6LPhE/cAAvQFiAosFewVHA/4GUQKI//IC8wNuAMf/aQFPAPD8Wf76A5n/hANIBj8H0QYPA58GkQk0BwgDTQLrAX79h/3K//H+f/mA/ND/Zvz5+CL84fx29Uf5/gBr/+P9DgBX/2j9b/uz+2f2qPlz/gz/SQOOAED5TvoF/kf9KP6CAMQFSgY4BHAHaQWx/+3/TwXPAkn+igD6BMwABARYBokCvP1o/AMA3vr7/hsC6wCnAn0B/P5uACQAm/l6/RL/ZgNGBBMFtQTEAFb/SgBD+/79IgdqAnf/RP7T/2L7XPtEAiQA/vyK/28CwP3q/UUAcv+x/g4CHwfZAKD+B/4oAoEDXQWNBY0FFAjcBWMHIQRrAkgAsACEBHQE+wRNAmIAIPza+wr9hv0m/OP3aftq/Bb+aAIxAF/7YfvZ+hb4aPsp+sf5UPyb/F/+lwAx/NHyl/dG+Sj4Tflh9XABdwSC/vf/tv2y8nT4T/1J/ZT+8f0IAfL8MQOaAvT7P/jM+13/RPzJ/UgBSf+i/K7/agNkBP0A9f/wAw0DrQViB64EdgL9BE0Cbvow/Nn6gANtA8P92gKCAkkCjgAXAU8BQ/tD/wwGlgEm/XH+LQBhABv/hQFVAaD/kQCkAZIC6//dA90HUwkXCs8L0ww0CJ8GiwcDB7gGCwRbBOYGfgbsAhoA4P+//KX+nQAC/mT/Kf+H/WH+YgG1/kz7ZfwNAx0JYQRwBs0IMgaBA+wFZQMp9mH4jf7J/VH9yf7Z/pAAlf7D/rn85Px993v4v//QAyYBqP6W/d34r/47B6YAMf3Z+xL+CwEzAikKeQbM+2T7PAJgBtYAHf8uALn+dwJvAVoAO/1u+rT9zf5u/Cz9R/7o/sz+zvx++2T5+vhp9Ir8gPvf+lr7NP4BBKUCkQMZ/jL+z/4nAEsAFwFcAD/9BgVLCnUF5wC2AwgAaQHLAWT9RQFh/TT+iwFgAtkA/ve99s/5Av9OAyIAfPro/Dr/PAEOAvL+VwGnAokDHwXdCd8EM/0N/cYA0wGp+m0B3wZh/pD9lAB/AWr/Efuf/fT/A/wK+or71vtt+L37lPkVARwDD/8T/E79s/zM/qQD0QEB/+L9OgA7Az8DTgJBAb4BYgAEA6cDvAGX/bT9zv7Y/M77+/19/gX4CvxHAcYCjf97/q3/xAF2Bt4BmAFG/04BrAGZARUFvf/d/fP+OwRbBKgAlP4u/TD++wNaBKMBNwIt/iz9igG4A3sDKQAL/N39iwJMB7YDkv4/BEgCZfwYAEAFzgDG9+P5QgAB+/r7swfUArj//gVoA3n+Jv2oAhX/Kfkx/DIAawd+AjwC6gVwBPAAjgESBT8CCwFPA0gEGgFGAuoBBv63/uP+t/yM+SX6o/5mAgAAjwLfApP7DvyQ+1n+9f09/PkB/wBNAXsAVvr2+/8AcQMcAv4EfwOzAC8HKAWoA5L/HgGd/5n9/gPmAtz9i/5h/JH4Jfwp/rD+OfsZ+sf/5QEkBdQFiQAN/W3+mQCqAmYAO/9XANwD6wNP/xcDfwnlA0n94QO4BBL8Yf5fAJr6/Pjo/8sCowDs/NT9J/xE9yL7gP5d/hQALv7d/yv/Tf5q/qn/Yv5p/0UG2gKz/7j7w/+AA1ABIP/Y/H0CZgFGBL8DOwEpAK7/+fuQAOsCrQJTAeEBUAEI/Lb7NPrX95D2ovp0/hz/5gON/sEBfAY3A3gDqf84/uT7t/3ZBDQKAwQXAQYFcAC0/iwChQLr/Vj/cAV//+P+kv+i+fn7JvaE9nT7l/oe/BD/tf+6+pH7CwDu/o0GEgMwAbT95f+LCpkFCgf1BFEC+fxa/mkGoASKAYgCOgi0Aq8AAwNE/+78wPd/+YD8rP1xABz9Sfyg/Ur3g/6K/U/69PsX/6YBNAJ+BKYCWgHt/8sHKQkPBREIIgccAz/8kQF0AHL/tQMWBKICMv6x/Rr+n/pD9/z4NvkI97v3P/uR/tYBHgFUAOb/FQDpAKkAVAFNA78CNwTQBcQH/QRxBKADswKOAM79ov+BAFr/VP4s/0z9Vf+M/xsAQvtD/G36T/xN/AD80wKxARMCngBZ/+783/sP+tT8vgGxCW8FfANQBGgCJge4CwkHWAMlBREEyAeUBKAA0P5o+038oPmQ/iH9KvZM/fz/Mf7Y/dn/Mfa49+H9vwFQAE7+HQb+A/D+rv9eAp/9KwIcCQEGagKzBI0FXP5k///9mfVK/IUCZ/3h80j75fk896b6UAEyArr1PPzkA6UAZv54/kb+RQIYAqL/JAQpAuID7gU9A0ECbACMA5IKfwbjBZ8L6P6r/CwEoQIO/fX/mQV5/8H8oveN/bz9XvnW/YT89v+JBGwFMgC39oH5Z/xZ9uP9n/9GBlwDbAbOC9EETAW4AsEAtv+zAroHkwMDBakDKvjo+fL6w/fD8zL6Mv9C+Yv4ZwG0Ctb+k/5HAKP2F/23B2MDM//lAcIDn/vo/a4EyQNDBrAIxwQAACD/JgEDAcv9UPyE/5T9vvlr/IH+jf0q+Qf8HgLD/xD+NgIc/+Hzn/U5+E35MvyAAh0Hwv9dABQJCgbA/VT9+gHIAkUCeQ7gDdkCUgSdBN7+ovtk/LX9rf3zAV0CU//q/dD/xv8f/3r6bfuF/MMBxAGuAh7+wQCw/jEAKwWI/iEFyQbMBd4D4fwG+bT8KP4r/lgDQ/xT+dr8mf9x/iUAYP71ABH+kP5FA7v9Av2TAcYBaAPNAMgE7QWl/yoCKgA4/PX+zP8y/lYB8/7J/9UEZACM+2oA9f0Y/y8Blv/b/Kr9HgMdBHMEnwf0BL8E1QA+/578Sf9u/Iz5pv9I/8H9R/y8/3T9M/zdA/T9Dv8//+D+V/6v+04C/gQHBLUNnQS7/iABAAJ6Ao//8P83/rP7HwDuAX3+SwLrASX/Nf1yAJwAPf4YBZkBkPoI+6YC6wJgAToC2gGB+6X9b/vo+G38IAG6AMcCaQZFAPX/2fzW/hoAfwBo/YT9Jf4T+nn8SQAxAs0DLf6wB0wNdAEr/RgD6f0/9JH4Nfgx9P7+sgNfAloFCAMw//399f2c/ZUFzgLS+iIIYQbUAWQAFP52+jL5hgGeBTUNsAbmAYD+Afw0/c39Z/6D/rMBwf1g+/39lf7JBLH85vmHACgClgZoBUUBXP1P/3j+1v+TAOb/NQAwAFT/KABIBCsGNweSARP/ngL4BAYBV//DAgoAEwNTAdz40frZAo/9HPoF/rL7Xv59A0QBvvbY+pP/1/wDAbUCRgMaAUr+aAI3ASoAcADz/8X6LPp5AOgAfQFwAeD7QPyW/18AeP9HASP7vfmBA/0DtgJ0Aur/g/pR/dwDUQGpAIUErgbKBVQCqv5F/Z782P3V/igAzf8+ATIEGQexBP4AiPyR/uwFEwQ7AAAAJfrv/bQEWf0c/GX/CQB2+vn58gHsAX38E/9i/1j7ov9UB7QBaAElAFIGbgX+/80Blf0b9+z48wGSAUIFXgRf/6751QBN/+3+GP5N91IAXAd1DkILagOB+6zyq/evAW0IzAkwBgICvwN+/0X82/r9/3D+zAEv/bn6i/iz9E/6W/82AFT+vgGYAkEB0AGdAOf//P7bAYsFQv5f+oz+avuPAWQMcQpFBv/3F/RK+d3+MgGL/WP7wgLOCWMEnfuR+8L/4ADXAYYAUPy//wECVQYfAST/UwJ6AeUIWQNOAMEBUgBr/qv+3P3N87j/BQIV92D4Bf5s/64AiAMmAagAQvxA/uUAigWkBAYEVwEj+9X9FQSCARf/U/9M/k4ExAejAob9y/jk+qT+2ASHB9ID4/b++ov+PAAoBdEDVP9B+0H9t/tG/vn8PP8aAq8AFgEi/RT5HvgX/pQGWwNyBMQKqwWM/h8BmQC7+2z8jvqe+kf9vv4y9nj30vtu/40A6v7M/i8BXAmMBD0Dtf7uA+4F3f+EA6wC3AA0A6gNbQpC/Lf9hwFj/FX/U/5H/ZAFhALR/wcCS/2i+6H6E/ZH+PAKoxR9Chz86vPs+yQAKv6WAooEnAG7+hQBx/8U/0wAqP5YATIC/wJZBa0Fov+vANABagNY/zf2Svcu+/X9jgKjAjkB7v/4/DX6xvrI+uH9SArhA1UCbgacA3YB0fr//d0DqQV//+/+Sv5yAan/g/4MANMCmfqG+70EegaSAer7UPvy/G3+/wGWAJz5h/dJ/+oAeAasBZv7Gvc6+UcBUgOnAqAACgFSBA4CBQLXAtj+SQT+BOYAFwA+/7wA8gEdBrQGrAY5A/D/pP6s/TsBwf98/pP55fsG/LX93/4x+5v+EP/E/PAAnQArAMMBU/4U/7MAkgCJ/1wBpv8uAcP/APtA/2f/1/4RBdYCnv8gAlMBf/9/AMb9bfsr+pL8CP6J/NYA9wRwBJIB9PvuAK0ESQSC+wn61/3vAiQJmwIV/n79CPwRAGQKYQoJBJr/Qvt9/o4DAwGdAMn+Yvr9/U4GrgRT/IL53/3a+kD/TgEi/57+5wDCAW37Bvw3/ff3dPm09V/8egEUBWUG/gCFAuoDBgPO/D79KgMhBZQCkQDn/w0FD//b/ZYBogEtA/QBDAMjApj9TP3e/xb7ZPnU/EkCrP51+lH+OP75/ygB7ADl+u/1cwHICQUAOv9aAyUACwDoAOr+4vtC/Jz+6wD5ADcEDgYWBNAAqQCHAGIBzf8UBYf9aPc5/MkAhwR0A+ECHPa59GT/kQKpA28E5wRXAz4H3ARXBd4DmQHdA9UCFgPNBN8EtgJ3/iX+mv7x/qj+4/yz/dv/ePwU+9H8dfZY+QD4/feG+6/7Pf3a/in+lf8g/zH+3wh1Bu0DDwQlAUf+mAB8Aa76fvu6/zEDewGABocHkwOF/X77TQcoAwv75P/I/nb/ovwh+wv8tPwd/sUBxQIi/EwAtQQ1AhsAaATeAOQAgQP3BtQDtv9eAacDegT7AbYC/ATRAKr9mgEu/wP4KPs2+rn15Pg//4gAtPeU9w39Of4oAdAEfAAOADYAo/3EBz0JqwWbBOIBEf7RAGkDuQX4BIX+ivx3AAIBlPs2/rAAnfzt/4EBkgNXAQr7A/1e/QsA4P9//8sAFgDM/ZD8wgCB+sX8NQPXAWcAvQC7Ae0DfgVeBB8BrP+R/GD74/tC/mwCzf/h/xn/CPpp/Dj/3P8X+5v8XwODAc7/Tf6i9+H54PwCAXAGUggkAyQGVgJL/l0EnQOoAe/9FgNRA1ADqwFtA2oBw/9iBCgBP/5XALgBevrX+Jv+tQCoADf90P1y+Ub87P8Y/Yf+zP9FANcAIwPZAR4AOP3R/ej+dvzS/lEFQwFzAP0CAAK/ATX/Af58/ar9g/ft9uABiwDL/m0EgwReAB0B+wW5A/j8EfvD/rcAygTbBXAAsPozAvACtgKgACEDkf/G/pP/qgK2CFcDl/6pALUAsQLGBUoBkfvV95z2ifrl/RcF3gKG+yH8Qfvl/kX+QwAWAB/9Gf00BKwJaQYEA6YChQEIAbUBOP1+/0n/ZQDQ+6rzQ/oq/00FUAIXAGD7Mfq+/xICSwHM/+j/T/8e/jQFHwhfAZr/5QBDAYb93gGyAZcAJP4a/0QD5wEk/6/5VPtA/rYB9wAoAYgHigObAsL/v/2rADP/DPxH/GT5xf2A/wUB5/9S/Pr8kAKtBVgASf90AOL+ogETAW736ACpCpADuAUrA8v9EP0M+qP7Jv0f/lf/8QBzBJgAhgLQAJT+hP/E/hIFCQJTAc0FZQCyAjMANALp/7T7n/6b/WoADwJc/xr+Fv3w+zv+VwJcARv/RQHMBWwAwPiM+in+Ifo3/0MEhQG/Agj/4f4KAJgAlAEI/xX8qPylAF0CkwQgAIsCmwfZAQQA/gAbABr+If+q/4v9jP2sAJUBHQEi/XD7dfx0/s4Bd/8D/3v/EwHGBFUA8wI8Aq//sgK/AcoCX/yl/CkAtv4JA0f+Ufha/t//0/7i//T/WAAQAA395v3y/Db/qv4J/0cGzAAz/+QBqf9Y/zQEZgCF/iP+hvzG/rIBr/2/+vT/nv3NAnQJhAedBq0CH/+/+3oADwQM/578Q/59/sn9MQCKBRgAlvzrAD//Ef2qAJMCjgGiAJv+BQDp/E/9zP8CAUUA7/3FAUgC0wFq/9f7lQAABmACRwDTAFQA+/+bAbgBqv4z/3b+JALFAMX7tv/S/Tr6E/f4/Ln+K/yl/hT/KAEW/n7/OwO0BcoHdAOb/q8FKAJyAR8IEgFA/kP/7P9zBSwBCABd/R386/1O/En/2v4L/k37bvwqAI3/bf78/3oAzf52/m0APQJwAvwAVQBP/0oBMQEZAQQB+QLNAub/yQXCAlEA5//f/OL4nvtG/2n+Zv2c/T//Z/5+/Zz+5wTeAR7+wfsZ/JL8R//iBHcBh//MASAMzQVTATIBMgESAQv/UgVZApr/zv/4APX9p/eF/2MB7fgE/Ur9ZAHOAtv/bAC2/u39Nv+tA9P8xv4lAYf94f/xAVoCHwDc/un/8ACpABIDzAOZAa78WP2p/Ob7qf03BMQCrAARBnUEz/+w/ysFVAC3+vj8aP+xAMkAG/4x/kz5m/6sAVIDVAHM/3wAM/8N/zwBwgJU/8r+JvzYAIMFuwPFARb/B/76/kMLQQbN/uL7t/ji/I3+jP5a/Sz8sPrF+4f9CANoAfD9S/xzABAC7QLJAef/PPxa/QgEnwZLAYIANf9S/xYC9gEkAn//MP7FAvgC2v5e/1n+r/x9/Jf71/0Z+w/71QAiBHoDtQI9ALYBpQAABPYDjf2a+wv+D//TAb0HEwTP/4UAPQIdAKH/sQCs/3L9zPwEAhQD1ACw/CT9gfxc/eECJQBq/hz8A/sV/l0ARQL7BTwDxf9fAm4DIgGA/2sAAv5S/b39OQCNAEf+mvy4AfoEY/82/+0BnQPm/A/+YgKfAKn+oACMA/H/8v35/wwB6v8jABb/XPsn+yH9lwMpBdECxAC1/xz/GgAbASEAD/zp/Cn9vAEwBasBK/7i/jwAQgF6/wf/D//3/sAAhgCZAvIAdv2S/XQAawFaAfH9PPhX/AEAjP/y/3MBWQJHBMoC9QEOATT/Wf5VAMn+KwI8AiP9RP0U/iP/NgTlART+Ov0YAMkBjP+t/zQAQ/9wAAwBNgJ0ADX/T/xf/wIBZgD1AnMCOAXG/IP8uv6QAL/7vPyfAagEbgPd/wABL/0A/lACKAN3/mz93AKYA10D4gOOAtYCTvwo+V39h/9J/iP+P/9NAGsByv9b/s/9RP9CAcwAHgKGA9EBugN+AXv/1f4XAX0ACAGpApL/bv5Y/rj9ovjT+QD+jADuAJYADQANAA/9gQAdAKr+zv9tACf/JgPlASYACgnzAPr6HQD1/uf9xv3E/8gAOQCK/3r+WQBhADz+XP9pAYwBeQCYAIb6WP5jAbEAmP9u+c3+xQOJBgkBZf7G/0f/VQK2A5oBbv+3Ap8ElwLxATsAof0UAMP/XvuO/4MBGQDJAJz98fw9/nb+rv/u/w//8/0D/93/1P18/SYB8gLmBt8CzwBnApQBPQFD/7f+5P7K/zb9vv05AH0AeQKRAYb+0/7e/ez+LwJd/sr7P/9tANcADQHz/aD9GP04/bEAPgKoAYoBPQNuAa0B1ALEBNABMAFhA/cBT/79/wj+fvnuADoBFfwA/oj+A/91/aT83f+xAoP/nv3tAgkAo/9tAxgBv/7nAIMCEv9k/oUAQAIzAT8A3P7A/kv+hwI+AEH6K/0v/ycA1AG0AeEC0ABS/n7/KQGxAML/WwBQAqIB3v9jALv+X/kQ/lYBIfte/bUBDv9D/ywDqgWyAVr/HAPW/038Xf/IAvgBrQBxAwQBg/7a/GMBawKn/8j+TQA/ATMAHP5a/Zj9oPxa/58CnAL3/Zz77f6X/tP+cQEiALP9MgEDAqYB0wBbAK8A5gAcAD3+6AIvBeEAwAIKAfb+5wGtAlEAKwAM/iT6b/6X/1L9HP/h/QH9JwCV/0z6QP5OANUB0wO3AqwAsAAdATUAOwSfBZEB4gCuAEL9cAAdAcX/Zv8aABgAFv4i/Zv9eP0e+Qj7Mf92AcEAywCT/6j+BQEAAvICKAJUAd//c/+8ACQA1P9OAcf/HQHTAhL+Sf9L/zEArATXAUwAV/9l/kf+IQJzAHT+RgLRAD380/+B/vb7Pv6s/0oAQgEs/0f9b/8jANL/wwJ+AuP+jf0lAYkBQwSiAngBDwD2/yIB5wBfAaD/Kf/4/Z39e/6nARMA+/0A/yz/nPym/8b/vP75ADEA3wAw/wj+IAGmAW7/RP97AS0ArwAEBO4DGwL7AIEAYf/xAJcBq/8y/0f/xf3r/N0BSgMp/977S/r3/UABtAHoADD9qvta/db/4gLPAOwAwf8B/y4AcAFBATsB8gBvAiYFQAJCAbUATP9a/mL/HP6c/moB6//Y/yUAuf5K/pv+dv3P/8T/y/78/7n93ftUADUC1vyH/5EG9QFYABcDDgE1/SkB5AWWAtQAqwEtAH/8g/+3An0Afv0C/f3+Zv5Z/o0AAv9//Kv/gQKJAVsAC/+w/In80ACSAf8BJQJOAH0A0AGPASUBHQC0/63/wwHJAH4A7f7B/e7/4gApALEAcQDz/Yf/Zf+N/0T/PwC5/hL8PgAoAYj/Tv7M/77/DQAO/4YA1QF+AEEBSgDiAF4B8QGfAdz/M/+g/UX+kf6q/3X//QCtAJv+JADRAXH/vP7s/pH8P/+6/r8ADgK9A4QCJQDb/sL8VP+yBHwDkgDBACD//wA4AV3+cv+p/6v9NwArAGj+twGoAFf/j/+NALAAWgEEAH38DACqAH8BwgFb/9z7H/3Z/gIBRgVWAzT/0/0q/S3+aQEGAND+YACrBCIBKf+wAAgAsP8uAIz/ZQEFAYL9DQB5AKX8kfyr/p792v2kAHgAfQBDAE0CewJtAUYAKAD4AAwAfgNLApP+H/4EAMkAL/9j/jb+HQB5/0b/Bv8Q/9wBYADB/4MA7P+X/yoBo/+q/iAAVv9b/xkB7QBCAGYA/QH8ASUA2v5nAMf/zP1N/yEBIgLqAej/1/9qADUARAFM/5H+VP/M/wX/0/8tAVv/4f6p/ab62f5uAIT/qv/FAHgB3wBuAesBLwDq/9n+kP8mAJ0BWwKm/27/Lv8o/2YARwHUAAT/Vf6o/bUARwOrAOT8TP7nAED/Gf9nAcwA8P4y/lEAOQGnAOUALv8u/q0AwwA/AagCaAJ2/3T/lv8W/0H/Yf98/1H/3AAlAAQByAEcATf++P2i/tP/JgOg/wv9Cv6K/ioAlALJAcr/Rv95/fP/gQM9ApUA2AAJ/xL/tgEZAab/5QICAHn9wv48/8L+MQBP/4r/DQKvADoAMQA/AGf+p/tn/WD+1AClAMAA2wA3APj+NABZAVEAQf+5/7cB/gE2AQYBLgD+/ur9Iv1J/qH/Q/8GAa8BwgHuAhsBDwFnAEj9sP0NAKD+3v5lANz+//9GAlUCIAEbAvMCGQAf/wT/3v4MAGj/UP1O/okApACw/mD/AQCW/nv8nf+AAisDvwKfAj0CcwGtAKP/t/2n/GP9P/9K/gT/MAF5/0P/Gv8EBWMEU//p/hMAKwBY/s/9kf4M/1MBPwE+ASgEegEr/Uv/HgAGAdoCrwDr/yT/DP/t/4/8iP6EALEA4QFHALP/5P7/ABoAIv+a/3D/M/+T/ugAxAHd/yv/YgByAOT/t/9oAX4A2QC9AaUBywHKAFD/+Pw1/mH+Kv8pAGP84/4RAfwAYAED///+jACEAMEBKwKH/+799P4MAMYAHQEsApgBEP+Y/n0AewGI//D/MQDd/on/cv+w/3T9BP5V/sL+wABi/i//FACVANwAcv8PAhgBuv+P/8n/4wA6AZ4AUgK5AMz/IP4T/X7+5f8BAa8ACP+L/wgBlQCxAQoBiABn/+L/LgAa/h7+oP6g/5sA5v+D/5r/3v+0/8r//QCkAR8BrwDzAJsBFwHXADEBwP7V/Rr/5v7M//MArAB5AOn/Vv+R/5P/nv7R/9D/l/8u/j39YP77/TgB+AIuArkCXgAO/73/EgGoAAAAiwBhAfcAYgEGAeb/Nf+Q/8b/+v+R/9H/IgDA/3sCEwJ8AVEAz/z8/Lz+lP+C/7X/qAB3/tr7xf7IAfQAIAH9AtcBLwF7ASoAfv+//Tn/OwAVAEwAOwBkAIH/1/5o/tv9xP6ZAWQDOgFj/04A9P7G/Dn+ggBOALT+bP7P/zEBDAKqAogA8f1O//8C0gK+AcL/Z/5n/9AAxwCy/0j/XP66AG4Ay/6DANkA7gCI/yT+K/5N/1z/r/4w/6f/LP/L/sb/Kv/6/+4AbwBgAHQANQB/AKkAvADDARUCMwF6AZ4B+//9/5sCIQGk/8H+s/2F/jf+1f2NAFgCpf8s/ab9MgBSAiAC6wDy/o3+tP/MADgBMAFNAT8BdP9U/tz/XgCWAOYA6f8WAEQBWwGU//n+y/+1/6T+hv6y/i8AKv/3/nH/X/+A/9z/ZQDTAFUAof6D/20Ar//MAL3/dP9LAXEB0v+u/ywBSAE3Av0AuP9XANf/f/9kAKIAaQAb/z/+yv5a/iQAUwGVACD/df+WAP3/E/+l/0z/6/7kACUCwABrALv/qP/1/zH/ggB/AcsA9f/3/z4ANgAmAAIAJ//3/iT/R/+z/1P/CgAQAdL/6/+eADcAcgBJAAoAZQAPAMz/Yv9i/rv9YP8kAC8AfAEkARwBLwC3/5X/DwBpAVEBXv5r/lgAkgDL/9T/DQCj/yj/iP8KAd0BygDc/zz/vP/B/7D/of+D/4L+Tv/3ALcAMQBd/+f+Av8CAH8ACwCX/xf/3P/+/yEBpgG8ABoAFf8n/xAAEQFMARkBwABM/0f+e/+RAJn/9v/O/2z/FP+B/xAAQwCX/3sAKwHg/63/6/86AAz/z/4hAFUBWgE6APgAnQDb/y0AC/6r/sEBQQHj//sAEALBAHz/Sf9D/nH/EQH6AJj/Cv/X/1gAsv8u/34ACgCF/l3/SgA7AMUAzQHtAd7/EP4u/90A6wDWAGYBrQDB/3AAHACO/0/+9P2C/5MAvQDu/+n++v4F/0r/vwDMAJ8ALADs/zcA7wAyAon/vP4U/m/+uAAcAdMAMAD/AeABNQADADoAGwCn/o/+gf9W/vX+RAB//8X/WwA9AFn/h/8DAC0ATgGEANr/1f/t/0b/7f9aAOT9n/58AEQB4gCOAMsBRwEJAPL/CgHT/hH+sv5G/0IAbv9B//P/q/9W/28BLAJWAC//VP9ZAIUACAC7ACgAKv5T//YAbgE9AVoBfgA0AAoAl/9LAB4A2gAhAJn/9P8p/yb+WP5H/8H/sABWAfIAwAC7/+f//f80/yUAYgEAAE7+uv+xAD0A5P9IAfEA9/5s/9UAEQFYARAA6P56/3z/8/8QAUQAM/8l/xEAwQD7/wAABAB0/on9fwCgAhcAv/6T/3D+of4IAAQByACKAGUAsABGAeb+m/5CAMMAxgAHAGUAGQAT//b+Yf8a/7j+JQD1AMAASf/6/TP+ZP8oAcEBsgDa/wYADwBOAIkALgAvACj/6v3L/4oCeAGDAKUAEQCs/8T/BADP//L9o/4MALX/7gAnAWH+UP5i/9n/2v/x/xMAJQAOAHcB3gGBAMP/Kv8+/tD/awFFAfH/Ff9p/8T/WwAJAksB0v7T/sb/B/8W/xQAQgDO/0YAowD0/xEA/v+9/9oAFwBx/q3+fAIFAr3/DwBjAFgAUP8fAM4B4wBn/8z/MgAVAO7/6P8T/3P9Zv7PAHAB5v/m/jH/o/8XALYAHQCUAPAAVgAQAYgB8AElAID+qf12/2MAkwAEAm0BFAC6/gj/yACSAOf/Tf94/nH/QQCV/3D/CwBRAJL/s/+SAIAAvf/x/oT/JAG1AFAA/gCjADb/A//R/08AAABX/9j/uv8aAEUBFgJCACj+5/1T/z4AbQBfAG7/cv/t/vr/vgCYAMf/PP5T/qD/qgBzAWgA6f9kAEIAhAA9ASEAlv/R/5r/yABcAP7/Qv/h/zwA+/5L/9AA1AAS/9v+NwBOAIMAqQCXAD4AAf+b/3AAXQAfABIAo//R/z8AOgA3AM7/qf8aAJ0AMQFgAEAAs//Q/uL+8v90AegApABWAKP/of/1/8oAUwAqACAAi/9C/yoA2ABtAHT/o/59/oD/OwBeAEUAagBiADYA3wApAfH/Tf9k/9v/UwDBALIA4P/j/jT/HQDhAAkB9v9E/7v+b/7i/kcAMwGb/6D9E/4HAMwAlAD0/zP/Jv9W/3wAYAHsAMIAxP+e/aP+rwAaAdD/7v52/x0B+QBPAIYAef9F/5X/lQDGAGv/yf7F/zQAHwBXAIQA+QBbAHf/4P93ALUAKABm/33+h/9PAXwA3//9/3sAawBX/7P/4ADgAAYAq/8mAHYArgArAYUAkP9u/0T/Z//d/18AUABtAAQA+P+7/9f/IwCs/27/Mv83AGIAkAAjAOP/VwBYAOD/nv/M/+X//P+hAJYAdAAtAGv/lf+o/wIA/f/h/g//8v/2/8P/JQDf/2v/7/8MAFj/i/9eAHQAxv9y/57/wv9L/7D/LQB0/+P/vwCCAG0AUwAJAD0AlQApAEMAFwAd/xr/dP9o/wMAYACg/xr/zf80AdABTABR/4f/mf5J/1cAaQArAOn/dABXACUA3AAcAML/fgA+ABIAWADOAFgAav/k/0YAtf8kAMj/wf6K/3wArwBRAE8AlAAfAD//Of/b/9z/5v9h/w7/4v+/AHUAGADsAGQBlgDp/6j/vv8RADMAsv+y/+T/YQCCAXUAX/+X/7P/JwAjAKUA3wD5/83/rv/l/rj/JQDF/2b/v/4iABMBlAA/AGAANgC8/ycABwC1/4f/qP8ZABQAPABxAIQA9f/v/2gA7P+K/+n/DwDg/4X/Cf/E/37/Qv///zAAV/9i/+r/UQC3/4P/IwDl/yQAiwAZAN3/JwAnABUA1/96/zEA8AAeAK//QwCrAML/lv8H/5T+cv/p/4sAXgDl//7/pADa/4f///9F/4//WwDWADMBowHcAG7/Nf/C//f/t/+P/83//f9xAGUAx/+n/37/1v8SAHT/ZP/d/y4AFQAZAPb/fv+r/1EAMwDK/xMAbAA5AEz/3P8JATsAEf+a//3//P85ADcAZf89/8v/HgAgAEgARwDV/wIA6//E/9L/YQARAL7/CACDADkAvf+n/9X/jgB/AB4A7f+3/y8AbwD0/8D/XQBLAK//q//e/xIAMgAOAAAA2f8qAHMA6P9Y/4r/0f/6/9z/uP8LADEA5v/D/wUAEwCy/9X/of/b/6j/xP8aAIoAsgBLAMz/H/9K/4f/8f9pABAAAwAFAB8Avv+Y/+D/JgBnAB4A6f/I/+r/KQBHAM//7/87ACcAsf/O/wkAJwBIABkAKQDn//n/QgCGAGIA4P88ADkAk/9z/xwAlwB9ALwAVABAAOf/U/8s/xsALAGJAB4ARAAJANz/2//x/8H//P97ABUBpgCx/1IALQDI////3v/S/+n/zP/1/wgAfwB4AAgA+P+0/8v/9v8CAOD/+f9XADMAaAAkAPb/2P+V/6r/U//A/wIA4//4/04AWwAZAOX/vf8n/zj/DQDL/9j/HwAvANj/o//G/83/lf8Y/xIA+wBGAJf/v/8PADIANQBBAPH/X//I/7sAEQBy/wAAMgCi/7v/iABJAD0ATQDy/5P/0/8kAAoA4f8EAAAAHQACABIAWgAGAIX/rv/gALUA/P8YAEcA2/+9//H/gP/L/yYAXAA4ANj/5/9w/4b/aQAlAKL/8/9NAFQA9P/D/4D/iP/G/xgAGgDw/4QAbgAxAP//5v/4/zwAUADw/7r/1/89AGUA7v95/8L/7f/9/wgAPQDa/9H/2v/X/8b/3f85APz/AQA3AO7/2f/i/wUA7P8EABwALAASABUAUAAKAPn/FABPAMX/y/8MAP7/FwAEACgAzv+R/6//KwArABkAHAC4/73/w//U//b/AQAPABQAsf/q/2cAUgAAAOb/6f9bAGwA6v+j/7r/lP/a/1YAfgBaAND/bP8YABkApf+//wEAKQAUADgAPwBEAAAAjv+U/8b/HAB9AJEAFgBNAGIA/f+w/8j/6f8DAHQATQAYAA0A/f/e/5X/i//t/zUADgAWAEMA7f/Y/zQAzv9j//T/HwDL/xcAwgBWAOP/8f///9n/h//t/4QAcAAXAPX/DAD5/9z/8//o/93/0f8OAEIAGgDv/xEAm/+k/y4AUQAvACsAZwBTAEQA5v+0/+D/9f+7/6T/AABYAGIA8v+X/77/CgAuAFsAIAAIADMADQDJ//X/7/+2/9P/HAAvAB0AIgBTAGIAkQBPABwA0P+2/+//2//V/wAAGgD6/+7/2/8WAFUAs/++/woAPgAwAAcAJAD1/+L/y/+j/9T/HAAQAP7/6f8UAH0AeQABALb/wP/+/9//nf8HAEAAk/93/9b/o//D/ysAHgAYAD8AcQBNAOb/tv+m/2z/kf/t/ywA/f8LADAAOAAdAPj/FwA5AB0Akv+W/xwAEADR/9T/4/8yAEQALwAFAO//6P8FAAsAUACsAJAA0v+D//3/AwCz/4//zv9eAJUAmQAsAIIAeQA0ANv/uf8KAPn/y///////yv+w/5n/7f9IAEEALgAVAP3/NgCjADMAgP9a/7X/3P/q/0wAJABo/5X/agBnAOL/uf8BAPT/HgBdABQA7v/s/9L/pv///yQAAwC0/6v/6/8IADEALgAUAPD/9//U/9D/6f+t/6n/2P8OAD4AaABiACUA6v8iAEAACADh//P/v//P/wUAAADn/9P/8f8nAA4AGgA/ADEAPwAnAJv/lv/H/+//6f/K//D/DwAlAP7/AQDT/8n/HwBDAHgATwAaAP7//f+x/3H/0/9YAEkA5f/x/yoAFgAAABsASgASABYAIgD7/0oAPwASANj/1f/3/xkAJwARABUAHgApACEANAB7ACsABwAkAAQA6v8MADgA+v/G//H/HAAPAAQAIQCu/6D/LgBVAPP/3v///7T/eP/m/0cA8/+//7//JQBNADoAEgAKAKD/Ev/H/1UAUwDR/9//DQDg/97/8f8RALz/tP8BACkAJgBdACoAqf+k/wEAPgAUAOT/zP/Z/xAASABPAP7/of+P/7r/OgCDAOb/of8AAAkAyf8AAEAA6f+y/zwAdwAnALH/zf8HAOT/9v+PAHYAwv/O/2YAUQAIACMASQDr//7/aACJAMT/rf85ACkAzv/6/y0AEAAxAHgAjgAKAJn/yf8uACYA/f8AAAUA4v8TACUA9P/w/8//s/+3/wwAZQAsAOv/2//m/9X/9f/9//f/CwDE/6X/wP8eAFAAFQDl/9//7//m/xQAIQDu/7D/rf8AADQAFQBXAFcAwv/G/+7///8fAFkANgD1/9v/6f8UABMAtv9v/+P/agBDAP3/BAADALr/tv8tAGgADQCk/+v/9P/p/ygAPgDR/5L//P86AP7/4f9IADQAtv/v/1gAFADF/wkAegAKAKr/0P8iAEAAKgAgADIANwDW/9j/+P8DAOX/8f8wADUAEAARAE0AFgC+/8j/4P/N/9H/MgBVAC4ABQA8AAMAf/+x//3/EwAGABsAEwADAOr/FAA/AAgA3//z/wUA7v8vAEsAAgDX/87/6P/5/+n/7//x//D/FwBBAB8A7P/o//3/KQA8AB4Au//R//X/8P8/AGYAFQBU/7n/SgB6AFoAEAD//73/pf8QAEoA///m/wMA0f/3/0gA8v+r/8P/DQD//8j//f/4/+H/wP/r//L/8P/v/xQA4v+Z/9//HAAfAO3/9f8HAP3/FAAvAO3/pP8RAF8AGADo//f/rv+v/wwAUwA9AA4AVgBrAP3/6/8LAOb/w//z/zUAJQDy/wcAMgAbAAEASgBzACEA3f/3/ywA2f+n//r/BgDM//H/DgAcABcA9v/y/7n/u/8fABwACgALAOr/6v/p//H/AwABAPL/6/8TAC4AGAASAC4ANAAOAAIA5//L/9j/7f8MABYAEAD5/wAA+f/Z/+//6v/c/wkA4//7/wgAxP/s/xsACgAAABgAGADf/9D/BwAfAOT/3f8OAEIAQgAeABsAAADH/7n/2f/z//b/7f8LAA4A7/9EAGIAFQBAAD0A3v+V/+D/HgAqABAAGQARAM7/wP8BADsAMQBSAEUA/P/v//n/3f/x/yAA8f/u/+z/+v8lADcAAQDq//T/5//l//L/FAAEAOf/5/8EABMAtP/Q/y4AFwAEAAsA+/8AAFUANwD0/xcA2P+v/9L/+/8oADoABQAAANr/qf/T/zgAPQAnABQA4v+i/7P/UQBUAOn/5v8CAPz/0P/S/wkADADj/woAJQAcAAYAJQAqAAwA/v/A/9D//v/8/ykAMQD9//P/GQBUAEkAGgADAAAA0/+l//D/JwADAPr///8GAA8AAgAWABYAFwD+/9X/vf/C/6//6v8PAAAA8f/h/+f/BgADABgANAANAPP/7P/s//7/AADR//j/CwDm/9f/6/8GAO//+f8JAB8AQAAkAPj/FAD+/+v/+//I/9r/CwAqAB0APgAtAAgADAAWABAADgD7/+H/3v8GAC8AEwD1//j/AwDD/7//DgA0ABgAEQANAPv/6v8IAC8ACADw/wkABADQ/93/AQD2//f/LgApAAkALwAdAAIA9v/i/9D/zP/K/+L/7/8LAAwABwARACAAGgABAAYAEgD3/9j/AwD5/9T/8f/5/z4AOgDl/9L/zP/j/+//AQAjABQA6P/p/wQAAADN/8v/5f8AAPP/6f8PACQAJwA2ABsA2//I/+T/3f/V/+7/KAAVANn/6v8MAPz/6v8HABwADgABAPr/3P+3/8n/AwASAA0ABQAIAAYADwAyADcAAQDO/93/AwBAAAsA6f/b/+j/9P8cAD4AGwD6/xAAEQDu////GAAcAPD//P8bAAEA5v/+/wsA8P/D/+r/DwAQAAcAIQAdABEA9//9/+7/5f/l/+P/8f8SACMAHAAZACQACAD2/wQADQD4//b/FAAAAO7/9f8JACIAFgAoADIAEgAJAAUAAwDv/+X/BwAqABQA8v/m/7P/ov/R/wUA9/+3/9D/EAALABYAKwAiAMX/r/+6/8j/xv/s/wEA5v/k/wsADgDd/+v/+//3//D/7f/P/8X/9f8lAA4A9/8GAAIA9/8UADEAGAA9AFAAMAACAO3/7P/1//P/FgAnAO//4f8NAAYA4//r/xoAJwAUAC4AOAAWAAAADADR/7b/zv/z/wwA8v8zAEgAKQANAO3/4f/c/+D/7P/6/wIA8v/v//X/6f/r/xUARQBEABIABwAeABYAAwATAAkACgAFAB8AJwD6/97/8f8AAPT/CgA9ACgAAQD8/ykAJgD3/+z/9P+0/7H/3v8MAP3/IwBAADEA8P/o//n/AAD5//n/9//n/9b/w/+9/+//PgBwAEIAJAAkABgA4//T/+D/9v/k/+n///8DABAAJwAYAP//3f/J/8//4v8YABoA8v/1/+f/8v/2/xkAEwC5/7T/1f/r/xIALQAuACEAAAD9/xEA9P/g/9b/1P8BAB4ABwDu//j/GQA0AC0ABQDJ/8n/4P/v/+z/AwAEABcANQAsAEEAGAD7/wAABAAIAAcAHwAeAP3/DwAfAP//8v8HADgALgAKABUA+v/Y/+3/5f8ZACIADwAYAAoA+f/1/wcA7v/p/xIAIgAwAAIA6//6//D/MQANAMH/xf/m/+P/8f8KACUAQwAqABoA6P/g/+T/1v/p////BADR/97/DAAUACEACQAWAB0A7f/m/+L/1f+///H/FAAnACsAHQAJAM3/uf/R/9T/CAADAAUAFQAZAAEA9f/l/+P/4P/n/97//P8eABsACwAbABAA+P/n/9f/5//T//3/FwAWABAAAAD3/8//5v/6////DgAPAPj/8f8DAPL/4f/j//3/BAABAAgAAQADAAoABgDo/8f/6P/s/wEA///v/xEABQAGAPz/7f/r/+b/CQAtABEAAAAYAA8ACgApADUALwAZAPL/2v/l/9f//f9PAEIAQAARAAsAOAAnAEEAMwAZABIAAQDm//T/8//x/woAEAD8/xMAAwAAAPP/9P8KACIA4//S/+v/5f/o/wYADQAGAN3/1v/i/+X/2//1/xYAFgAGAAcACADy/8n/0v/P/+D//v8RAAYABgA5ACUA/f/+//j/9//g/wIA4f/Z/wIADAAJAA8ABADk/+v/4//9/+3/6v8VAAEAAAAFAOv/5f/d//z/MQAZAAAA7f/m/9r/8P8dACwAHQANADsABgDs//v/2P/F/x0ADwAKAOj/AgBwAGEAUgBcACMA6P/a//j/7v/7//3/EwBgABAAAAD//97/4v/I//n/JAAqABEADgAYABcA8v/i/wcA9f/l/w8ABQDR//T/+f8DABEADgATAAsAHQBBABEA7P/n/+f/9f/a/9L///88ADYAJwAjABQA7f/i//P/+v8EAB4AKwApAA4A0v/a/+X/5v/e/+3/BAAEAPD/9v/z/wAABAD4/+//3//P/67/c/+n/+v/CQAlABkAAgAKAPz/6f/3/wYA7P/7/87/wv/k/77/BAAIAPr/RABFABoADADx/+L/+f8AADIALAAZABQAGAAOAAQA8f/m/wUA5P/q/xoAFQAgACcAFwAIAOT/1/+7/9b/8P8eACYAIwBWACIAFwA2AP3/EAASAA4APwAuACAA8v+t/9P/FQAWAAQAIQA3ACYAAQDy/w4AFAAyAHMAOAARABIABwD9/wEA7v/x/w0ABgD8/wwAOwAnABMA/v8KAA8A5v/u/9z//P8nABgA4//6/xkAAwDp/+//+f/5//D/1//h/83/0P/y/+n/7P/0/9j//P8IAPP/5f/d/+j/+P8IAAYA+f/+/9f/3P/g/9L/5f/7//v/+//t/wMAAQAOABcA+v/p/+D/5v/q/87/3v8MAAAABQARABAAJAAsAC4AFAAcABgAGQAJAMH/yv8AAP3/4v8EAAkACwD//wcASgBMAEsALgAKAAMADQANAOn/7//6//v/9f/v/wEAJQAiACgAJAASABQAIgAbABIABAADAAAA8v/Y////DgAQAAwAAwACAD8ATgAoAAMA7v/8/7//0f/X/8D/0P/X//7/4//q/wUA8P/f/woADgAhAAwAvP/l/wUA6//7/97/1f/u/+v/6v/e/+D/CgAWAMX/5P/2/9n/AAACAAIA+v/t/87/5v/0/z8AVgAcACcAIwAUAAUA9f/N/8n/4v/k/xUAFgD8/0IAKAAWAB0ACAD8//v/8/8sACoA3//K/8X/2P/g/+///v8FABYAEQDu//b/BwAhACwANQAbAOf/4v/H/8P/5P/s/xYAAgDJ//j/QwBQAH0AUwAKAAMACwD0//3/JAD8/+H/DQDx//v/+P8FACcAMQA2AC4AFAAMAAoAPwAjABEABwD5//D/BQD6/xsANAAjAA8A/f/4/ykAMwAsAA0AEQDp/8D/vv/J/+L/CwAXABkA+P/U//z/NgBSABkA6f8AAN7/2v/u/9f/9/8QAAsA4v/P/9b/4/87ADwA5v/p/9L/8P8NAPb/7v/9/+X/3f/2/8D/x/8MAAgABAASAOD/9v8CAKn/6P8BANz/vv/S/9f/2//d//j/SgAzANn/CwAAAN//BwD5/+z/yv/D//r/CQDq/wAALAAZAPv/2//9/xMAAAAAAOn/4v8LAPT/8v8NABsAMQA2AC0AEQDy/wsARgA8ABcAKAAEAAMA5P/J/wIAEQAaACUADgAEAP7/IQApACoANwAgACYACQAGACcADADj/wUAFgD+//D/+v/p/+j/BAAjAAgABAD7//L/8f/O/yMATwDH/8b/8v8RACwAHQAFAOr/+f/e/83/DAD5//7/DgC3/7r/6P+j/+X/AQDa/xUAHADW/8r/xP/z/wcA/P/h/7H/yf/W/8//2P/e/+z//f8DAPP/AQBGACcAMAA/AO//0//y/93//P/3/+v/AQD7//3/8v8gADIAUABHACAAIQAgAOn//f8KAPv/9v/2/9f//f9AADcAKAA9ADcAewAwAMf//f8pADYALQDs/8L/w/8EADgANgAKAB0AVwBJACYA9/8UACcAGwADAPb/1/+y/6n/IgAoAAUAFQD3/9b/9f9IAEkA1v/E/+3/7v/p/8j/yP8AAAAA8v/g/+L/lf/f/z0A+P/l/x4AAAAJAEkAEACn/9b/t/+Q/zEAQgABAAIA6P/w/ykAHgAIAAYA4v/q/wYA7P9JAHYA+//x/10A8//G/yEAAwAFACAA//8HAO7/sf/7/ykA7//7/xYAyv/Z/wYA8v///xUAMwAnAPn/7f8AANn//v9KABgA1v8AALj/rP/o/yAA+f/c/wIAzP+7//H/KAA5AAsA/v/5/9b/yP/d/wIA3P/n/zoAHwDT/+r/9v8CAGkARQDL/9T/1P/U/1AAKwAJAAwA8P/o//X//f8xAHEASwAeADsA8f+1/67/8f8oABEA8v8SABUAJwBcAE8ABQACAO//3/9TADkADQAdABIA6v/0/6z/c//Y/zcAjQBsAPP/0P/3/xIAEQD+/9n/+v8XADYAFgDB/73/9/9CAC8A+f/K/9P/9f/s/w0ADACd/7f/9P8XAOn/1v/5/w0ACwCC/7f/DwDw/x0AogB0AO3/jf9q/7b/9//2/wAAAQCT/9b/awAmAO7/GAApAAkA4//6/9H/6P9dAAcAsP/Z/9f/OwB5ADYAMgCQAAoA2f/+/5z/MwBvAAUA9//d/7v/8P9EABMACwAiABwAEAAxAOH/0v8FAAAACQATANL/v//M/+b/EwAnAOH/hf/q/wkAGAApAB8A+f8EAKn/0//X/+L/ZQBpAPj/6f/x/7b/6f84ACMADgD5/9f/3P/N/xgAoQBfAM3/2v/B/9X/hgB1AAkAJQD3/6j/MQBBAOL/+//n/7D/7P9b/7H/SABFAMIAhADZ/4b/bf/M/xUA4P/+//3/wP/0/xAAMADt/33/r//H/+X/4P/U/x4AJwAoADMACQAx/xX/9f9GAAoACADx/+3/DQAAAFgAHQD1/2gAAQDf/yAA8//9/7j/yf+DAHEAGAApAPX/7f8kAFYAFgDt/yIA9/8IAMUAVAC+/5z/pf+9//T/AQAIAGcAdgBLABEA0v/f/93/GwAhAM7/qP8BAFMAZQAXAPz/ggAsANb/kgAcABQAKwCm/9T/xv/s/4MA/v+R/wgADgBWAPL/y/9QACkAIgBdAAIAUf+M/+b/DQB2ADMA1f8NANv/zv8bAMr/6P81ABUACwDA/6f/jv+w/xkAsP/1/0MAz/8VAFQAEgCiAHEAZP8U/yH/1/+oAF0AFABjAM3/hv81AA4AIABnALD/v/83AB8AiQCZABEAPAADALn/gv8L/23/cADCAAMAiP+c/7n/AwBoADUAbv9D/3X/AQAMABgALQA2ABEAeQB4ANL/UP/A/zIAOAAiAPP/yP/u/zMAMgDB/7z/rv+x//b/KAAoAEoAFAADAP//FgBQABkAlgBpAM3/yf8i/3H/DwDT/w0AwABwAAcAFwCt/yz/qf9UAM3/aP/1/ysAWACTAMP/qv9RADsACgAdAEX/qP+pAB0A8//t/3X/GQD7/3D/TQAuAOn/JQDF/30AuAA4AMwAHgBg/zMA5/8GAB0Axv/b/yoAMQCyAKQAr/8s/6f/EgDo/4j/qP8UAEUAdADEABQAnP8HAA8AIADN/9b/LAAFAE4AkABWACoA2P8S/xf/3f8kACYAEAAfADYAPQBkAGcAz/8W/5H/TQDy/8D/DADE/9T/3P/f/zwAAgAXAM//+v6U/wsA/P+fAKIA+f+b/xf/b/9+AN0AuAAWAF//af/P/9//OQBTAEsAQgABAFgA9v9k/8z/7/+1//D/8P/R/xgA5gCpAbsAwf+Z/9b/9/8UAGgAWAAYAC8A1QBCAIb/TQCqAOv/B/+H/4sAXAC7/y0AFgCw/28ATADI//7/4f/1//v/U//c/6MAMQG4AAIAMP8v/+7/hf9o/77/pP8bAJ8ATwCy/wwAngBrAPD/oP+v/8X/o//v/0MALwAeABIAhv+M/0P/Lf/w/ycAWADf/4j/hv/R/y8ASQBkAAYAv/+l/9v/7f/3/1UAfwB5ACIAsv+R//L/WADS/x//O/9XAK0Aov/2/xcAx/+0AM4AAwCG/2r/JgAVATgA9f8EAHz/AgA7ACgACQBxAB0AU/84/6L/DgBUAJMAewBJAEoAAgA5/6H/FgDr/40AUgDM/wwAvP/5/30A6/9I/0L/L//2/2gApwCYANX/aQCgAOX/zf89/2X/QQBwAF8AZgASACIAVgDb/8r/ev94/lj/rP/F/4cAdQBYAK0AOADW//r/xv/a/8D/4f/T/1EAOwE2AKX/EwBAAAIAx/+c/4///v9wAIwAbwC7/8D/bgBZAOT/Y/80/3z/QgCeABcA7P/z/wgANwAzAIv/9f6W/yoA4/+K/5n/+f9yAPcANQCs/1//pf9YAEr/ev/yADYBbQCS/yz/e/9o/6n/zP8q/4T/zQC2AD8AAgDL/0UAEAB6AFEAif/X/y8ASAHPAML/2f8BAEQApAARAA4Anv+//2MAJwC4/8f/JQBMABQAoP+7/xgB5ACEABgAdP9WAOL/5v8dAHn/SgD0AMv/GP9N/2f/NwD7ADMBNgAV/5f//f8YAO3/3P/f/7T/mP8OAC4Atf9GALMAQACZ/2T/Mv94/zcAiQBLAFUAWgAGAM7+JP/g/40AmAC7/23/o/82AKoAZwBLAMgAXgDC/8H/wf+o/yoAUwBy/3j/NQD+/z3//f9SAOj/wP9+/67/n/83AMEAPQA/ACUA7P8RAD4AnwB6AAcA3f9fADkAqf9m/6//OAAAAOr/4f9L/+n/kgCcAIsAIgDd/kn/7/9EAcMAKP9Z/67/t//0/ywAPwCj/3b/g//L/7b/8v9XAD0AygC0AGcA7v7q/qn/CwC/ALsAIwCl/9n/PAA3ADsAHAAs/0f/z/5P/ysAbgBbAPgANQF1AOb/uv9l/0oAgQAGAM8AygDz/77/UwBpAP//WQCp/879zf75/0sAlwAQAAQAGQBQACIAJP/x/h8ACABzAJUAhP91/zUAoADBAAAAR/8V/9v/GACI/9v/CAAh/1r/eQARABkAGgDJ/2gAMAF1/23//P/s/3kAQgB3AKwAQwD5/9//GgBoAFgA8P83/0n/CgCH/8H+tP94AE8AfAB9APoALwCL/7n/pP8VAHf/t/7u/30ALwGuAr4Ap//Z/1D/xv+L/7b+wP4r/0oAnQHZAGEAVAApANcAwv+W/7P/G/89AFcAlgA1Aef/0P8sAEn/h/8EAAkAvf/O/9UAcQD3/zQB6P+G/xMArf8XANv/JADtAN//h//K/yQA3f8BAPr/tf/p/9P/Q/9//y8AGABlAYMAsv8aAJ0A3ABq/xMAIAB0/4UAbwAeAMj/KABdAKb/Pv+f/hH/9/82/+//kAF6ACcAMgAJACIADwCx/37/D/9v/78AqABHAQEBQgC4/9H/ZABz/+b+WP8T/4v/kgDkAOr/LwAeAGsARwF/AHj/sf+m/+f+rf/7/6b/7P/AAH0Awv/p/2T/Bf/g/+b/ef9ZAGMAsQBSAVEAdf8e/2j+9v8vANr/y/9u/9cA2wC3/+r/tv+t//3/ZP/k//v/Zv/g/gAA3/9s/+j/bwGrAY4A+/9xAZIB7ADB/9j+Pv/O/2IACACp/8D/BABoABYBQQB4//f+lf8lAC0AmQAFAGEAiwBkAFoACwHb/2n/zv9S/zcASwC+/woABQBeAA0A3P5P/+T/gACi/1z/9f/P/3r/tf/Z/xcALwGMAK4AcQBM/+D/6v9u/gD+Xf8WADMA8/9BAHsAyv/tAEwAvv8g/7L/fwBZAJEA0wD4/4z/igBSAEcAKP+5/sf/NwA4ABgACwB8AHMAVwAeAOL/NQD7/83/7/+gACEAFgB0AL3/JgD1ALYBcAD8/gj/vP+OAEgAY//8/oX/jwD+AHcALgD1/3AAgQC4ADEA2f6L/9b/NAAyAND/TAAmAEAAOAAbADEA5v+j/6z+/P7X//3/kgCZAZgAEwAY/8b/PACT/2D+D/8gAEIAlgDeAEQAewB1AIH/0P+X/4n/RQDE/30A/v9S/6oAZQHoAO7/J/+P/3D/QP+8//3+iv/VAJYA0/+d/wUA5P8TAD8BYQAwAFQAEwBWABUA2P8KANT/vP9h/8n/EwCrAFIBTAD1/27/6P8KAN//bv8z/63/VwA7AMn/U//B/ykASQA+AA0Ajf4m/xMAyv8AABsA1f9BAHoAbQA3ANT/PQABANr/BQB+ACwA9v/6/xEADQAXAN7/Qf/2/pX+of8nADEAjv8lAOgAwgBsAPEB2AAF/5z/wP/r/7v/kf+h/+//3wABAc8ADgBZAFgAggB3/z7/gv/p/2wAY/8TAD0AQf/b/14A8//K//L/hP+L/yj/q/9HAKr/oP/2/9v/yP+2/6b/ogCWAFUAhQCQ/yr/av8sAbwA3v/XAE8Bev9Q/8H/E/98/yT/Tv9p/ln+zf/k/nUA6wH2AZUBvAAuAEb/Jf8E/1v/av/v/4gAaAAAAW4AqQADAlkAff9Z/sr+FwB4/2n/sgBDAOUA8gDx/hcAEAAQALQA2P9S/5X/l//WANoA3gC9APL/+v/1/2z/Ov+S/9b/DQABACYB2gCHAOcA8QCOAHEAwP8v/5j+af72/lP/Of9vAJkA7P/b/5gAxAAVAAP/Tv+m//j/LwB6AH4BIQBsAHQAov/K/7j/7f+FAMb/iv/e/zAAt//Z/5z/uv56/zsAg/+d/3wALAAwAF0BPgEEAP7+Yv9dADMBIgCd/gD/gwC7AJwArgD8/5D/RACAAM3/vP+QAJEALQH+/4v/m//W/lgAswDs/7n/+P9mAN8AjQBFAOX/EgD3/0f/+f55/7b/lACsACAAMgAdAFUA/wBeAJT/K/8w/+j+u/7J/tP+ZADmABoBygDv/qf+EwAdAcwA7/9s/93/1//h/w4AngDtAAsBWAC+/5f+Zf5LALUACgBj/8D/XgA5ACIAhf9i/2cACAH2AGP+T/6EAJkBGgInAckA7wAcAB4AFgC9/8L+QP5h/3r/f/91/y0A2wBlAfoAG/+E/3P/jf/8/9X/EgD7/zkAmwCXANj/hf4n/+//NQDj/1QATQGSAEoAsP/L/3H/JP9MANP/AAA6AGj/hP+h/1//uP/E/9P//P+8/g7/K/+A/xoAXgDZ/4j/9v5N//3/EgDHAMoAogCaAEIA2//K/8H/9P9RAW0Auf9fAPH/Uv/m/yMA6P7W/yABoQA2AKYAEQAkAPQAzv8U/3X/+f5WAI8BLAHrAMoAiABlABoBXgCW/xYAhQD8/1AAGwAy/6j/Vf+7/2j/lf9cAPkAvAC9ACH/gf/JAHT/1/4L/2f/bP/tAPIAKf8x/0UAcQA3AE0Avf8X/wsA6wF+Abn/U//T/QX/OQDC/kb/dgBGACQBhwF1AG3/wP9WANb/Zv+S/qH+Rf91AFUAlP9S//b/BAABABkAEwCGAIMAWQAxAIIAUf/A/+YALwC+/38AGQCl/+3/5P9yAIMAz/8bAOoAx/+I/3YAOwA+AGIAIv9x/kT/nAAvAdYATgFNAcT/XwBlADv/mf+Y/2v/LgCMAO3/YwBQAWoAyP/w/+j/b/+5/14A5//U/6sATQB7/0n/BP9h/1MB4gB2/77/b////rn//f9e/00AAAFfAIj/TACy/9z+JwCTANv/mv9aABMAGQCTAX8ALP/Y/9L/AwBvAF0AMABQANb/yP+M/3b/pv9s/zz/CQAjACQApwC8AJz+t/6x/+//KAH9AAAA0//S/7v/kf///vz+ev+HAIYAZwDW/2oAUQCNAOb/fP6i/rH+1/6X/9z/xv84ALIARAHM/+38Of6b/4L/qQB3/9r+0v99ABIA1f8VAR8A7f+wAZ0Axv4GAJ0AGQAnAA4Akv/V/0wAdABL/+H/WwCrAKEAvf2s/SD/3/8YAZQBjQB/AIMAsQCRAOr+GP4S/7z/fgBFALEAKQG9AH8BNwGD/6T+D/8l/7L/zP/B/wIAowDvAD0Aav9l/5//cABxAF3/Vv/v//D/6/+p/7H/fP+p/zIAWwDM/zD/2f6h/w4Av/8cAC8AKwCjAPUAOADe/vr+vv9S/6//t/9M/5T/TgAYAND/k//C/7b/VADj/5/99/7rAFIAdAALAGf/ngDdAJ8AqAD+/2oAVQD1AGsAlv8cAM4AZwALAHT/Q/7K/2wAHADLAHUAIAAgACUAkgB4/yn/rQABASMAUv8Z/9n/jwC8ANUA3v9t/3QAzACiANT/KP/s/88AlgA5/zz/mv+P/2oA1P9O/10AiACHAEoAmv9R//v/9/9BAA4AS/+4/y4ASgDK/8H+FP+CAEkAVQAAAUsAkwCtAJAALgAC/wv/vv9q/7P/4//D/4gB4gEMAYgAfv6C/iEBxwBv/3H/p//x/6AA8wBSAOj/FADs/9z/MP/1/nb/bwEgAtEA//95/0z/BABOABIAuv+J/93/kf/Q/6r/Q//r/40A1QAdAAv/Tf8lAJQA+gBQAGL/Pv+0/14AxP9V//n/LgBEAGcADAANAPf/ngBoAE//wf7v/2QABgCj/zwAUACp//j/1v8s/zT/uf+gACUB/P9P/vX+t/8OAIUAJgD2/6P/BgAgAI//Rf/R/zEAZAASAHkAAwDa/6AAcQACAFz/HP8xACoBEwCx//IBlwE3AFsAHgCd/43/0P/V//n/xv/y/08AjAAiACQAOwCE/6L/2f/M/tP/hwDEALn/lv8zALL/AwDHAHYA+P+8/xr/4/8JAIz/GABs/4r/cAAhAPP/DQDh/wAAPf46/uL/q/96AFABwgA6ADgAOADf/3L/P/93/3EASwCc/ygApAARAAIAcAA1/5T/iwAVAD0AVgDq/ywAZABFAIn/Nv+i/93/gACWAMb/Y//S/77/2f8xAMz/tf8rAHIAKgCfAPwAsP/r/1UAof/k/7UATgAMANkArAAlAMv/Q/+q/w0ASQDM/wkAZwBMANP/1P8IAPz/PQA6AOj/bf99AHsAoP8AAKT/lP/LAJwAyv82AAUBqQDi/zkAAAC///r/uf+l//r/+f8JADgBZQDv/1IABABO/3D/rf8WAIEARQDw/9v/pf8PALcAtQA6ABsA///l//n/pgD4/xcAKAARAJYADAB0/+f/AAAvABoAm/+AAHUA6P98ALP/tP8AALr/AgDH/xL/kv9tADcBsgDv/9T/TP/r/9AAQQAIAPP/rP+dAG4A2v+J////hgC+/+P/DACN/6X/DAA7ADsA5/+H/xEAwv88/1z/DgBTAIoALQAHAMX/9f+vAMT/Kf9c/6v/TQDDAFcAhf9c/xgAqgAAAKr/PQDsAMYANACZ/5n//v8LAGwAMgF2AD4AOgDtAO4AAwBG/9r+YP8zAK0AcQA0AIkAwwBHAJD/Jv9U/ywAEwBw/xAAOgAOAFAAWwDw/5X/vf8NAFEA3v8T/1j/gwBUAPr/EQADAMz/tv8EAFT/UP/G/z8AKQDn/7z/y/86AFoAev+T/ysAFACGAEEAVv9r/8X/DQDx/xwABQAzADYAGwBS/2v/6P/c/xoAOgAFAAQArf8OACgA7f+3/1D//v8sAM//EwBl/4cAfQC3/6j/X/+2/wsAlADEAB4AHgA5AJ3/9f/2/7b/4wDRAKf/tf/7//H/VgCaAGwAu//1//r/oP/z//L/l/9AAJsAXACgAEEAmv/G/93/AADp/5X/IgBWAAAA/f+S/+7/JQG0AJ//XP/L/yYAQgBAANv/DADcAMAAVgAJAHz/bv/U/y8Azf/j/z8AOQBYADAAyv++/9P/RwApAOD/8f/u/yEANADv/7T/qP/0/0UAcwCbADEAdv+//9H/Mv+R/9X/2v+EAJ8AFQDX/ycAEQDO/2QAAQB9/x4AVwDm/wcA9//s/3UAWwDm/yH/mv8xADMARAC7/+P/eABWANP/o/+g//z/MgAfABcAnP/H/0wAEQD//+z/kf/J/zYAlgA9ALP/t//7/4oAXwDn/57/DwD3AJgAuP/d//3/IgBNAPn/jf/Z/4QAaAA2AJ//Wf8kANMAiwAeAEsATQBZABwAq/+V/1L/HABKAeQAIADo/7z/HwBtAPn/ef+6/0QAPgAgAKX/Yf8/ANkANQDJ/63/j/8hAFgA8P+6/xAAOQAYAGIAyv8k/9X/NwAdAEMA5v/L/xgA5P+f/3r/l/8QAFsAPQDJ/6T/yf9aAP3/Kv8u/3n/LACsAFQACgDP//z/LgC8/07/O/+W/38AiAC7/9j/3f8EAEgAGgCg/8X/3P8jAOr/zf/t//j/owBfAJj/y/8YAC8AGQASANf/9f9FABwArP8PAFAALACXAP//sv8AAHb/3v8sANb/GgDI/8//OABSAH4AEQDG/wUAsP92/9P/cf/E/58AkwBCAL3/kP/t/woA9f+9/7H/GgBYAOL/2f/6/87/FABZAD4ABAADALv/u/8jAPb/1/8AAMj/9/85APL/wf/2/0gAkwAkANT/JwD7/zkAcwDv/1EAagAxACEAMgDb/+r/7//r/xUAj//w/y4AMgBTABsACgAdADAAHADO/+L/5P8qAH8AeQC3/5n/2v8vADkAEgD8/+//s//2/+3/zf81AAYAFQAiAPf/9v/q/77/7v/1/yQATQD0/+n/6P83/6D/v//v/28AHwD+/7v/rv/B/9j/2f8dADoARwBIAAwAAAAlAFoAaACv/87/9P/U/zEAAwAiAFoADQBcAE8ARQBTAAwAFwA/ABEAIwAcAF4ApQApACwA9P/S/w4Ayv/T/00ANgBFAB8Aov/u//z/AwDm/+//LAAZAAgAWgBAABwA1/98/7n/0v/T/8r/4/8OAAQA8/+9/6H/eP/8/zEA/P8jAPP/LgBnABAA6//S/5L/tP+e/33/4P8iAAwAQAAJAOL/wv9H/17/vP8UAEQARgAhAEYAFgCY/4r/kf+u/xwAKAA1AGYAEQAZABYAq//E/7X/3P+r/7f/TABLADUAOgAZAN//5P/h//P/4/8kABsALQBuAEsAPgD9/6//xf/x/wIALAApAD8AhQAkAPn/4P+q/+H/vP+u/yAAJgAvAAMA3f/m/9D/zv/e/9b/1P9zADAA8f/5/+7/AQDW/5n/CwAWABIA+v/6/xUA1P/w/+3/0f8mAAUAvP8GAN7/QwA5AJH/3/8KAPn/DADR//r/QwAlADgAJgDr//n/0v/j/wAA4P8bACwAFwAfABkAWgBJABkADADJ/yIA3P86/4v/7P8qAIQAKwAKACUA3/+m/87/1v/9/zgAHgBAADkAOQAWANz/5v+7/5L/u//+/w0ANwA2AFAAFgAdAOP/hf+k/83/3P/5//L/8f88ADMAwP++/7n/5f9XAAsANwBIACQAZAAhAMD/8f/4//X/LwAMABQAHwDv/yUApQBPAOf/AADf/+//AQD7/xsATgAvAFsA1v+g/+H/CwBMADkAAwBJAD0A4//g/8b/1/9HAFMAOgBRANz/xP/w/w4A+f/q/+f/AAAXACgA9f+m/9T/LAAsAND/Sv+q/24AqgA2AKv/tP/+/2QAFQCT/3z/9f/IAFUAlv97/8r/UQCrAPn/uf/X/6X/RwBRAM3/p/+U/y8ATQADAKb/iv8KAHAAawDQ/1v///9yAEEAs/9U/xwAhQBUAN3/Xf+i/yoALgAdAL3/5/9oAFUA8/+i/6L/BwBhACEA5v+7/5z/9v9ZAC0A1f+y/wcAMwAVAMv/rP/N//L/cwBcAHj/Zf8JAFwAQgD7/7j//P9pACcA+f+2/6f/HwAvAAAABgDA/63/2//q/wUABADF/wEAOgA4AOT/qP/5/yIAAwDs/9D/AABlAC8A9v/W/9D/KAA4ACUAwP/R/0QABwASABgA8f8CABoA1v/i/+X/o//6/zUAVQBGANH/t//d/+7/IADx/7//7f8XACUAv/+y/w4AUABWAAoAxf/H/9n/JQAoAOL/3v/2/77/AgAbAOT/FQAPAA8AHwBw/5b/GQDv/x0ALAD1/ysACwDF/6r/af/G/0UAVADw/5n/pf8cAFwAQwC9/+X/XgA5ANz/o//Y/00AYAAIANb///8xAC4A+v/l/xYAMwDF/9H/KgAcACMAKwDe/8n/LgA+ACYAGgD8/xEAGgD8/x4A/f8BADoA5f/N//z/8/8NAPP///9VAOn/o//r//3/HgAsAN//KgAdANn/7P/2/2sAfQD9/77/s//s/zQANwA8AAkAAACLADsAsP/h/woAJwBrAHkAIwDa/9X//P9EAC8Aw//P/zoAXwD8/7H/bv8yAI4AJwDy/3L/xv8uAAEAyP+m//T/PgA6AOj/xf+p//X/UADP/6P/zv8IABUAxv+a/9X/HgAZAPz/BAAGAPf////+//T/8f/h/wUAJQA8AOH/0v8AAB0AkgA2AJX/yf8rAFcALQDw/+3/FgAyADwA+P+o/wIAUgAfAMP/lv/4/0MAIwDm/9f/8f/z/7L/x//g//T/GgASAPb/3//p//v/AgD3/wMA/v8NAN7/wv/e/4f/xf9oAF8A9f+i/8X/7P9mAIYAv/+e/w0AUwAmANT/r//+/2QARgADAN3/CwAxABYA+f84AFcAFwDw//H/9f8SAA8ADQAkABsA8P/6/yEAPwADAMP/3P/y/w4AHgD7/+z/yv/0/zgAIADb/+T/IgA+ANv/qv/S/yEAVQABAO3/3v+/////HQDz/+L/1f8JADAAAADb/7P/5f8gABoARADn/5r/8f8EAP//AgDt//7/HwC1/6j/IAA3AP3/6f/x/+H/LgAsAJL/rP8iABMA6f/r//f/BgAJAO3/2v/5/+//+P8JAPf//P8mAPn/yv8qAIEARAAHABAAbABjAC0ACQD9/2AAYQAdABIASQA0ABUAEwAMAP7/EAAJAPz/8P/1/9P/1P/4//v/9//q//H/IQAPAOX/vf++/wEALAA3ADMA+v/N/+//6//p/wMABQAXAA8A3f+2/8P/9f8FAMz/z/8IAD8AEACr/8D/DAAhAAQA9v9EACoA9v/8//n/AwAWADgAcAAzAO3/GQAkAA4AAAAGAC4AEAD1/wEA/v8gAA0A8P8UADsAOQD+/9//GAAqAA4AFwA8ABsA4//r/+//+v8vADsACADp//3/NQAXAOL/5/8JAAYA+v8LAB4A8//W//7/HAAdABkACAD2/wsAFQDb/7z/4//z/xUABwCv/7r/AAALAPH/6v/e/wkASwAWAKn/tv8jAEEAAADl/+v/EwAfAAMA9f8EAAYA7v/O/+7/FgD2/+P/BAAbAA4A1f8CADUANAD6/+r/1P/h/z0ALgD2//n/BQAVAGgANAC0/8z/QwB4ABYAp//X/xIASAAjANL/+/8ZAPr/CAAfAD0ACwDS/wIASgAbAKX/tf8uAEsAzv+u/9T//f8gAO3/x//E/wgALQC4/57/3/8aAB4AIwDj/4b/w/8mABkAy//X/ygAIQDd/7L/z//4/wkA1//9/xoA7//k//r/LQAmAOL/5f8bAB8AFwAGAOz/+/8IABwAJADg/wIAMQAkAOv/7f8HACgAKwAhAP7/+/8oACcA9v/z/w8AEgApAAwA1v/h//L/AQATAO//1//9/8f/p////yAA1P+1/wEATwAQAMX//P8yACcA+P/q/ycANwDu/+L/HQAkAOP/2/8OABEA6//g//X/+P/2/yQAQQDf/6///f9LADoA6P/4/yAAKgAHANz/9/8OAA0A9/8JADsAAAAHAEUAOQAIABIABAAIACIADwAwAAsA3/8BABcABgDH/97/OABCACcAzP+d/wcATQAjAMb/1f8cACYA/v/L/9//IQA5AAMAzf/m/+f/3f8BADcAJgDO/7P/9/8PAMT/sv8FACYABwDv/+X/5/8MABkADQDn/8r/7f8UADsA9v+3/+z/OQAtAPv/AAALABwABAC//8r/7P/8/ygALgD8/9r/AQDj/+v/MQAcAA0AJwAzACkA/P/e//b/KABhAEEA9//6/zQAMwD6/+7/BwBCACQAAwAAANj/5P8XACgA+//9/x8AHwARAOX/1f8LADAAEgD5/w4AAACd/63/GQAcANP/4f/t//r////u/77/0//4/yAALQAKALr/4P8EAAMA4//i/+X/+/8DAOP/2v/3//H/8P8FAOL/mv+4/wUADQD0/+T/7P/c/+//AgAEAOf/8/81ACsAyv+Y/+T/PwAwAAAA5f/n/+//DAD0//j/PAAAAN//CwAXAOT/1//x/xQATAAjANH//P9yAFIABAD7//v/EQBfADMA7v8KAB0AKgAqAMv/xP8lADMA/v8lABAA6v8gAGUAAwDs/x8AAAD6/yYAAAABADQAHwALAP7/4/+M/8b/QABMAP3/zP/l/w8A+//E/6//4v///xYABADD/7j/4/80ACMA2//W/9z/+/8rAA4A2f/w/xIAAQAkACcAp/+J/wQAUQAtAPT/2v8cAGYACwDf/wQACQAbADEADgDZ/9f/BgA9ACkA6f/h//f/CwDu/9H/6/8LAA0ABwAnAOj/lv/T/yMABwDT/+b/BAAUAPn/3v/i/6D/wP/3/+z/5P/Y/+L/HAAYAND/lv/1/x4A+P/K/+n////n/+j//v84AAsA2//S/wYACgD1/w8AOAAvACAABADz//3/AAABABcAFwADACcARQAAAMP/DAAsAAoABAASAAsAEQADABoADQDo/xcAOQAHAPb/CAAFABwAFgALACQAFwDy/wMAFQD8////8v8AAEkAJwDf//j/GAAAAAIA8f+5/xEANAD//+//9P/+/xUAAgDT/9T/DgAfABUA+P8MABYA8P/F/8P/1//Q/9r/EAD7/+f/0v/n/woAAQDy/8X/x//o/+b/7f8SAAEA/v////P/zf+1/9v/EQAuAAcA7f8LABQAEgDv/8H/4/8iACIA7v/k/+r/4P/9/xsAAADv/xEAHAD+/wAAAgDv/+j/HwAgANX/uv+8/8b/AQAXAN7/3v8AAA0ADwDZ/9f/QABUABsACgAVACIAKgAWACIAWAApAAAAFwA5AD0ABwDq/xMAKADv/8T/2P/0/w0AIQD0/+H/LAAtAP7/6v/e//7/IgAUAA8ADgANAA8AKwAZAPP/AgAcABkA/v/v/yQAIQDz/+X/8v/q/+P/4//o/xMAHgD1/+b/7//5//f/8f/Z//n/HwD6/8H/yP/8/wUA4f/k/wgABwD6/93/1P/7/x4A8f///w4A2//h/+//7v8IAP//7f/1/xIA/P/o//X/9v8fACwACQAFAAQA6P/q/wAA3f/S/9f/9v8kAAQAyP/Z//b/AgDv/7//2P8aAPD/x//2/xIAKwAVANL/7/8gAOz/4/8PABkABwD8/wQAHgAVAAAA//8NAAcAEQARAAUADgALAAkAEQAAAP3/FQAaABIA+f/o/w8AHQAGAAQAAQD5/wkA+v/h/+X/8P/U/+X/EgAGAP7/CwAJABQAFAAWACoALgARABMAEgD0/+7/AgANAAAA8P8AAAAAAgD1/+3//v8MAPj/2v/Y/9//3//r/9//1f8FAAsA6//j//P/+f/3/+T/7f8YABYA7v/q//T/BgDy/+b//P8PAA8A5//f/+7/+v8JAPX/8f/m/+H/7f8BAPT/9P8UABUAFAAjAAkAGwAwAA4ABgAbABcACwATAAoA/f/7//P/9P/w//r/DwAVAAkADAAFAAUA//8bADgAHwABAAkACQAaABIA9//v/wUAMAAcAO3/6P/i/93/5P/h/+r/6P/a/9z/8//v/+P/6f8DACEADgAAAAAABwAZABwAJwAsABkAHwAdAAAA9v8EAAMA+f/4//n/yf/O/xQAEwDy/wAABgAAABIAEgDz/wQAJQAJABAARQAoAAEALgAtAAwAEwAdAAYABAAJAO//9P8GAOn/5P///wAA7v/6/wIA/f8OAPz/9v8GAAcA6f/1/xcABgDz/wUAAADs//D/BAD1/+X/8//k/+L/+P/h/+L/CAAAAO7//P/1//H/DwAdAAkABwATAPP/+//4/+f//v8JAPH/9f/9/+r/6f/5////4P/z/+X/2f/2/wQA6P/5/xMACgAgAA8ABAAnAB0A/f8BABIAAgD7/wMABwD8//3/DQAEABEAEQDx//n/EAABAPz/AAAJAAoACwAAAAoAGgACAPb/DQAMAO//+P/y/+//9//2//D/+f/m/8D/s//N//H/3v/h//7/9//n//3/AwACAAMA4f/d//X/9v/i//P/+P/z/w4ADgD5//T////x//D/AAD4//L/CgAKAPj/BAAvABIABwASAAAA9v8JAP//6//y//z//v/6/+r/8v/4//z/GgAVAAQA/v///+H/7f8VACoAAgDz/yYAGgD5/+X///8ZAP//CQALAAcAEgAPABgAGwAiAAEACQAUAA8A/v8OACwAKgAbAB8ALQA4ADIADwATAB4ADAAWACkAKgAlABkABAAIABIACAAKAAoADQAQAAwABAAeACYAEAAKABQAEQAHAAoADgAGAAQABgADAAEA8v/1/+f/9f8eABsA7//w/wAAAwD2//D/BwAGAPP//P////3//v//////AwABAOj/0v/o/+f/2//E/8r/3//c//T/+P/r/9b/4//a/+r/8//m/xQAHADy/+3/EAAJAPr/6P/2////BAD3/+D/6f8IACgAMQAKAAUAFAASAPz/EAAjAAcA7v/9/w0ACAAeABoA3P/t/xYADQAUAA4A+f/+/wEA9/////3/4//z/wEA9f/c//3/+v/p/+D/9v8CAOb/3P/Q/63/y//0/+T/EQACAMz/0f/2//b/+P8CAPP/4P/+//P/6f/3/wEA5//n//P/BQD0/+//DwAeABgACgAkAE4AIADw/w4ABgDi//z/DwD7/wwAEgD9/xwAJAASAA4AIAANAP//3//v/x4AFQDz/+3//f8TAPb/y//z/xgA/f/7/x0AEQDy//v/DwAXAAgADADy/+D/9v8VAB4AHAAQAAwA9//r/wkADgDy/7v/uv/e//H/HAD+/9b/4/8HAOX/7P/+/+P/6v8DAAQAGAAKAN//5v8FAAMACQAPAPn/9f/+/yEAUQApAAAAGAAoABkAEwAFAA0AHQAMABYAKwBaAGMAKAAHACwACQDn/xkAEgD0/wgAOAAiAP3/BwAgACYABAALABsAAwDy/w8ACwAYAAoAAQDs/87/+/8BAMn/4P8vAAcA1f/9/woAAAD9//j/9f/e/6j/sf/r/wkAAwD8/wUADgD6//v/DwATABQA9v/+/zwASQAZAOr/DwAJAPz/6P/4/xIA8//R//j/MAAdAPH/AwADAPv//f8CAPb/CwADAN//8/8+ADMA3//I/wYANwDw/9b/EQACAN3//v8JAAgAJgAKAPX/4v/r/wEADgALAAsA8f/n/8r/AAAJAOX/0P/m/wQA7v/n/+7/FAD0/8X/4v/1/+T/1P/f/+X/4//d/6j/3f/r/+H/3//i//L/4//S/+D/9v8AAN7/yf///xkA1//K/wsAAwDp/7X/1v82AD4A/v8TACAA/f8PACQAGAAIACUAFQApAF8ASgAaAAwAPQA3AAcANAAuAAAABgAcADYALwASAOj/2f8JACgARAAlAOX/7/8oAEIAOQAKAAAA9v/7/w8A/v/V//f/BQDs//L/GAD5//D/EwAAAN3/5/8EAAAA5f/N/wgABwCy//b/FADj//H/PQAcANj/zv/1/wsA5//6//b/sf/Q/wYA3/+w/+r/AwAAAAIACQD6/9L/1v8AABYA3f/M/9L/qf/s/xMAGQAqAMr/wf8kADAAGQAKAPD/FgD6//H/HwAlAAwACwAwACoAJAAqABQAEQBMAB0AGwB9AFMABwD+/xkAQgAxAP3/7f/3/wgAGwAHAOD/8//6/+j/5/8AACIAzv/S/y0ACQDN//z/HwDW/9D/4P8AADcAAADe//D/9v/t/9X/wP/V//D/LAA7AOf/8v8aABQANQA2ABgA1P+q/w4AIgAHABgAIQAHANz/DQCEAHwAAgD//woAEwBHAFcAJgDy//H/BgA3AFMABADN//n/IgAYADEAWQAnAOj/z/8AABIAFgAlAMH/qf8VADwAFAD5/+T/1f/a/wQAHgD8/7//sf8GAB4AAQDw//T/+f/6//P/1f/x/xwAJwAHAPr/EwAJAAYAAAD///3/BAD2/+f/LAAqAP3/MAD+/+v/FQAjADEA6P/b/wYAFAAtACYAAwAXAAYAAQBaADYAKgANALH/DgCFAA0A3f8KAMf/p//u/x0AHADp/9X/5f80AEgADQDq/93/6f/t/9T/uf/1//3/0//4/yEAMwAhAAAAEgAoAPT/5f/L/9X//v/a/9H/4//h/9n/+P8dAFAASgD///z/TABMADkAMwANAOr/0P/m/y0AHgDM//T/LQAnAKYAbAAHABUAov+9/yQAHQDR/7X/rv/h/yMA/P8zAEMAz/+J/xMAeQBXACIAtv+7/9v/BwDb/5f/6P+n/5b/4f9eAIIA+P/g/xEA0P8LABYA4f+3/3j/sv8kABoABgAgABoA///6/6r/tv9zAEQArP/Z/w8ABwAVABcAvP+4/87/IQA4AEEAfgATANn/KQBOABAA/f8AALP/qv+T/w0AlwARAMH/6/8cAE0AZAAHAOz/2v/P/ycAJQDw//D/z//i/9z/DwA4AA0A+v/n/xwAcwA3ADwA/f9S/7j/LQD3/87/zf/J/zwALwAkALIAPwDs/0gALAD3//n/7P8KAAMAv//n/6IATQDC/9b/JgAqACgAJwAXACcAzf/w/0YAwf/L/wIAHADe/4z/9v9JAGAAIAACAFoAOQDy/+z//v/A/5b/ev+3/8L/zf89ABYA2P8BADEAOQC+/7P/qv+b//v/DADA/5L/r/8lAC0A7f/g/3kAWADj/xgASQAxACQA6P+1/9X/uv+u//j/1f/F/yAAewAlAAMALQBVACwAtf+3/+z/n//I/ykA/P90/8H/QQA2ABUALAAWAFEACwDm/zYAKAAhAIz/e//t/wAA+//x/xkAGgBGAKgAigArACAAIADn/+L/DAAKALX/l//8/xAALwCJAGwAHQAiAFEASQBSAFMA7//Y/8L/2f8IAPL/7P+K/7b/SwBLAAYAFwBHACoAGAASAHwANwBo/5f/8//u/7r/u//G/yYAbwAeAEgARwArAFkATQDg/+v/2P9Z/9L/BADn/wYA7f/+/1IAVQAjAC0AFwDg//H/AwDN/53/R/+H/z0AFQCo/6f/y/8QAFIAaAAVAOD/uf/K/xoAu/9//1v/gv+S/5j/EQAHAO7/kv/P/80AdQD8/7H/Wf+P/ywAMAC1/43/mP/3/xAAZAA5ANr/5f+4/yIATgAjAPr/q/+H/7j/FQAJANL/g/9T//3/kgB1AGAACQDL/xUAYAAXANz/f/9p/+H/7//d/x0AGgDs/+X/IwBLADIAzP+Q/+3/7v/1/x0A3v97/7v/+f8tADUA8f/t/10ANwADADAAJQDy/wQA///a////vv+p//z/8f9MAHAAGgD3//7/IABUACAAvP+7/+3/6P/2/5j/kf/g//b/7P/6/zUAFwDu//j/GQDp/7L/tf/O/+j/3/+L/9D/OQDu/+T/CgDV/+r/CgDm//n/9f++/87/EgDi/+T/pv+N/+v/5v8FAPn/3f8nAGUAFQDd/2AAHQDE/83/7f8hAAcA2//r/3YAOQD2/yUA5//w//z/IQD5/+n/4f8NAD4A7//o/xAADwBaADMADAAtAEAAIAAkABoA7P8LAL7/ov/J/zQAQgAUANf/AACZAFcAFAAuAB0ADwBSAEMABgAyAAoAJABhAAwA8P/w/zsASgA7APn/AAB1AE0APQDm/7L/+f/U/93/AAAEAPP/5v8JAFQAjwAeAKL/yP8KAA8ABgDd/6X/1v/9/zMATwC4/2//yP8aACEAEgDX/8X/6v8HACcAMADl/93/2v/P/+f/PgAwAB0AKgDq/woAQQArAPv/uv/K/xwA4v/G/yoAJgDu/7L/AAAxACYAwv+9/+r/9P/3//r/HQDw/7r/uf+y/x4ABwB5/7n/IQD5/+P/JwD4/9b/7v8IABEA/v/0/+H/7v8gADkAXQD1/wcAWQAJALz/CwAcAOb/AwAWACkAKAACAAoAIgASADAAGAD5/xUAGQD2/yQAOwAjAAQABQAoACgA+//v/x4AIQD6/wcA+P/6/zIAAADb/wwAAgD4//T/zv9KAGoA2//D/wEADAAKAP7/7f/w/8b/yf8GAC4A///F/9r/JgBKABIAxP/b/xkA/f/W//v/OQA0ANz/wf8xAEMA6//Z/+n/BgDm/7L/AABEAAAAwP/n/x0APAD5/6n/0v8ZABYADAAFAPD/7P/D/9r/KgASAOf/2v/g/+7/FwAGANn/6v///9//zv8DADYA9f/T/wkAMwAJAOL//v8SAP3/EAAVAA4AJAAUAOL/1/8SAAQA3f/p//3/6v/g/wEALAArABsADQD4/yIASADu/6//GACAAB4A4v8lACgA6//p/xYAIQDu/9r//P8nADYAFADr/wIACQDi/+r/CwA5ADQA9/8iAFMAPQD1/9T//P8hACAA7v/3/w4A///1/xEAFAAXABQAAADr/xUAJQAMAPr/DwAVAOv//v8kADEA8v+8////NQAYACIAHgDw/83/EQAxABEAEQDw/8T/4/8YAC8AHQD7/wAAAADg//n/GQAAAPP/BAD1/x4AJwDg/9f/IQAKAPj/p//f/ygAsf+u/xgAGAAhAPr/7//f//P/4v8FACEA8//a/97/AwAtACUA4//j//z/9P8MAAUA2v8KAC4A9/8cADkADQDp/wEAIwAoAPz/BgAnAA8A+f8NACUALwAdAP7/CgAgANn/4/8IACsARwAUAOT/JwAvAAYABwDk/+H/+/86AEoAFQD//xAAEgAdACAAEQDy/wAAFAAbAEEATwAmAAoA9v8RABkAAgAGACkAAAAHAFsASAAnAAsAvP/2/yAACwAHAPn/+P8OAOb/8v9iAA4Ax//6/wkADAAGAPT/6P/q/+r/6/8CAOj/zf/G/73/+P8CANf/0v/w/+H/FADx/8P/3f/L/73/8f/m/87/2f/t/wUACQDX/8r/8//U/+//KQDs/8P/+//r//D/FwD1/97/5v/V//b/GwAPAAgA9//x/zUAGgDZ/+L/uv/G/yYALAAcABAA3//2/1IAIAAAACUAAADv/ygAKgAeABYA5////zIAUwAsANj//P8eAAoANABMABIA4/8dADcA+v8AAPb/7v8JAB0ALgAyADIAKgAVAAEAGQArABAA9//o/xAAHAAgABcAEgDr/+b/9f8QADYACwDu/wMABQAHAB4ACgDe/83/5P8PADIAEwD7/wUA/P8YAEIAEgDz/wAA7P8GABoA+v/4/+v/8v8QAAoA+P8HAPr/4P/y//r/7//P/9v/2//q//v/6v/h/97/CQAkAPD/6/8EAAEA5/8BAP7/6P/z/+3/6v8AAA4ADAD0/9r/9/8cABMACQDp//n/BQD//xEAHAAAANH/2f8MADkAIQDr/xIAGwAOACwANwD2/93/7f8LAEcASgD9/8D/7/8cAC0AMgARAA8A7f8AAE4AKADt//r/5v/I/xIAOAAZAAQA6//9/yAATgAkAPj/6P/x/y4AHQAEABIA7//h/9r/EgAYAP//4f/i/xkAIgAnACsAAgDv/wUA/v/w//b/AQDg/9//JAAtAA0A9f/p/+b/5P/R//n//f8FAAcA+//1/w0AHQAHAN7/5//0//v/BgAYABQA3P/m/wcA/f/P/9D/3P/p/wAACwASAAsA+v8NABwAJAALAPj/1//H/wsA9//q/9z/1v/9/wAA///9/+T/0//q/y0AHgD2/+b/6v/n/93/9f/y/+j/6v/h////NAAbAAQAHAAYADEAKgAIADEAGAD6/zQAMQAXABQABAAPADcAIAAHADIANAANAAMADAAfAAwAAAD1/xEATwAlAA4AEQAuACMACQAWAAgA1f/Q//X/BgD4/+j/4P/9/wcA+f8ZACQAFgDx////KgAJAOX/5//S/87/6/8wABMA0f/d/w4AKAARAP7/8//x//L/8/8IAP3/8v/t/9r/CAARAP///f/3//L/BQAQAAsA9P/e/+f/HwAJAPj/6//i/+3/6//v/+r/9//y//D/DAAVACcABQD1////0//j/wEA+v/n//r/DQARABMAAAAHADIAFQAMACkAGgAyABoA9/8NABQA8//4//r/xP/l/xYAHAASAPf//P8QAAsA/////+v//P8KAPr/DAAWABAACgD2/wUACADV/9j/AQD3/+v/8f/m/+X/yv/V/wUABwDZ//H/GQAmADcAGADz/xIABADM//P/FAD1/9P/6P8CADQAIQACACMAIAAIABYARAA3APf/2//9/xsA/f/y//z/AwAkAAwA/P8HACAA1//l/xcACwD8/+b/6//5/87/2f/8/wIA5f/S/wQAMAAdAOb/9P8BAPD/7f/4/+T/6v/8//n/EQAbAPz/5//x/wUAJgD6/9/////r/9D/7//5/+P/yf+k/97/DAD8/9z/wf/j/wYA9f/h/+n/5P/N/9b///8LAPn/2//x/y0AGQDf/+7/JQAKAOL/AwAnAAkA6f/z/xUALwAPAAkABAAOACYALAAvACcALAAqACUAQABVACcAFgA2ACYA9f8OAEMALwAHACYAQAAiAA8AGwAoAA8AHwAqAA8ABQAIAA0ACwALABEABQD//wYABgD5/wAAKQALANb/yv////j/1P/a/+//9//0/xsAGQAFAPz/AAD//+b/7//o/9z/7P/q//j/4f/b/wcA+P/v/wUAGAARAPz/AAAVAA8ACgAJAAIA/f8JAAAA+/8cAFIANQAXACsAOAAyAB8AHgAVAAsAGQAnACMADgD8/xYAOwAxAAwABgAeABsAIQAfAA4AAAACAAUADAAKAAgAAwD5/wIAGAAgABMAGAANAPX/7f/s/wAAAQDn/93/8f/5//3//f/6/wcAGQD7//7/CwANAP//1//h/w0ACQDp/+L/AQADAPn/AAAAAO7/5f/t/wYAAAD4/+r/uv+i/9D/9v/9/97/1v/S/+L//P8CAPr/6//7/+v/4/8AABkABwDT/9v//v/m/+L/AwD7/+T/4f8aACcAFAAMAPr/7v8AAA8ABQDu/+///P/9/wIAIgAPANH/1f8AABgACQD1/+j/+f8AAPX/6v/x//3/8P/q//7/BwDn/9z/9//7/9r/u//P/9//2v/E/83/CAD2/9H/4v/2//z/2v/T/+X/8f/l/93/4//u/////P/n//T/+v/x//D/+/8OAAIACgApACsACQABABYAKAAtAA8AAQARADIALAAZABQAFAAOAP3/BQAUAAkA9v/y//7/EwAnACMA///t//3/AwAPABwA/v/r//X/AQAOAP//7//y//f/AgDw/+X/AwAlAAUA9v8SABMAFAALAAkADAAHAAsAEQAGAPX/GgAXABMAJQAaABMABwATAAwACgAAAAMACwDl/+r/AQD+//7/+v/d/+z////+//X/7//3/wIABgABAAEABQALAAoA9P/v//n/BgAcAB8AEQD//w0AEwAFAAIACgAUAB4AEAANABUAIAApACQAGAA1AC4AJAAxACgAGgAkAC4AKQAJAAAACgABAAAAFAALAPb///8fABMAAwD0/+3/9/8EAAMA+f/7/wMA+v/4/wAACwD0/9z/+P8FAPv/5f/j/+j/7f/y//P/9v///wAA+/8EAAcACQAIAAoACQD7//f/CwAxACYAEAAWABwAEwAdAB0AEgD9/wgAEgAJAPj/7//3//j/AQANAAQA9v/v/9//6v/w//r/+f/u/+z/7f/v/97/3f/p/9r/2//o/+3/7f/w//L/7v/0//n/+v/y//3/AAD//wUA9//w//T/+P8BAPz/5P/g/+n/7v/g/+D/5P/p////+v/r/+j/5v/7/wAA3//g/+n/2//c/93/2//s//r/4P/f/+b/6P/m/+n/5P/u//H/9//s/+T/7//3/wAA9v/n/+b/8v8EABwABADv/xEAEgAAAPX//P/7//3//f/5/93/6/8KABsA/v8EAAIADQANAAIAAgAiABgACgAKAP7/DAAXAAcAAAABAAYAFwAhAA4A///9/woADwAKAOr/7f/9/wgAAADf/+n/AAAFAAQADgAeABAAEAD8/wAA//8AABkAEQD+//z/+v/t//T/6v/p////+f/0//r//v/3/wQADAD0/wgAFwD//9r/0//q//n/+f/7//n/8v8KABYAEgAOAAkABAD//wEABQALAPn/+/8CAPP/9P/6//r/+P///wwABgAAAP//AgACAAAAAAD8/wEAEAAMAAAA8v/6/w0ADwABAAIA//8DACEAGwAEAAUACAD+/wQABwD9/wAAAQD3//v/8f/0/wgABQD7////AQD1/+r/8v/5//v/6P/u/+X/0v/h/+X/4//n/97/8P8GAP3/8P/1//b/GAARAO3/7P/8//7/5f/n//D/8//0//X/BAAKAAAA7f/3/wMA8v/w//b/9//r/+H/7f8EAPv/8P/y//j/+P/4//b/9v/7//v//P/4//r/9//4//z////8//n//P/8//v/+f/6//v/CgABAN//6P/y//D/9P/0/wIA/f/6//j/8P/y//j/+P8DAAAA///8//P/9P/6//X/+//u/+j/6//0/wsAAADm/+j/0f/e/+X/5v/n/+v/6v/l/+P/4f/g/+n/6P/s/wQA///n/+3/7//x//P/9f/z/+f/6v/x/+3//P/5//X/+P/4/+7/7v////3/+//9//H//f8BAPn/7//8/wkABAD//wAA//8BAAEA9v/3/wUAAgD9//L/6v/Z/+T/+f/1//T/+P/5/wIAAQD4//3/+v/m/93/3//t/+n/5v/l/9n/4/////3///8LAAAA9P/1//j/AAAAAPz//f/6//r/+v8TABEA6v/y//z/BQAOAAoADgAdAB4AJAAYAAgADAAOAAIABAAIAPf/BwAXABAAFwAWABkAGAAOAPf/7//+//7/AAAPAAkABAD6/9T/4//+//r/BQAFAPv/AwAHAAcADQACAPD/+f/y/+f/7P/h/+f/8P/h/+z//v/1//P/8f/r//j/AADy/9//5f/v/+v/4P/X/9j/0f/e/+b/6P/0/+v/8f/5//P/6f/x//v/AAD5//v//f/r/+j/5v/i/+3/5P/U/+L/5f/8//z/9/8DAPf/+f8DAAAACAD5/+7/+//1/wcAAwAQABcADQALAPb/AwACAP3/AwARABQAEAAJAAYA/v///wMABgAPAAwAAQD5//L/8v/y//z/CAD9//7/+v/m////AAD1//v/+f/w/+z/7/8AAAYACAAIAAAABAD6//n////8//n/BAAQAAUABwABAPv/AAAFAP7/BQAPAAQA/f/8//3///8LAAsAAwAMAPX/4v/q//D/7v/r//3/9P/u//T/+v/7//j/6P/a/8//2//e/77/yP/Q/9X/2//R/9j/3P/T/9P/2//i/9//6f/s/+z/6f/r/+r/4f/k/8//xv/W/9r/3f/h/+f/6P/t//P/3v/k/+P/y//V/+D/5P/h/+H/4f/0/wsA+//q/+z/4f/q/xAABQDw/+v/9f8PAAQAAQAFAPj/+f/5/wEACgALAAsACgASABoADwACAP////8EAPT//v8OAAQAAAAFAAcADwAZABsAFgAJAAEAAgAAAPv/AADl/9v/7f/z/+v/4f/n//b/8f/c/+T/5v/n//P/7//4//r/8v/y/+r/6//T/9r/6f/j/+f/6f/x//z/9//q/+7/5f/j/+v/AwADAAEA///9//3/AQAgABcADwALABcAIQAZABcAEAAYABgADwAOAA8A+f/x//n/+v8FABoAGAAVAA0A/v8AAAYAFAAmABQAFgAaAAYACwAKAPn/AAADAOn/6//0//n/BAD9/9v/4//t/+f/3v/Q/9n/9P/z/+j/7v/s//H/4//J/9///P8AAPH/4//9/w8A7f/j/wMA///W/9D/5P/u/+f/6f/+/wUAAwD//wUA/P8EAA0A7//u/ywAQgAVAPX/CQArADYADwD1/w4AIQAjABoACAAUAB8ACgAJABQAGQAXAP//8P/+/wMA+P/+//z/FgAQAPL/IAA1ABAACQAMACEANgADANr/8v8FAPP/8v/3/xoAGwDs/+f/9//z//n/AADt/+7/9P/4/+n/5P8FABgACADs/+f//v/o/93/9f8MAOb/tP/E/+L/6f/V/+j/AADh/8v/8P/5/+D/7/8AAPr/4//e/wkABgDH//H/NAAFAMX/0P8AAAYAyv/j/ywA7P+h/9n/BgABANz/5v85AB8AxP8FAEcADgD7/wYALgARAMD/DQBIABUAJABQABsAxv/O/zwAUwDh/woAYQD5/57/vv9GAHcAEwAqAGoABQCw////QQA1AOv/DAA9AM3/h/8AAE4AEwD2/yIAAACK/43/PgB2ANP/uf86AAwAl//C/04AogAZANz/VgAmAN3/HABqAHAAJwDz/w8Awv+I/x4AZQD+/87/1v/z/7L/h/84AJUAHwD4/xkA7P+d/6n/VACNAOD/2v86APr/nf+8/zwAIQCa/6b/AQDP/4D/9P9ZAEAA6//n/wkA8//e/1MAkQAlABIAIwDl/9b///91ANAARwDU//P/y//c/ycAeQCaACkA5P8OAPX/6/9KAJ8AeQAiABkA9/+w/9v/kQDDAEsA5v/g/w4A8f8XAJgAUQDH/5v/pv/S//b/NQCUAEgAfP9o/7H/u//S/1oAmgASAI7/q/8JANP/+f8FAeQAeP/b/nv/RwA6ACkAwACHADT/B//S/xUASAB4AC8Ajf/Z/kr/VwAdADAAKwG7AB3/UP6P/wQBugBLAOkAbwC+/nD+GgBcAeEAGwBZAOL/1/4G/2YApgAwAOEA2ABO/9D+4P8BAZAAp/+fANIA2f5P/vP/vgHHAWQAEgACAMj+3P6QAKQBJQHo/5z/N/+Q/lv/EwFgAXoA3/8YAI3/Nv5h/30BzwCM/+7/agBT/xr+0//IAesAKf93/2QAZ/9Y/gUAfQFzADX/7v6m/5r/Jv/OAJUBOwBi/1r/kP83/6T/vQGuAWb/If8SAIP/zv7A/+UBjwEi/w//OQDo/8j/dABaAdYAQf/s/qv/3v9WAKQBoAEAAOf+EP+x/wYAhACTAYYBe//Y/v3/FwDp/4QATwEWAVz/RP5F/wwAggA+Af4AfQBu/yX+Cv+kAHQBRQGZ/8H+FP8r/zAA+AD/AHIB6f9t/t3+lv8CASwB4v9DAKYAyf8S/3z+cP+gAFAArf8F/zz/e/9G/wAAJgEtAer/if6t/vz/ggBSANz/5v83AKP/Xv/s/2AA9wCOAdEAVv/9/gn/cf8HAMoAiAH5/yv+4f4lALgAXgC0AUECqP+E/i7/UAA8AbwADgFPAV3/hP6X/2IALQHZAIMATAD0/ob+UP81AOQA+QBdAWIAEv74/RkAOQHsAE0AbQDh/z/+FP8GAQ4BIwBv/6f/yv+t/pf+ZgByADEAWABo/w7/xP6k/9EBUAFDAGcA+//u/o7+1v+VAboAn/+rADcAZP6D/k8ApQExAKj+8v+vAJT/c/9xAK4AgACGAD4AMv8Z/iH/MwERATEAnwAiANv+Cf8mAVIDZwH1/WX+yf87/wv/sAAkAjEBHP+V/53/5P6S/+UAagElAHb+Kv9B/w3+OAHIA9oBC/+Z/t7/HgADAJgBQgKL/0D95/+1AQ0AUP+VAEYA3v6T/uz/QACE/rb/rgItAXz+JP/uAJQAn/9zAI4BEwAd/sb/KgEb/6/9zv9lAR//tf0kAFn/lf1j//oBFwI5//P+1QI+Ajr+iP/JAS4BNf/G/ygBFgAG/gQBnQJk/4P96P5QAHj/xv7GAMIBx/65/uUAAAEM/zP/MwNPA6v/dv6d/+T/xgBeAU0Bd/8z/db9kACKAJf+Dv/9/1/+V/6OAHsBjABU/6AAsQGd/tH8vADKAtgAuP9SAJr/ef5h/xIBOQFm/+f//wDw/xb/wv+h/wgAkQB6AXIBbP5R/tEAOgE7AYgAff8kACv/lf4PAQABXgAoAFH/ff/r/wYAwAGyAFj+IQBnAID/CP+H/lEA6gDK/h0ArACi/jj+RP+UAQ4BrP5c/jEA9wBlAnMC3AExAEn/9QA/Aav/wP7C/3cA3v84/y8Ayf/P/pX/XgEPAWL/2P6M/44ASgD4AF0ByQCS/2P/BQKFAt8Apf9M/yr/Pf5O/6QAGf+i/9n/fP5//vb9zv45AFP/HQHKApv/LP94AHUBNAIaARIAxACP/9b+JgDv/+P+0/7o/wgBsAAG/4f/mACxAJ4ApgC3/vf8P/+wAYEBrgDoAN4BiwCA/o//EgG8/yX/mP9C/0b+zv2B/z8ACf8XAPf+yv9jABn/SgC5/9z9ff8OAkABKP/G/Qb/VgGmAH7/AACm/wH+cv84AiwD8/87/+IAHABS//AADwKUAS//3f4XAIP/rwAtAt0BLf8M/pP/SgFXABH/LgDGAIb/mf77/ycA7P/H/l//MgD1ALIA9QHtApj/K/2a/vL/Cf8m/+L+AP8U/cv+sgK0ALj+JwBOAmoC8v9S/5n/cv6O/vr/XwKNAUD/qAFcA9P+ify6/o0A+ACn/+v/Q/+p/SL/CQR7BGUA0fwG/tb/sP/AALwAPP+r/b/+GALMArj/XP/u/3T+hv1J/XAAlwDp/S3/CgGQAXUD+QLfAIT+EPy1/60COAEoAJf+C/6n/8b/oALLAuv+8f6e/w8AbQAdAK4BBwJE/jv/uQD2AEEC6gAmAVL+3/s4/9UCewITADP9Sf6Z/9j/vALYAev7Fvx7APgBagGP/wX/SP0e/q4BgQMBAjT+Sfyt/m7/D/+JAX4BGv9O/bj9RAGzAZQBRwLS/zn+Yv6lAHQEPgLs/sv+eP3u/S0B6wLsAtj/xf1yAc8Brf4k/2sAyP7F/YX/vQKdAnT//P6u/9f/BP8OAQMD0P+i/Ar+7gBiAz4COAGxANT8bPyWAQkDRQDd/ab+tAD8/FX+1wN0A3cAa/7t/vj/X/6w/74C+/6Q/MH+TAJZA5v//f5kAJ79p/2LAgYDz/+C/LL9oAGeATwAPgFBALH9zvxeAasDQ/73/vwBfgBJ/tH9hQDpAmL/Kv2Y/379if5gAuED0gGQ/Y39wwDNAAkBxgGp/uv82/zFAJAD5QDG/7D/ef+L/9z/QAFOAXz+W/8iAfYAmwBeAMgAPAD3/sYAkQICAAj/fP/j/wr/5/11Ac4DCgAh/kL/4//N/17/8QAmAVP+5f6kAvYCt//D/m4ARwCd/Wj+rAF6AAT+bP7O/z0A0/58/3AAnf8b/ob/nwLbAc/+v/6aAJr/0/7QAJgCIgDu/DL+IgEzAdr/uQEDAkr+jf2MACkCxwDd/3oAVQBN/tH9tQGuAiT/zP74/8f/2v8VAAQCbQLk/lv9NQBLAKH+AgDTAWgAWv7Y/wQCv/9i/Ob9AgI6AS0AKgIGADr85/wlAV0DoABF/ksAdf/B/YYA5QKyAXP+FP5PACIAVf8qAaIDpAGX/f/9VgCV/9X+RgG3ASH+wv36AOABT/9S/jkBiQQrAfL8mP9mAH39tP7zArMCYf/L/XoAywG9/0T/rwEFAXH+3v4FAEj/9P3i/wsCDAGm/o//cAHJ//z+dwCdAQ4A1v15//QAXP9CABsCTwBu/lP/SQCWAHT+ov5FAeb/5P7EAWgCd/9+/s7/AQLAAEf9Zf9aATcAqP8YAMQAkP5P/REC3wKV/lX+6f9b//X+8f4YATAC/P5AAHcCKQD8/CX+vAGgAXj+2f46Ab8A3/9RAKwBaQFVAJT+/v68/MX7rQKvBOv/Of+DALn/pP9z/xoDiQLm/Gr97QC6AP7+g/+uAQQCUv9i/wsBEf9P/nAAzwFKAK/9Hv80A1//Cf0rAUgCBwD2/pT/KAH//iv9/wJoBOD+1PzO/mYAX/6m/ngD9AK3/Zb9owDoAM3+EwC5AswA4fx8/qECTQE0/tz/7gEGAPv90/94Avf/m/x8/0QCDf/d/ZoALQL5AOr+vgARAoT9mPz3AEoBD/+s/jkClAPz/qr9qQAmADD/dAHTAZz+c/xL/qgCRQOsABEA0wDL/oH9cgDkAnwCbP9D/ur/Zf7a/n0CsQFM/3z+U/8eAc/+2/50A7gAn/0zAWQB9v85/pX9ugGDAXX+ewEEATf9VP7R/8sBOgER/h8AjQA7/nT+agAAAtYA0v0B/8v/8/weAcoF2wID/pT7HP9wAh0ATf9lAaL+UP2V/1MBEQGd/zz/bQBfAYT/K/+FAN7/av/QABUBNQEQ/zP/lgHl/iP9MgCEAXYA6v6A/28AuP1k/6cEEQJf/hr9Uf2jAM0AKwF4A/v/+v10AJsBfgB+/4gA4gIBACf7X/0/AaoChQG2ACAA2P6t/t8AEQM1AFr+YQE/AZD++f7lAMgAg/8p/6YApACm/OT94QH5AbD/y/4NALn/Pv0N/54Cdv+A/z4CvAAZ/837U/5mAxIAD/4kAQ3/Z/yx/oMCegMj/9b9jgFmAcr9Mf7XAYUBbf5M/+sAEQDn/uQACgMrAeT+1P+vATL/zfyk/0QDcwDe/Y8A/gGyAOX+7/9TA+UA9/x4AEcB2f4iAXACBAEf/9b9xgB7AGX9mABBAzYBrP6f/G0AfQMXABUBqQIw/6X9r/06APIA4f5eAegCk/4K/Iz+fAECAeL+BAEaArP9K/3QAacCuv8g/1MCbQBI/Ir8mv8yASkAbP/YANf/Mf7/AGgB8/7G/er/+AEwAOL9pP69ACUARv6YAc0CqP77/QEAhgA3AO3/GADa//v9Pf9HAuz/dv7HACMBwv6G/SsBugNDAKv/8QG9AAT/k/7HACIDW//u/UMBTQB+//n/1v8qAZ0A8QBdAy4AZf1z/0kBjwHP/4P/vAJuAL/80/5V/87/2QDTAHkAMf9HAGQBkv9p/pL/pACmAIH+n/5n/zr/N//Q/gcBowE+/+D92/7s/yIAVv+p//v/YP3G/mIBEQB3AFoCeQBh/Kn8aQA5AkQA8/9sAJ7/kf5G/2MC0wEb/+X+1P/X/1//7f+xAfEA2f80ApoBr/5S/nb/rgEeAWf/JAG4AH/+2/5uAcMCegD3/oMAvf/X/SD/hAE0Atr/v/5FACoBZ/8t/4UAvP/k/Sz/UgEAAcz/ogBnAdH/9P3j/u4AZgDF/oT+Tf8IABIARwDyAEr/ov8hAfD/X/8k/1f/1v8O/7b+aQEfAs3/9P6D/zEAjgBUAE4AfwAbAEj/e/94AKQAOQHYAUL/0PzM/cr/OwG8AekADwEEAGD++P/SAcAAkP98ACEAbgCo/yP+8v8DAeQAqgD0/zUABgCX/2r/V//r/7MB5QBX/zcAXAA6ABsAQADcAWwAav0x/noAHwH1AaEA2P5S/uX+1wGPAUf+V/5d/5b/GQCmANoAkQAWAFYA0ACK/7b+GwBDADD+CP7HAMEB5ACX/fX9XwDR/wcAbwG6AIv+7/yU/mYB2ADZAHQB4gD7/rn8of6eAfsAHgD7/0L+z/7w/18BEAOcAB/+OwD1/4H/vgCdANoA7v/m/5gCegGz//f/3P/g/7j/Yv/6/2sAVgDVANsADwBOAPb/aP+r/0sA1wFuAQ3/A//Z/ycAwADWAf8Bmv/n/O79RACEACr/RADyAGL/1v/rAMMAfv8X/+sBfgFg/TD98v58AL8AeQD6AIUAN/4K/Tn/1ABzAMr/Uf/O/tX+cQAlAdH/Lf/U/48ASgAY/wP/2P5B/14A1wKFAWX+wP3O/pcAJgGMAAj/Mf8F/z3/lAD0AN8ARALqAMn+DP8MANwAVwBU/2wAEQGN/rL8Ef4hAtICrwD2AOr+W/2P/2wBIgKpAML/YwLyACX91P4PAPv/YACeAK8DSgCb+/X+FQETAI4ASAEPAbv9dPwOAaMDpAA8/oH+3v8yATgCEAJVAA/+Xv59ApkB4f2Q/or/lgBLAM3/TwDX/rP94/8IA9cC3P+6/uf+aP/eAJoB4ACv/ez9tgCyAFb/Zv6wADIDswDN/1z/X/zV/fABoAMsAvb9yP0AAIP/8v/QAfMBBQBN/k3/0gCh/lP+UAHKAZMAi//p/rb/2P2L/rkClQPPAPf9+P0M/sL/LAO8BK0Ahvz2/Nr/KgHY/xYAYf+N/s7/1QCuADb/9f5GAtcB4/74/sf+ef/1ALoB6gIaAB/8LP4nAcEAAgETAW8AHf8i/a7/agJKAaEAmQCG/3b+0/4VAPYArP/W/7QBxgCn/gj/1QESAer+R/8JAZ8BW/34/FoBWQH0/sb/JgKRALX9ov7JAWcBQf/6/wMBVgDm/TD/egPoAZv/d//V/Qb9rf8DAXYCkAG3/lcAJwDB/kwAnAALAdcAqf/+/hn+zP62ATwBy/5vACkB9/95/vT9QwEmAk3+4f2qAHsAjP8Y/2QAKAKq/4H+gwBAALT9//6rAn4Ckf+S/jkA4P+5+1L+hAPsAa//IP+t/63+l/siAKcFxwG3/Wf+7/+o/zf+gwBCAgYAqP43ADT/zf1N/zACsAIr/t39rAHH/xb+2v+KAVQBDv8P/mb/a//Z/uYApQHG/0D/3v/R/3//o//uACoBL//n/hMAIQBK/z7+BAC/AawAzf/l/2P+fP78AJcBSgEjAOL9Ef9Z/2n/bAL1AfL+mv7V/hsAwgBmAIEB2gDn/gb/mP9iAKL/G/9oAUkC5P+D/mL+Bf98AQUCzgHA/1796P7gARIBpf+7ABoANf8PALEAXwEbAHb+lP+pABkAWwA7AGn/j/+oAKgBXgBO/jL+1v8RAEn/wP8SAdIAdv50//UB6QBy/yoAWgBA/nz9gADtATH/gf7uAO0AwP49/poAKgJpAL7+v/9hAMj+Qv4gAfgCUgCE/fb+vgDg/zH/6P9BAXwAjwDzATEA1/2X/ugACgJGAM//IQCt/xn/n/9VAYUBjf+S/4oAawC7ACT/tf4rAFcAeQATAeL/gv9MAMv/xv9gADMALQBVABQAEgAuALH/VQA/AUoAHP+f/+MAp//i/mMANwHSADsAEwDG/yP/lf/dAO8ADf/H/kgC+AH6/fb9DQEjAYr/uv8nArEB7f3t/dj/2QAwAUEBxgAM/or9fQANApcAEwBdAPEAcP8P/pUAcQFU/5H/6AAU/+L9kf81ASsB6v9I/+r/6wCV/0P/kwFSANv+RACv/+r+iv+5AOAAnf9r/8X/hAAoAHX+8f8IApQBe/8u/rz+cv//AFkBr/9o/rX/qwDa/8X+EgAzArkAKv6P/tcAvwA5/hb/2gBc/8L+IAAIAaT/+f6zAMoAhP8K/0L/bwBY/63+BQFEAeb+i/4mAO7/6f4IAMEB8v82/jn/nAC7ABcA9v9MAPL/9/15/Yj/9wC3AVEBmP8y/VL+GAESAvsAaP+U/v3+YP4G/tgAZAIeAV3/pv/j/wT/0P+WALH/9/8iAeIAVv6S/d//TAEEAQUAsQBIACr+5/6jAOIAQwBcAGkB8ACr/iz+wP/YAJEAvwBuANn+f/5K/14AtwGGAW4AWf9n/sr+gQANAXYAS/9S/wAAQQDR/5T///+FACYAr/40/38AjACMAPX+s/03AAcBQQA9/7/+GQCmAD4BSABw/tX+qP/hAJYBi/94/qn/W//u/g8BZALgAPn+0P62/rn/GwAMAMcB5QA7/oH+IgA7APL/0AFCAv3/Uf4w/koAIQH+/zQA3gDoAKQAq/8eAHr/0P7MAPUBbQBc/rr9AQA7Ag0CoAFNALP9C/6e/xQB9AITAUv+2/3x/ssAaQHaAG8A/P8cAML/gv+e/3//BwEhAvMAnP9q/tf+DgBTARMCFADA/lf/I/8aACsBdABNAL7/kv++AH3/d/6h/yoAxgDqAHYA7//5/UD+0wF2AuwACgDg/bP9Vv4rAJUD4gHt/jb+vf7I/z0A/wAXAkEA5f6x/zwANP/f/qoA+gHPAJj+Y/21/t4AQwF7AcIBV/+5/d3+/f+uAC0BzwA7AEP/xP9P/4b/CwEVASQBAAGx/qf+CAA9AHUAJwDJ/z8A3/9N/4X/0v5F/gkAnQEpAeH/u/4h/8j/HgDQAbgAWf93/9L+NP+Y/w8AtwBFAIoAoQDW/1kAEABnAOYAg//M/xQAyf9o/uf9DAHJAtQAmP48/hYA8P/P/rwALAIwABX/Sv/RAHQBLf9/////z/6//5wAnAB+ALn+ef8DAsr/h/9dADT/HADe/wL/KgCu/1r/BgBxABkBNQDL/i7/pf98AFIBHADu/sL+4/8eASYBbACD/wD/1P+bAJsAGwAGANMAmQCN/zUATwA9/z7/PgD7ABf/kf7WAHsAj/5W/30AoQEWAb/+9f9IAC7+Yv8wAWMBnwBP/vH+lv9R/+IB8AEvANj+6f17AI4BnP9YABABQwCm/9X+cv82/6L+UAE7AvIAQv8E/gAAzgADAOMAlgCf/xr/fP7k/9IANABUAcMAtf4/AOcAY/8q/9EATAJ+AHT+uP7d/0YBqADmALcBKv+0/dz+nQBYAXMAPwCt/9P93v8jAuEARf/R/vD/lgCZAHoAuP8s/7v/JwFVAYwAxf///ub/lwD3/04AlADx/+L/rP8xAOIAKQDO/ywAAgBC/2j/nACKADwAjAC1/z7/QgCAAC4AOQBOAKH/Z////34AKwBu/3r/hADYAPT/0/7j/wABWgD1/08AZgDJ///+9f8vASoAJv90/yIAtP+y//IAlwDT/0AANQBjAGD/0f6JAFMAMv9SAOoAGwB0/zEA4gD7/3D+Kv/1ADIBMgCN/97+yP7h/zABOAG4/4X/bACl//3+MgCnAfYAJP/4/isA1gC3AA4Aev/b/zv/S/+pAJEASwBNAAYA4/9T/0wAtwEdANH+4P88AOH/6f8lAIcA5/9S/1AAzwCa/+f+IADtAKj/Vf94ADkA7f4rAGoB5P+g/oH/AgGuAB7/Iv+OAIUA3v9RAIwAs/+k/+n/lf+u/14AlABqAAIAh//s/xEAsP9bAE8BjgAr/7L+bf+yAMIAOQBJAMT/SP+G/37/DwAsAfEAyf8W/z7/kP9jAPUAyAADAPD+Xv6q/2ABqgEnAET/rf/E/8f/GQCkAJYAc/+K/+0AVAAY/8//4gB9AGD/6/+gAJr/Wv/aAP4AdP8X/xwAAwGWAPb+Kv/0AMoAVADwAPn/Tf5R/7UA5AA2AIX/EABNAGX/uP+yABcBzf/z/r3/RwAVAPL/nf/D/3MA2AAcADD/6P51/1kAVQG+AIj/VP9d/8P/AgHpAOf/rP+8/8z/8v8sAN4AdgBq/1X/RAC3AN7+N//7ASIBzv5o/2MAIACy/7oBbwLl/gP9qv/8AUwBb/+//1UAn/4S/7EBsAAR/wMAiQARACn/gf8qAVYAVP/6/1oA9/9F/8r/8gCHAJj/3f+v/23/TgAQAeEACP9l/ikA1QAuADoAIgAXALH/i/+QAQ8BRP7u/vMA0wCb/1P/3wB2AOb+4//oAAoADP+o/xIB3QAp/z//eAA5ALr/YAAsAaH/V/7M/zMBxQD0/53/uv9W/+H/HgHwAJT/sv7//zoB9P/s/jcAfACe/6X/DQDT/yz/8v8uAZkAUv+5/zgApP+X/0cAnwFoAOz9T/9gAfP/Vv+YAFIAL/+O/60AOgD//p7/PwBJANT/iv/wAI4Aef5b/74Atf8TADcBUwCe/1f/uv9VAPH/af8QALkAQAAi/z//OwAsAGcAyACp/yv/xf8tAGoAT/8f/+gAYQHC/9j+MQBwAGv/BwDHAOP/r/9aAHYANwCD/4P/RgA8AK//pf9lADkANf/w/+kADQBAAIQAKgA9AHD/IP8mAHEAggA6AKv/p//f/6QAvAB2/5f/ewDZ/9z/fQAJAMv/ov8sAOYA2P8r/0cAYADS/7D/AwCOAP3/CwDzAOL/w/6n/+oAogCp/+b/QABk/zP/VQACAWcAh/+j//L/rv95/+j/nQBvAI3/6f86AI3/2f+XAMQAIwAF/yv/QQAbACEAXQD//+b/uf/1/3IA5f+f/5oAYABS/3T/RQBeAO3/TQChAJL/0/7l/6wARQCy/38ALQGq/7v+FwD9AMP/kv+FAHAAX/+B/40AnACR/0L/gABLAfr/9/7U/1YAef8XABoBDQBL/8n/hACRAIz/P/8aAHoAwP94/z8AewBo/5z/sQAjADoA8P8Z/6H/z/8EAGEA2P9U/+f/QwBpAP3/pv/f/7D/AQBxAAkAuP/B/6n/5v8NABQA9//1/ykAIgACAND/df8AAMMANwAQAGUAx/9D/+7/pQD/ABkAMf8yAOYAOwCi/7//NAAuADsAMgCa/1T/CgC/AMIA3v9t/wEAEwANAAAAzP/Q/97/KgBKAPn/4v8eAPf/FQAmAOj/KQD7/5b/9P/8//T/GgAzAOf/sP8VAHQAJgCQ/6X/yP89AFAAzv+5/6j/lv/7/2wA0P9m/5b/+f83ACQA1f9i/xX/j/9yALoA1f8V/6//KgD1/zYAQQBU/1X/OQCwAEkAIv8+/z0AngA/ALb/uP/C/+f/NQCeACsAdv++/w4AIgAVAEoAJQANAOf/HACuAGAAxf/Y/zsAMwAkAFkASgABANj/iwAHARIAQP/U//MA1QDZ/8P/SADc/5n/KQB9AIQAwf+C/9r/GAApAFMAXgALANL/4f/u//L/0/+b/8H/lwCPAJn/Sf+z/zkAVAAGACwA9P9f/3r/KQCNACUAwv9eAHAARP9P/3sAxACR/0j/PACAAK7//f6a/3kASgCe/+n//P8s/3n/ogChAK3/Qf+O/0AAQgCj//X/RAAjANX/AAAIAH3/3v+3AKYAFgAb//z+XwCzANz/1v/m/+n/3f/T/ysA/P/5/0EAVQAVAMr/s/8IAIsAigC3AFIAt/9r/+v/ugDVAFYA3//J/8v/PAByAEUAIAD6/wQAKQBzABsAhf/u/38ArwAnAF7/xf9ZAPn/IQCvAI4A6P9x/6f/WwCVAGQAHQC5/6X/LQBiAPP/4P/w/1YAcgDd/2T/mf8gAAsARwBbAOz/jP+c/+b/IwA5APf/7P/2/5j/Y//f/2sARwDK/6v//P/+/6z/IwBdAA8AwP+P/87/+f8BANb/GQABAMv/BQADANP/mv9m/7r/lgB4AFr/QP/+/yIA7v8MAPj/uv+e/77/igB0AKj/lv8RAC4AAABTADsAi/97/xkA+wB5AFb/Kf8YAGYAw/+w//r//v+h//b/ZwAPAIL/mf9aAHIAuf+H/xYADACV/8H/SgBeAMz/uf9DAAkAgv+2/0oAWgDe/53/+/8qANT/1f8MACoABQAAAPj/+P/w/9b/6/89AFcAxv+k/9H/FwBsAPP/u/8YANX/xP9gAKwAJQB0////nAAGAK3/AABGAFgA+P/8/0QAtP+a/6wA7wDv/zv/pP9ZAAgAjP/7/1oALwD0/8z/AQDG/7T/TwC3ACAAt/+e/53/4P8QAGQAWwDX/4z/oP8dAHcAAADN/wkA1//K/+z/wv/K/xUAEAAJAPr/j/9G/wEAugB2ANP/wP++/7L/5P8HAJgAdgCv/4r/2P/N/9//ZgCdAEoAtP+v/+z/IgD8/+j/qgB0AH7/hv/8/wAAGABQAIkASwCY/3X/tv9DAHYALwAcACEAx/+g/9n/OQBYAAYA6f9pAAAAX//3/4MAdgD4/+z/VwAxAJX/tf+PAIoAzf+9/0gAQAC6/9j/RwAmAMD/hv8qAD0AmP/L/5MAXgB8/4f/DQBCABoAAgAzACIAvv+T/zMAaADg/7j/BAAsALn/n/8QAD4ABQAPABAAGwDs/2D/z/+IAFoAIQDz//v/DwDW/xUAWQABAMn/zP8cAA0Aif+s/2gAlgBgANH/xf9bAPv/rf8kACEAxP++/yYAVwDr/97/LgBhABQAcf/H/04A+f/P/zAATQD//93/AAALAAkA3v8LAP3/gv+V/0UAlAAtAM//vf/l/w4A5f/e/zQA7P+//xIALQDp/7T/vv8NAEkAKAC//8n/jv9A/9r/ogBnAPL/sP/P/xkAAQCu/xIAUwD6/+H/GgAXANP/v/9EAMUAMwBk/6T/PwAxAJn/yv9lAJUA8v+Z/w4AFgC6//j/oQBdAKX/dP8PAGwACwDe/3wAUACL/+f/kgA4AKv/zv8cABUA9v+v//X/QQDs/ygAggATALX/2/8oAFgABgCl/9L/MwARANz/AAA4ADwABgDl/+f/2v/q/ywAUQABAKP/xP86AFIABgC///n/MQDd/6P/AAAuAPX/3/8zAGcA7v+R/x8AeQAFAMT/AgAyAOn/x/9qAKcA4f9b/9j/awAkAMz/MAB8AAAAo//o/y8AAQDp/ysAVwDc/0P/wv9DAPz/0v8qAEwAGwDi/9f/CAAXANr/7P8+APP/kv+z/w0AQAAcAPT/7/8gAB8A1f/T/yQAFAC9/9j/QQBOALL/Vv8jAH4A6P/S/zgAJADN/9n/PwA2AJ3/nP9UAJoA6f93//r/TADc/9v/QgBGANL/1/84AEUAtf+Z/0cAeADN/5P/KAA+AL//y/9YAEYA5//c/yoALQDT/67/4/8IAOf/+f9QADYA3P/a/wUAJgARAM//3v8dADMA8P+T/8b/UwBYADgAKADP/4z/xP8zAEMABwDV/xQAVgDx/7H//P9QAFcAKAAGAPn/0/+//wUAcQBOAAAAJgBTAPX/kP/f/1MAQwDl//3/JwDt/6L/5f9QAEoAHwAKABEA2v/e/xcAKAAbAPf/4v8CADkAAgCy//j/QwAQAOX/0//z/xwA3/+t/+//DwD7/+n/4P/C/7X/4v/2//r/6P/7/yQAKQDi/8X/6v/0/+D/1f/j/8j/vP/g/wgABADz//n/CQAQAP7/2P/U//b/BAAFACEAHwDg/9T/+/82ADsAEQDl//H/HwA8ADIA/P++/+H/agBsAPz/xf/O/wgARQAjAPD/HQAvABwAIAAuAPT/8/8rADgAAQDM/73/w//h//T/+/8oAAwAtf/j/xgACwADAN3/x/8AABkADAAHAO//6P8uAEEACwDQ/7P/4f9DAFgA4f+s/wAAJgADAB0AFgABABwAKwAmABkA5/8DAG4ASADc/wMAJwAEAOT/6v8bACIA7f/S/9T/4f8eAE8AWgD5/6n//v86AOX/pv/e/zMAOQDv/8b/7/85ADUAIAATAOD/wP/z/xgA3f/R/xEANAAhAMz/rP8PAD8A/P/y/xQAIQAVAAAA8v8VAEAALgAPAPD/wP/c/xsAMgAHAOP/+/8fACAA+P/s/yQAPAAaAAAA4f/P/+3//P8LABAABQD//xgAAQDj//L/HQAUAOn/vv/g/xgAAADf/wMAPwAxAOj/1P/s/xwAOwAeAPj/6//5/xsANgAQAPT/HQA8ABwA9f/N/87/BwA/AC0A9//A/7X/7f8aAA0ABAAFAAMA+v8DAAYADAAJAAwAEgAZAPf/zv/O/9z/AQAcAP//0f/Y//n/FwAYAPz/3f/s////DQAQANv/yf8RADwAAADM/+X/BQAXACwAFQC//7r/6f8gADUACQDj/+n/1P+2/83/CAAbAAMA3P/X/83/uv/T//r/CwD2//j/9/+6/6P/+f9GADgA+f/u/9j/rv+3//j/IQAfABMACwD2/+f/7P8AAAMACgAXACcADwDm/+z/BAAkACIAFQAAAOj/8v8VAC0AFQD//w0AGgAJABMAHQAJAAgAPQBLACkABQAAAA8AIAArABIADQAFAAwAOwBHADQAHAD+//v/EgAMABkAMQA1ACYAGQACAAoAHwBCAEgAEgD0/xEAGwALAA8AKAAsACYACwDy//z//v8cACcAEwD8/wQABQAJAAkAAwAZACUAGADu//L////+/wYAAAD4/wAA9v/0/+f/5P8bACQA8P/C/8T/7P8PAAoA+//o/wAAHAAJAN7/xP/i/wIACwD//9j/1f/+/xYAQgBCAPz/z//n/wcAIQA9ADMAGQDz//D/AAD2/+r/+f8WACAAEQD1/9P/2/8QAFsAXQAaANf/3f/+/yAAMgArAC4AFgAMAAsA6//0/w0ALQA2ABUA+P8NABUACwAIAB4AKAAmABwA//8IACIAKgAXAAkAAAADABAABgD2//T//v8QABMA+P/y/yAAKAD+/+v/2v/j//3/FgD9/+//+v8JAAIA9P/t//D/BAAQAPn/4f/1/woABADy/wMADgAAAOD/zP/T//r/FwARAPb/3P/Q/+//AAAAAAAA9f8BAAEA5P/Q/8X/2//z/wUABQDt/93/xv/K/+T/8P/r/77/rv/K/+z/7P/h/+D/3f/k//7/8P+4/6f/1f8OABQA4v/G/8//5P/+/xAA+v/T/+z/FgALAAQA8v/z////CQASABoAAQDl/+7/FgApABEA8f/l/9//9/8uAEgADgDX/woAOAApAP//3f/l/xQARgBNAA0A0P/m/zcATAAhAPb/+f/q//z/HAAlACcAEAAXAB4AAADw/9v/5f/8/wkAKwASAMn/w//4/y8ANAAMAOf/3f/l/wcAKAAIAO3/CgAnABoA7f/m//P/BAAbACUADwDg/9n/8/8AAPr//v8KAPb/2f/W/+n/+P/o/+3/BgD///D/9f/s/+D/6v8MACgABwDg//f/DwAFAPn//f/+//f/BAAOAPn/5f///ycAJgAEAOT/3//b/+n/AQAbAA4A7f/q//3/EgAVAAQAAQD6//P/CwAcAPL/4v8DABwAFwDx/+H/6P/q/wgAIwATAPX/8/8KAAMA7//9/wwAEQAAAAYACwAJAPf/CAAjAA4A6P/i/wAAFAAkAEUAUgAVAPX/BgATABsAGAAyADUAEAABAAQA4//6/y8AUwAzAPf/BgAQAPb/+/8TAA4AAAD3//T/+f/w////GwANAPv/2//U/8//2/8JACAAEAD6/+3//f/+//z/DAAEAOr/3//Q/97/8v/6/xIABgDN/7P/3v/9/wIA7//m/+//4v+9/8T/zP/e//H//v/z/8P/wP/p/wMA///2//D/0v+0/77/6/8BAPP//P/0/8T/tv/h/wIA6v/Y/+7/7//c/9X/8P8KAAEA/P8BAAAA6P/o/////f/1/wUACAD5/+T/7v8ZABUAAQANAA4A9f/5/xcAHQAKAAIADwAHAPH/9v8AAPv//P8CAA0AAADy//z/CwANABIAGQAIAO3/6P8PAB8AFgAGAAsABADq//n/GgAnABUACQAGAPn/+v8QACAAHwAFAAEA/f/1//j/BAALAAIAAQAVABcA///w//7/HgAUAAYA9f/Q/9X/4//9/wEA8f/x//T/6v/T/9b/8P/1/+r/4f/r/+3/5//j/9//1v/b/+X/3P/c/97/8P/0/9n/2//o/+z/6//z/wIA8f/n/+f/8f/6//z//f/4//L/2v/b/+v/7P/s//j/AAD1//D/7f/z/wIABgAKAAQA5//Z/+D/4v/h/wcAFgAGAOb/3P/q//b/CAAmAB8ABAABAAAA/v8FAAwA+//4//v//v/8//n/HgAeAA8ACQALAAUA+//9/xIAKgAnAA0A/v/8/wIAAAAOAB4AEQDp/+r//f8BAAMACAATAAYA8f/q/wwAFgAGAAwABgD6/+n/5f/z/wAABAAHAPz/1f/K/97/9/8CAP//AQD2/+f/0//c//H//v8FAAQA7v/c/+T/6v8FABQACwADAPf/9//v//H/AAD8//7/9//v/+n/7f/v/+X/8/8CAPz/8f/o/9//5P/s/+3/6f/p/+f/7v8HAAUA+P/t/+n/8f/v/+r//v/5/+D/4P/q/+T/6P/7////AAD6//j//P/7//f///8XAB4AAwDw//T/CQAJAAwAHAAWAPX/5//7/wcAAQANABMABADz/+X/6f8BABYAHQAVAA4A9P/u//T/AAD+//f/9f/o/9z/1f/f//L//v8CAAEA/v/q/9z/6v////P/6//w//H/9v/5//v/+f/u/+j/6f/2/+//6f/o//n/CgDu/+H/7f/v//b///8FAAQA9f/1////AAD+/w0ADgAVAAcA7P/v/wEAEAAWABIADwD///H/+v8OABUABgACAAMAAAD9//P/AAAEAPr/DgAbAAUAAAD4/wEAJgAsABoAFgAgABMA9v8XACgABwAIACQAJQASAAYA/P/1/+//7P/9/wwABgD5/wcAFgADAPD/+f8MAAMA7v/1/wIACQD+//P/+v/z/+b/5f/1////5P/h/wcAFwACAPb/BwAHAPD/7/8DAAoAAAD0/+///P/6/+///v8WAAQA8P/0/wcABgABAAoAJAAYAP//+v8CAPv/8f///wkAAwDu//D/BAAAAPf/+P8KAAYA5P/V/9r/2v/g//H/DQASAPz/5//x//f/7f/x/wEACwD7/9f/2//r/+7/7/8GAB4AFQD4/+n/8f/5//z/HwAyACEADQACABkAFQACAAYAHwAZAAAA+v8DAAYA/f8AABIAIQAOAAYAEgAWABAAAgARACAAEwAOABsAGAALAPf/8/////X/7/8BABgAEwD8////EQARAAcADgAMAP//8v/r/+v/7//y//b/DwAYAAUA/f8MAAwA+v///xMAFwAAAOv/8//+/wIADAAXAAoA9P/1//n//P8GAAkAAwAFAPz/7//4/wAAAgD5//z////+/+n/6v/y/+//4//m//X/9f/x/wEAEgAHAO//8v8FAAoA/f///xMADADu/9//7/8BAPP/7/8HAAoA///2//7/CQAEAP3/DAAYAAQA5f/x/wsADAAIABcAHAAGAP//DgAbABsAEgAUABsACgD7/wQADQAIAP//EAAdABUAAwADAAoACgADAPv/AAAAAPn/+v8QAA8A/P/5//z/CgADAPz/CQAJAAAA/P8BAAEABgDx//b/AgD7/+T/4P/0////9P/0/wQA+P/h/+r//f8CAPb/7P/1//v/7P/k//D//P/1/+v/6P/2//H/5f/p//f/8v/n//j/AAD4//P/AAAIAP7/+f8BAA4ABgD6/wYADwAEAPr/AAAHAAMA+P/6/xEAEAAHABMAFAAUAAoAEgAhABQAAwALABgACwAFAAsAEwAQAAQAAQD9/wMAAQAGABYAEgAMABUAKAA7AC8AHQAcACEAIAAdACMAMwAjABQAIQAbABQAEgAcACEAJAAbABYAGwAGAAEACgAUABIADAAMAA4ADQADAPT//P8CAPn/8v/5/wMAAAABABEAEAAAAAEAFAAUAAQA/P/4/+7/9f/4//v/+f/3/wEADAAJAPv/+/8fAB4ABgADAAoABQDz//7/CQD6//f/+/8JAP3/8f/1//z/9v/y//n/AAAAAAEAAQACAAYABwD5/+b/8f/8//v/CAATABEACQD+/wMAEAAYABIACwAOAAoABQAUACMAHwAYACkANgA6ACoAHwAhACEAEQAhACIAHAAVAAgADwAVABcAFgAPAAcABAAVABoACwAKAAgADgAIAAQABwAJAAYAAAATAA0ACwACAAUAFgARABEADAAAAPn/AAANAAkA//8AAAYABQAAAPn/AgAAAAYAAAD3///////5//n/+//8//z/+f/1/wAAAQD2//X/+f/8/+//6//+//v/7f/o/+3/7f/v/+f/8v/4/+j/5//y//X/9P/2/wcA///t//f////0//P/9f/8//T/8v/9/woA/v/9////DAAGAP7//P8GAAUA+P/8/wYABgAAAPz//P/4//D/9P8LAAoA/f///wcABAD6////BwAHAP7/+P8BAPf//v///wgADQAHAAYACgALAAoAAgD5/wIAEQAPABAAFwAYAAoABgAYABkABAD5/wgAHwAfABkAHwAeABUABQARACEAHAAPAAoAFQAXABkAHwAfABUAEQATABoADwD9/wgADAANAAkABgAPAAcACwAWABcACwAAAAQAAAD//wAAAAABAP3/9//5//z/6f/i/+v/9v/4//T/8f/4//f/8v/0//L/9f/w//n/BwACAAQA/v/5//f/7P/x//b/9//2//L/9v/z//L/6v/r/+r/8f/p/+X/8//3//L/7P/x//v/9f/s/+r/7v/n/+D/6f/y//D/8f/2//f/+f/5//T/9f/v//D/7f/u//P/+f/+//z/9v/y/+//9v/y//n/8f/2//f/9v/5/wAADAAMAAYACwALAAcAAAANAA8ADQAPABMADQAKAAoAEAALAAgABgANAAkA/f/8/wcADQALAAcACwAKAAYAAAABAPr/7v/y/wAAEgAQAA4AFQATAAsABQALABQAEAANAA0AAwAEAP//AAAKAAEA/v//////AwD+//7/BgAHAAIA/P/+//T/7v/u//T/9P/k/9z/2v/g/9j/2//u//T/8v/u//T/+f/3//X/7f/m/9j/2P/c/+X/5P/h/+j///8CAPD/9v/2/+n/6//1//X/8v/r//L/+P/7//H//P8GAAYABAAMABIABgABAAQADgAWABMACgAJAAUABAAHAAwAEgAJAA8ACgANAAgAAAAAABEAGwAXAA8ACQAFAAcAEAAWABkAGwAUABAACwAUABUAFgAdAB4AFwAXABEAFQAYABcAEwAVABcAEAAPAAYABAANAAQAAQAFAAYAAAD+/////P///wAA/P/9/+n/6f/4//f/7v/s/+f/7v/6/wAAAgD7//T/5f/o/+7/8f/x/+j/7f/z//D/8P/y//P/6f/e/9v/4v/i/93/1v/e/+L/5v/x//j/+v/6/+z/1P/V/9X/1f/T/9f/3f/e/+f/8v/s/+f/7//t//T/8f/h/93/2f/b/+X/8v/z//7////8//H/6P/r/+P/4v/0/wMAAAD///v//f8AAAcADQALAP3/+P/6////AAABAAcAFwAYABMADAACAAAABgAHAAcAEwAdAB0AHwAlACQAIwAcABkAGAAXABMAFAAWAA0AAgAKABYAFAASABUAIQAeACAAGgAZABIADwARAB4AGwAaABcADAAEAPT/8f/2//b/9v/0/wAABQACAP7/9//0//n//v8AAP3/+f/9/wcAEgARAA8AEAAgABYAAgD+//3//v//////BQD9//z/AgADAA0ACwALAAwA+f/1/+j/4P/h/+b/8//8//z//P/5//f/+v/w//j//f/5//P/7//3/wEAAADz//H/9P/v//H/8v/2//r/+//8//L/8P/5//n//P8AAAQABgADAAAA7//y//r/AAAFAAAA/P8EAAQABgAOAAkACQAFAAYAAwALAAgADAAYABMAEAAMAAsAEAAKAAwACAAVAA4A+f/4//f////x/+z/9P/4/wIADAAJAP7/+P/1//z/9//0//3/BAAFAAAA+/8AAAYAAwACAAEABQANAAoAEAAWAAcABwAEAAQAAgAAAAEABAD6//z/AQAIAAoAEAAMAA8AGgAUAAQA/v/v//H/+f/9//7/8P/t//T/6f/u/+//8P/u/+f/6v/n/9//4P/p/+v/8v/z//b/6v/f/+b/7v/v//P/6f/s//z/+v/5//L/+/8LAAUABgABAPn///8CAAcABQD+/wEACAAGAAMABgAGAP7//f8AAAQACgANAAgAEgAVABMADAAEAAsABgAGAAUAAQADAAIAAwAAAAQADQAQAA4AEQARAAwADQAaABcAGwAoACUAKgAyACsAKQAjABoAIAAZABsAJAAtACgAJQAsACkAKQAoACQAIwAMAA4AEQAHAAMAAQAFAAYAAgD6//L/9/8AAAUADgAMAAYABwAIAAUA///8//7/AAD3//X/+//7//H/7P/q/+7/8P/z//P/7f/u/+z/8P/y//L//P/8//H/6P/w//T/8f/w/+3/8f/z//L/7P/p/+j/8P/0//v/8v/i/9//5P/n/+T/3v/P/9X/3//m/+r/4v/n/+P/5P/n/9r/0v/c/+L/7//x/wAAAQAEAAAA7v/y//P/9v/7//7/AAAEAP//AAAFAAAABwAFAA0ADwAKAAcABwAKAAoAGgAlACAAEQALAAoAEAAPABUAFQAVABgAEgAUAA4ADQAbACIAHAAXABcAGwAaABgAHAAdAA4ACgAOAAoACwAFAAMACgABAP7/+f///w0AJAAgABgAGgATAAwACQAEAAgAFgATAAsADgAMAAwAFgAVAAwADQAcABcADQAGAAYADAAFAAEAAQAGAAAA+//6//n/+//9//3/9//y//X/AQAFAP//AAABAA0ADAAOAAwACAAAAPr////7//v//P/+/wAA+v/7/wAA/v/4/wIACwAFAAYACwARAAcABAAHAAEAAAAIAAkAAwACAPf///8GAAcAAwAAAP7///8JAA8ACQAEAPz//f/+//z/+//7//n/8f/1/wAABQAFAAUAAwAAAP7/5//o/+//5//v//L/8v/3//f/+v/+//7/AgD2/+3//v8HAAYA+//7/wUABgAAAAAABAAGAAoACQANAAcACAAJAAYA+v/+/xMAFAAFAPP//f/+//z//P/8//r/9//3//3/AgD+//f//f/7//r//f////z/AgADAAIABAAAAAIA+//y//b/8v/0/woAAgABAAkAAAAJAAYA/P8AAAgABQD///n/8v/s//H/8v/4//7/7f/v/+7/6v/u/+n/7P/y//X/9//5//n/9//0//n/+//4//X/+//6//r/8f/1/wUAAgABAAYABQAJAAgAAgAFAAEACQAWABUADAAOAAwAEwAZABIAEAASABkAFwAVABQAEAAQABAACQALAA8ACQAFAAcACQAGAAUADAANAAsACQAFAAUAAgALABMADAALAAkAAQD+/////v///wEA/P/8/wMABAADAAYABQADAAQAAgAEAAYAAQABAAYACAAGAAQABQADAAEA/P/5//7/+f/4//r/AAD6/+r/6P/t/+//9P/z//b/+v/1//H/9v/1//f/+//8/wUABwAAAAYABAAGAAkACQD//+7/9//6//b/7//o//P/+//3//b/+v/3//f/+v/4//v//f/6/wAA/f/+//z/+f/5//j/8//w//L/8//y//P/////////AwAAAAAA/////wIAAQADAAQAAAAHAAUAAgD//wAAAAD9/wIACgAOAAoAEAAQAAgABwAXABwAGgAXAAcACQALAAkADgAUABEAEQARAA0ABQD4/wAABgABAPX/8//0//D/+f8NAAUA+v8BAAUAAwD9//f/+v/0//f/BwATAA8ACQACAAQACAAGAAUA/f/x//n/9v/2/wAA9//3//3///8AAP3/8v/s//X/9f/v//H/8f/2/+//8f/2//j/9f/0/+//8P/2/wUA/v/+//v/+f/8//r//P/2//H/9P/5/wIACwAOAAsADQAIAAMABwAHAAMACwANAAgAEQALAAYACgAPABwAJQAgAB0AGAAaABMAFQAQAA4ADAAGABMAEwAQAAUABAAGAPz/+//9//3//v/4//b/9//p//T/+P/7//3/+//3//n/+v/1//3/AAD///j/8//s/+b/7P/x//H/7//t/+P/6f/q/+H/7P/y//L/7f/i//f//f/9//3/+f/6//n//v/8//j/+P/2////AAD6//b/9f/y//f/AAD+/wAAAAAAAAIA/v/+////9P/3/wAA+P/2//j/+v8HAAcAEAAPAPv/+P///wEA+v///wAA//8AAAMAFAAQAA8ABwAIAAsAAgAFAA0AEwAWABAAFwAWAA0AEQAQAA0ABAALAA8ADAAKAAsAEgALAAkACwAIAAYABAAIAAkABgACAAAA/v8JAAYABAAFAPv/9/8AAPz//P8AAAoACAALAA8AAgACAAUABwAHAAkACAAOABAACgAGAAUA+//v//H/9f/2//b/AwD+/wAA/f8EABUAFQASAAoADAALAAQAAQADAAcA//8AAP//AgAAAPr/+//7/wAABQAFAPj/7P/t//v//P/5//z/+v/9////8//0//b/7//0//b/9//z//n//v/7//j/7v/s/+f/5v/v//L/9f/8//7//P/x//b/BAADAPz//P/+//z/AQAHAAcACAAKABQADgAJAAUAAwADAPj//P8DAAUADQAMAAUACAAJAAkACwALAAcAAAAAAAAA+/8DAAYA+P/u//L/8f/p/+b/6v/t/+3/8//2//f/9f/q/+3/7//z//L/+f/2/+r/8v/x//T/8//2/wEAAwAKAA8AEwAPAAcACgAOAAgACQAKAAsACgAMAB0AGAATABAABwD7//r/BgAFAAkAFQAYABEADgAJAA0ACQD5//r/AAADAAUACQAOABAACQAMAAsACQAJAAgAAwAAAPv//f8FAAAABAAEAPr////6//X//f////n//P/9//3//f/4//L/9v/9//T/5//o/+3/8f/x/+//7f/x//L/6v/q/+//6//4///////8//X/+f/4//X/9v/8//b/8//y//P/9//5//z/+P/4//7//P8JAAgABAAGAAUABgACAPz/BQAEAAoACAASAAkAAQAOABIACgAMAAwADQANAA4ACAAHAAUACAABAP3////9/wIAAwD+//j/8v/0//b/9v/y//P/AAAAAPz/+v/5//n/8v/2/wAA/v/8//n/+f/8//b/9P/u//P/8f/z//L/9//v/+3/6v/t//L/4//n/+v/7v/q/+X/6P/p/+7/6f/p/+//9v/2//f/+P/+/wAAAAD8//X/+v/8//7/AgD+/wMAAwAAAAEAAwADAAkAEQAIAAoACQALAA4ABQAGAP7/9P///xMADQAVABUAEgAMAA8ADgAKAA0ABAAJAA4ADwAMAA8AEQATAAoAAgAFAAsADQAZABIADgAJAA0AEgD//wAAAgD9//7/AwAHAAkAAwAHAAwABgAAAAAABAAFAAYABwADAPn/AAAGAA8ADAAKAAMABQAEAAEADgALAA8ADgASABAABgAJAAcACQAPAAkABgAJAAYADQAWABYADwAQABAAEAAMAAAA//8IAAYAAQADAAcACwAHAAgAAgD2//j/AADv/+v/9v/z/+z/7v/y//T/+f/+/wMA/P/3//H/6//q/+3/8v/x//X/8//3//j/+v/8//3/+v/9////+v8BAP3///8EAAgABwD9//7/AAD7//X/+f/7//L/+P8AAAAAAAD2//D/8v/s/+7/7P/o/+T/3f/l/+H/3f/a/+z/6v/a/+X/6v/e/9X/2//j/+f/5v/l/+b/4P/p/+7/5P/x/+//9P/2/+T/4v/p//j/8f/x//L/5v/p/+v/6//s/+v/7P/s//H/5f/t//X/7f/p/+b/6f/p/+v/7v/u/+v/7f/w//D/8f/t/+v/6v/g/+P/5P/r/+r/7f/t//P/9//5/wQAAgACAPj/+f8AAAAABAAEAPr/+/8LABsAJAAfAA8ADQAPAAcAAQAaABgAEAADAPz//P/4//f/+f////j//v8AAAIA+v///wAA+//5//L/9//+//z/AAD6//z/+P/6//f/9P/4//z//f///wQAAgAAAAAAAAAAAAAAAwALABMAIAAmACkAHQAeABkAGgATAA0ACwAPABAACAAUABMADQACAAUABAAJAAkAEAASABIABgAHAA0AAQD4//7/CQAGAAQABAAAAAYAEwAQAAgAAgACAAAABQAPAAgACAAKAAUABAALAA8ADAAOAAgADAAOAP//AQAEAAMACQD+/wAAAwAAAAgABwAEAAYACAARAB0AFQAOAAYACwAMAA0AAwDy/+//9v/y/+z/9P/6//v/AgD9//z///8AAP3/AwAEAAwAEgAJAA4AEAAKAAoADQAZABIADgAJAAgACgARAA4ACwAVAAoACwAPABIACQD9//7/BQAGAAMADwAMAPv/AAD+//f//P/1//n//P/3//b/9//2/+3/9f/5//f/9v/1/+z/7v/w//D/8P/s//L/7P/y//b/6f/o/+v/9f/1/+//8v8AAAAA/P/8///////8/wYA/f/6//v/AAABAPX/+/8AAAIABAAHAAsAAQD//wAABAAIAAQAAAD4//n/9//1//n/+v/z//n/+f/t//f/9P/x//X/+v/7//j/7f/n/+z/5P/p//j/8//x//b/8v/3//n/8P/y//H/7v/y//j/8v/r//T/9f/5//z/+//1//P/5//v//b/+v/8//b/8v/3//X//f8KAAIA/f8BAAQABgADAAEA/v////f/9v/+//7//f8HAAoAAwABAAcADQAJAAIAAgDz//P/9//x//r/+/////r/AAD//wIACQAKAAoADAAEAAAA+f/8//v/+v///wMAAQAAAAAAAAD9////+v/+//j/+f/4//j/9v/8/wAACwAeABUACwANAA0ABwAVABIACwAXABgAFQATAA8AFAALABEAFAAQAAYADAAWAB0AGAARABgAEQAOAAwACgAJAAIAAwADAPT/+v///wIA//////3//v8EAAoACwALABIAEAAIABoAEwAEAAQABAACAAoAEwAUAA0ADQAGAAgADAALAA0AEgAQAAMAAgANAA4ADwAcABcAFQATABEAEwARAB0AGwASAAwABgALAA0ADgAXABUAHAAoABoAEQATABAADQARABYAEAARAAgADQAOABAADwAIAAIAAAAOAA0ADQAMAAAACQAVABAAEAAPAAsABAAIABAAFgAYABwAFQAOABMABwAAAAUABgAHAAsACgAHAAQAAwAHAPv////9/+z/9f/z/+n/8//q/+j/7P/y/wMA///7//T/7P/g/+n/7P/t//H/+v8AAPr/8f/0//b/7f/i/9//4P/n/+n/6v/t/+T/6v/s/+7/8P/w/+j/7f/u//L/+f/x/+//8//5//r/9v/w//L/9f/1//T/9f/0//f/9f/5//f//P/5//T/9f/v//L/9//3//n/AAD1//n/+//5//D/7f/n//D/8f/1//T/9v/0//b///////n//f8DAPn/+f/+/wEACQADAAQADAAPAAsA/v8DAPv/5P/u/+z/5//o/+3/8P/y//T/9v/+//z/+v/9//n/+//6//H/7P/6/xMADwAJAAUA8//6//z/+//8//v//P/9/wYACAAFAAEA/P/7//f/AQD///f/+//r//L/AAD7//z/+v/9/wQAAgAAAAEABwADAAEACQAFAAQAAgADAA0ACQAIAAcA/v///wIAAQAEAAwACAAEABAAEQAGAAYABwAHAAcABwAOAB4AFQAIAAwACwATACAAKQAwADUAKgAhAB8AIwAhABsAGwAgAB0AGQAgABsAIgAdABoAJAAcABMAAAD4/wAABQAEAAQABgAPAA0ACgAMAAoADAAKAAoACQAKAA8ADAARAA4ADAAKABIADwAMAAoACQAIABAAFAAPAA4ADAATAA4AFQAPAAcACAAKAAgADAAGAAAAAAD9//3/+v/z//P//v/1//b/+//5/w0ADgARABMAEAAeABgABgAAAAQABQAIAAwACwAGAAIAAAD+//3/+v/7////BwACAAEAAQABAAkACQAMAAoA/f/w//j/+//9/w4ACAAFAP3/9P/6/wQAAwABAAEACAAHAA0ACwAPABMADgAPAA0AEQAHAAUABwAKAAoACgAGAAYA/v/+/wAAAwAFAAkAEgAQABYAFgAMAAIA9v/1//v/AAANAAwADAAUAA8A/f/8//f/8v/8//7/+//4/+//7//y/+v/7v/3//j/+P/t/+//7v/y//b/9v/1//z/BwD+/wIABAD5//z/+P/7//v//P/8//3/+//7//3//P/1//P/7P/n/+n/9P/4//z/AgD2//T/3v/d/+X/6P/y//f/+P/4//P/8f/y//L/+P/3//n//v/6//X/+v8AAP3///8CAAAA+//8/wAAAAD8//r/9//5/wIA//8DAAYAAAD+//7///8BAAIABgAPABIADwAJAA0ACQAAAAEACwAAAPz/BAAIAAsAFAAQAAMAAgACAPz//f8GAA4ADgAOAAYABQAAAPj/9P/y//7/AgABAAMABQAGAP7/AAAMAA8AFQAcABoAEQAOABAAFQALAAoACQAGAAgADAAEAAMABQALAAgACwAUABcAFQAPAA8ACgAHAAIAAwAKAAUAAwD9//z/+f/7//3/+//2//T/8v/z//P/9v8DAP///f/6//f//P/+//v/9//3//L/8v/v//f/+f/8//z//f/7/+7/7P/w/+z/6v/1//n///8SAA4ACQAJAAAA/f8BAAoAEgAVABgAFgAWABIADwAIAAsAEwATABIADQAOAA4ACAAFAAQABgAFAAAAAAAFAP3/+v/+//n//P8GAAcABwAFAAMAAAD+//n/AAAAAPb/BQD+/wAADQAPAAgA7v/u//P/8//9//z//P/8//3//f8CAPz/AgAGAP///f8AAP3//P/3//T/7f/w//b/AAD//wMAAwACAAMAAAD+//z/AAD4//r//P/4//H/4//p/+7/8v/7//H/8v/3/+b/3P/l/+v/6P/n/+//+f8BAP7/+f/3//r/9//7//f//P8DAAAAAgD8//D/9P/6//v/BwAHAAcA/f/+/wAAAgACAPf/+f/+//v/9v/7//7///8FAA0ABQAGABAACAAIAAUAAgAAAAUABQD//wEABQAAAAAA+f8AAP3/9f/6//f/+v///wMAAwAEAP//8f/u//b/8v/y//T/9//y//X/9v/u/+7/7v/1////AAD9//z/AAAMAAkABgALAA4ACgAQABUAEwAJAA8ABwAAABEACwABAAgABAAIAA0ADAAHAAoACwAQABQACwABAAAABwAHAAYABgAKABAAEQARAA4ADAALAAYA/v8EAAYACAAIAAUABwASAA8A+//3//r/7v/y//b/9f/7//z/+v/0/+3/8P/t//P/9P/2//r/9f/6//////////z/9v/6//H/8P/w/+//8v/x//X/9P/2////BQADABEABgD1//P/8//z//r/9v/2//r/9//4//n/+f8IAAIAAAAEAP7/AgD+//3/AwAJAP7/+v/6//H/+f/8/+z/8f/y//P/7v/s//L/8v/5//v/AAD///z/+P/5//v/+v8IAAsAAgAEAAQABQD5//L/7P/f/+f/7P/w//H/7//v/+f/5f/q/+7/9P/z//j/9//1//L/9/8BAP//+//9////AwAHAAUAAAACAAgAEAAMAAYACAAcABkAFQAXABUAFAAKAAUACgAMAAAAAQAGAAMABgANAAsADQALABIADwALAAgAAQD6//j/+//6/wAAAAAAAAQA//8AAAAA/f8BAAIAAwAJAP//+v////n/8P/1//n//f/5//n/CQAHAAQA+f/+/wEAAgAGAAcABQD7////AwD///7/8//z//n/+f/7//v/9//w/+3/+v/7//j////8//3/AAAAAPz/7f/6/wEA9v/5//v//v8CAPv/+P/6//f/+P/3//L//f8BAAAAAgABAAMA/v8CAAsABQAJAAoAAwAHAA8ABQDz/+3/8f/2//T/AAAMAAAAAQD7//v/AwAIAAUAAwADAAYACQAJAAQA/v/1//j/+v/9/wkACgD8//3/7v/v/wAAAAAAAPX/9v/8//3/9v/6//7/+v/+/wAACAAHAAgACgAHAAAA/v/7////9f/2/+//8v/z//T/7v/k//H/9/8AAAAA/////wEA+//u//n/6//k/+v/7P/x//D/7//r/+3/8v/x//P//P/9//7/+v/7//n/8//x//H/+v/+//r/9v/5/wAA/v///////f8AAP3/9f/6//X/+f/3/+3/8//y/+//7v/4//n/9/8CAPz/+P/+//z/CAAMAAsACAAAAPD/9v/2//P/9P/f/+T/4//o//H/9v/1//b/9f/y/+//4//j/+v/+f/9//v/+////wEABAAEAAMA/f/x//b//////wIAAwAEAAoACgD2/+7/6v/o/+3/7v/v//3/AQACAPz/+v8AAAcAAgAAAPL/8P8DAAQAAAABAAgAEwANAAcADwAUABUAIAAeABQAEAASABMAFQAWAAkACQALABQAEwAQABcAEgALAAUA+v8KAA4ABQAAAAAA//8BAAUABAAEAAUAAwD8/wEA+//y//v/+//x/+H/4v/r//j/AAD6//X/9v/v/+f/7P/c/9f/4v/j/+T/5v/k/+H/4f/g/+T/6v/n/+7/8//w/+7/6P/n/+f/5P/u/+z/5//n/+L/7P/x//T/8v/z//7/+v/4//r/9P/5//f/9v/9//3/+//+/////P/+/wEA/f/8//3/BAAcACgAHAAWABcAFAATAAYAAgAJABEAFQAUABAACAAKABQAGgAUABUADQAHAAQAAgABAAAAAAAJAAoABwAEAAUAAwAFAAYABAD8//z/BAATABwAHQAVAAkA+P/7//b/9f/x//T/9//4//f/9v/1//n//v/7//H/7v/r/+//7v/2//n/AgD2//b/7f/q/+r/4f/c/+L/4P/Y/97/7v/u//H/7f/r/+P/z//Y/+P/9v////7/+v/0//L/6v/g/9r/3P/Y/+b/7v/w/wUAAgACAAEA/P8BAP///P/+/wIAAwAFAAEAAQD7/wMAGAAZAA8ACQADAAAABgAFAAYABwAEAPb/+//8//7/AAD5/+//6//t//T//v8BAAAAAgALAAUABwALAAkACwAHAAMABAABAAUABgAEAAkADAAKAA8AAQD2/wQABgABAAQAAAAAAAIAAgD7//D/8v/3//n/8//5/wUAAwD9/w0ACAAEAAUAAgD5//H/+////wAAAQAOAAsABwAEAAUACgAIAAUADQADAAAA/P/+//L///8DAAIAAwAGAAsABwAIAOr/5P/l/+r/8//v//X/9f/7/wMAAgD///T/8P/p//L/+v/+//r/9//5//3/AwABAPv/8P/9//3/+v//////AADv/+//+f/7/+X/5f/m/+//9P/5//7/9v/y/woABQACAP7/+/8AAAAA9//t/+7/BwAHAAgABQD9//n/7//x//n/9/8FAAwABgADAA8A/P8GAAMA+f/0//7///8JAAQAAwAIAAUABQAIAA8AIQAZABwAGQAdAC0AJQAzADIAIgAeABkAFgAZAA4AGgAgAB4AIgAbABkAHgAUAA8AEgAWABYACQALAAYAFgAcABYADAAIAAQADQASAA4ADQAFAAIABAAAAPX/9//m//P/AAD7/wMA///0//L/+P/+//P/4P/p/+T/6P/1/+v/4//p/+f/6v/p/+P/2f/e/+n/5P/n/9f/zP/Z/97/4P/k/93/5P/4//n/+v/1/+r/3//e/+L/5P/q/+3/+P8AAAAADwALAAYACAABAPn/+f/l/+z/9f/3//z/9v8BAAAAAgAIABUAFAAfABYAFgAZABcACQAIAA0ABwAGAA4AFwAMABYAIAAbABkAHwAWABEADwARAA4ACQAPABUAIgAVABcAEAAOAB0AFQAUABEAEQAVABMACgAMABMADgAcACAAFAALAA0ADgASABIAEgD8//j/+f/4//v///8DAAoACwAPAA8ADQAIAAAA7P/1//v/9f/s/+f/7v/4//3//P/u/+H/6v/c/+X/9//s/+n/4f/h/9X/2P/h/93/3f/o//b/9f/u/+3/6v/r//D/9P/1/+v/6//s//H/AQD2//z/BgAGAAIAAAAAAAoAEgAqABsADAAPAAoABwAeAB8AGQASABQAIQARABgADgAIABIACgAjACIAFwAXABkAHwAdACEAHwAXABoAGQAbABMAEgAfACoALgApACQAJAAiACMAJwAZABUAFAAdAB0ACQARAA4AAAADAP//8/8AAPf/AAD8//3/EwAJAAIA/P/w//b//v/5/wIA9v/8////8P/0/+3/6v8JAAMACAATAPb/+/8AAPb/AwD0/+v/AgDo/+7/+//X/9z/4f/b/+n/z//W/+f/2v/7/wYA8v/o/9//7v/y/97/8//3//D/AAD4/wAA8f/t/wAA/v/d//X/7v/w//X/9f8KAAEA9/8XABIADAAXABMAHAAPAAsAFgD///n/FAAIAAoADgAgAC8AFgALABgACgAQAB8ALgBBADIAPQA8ABgAFwAkABoAIgAbACYAPgAvADIAMwAnACgALwAmACQAKAAvACsAGgAnACkAJAAnACwALQAhABwALQAKAP7/AwAIAA8ACQALAB0ACgASABYA/f/v//D/9f/8/+//4f/0/9f/0v/h//f/8P/q/+//9//o/+j/5//l/+H/3P/7//j/5v/r/+//3P/w//n/6//q/+X/8P/t/+X/AAAIAPb/9//h/97/3//R/+D/6f/h//j/FwAOAAUA/P/7/+r/1v/h/+f/3f/m//X/7f/q//L/BAD///L/+//i/9X/5//w//H/8//s//f/9P/x//H/7//n/9b/3//3//L//v8OAAIAAgAAAA4AEQAHAAIACAD7//3/FgAtACUAEQAaAA0ABgAcAB0AGQAZABQAIgAdABYAKgAmABkAHQAeABgAGQASACYAIAAiACwAEgARABkAHAAkABcAEQAkABMAGAAfABUAEgAOABYAMgAdABcAIgANAAYAGQAZABkACwAAAA0ABQD+//7/+v///wEAAAAGAP3/BQAFAP//+v/m/+X/8P/g/+r/6v/b//v/9f/0//n/7v/4//X/4v/s/9T/1f/n/+L/7P/x/+7/+v/j/93/8//i/+r/AAD5//3//v8LABIAAAANABQAAwAAAPf/CAAgAAwACwAWAAsACAAGABAAFQALABUADQAHABEAHQARABQADQALAA4AAwAIAA8ABQAGAAkAAwAEAAYAFQARAAYACgARAA0ACwAXABgAAgD0//n/AgAeACIAEQAMAA8AEgATABEAFAAPAAEACQAVACUAIwAZABsAFAAXACsAKQAYAAwA+/8CAAoACgARAA4AEAAhABYADQAOAAcACAAGAPD/AAAWAA4AEgAHAAQABgD///r/6//j/+//6v/h/93/4P/p/+z/5v/3/+z/7//w/+7/5P+8/9H/2v/d//3/AADr/+b/4v/o/+f/4//m/+n/2f/s//L/7P/q/+L/4f/o/+P/5v/m/+7/9v/1//X/AAD4/yYAIQAJAAcACAAKAAgA/v////H/6v8LABgAFwAXAAoA/v/7//7/CgAIABcAGQAMAAwADQAQAA4ABQAaABwAFgAXABkAHAARABUAGwAUAAsABQABAAMAAQD4/wAADQAOACYAGAAOABIADQD5//j/AQAQAAEAAAALABIACAD+/wkAFQABAP//8P/k//L//P/9//r/7v/2//L/8f//////7//c/+X/EwAOAAUABgABABAACwAQAB8AEgACAAYABgAFABUAGQATABEAAAALAA4AJQA5AAMA/P8GAAAACAAPAA0AFQATABEANAANAAEACwD8/wYABwD8/////f8ZABYA+P8AAAEA9f/8//b//v/+//L///8FAAwAEgDy/+D/6v8JACsADAD8//j/+/8GABEAMQAeAAUAEgBKAEIAIwBFAEgASAAtABYAGgALABIAFAACAPD/6v/4/woA5//K/8n/zv/P//D/CQDe/7D/y//2/wYA4f/g/87/4P8mAC8AFwADAAIABQA0AAoA+v/Y//n/GQAFACYA7f/R/ywAXAAnACsADwAGACsALAALAP7/2/8DADsAAQDw/6v/lP/U//3/7P/M/7H/sf/8/xIAEAAkAPj/2/8DAAYAHgAqABQAHQAZAAIARgAqAAAACwABAPv/+v/2//f/DwDf/+P/8f/p/+f/5v/r/9n/o/+e/+L/7f/g/9b/2P/q//z/7P/7//P/EQAbAAsAIAAeAO//EwBEACEAGQAiABYARwBIACsAFgADABcAJgAZAAoAAADw//H/9P/r/+n/xv/W//n/7v8DAP//5f8MADoALQATAPr/CQA6ACEAAwAOAP7/BwAUAAcA+P/g/8X/6P/1/83/5f/n/+P/DgAGAP3/+//4/+r/9P8TAA4A2f/q/yEAEwAMABAA9//z//v/5//a/+H/9P8OAPv//v8FAPf/+//a/+j/EgANAAMADwAlABwAHgAVAAsA/v/D/8v/6P+v/93/DwD2/9r/yv/Z//b/9//p/+H/3v8CABwAHQAmAAwAAAAIAAgABgAPAAAAAgARADkAKgAgACcAKAAUAAAAHQDy//D/GwAgABkAAADv//D/9v/c/+P/9//P//L/BQAiABwA9v8BACYAKQAlABQA7//9/x0AIwA3AA4A6/8EAPn/5f/y/+L/5P/p/8z/zP/M/83/1f/G/8j/1f/X//X/+f/9/xQAFwD6/wAAHQANAA0ACwASAAgAAgAOAAcAx//Z//L/3P/R/+L/+P/h/+T/7v/m//v/DgDi//T/DADT//v/MwA5AEIAHAAPACAAHQAXADAAEADx/xgAKAAQABkAAQDZ//z/4v/Q/+z/6//s//D/7v/3/wIABAANAAcA+f8hADoAKQAnAC8APwA1ACgAHAACAPn/BwABAOr/+f/r/9z/5v/n/+7/6v/q/xUAGAAdAC0ANwAyAEwAQAAwACQAFgAJAAcA+//u/+3/5f/h/+D/0v/M/9P/zP/U//T/7f8CAP3//f8KAAQABgAGAB4AFwAPABoAHQAZACMAJADy/8v/2//T/8X/xP+//8b/yf/K/8D/nv+6/7z/sP/K////6v8AACgAGQAlADEALgAUABAAFQARAAcABAAIAPX//f8JAPf/2f/l//P/7P/X/9j/2P/t/+r/zv/W/9v/5P8DABUAIQAnACcAJwAfABYAIQAbAAYAAQACAPn/7v/u/9f/zf/O/8j/y//X/+T/+f8BABIAKgA1ADMAKwAnABoAHwAFAAkAGwAMAAEAAwD+/+H/4f/y/+r/5P/w/+7/7f/9//P//v8KAPz/8//7//P/+f8VABkADwAOAA8AFQAOABkAGQAKAAQADgAHAP7/7P/p/+3/7//z/+3/7P/z//P/7f/y//P/AAAHAAoACQAIABgAGAAqADgAKwAkAC0AKgATABMADAACAAkAIgAnAPz/CgANAPf/BQAHAPD/6P/4//T/6f/y/+7/+P/5//7/8P/u/wcACgAFAAkACwABAAMACwACAP//8f/x/+3/7//k/9H/0//m/+v/8//7//3/AQAMAAoABwATABYAAAAKAAUA9//v/+3/4P/g//P/8v/s/+j/5//u/+7/AAARABoAIQAhAAsA+P/y//j/+f/s//b/+f/0//7/AAABAAcADQATABQAGgAlABwAEgASABcA/v/s//D/7f/s/+r/8v/5/wAABgAOABMAGgATAAoADwAAAPv/9v/q/+f/7v/Z/8L/yv/O/9//6f/0//L/8f8JAA8ACwALAAAA6P/n/+v/6P/n/9n/2f/c/97/6v/q/+//+f8AAPz//P8FAAAAAAABAP7/9//v/+b/6v/q/9b/yP/R/+H/5v/g/+z/7v/o//b/BwALAA8AHwAbAAwACwANAAIA7v/6//b/7//9//b/+f/8/wAABAAIAA8AFAAQABUACAAHAAQA/v/1//L/9//y//f/BgANAAsAGAAWABQAHQAcABkAFgAfACIAGQANAAMA+v/2//b/8f/3//j/AgAHAAUABwAEACAAHgAVABEAEQAPAA4AAwD0//L/7v/x//L/AQD+//D/+f8DABMAGwAXAA0AAwALAA0AAAD5/+z/9//z/+P/4P/U/93/4P/x//j//f8IAAwABwAHAAoABQAFAPf/8//x/+H/2P/Z/9//6f/m//L/+P/6/w0ACQASACAADAAGAAkACQALAAIA9v/2//T/7//4/wQACAAHAA8ADwADAAIADAAKAAAAAQDw/9z/5P/k/+z/8f/w/+v/6//3/////f/4//v//f/7/wUA+v/4//7/8P/3//3/9//6//z/6f/j//D/AwABAPL/+//5//f/AgABAP//CwACAO7/9//6//r/9//w//D/8P/v//f///8AABkAHAAUAB0AFgASABAACwD8//H/8f/3//f//P////3/+v8FAAkACgANAPz//f8OABEADQAJAAUAAAAEAAgADwAEAAAABwAEAAUAEwAUAA4AEAAMAAcADQAEAPP/+v/5/+3/4f/q/+z/5P/u//r/+P8HABMADQAOACMAJQAmABwACgD8//n////+//r//v/+/wIABAAOAA4ACgAIAPT/BgASAAAAAQAAAPX/9//0//X/7v/m/+r/7//q//v//v/w////CQAJAA4AEgAIAAkACQACAAMA+P/x//D/7v///wQABwAOABEAFwAXABAADwAOAAoADQADAPn/9v/p/+X/5//p//H/+f/v//b/AgACAAIAAwD3//T/+f/8/wIA+f/v//b/9v/1//b/7P/r/+7/6//u//3/CQAHAAQAEAAfABwAHQAaAA8ADQANAAkAAAAAAP//AAD6//r//f8BABMAEwASAB8AHgAbABgADgAHAAkA9v/i/+r/4f/q//D/7f/3//X///8GAA8ADAAAAAAA/v////v/8f/o/+j/6//w//j/8v/m//P/9f/8/wEABQAEAAwAEwAVAB8AHQAPAA0ACgAMAAgABAAFAAYAAgD9//P/5v/z//n/9f/z//n/9v/3//X/+//9//r/+P/2//T/7P/t/+v/6P/m//H/8f/w//P/9//z/wEA/v8FAA8AEgATAA8AEgAQAAcABwAPAAUABAAAAPv////6//n/9//9/wQABwAOAAoADAASAAsAAQD+//v//P/4/wQAAwD2//L/9f/q/+7/9f/1/wAACAALAAkABgAAAPn/+f/6//j/9P/0//P/4//p/+z/7//8//z//f8DAAcAEAAQABAAIAAUAAcAAgD5//P/8f/4//T/9P/+//7/BgAFAP//AAAEAAsACgD8//r////+//L/5v/s//v//v/8//7//v8DAAYA///6//n/+f/1//H/+v/x//X/AQABAAAAAgAKAAkABgAIAAYADwALAAgACQAGAA8ADAAVABAADgAMAAsACQAHAAYAAwADAAAAAAD//wAAAAAAAAAA9f/k/+n/6v/q/+v/7//x//b//v8CAAAA+v/8//f/AgADAAEAAwACAPn//f/9/wAACAD+/wAAAgAAAAAAAAAMABMAGQAeAB0AIQAgABsAEQAMAAAAAAAKAAYAAgADAAEAAQAAAAAA/v/1//3/AAD7//T/8//u/+3/8f/n/+z/7P/k/+j/4//o/+P/5v/3/xYAGAAVABcAGQAWABcAEwATABAADwALAAsACQATABcAEgAaAB8AGgAgABsAFQAUAAYABQABAAAABgADAAIAAAABAP//9//4//n/7v/x//P/6f/r//D/8v/r/+7/8//q/+T/6v/t/+7/8v/0//X/+P/x/+7/8f/1//X/8f/1//j/+//9//7//v/+//X/8f/0//T/9//4//n/AAABAAAABAABAP3///8AAAcA/f/4//v//v8EAAMAAwAEAAMAAwADAAMAAQD7//T/7f/v//D/8f/y/+n/7f/x//H//v/8////9//7/wMABAALAAsACwALAAoAEwARAAwADQAIAO7/6v/l/+X/+v/2//7//f///wAA///3/+j/5P/x/+//6P/q/+//7v/f/9H/1f/h/+X/5//t//H/9v/u//T/AAABAAkAAgD6//j/+//+/wQABAACAAwAEAAXABMAEgAXABMAGwAgABkAFwAVABMAGQAcABUAFgAZAA4AAgACAPn/+v/6/woABQACAAoABwAGAAgAAwD1//X/+P/2//r/////////+P/x//3/AwABAPr/9v/0////AAAEABEAEQAPAA4AFQATAAsACQALAAYA//8AAPn/AwADAPv/+/8AAAAAAgAJAAUACQAHAAkAAwD//woACgAKAAgABQD///3//P8CAAYAAgAIAAsABwACAAIAAwAGABUAHQAeAB8AFwAXAA4ABAACAAkACwAVABYADQAEAP3/9P/u/+//+P/7////+f/4//b/9P/z/+z/7P/r/93/4P/h/+b/6P/n/+f/4//n/+X/5f/m/+v/9//x//X/+/8JAA4AAAD2/wAAAAD3//j/9f/0//z///8BAAQAEAAOABAAEQAQABAACgAHAAkADwAPABQAFAAaABwAEgALAAkACwAGAPn/AAACAP//BwAJAAsADQAJAAEA8v/s/+z/9v8AAAQABwAFAAAA/P/x//L//P/+//j/+P/7//v/+P8EAAEAAAAGAAIAAQAAAAAACQALAAkACQADAAMADwAQAA0AEQAQAAwACgAEAAIA/v/+//z/6f/s//T/9P/2//b/+//+/wUAAQD/////+//5//7//P/y/+v/6//v//L/6f/7/wkABgAIAAwACAAKAAMAAQADAAEAAgD8/////////wgADwAOAAwACAAEAAAA//8BAAoAIQAeABsAGQARAA0ABwAGAAEABwAIAPz//f/4//j/+P/q/+7/5//r//L/8v/2//v/AAAAAO3/7f/q/+L/5f/r/+r///8AAP7/AAD8//n/+v8BAAkACwAKAAsAEgAUAA4ACAAKAAcACwADAAwAHwAYABIAFwATABQAFwATABEAEwAYAB0ACgD5//n/8f/x//T/7f/y//P/7//x/wUACAAPABIABQD7//j/AQAFAAcACAD1//X/9f/t/+z/6P/v/+v/4f/h/+T/8P/5/wEA/v8DAAMABAAHAAgABAARABEADgALAAcACwAJAAwADAADAAYADgAJAAwAFQAPABAAEQAGAAoAGAAUAAsACQD6//3//f/x//L/8//v//T/7//v/+v/7P/p/+v/6v/n/+z/7P/r//D/7v/y//D/6v/c/9//6P/m//D/7//u/+//AAAAAAAA+v8AAAcA+P/+/wgAAwAGAAQABQAWABcAEQALAAkAEwAWABUAGQAUABYAGwARAAwADgALABgAHQAVAA0AEQATABQACgABAPj/9P/5////BgAPABAAEwAKAAgABwD+/wUADgAGAAgADQAMAA4ACgAIAAIAAAD9//z/BAAEAAoABgD6//7/AQD///j/5//u//P/+v/7//H/8P/9//3/7v/o/+P/6f/q/93/2//a/9v/2//f/+H/6P/h/+b/4f/a/+T/5f/t/+v/8/8EAPb/7v/q/+X/8v/2//r/BgANAAYABAAOAA0AEQATAA4ADgAEAAgACQAFAAkAFAASAA4AEwASABEADwAVAA4ADAADAPz/BgACAAUABQD4/+v/7//v//T//P/z//T/+v///wIA/v/6//T/8//0//T/6f/0//v/+v/w//P/9f/r/+b/4v/n/+3/7//4/wkABgAHAAUA/P/3/+f/+v/6//v/AQAHAAsACgAMAAkAAAD7/wAA/f/9//v/+//8//3/DQASAAoAEQARAAgA/f/+/wEACwAVABEAEQAQABAADgAJAAsAGgAQAA4ABQAFAAgACAAMAP7//v/8////BQAEAA0ACQAFAAcABAAEAAkAAwAAAPz/AAACAP//+//1//X/+v/6/wUAEgAQAAwADAALAAcABAD//wAAAgAFABMADwADAAAA///3//7/BgAEAAcABgAAAP//AgANABcAAAD8/wQAAwALAPz/7//x//T/9f/x//j////2//r/7P/z/wEA+v/1//X/7f/z//P/9//5//f//f8AAP3/AQARABEAAgALAAQA//8BAAUAAAAEABIABgABAPv/+v/8//z/AAAGABIACwAHAAcABgAFAAEAAQAIAAkACAAAAAgADQAQAAQA9//6/wEAAAD9/wMAAQACAAQABQAGAP//CgAPAAIABwAHAAkAAAD4//7/AgABAAEA/v///wAAAADz//7//f/r/+n/7v/j/+z/8//z//n/8//x//L/7P/z//f/8v/0//T/8v/p/+f/6//w/+v/6v/q/+z/8P/0//3//f///+7/6v/+//v//P/9//7////z//T/7P/v//D/7P/y/+r/7//1//7/BwABAP////8CAAAAAwAFAAcAAAAJAAsADgAaAA8A+P/5/wUA/P/6//7/AgABAAQABAD9//3/AAD//wYACgAIAAMABgAGAAgADAAQAAkABgAJAA4ADAANAAsACgAcABQAAgAGAAgAAgD5//n/AgAJAP//9//z//z/CAAHABYAGAAQABIACQD5//z//v/y//v/AAAAAAMAAgAGAAQAAAD2//j/7v/t/wAA//8AAAoA//8AAAoADwD8/wMA+v/m/+7/8f/7//z///8DAAAAEAASABEACwAFAAQA/f/+/wcABgAMABUACwANAAwACQAOAAwABQACAP//BgDx//L/9f/9/wEAAQAOAPD/7//o/+//8//3//P/zv/a/9//3v/k/+j/7f/g/9n/2//i/+n/6//p/+j/7f/w/+z/6//1/+v/7P/r/+f/9v/5//v/+f/4//j/8v/1//v/9f/1//j/8v/1//z/BwD//wAADAAJAAwA9//4//v/+P8DAPj/+P8IAA4ABwAFAAoAEQARABgAFQAIAAYAAQAEAAoADQAAAPn/AgAJAAQAAQAFAAcAAgAHAP3/CAAcABYAGwAfABwAFgAPABMADgAFAAYACgAGAAsAAAD6//n/9f/4/wMA/v/t//f/9//y//H/9v/0/+X/8v/k/+r/6f/u/+3/3f/4//n/7P/q//X/8v/r//L/AAAGAAgAGgAMAAQACAAHABMAFQAhABkABgABAAMACwANAAcACgASAAkA//8IAAcAAQAJAAcABwALAA4ADwAHAPj///8BAAUABgDt/+7//v8JAAsAGgASABAAEAAFAAoACgACAPz////z//L/9P/7/wcAEAAMAAAABQD8/+7/9//v//X/+//h/+//+//5/wYAAgAIAAYAAAAEABoACQACAP//+/8EAAYABAD6/wIA8//z//T/8v/7/wAADgAHAP///P/4/wAAAAD5/wEABAACAAEA+/8DAAAAAAAAAAAAAQAAAAEACQAIAP7/AwAEAP3/BgALAA8ABwAEAP3/+v/6//v/+f/1//v/+f/4//3///8AAPz/8v/4//r/6v/s//f/9v/y//P/9////wkAAADt//H/8//3//v//f8CAP3///8GAAAAAQD5/+//8v/7//X/8f/7//n/+//+/wAACgANAAQA/f8BAAgABwACABYAGgAZABAAEQAbABwAKQAmABwAGgASABcAFgAOABUAEgAMABMAFgANAAMACAAJAAAA/v/+/wAAAQABAAIA+P/4//v/+P/6//P/9P/1////AAD2//b/7P/k//D/+f8AAAMA/P/7/wYABgADAAYA+/8BAAcAAQD///7/BQAGAPb/9f8AAP3/+/////j/8f/x//X//f/2//P/7P/m/+r/4v/l/+7/4f/m/+f/2P/j/+r/5//t/+v/7//y//P/6//x//P/9//y/+z/8v/2//L/8f/6/wAACAAFAP//BwAAAAcABwARABgAFwATABIAEgALAAkACwAKABQAHwAbABAABQAJAAoABAANABQA/P8EABkADQAUAAwABQAJAAIADAAMAAgACQAHAAcA/v/x//n//f8CAAEACwAGAPv//v/w//b/+////wMAAAAAAAAA//8AAP7/BgAFAPL/9f/4/wAA/f/0//H/6P/z//z/AgADAPz//P/5//T/+f/z//f//v/2//T/+//7//7/+f/5/wAABwD///T/9P/x//L/+P8AAAAAAAAGAAAAAgADAAAADQAPAAwAEQAJABAAEwASACAAFwANAAkABAAHAAgAEQAUAA0ADwAgABsAFgAYABAADwAQAA0ADwAQABEADAAAAP3/CgAUAAwA/v8GAAIA/v8BAPf//f/+/woAGgANAAIAAQD9/wUABAAIABEAFQAUAAUA9v/1//n/9P/s//f/+v///wIAAAAJAAAA/P/4//3/EQAVAAUA/v////3/9/8CAP///P8AAPL//P8CAAAA+f/o/+r/8//t//P/9f/+//T/8v/0//f/9f/u//v/9v/1//L/3v/p/+P/4//0//L/AAAGAAMAAQD+/wMABQD6//b/9v/4//n//f8FAP7/+P/8//z/+f/5//n/5v/Z/9v/1v/Z/93/5v/m/+H/5f/v//T/7v/t//j/7//p/+f/7f/v//T/AAAAAPn/9v/6//f//v/4//b/9//3/wAAAwACAAAAAAACAAAAAAABAAsADgAJAAoAFwAYABcAIwAfAB8AGAATABMADwAWACMAHwAiACYAFQAVABgAFgAbABoAHgAcABIACQADAAcACgAYABgAEQATAA4ABwAGAAQABAAHABQAFwANAAsADgAMAAkAAQADAAUADAAQAAgABwALAAkADwAQABMACgACAAAA/P8AAAMACAAKABIAEAAGAPT/7P/s/+z/8f/0//P/8P/y//D/6f/s/+z/8f/v/+j/6v/s/+z/6P/s/+n/4P/k/+//9f/5//3/BwALAAgAAwAKAAMA/P/5//7//v8CAAMABwAHAAYACQASABMAGAAkAB4ADwAVAAsACQAQABgAEwAWABcAFQAQABIAGwAZABYAHAAWABsAIAAfAB8AHAAgACUAIAAjACIAHQAYABkAJQAnAB8AGgAZACYAHwAfABkAFgAMAPX/8f/1/wMAAgD+//b/+//3//P/9f8AAAMA9f/w/+T/2//X/9H/1f/W/93/3v/S/83/yv/I/8T/xv/I/8f/yP/P/8//xP/A/8f/2P/Y/9v/1f/M/8v/yf/G/7//vf/E/8b/z//Y/9v/4f/j//D/7v/r/+//6v/n/+r/5//m/+3/7v/z/wMAAAAEAAgA//8NABMAEQAOAAQAAgALAAsADAAXABYAGwATABMAEAARABIAGAAYACUAJQAgADQAMAAlACkAMAA3ADIALAApACYAIgAeACUAHwAlADUALQAhAB8AGgAbACcALgAuACwAJQAmACQAHgAnACAAHQAdABsAFgAZABwAGgARAA4ABwABAAAA/P/6//b/7v/o/+v/5//i/+T/7v/w//n/9f/v//H/8f/u//H/9v/0//v/AwAAAAUABgDz//b/9f/2//b/+f/4//r/AQAEAAgABwD8/+r/5P/m/+D/4v/s/wMA+f/v/+T/4v/i/+T/7//s//H/4f/m//H/6P/d/93/3v/i/+T/6f/p/+L/3f/Z/9//7v/u//L/8//q/+r/5//s//f//f8AAP////8EAAYACQAEAPb//v8FAAIACwANAAsAEwASAA4AGgAZABIAEgAOAAsACgAGABUAFgAVABwAGQAZABIADgAOAAsACAADAAIACAATABgAEwATAA8ACwANAAoAGgAaABQAGAAaABQAEgAdABsAGgAWABQAFwAJAA4AGwAcABsAFgARAA4ADgAUAA0ADwAKAAMAAQD8/wMABAACAAgAAQDz/+P/6v/n/+D/2v/d/+b/5//p/+j/6P/m/9D/yP/L/87/yv/K/8f/yP/I/8r/1v/R/83/zf/R/9b/3P/h/9z/2v/d/+D/4f/k/+b/6P/v/+r/7v/p/+L/6v/g/9r/6v/r/+//5f/h/+P/6f/k/+z/9//6//X/8v/2//b//v/8//X/+P/+/wgADgAHAAoADgATABUAEQAQAA8ADQAZABkAGQAqACUAEQALABIAGwAiACgALwAwADAALAAuAC0AKQArACAAIQAgACUAKwApACIAIQAkACAALwAoABsAHQAXABkAFAAVABsAGAAcAB8AJwAbABYAHgARAAcACQAEAAAAAwACAAIA///5//b/9f/2/+//5//r/+L/3f/b/9b/3v/g/9r/1P/W/+D/2P/Y/9r/2f/h/+X/4v/j/+H/5P/g/9//3v/j/+X/6f/r//P/8//0//X/8P/w//b/9f/2//z/+//8//v/AAD9/wEADQAOAAoABAAJAA4ACQAKABMADwATACAAJQAoACQAHgAYABsAFAAUAB0AGgAYACcAQABIAEAAPAA7ADgANAAxADsAQQA8ADcANAA4AEAAOAAyAC8AJQAmACIAJwAhAB8AGgAcABcAGAAYABIACAACAAEAAAD5//3/+//9//v/8f/y//P/8f/3//r/9f/y//D/8//1//b/8//n/+7/7P/h/+P/2P/a/9//4v/b/9r/1P/S/9P/z//L/8r/y//F/8j/yP+3/7b/s/+7/7n/v//E/7j/tv+3/7T/uP+y/63/tf+3/7j/u//B/9n/1P/J/8j/wv/K/8z/zP/T/9j/1//a/9//5f/t//b/+f8CAAIA///+/wUABQAHABEADQALABQAIAAjAB8AIAAfABQAFgAgACEAGAAjACgAKQAqACwALQAuADEAMQA1ADkAOAA4ADIAOQA8ADUANQA6ADcAPAA9AEIARgBFAEoASwBEAEoATQBPAEcAPQA/AEMASwBOAEwARgA+AEMAOgA0ADEAMAAwADkAOgAyADIANwAdABMAFgAWABQACAAKAAkAAgABAAcAAQD9/wAA/P/0//X//f////r/+////wEABQACAPv/9v/q/+3/6f/q/+n/6f/i/9//2P/V/9j/1//V/8//xv/G/7T/v/+7/7v/xP+9/8L/wv/B/7n/tf+2/7r/v//G/9D/xv/J/8//xP/B/8X/xf/L/8r/0f/P/+D/4f/h/+X/7P/0//T/9P/t/+v/9f/5////BgAGABkAGwAYABoAIAAeABsAGwAdABwAHAAbACQAKwA0AC8AMQAuADIAMwA2ADwANAA2AEAARABEAEAAQwA7AD0AOwA7AD0APABDADYAKQApAC4AMgAzADcANAApACcAJwAjACIAHgAdABkADQASAAUA+v/1//L/6//s//L/8//i/+D/4P/g/97/4//h/9j/1//W/9j/1f/T/9H/1P/R/8z/x//I/73/v//B/8D/xf/E/8n/zf/E/8f/zv/O/9X/1f/U/83/zP/P/8b/zv/R/9r/2//c/9r/3f/p/+f/5v/o/+j/6v/v//D/9P/1//n/AQD//wgACwAOAA4ADgALABUAGAAXABsAGgAiACAAIwAmACgAJQA4AD4AQABJAEwARwBIAEwASgA7ADgANQAyADkANwAzAEAARQBAAEAAOQA2AD8APQA8ADgAKwAYABoAIgApACwAJQAdACAAIQAXABMAGAAWAAIAAAAAAP7/9//5//f/8f/w//H/7//z//b/8P/p/+z/5f/i/+P/4v/j/9z/zf/P/9L/zv/d/+//3//d/9//3f/Y/9j/2f/T/9X/0//b/9b/xP/L/9T/0//Q/9D/zv/P/9b/1P/c/+P/4P/l/+n/7f/u/9r/1P/g/+D/4v/o/+n/7v/5//n//f8RABAADgACAP//BwAHABAAEwAXAB4AIQAnACUAGQAdACMAGQAYABoAKgA3ADgANwA2ADcANgA2AC4AJgAqADIALwAvADUANAAuACcAKAAlACQAHAAcAB4AFwAVABQADwALAAoADgAVAAwACgAGAAYAFwATABQAHwAdABQAGAAXABoAEwAEAP3/7v/l/+b/4f/k//H/9P/5//n/+f///+z/6f/t/+n/5f/f/9r/3//m/+7/7f/x/+z/3//X/9P/3P/e/9//6f/s//T/9P/4/wIA/f/0//D/1f/U/9r/0//Z/+P/4//q//z/+//z//L/5//v/+j/4v/l/+j/7f/t//X/9//6//z/+//8//7/9v/4//r/9P/y/+j/3f/o/+f/4v/s/+3/+P8AAAAACgANABIAEgAIAAYAEQARAAMAAwADAAIAEwAVACAAMAAyADUANAA6ADQAKQAlACIAFwAWABkAGAAdACgAKwAoACkAHQANAAoACAAPABcAEwATABwAHAAfABkACwAGAAkAAAAAAAAAAgD5/+//+v8DAA0ACwAIAAwAAwAIAAwACAAMAAgACAAMAA4AEQAMAAEA/f/6//D/5//d/97/3//i/+H/6v/z//L/8v/z//X/BAABAP///v/7/wAA9v/1//X/7v/o/+L/4f/h/+X/6f/s//b/+P/5//v/8v/v/+r/5P/n/+L/5v/h/+X/6v/x//v//f8GAP//9f/5/+7/9P/9//z/+/8AAP3/AAAGAAoAEAAPAAkACQACAAYAAAD8/wYABwAGAAcABQAPABwAGAAaAB8AHQAZABMAEQASABIAEQAYABMAFAARAAgACgAEAAAAAwACAA4AFwAeABsAFAARABQACwAFAAEAAAD+/wAAAQAGAA8ABAD4//D/7v/o/9j/2P/h/9v/3P/d/+X/6f/v//n/AQAAAPX/7P/a/9j/2//c/+b/6f/q//D/7//x/+3/8v/3//b////7/wEA/P///wAA/P/7//j/6v/w//X/8v/u/+//7P/z//n/+f/7/wgABQADAAcABwANAAsACwAFAAQAAgD9////+v/4//v/+f8AAAQAAQAEAAQABQAKAA4AFAARAAsABQAGAAUABAAAAPn/9//1//P/7//1//v///8DAAEAAAABAAUABQAIAAoACQANAAQAAAAAAAIAAAAAAP//9f/u//f//f8KABUAFQAfABgAGAAUAA4AAAACAAQA9//z/+3/8P/q/93/3//q////AAAAAAgABwALAAYACAALAAcACAAAAAAA+v/0//z/+//2//T/6v/r//L//v8JAAwAEAARABQAEwASACIAGwAAAP//+P/v//X/+//1//D/7//w/+//7v/3//v//P/9//7/9P/7/wQAEwAMAAIA+P/y//v//f////z/6//t//L/8P/3//z/+v/7//3/+v/8/wMABwASAB0AEwAOAAoAAQACAAQACAAGAAoABwABAAAA///1//H/+v/6//3/AwD//wEAAwAHABMAEwANAAsAAADz//r//v/8//v/9v/w/+v/7P/2//v/+/8AAAUACQAQAA0AGgAWABoAGQARAAsA/f8AAAAA+v/7//b/+P////v//P/+////AQD+/wgAEgAQAA8ADgASABEADAAKAAYABAD8//3//f/5//r///8DAA8AGgAcABUAFgAWABUAFAAEAAYABAAAAP//+P/1//T/6//n//H/+f8CAP3/AwAVABMAGAAUABAACAABAAIA+v/5//n/8//w/+7/5f/q//n/+f/5/wcACwAQABIADQAMAA0AAAD///r/+//w/+r/7v/o/+D/3v/h/+T/6//w/+3/7v/p/+n/8//z//j/8//k/+f/7v/x//P/7//p/+j/5v/i/9b/2P/d/9//5P/m/+r/6//1/wMA/f/0//b/9v/0//b/9v/4//X/9v/5//D/4//l/+z/9f/7//z///8AAAAABwASAAwABwALAA4ADgAGAAIACAANAAwACAAJAAsAEAAZABkAGAAUAA4AFQAUAB4AIQAZABUAGAAYABAAEwASAA8ACQAAAAMACgAOABAAEgASABUAEgANAAoACgAGAAcAAwALABAACQAGAAMA+//2//X/AQAAAAcACgAGAA8AEwAOABMABwABAAMA//8BAAEA/v////P/9v/0//f/AQAKABYAEAANAA0ACgARABYADwAGAAwADAAQAAoA/P/4/+3/8P/1//T/7P/q//P//v8CAAYACgALAAMABAABAO3/8//9//v/BAAEAP///f8DAAoAHQAZABIADAAFAAgAFQAYABMAEQANAA0AEQAQAA0ADQALABIAEwAAAAAABgAEAPn/+f/8//n//v/3//z/AwAAAP7/AQD6//z/BwAEAPv/+//2//n/CQALAAQAAgAAAA8AEAAPABMACgAEAAIAAgAFAAMABgAJABEADgARABoAEgATABQADQAQAAYA+f/9/woAEAAPAAoA9v/q/+n/4f/l/+D/3//s//H/8P/r/+3/7P/u/+7/8v/t/+n/5P/i/+H/2//j/+n/7P/s//T/8//y//T//P/+//3/+P///wUAAwADAAAAAgD+//v/8//r/+r/6P/1/+//9P/z/+z/8//w//H/+f/2//D/5v/j/+j/7//m/9n/2//g/+r/7//o/+b/6f/v/wUABwAAAP////8AAP7///8DAP//+//0//j/9P/9//3/AgAIAAMAAAABAAcABwAGABgAFgASAAsADAAOABIAGwASAAoACAAKAA0ADAALAA8ADAAOABQAEQAPAA4ADQAPABUAGQAYABcAEQATABYAHQAaABcAEAAXABYAFAALAAQACwALAA4ADAAKAAkADgAKAAkADQAKAAsABgAKAAQA/P/7//z/+v/9////+f/4//T/6v/y//H/6v/s//D/9P/4//b/8//y/+v/8//1/+b/4v/k/+j/7f/w/+///f8AAAQACQAAAO//9P8AAP3//f/+/wEAEQAMAAMA+//2//n////+/wcAAgAIAA4AFgAdAB0AFgAVAA4AEAARAAkABgAFAAIAAAD///b/9v/5//j/+v/8/wMABAAKAAsAGwAUABEACQADAAEAAQD9//f/8//0/+3/9P/v//D/8f/x//b/+f/7//j/+/8AAPr/+//6//H/7//y//j/+v/1//j//v/2/+7/5P/q/+v/9P/3//T/+f/8//3/AAD+//3/CgAMABIAIAAcABYAFwARABAADwAOAAwAAwAFAAoACQAKAAUABQAJAAoAEwAUABQACgAHAAUABgAGAAgACgAPAAsABAAFAAMABgAKAAIAAAACAPz/9P/1//X/+f///wUAAADw/+v/3//e/+H/4v/m/+H/5f/o/+D/4P/p/+T/4P/k/+X/4v/h/+D/5v/k/9n/2f/l/+b/3f/h/+X/5v/v/+z/+//+//r/6v/n/+7/8P/w//H/9P/9//3//f/x/+3/6//0//v/BwADAPz/CgAAAP7/CwAUABUAGAA=\" type=\"audio/wav\" />\n",
              "                    Your browser does not support the audio element.\n",
              "                </audio>\n",
              "              "
            ]
          },
          "metadata": {}
        }
      ]
    },
    {
      "cell_type": "markdown",
      "source": [
        "# Below we have written summarized code under a function to be leveraged at the time of testing."
      ],
      "metadata": {
        "id": "ipbkSYMyvo6d"
      }
    },
    {
      "cell_type": "code",
      "source": [
        "def get_transcription(audio_path):\n",
        "  # load our wav file\n",
        "  speech, sr = torchaudio.load(audio_path)\n",
        "  speech = speech.squeeze()\n",
        "  # or using librosa\n",
        "  # speech, sr = librosa.load(audio_file, sr=16000)\n",
        "  # resample from whatever the audio sampling rate to 16000\n",
        "  resampler = torchaudio.transforms.Resample(sr, 16000)\n",
        "  speech = resampler(speech)\n",
        "  # tokenize our wav\n",
        "  input_values = processor(speech, return_tensors=\"pt\", sampling_rate=16000)[\"input_values\"]\n",
        "  # perform inference\n",
        "  logits = model(input_values)[\"logits\"]\n",
        "  # use argmax to get the predicted IDs\n",
        "  predicted_ids = torch.argmax(logits, dim=-1)\n",
        "  # decode the IDs to text\n",
        "  transcription = processor.decode(predicted_ids[0])\n",
        "  return transcription.lower()"
      ],
      "metadata": {
        "id": "ZBcynJCsveIo"
      },
      "execution_count": 20,
      "outputs": []
    },
    {
      "cell_type": "code",
      "source": [
        "# get the transcription of the recorded audio\n",
        "get_transcription(\"recorded.wav\")"
      ],
      "metadata": {
        "colab": {
          "base_uri": "https://localhost:8080/",
          "height": 35
        },
        "id": "dAqyU9ABvFra",
        "outputId": "75057d06-6972-41b0-b3d4-4f6be2621a04"
      },
      "execution_count": 23,
      "outputs": [
        {
          "output_type": "execute_result",
          "data": {
            "text/plain": [
              "\"if you're doing a ite money project will e ite mondy project\""
            ],
            "application/vnd.google.colaboratory.intrinsic+json": {
              "type": "string"
            }
          },
          "metadata": {},
          "execution_count": 23
        }
      ]
    },
    {
      "cell_type": "code",
      "source": [
        ""
      ],
      "metadata": {
        "id": "OVAyy93UvU7S"
      },
      "execution_count": null,
      "outputs": []
    }
  ]
}